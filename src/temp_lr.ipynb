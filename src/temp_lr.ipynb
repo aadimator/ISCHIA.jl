{
 "cells": [
  {
   "cell_type": "markdown",
   "metadata": {},
   "source": [
    "# Temporary Worksapce\n",
    "\n",
    "To test things out"
   ]
  },
  {
   "cell_type": "code",
   "execution_count": 1,
   "metadata": {},
   "outputs": [],
   "source": [
    "using Muon\n",
    "using RData\n",
    "using RCall\n",
    "using Random\n",
    "using DataFrames\n",
    "using Statistics\n",
    "using Combinatorics"
   ]
  },
  {
   "cell_type": "code",
   "execution_count": 2,
   "metadata": {},
   "outputs": [
    {
     "data": {
      "text/plain": [
       "AnnData object 2185 ✕ 18910"
      ]
     },
     "metadata": {},
     "output_type": "display_data"
    }
   ],
   "source": [
    "mdata = readh5mu(\"../data/mudata.h5mu\")\n",
    "adata = readh5ad(\"../data/SCT.h5ad\")\n",
    "spatial = readh5ad(\"../data/Spatial.h5ad\")\n",
    "lr_network = load(\"../data/lr_network.rds\");\n",
    "\n",
    "# display(first(adata.obs, 5))\n",
    "# display(first(adata.var, 5))\n",
    "adata"
   ]
  },
  {
   "cell_type": "code",
   "execution_count": 3,
   "metadata": {},
   "outputs": [],
   "source": [
    "# Create LR_Pairs column\n",
    "lr_network[!, :LR_Pairs] = string.(lr_network.from, \"_\", lr_network.to);\n",
    "lr_network = lr_network[:, [:from, :to, :LR_Pairs]]\n",
    "\n",
    "# Filter lr_network based on conditions\n",
    "from_filter = in.(lr_network[:, :from], Ref(adata.var_names))\n",
    "to_filter = in.(lr_network[:, :to], Ref(adata.var_names))\n",
    "all_LR_network = lr_network[from_filter .& to_filter, :]\n",
    "\n",
    "# To reduce the computation time for this example, we randomly sample from the whole dataset of LR interactions\n",
    "\n",
    "# all_LR_network = all_LR_network[shuffle(1:size(all_LR_network_exp, 1)), :]\n",
    "all_LR_network = all_LR_network[1:min(3000, end), :]\n",
    "\n",
    "# Extract unique genes and common genes\n",
    "all_LR_genes = unique(vcat(all_LR_network[:, :from], all_LR_network[:, :to]))\n",
    "all_LR_genes_comm = intersect(all_LR_genes, collect(adata.var_names));\n",
    "\n",
    "# Create LR.pairs and LR.pairs.AllCombos\n",
    "LR_pairs = all_LR_network[:, :LR_Pairs]\n",
    "all_combos = [join(combo, \"_\") for combo in combinations(all_LR_genes_comm, 2)];"
   ]
  },
  {
   "cell_type": "code",
   "execution_count": 4,
   "metadata": {},
   "outputs": [],
   "source": [
    "# r_lr_pairs = [\"CSF1_CSF2RA\", \"WNT11_FZD3\", \"WNT11_FZD6\", \"WNT11_MUSK\", \"PTN_ALK\", \"WNT3_FZD3\", \"IHH_PTCH2\", \"SHH_PTCH2\", \"CCL26_CCR5\", \"DHH_PTCH1\", \"ADAM17_IL6R\", \"CCL26_CX3CR1\", \"MDK_NOTCH2\", \"IL10_IFNAR2\", \"PENK_OPRL1\", \"CNTF_CRLF1\", \"EDN1_EDNRB\", \"TGFB1_ITGB6\", \"VTN_ITGB6\", \"TGFB1_ERBB2\", \"TGFA_ERBB2\", \"ANGPT2_ITGA5\", \"COL1A1_ITGA5\", \"APP_SDC1\", \"APP_LRP1\", \"APP_KDR\", \"APP_NCSTN\", \"APP_NGFR\", \"APP_GPC1\", \"KNG1_RXFP4\", \"SPP1_SDC1\", \"CTSG_SDC1\", \"CALR_LRP1\", \"THBS1_LRP1\", \"CTSG_LRP1\", \"MDK_LRP1\", \"APOE_LRP1\", \"TGFB1_SDC2\", \"HGF_SDC2\", \"PF4_SDC2\", \"SERPINA1_SDC2\", \"TNFSF13_SDC2\", \"HSP90B1_TNFRSF1B\", \"CALM1_TNFRSF1B\", \"GZMB_NOTCH1\", \"CSF2_IL3RA\", \"MDK_SDC4\", \"TGFB3_SDC4\", \"PSEN1_NOTCH4\", \"PSEN1_NOTCH3\", \"PSEN1_NOTCH2\", \"FN1_TSHR\", \"FN1_ITGB5\", \"MMP9_CD44\", \"MMP9_EPHB2\", \"TNFSF9_TRAF2\", \"TNFSF4_TRAF2\", \"CALM1_TRAF2\", \"TNF_PTPRZ1\", \"CCL22_CCR7\", \"GDF9_ACVR2A\", \"FGF7_FGFR3\", \"FGF7_FGFR4\", \"WNT5A_FZD1\", \"COL1A1_CD36\", \"CALM1_FAS\", \"TNFSF13_FAS\", \"NTN1_NEO1\", \"CCL3_ACKR4\", \"CTSG_CXCR4\", \"TGFB1_BMPR1A\", \"GDF9_BMPR1A\", \"VTN_PLAUR\", \"KNG1_PLAUR\", \"CCL2_CCR10\", \"TDGF1_ACVR1C\", \"CCL13_ACKR4\", \"CCL11_ACKR4\", \"CCL8_ACKR4\", \"CXCL13_ACKR4\", \"CCL5_ACKR4\", \"CCL4_ACKR4\", \"EFNA1_EPHB1\", \"TGFB1_ITGAV\", \"TGFB1_ITGB8\", \"PROS1_RPSA\", \"TNFSF13_TNFRSF1A\", \"CALM1_TNFRSF1A\", \"CCL5_CXCR5\", \"CCL4_CXCR5\", \"PTN_PTPRS\", \"CTSG_F2RL1\", \"GDF5_ACVR1\", \"GSTP1_IL7R\", \"GDF5_ACVR2B\", \"FGF2_CD44\", \"VEGFA_PTPRB\", \"CCL25_CCR10\", \"TF_IL7R\", \"A2M_TNFRSF14\", \"CXCL13_CCR10\", \"PF4_CXCR3\", \"CXCL13_CXCR3\", \"NPY_MC4R\", \"PLAU_IGF2R\", \"BDNF_SORT1\", \"LRPAP1_SORT1\", \"NTS_SORT1\", \"SAA1_FPR1\", \"LRPAP1_SORL1\", \"INHBA_TGFBR3\", \"CALM1_ADCYAP1R1\", \"CALM1_GP6\", \"CALM1_GLP1R\", \"CALM1_VIPR1\", \"APOE_SCARB1\", \"VEGFA_EPHB2\", \"VEGFA_PTPRZ1\", \"VEGFA_GPC1\", \"C3_C5AR2\", \"LRPAP1_LRP8\", \"GCG_GIPR\", \"LRPAP1_VLDLR\", \"KNG1_GP1BA\", \"TNFSF13_TNFRSF14\", \"NPPA_NPR2\", \"EDN3_EDNRA\", \"CALM1_PTH1R\", \"PROC_THBD\", \"LRRC4_NTNG1\", \"INHBB_ACVR1C\", \"CORT_CXCR6\", \"CORT_GALR2\", \"CORT_FPR1\", \"CORT_C5AR1\", \"CORT_CXCR1\", \"CORT_CXCR2\", \"CORT_FPR2\", \"CORT_ACKR3\", \"CORT_NPY1R\", \"CORT_HTR1D\", \"CORT_BDKRB2\", \"CORT_CCR1\", \"CORT_CCR7\", \"CORT_CXCR5\", \"CORT_APLNR\", \"CORT_OPRD1\", \"CORT_OPRL1\", \"CORT_CCR2\", \"CORT_CCR10\", \"CORT_BDKRB1\", \"CORT_GALR1\", \"CORT_NPY2R\", \"CORT_CXCR3\", \"CORT_CCR5\", \"CORT_CCR6\", \"CORT_CCR9\", \"CORT_CXCR4\", \"CORT_P2RY14\", \"CORT_C3AR1\", \"CORT_RXFP4\", \"CORT_LPAR1\", \"CORT_NMUR1\", \"CORT_LPAR2\", \"CORT_PTGDR2\", \"LEFTY2_ACVR2A\", \"LEFTY2_ACVR1B\", \"LEFTY2_ACVR1C\", \"AGRN_ITGAV\", \"AGRN_LRP1\", \"AGRN_PTPRS\", \"AGRN_LRP8\", \"CCL21_GALR2\", \"CCL21_FPR1\", \"CCL21_C5AR1\", \"CCL21_CXCR1\", \"CCL21_CXCR2\", \"CCL21_FPR2\", \"CCL21_ACKR3\", \"CCL21_NPY1R\", \"CCL21_HTR1D\", \"CCL21_BDKRB2\", \"CCL21_SSTR1\", \"CCL21_SSTR2\", \"CCL21_CCR1\", \"CCL21_CXCR5\", \"CCL21_SSTR3\", \"CCL21_APLNR\", \"CCL21_OPRD1\", \"CCL21_OPRL1\", \"CCL21_CCR2\", \"CCL21_CCR10\", \"CCL21_BDKRB1\", \"CCL21_GALR1\", \"CCL21_NPY2R\", \"CCL21_CCR5\", \"CCL21_CCR6\", \"CCL21_CCR9\", \"CCL21_CXCR4\", \"CCL21_P2RY14\", \"CCL21_C3AR1\", \"CCL21_RXFP4\", \"CCL21_LPAR1\", \"CCL21_NMUR1\", \"CCL21_LPAR2\", \"CCL21_PTGDR2\", \"NRG2_EGFR\", \"CXCL11_GALR2\", \"CXCL11_FPR1\", \"CXCL11_C5AR1\", \"CXCL11_CXCR1\", \"CXCL11_CXCR2\", \"CXCL11_FPR2\", \"CXCL11_NPY1R\", \"CXCL11_HTR1D\", \"CXCL11_BDKRB2\", \"CXCL11_SSTR1\", \"CXCL11_SSTR2\", \"CXCL11_CCR1\", \"CXCL11_CCR7\", \"CXCL11_CXCR5\", \"CXCL11_SSTR3\", \"CXCL11_APLNR\", \"CXCL11_OPRD1\", \"CXCL11_OPRL1\", \"CXCL11_CCR2\", \"CXCL11_CCR10\", \"CXCL11_BDKRB1\", \"CXCL11_GALR1\", \"CXCL11_NPY2R\", \"CXCL11_CCR5\", \"CXCL11_CCR6\", \"CXCL11_CCR9\", \"CXCL11_CXCR4\", \"CXCL11_P2RY14\", \"CXCL11_C3AR1\", \"CXCL11_RXFP4\", \"CXCL11_LPAR1\", \"CXCL11_NMUR1\", \"CXCL11_LPAR2\", \"CXCL11_PTGDR2\", \"TNFSF11_TRAF2\", \"NPFF_TACR2\", \"NPFF_EDNRB\", \"NPFF_FPR2\", \"NPFF_EDNRA\", \"NPFF_TACR1\", \"NPFF_F2R\", \"NPFF_HTR2A\", \"NPFF_BDKRB2\", \"NPFF_AGTR1\", \"NPFF_OXTR\", \"NPFF_NTSR1\", \"NPFF_HRH1\", \"NPFF_AVPR1A\", \"NPFF_HTR2B\", \"NPFF_XCR1\", \"NPFF_BDKRB1\", \"NPFF_GCGR\", \"NPFF_AVPR1B\", \"NPFF_F2RL1\", \"NPFF_LPAR1\", \"NPFF_KISS1R\", \"NPFF_F2RL3\", \"NPFF_NMUR1\", \"NPFF_LPAR2\", \"CCL25_GALR2\", \"CCL25_FPR1\", \"CCL25_C5AR1\", \"CCL25_CXCR1\", \"CCL25_CXCR2\", \"CCL25_FPR2\", \"CCL25_ACKR3\", \"CCL25_NPY1R\", \"CCL25_HTR1D\", \"CCL25_BDKRB2\", \"CCL25_SSTR1\", \"CCL25_SSTR2\", \"CCL25_CCR1\", \"CCL25_CCR7\", \"CCL25_CXCR5\", \"CCL25_SSTR3\", \"CCL25_APLNR\", \"CCL25_OPRD1\", \"CCL25_OPRL1\", \"CCL25_CCR2\", \"CCL25_BDKRB1\", \"CCL25_GALR1\", \"CCL25_NPY2R\", \"CCL25_CXCR3\", \"CCL25_CCR5\", \"CCL25_CCR6\", \"CCL25_CXCR4\", \"CCL25_P2RY14\", \"CCL25_C3AR1\", \"CCL25_RXFP4\", \"CCL25_LPAR1\", \"CCL25_NMUR1\", \"CCL25_LPAR2\", \"CCL25_PTGDR2\", \"DHH_SMO\", \"TNFSF12_TRAF2\", \"HCRT_TACR2\", \"HCRT_EDNRB\", \"HCRT_FPR2\", \"HCRT_EDNRA\", \"HCRT_TACR1\", \"HCRT_F2R\", \"HCRT_HTR2A\", \"HCRT_BDKRB2\", \"HCRT_AGTR1\", \"HCRT_OXTR\", \"HCRT_NTSR1\", \"HCRT_HRH1\", \"HCRT_AVPR1A\", \"HCRT_HTR2B\", \"HCRT_XCR1\", \"HCRT_BDKRB1\", \"HCRT_GCGR\", \"HCRT_AVPR1B\", \"HCRT_F2RL1\", \"HCRT_LPAR1\", \"HCRT_KISS1R\", \"HCRT_F2RL3\", \"HCRT_NPFFR1\", \"HCRT_NMUR1\", \"HCRT_LPAR2\", \"EFNA2_EPHB2\", \"EFNA2_TGFBR1\", \"EFNA2_EPHB3\", \"EFNA2_EPHB4\", \"EFNA2_EPHB1\", \"CXCL13_FPR1\", \"CXCL13_C5AR1\", \"CXCL13_CXCR1\", \"CXCL13_CXCR2\", \"CXCL13_FPR2\", \"CXCL13_ACKR3\", \"CXCL13_NPY1R\", \"CXCL13_HTR1D\", \"CXCL13_BDKRB2\", \"CXCL13_SSTR1\", \"CXCL13_SSTR2\", \"CXCL13_CCR1\", \"CXCL13_CCR7\", \"CXCL13_SSTR3\", \"CXCL13_APLNR\", \"CXCL13_OPRD1\", \"CXCL13_OPRL1\", \"CXCL13_CCR2\", \"CXCL13_BDKRB1\", \"CXCL13_GALR1\", \"CXCL13_NPY2R\", \"CXCL13_CCR5\", \"CXCL13_CCR6\", \"CXCL13_CCR9\", \"CXCL13_CXCR4\", \"CXCL13_P2RY14\", \"CXCL13_C3AR1\", \"CXCL13_RXFP4\", \"CXCL13_LPAR1\", \"CXCL13_NMUR1\", \"CXCL13_LPAR2\", \"CXCL13_PTGDR2\", \"PSPN_GFRA3\", \"PSPN_GFRA1\", \"SLIT1_DCC\", \"SEMA7A_ITGA1\", \"SLIT2_DCC\", \"SLIT2_PTCH1\", \"SLIT2_ROBO3\", \"GDF11_TGFBR1\", \"GDF11_ACVR1C\", \"NTN1_ITGB4\", \"NTN1_ITGA6\", \"NTN1_ACVR1B\", \"NTN1_TGFBR1\", \"NTN1_NOTCH1\", \"NTN1_NOTCH2\", \"NTN1_PTCH1\", \"NTN1_UNC5A\", \"NTN1_ACVR1C\", \"NTN1_ROBO2\", \"NTN1_NOTCH3\", \"NTN1_PTCH2\", \"WNT11_FZD1\", \"PLAU_CD44\", \"AGT_TACR2\", \"AGT_FPR1\", \"AGT_C5AR1\", \"AGT_EDNRB\", \"AGT_CXCR1\", \"AGT_CXCR2\", \"AGT_FPR2\", \"AGT_EDNRA\", \"AGT_TACR1\", \"AGT_ACKR3\", \"AGT_F2R\", \"AGT_NPY1R\", \"AGT_HTR1D\", \"AGT_HTR2A\", \"AGT_BDKRB2\", \"AGT_OXTR\", \"AGT_SSTR1\", \"AGT_SSTR2\", \"AGT_NTSR1\", \"AGT_CCR1\", \"AGT_CCR7\", \"AGT_CXCR5\", \"AGT_SSTR3\", \"AGT_HRH1\", \"AGT_APLNR\", \"AGT_AVPR1A\", \"AGT_OPRD1\", \"AGT_OPRL1\", \"AGT_HTR2B\", \"AGT_CCR2\", \"AGT_CCR10\", \"AGT_XCR1\", \"AGT_BDKRB1\", \"AGT_GALR1\", \"AGT_GCGR\", \"AGT_AVPR1B\", \"AGT_NPY2R\", \"AGT_CXCR3\", \"AGT_CCR5\", \"AGT_CCR6\", \"AGT_CCR9\", \"AGT_F2RL1\", \"AGT_CXCR4\", \"AGT_P2RY14\", \"AGT_C3AR1\", \"AGT_RXFP4\", \"AGT_LPAR1\", \"AGT_KISS1R\", \"AGT_F2RL3\", \"AGT_NPFFR1\", \"AGT_NMUR1\", \"AGT_LPAR2\", \"AGT_PTGDR2\", \"A2M_TYRO3\", \"C3_FPR1\", \"C3_C5AR1\", \"C3_CXCR1\", \"C3_CXCR2\", \"C3_FPR2\", \"C3_ACKR3\", \"C3_NPY1R\", \"C3_HTR1D\", \"C3_BDKRB2\", \"C3_SSTR1\", \"C3_SSTR2\", \"C3_CCR1\", \"C3_CCR7\", \"C3_CXCR5\", \"C3_SSTR3\", \"C3_APLNR\", \"C3_OPRD1\", \"C3_OPRL1\", \"C3_CCR2\", \"C3_CCR10\", \"C3_BDKRB1\", \"C3_GALR1\", \"C3_NPY2R\", \"C3_CXCR3\", \"C3_CCR5\", \"C3_CCR6\", \"C3_CCR9\", \"C3_CXCR4\", \"C3_P2RY14\", \"C3_RXFP4\", \"C3_LPAR1\", \"C3_NMUR1\", \"C3_LPAR2\", \"C3_PTGDR2\", \"C5_FPR1\", \"C5_CXCR1\", \"C5_CXCR2\", \"C5_FPR2\", \"C5_ACKR3\", \"C5_NPY1R\", \"C5_HTR1D\", \"C5_BDKRB2\", \"C5_SSTR1\", \"C5_SSTR2\", \"C5_CCR1\", \"C5_CCR7\", \"C5_CXCR5\", \"C5_SSTR3\", \"C5_APLNR\", \"C5_OPRD1\", \"C5_OPRL1\", \"C5_CCR2\", \"C5_CCR10\", \"C5_BDKRB1\", \"C5_GALR1\", \"C5_NPY2R\", \"C5_CXCR3\", \"C5_CCR5\", \"C5_CCR6\"]\n",
    "# setdiff(r_lr_pairs, LR_pairs)\n",
    "# setdiff(LR_pairs, r_lr_pairs)"
   ]
  },
  {
   "cell_type": "code",
   "execution_count": 5,
   "metadata": {},
   "outputs": [
    {
     "data": {
      "text/plain": [
       "0.2"
      ]
     },
     "metadata": {},
     "output_type": "display_data"
    }
   ],
   "source": [
    "spatial_object = mdata[\"Spatial\"]\n",
    "COI = [\"CC4\"]\n",
    "Condition = unique(adata.obs[!, \"orig.ident\"])\n",
    "LR_list = all_LR_genes_comm\n",
    "LR_pairs = LR_pairs\n",
    "exp_threshold = 1\n",
    "corr_threshold = 0.2"
   ]
  },
  {
   "cell_type": "code",
   "execution_count": 6,
   "metadata": {},
   "outputs": [
    {
     "data": {
      "text/plain": [
       "2185×36601 SparseArrays.SparseMatrixCSC{Float64, Int32} with 5321609 stored entries:\n",
       "⎡⣿⣿⣿⣿⣿⣿⣿⣿⣿⣿⣿⣿⣿⣿⣿⣿⣿⣿⣿⣿⣿⣿⣿⣿⣿⣿⣿⣿⣿⣿⣿⣿⣿⣿⣿⣿⣿⣿⣿⣿⎤\n",
       "⎣⣿⣿⣿⣿⣿⣿⣿⣿⣿⣿⣿⣿⣿⣿⣿⣿⣿⣿⣿⣿⣿⣿⣿⣿⣿⣿⣿⣿⣿⣿⣿⣿⣿⣿⣿⣿⣿⣿⣿⣿⎦"
      ]
     },
     "metadata": {},
     "output_type": "display_data"
    }
   ],
   "source": [
    "# Extract the expression matrix from spatial_object\n",
    "spatial_object_exp = spatial_object.layers[\"counts\"]\n",
    "spatial_object_exp_norm = spatial_object.X\n",
    "spatial_object_exp_norm"
   ]
  },
  {
   "cell_type": "code",
   "execution_count": 7,
   "metadata": {},
   "outputs": [
    {
     "data": {
      "text/plain": [
       "AnnData object 2185 ✕ 758"
      ]
     },
     "metadata": {},
     "output_type": "display_data"
    }
   ],
   "source": [
    "# Subset the expression matrix for the interested ligands and receptors\n",
    "# spatial_obj_exp_LR_subset_raw = spatial_object_exp[:, indexin(LR_list, spatial_object.var.name)]\n",
    "spatial_obj_exp_LR_subset_raw = spatial_object[:, in.(spatial_object.var.name, Ref(LR_list))]\n",
    "# spatial_obj_exp_LR_subset_raw.layers[\"counts\"]"
   ]
  },
  {
   "cell_type": "code",
   "execution_count": 8,
   "metadata": {},
   "outputs": [
    {
     "data": {
      "text/plain": [
       "2148×567 SparseArrays.SparseMatrixCSC{Bool, Int32} with 86492 stored entries:\n",
       "⎡⣿⣿⣿⣿⣿⣿⣿⣿⣿⣿⡇⎤\n",
       "⎢⣿⣿⣿⣿⣿⣿⣿⣿⣿⣿⡇⎥\n",
       "⎢⣿⣿⣿⣿⣿⣿⣿⣿⣿⣿⡇⎥\n",
       "⎢⣿⣿⣿⣿⣿⣿⣿⣿⣿⣿⡇⎥\n",
       "⎢⣿⣿⣿⣿⣿⣿⣿⣿⣿⣿⡇⎥\n",
       "⎢⣿⣿⣿⣿⣿⣿⣿⣿⣿⣿⡇⎥\n",
       "⎢⣿⣿⣿⣿⣿⣿⣿⣿⣿⣿⡇⎥\n",
       "⎢⣿⣿⣿⣿⣿⣿⣿⣿⣿⣿⡇⎥\n",
       "⎢⣿⣿⣿⣿⣿⣿⣿⣿⣿⣿⡇⎥\n",
       "⎢⣿⣿⣿⣿⣿⣿⣿⣿⣿⣿⡇⎥\n",
       "⎢⣿⣿⣿⣿⣿⣿⣿⣿⣿⣿⡇⎥\n",
       "⎢⣿⣿⣿⣿⣿⣿⣿⣿⣿⣿⡇⎥\n",
       "⎢⣿⣿⣿⣿⣿⣿⣿⣿⣿⣿⡇⎥\n",
       "⎢⣿⣿⣿⣿⣿⣿⣿⣿⣿⣿⡇⎥\n",
       "⎢⣿⣿⣿⣿⣿⣿⣿⣿⣿⣿⡇⎥\n",
       "⎢⣿⣿⣿⣿⣿⣿⣿⣿⣿⣿⡇⎥\n",
       "⎢⣿⣿⣿⣿⣿⣿⣿⣿⣿⣿⡇⎥\n",
       "⎢⣿⣿⣿⣿⣿⣿⣿⣿⣿⣿⡇⎥\n",
       "⎢⣿⣿⣿⣿⣿⣿⣿⣿⣿⣿⡇⎥\n",
       "⎣⣿⣿⣿⣿⣿⣿⣿⣿⣿⣿⡇⎦"
      ]
     },
     "metadata": {},
     "output_type": "display_data"
    }
   ],
   "source": [
    "# Binarize the expression matrix based on the expression threshold\n",
    "spatial_obj_exp_LR_subset_raw_binary = spatial_obj_exp_LR_subset_raw.layers[\"counts\"] .> exp_threshold\n",
    "spatial_obj_exp_LR_subset_raw.layers[\"binary\"] = spatial_obj_exp_LR_subset_raw_binary\n",
    "\n",
    "LR_subset_raw_binary_mask_col = vec(sum(spatial_obj_exp_LR_subset_raw_binary, dims=1) .> 0)\n",
    "LR_subset_raw_binary_mask_row = vec(sum(spatial_obj_exp_LR_subset_raw_binary, dims=2) .> 0)\n",
    "\n",
    "LR_presence_absence = spatial_obj_exp_LR_subset_raw[LR_subset_raw_binary_mask_row, LR_subset_raw_binary_mask_col]\n",
    "# LR_presence_absence.layers[\"binary\"] = spatial_obj_exp_LR_subset_raw_binary[LR_subset_raw_binary_mask_row, LR_subset_raw_binary_mask_col]\n",
    "LR_presence_absence_mat = LR_presence_absence.layers[\"binary\"]"
   ]
  },
  {
   "cell_type": "code",
   "execution_count": 9,
   "metadata": {},
   "outputs": [],
   "source": [
    "# # Binarize the expression matrix based on the expression threshold\n",
    "# spatial_obj_exp_LR_subset_raw_binary = spatial_obj_exp_LR_subset_raw.layers[\"counts\"] .> exp_threshold\n",
    "# LR_subset_raw_binary_mask_col = vec(sum(spatial_obj_exp_LR_subset_raw_binary, dims=1) .> 0)\n",
    "# LR_subset_raw_binary_mask_row = vec(sum(spatial_obj_exp_LR_subset_raw_binary, dims=2) .> 0)\n",
    "# spatial_obj_exp_LR_subset_raw_binary = spatial_obj_exp_LR_subset_raw_binary[:, LR_subset_raw_binary_mask_col]\n",
    "# spatial_obj_exp_LR_subset_raw_binary = spatial_obj_exp_LR_subset_raw_binary[LR_subset_raw_binary_mask_row, :]\n",
    "# LR_presence_absence_mat = spatial_obj_exp_LR_subset_raw_binary\n",
    "# LR_presence_absence_mat"
   ]
  },
  {
   "cell_type": "code",
   "execution_count": 10,
   "metadata": {},
   "outputs": [
    {
     "data": {
      "text/plain": [
       "14"
      ]
     },
     "metadata": {},
     "output_type": "display_data"
    },
    {
     "data": {
      "text/plain": [
       "2171"
      ]
     },
     "metadata": {},
     "output_type": "display_data"
    }
   ],
   "source": [
    "# Create a mask to filter rows based on COI and Condition\n",
    "mask = (spatial_object.obs[:, \"CompositionCluster_CC\"] .∈ Ref(COI)) .& (spatial_object.obs[:, \"orig.ident\"] .∈ Ref(Condition))\n",
    "COI_spots = spatial_object.obs_names[mask]\n",
    "rest_of_spots = setdiff(spatial_object.obs_names, COI_spots)\n",
    "display(length(COI_spots))\n",
    "display(length(rest_of_spots))"
   ]
  },
  {
   "cell_type": "code",
   "execution_count": 11,
   "metadata": {},
   "outputs": [
    {
     "name": "stdout",
     "output_type": "stream",
     "text": [
      "Calculating L-R pairs correlation"
     ]
    },
    {
     "name": "stdout",
     "output_type": "stream",
     "text": [
      "\n"
     ]
    },
    {
     "data": {
      "text/plain": [
       "(758, 758)"
      ]
     },
     "metadata": {},
     "output_type": "display_data"
    }
   ],
   "source": [
    "println(\"Calculating L-R pairs correlation\")\n",
    "COI_cors_adata = spatial_obj_exp_LR_subset_raw[mask, :]\n",
    "COI_cors = cor(Array(COI_cors_adata.layers[\"counts\"]))\n",
    "COI_cors[isnan.(COI_cors)] .= 0.0\n",
    "COI_cors\n",
    "size(COI_cors)"
   ]
  },
  {
   "cell_type": "code",
   "execution_count": 12,
   "metadata": {},
   "outputs": [
    {
     "data": {
      "text/plain": [
       "758-element Vector{String}:\n",
       " \"AGRN\"\n",
       " \"TNFRSF4\"\n",
       " \"TNFRSF14\"\n",
       " \"TNFRSF25\"\n",
       " \"TNFRSF9\"\n",
       " \"CORT\"\n",
       " \"NPPA\"\n",
       " \"TNFRSF8\"\n",
       " \"TNFRSF1B\"\n",
       " \"EPHA2\"\n",
       " ⋮\n",
       " \"APLN\"\n",
       " \"CD40LG\"\n",
       " \"FGF13\"\n",
       " \"PLXNB3\"\n",
       " \"L1CAM\"\n",
       " \"AVPR2\"\n",
       " \"PLXNA3\"\n",
       " \"F8\"\n",
       " \"NLGN4Y\""
      ]
     },
     "metadata": {},
     "output_type": "display_data"
    }
   ],
   "source": [
    "COI_cors_adata.var.name"
   ]
  },
  {
   "cell_type": "code",
   "execution_count": 13,
   "metadata": {},
   "outputs": [],
   "source": [
    "# r_rownames = [\"CSF1\", \"PTN\", \"IHH\", \"SHH\", \"ADAM17\", \"MDK\", \"IL10\", \"EDN1\", \"TGFB1\", \"TGFA\", \"ANGPT2\", \"COL1A1\", \"APP\", \"SPP1\", \"CTSG\", \"CALR\", \"THBS1\", \"APOE\", \"HGF\", \"PF4\", \"SERPINA1\", \"TNFSF13\", \"HSP90B1\", \"CALM1\", \"GZMB\", \"TGFB3\", \"PSEN1\", \"FN1\", \"MMP9\", \"TNFSF4\", \"CCL22\", \"FGF7\", \"WNT5A\", \"NTN1\", \"CCL3\", \"CCL2\", \"CCL13\", \"CCL11\", \"CCL8\", \"CXCL13\", \"CCL5\", \"CCL4\", \"EFNA1\", \"PROS1\", \"GSTP1\", \"FGF2\", \"VEGFA\", \"TF\", \"A2M\", \"PLAU\", \"LRPAP1\", \"NTS\", \"SAA1\", \"INHBA\", \"C3\", \"GCG\", \"EDN3\", \"PROC\", \"INHBB\", \"AGRN\", \"CCL21\", \"CXCL11\", \"NPFF\", \"TNFSF12\", \"HCRT\", \"EFNA2\", \"PSPN\", \"SEMA7A\", \"GDF11\", \"AGT\", \"C5\", \"CSF2RA\", \"FZD3\", \"FZD6\", \"MUSK\", \"PTCH2\", \"CCR5\", \"PTCH1\", \"IL6R\", \"NOTCH2\", \"IFNAR2\", \"CRLF1\", \"EDNRB\", \"ITGB6\", \"ERBB2\", \"ITGA5\", \"SDC1\", \"LRP1\", \"KDR\", \"NCSTN\", \"NGFR\", \"GPC1\", \"SDC2\", \"TNFRSF1B\", \"NOTCH1\", \"IL3RA\", \"SDC4\", \"NOTCH4\", \"NOTCH3\", \"ITGB5\", \"CD44\", \"EPHB2\", \"TRAF2\", \"CCR7\", \"ACVR2A\", \"FGFR3\", \"FGFR4\", \"FZD1\", \"CD36\", \"FAS\", \"NEO1\", \"ACKR4\", \"CXCR4\", \"BMPR1A\", \"PLAUR\", \"CCR10\", \"ACVR1C\", \"ITGAV\", \"ITGB8\", \"RPSA\", \"TNFRSF1A\", \"F2RL1\", \"ACVR1\", \"IL7R\", \"PTPRB\", \"TNFRSF14\", \"CXCR3\", \"MC4R\", \"IGF2R\", \"SORT1\", \"FPR1\", \"SORL1\", \"TGFBR3\", \"VIPR1\", \"SCARB1\", \"C5AR2\", \"LRP8\", \"GIPR\", \"VLDLR\", \"NPR2\", \"EDNRA\", \"PTH1R\", \"THBD\", \"CXCR6\", \"C5AR1\", \"ACKR3\", \"NPY1R\", \"BDKRB2\", \"CCR1\", \"APLNR\", \"CCR2\", \"BDKRB1\", \"CCR6\", \"P2RY14\", \"C3AR1\", \"LPAR1\", \"LPAR2\", \"ACVR1B\", \"SSTR1\", \"SSTR2\", \"EGFR\", \"TACR2\", \"TACR1\", \"F2R\", \"HRH1\", \"AVPR1A\", \"GCGR\", \"F2RL3\", \"TGFBR1\", \"EPHB3\", \"EPHB4\", \"GFRA3\", \"GFRA1\", \"ITGA1\", \"ROBO3\", \"ITGB4\", \"ITGA6\"]\n",
    "# setdiff(r_rownames, coocur_COI_exp_row_names)"
   ]
  },
  {
   "cell_type": "code",
   "execution_count": 14,
   "metadata": {},
   "outputs": [],
   "source": [
    "# temp = DataFrame(hcat(coocur_COI_exp_row_names, sum.(eachrow(coocur_COI_exp))), :auto)\n",
    "# temp[temp[:, \"x1\"] .∈ Ref([\"CSF1\", \"SAA1\", \"IL7R\", \"GSTP1\"]), :]"
   ]
  },
  {
   "cell_type": "code",
   "execution_count": 15,
   "metadata": {},
   "outputs": [
    {
     "name": "stdout",
     "output_type": "stream",
     "text": [
      "Preparing for cooccurrence"
     ]
    },
    {
     "name": "stdout",
     "output_type": "stream",
     "text": [
      "\n"
     ]
    },
    {
     "data": {
      "text/plain": [
       "567-element Vector{String}:\n",
       " \"AGRN\"\n",
       " \"TNFRSF4\"\n",
       " \"TNFRSF14\"\n",
       " \"TNFRSF25\"\n",
       " \"TNFRSF9\"\n",
       " \"TNFRSF1B\"\n",
       " \"EPHA2\"\n",
       " \"HSPG2\"\n",
       " \"WNT4\"\n",
       " \"EPHB2\"\n",
       " ⋮\n",
       " \"CSF2RA\"\n",
       " \"IL3RA\"\n",
       " \"CD99\"\n",
       " \"ATP6AP2\"\n",
       " \"EFNB1\"\n",
       " \"IL2RG\"\n",
       " \"CXCR3\"\n",
       " \"L1CAM\"\n",
       " \"PLXNA3\""
      ]
     },
     "metadata": {},
     "output_type": "display_data"
    }
   ],
   "source": [
    "println(\"Preparing for cooccurrence\")\n",
    "common_spots = intersect(LR_presence_absence.obs_names, COI_spots)\n",
    "coocur_COI = LR_presence_absence[common_spots, :]\n",
    "coocur_COI_exp = DataFrame(Matrix(transpose(coocur_COI.layers[\"binary\"])), common_spots)\n",
    "coocur_COI_exp_row_names = coocur_COI.var.name\n",
    "# Values are same as in R code, but the positions of rows are different"
   ]
  },
  {
   "cell_type": "code",
   "execution_count": 16,
   "metadata": {},
   "outputs": [
    {
     "name": "stdout",
     "output_type": "stream",
     "text": [
      "Cooccurrence calculation starts..."
     ]
    },
    {
     "name": "stdout",
     "output_type": "stream",
     "text": [
      "\n",
      "\r  |                                                                            \r  |                                                                      |   0%"
     ]
    },
    {
     "name": "stdout",
     "output_type": "stream",
     "text": [
      "\r  |                                                                            \r  |                                                                      |   0%\r  |                                                                            \r  |===================================================                   |  73%\r  |                                                                            \r  |===================================================                   |  74%\r  |                                                                            \r  |====================================================                  |  74%\r  |                                                                            \r  |====================================================                  |  75%\r  |                                                                            \r  |=====================================================                 |  75%\r  |                                                                            \r  |=====================================================                 |  76%\r  |                                                                            \r  |======================================================                |  76%\r  |                                                                            \r  |======================================================                |  77%\r  |                                                                            \r  |======================================================                |  78%\r  |                                                                            \r  |=======================================================               |  78%\r  |                                                                            \r  |=======================================================               |  79%\r  |                                                                            \r  |========================================================              |  79%\r  |                                                                            \r  |========================================================              |  80%\r  |                                                                            \r  |========================================================              |  81%\r  |                                                                            \r  |=========================================================             |  81%\r  |                                                                            \r  |=========================================================             |  82%\r  |                                                                            \r  |==========================================================            |  82%\r  |                                                                            \r  |==========================================================            |  83%\r  |                                                                            \r  |==========================================================            |  84%\r  |                                                                            \r  |===========================================================           |  84%\r  |                                                                            \r  |===========================================================           |  85%\r  |                                                                            \r  |============================================================          |  85%\r  |                                                                            \r  |============================================================          |  86%\r  |                                                                            \r  |=============================================================         |  86%\r  |                                                                            \r  |=============================================================         |  87%\r  |                                                                            \r  |=============================================================         |  88%\r  |                                                                            \r  |==============================================================        |  88%\r  |                                                                            \r  |==============================================================        |  89%\r  |                                                                            \r  |===============================================================       |  89%\r  |                                                                            \r  |===============================================================       |  90%\r  |                                                                            \r  |===============================================================       |  91%\r  |                                                                            \r  |================================================================      |  91%\r  |                                                                            \r  |================================================================      |  92%\r  |                                                                            \r  |=================================================================     |  92%\r  |                                                                            \r  |=================================================================     |  93%\r  |                                                                            \r  |==================================================================    |  94%\r  |                                                                            \r  |==================================================================    |  95%\r  |                                                                            \r  |===================================================================   |  95%\r  |                                                                            \r  |===================================================================   |  96%\r  |                                                                            \r  |====================================================================  |  97%\r  |                                                                            \r  |====================================================================  |  98%\r  |                                                                            \r  |===================================================================== |  98%\r  |                                                                            \r  |===================================================================== |  99%\r  |                                                                            \r  |======================================================================|  99%\r  |                                                                            \r  |======================================================================| 100%\n",
      "Cooccurrence calculation ended\n"
     ]
    },
    {
     "data": {
      "text/plain": [
       "OrderedCollections.OrderedDict{Symbol, Any} with 16 entries:\n",
       "  :call                 => :(var\"ISCHIA.cooccur\"($(Expr(:(=), :mat, :coocur_COI…\n",
       "  :results              => \u001b[1m215×11 DataFrame\u001b[0m\u001b[0m…\n",
       "  :positive             => 28\n",
       "  :negative             => 0\n",
       "  :co_occurrences       => 28\n",
       "  :pairs                => 215\n",
       "  :random               => 151\n",
       "  :unclassifiable       => 36\n",
       "  :sites                => [14 14 … 14 14; 14 14 … 14 14; … ; 14 14 … 14 14; 14…\n",
       "  :species              => 567\n",
       "  :percent_sig          => 13.0233\n",
       "  :true_rand_classifier => 0.1\n",
       "  :spp_key              => \u001b[1m567×2 DataFrame\u001b[0m\u001b[0m…\n",
       "  :spp_names            => [\"AGRN\", \"TNFRSF4\", \"TNFRSF14\", \"TNFRSF25\", \"TNFRSF9…\n",
       "  :omitted              => 160246\n",
       "  :pot_pairs            => 160461"
      ]
     },
     "metadata": {},
     "output_type": "display_data"
    }
   ],
   "source": [
    "@rput coocur_COI_exp coocur_COI_exp_row_names\n",
    "println(\"Cooccurrence calculation starts...\")\n",
    "R\"\"\"\n",
    "ISCHIA.cooccur <- function (mat, type = \"spp_site\", thresh = TRUE, spp_names = FALSE,\n",
    "          true_rand_classifier = 0.1, prob = \"hyper\", site_mask = NULL,\n",
    "          only_effects = FALSE, eff_standard = TRUE, eff_matrix = FALSE)\n",
    "{\n",
    "  if (type == \"spp_site\") {\n",
    "    spp_site_mat <- mat\n",
    "  }\n",
    "  if (type == \"site_spp\") {\n",
    "    spp_site_mat <- t(mat)\n",
    "  }\n",
    "  if (spp_names == TRUE) {\n",
    "    spp_key <- data.frame(num = 1:nrow(spp_site_mat), spp = row.names(spp_site_mat))\n",
    "  }\n",
    "  if (!is.null(site_mask)) {\n",
    "    if (nrow(site_mask) == nrow(spp_site_mat) & ncol(site_mask) ==\n",
    "        ncol(spp_site_mat)) {\n",
    "      N_matrix <- create.N.matrix(site_mask)\n",
    "    }\n",
    "    else {\n",
    "      stop(\"Incorrect dimensions for site_mask, aborting.\")\n",
    "    }\n",
    "  }\n",
    "  else {\n",
    "    site_mask <- matrix(data = 1, nrow = nrow(spp_site_mat),\n",
    "                        ncol = ncol(spp_site_mat))\n",
    "    N_matrix <- matrix(data = ncol(spp_site_mat), nrow = nrow(spp_site_mat),\n",
    "                       ncol = nrow(spp_site_mat))\n",
    "  }\n",
    "  spp_site_mat[spp_site_mat > 0] <- 1\n",
    "  tsites <- ncol(spp_site_mat)\n",
    "  nspp <- nrow(spp_site_mat)\n",
    "  spp_pairs <- choose(nspp, 2)\n",
    "  incidence <- prob_occur <- obs_cooccur <- prob_cooccur <- exp_cooccur <- matrix(nrow = spp_pairs,\n",
    "                                                                                  ncol = 3)\n",
    "  incidence <- prob_occur <- matrix(nrow = nrow(N_matrix),\n",
    "                                    ncol = ncol(N_matrix))\n",
    "\n",
    "  for (spp in 1:nspp) {\n",
    "    if (spp < nspp) {\n",
    "      for (spp_next in (spp + 1):nspp) {\n",
    "        incidence[spp, spp_next] <- sum(site_mask[spp,\n",
    "        ] * site_mask[spp_next, ] * mat[spp, ])\n",
    "        incidence[spp_next, spp] <- sum(site_mask[spp,\n",
    "        ] * site_mask[spp_next, ] * mat[spp_next, ])\n",
    "      }\n",
    "    }\n",
    "  }\n",
    "  prob_occur <- incidence/N_matrix\n",
    "  pb <- txtProgressBar(min = 0, max = (nspp + nrow(obs_cooccur)),\n",
    "                       style = 3)\n",
    "  row <- 0\n",
    "  for (spp in 1:nspp) {\n",
    "    if (spp < nspp) {\n",
    "      for (spp_next in (spp + 1):nspp) {\n",
    "        pairs <- sum(as.numeric(mat[spp, site_mask[spp,\n",
    "        ] * site_mask[spp_next, ] == 1] == 1 & mat[spp_next,\n",
    "                                                   site_mask[spp, ] * site_mask[spp_next, ] ==\n",
    "                                                     1] == 1))\n",
    "        row <- row + 1\n",
    "        obs_cooccur[row, 1] <- spp\n",
    "        obs_cooccur[row, 2] <- spp_next\n",
    "        obs_cooccur[row, 3] <- pairs\n",
    "        prob_cooccur[row, 1] <- spp\n",
    "        prob_cooccur[row, 2] <- spp_next\n",
    "        prob_cooccur[row, 3] <- prob_occur[spp, spp_next] *\n",
    "          prob_occur[spp_next, spp]\n",
    "        exp_cooccur[row, 1] <- spp\n",
    "        exp_cooccur[row, 2] <- spp_next\n",
    "        exp_cooccur[row, 3] <- prob_cooccur[row, 3] *\n",
    "          N_matrix[spp, spp_next]\n",
    "      }\n",
    "    }\n",
    "    setTxtProgressBar(pb, spp)\n",
    "  }\n",
    "  if (thresh == TRUE) {\n",
    "    n_pairs <- nrow(prob_cooccur)\n",
    "    prob_cooccur <- prob_cooccur[exp_cooccur[, 3] >= 1, ]\n",
    "    obs_cooccur <- obs_cooccur[exp_cooccur[, 3] >= 1, ]\n",
    "    exp_cooccur <- exp_cooccur[exp_cooccur[, 3] >= 1, ]\n",
    "    n_omitted <- n_pairs - nrow(prob_cooccur)\n",
    "    pb <- txtProgressBar(min = 0, max = (nspp + nrow(obs_cooccur)),\n",
    "                         style = 3)\n",
    "  }\n",
    "  output <- data.frame(matrix(nrow = 0, ncol = 9))\n",
    "  colnames(output) <- c(\"sp1\", \"sp2\", \"sp1_inc\", \"sp2_inc\",\n",
    "                        \"obs_cooccur\", \"prob_cooccur\", \"exp_cooccur\", \"p_lt\",\n",
    "                        \"p_gt\")\n",
    "  for (row in 1:nrow(obs_cooccur)) {\n",
    "    sp1 <- obs_cooccur[row, 1]\n",
    "    sp2 <- obs_cooccur[row, 2]\n",
    "    sp1_inc <- incidence[sp1, sp2]\n",
    "    sp2_inc <- incidence[sp2, sp1]\n",
    "    max_inc <- max(sp1_inc, sp2_inc)\n",
    "    min_inc <- min(sp1_inc, sp2_inc)\n",
    "    nsite <- N_matrix[sp1, sp2]\n",
    "    psite <- as.numeric(nsite + 1)\n",
    "    prob_share_site <- rep(x = 0, times = psite)\n",
    "    if (prob == \"hyper\") {\n",
    "      if (only_effects == FALSE) {\n",
    "        all.probs <- phyper(0:min_inc, min_inc, nsite -\n",
    "                              min_inc, max_inc)\n",
    "        prob_share_site[1] <- all.probs[1]\n",
    "        for (j in 2:length(all.probs)) {\n",
    "          prob_share_site[j] <- all.probs[j] - all.probs[j -\n",
    "                                                           1]\n",
    "        }\n",
    "      }\n",
    "      else {\n",
    "        for (j in 0:nsite) {\n",
    "          if ((sp1_inc + sp2_inc) <= (nsite + j)) {\n",
    "            if (j <= min_inc) {\n",
    "              prob_share_site[(j + 1)] <- 1\n",
    "            }\n",
    "          }\n",
    "        }\n",
    "      }\n",
    "    }\n",
    "    if (prob == \"comb\") {\n",
    "      if (only_effects == FALSE) {\n",
    "        for (j in 0:nsite) {\n",
    "          if ((sp1_inc + sp2_inc) <= (nsite + j)) {\n",
    "            if (j <= min_inc) {\n",
    "              prob_share_site[(j + 1)] <- coprob(max_inc = max_inc,\n",
    "                                                 j = j, min_inc = min_inc, nsite = nsite)\n",
    "            }\n",
    "          }\n",
    "        }\n",
    "      }\n",
    "      else {\n",
    "        for (j in 0:nsite) {\n",
    "          if ((sp1_inc + sp2_inc) <= (nsite + j)) {\n",
    "            if (j <= min_inc) {\n",
    "              prob_share_site[(j + 1)] <- 1\n",
    "            }\n",
    "          }\n",
    "        }\n",
    "      }\n",
    "    }\n",
    "    p_lt <- 0\n",
    "    p_gt <- 0\n",
    "    for (j in 0:nsite) {\n",
    "      if (j <= obs_cooccur[row, 3]) {\n",
    "        p_lt <- prob_share_site[(j + 1)] + p_lt\n",
    "      }\n",
    "      if (j >= obs_cooccur[row, 3]) {\n",
    "        p_gt <- prob_share_site[(j + 1)] + p_gt\n",
    "      }\n",
    "      if (j == obs_cooccur[row, 3]) {\n",
    "        p_exactly_obs <- prob_share_site[(j + 1)]\n",
    "      }\n",
    "    }\n",
    "    p_lt <- round(p_lt, 5)\n",
    "    p_gt <- round(p_gt, 5)\n",
    "    p_exactly_obs <- round(p_exactly_obs, 5)\n",
    "    prob_cooccur[row, 3] <- round(prob_cooccur[row, 3], 3)\n",
    "    exp_cooccur[row, 3] <- round(exp_cooccur[row, 3], 1)\n",
    "    output[row, ] <- c(sp1, sp2, sp1_inc, sp2_inc, obs_cooccur[row,\n",
    "                                                               3], prob_cooccur[row, 3], exp_cooccur[row, 3], p_lt,\n",
    "                       p_gt)\n",
    "    setTxtProgressBar(pb, nspp + row)\n",
    "  }\n",
    "  close(pb)\n",
    "  if (spp_names == TRUE) {\n",
    "    sp1_name <- merge(x = data.frame(order = 1:length(output$sp1),\n",
    "                                     sp1 = output$sp1), y = spp_key, by.x = \"sp1\", by.y = \"num\",\n",
    "                      all.x = T, sort = FALSE)\n",
    "    sp2_name <- merge(x = data.frame(order = 1:length(output$sp2),\n",
    "                                     sp2 = output$sp2), y = spp_key, by.x = \"sp2\", by.y = \"num\",\n",
    "                      all.x = T, sort = FALSE)\n",
    "    output$sp1_name <- sp1_name[with(sp1_name, order(order)),\n",
    "                                \"spp\"]\n",
    "    output$sp2_name <- sp2_name[with(sp2_name, order(order)),\n",
    "                                \"spp\"]\n",
    "  }\n",
    "  true_rand <- (nrow(output[(output$p_gt >= 0.05 & output$p_lt >=\n",
    "                               0.05) & (abs(output$obs_cooccur - output$exp_cooccur) <=\n",
    "                                          (tsites * true_rand_classifier)), ]))\n",
    "  output_list <- list(call = match.call(), results = output,\n",
    "                      positive = nrow(output[output$p_gt < 0.05, ]), negative = nrow(output[output$p_lt <\n",
    "                                                                                              0.05, ]), co_occurrences = (nrow(output[output$p_gt <\n",
    "                                                                                                                                        0.05 | output$p_lt < 0.05, ])), pairs = nrow(output),\n",
    "                      random = true_rand, unclassifiable = nrow(output) - (true_rand +\n",
    "                                                                             nrow(output[output$p_gt < 0.05, ]) + nrow(output[output$p_lt <\n",
    "                                                                                                                                0.05, ])), sites = N_matrix, species = nspp, percent_sig = (((nrow(output[output$p_gt <\n",
    "                                                                                                                                                                                                            0.05 | output$p_lt < 0.05, ])))/(nrow(output))) *\n",
    "                        100, true_rand_classifier = true_rand_classifier)\n",
    "  if (spp_names == TRUE) {\n",
    "    output_list$spp_key <- spp_key\n",
    "    output_list$spp.names = row.names(spp_site_mat)\n",
    "  }\n",
    "  else {\n",
    "    output_list$spp.names = c(1:nrow(spp_site_mat))\n",
    "  }\n",
    "  if (thresh == TRUE) {\n",
    "    output_list$omitted <- n_omitted\n",
    "    output_list$pot_pairs <- n_pairs\n",
    "  }\n",
    "  class(output_list) <- \"cooccur\"\n",
    "  if (only_effects == F) {\n",
    "    output_list\n",
    "  }\n",
    "  else {\n",
    "    effect.sizes(mod = output_list, standardized = eff_standard,\n",
    "                 matrix = eff_matrix)\n",
    "  }\n",
    "}\n",
    "\n",
    "row.names(coocur_COI_exp) <- coocur_COI_exp_row_names\n",
    "\n",
    "cooccur_COI_res = ISCHIA.cooccur(mat=coocur_COI_exp, type=\"spp_site\", thresh=TRUE, spp_names=TRUE)\n",
    "\"\"\"\n",
    "println(\"Cooccurrence calculation ended\")\n",
    "\n",
    "@rget cooccur_COI_res"
   ]
  },
  {
   "cell_type": "code",
   "execution_count": 17,
   "metadata": {},
   "outputs": [
    {
     "data": {
      "text/plain": [
       "RObject{StrSxp}\n",
       "                     Length Class      Mode     \n",
       "call                      5 -none-     call     \n",
       "results                  11 data.frame list     \n",
       "positive                  1 -none-     numeric  \n",
       "negative                  1 -none-     numeric  \n",
       "co_occurrences            1 -none-     numeric  \n",
       "pairs                     1 -none-     numeric  \n",
       "random                    1 -none-     numeric  \n",
       "unclassifiable            1 -none-     numeric  \n",
       "sites                321489 -none-     numeric  \n",
       "species                   1 -none-     numeric  \n",
       "percent_sig               1 -none-     numeric  \n",
       "true_rand_classifier      1 -none-     numeric  \n",
       "spp_key                   2 data.frame list     \n",
       "spp.names               567 -none-     character\n",
       "omitted                   1 -none-     numeric  \n",
       "pot_pairs                 1 -none-     numeric  \n"
      ]
     },
     "metadata": {},
     "output_type": "display_data"
    },
    {
     "name": "stdout",
     "output_type": "stream",
     "text": [
      "Summary of cooccurrence results:"
     ]
    },
    {
     "name": "stdout",
     "output_type": "stream",
     "text": [
      "\n"
     ]
    }
   ],
   "source": [
    "println(\"Summary of cooccurrence results:\")\n",
    "display(R\"summary(cooccur_COI_res)\")"
   ]
  },
  {
   "cell_type": "code",
   "execution_count": 18,
   "metadata": {},
   "outputs": [
    {
     "name": "stdout",
     "output_type": "stream",
     "text": [
      "Probability table of cooccurrence results:"
     ]
    },
    {
     "data": {
      "text/plain": [
       "RObject{VecSxp}\n",
       "    sp1 sp2 sp1_inc sp2_inc obs_cooccur prob_cooccur exp_cooccur    p_lt\n",
       "1    68 118       3       5           3        0.077         1.1 1.00000\n",
       "2    68 220       3       9           3        0.138         1.9 1.00000\n",
       "3    68 221       3       6           2        0.092         1.3 0.94505\n",
       "4    68 225       3       9           3        0.138         1.9 1.00000\n",
       "5    68 230       3       7           2        0.107         1.5 0.90385\n",
       "6    68 258       3       6           3        0.092         1.3 1.00000\n",
       "7    68 297       3       5           2        0.077         1.1 0.97253\n",
       "8    68 421       3       8           2        0.122         1.7 0.84615\n",
       "9    68 499       3       5           3        0.077         1.1 1.00000\n",
       "10   68 515       3       7           3        0.107         1.5 1.00000\n",
       "11   85 118       4       5           3        0.102         1.4 0.99500\n",
       "12   85 219       4       4           3        0.082         1.1 0.99900\n",
       "13   85 220       4       9           4        0.184         2.6 1.00000\n",
       "14   85 221       4       6           3        0.122         1.7 0.98501\n",
       "15   85 225       4       9           4        0.184         2.6 1.00000\n",
       "16   85 230       4       7           2        0.143         2.0 0.72028\n",
       "17   85 258       4       6           3        0.122         1.7 0.98501\n",
       "18   85 296       4       4           3        0.082         1.1 0.99900\n",
       "19   85 297       4       5           3        0.102         1.4 0.99500\n",
       "20   85 323       4       4           2        0.082         1.1 0.95904\n",
       "21   85 366       4       4           2        0.082         1.1 0.95904\n",
       "22   85 395       4       4           2        0.082         1.1 0.95904\n",
       "23   85 421       4       8           3        0.163         2.3 0.93007\n",
       "24   85 499       4       5           4        0.102         1.4 1.00000\n",
       "25   85 515       4       7           4        0.143         2.0 1.00000\n",
       "26  118 196       5       3           2        0.077         1.1 0.97253\n",
       "27  118 219       5       4           3        0.102         1.4 0.99500\n",
       "28  118 220       5       9           5        0.230         3.2 1.00000\n",
       "29  118 221       5       6           3        0.153         2.1 0.93706\n",
       "30  118 225       5       9           5        0.230         3.2 1.00000\n",
       "31  118 230       5       7           3        0.179         2.5 0.86713\n",
       "32  118 256       5       3           2        0.077         1.1 0.97253\n",
       "33  118 258       5       6           4        0.153         2.1 0.99700\n",
       "34  118 296       5       4           3        0.102         1.4 0.99500\n",
       "35  118 297       5       5           4        0.128         1.8 0.99950\n",
       "36  118 323       5       4           3        0.102         1.4 0.99500\n",
       "37  118 344       5       3           3        0.077         1.1 1.00000\n",
       "38  118 366       5       4           3        0.102         1.4 0.99500\n",
       "39  118 395       5       4           3        0.102         1.4 0.99500\n",
       "40  118 421       5       8           3        0.204         2.9 0.76224\n",
       "41  118 499       5       5           4        0.128         1.8 0.99950\n",
       "42  118 505       5       3           2        0.077         1.1 0.97253\n",
       "43  118 515       5       7           5        0.179         2.5 1.00000\n",
       "44  160 220       2       9           1        0.092         1.3 0.60440\n",
       "45  160 225       2       9           1        0.092         1.3 0.60440\n",
       "46  160 230       2       7           1        0.071         1.0 0.76923\n",
       "47  160 421       2       8           1        0.082         1.1 0.69231\n",
       "48  160 515       2       7           0        0.071         1.0 0.23077\n",
       "49  196 220       3       9           3        0.138         1.9 1.00000\n",
       "50  196 221       3       6           3        0.092         1.3 1.00000\n",
       "51  196 225       3       9           3        0.138         1.9 1.00000\n",
       "52  196 230       3       7           1        0.107         1.5 0.50000\n",
       "53  196 258       3       6           2        0.092         1.3 0.94505\n",
       "54  196 297       3       5           3        0.077         1.1 1.00000\n",
       "55  196 421       3       8           2        0.122         1.7 0.84615\n",
       "56  196 499       3       5           3        0.077         1.1 1.00000\n",
       "57  196 515       3       7           3        0.107         1.5 1.00000\n",
       "58  219 220       4       9           4        0.184         2.6 1.00000\n",
       "59  219 221       4       6           2        0.122         1.7 0.82517\n",
       "60  219 225       4       9           4        0.184         2.6 1.00000\n",
       "61  219 230       4       7           3        0.143         2.0 0.96503\n",
       "62  219 258       4       6           4        0.122         1.7 1.00000\n",
       "63  219 296       4       4           2        0.082         1.1 0.95904\n",
       "64  219 297       4       5           2        0.102         1.4 0.90509\n",
       "65  219 323       4       4           2        0.082         1.1 0.95904\n",
       "66  219 366       4       4           2        0.082         1.1 0.95904\n",
       "67  219 395       4       4           3        0.082         1.1 0.99900\n",
       "68  219 421       4       8           3        0.163         2.3 0.93007\n",
       "69  219 499       4       5           3        0.102         1.4 0.99500\n",
       "70  219 515       4       7           3        0.143         2.0 0.96503\n",
       "71  220 221       9       6           5        0.276         3.9 0.97203\n",
       "72  220 225       9       9           8        0.413         5.8 0.99950\n",
       "73  220 230       9       7           6        0.321         4.5 0.98951\n",
       "74  220 256       9       3           3        0.138         1.9 1.00000\n",
       "75  220 258       9       6           5        0.276         3.9 0.97203\n",
       "76  220 268       9       2           1        0.092         1.3 0.60440\n",
       "77  220 283       9       2           2        0.092         1.3 1.00000\n",
       "78  220 296       9       4           4        0.184         2.6 1.00000\n",
       "79  220 297       9       5           5        0.230         3.2 1.00000\n",
       "80  220 323       9       4           4        0.184         2.6 1.00000\n",
       "81  220 334       9       2           1        0.092         1.3 0.60440\n",
       "82  220 344       9       3           3        0.138         1.9 1.00000\n",
       "83  220 352       9       2           2        0.092         1.3 1.00000\n",
       "84  220 366       9       4           4        0.184         2.6 1.00000\n",
       "85  220 395       9       4           4        0.184         2.6 1.00000\n",
       "86  220 416       9       2           2        0.092         1.3 1.00000\n",
       "87  220 421       9       8           5        0.367         5.1 0.65734\n",
       "88  220 499       9       5           5        0.230         3.2 1.00000\n",
       "89  220 505       9       3           3        0.138         1.9 1.00000\n",
       "90  220 515       9       7           7        0.321         4.5 1.00000\n",
       "91  220 519       9       2           2        0.092         1.3 1.00000\n",
       "92  220 541       9       2           2        0.092         1.3 1.00000\n",
       "93  220 549       9       2           2        0.092         1.3 1.00000\n",
       "94  221 225       6       9           5        0.276         3.9 0.97203\n",
       "95  221 230       6       7           2        0.214         3.0 0.29604\n",
       "96  221 256       6       3           1        0.092         1.3 0.61538\n",
       "97  221 258       6       6           3        0.184         2.6 0.84382\n",
       "98  221 296       6       4           3        0.122         1.7 0.98501\n",
       "99  221 297       6       5           4        0.153         2.1 0.99700\n",
       "100 221 323       6       4           4        0.122         1.7 1.00000\n",
       "101 221 344       6       3           3        0.092         1.3 1.00000\n",
       "102 221 366       6       4           2        0.122         1.7 0.82517\n",
       "103 221 395       6       4           3        0.122         1.7 0.98501\n",
       "104 221 421       6       8           4        0.245         3.4 0.87879\n",
       "105 221 499       6       5           4        0.153         2.1 0.99700\n",
       "106 221 505       6       3           2        0.092         1.3 0.94505\n",
       "107 221 515       6       7           4        0.214         3.0 0.94872\n",
       "108 225 230       9       7           5        0.321         4.5 0.86713\n",
       "109 225 256       9       3           3        0.138         1.9 1.00000\n",
       "110 225 258       9       6           6        0.276         3.9 1.00000\n",
       "111 225 268       9       2           1        0.092         1.3 0.60440\n",
       "112 225 283       9       2           2        0.092         1.3 1.00000\n",
       "113 225 296       9       4           4        0.184         2.6 1.00000\n",
       "114 225 297       9       5           5        0.230         3.2 1.00000\n",
       "115 225 323       9       4           4        0.184         2.6 1.00000\n",
       "116 225 334       9       2           1        0.092         1.3 0.60440\n",
       "117 225 344       9       3           3        0.138         1.9 1.00000\n",
       "118 225 352       9       2           2        0.092         1.3 1.00000\n",
       "119 225 366       9       4           3        0.184         2.6 0.87413\n",
       "120 225 395       9       4           4        0.184         2.6 1.00000\n",
       "121 225 416       9       2           2        0.092         1.3 1.00000\n",
       "122 225 421       9       8           6        0.367         5.1 0.93706\n",
       "123 225 499       9       5           5        0.230         3.2 1.00000\n",
       "124 225 505       9       3           3        0.138         1.9 1.00000\n",
       "125 225 515       9       7           6        0.321         4.5 0.98951\n",
       "126 225 519       9       2           2        0.092         1.3 1.00000\n",
       "127 225 541       9       2           2        0.092         1.3 1.00000\n",
       "128 225 549       9       2           2        0.092         1.3 1.00000\n",
       "129 230 256       7       3           2        0.107         1.5 0.90385\n",
       "130 230 258       7       6           3        0.214         3.0 0.70396\n",
       "131 230 268       7       2           1        0.071         1.0 0.76923\n",
       "132 230 283       7       2           1        0.071         1.0 0.76923\n",
       "133 230 296       7       4           2        0.143         2.0 0.72028\n",
       "134 230 297       7       5           2        0.179         2.5 0.50000\n",
       "135 230 323       7       4           2        0.143         2.0 0.72028\n",
       "136 230 334       7       2           1        0.071         1.0 0.76923\n",
       "137 230 344       7       3           1        0.107         1.5 0.50000\n",
       "138 230 352       7       2           1        0.071         1.0 0.76923\n",
       "139 230 366       7       4           2        0.143         2.0 0.72028\n",
       "140 230 395       7       4           2        0.143         2.0 0.72028\n",
       "141 230 416       7       2           1        0.071         1.0 0.76923\n",
       "142 230 421       7       8           3        0.286         4.0 0.29604\n",
       "143 230 499       7       5           2        0.179         2.5 0.50000\n",
       "144 230 505       7       3           3        0.107         1.5 1.00000\n",
       "145 230 515       7       7           4        0.250         3.5 0.85693\n",
       "146 230 519       7       2           0        0.071         1.0 0.23077\n",
       "147 230 541       7       2           2        0.071         1.0 1.00000\n",
       "148 230 549       7       2           0        0.071         1.0 0.23077\n",
       "149 256 258       3       6           3        0.092         1.3 1.00000\n",
       "150 256 297       3       5           1        0.077         1.1 0.72527\n",
       "151 256 421       3       8           3        0.122         1.7 1.00000\n",
       "152 256 499       3       5           2        0.077         1.1 0.97253\n",
       "153 256 515       3       7           2        0.107         1.5 0.90385\n",
       "154 258 296       6       4           2        0.122         1.7 0.82517\n",
       "155 258 297       6       5           3        0.153         2.1 0.93706\n",
       "156 258 323       6       4           3        0.122         1.7 0.98501\n",
       "157 258 344       6       3           3        0.092         1.3 1.00000\n",
       "158 258 366       6       4           3        0.122         1.7 0.98501\n",
       "159 258 395       6       4           4        0.122         1.7 1.00000\n",
       "160 258 421       6       8           5        0.245         3.4 0.99068\n",
       "161 258 499       6       5           4        0.153         2.1 0.99700\n",
       "162 258 505       6       3           2        0.092         1.3 0.94505\n",
       "163 258 515       6       7           4        0.214         3.0 0.94872\n",
       "164 268 421       2       8           0        0.082         1.1 0.16484\n",
       "165 268 515       2       7           1        0.071         1.0 0.76923\n",
       "166 283 421       2       8           2        0.082         1.1 1.00000\n",
       "167 283 515       2       7           2        0.071         1.0 1.00000\n",
       "168 296 297       4       5           4        0.102         1.4 1.00000\n",
       "169 296 323       4       4           2        0.082         1.1 0.95904\n",
       "170 296 366       4       4           1        0.082         1.1 0.68931\n",
       "171 296 395       4       4           2        0.082         1.1 0.95904\n",
       "172 296 421       4       8           2        0.163         2.3 0.59441\n",
       "173 296 499       4       5           3        0.102         1.4 0.99500\n",
       "174 296 515       4       7           4        0.143         2.0 1.00000\n",
       "175 297 323       5       4           3        0.102         1.4 0.99500\n",
       "176 297 344       5       3           3        0.077         1.1 1.00000\n",
       "177 297 366       5       4           2        0.102         1.4 0.90509\n",
       "178 297 395       5       4           3        0.102         1.4 0.99500\n",
       "179 297 421       5       8           3        0.204         2.9 0.76224\n",
       "180 297 499       5       5           4        0.128         1.8 0.99950\n",
       "181 297 505       5       3           1        0.077         1.1 0.72527\n",
       "182 297 515       5       7           5        0.179         2.5 1.00000\n",
       "183 323 366       4       4           2        0.082         1.1 0.95904\n",
       "184 323 395       4       4           3        0.082         1.1 0.99900\n",
       "185 323 421       4       8           2        0.163         2.3 0.59441\n",
       "186 323 499       4       5           3        0.102         1.4 0.99500\n",
       "187 323 515       4       7           3        0.143         2.0 0.96503\n",
       "188 334 421       2       8           1        0.082         1.1 0.69231\n",
       "189 334 515       2       7           0        0.071         1.0 0.23077\n",
       "190 344 421       3       8           2        0.122         1.7 0.84615\n",
       "191 344 499       3       5           3        0.077         1.1 1.00000\n",
       "192 344 515       3       7           3        0.107         1.5 1.00000\n",
       "193 352 421       2       8           1        0.082         1.1 0.69231\n",
       "194 352 515       2       7           2        0.071         1.0 1.00000\n",
       "195 366 395       4       4           2        0.082         1.1 0.95904\n",
       "196 366 421       4       8           2        0.163         2.3 0.59441\n",
       "197 366 499       4       5           3        0.102         1.4 0.99500\n",
       "198 366 515       4       7           4        0.143         2.0 1.00000\n",
       "199 395 421       4       8           3        0.163         2.3 0.93007\n",
       "200 395 499       4       5           3        0.102         1.4 0.99500\n",
       "201 395 515       4       7           3        0.143         2.0 0.96503\n",
       "202 416 421       2       8           2        0.082         1.1 1.00000\n",
       "203 416 515       2       7           1        0.071         1.0 0.76923\n",
       "204 421 499       8       5           4        0.204         2.9 0.97203\n",
       "205 421 505       8       3           2        0.122         1.7 0.84615\n",
       "206 421 515       8       7           4        0.286         4.0 0.70396\n",
       "207 421 519       8       2           1        0.082         1.1 0.69231\n",
       "208 421 541       8       2           2        0.082         1.1 1.00000\n",
       "209 421 549       8       2           1        0.082         1.1 0.69231\n",
       "210 499 505       5       3           2        0.077         1.1 0.97253\n",
       "211 499 515       5       7           5        0.179         2.5 1.00000\n",
       "212 505 515       3       7           2        0.107         1.5 0.90385\n",
       "213 515 519       7       2           2        0.071         1.0 1.00000\n",
       "214 515 541       7       2           1        0.071         1.0 0.76923\n",
       "215 515 549       7       2           2        0.071         1.0 1.00000\n",
       "       p_gt sp1_name sp2_name\n",
       "1   0.02747    CALM2     RPSA\n",
       "2   0.23077    CALM2    HLA-A\n",
       "3   0.38462    CALM2    HLA-E\n",
       "4   0.23077    CALM2  HLA-DRA\n",
       "5   0.50000    CALM2     CD24\n",
       "6   0.05495    CALM2    NAMPT\n",
       "7   0.27473    CALM2    CCL21\n",
       "8   0.61538    CALM2    THBS1\n",
       "9   0.02747    CALM2       C3\n",
       "10  0.09615    CALM2    RPS19\n",
       "11  0.09491    CXCR4     RPSA\n",
       "12  0.04096    CXCR4    HLA-F\n",
       "13  0.12587    CXCR4    HLA-A\n",
       "14  0.17483    CXCR4    HLA-E\n",
       "15  0.12587    CXCR4  HLA-DRA\n",
       "16  0.72028    CXCR4     CD24\n",
       "17  0.17483    CXCR4    NAMPT\n",
       "18  0.04096    CXCR4    CCL19\n",
       "19  0.09491    CXCR4    CCL21\n",
       "20  0.31069    CXCR4     PSAP\n",
       "21  0.31069    CXCR4      A2M\n",
       "22  0.31069    CXCR4  HSP90B1\n",
       "23  0.40559    CXCR4    THBS1\n",
       "24  0.00500    CXCR4       C3\n",
       "25  0.03497    CXCR4    RPS19\n",
       "26  0.27473     RPSA     IL7R\n",
       "27  0.09491     RPSA    HLA-F\n",
       "28  0.06294     RPSA    HLA-A\n",
       "29  0.34266     RPSA    HLA-E\n",
       "30  0.06294     RPSA  HLA-DRA\n",
       "31  0.50000     RPSA     CD24\n",
       "32  0.27473     RPSA SERPINE1\n",
       "33  0.06294     RPSA    NAMPT\n",
       "34  0.09491     RPSA    CCL19\n",
       "35  0.02298     RPSA    CCL21\n",
       "36  0.09491     RPSA     PSAP\n",
       "37  0.02747     RPSA    GSTP1\n",
       "38  0.09491     RPSA      A2M\n",
       "39  0.09491     RPSA  HSP90B1\n",
       "40  0.65734     RPSA    THBS1\n",
       "41  0.02298     RPSA       C3\n",
       "42  0.27473     RPSA     CALR\n",
       "43  0.01049     RPSA    RPS19\n",
       "44  0.89011   ADIPOQ    HLA-A\n",
       "45  0.89011   ADIPOQ  HLA-DRA\n",
       "46  0.76923   ADIPOQ     CD24\n",
       "47  0.83516   ADIPOQ    THBS1\n",
       "48  1.00000   ADIPOQ    RPS19\n",
       "49  0.23077     IL7R    HLA-A\n",
       "50  0.05495     IL7R    HLA-E\n",
       "51  0.23077     IL7R  HLA-DRA\n",
       "52  0.90385     IL7R     CD24\n",
       "53  0.38462     IL7R    NAMPT\n",
       "54  0.02747     IL7R    CCL21\n",
       "55  0.61538     IL7R    THBS1\n",
       "56  0.02747     IL7R       C3\n",
       "57  0.09615     IL7R    RPS19\n",
       "58  0.12587    HLA-F    HLA-A\n",
       "59  0.59441    HLA-F    HLA-E\n",
       "60  0.12587    HLA-F  HLA-DRA\n",
       "61  0.27972    HLA-F     CD24\n",
       "62  0.01499    HLA-F    NAMPT\n",
       "63  0.31069    HLA-F    CCL19\n",
       "64  0.45455    HLA-F    CCL21\n",
       "65  0.31069    HLA-F     PSAP\n",
       "66  0.31069    HLA-F      A2M\n",
       "67  0.04096    HLA-F  HSP90B1\n",
       "68  0.40559    HLA-F    THBS1\n",
       "69  0.09491    HLA-F       C3\n",
       "70  0.27972    HLA-F    RPS19\n",
       "71  0.23776    HLA-A    HLA-E\n",
       "72  0.02298    HLA-A  HLA-DRA\n",
       "73  0.13287    HLA-A     CD24\n",
       "74  0.23077    HLA-A SERPINE1\n",
       "75  0.23776    HLA-A    NAMPT\n",
       "76  0.89011    HLA-A  RARRES2\n",
       "77  0.39560    HLA-A     PLAT\n",
       "78  0.12587    HLA-A    CCL19\n",
       "79  0.06294    HLA-A    CCL21\n",
       "80  0.12587    HLA-A     PSAP\n",
       "81  0.89011    HLA-A     SAA1\n",
       "82  0.23077    HLA-A    GSTP1\n",
       "83  0.39560    HLA-A   IL10RA\n",
       "84  0.12587    HLA-A      A2M\n",
       "85  0.12587    HLA-A  HSP90B1\n",
       "86  0.39560    HLA-A    CALM1\n",
       "87  0.76224    HLA-A    THBS1\n",
       "88  0.06294    HLA-A       C3\n",
       "89  0.23077    HLA-A     CALR\n",
       "90  0.01049    HLA-A    RPS19\n",
       "91  0.39560    HLA-A     APOE\n",
       "92  0.39560    HLA-A TNFRSF6B\n",
       "93  0.39560    HLA-A  COL18A1\n",
       "94  0.23776    HLA-E  HLA-DRA\n",
       "95  0.94872    HLA-E     CD24\n",
       "96  0.84615    HLA-E SERPINE1\n",
       "97  0.52914    HLA-E    NAMPT\n",
       "98  0.17483    HLA-E    CCL19\n",
       "99  0.06294    HLA-E    CCL21\n",
       "100 0.01499    HLA-E     PSAP\n",
       "101 0.05495    HLA-E    GSTP1\n",
       "102 0.59441    HLA-E      A2M\n",
       "103 0.17483    HLA-E  HSP90B1\n",
       "104 0.47086    HLA-E    THBS1\n",
       "105 0.06294    HLA-E       C3\n",
       "106 0.38462    HLA-E     CALR\n",
       "107 0.29604    HLA-E    RPS19\n",
       "108 0.50000  HLA-DRA     CD24\n",
       "109 0.23077  HLA-DRA SERPINE1\n",
       "110 0.02797  HLA-DRA    NAMPT\n",
       "111 0.89011  HLA-DRA  RARRES2\n",
       "112 0.39560  HLA-DRA     PLAT\n",
       "113 0.12587  HLA-DRA    CCL19\n",
       "114 0.06294  HLA-DRA    CCL21\n",
       "115 0.12587  HLA-DRA     PSAP\n",
       "116 0.89011  HLA-DRA     SAA1\n",
       "117 0.23077  HLA-DRA    GSTP1\n",
       "118 0.39560  HLA-DRA   IL10RA\n",
       "119 0.54545  HLA-DRA      A2M\n",
       "120 0.12587  HLA-DRA  HSP90B1\n",
       "121 0.39560  HLA-DRA    CALM1\n",
       "122 0.34266  HLA-DRA    THBS1\n",
       "123 0.06294  HLA-DRA       C3\n",
       "124 0.23077  HLA-DRA     CALR\n",
       "125 0.13287  HLA-DRA    RPS19\n",
       "126 0.39560  HLA-DRA     APOE\n",
       "127 0.39560  HLA-DRA TNFRSF6B\n",
       "128 0.39560  HLA-DRA  COL18A1\n",
       "129 0.50000     CD24 SERPINE1\n",
       "130 0.70396     CD24    NAMPT\n",
       "131 0.76923     CD24  RARRES2\n",
       "132 0.76923     CD24     PLAT\n",
       "133 0.72028     CD24    CCL19\n",
       "134 0.86713     CD24    CCL21\n",
       "135 0.72028     CD24     PSAP\n",
       "136 0.76923     CD24     SAA1\n",
       "137 0.90385     CD24    GSTP1\n",
       "138 0.76923     CD24   IL10RA\n",
       "139 0.72028     CD24      A2M\n",
       "140 0.72028     CD24  HSP90B1\n",
       "141 0.76923     CD24    CALM1\n",
       "142 0.94872     CD24    THBS1\n",
       "143 0.86713     CD24       C3\n",
       "144 0.09615     CD24     CALR\n",
       "145 0.50000     CD24    RPS19\n",
       "146 1.00000     CD24     APOE\n",
       "147 0.23077     CD24 TNFRSF6B\n",
       "148 1.00000     CD24  COL18A1\n",
       "149 0.05495 SERPINE1    NAMPT\n",
       "150 0.76923 SERPINE1    CCL21\n",
       "151 0.15385 SERPINE1    THBS1\n",
       "152 0.27473 SERPINE1       C3\n",
       "153 0.50000 SERPINE1    RPS19\n",
       "154 0.59441    NAMPT    CCL19\n",
       "155 0.34266    NAMPT    CCL21\n",
       "156 0.17483    NAMPT     PSAP\n",
       "157 0.05495    NAMPT    GSTP1\n",
       "158 0.17483    NAMPT      A2M\n",
       "159 0.01499    NAMPT  HSP90B1\n",
       "160 0.12121    NAMPT    THBS1\n",
       "161 0.06294    NAMPT       C3\n",
       "162 0.38462    NAMPT     CALR\n",
       "163 0.29604    NAMPT    RPS19\n",
       "164 1.00000  RARRES2    THBS1\n",
       "165 0.76923  RARRES2    RPS19\n",
       "166 0.30769     PLAT    THBS1\n",
       "167 0.23077     PLAT    RPS19\n",
       "168 0.00500    CCL19    CCL21\n",
       "169 0.31069    CCL19     PSAP\n",
       "170 0.79021    CCL19      A2M\n",
       "171 0.31069    CCL19  HSP90B1\n",
       "172 0.82517    CCL19    THBS1\n",
       "173 0.09491    CCL19       C3\n",
       "174 0.03497    CCL19    RPS19\n",
       "175 0.09491    CCL21     PSAP\n",
       "176 0.02747    CCL21    GSTP1\n",
       "177 0.45455    CCL21      A2M\n",
       "178 0.09491    CCL21  HSP90B1\n",
       "179 0.65734    CCL21    THBS1\n",
       "180 0.02298    CCL21       C3\n",
       "181 0.76923    CCL21     CALR\n",
       "182 0.01049    CCL21    RPS19\n",
       "183 0.31069     PSAP      A2M\n",
       "184 0.04096     PSAP  HSP90B1\n",
       "185 0.82517     PSAP    THBS1\n",
       "186 0.09491     PSAP       C3\n",
       "187 0.27972     PSAP    RPS19\n",
       "188 0.83516     SAA1    THBS1\n",
       "189 1.00000     SAA1    RPS19\n",
       "190 0.61538    GSTP1    THBS1\n",
       "191 0.02747    GSTP1       C3\n",
       "192 0.09615    GSTP1    RPS19\n",
       "193 0.83516   IL10RA    THBS1\n",
       "194 0.23077   IL10RA    RPS19\n",
       "195 0.31069      A2M  HSP90B1\n",
       "196 0.82517      A2M    THBS1\n",
       "197 0.09491      A2M       C3\n",
       "198 0.03497      A2M    RPS19\n",
       "199 0.40559  HSP90B1    THBS1\n",
       "200 0.09491  HSP90B1       C3\n",
       "201 0.27972  HSP90B1    RPS19\n",
       "202 0.30769    CALM1    THBS1\n",
       "203 0.76923    CALM1    RPS19\n",
       "204 0.23776    THBS1       C3\n",
       "205 0.61538    THBS1     CALR\n",
       "206 0.70396    THBS1    RPS19\n",
       "207 0.83516    THBS1     APOE\n",
       "208 0.30769    THBS1 TNFRSF6B\n",
       "209 0.83516    THBS1  COL18A1\n",
       "210 0.27473       C3     CALR\n",
       "211 0.01049       C3    RPS19\n",
       "212 0.50000     CALR    RPS19\n",
       "213 0.23077    RPS19     APOE\n",
       "214 0.76923    RPS19 TNFRSF6B\n",
       "215 0.23077    RPS19  COL18A1\n"
      ]
     },
     "metadata": {},
     "output_type": "display_data"
    },
    {
     "name": "stdout",
     "output_type": "stream",
     "text": [
      "\n"
     ]
    },
    {
     "name": "stderr",
     "output_type": "stream",
     "text": [
      "┌ Warning: RCall.jl: Warning in prob.table(cooccur_COI_res) :\n",
      "│   The co-occurrence model was run using 'thresh = TRUE.' The probability table may not include all species pairs\n",
      "└ @ RCall C:\\Users\\mraadam\\.julia\\packages\\RCall\\gOwEW\\src\\io.jl:172\n"
     ]
    }
   ],
   "source": [
    "println(\"Probability table of cooccurrence results:\")\n",
    "display(R\"library(cooccur); prob.table(cooccur_COI_res)\")"
   ]
  },
  {
   "cell_type": "code",
   "execution_count": 19,
   "metadata": {},
   "outputs": [],
   "source": [
    "# r_sp1 = [\"CALR\", \"CALR\", \"CALR\", \"CALR\", \"THBS1\", \"THBS1\", \"THBS1\", \"THBS1\", \"THBS1\", \"THBS1\", \"THBS1\", \"THBS1\", \"THBS1\", \"THBS1\", \"THBS1\", \"HSP90B1\", \"HSP90B1\", \"HSP90B1\", \"HSP90B1\", \"HSP90B1\", \"GSTP1\", \"GSTP1\", \"GSTP1\", \"A2M\", \"A2M\", \"A2M\", \"A2M\", \"C3\", \"C3\", \"C3\", \"C3\", \"CCL21\", \"CCL21\", \"CCL21\", \"CXCR4\", \"RPSA\"]\n",
    "# r_sp2 = [\"THBS1\", \"C3\", \"CCL21\", \"RPSA\", \"APOE\", \"HSP90B1\", \"CALM1\", \"GSTP1\", \"A2M\", \"SAA1\", \"C3\", \"CCL21\", \"CXCR4\", \"RPSA\", \"IL7R\", \"A2M\", \"C3\", \"CCL21\", \"CXCR4\", \"RPSA\", \"C3\", \"CCL21\", \"RPSA\", \"C3\", \"CCL21\", \"CXCR4\", \"RPSA\", \"CCL21\", \"CXCR4\", \"RPSA\", \"IL7R\", \"CXCR4\", \"RPSA\", \"IL7R\", \"RPSA\", \"IL7R\"]\n",
    "\n",
    "# j_sp1 = cooccur_COI_res[:results][!, :sp1_name]\n",
    "# j_sp2 = cooccur_COI_res[:results][!, :sp2_name]\n",
    "\n",
    "# display(setdiff(r_sp1, j_sp1))\n",
    "# display(setdiff(r_sp1, j_sp2))\n",
    "# display(setdiff(j_sp1, r_sp1))\n",
    "# display(setdiff(j_sp1, r_sp2))\n",
    "# display(setdiff(r_sp2, j_sp1))\n",
    "# display(setdiff(r_sp2, j_sp2))\n",
    "# display(setdiff(j_sp2, r_sp1))\n",
    "# display(setdiff(j_sp2, r_sp2))"
   ]
  },
  {
   "cell_type": "code",
   "execution_count": 20,
   "metadata": {},
   "outputs": [
    {
     "data": {
      "text/html": [
       "<div><div style = \"float: left;\"><span>215×13 DataFrame</span></div><div style = \"float: right;\"><span style = \"font-style: italic;\">190 rows omitted</span></div><div style = \"clear: both;\"></div></div><div class = \"data-frame\" style = \"overflow-x: scroll;\"><table class = \"data-frame\" style = \"margin-bottom: 6px;\"><thead><tr class = \"header\"><th class = \"rowNumber\" style = \"font-weight: bold; text-align: right;\">Row</th><th style = \"text-align: left;\">sp1</th><th style = \"text-align: left;\">sp2</th><th style = \"text-align: left;\">sp1_inc</th><th style = \"text-align: left;\">sp2_inc</th><th style = \"text-align: left;\">obs_cooccur</th><th style = \"text-align: left;\">prob_cooccur</th><th style = \"text-align: left;\">exp_cooccur</th><th style = \"text-align: left;\">p_lt</th><th style = \"text-align: left;\">p_gt</th><th style = \"text-align: left;\">sp1_name</th><th style = \"text-align: left;\">sp2_name</th><th style = \"text-align: left;\">pair12</th><th style = \"text-align: left;\">pair21</th></tr><tr class = \"subheader headerLastRow\"><th class = \"rowNumber\" style = \"font-weight: bold; text-align: right;\"></th><th title = \"Float64\" style = \"text-align: left;\">Float64</th><th title = \"Float64\" style = \"text-align: left;\">Float64</th><th title = \"Float64\" style = \"text-align: left;\">Float64</th><th title = \"Float64\" style = \"text-align: left;\">Float64</th><th title = \"Float64\" style = \"text-align: left;\">Float64</th><th title = \"Float64\" style = \"text-align: left;\">Float64</th><th title = \"Float64\" style = \"text-align: left;\">Float64</th><th title = \"Float64\" style = \"text-align: left;\">Float64</th><th title = \"Float64\" style = \"text-align: left;\">Float64</th><th title = \"String\" style = \"text-align: left;\">String</th><th title = \"String\" style = \"text-align: left;\">String</th><th title = \"String\" style = \"text-align: left;\">String</th><th title = \"String\" style = \"text-align: left;\">String</th></tr></thead><tbody><tr><td class = \"rowNumber\" style = \"font-weight: bold; text-align: right;\">1</td><td style = \"text-align: right;\">68.0</td><td style = \"text-align: right;\">118.0</td><td style = \"text-align: right;\">3.0</td><td style = \"text-align: right;\">5.0</td><td style = \"text-align: right;\">3.0</td><td style = \"text-align: right;\">0.077</td><td style = \"text-align: right;\">1.1</td><td style = \"text-align: right;\">1.0</td><td style = \"text-align: right;\">0.02747</td><td style = \"text-align: left;\">CALM2</td><td style = \"text-align: left;\">RPSA</td><td style = \"text-align: left;\">CALM2_RPSA</td><td style = \"text-align: left;\">RPSA_CALM2</td></tr><tr><td class = \"rowNumber\" style = \"font-weight: bold; text-align: right;\">2</td><td style = \"text-align: right;\">68.0</td><td style = \"text-align: right;\">220.0</td><td style = \"text-align: right;\">3.0</td><td style = \"text-align: right;\">9.0</td><td style = \"text-align: right;\">3.0</td><td style = \"text-align: right;\">0.138</td><td style = \"text-align: right;\">1.9</td><td style = \"text-align: right;\">1.0</td><td style = \"text-align: right;\">0.23077</td><td style = \"text-align: left;\">CALM2</td><td style = \"text-align: left;\">HLA-A</td><td style = \"text-align: left;\">CALM2_HLA-A</td><td style = \"text-align: left;\">HLA-A_CALM2</td></tr><tr><td class = \"rowNumber\" style = \"font-weight: bold; text-align: right;\">3</td><td style = \"text-align: right;\">68.0</td><td style = \"text-align: right;\">221.0</td><td style = \"text-align: right;\">3.0</td><td style = \"text-align: right;\">6.0</td><td style = \"text-align: right;\">2.0</td><td style = \"text-align: right;\">0.092</td><td style = \"text-align: right;\">1.3</td><td style = \"text-align: right;\">0.94505</td><td style = \"text-align: right;\">0.38462</td><td style = \"text-align: left;\">CALM2</td><td style = \"text-align: left;\">HLA-E</td><td style = \"text-align: left;\">CALM2_HLA-E</td><td style = \"text-align: left;\">HLA-E_CALM2</td></tr><tr><td class = \"rowNumber\" style = \"font-weight: bold; text-align: right;\">4</td><td style = \"text-align: right;\">68.0</td><td style = \"text-align: right;\">225.0</td><td style = \"text-align: right;\">3.0</td><td style = \"text-align: right;\">9.0</td><td style = \"text-align: right;\">3.0</td><td style = \"text-align: right;\">0.138</td><td style = \"text-align: right;\">1.9</td><td style = \"text-align: right;\">1.0</td><td style = \"text-align: right;\">0.23077</td><td style = \"text-align: left;\">CALM2</td><td style = \"text-align: left;\">HLA-DRA</td><td style = \"text-align: left;\">CALM2_HLA-DRA</td><td style = \"text-align: left;\">HLA-DRA_CALM2</td></tr><tr><td class = \"rowNumber\" style = \"font-weight: bold; text-align: right;\">5</td><td style = \"text-align: right;\">68.0</td><td style = \"text-align: right;\">230.0</td><td style = \"text-align: right;\">3.0</td><td style = \"text-align: right;\">7.0</td><td style = \"text-align: right;\">2.0</td><td style = \"text-align: right;\">0.107</td><td style = \"text-align: right;\">1.5</td><td style = \"text-align: right;\">0.90385</td><td style = \"text-align: right;\">0.5</td><td style = \"text-align: left;\">CALM2</td><td style = \"text-align: left;\">CD24</td><td style = \"text-align: left;\">CALM2_CD24</td><td style = \"text-align: left;\">CD24_CALM2</td></tr><tr><td class = \"rowNumber\" style = \"font-weight: bold; text-align: right;\">6</td><td style = \"text-align: right;\">68.0</td><td style = \"text-align: right;\">258.0</td><td style = \"text-align: right;\">3.0</td><td style = \"text-align: right;\">6.0</td><td style = \"text-align: right;\">3.0</td><td style = \"text-align: right;\">0.092</td><td style = \"text-align: right;\">1.3</td><td style = \"text-align: right;\">1.0</td><td style = \"text-align: right;\">0.05495</td><td style = \"text-align: left;\">CALM2</td><td style = \"text-align: left;\">NAMPT</td><td style = \"text-align: left;\">CALM2_NAMPT</td><td style = \"text-align: left;\">NAMPT_CALM2</td></tr><tr><td class = \"rowNumber\" style = \"font-weight: bold; text-align: right;\">7</td><td style = \"text-align: right;\">68.0</td><td style = \"text-align: right;\">297.0</td><td style = \"text-align: right;\">3.0</td><td style = \"text-align: right;\">5.0</td><td style = \"text-align: right;\">2.0</td><td style = \"text-align: right;\">0.077</td><td style = \"text-align: right;\">1.1</td><td style = \"text-align: right;\">0.97253</td><td style = \"text-align: right;\">0.27473</td><td style = \"text-align: left;\">CALM2</td><td style = \"text-align: left;\">CCL21</td><td style = \"text-align: left;\">CALM2_CCL21</td><td style = \"text-align: left;\">CCL21_CALM2</td></tr><tr><td class = \"rowNumber\" style = \"font-weight: bold; text-align: right;\">8</td><td style = \"text-align: right;\">68.0</td><td style = \"text-align: right;\">421.0</td><td style = \"text-align: right;\">3.0</td><td style = \"text-align: right;\">8.0</td><td style = \"text-align: right;\">2.0</td><td style = \"text-align: right;\">0.122</td><td style = \"text-align: right;\">1.7</td><td style = \"text-align: right;\">0.84615</td><td style = \"text-align: right;\">0.61538</td><td style = \"text-align: left;\">CALM2</td><td style = \"text-align: left;\">THBS1</td><td style = \"text-align: left;\">CALM2_THBS1</td><td style = \"text-align: left;\">THBS1_CALM2</td></tr><tr><td class = \"rowNumber\" style = \"font-weight: bold; text-align: right;\">9</td><td style = \"text-align: right;\">68.0</td><td style = \"text-align: right;\">499.0</td><td style = \"text-align: right;\">3.0</td><td style = \"text-align: right;\">5.0</td><td style = \"text-align: right;\">3.0</td><td style = \"text-align: right;\">0.077</td><td style = \"text-align: right;\">1.1</td><td style = \"text-align: right;\">1.0</td><td style = \"text-align: right;\">0.02747</td><td style = \"text-align: left;\">CALM2</td><td style = \"text-align: left;\">C3</td><td style = \"text-align: left;\">CALM2_C3</td><td style = \"text-align: left;\">C3_CALM2</td></tr><tr><td class = \"rowNumber\" style = \"font-weight: bold; text-align: right;\">10</td><td style = \"text-align: right;\">68.0</td><td style = \"text-align: right;\">515.0</td><td style = \"text-align: right;\">3.0</td><td style = \"text-align: right;\">7.0</td><td style = \"text-align: right;\">3.0</td><td style = \"text-align: right;\">0.107</td><td style = \"text-align: right;\">1.5</td><td style = \"text-align: right;\">1.0</td><td style = \"text-align: right;\">0.09615</td><td style = \"text-align: left;\">CALM2</td><td style = \"text-align: left;\">RPS19</td><td style = \"text-align: left;\">CALM2_RPS19</td><td style = \"text-align: left;\">RPS19_CALM2</td></tr><tr><td class = \"rowNumber\" style = \"font-weight: bold; text-align: right;\">11</td><td style = \"text-align: right;\">85.0</td><td style = \"text-align: right;\">118.0</td><td style = \"text-align: right;\">4.0</td><td style = \"text-align: right;\">5.0</td><td style = \"text-align: right;\">3.0</td><td style = \"text-align: right;\">0.102</td><td style = \"text-align: right;\">1.4</td><td style = \"text-align: right;\">0.995</td><td style = \"text-align: right;\">0.09491</td><td style = \"text-align: left;\">CXCR4</td><td style = \"text-align: left;\">RPSA</td><td style = \"text-align: left;\">CXCR4_RPSA</td><td style = \"text-align: left;\">RPSA_CXCR4</td></tr><tr><td class = \"rowNumber\" style = \"font-weight: bold; text-align: right;\">12</td><td style = \"text-align: right;\">85.0</td><td style = \"text-align: right;\">219.0</td><td style = \"text-align: right;\">4.0</td><td style = \"text-align: right;\">4.0</td><td style = \"text-align: right;\">3.0</td><td style = \"text-align: right;\">0.082</td><td style = \"text-align: right;\">1.1</td><td style = \"text-align: right;\">0.999</td><td style = \"text-align: right;\">0.04096</td><td style = \"text-align: left;\">CXCR4</td><td style = \"text-align: left;\">HLA-F</td><td style = \"text-align: left;\">CXCR4_HLA-F</td><td style = \"text-align: left;\">HLA-F_CXCR4</td></tr><tr><td class = \"rowNumber\" style = \"font-weight: bold; text-align: right;\">13</td><td style = \"text-align: right;\">85.0</td><td style = \"text-align: right;\">220.0</td><td style = \"text-align: right;\">4.0</td><td style = \"text-align: right;\">9.0</td><td style = \"text-align: right;\">4.0</td><td style = \"text-align: right;\">0.184</td><td style = \"text-align: right;\">2.6</td><td style = \"text-align: right;\">1.0</td><td style = \"text-align: right;\">0.12587</td><td style = \"text-align: left;\">CXCR4</td><td style = \"text-align: left;\">HLA-A</td><td style = \"text-align: left;\">CXCR4_HLA-A</td><td style = \"text-align: left;\">HLA-A_CXCR4</td></tr><tr><td style = \"text-align: right;\">&vellip;</td><td style = \"text-align: right;\">&vellip;</td><td style = \"text-align: right;\">&vellip;</td><td style = \"text-align: right;\">&vellip;</td><td style = \"text-align: right;\">&vellip;</td><td style = \"text-align: right;\">&vellip;</td><td style = \"text-align: right;\">&vellip;</td><td style = \"text-align: right;\">&vellip;</td><td style = \"text-align: right;\">&vellip;</td><td style = \"text-align: right;\">&vellip;</td><td style = \"text-align: right;\">&vellip;</td><td style = \"text-align: right;\">&vellip;</td><td style = \"text-align: right;\">&vellip;</td><td style = \"text-align: right;\">&vellip;</td></tr><tr><td class = \"rowNumber\" style = \"font-weight: bold; text-align: right;\">204</td><td style = \"text-align: right;\">421.0</td><td style = \"text-align: right;\">499.0</td><td style = \"text-align: right;\">8.0</td><td style = \"text-align: right;\">5.0</td><td style = \"text-align: right;\">4.0</td><td style = \"text-align: right;\">0.204</td><td style = \"text-align: right;\">2.9</td><td style = \"text-align: right;\">0.97203</td><td style = \"text-align: right;\">0.23776</td><td style = \"text-align: left;\">THBS1</td><td style = \"text-align: left;\">C3</td><td style = \"text-align: left;\">THBS1_C3</td><td style = \"text-align: left;\">C3_THBS1</td></tr><tr><td class = \"rowNumber\" style = \"font-weight: bold; text-align: right;\">205</td><td style = \"text-align: right;\">421.0</td><td style = \"text-align: right;\">505.0</td><td style = \"text-align: right;\">8.0</td><td style = \"text-align: right;\">3.0</td><td style = \"text-align: right;\">2.0</td><td style = \"text-align: right;\">0.122</td><td style = \"text-align: right;\">1.7</td><td style = \"text-align: right;\">0.84615</td><td style = \"text-align: right;\">0.61538</td><td style = \"text-align: left;\">THBS1</td><td style = \"text-align: left;\">CALR</td><td style = \"text-align: left;\">THBS1_CALR</td><td style = \"text-align: left;\">CALR_THBS1</td></tr><tr><td class = \"rowNumber\" style = \"font-weight: bold; text-align: right;\">206</td><td style = \"text-align: right;\">421.0</td><td style = \"text-align: right;\">515.0</td><td style = \"text-align: right;\">8.0</td><td style = \"text-align: right;\">7.0</td><td style = \"text-align: right;\">4.0</td><td style = \"text-align: right;\">0.286</td><td style = \"text-align: right;\">4.0</td><td style = \"text-align: right;\">0.70396</td><td style = \"text-align: right;\">0.70396</td><td style = \"text-align: left;\">THBS1</td><td style = \"text-align: left;\">RPS19</td><td style = \"text-align: left;\">THBS1_RPS19</td><td style = \"text-align: left;\">RPS19_THBS1</td></tr><tr><td class = \"rowNumber\" style = \"font-weight: bold; text-align: right;\">207</td><td style = \"text-align: right;\">421.0</td><td style = \"text-align: right;\">519.0</td><td style = \"text-align: right;\">8.0</td><td style = \"text-align: right;\">2.0</td><td style = \"text-align: right;\">1.0</td><td style = \"text-align: right;\">0.082</td><td style = \"text-align: right;\">1.1</td><td style = \"text-align: right;\">0.69231</td><td style = \"text-align: right;\">0.83516</td><td style = \"text-align: left;\">THBS1</td><td style = \"text-align: left;\">APOE</td><td style = \"text-align: left;\">THBS1_APOE</td><td style = \"text-align: left;\">APOE_THBS1</td></tr><tr><td class = \"rowNumber\" style = \"font-weight: bold; text-align: right;\">208</td><td style = \"text-align: right;\">421.0</td><td style = \"text-align: right;\">541.0</td><td style = \"text-align: right;\">8.0</td><td style = \"text-align: right;\">2.0</td><td style = \"text-align: right;\">2.0</td><td style = \"text-align: right;\">0.082</td><td style = \"text-align: right;\">1.1</td><td style = \"text-align: right;\">1.0</td><td style = \"text-align: right;\">0.30769</td><td style = \"text-align: left;\">THBS1</td><td style = \"text-align: left;\">TNFRSF6B</td><td style = \"text-align: left;\">THBS1_TNFRSF6B</td><td style = \"text-align: left;\">TNFRSF6B_THBS1</td></tr><tr><td class = \"rowNumber\" style = \"font-weight: bold; text-align: right;\">209</td><td style = \"text-align: right;\">421.0</td><td style = \"text-align: right;\">549.0</td><td style = \"text-align: right;\">8.0</td><td style = \"text-align: right;\">2.0</td><td style = \"text-align: right;\">1.0</td><td style = \"text-align: right;\">0.082</td><td style = \"text-align: right;\">1.1</td><td style = \"text-align: right;\">0.69231</td><td style = \"text-align: right;\">0.83516</td><td style = \"text-align: left;\">THBS1</td><td style = \"text-align: left;\">COL18A1</td><td style = \"text-align: left;\">THBS1_COL18A1</td><td style = \"text-align: left;\">COL18A1_THBS1</td></tr><tr><td class = \"rowNumber\" style = \"font-weight: bold; text-align: right;\">210</td><td style = \"text-align: right;\">499.0</td><td style = \"text-align: right;\">505.0</td><td style = \"text-align: right;\">5.0</td><td style = \"text-align: right;\">3.0</td><td style = \"text-align: right;\">2.0</td><td style = \"text-align: right;\">0.077</td><td style = \"text-align: right;\">1.1</td><td style = \"text-align: right;\">0.97253</td><td style = \"text-align: right;\">0.27473</td><td style = \"text-align: left;\">C3</td><td style = \"text-align: left;\">CALR</td><td style = \"text-align: left;\">C3_CALR</td><td style = \"text-align: left;\">CALR_C3</td></tr><tr><td class = \"rowNumber\" style = \"font-weight: bold; text-align: right;\">211</td><td style = \"text-align: right;\">499.0</td><td style = \"text-align: right;\">515.0</td><td style = \"text-align: right;\">5.0</td><td style = \"text-align: right;\">7.0</td><td style = \"text-align: right;\">5.0</td><td style = \"text-align: right;\">0.179</td><td style = \"text-align: right;\">2.5</td><td style = \"text-align: right;\">1.0</td><td style = \"text-align: right;\">0.01049</td><td style = \"text-align: left;\">C3</td><td style = \"text-align: left;\">RPS19</td><td style = \"text-align: left;\">C3_RPS19</td><td style = \"text-align: left;\">RPS19_C3</td></tr><tr><td class = \"rowNumber\" style = \"font-weight: bold; text-align: right;\">212</td><td style = \"text-align: right;\">505.0</td><td style = \"text-align: right;\">515.0</td><td style = \"text-align: right;\">3.0</td><td style = \"text-align: right;\">7.0</td><td style = \"text-align: right;\">2.0</td><td style = \"text-align: right;\">0.107</td><td style = \"text-align: right;\">1.5</td><td style = \"text-align: right;\">0.90385</td><td style = \"text-align: right;\">0.5</td><td style = \"text-align: left;\">CALR</td><td style = \"text-align: left;\">RPS19</td><td style = \"text-align: left;\">CALR_RPS19</td><td style = \"text-align: left;\">RPS19_CALR</td></tr><tr><td class = \"rowNumber\" style = \"font-weight: bold; text-align: right;\">213</td><td style = \"text-align: right;\">515.0</td><td style = \"text-align: right;\">519.0</td><td style = \"text-align: right;\">7.0</td><td style = \"text-align: right;\">2.0</td><td style = \"text-align: right;\">2.0</td><td style = \"text-align: right;\">0.071</td><td style = \"text-align: right;\">1.0</td><td style = \"text-align: right;\">1.0</td><td style = \"text-align: right;\">0.23077</td><td style = \"text-align: left;\">RPS19</td><td style = \"text-align: left;\">APOE</td><td style = \"text-align: left;\">RPS19_APOE</td><td style = \"text-align: left;\">APOE_RPS19</td></tr><tr><td class = \"rowNumber\" style = \"font-weight: bold; text-align: right;\">214</td><td style = \"text-align: right;\">515.0</td><td style = \"text-align: right;\">541.0</td><td style = \"text-align: right;\">7.0</td><td style = \"text-align: right;\">2.0</td><td style = \"text-align: right;\">1.0</td><td style = \"text-align: right;\">0.071</td><td style = \"text-align: right;\">1.0</td><td style = \"text-align: right;\">0.76923</td><td style = \"text-align: right;\">0.76923</td><td style = \"text-align: left;\">RPS19</td><td style = \"text-align: left;\">TNFRSF6B</td><td style = \"text-align: left;\">RPS19_TNFRSF6B</td><td style = \"text-align: left;\">TNFRSF6B_RPS19</td></tr><tr><td class = \"rowNumber\" style = \"font-weight: bold; text-align: right;\">215</td><td style = \"text-align: right;\">515.0</td><td style = \"text-align: right;\">549.0</td><td style = \"text-align: right;\">7.0</td><td style = \"text-align: right;\">2.0</td><td style = \"text-align: right;\">2.0</td><td style = \"text-align: right;\">0.071</td><td style = \"text-align: right;\">1.0</td><td style = \"text-align: right;\">1.0</td><td style = \"text-align: right;\">0.23077</td><td style = \"text-align: left;\">RPS19</td><td style = \"text-align: left;\">COL18A1</td><td style = \"text-align: left;\">RPS19_COL18A1</td><td style = \"text-align: left;\">COL18A1_RPS19</td></tr></tbody></table></div>"
      ],
      "text/latex": [
       "\\begin{tabular}{r|ccccccccc}\n",
       "\t& sp1 & sp2 & sp1\\_inc & sp2\\_inc & obs\\_cooccur & prob\\_cooccur & exp\\_cooccur & p\\_lt & \\\\\n",
       "\t\\hline\n",
       "\t& Float64 & Float64 & Float64 & Float64 & Float64 & Float64 & Float64 & Float64 & \\\\\n",
       "\t\\hline\n",
       "\t1 & 68.0 & 118.0 & 3.0 & 5.0 & 3.0 & 0.077 & 1.1 & 1.0 & $\\dots$ \\\\\n",
       "\t2 & 68.0 & 220.0 & 3.0 & 9.0 & 3.0 & 0.138 & 1.9 & 1.0 & $\\dots$ \\\\\n",
       "\t3 & 68.0 & 221.0 & 3.0 & 6.0 & 2.0 & 0.092 & 1.3 & 0.94505 & $\\dots$ \\\\\n",
       "\t4 & 68.0 & 225.0 & 3.0 & 9.0 & 3.0 & 0.138 & 1.9 & 1.0 & $\\dots$ \\\\\n",
       "\t5 & 68.0 & 230.0 & 3.0 & 7.0 & 2.0 & 0.107 & 1.5 & 0.90385 & $\\dots$ \\\\\n",
       "\t6 & 68.0 & 258.0 & 3.0 & 6.0 & 3.0 & 0.092 & 1.3 & 1.0 & $\\dots$ \\\\\n",
       "\t7 & 68.0 & 297.0 & 3.0 & 5.0 & 2.0 & 0.077 & 1.1 & 0.97253 & $\\dots$ \\\\\n",
       "\t8 & 68.0 & 421.0 & 3.0 & 8.0 & 2.0 & 0.122 & 1.7 & 0.84615 & $\\dots$ \\\\\n",
       "\t9 & 68.0 & 499.0 & 3.0 & 5.0 & 3.0 & 0.077 & 1.1 & 1.0 & $\\dots$ \\\\\n",
       "\t10 & 68.0 & 515.0 & 3.0 & 7.0 & 3.0 & 0.107 & 1.5 & 1.0 & $\\dots$ \\\\\n",
       "\t11 & 85.0 & 118.0 & 4.0 & 5.0 & 3.0 & 0.102 & 1.4 & 0.995 & $\\dots$ \\\\\n",
       "\t12 & 85.0 & 219.0 & 4.0 & 4.0 & 3.0 & 0.082 & 1.1 & 0.999 & $\\dots$ \\\\\n",
       "\t13 & 85.0 & 220.0 & 4.0 & 9.0 & 4.0 & 0.184 & 2.6 & 1.0 & $\\dots$ \\\\\n",
       "\t14 & 85.0 & 221.0 & 4.0 & 6.0 & 3.0 & 0.122 & 1.7 & 0.98501 & $\\dots$ \\\\\n",
       "\t15 & 85.0 & 225.0 & 4.0 & 9.0 & 4.0 & 0.184 & 2.6 & 1.0 & $\\dots$ \\\\\n",
       "\t16 & 85.0 & 230.0 & 4.0 & 7.0 & 2.0 & 0.143 & 2.0 & 0.72028 & $\\dots$ \\\\\n",
       "\t17 & 85.0 & 258.0 & 4.0 & 6.0 & 3.0 & 0.122 & 1.7 & 0.98501 & $\\dots$ \\\\\n",
       "\t18 & 85.0 & 296.0 & 4.0 & 4.0 & 3.0 & 0.082 & 1.1 & 0.999 & $\\dots$ \\\\\n",
       "\t19 & 85.0 & 297.0 & 4.0 & 5.0 & 3.0 & 0.102 & 1.4 & 0.995 & $\\dots$ \\\\\n",
       "\t20 & 85.0 & 323.0 & 4.0 & 4.0 & 2.0 & 0.082 & 1.1 & 0.95904 & $\\dots$ \\\\\n",
       "\t21 & 85.0 & 366.0 & 4.0 & 4.0 & 2.0 & 0.082 & 1.1 & 0.95904 & $\\dots$ \\\\\n",
       "\t22 & 85.0 & 395.0 & 4.0 & 4.0 & 2.0 & 0.082 & 1.1 & 0.95904 & $\\dots$ \\\\\n",
       "\t23 & 85.0 & 421.0 & 4.0 & 8.0 & 3.0 & 0.163 & 2.3 & 0.93007 & $\\dots$ \\\\\n",
       "\t24 & 85.0 & 499.0 & 4.0 & 5.0 & 4.0 & 0.102 & 1.4 & 1.0 & $\\dots$ \\\\\n",
       "\t$\\dots$ & $\\dots$ & $\\dots$ & $\\dots$ & $\\dots$ & $\\dots$ & $\\dots$ & $\\dots$ & $\\dots$ &  \\\\\n",
       "\\end{tabular}\n"
      ],
      "text/plain": [
       "\u001b[1m215×13 DataFrame\u001b[0m\n",
       "\u001b[1m Row \u001b[0m│\u001b[1m sp1     \u001b[0m\u001b[1m sp2     \u001b[0m\u001b[1m sp1_inc \u001b[0m\u001b[1m sp2_inc \u001b[0m\u001b[1m obs_cooccur \u001b[0m\u001b[1m prob_cooccur \u001b[0m\u001b[1m exp_cooc\u001b[0m ⋯\n",
       "     │\u001b[90m Float64 \u001b[0m\u001b[90m Float64 \u001b[0m\u001b[90m Float64 \u001b[0m\u001b[90m Float64 \u001b[0m\u001b[90m Float64     \u001b[0m\u001b[90m Float64      \u001b[0m\u001b[90m Float64 \u001b[0m ⋯\n",
       "─────┼──────────────────────────────────────────────────────────────────────────\n",
       "   1 │    68.0    118.0      3.0      5.0          3.0         0.077           ⋯\n",
       "   2 │    68.0    220.0      3.0      9.0          3.0         0.138\n",
       "   3 │    68.0    221.0      3.0      6.0          2.0         0.092\n",
       "   4 │    68.0    225.0      3.0      9.0          3.0         0.138\n",
       "   5 │    68.0    230.0      3.0      7.0          2.0         0.107           ⋯\n",
       "   6 │    68.0    258.0      3.0      6.0          3.0         0.092\n",
       "   7 │    68.0    297.0      3.0      5.0          2.0         0.077\n",
       "   8 │    68.0    421.0      3.0      8.0          2.0         0.122\n",
       "  ⋮  │    ⋮        ⋮        ⋮        ⋮          ⋮            ⋮             ⋮   ⋱\n",
       " 209 │   421.0    549.0      8.0      2.0          1.0         0.082           ⋯\n",
       " 210 │   499.0    505.0      5.0      3.0          2.0         0.077\n",
       " 211 │   499.0    515.0      5.0      7.0          5.0         0.179\n",
       " 212 │   505.0    515.0      3.0      7.0          2.0         0.107\n",
       " 213 │   515.0    519.0      7.0      2.0          2.0         0.071           ⋯\n",
       " 214 │   515.0    541.0      7.0      2.0          1.0         0.071\n",
       " 215 │   515.0    549.0      7.0      2.0          2.0         0.071\n",
       "\u001b[36m                                                  7 columns and 200 rows omitted\u001b[0m"
      ]
     },
     "metadata": {},
     "output_type": "display_data"
    }
   ],
   "source": [
    "cooccur_res_df = cooccur_COI_res[:results]\n",
    "# Add a 'pair' column to the result DataFrame\n",
    "cooccur_res_df[!, :pair12] = string.(cooccur_res_df[!, :sp1_name], \"_\", cooccur_res_df[!, :sp2_name])\n",
    "cooccur_res_df[!, :pair21] = string.(cooccur_res_df[!, :sp2_name], \"_\", cooccur_res_df[!, :sp1_name])\n",
    "# rownames!(cooccur_COI_res, cooccur_COI_res[:pair]) doesn't work in Julia\n",
    "cooccur_res_df"
   ]
  },
  {
   "cell_type": "code",
   "execution_count": 21,
   "metadata": {},
   "outputs": [],
   "source": [
    "# R\"plot(cooccur_COI_res)\" \n",
    "# figure this out later, if needed \n",
    "# https://rdrr.io/cran/cooccur/src/R/plot.cooccur.R"
   ]
  },
  {
   "cell_type": "code",
   "execution_count": 22,
   "metadata": {},
   "outputs": [
    {
     "data": {
      "text/plain": [
       "2-element Vector{String}:\n",
       " \"CCL21_CXCR4\"\n",
       " \"C3_CXCR4\""
      ]
     },
     "metadata": {},
     "output_type": "display_data"
    }
   ],
   "source": [
    "all_cooccur_pairs = Set([cooccur_res_df[!, :pair12]; cooccur_res_df[!, :pair21]])\n",
    "common_pairs = intersect(LR_pairs, all_cooccur_pairs)"
   ]
  },
  {
   "cell_type": "code",
   "execution_count": 30,
   "metadata": {},
   "outputs": [
    {
     "data": {
      "text/plain": [
       "Set{String} with 430 elements:\n",
       "  \"RPS19_NAMPT\"\n",
       "  \"HLA-A_RPS19\"\n",
       "  \"IL7R_CD24\"\n",
       "  \"IL7R_HLA-A\"\n",
       "  \"IL7R_RPS19\"\n",
       "  \"A2M_RPSA\"\n",
       "  \"CALM2_C3\"\n",
       "  \"NAMPT_IL7R\"\n",
       "  \"NAMPT_HSP90B1\"\n",
       "  \"RPS19_CALM2\"\n",
       "  \"CALR_THBS1\"\n",
       "  \"RARRES2_CD24\"\n",
       "  \"HLA-A_HLA-E\"\n",
       "  \"NAMPT_RPS19\"\n",
       "  \"CCL21_RPS19\"\n",
       "  \"HLA-A_IL10RA\"\n",
       "  \"HLA-DRA_PSAP\"\n",
       "  \"HSP90B1_PSAP\"\n",
       "  \"CCL19_THBS1\"\n",
       "  ⋮ "
      ]
     },
     "metadata": {},
     "output_type": "display_data"
    }
   ],
   "source": [
    "Set([cooccur_res_df.pair12; cooccur_res_df.pair21])"
   ]
  },
  {
   "cell_type": "code",
   "execution_count": 23,
   "metadata": {},
   "outputs": [],
   "source": [
    "# r_output = [\"CALR_THBS1\", \"CALR_C3\", \"CALR_CCL21\", \"CALR_RPSA\", \"THBS1_APOE\", \"THBS1_HSP90B1\", \"THBS1_CALM1\", \"THBS1_GSTP1\", \"THBS1_A2M\", \"THBS1_SAA1\", \"THBS1_C3\", \"THBS1_CCL21\", \"THBS1_CXCR4\", \"THBS1_RPSA\", \"THBS1_IL7R\", \"HSP90B1_A2M\", \"HSP90B1_C3\", \"HSP90B1_CCL21\", \"HSP90B1_CXCR4\", \"HSP90B1_RPSA\", \"GSTP1_C3\", \"GSTP1_CCL21\", \"GSTP1_RPSA\", \"A2M_C3\", \"A2M_CCL21\", \"A2M_CXCR4\", \"A2M_RPSA\", \"C3_CCL21\", \"C3_CXCR4\", \"C3_RPSA\", \"C3_IL7R\", \"CCL21_CXCR4\", \"CCL21_RPSA\", \"CCL21_IL7R\", \"CXCR4_RPSA\", \"RPSA_IL7R\"]\n",
    "# setdiff(r_output, Set([pair1; pair2]))\n",
    "# setdiff(Set([pair1; pair2]), r_output)"
   ]
  },
  {
   "cell_type": "code",
   "execution_count": 24,
   "metadata": {},
   "outputs": [
    {
     "name": "stdout",
     "output_type": "stream",
     "text": [
      "1 / 2"
     ]
    },
    {
     "name": "stdout",
     "output_type": "stream",
     "text": [
      "\n",
      "2 / 2\n"
     ]
    }
   ],
   "source": [
    "# pair = \"C3_CXCR4\"\n",
    "# pair_count = 0\n",
    "# pair_count += 1\n",
    "\n",
    "# println(\"$pair_count / $(length(common_pairs))\")\n",
    "# LR_pair_words = split(pair, \"_\")\n",
    "# LR_pair_ligand = \"Spatial:\" * LR_pair_words[1]\n",
    "# LR_pair_Receptor = \"Spatial:\" * LR_pair_words[2]\n",
    "\n",
    "# ligand_exp_COI_mean = mean(spatial_object[COI_spots, LR_pair_ligand].X)\n",
    "# ligand_exp_otherspots_mean = mean(spatial_object[rest_of_spots, LR_pair_ligand].X)\n",
    "# ligand_FC = round(ligand_exp_COI_mean / ligand_exp_otherspots_mean, digits=4)\n",
    "\n",
    "# Receptor_exp_COI_mean = mean(spatial_object[COI_spots, LR_pair_Receptor].X)\n",
    "# Receptor_exp_otherspots_mean = mean(spatial_object[rest_of_spots, LR_pair_Receptor].X)\n",
    "# Receptor_FC = round(Receptor_exp_COI_mean / Receptor_exp_otherspots_mean, digits=4)\n",
    "\n",
    "# pair_p_gt = cooccur_res_df[(cooccur_res_df.pair12 .== pair) .| (cooccur_res_df.pair21 .== pair), :p_gt][1]\n",
    "# ligand_index = findfirst(==(LR_pair_ligand), COI_cors_adata.var_names)\n",
    "# receptor_index = findfirst(==(LR_pair_Receptor), COI_cors_adata.var_names)\n",
    "\n",
    "# if pair_p_gt < 0.05 && COI_cors[ligand_index, receptor_index] > corr_threshold\n",
    "#     added_row = DataFrame(from=[LR_pair_ligand], to=[LR_pair_Receptor], correlation=[COI_cors[ligand_index, receptor_index]], ligand_FC=[ligand_FC], Receptor_FC=[Receptor_FC])\n",
    "#     append!(COI_enriched_LRs, added_row)\n",
    "# end\n",
    "\n",
    "COI_enriched_LRs = DataFrame(from=String[], to=String[], correlation=Float64[], ligand_FC=Float64[], Receptor_FC=Float64[])\n",
    "\n",
    "pair_count = 0\n",
    "for pair in common_pairs\n",
    "    pair_count += 1\n",
    "    println(\"$pair_count / $(length(common_pairs))\")\n",
    "    LR_pair_words = split(pair, \"_\")\n",
    "    LR_pair_ligand = \"Spatial:\" * LR_pair_words[1]\n",
    "    LR_pair_Receptor = \"Spatial:\" * LR_pair_words[2]\n",
    "    \n",
    "    ligand_exp_COI_mean = mean(spatial_object[COI_spots, LR_pair_ligand].X)\n",
    "    ligand_exp_otherspots_mean = mean(spatial_object[rest_of_spots, LR_pair_ligand].X)\n",
    "    ligand_FC = round(ligand_exp_COI_mean / ligand_exp_otherspots_mean, digits=4)\n",
    "    \n",
    "    Receptor_exp_COI_mean = mean(spatial_object[COI_spots, LR_pair_Receptor].X)\n",
    "    Receptor_exp_otherspots_mean = mean(spatial_object[rest_of_spots, LR_pair_Receptor].X)\n",
    "    Receptor_FC = round(Receptor_exp_COI_mean / Receptor_exp_otherspots_mean, digits=4)\n",
    "    \n",
    "    pair_p_gt = cooccur_res_df[(cooccur_res_df.pair12 .== pair) .| (cooccur_res_df.pair21 .== pair), :p_gt][1]\n",
    "    ligand_index = findfirst(==(LR_pair_ligand), COI_cors_adata.var_names)\n",
    "    receptor_index = findfirst(==(LR_pair_Receptor), COI_cors_adata.var_names)\n",
    "\n",
    "    if pair_p_gt < 0.05 && COI_cors[ligand_index, receptor_index] > corr_threshold\n",
    "        added_row = DataFrame(from=[LR_pair_ligand], to=[LR_pair_Receptor], correlation=[COI_cors[ligand_index, receptor_index]], ligand_FC=[ligand_FC], Receptor_FC=[Receptor_FC])\n",
    "        append!(COI_enriched_LRs, added_row)\n",
    "    end\n",
    "end"
   ]
  },
  {
   "cell_type": "code",
   "execution_count": 25,
   "metadata": {},
   "outputs": [
    {
     "data": {
      "text/html": [
       "<div><div style = \"float: left;\"><span>1×5 DataFrame</span></div><div style = \"clear: both;\"></div></div><div class = \"data-frame\" style = \"overflow-x: scroll;\"><table class = \"data-frame\" style = \"margin-bottom: 6px;\"><thead><tr class = \"header\"><th class = \"rowNumber\" style = \"font-weight: bold; text-align: right;\">Row</th><th style = \"text-align: left;\">from</th><th style = \"text-align: left;\">to</th><th style = \"text-align: left;\">correlation</th><th style = \"text-align: left;\">ligand_FC</th><th style = \"text-align: left;\">Receptor_FC</th></tr><tr class = \"subheader headerLastRow\"><th class = \"rowNumber\" style = \"font-weight: bold; text-align: right;\"></th><th title = \"String\" style = \"text-align: left;\">String</th><th title = \"String\" style = \"text-align: left;\">String</th><th title = \"Float64\" style = \"text-align: left;\">Float64</th><th title = \"Float64\" style = \"text-align: left;\">Float64</th><th title = \"Float64\" style = \"text-align: left;\">Float64</th></tr></thead><tbody><tr><td class = \"rowNumber\" style = \"font-weight: bold; text-align: right;\">1</td><td style = \"text-align: left;\">Spatial:C3</td><td style = \"text-align: left;\">Spatial:CXCR4</td><td style = \"text-align: right;\">0.79157</td><td style = \"text-align: right;\">1.3346</td><td style = \"text-align: right;\">3.3869</td></tr></tbody></table></div>"
      ],
      "text/latex": [
       "\\begin{tabular}{r|ccccc}\n",
       "\t& from & to & correlation & ligand\\_FC & Receptor\\_FC\\\\\n",
       "\t\\hline\n",
       "\t& String & String & Float64 & Float64 & Float64\\\\\n",
       "\t\\hline\n",
       "\t1 & Spatial:C3 & Spatial:CXCR4 & 0.79157 & 1.3346 & 3.3869 \\\\\n",
       "\\end{tabular}\n"
      ],
      "text/plain": [
       "\u001b[1m1×5 DataFrame\u001b[0m\n",
       "\u001b[1m Row \u001b[0m│\u001b[1m from       \u001b[0m\u001b[1m to            \u001b[0m\u001b[1m correlation \u001b[0m\u001b[1m ligand_FC \u001b[0m\u001b[1m Receptor_FC \u001b[0m\n",
       "     │\u001b[90m String     \u001b[0m\u001b[90m String        \u001b[0m\u001b[90m Float64     \u001b[0m\u001b[90m Float64   \u001b[0m\u001b[90m Float64     \u001b[0m\n",
       "─────┼────────────────────────────────────────────────────────────────\n",
       "   1 │ Spatial:C3  Spatial:CXCR4      0.79157     1.3346       3.3869"
      ]
     },
     "metadata": {},
     "output_type": "display_data"
    }
   ],
   "source": [
    "COI_enriched_LRs"
   ]
  },
  {
   "cell_type": "code",
   "execution_count": 26,
   "metadata": {},
   "outputs": [
    {
     "data": {
      "text/html": [
       "<div><div style = \"float: left;\"><span>1×5 DataFrame</span></div><div style = \"clear: both;\"></div></div><div class = \"data-frame\" style = \"overflow-x: scroll;\"><table class = \"data-frame\" style = \"margin-bottom: 6px;\"><thead><tr class = \"header\"><th class = \"rowNumber\" style = \"font-weight: bold; text-align: right;\">Row</th><th style = \"text-align: left;\">from</th><th style = \"text-align: left;\">to</th><th style = \"text-align: left;\">correlation</th><th style = \"text-align: left;\">ligand_FC</th><th style = \"text-align: left;\">Receptor_FC</th></tr><tr class = \"subheader headerLastRow\"><th class = \"rowNumber\" style = \"font-weight: bold; text-align: right;\"></th><th title = \"String\" style = \"text-align: left;\">String</th><th title = \"String\" style = \"text-align: left;\">String</th><th title = \"Float64\" style = \"text-align: left;\">Float64</th><th title = \"Float64\" style = \"text-align: left;\">Float64</th><th title = \"Float64\" style = \"text-align: left;\">Float64</th></tr></thead><tbody><tr><td class = \"rowNumber\" style = \"font-weight: bold; text-align: right;\">1</td><td style = \"text-align: left;\">Spatial:C3</td><td style = \"text-align: left;\">Spatial:CXCR4</td><td style = \"text-align: right;\">0.79157</td><td style = \"text-align: right;\">1.3346</td><td style = \"text-align: right;\">3.3869</td></tr></tbody></table></div>"
      ],
      "text/latex": [
       "\\begin{tabular}{r|ccccc}\n",
       "\t& from & to & correlation & ligand\\_FC & Receptor\\_FC\\\\\n",
       "\t\\hline\n",
       "\t& String & String & Float64 & Float64 & Float64\\\\\n",
       "\t\\hline\n",
       "\t1 & Spatial:C3 & Spatial:CXCR4 & 0.79157 & 1.3346 & 3.3869 \\\\\n",
       "\\end{tabular}\n"
      ],
      "text/plain": [
       "\u001b[1m1×5 DataFrame\u001b[0m\n",
       "\u001b[1m Row \u001b[0m│\u001b[1m from       \u001b[0m\u001b[1m to            \u001b[0m\u001b[1m correlation \u001b[0m\u001b[1m ligand_FC \u001b[0m\u001b[1m Receptor_FC \u001b[0m\n",
       "     │\u001b[90m String     \u001b[0m\u001b[90m String        \u001b[0m\u001b[90m Float64     \u001b[0m\u001b[90m Float64   \u001b[0m\u001b[90m Float64     \u001b[0m\n",
       "─────┼────────────────────────────────────────────────────────────────\n",
       "   1 │ Spatial:C3  Spatial:CXCR4      0.79157     1.3346       3.3869"
      ]
     },
     "metadata": {},
     "output_type": "display_data"
    }
   ],
   "source": [
    "# Sort the enriched LRs by correlation in decreasing order\n",
    "sort!(COI_enriched_LRs, rev=true, [:correlation])"
   ]
  },
  {
   "cell_type": "code",
   "execution_count": 27,
   "metadata": {},
   "outputs": [
    {
     "data": {
      "text/html": [
       "<div><div style = \"float: left;\"><span>1×6 DataFrame</span></div><div style = \"clear: both;\"></div></div><div class = \"data-frame\" style = \"overflow-x: scroll;\"><table class = \"data-frame\" style = \"margin-bottom: 6px;\"><thead><tr class = \"header\"><th class = \"rowNumber\" style = \"font-weight: bold; text-align: right;\">Row</th><th style = \"text-align: left;\">from</th><th style = \"text-align: left;\">to</th><th style = \"text-align: left;\">correlation</th><th style = \"text-align: left;\">ligand_FC</th><th style = \"text-align: left;\">Receptor_FC</th><th style = \"text-align: left;\">pair</th></tr><tr class = \"subheader headerLastRow\"><th class = \"rowNumber\" style = \"font-weight: bold; text-align: right;\"></th><th title = \"String\" style = \"text-align: left;\">String</th><th title = \"String\" style = \"text-align: left;\">String</th><th title = \"Float64\" style = \"text-align: left;\">Float64</th><th title = \"Float64\" style = \"text-align: left;\">Float64</th><th title = \"Float64\" style = \"text-align: left;\">Float64</th><th title = \"String\" style = \"text-align: left;\">String</th></tr></thead><tbody><tr><td class = \"rowNumber\" style = \"font-weight: bold; text-align: right;\">1</td><td style = \"text-align: left;\">Spatial:C3</td><td style = \"text-align: left;\">Spatial:CXCR4</td><td style = \"text-align: right;\">0.79157</td><td style = \"text-align: right;\">1.3346</td><td style = \"text-align: right;\">3.3869</td><td style = \"text-align: left;\">Spatial:C3_Spatial:CXCR4</td></tr></tbody></table></div>"
      ],
      "text/latex": [
       "\\begin{tabular}{r|cccccc}\n",
       "\t& from & to & correlation & ligand\\_FC & Receptor\\_FC & pair\\\\\n",
       "\t\\hline\n",
       "\t& String & String & Float64 & Float64 & Float64 & String\\\\\n",
       "\t\\hline\n",
       "\t1 & Spatial:C3 & Spatial:CXCR4 & 0.79157 & 1.3346 & 3.3869 & Spatial:C3\\_Spatial:CXCR4 \\\\\n",
       "\\end{tabular}\n"
      ],
      "text/plain": [
       "\u001b[1m1×6 DataFrame\u001b[0m\n",
       "\u001b[1m Row \u001b[0m│\u001b[1m from       \u001b[0m\u001b[1m to            \u001b[0m\u001b[1m correlation \u001b[0m\u001b[1m ligand_FC \u001b[0m\u001b[1m Receptor_FC \u001b[0m\u001b[1m pair   \u001b[0m ⋯\n",
       "     │\u001b[90m String     \u001b[0m\u001b[90m String        \u001b[0m\u001b[90m Float64     \u001b[0m\u001b[90m Float64   \u001b[0m\u001b[90m Float64     \u001b[0m\u001b[90m String \u001b[0m ⋯\n",
       "─────┼──────────────────────────────────────────────────────────────────────────\n",
       "   1 │ Spatial:C3  Spatial:CXCR4      0.79157     1.3346       3.3869  Spatial ⋯\n",
       "\u001b[36m                                                                1 column omitted\u001b[0m"
      ]
     },
     "metadata": {},
     "output_type": "display_data"
    }
   ],
   "source": [
    "# Add a 'pair' column to the enriched LRs DataFrame\n",
    "COI_enriched_LRs[!, :pair] = string.(COI_enriched_LRs[!, :from], \"_\", COI_enriched_LRs[!, :to])\n",
    "COI_enriched_LRs"
   ]
  },
  {
   "cell_type": "code",
   "execution_count": 28,
   "metadata": {},
   "outputs": [
    {
     "data": {
      "text/plain": [
       "Dict{String, Any} with 2 entries:\n",
       "  \"cooccurrence_table\" => OrderedDict{Symbol, Any}(:call=>:(var\"ISCHIA.cooccur\"…\n",
       "  \"COI.enriched_LRs\"   => \u001b[1m1×6 DataFrame\u001b[0m\u001b[0m…"
      ]
     },
     "metadata": {},
     "output_type": "display_data"
    }
   ],
   "source": [
    "Output_dict = Dict(\"COI.enriched_LRs\" => COI_enriched_LRs, \"cooccurrence_table\" => cooccur_COI_res)"
   ]
  },
  {
   "cell_type": "code",
   "execution_count": null,
   "metadata": {},
   "outputs": [],
   "source": [
    "\n",
    "\n",
    "\n",
    "\n",
    "\n",
    "\n",
    "\n",
    "# Output_dict = Dict(\"COI.enriched_LRs\" => COI_enriched_LRs, \"cooccurrence_table\" => cooccur_COI_res)\n",
    "\n",
    "# return Output_dict"
   ]
  },
  {
   "cell_type": "code",
   "execution_count": null,
   "metadata": {},
   "outputs": [],
   "source": [
    "# Define a function to calculate significant co-occurring Ligand-Receptor pairs\n",
    "function enriched_LRs(spatial_object, COI, Condition, LR_list, LR_pairs, exp_th, corr_th)\n",
    "    println(\"Preparing L-R presence/absence matrix\")\n",
    "    \n",
    "    # Extract the expression matrix from spatial_object\n",
    "    spatial_object_exp = spatial_object[:Spatial][:counts]\n",
    "    spatial_object_exp_norm = spatial_object[:Spatial][:data]\n",
    "    \n",
    "    # Subset the expression matrix for the interested ligands and receptors\n",
    "    spatial_obj_exp_LR_subset_raw = spatial_object_exp[LR_list, :]\n",
    "    \n",
    "    # Binarize the expression matrix based on the expression threshold\n",
    "    spatial_obj_exp_LR_subset_raw_binary = spatial_obj_exp_LR_subset_raw .> exp_th\n",
    "    spatial_obj_exp_LR_subset_raw_binary = spatial_obj_exp_LR_subset_raw_binary[:, sum(spatial_obj_exp_LR_subset_raw_binary, dims=1) .> 0]\n",
    "    spatial_obj_exp_LR_subset_raw_binary = spatial_obj_exp_LR_subset_raw_binary[:, sum(spatial_obj_exp_LR_subset_raw_binary, dims=2) .> 0]\n",
    "    LR_presence_absence_mat = spatial_obj_exp_LR_subset_raw_binary\n",
    "    \n",
    "    # Filter spots based on COI and Condition\n",
    "    COI_spots = names(spatial_object[:CompositionCluster_CC][in(COI .& (spatial_object[:orig_ident] .== Condition))])\n",
    "    rest_of_spots = setdiff(1:size(spatial_object, 1), COI_spots)\n",
    "    \n",
    "    println(\"Calculating L-R pairs correlation\")\n",
    "    COI_cors = cor(transpose(spatial_object_exp[LR_list, COI_spots]))\n",
    "    COI_cors[isnan.(COI_cors)] .= 0.0\n",
    "    \n",
    "    println(\"Preparing for cooccurrence\")\n",
    "    common_spots = intersect(LR_list, COI_spots)\n",
    "    coocur_COI_exp = DataFrame(transpose(Matrix(LR_presence_absence_mat[:, common_spots])))\n",
    "    \n",
    "    println(\"Cooccurrence calculation starts...\")\n",
    "    cooccur_COI_res = ISCHIA.cooccur(mat=coocur_COI_exp, type=\"spp_site\", thresh=true, spp_names=true)\n",
    "    println(\"Cooccurrence calculation ended\")\n",
    "    \n",
    "    println(\"Summary of cooccurrence results:\")\n",
    "    println(summary(cooccur_COI_res))\n",
    "    println(\"Probability table of cooccurrence results:\")\n",
    "    println(prob_table(cooccur_COI_res))\n",
    "    \n",
    "    # Add a 'pair' column to the result DataFrame\n",
    "    cooccur_COI_res[:pair] = string.(cooccur_COI_res[:sp1_name], \"_\", cooccur_COI_res[:sp2_name])\n",
    "    rownames!(cooccur_COI_res, cooccur_COI_res[:pair])\n",
    "    \n",
    "    common_pairs = intersect(LR_pairs, rownames(cooccur_COI_res))\n",
    "    \n",
    "    COI_enriched_LRs = DataFrame(from=String[], to=String[], correlation=Float64[], ligand_FC=Float64[], Receptor_FC=Float64[])\n",
    "    \n",
    "    pair_count = 0\n",
    "    for pair in common_pairs\n",
    "        pair_count += 1\n",
    "        println(\"$pair_count / $(length(common_pairs))\")\n",
    "        LR_pair_words = split(pair, \"_\")\n",
    "        LR_pair_ligand = LR_pair_words[1]\n",
    "        LR_pair_Receptor = LR_pair_words[2]\n",
    "        \n",
    "        ligand_exp_COI_mean = mean(spatial_object_exp_norm[LR_pair_ligand, COI_spots])\n",
    "        ligand_exp_otherspots_mean = mean(spatial_object_exp_norm[LR_pair_ligand, rest_of_spots])\n",
    "        ligand_FC = round(ligand_exp_COI_mean / ligand_exp_otherspots_mean, digits=4)\n",
    "        \n",
    "        Receptor_exp_COI_mean = mean(spatial_object_exp_norm[LR_pair_Receptor, COI_spots])\n",
    "        Receptor_exp_otherspots_mean = mean(spatial_object_exp_norm[LR_pair_Receptor, rest_of_spots])\n",
    "        Receptor_FC = round(Receptor_exp_COI_mean / Receptor_exp_otherspots_mean, digits=4)\n",
    "        \n",
    "        if cooccur_COI_res[pair, \"p_gt\"] < 0.05 && COI_cors[LR_pair_ligand, LR_pair_Receptor] > corr_th\n",
    "            added_row = DataFrame(from=[LR_pair_ligand], to=[LR_pair_Receptor], correlation=[COI_cors[LR_pair_ligand, LR_pair_Receptor]], ligand_FC=[ligand_FC], Receptor_FC=[Receptor_FC])\n",
    "            append!(COI_enriched_LRs, added_row)\n",
    "        end\n",
    "    end\n",
    "    \n",
    "    # Sort the enriched LRs by correlation in decreasing order\n",
    "    sort!(COI_enriched_LRs, rev=true, by=:correlation)\n",
    "    \n",
    "    # Add a 'pair' column to the enriched LRs DataFrame\n",
    "    COI_enriched_LRs[:pair] = string.(COI_enriched_LRs[:from], \"_\", COI_enriched_LRs[:to])\n",
    "    \n",
    "    Output_dict = Dict(\"COI.enriched_LRs\" => COI_enriched_LRs, \"cooccurrence_table\" => cooccur_COI_res)\n",
    "    \n",
    "    return Output_dict\n",
    "end"
   ]
  }
 ],
 "metadata": {
  "kernelspec": {
   "display_name": "Julia 1.9.3",
   "language": "julia",
   "name": "julia-1.9"
  },
  "language_info": {
   "file_extension": ".jl",
   "mimetype": "application/julia",
   "name": "julia",
   "version": "1.9.3"
  },
  "orig_nbformat": 4
 },
 "nbformat": 4,
 "nbformat_minor": 2
}
