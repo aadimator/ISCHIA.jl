{
 "cells": [
  {
   "cell_type": "code",
   "execution_count": 1,
   "metadata": {},
   "outputs": [],
   "source": [
    "import anndata as ad\n",
    "import mudata as md\n",
    "from mudata import MuData"
   ]
  },
  {
   "cell_type": "code",
   "execution_count": 2,
   "metadata": {},
   "outputs": [
    {
     "name": "stderr",
     "output_type": "stream",
     "text": [
      "c:\\Users\\mraadam\\AppData\\Local\\miniforge3\\envs\\spatial\\lib\\site-packages\\mudata\\_core\\mudata.py:491: UserWarning: Cannot join columns with the same name because var_names are intersecting.\n",
      "  warnings.warn(\n",
      "c:\\Users\\mraadam\\AppData\\Local\\miniforge3\\envs\\spatial\\lib\\site-packages\\mudata\\_core\\mudata.py:1059: UserWarning: Modality names will be prepended to var_names since there are identical var_names in different modalities.\n",
      "  warnings.warn(\n"
     ]
    },
    {
     "data": {
      "text/html": [
       "<pre>MuData object with n_obs × n_vars = 2185 × 55545\n",
       "  3 modalities\n",
       "    SCT:\t2185 x 18910\n",
       "      obs:\t&#x27;orig.ident&#x27;, &#x27;Sample&#x27;, &#x27;CompositionCluster_CC&#x27;, &#x27;predicted.id&#x27;, &#x27;nCount_Spatial&#x27;, &#x27;nFeature_Spatial&#x27;, &#x27;nCount_SCT&#x27;, &#x27;nFeature_SCT&#x27;, &#x27;Deconvoluted_B_Prob&#x27;, &#x27;Deconvoluted_CD4.T_Prob&#x27;, &#x27;Deconvoluted_CD8..T_Prob&#x27;, &#x27;Deconvoluted_DC_Prob&#x27;, &#x27;Deconvoluted_Endothelial_Prob&#x27;, &#x27;Deconvoluted_Enterocytes_Prob&#x27;, &#x27;Deconvoluted_Fibroblasts_Prob&#x27;, &#x27;Deconvoluted_Goblet_Prob&#x27;, &#x27;Deconvoluted_ILCs_Prob&#x27;, &#x27;Deconvoluted_Inflammatory.Fibroblasts_Prob&#x27;, &#x27;Deconvoluted_Macrophages_Prob&#x27;, &#x27;Deconvoluted_Mast_Prob&#x27;, &#x27;Deconvoluted_Mcells_Prob&#x27;, &#x27;Deconvoluted_Monocytes_Prob&#x27;, &#x27;Deconvoluted_Neutrophils_Prob&#x27;, &#x27;Deconvoluted_NK_Prob&#x27;, &#x27;Deconvoluted_Plasma_Prob&#x27;, &#x27;Deconvoluted_TA_Prob&#x27;, &#x27;Deconvoluted_Tregs_Prob&#x27;, &#x27;Deconvoluted_Tuft_Prob&#x27;, &#x27;nCount_predictions&#x27;, &#x27;nFeature_predictions&#x27;\n",
       "      var:\t&#x27;name&#x27;\n",
       "      obsm:\t&#x27;X_pca&#x27;, &#x27;X_umap&#x27;\n",
       "      layers:\t&#x27;counts&#x27;\n",
       "    Spatial:\t2185 x 36601\n",
       "      obs:\t&#x27;orig.ident&#x27;, &#x27;Sample&#x27;, &#x27;CompositionCluster_CC&#x27;, &#x27;predicted.id&#x27;, &#x27;nCount_Spatial&#x27;, &#x27;nFeature_Spatial&#x27;, &#x27;nCount_SCT&#x27;, &#x27;nFeature_SCT&#x27;, &#x27;Deconvoluted_B_Prob&#x27;, &#x27;Deconvoluted_CD4.T_Prob&#x27;, &#x27;Deconvoluted_CD8..T_Prob&#x27;, &#x27;Deconvoluted_DC_Prob&#x27;, &#x27;Deconvoluted_Endothelial_Prob&#x27;, &#x27;Deconvoluted_Enterocytes_Prob&#x27;, &#x27;Deconvoluted_Fibroblasts_Prob&#x27;, &#x27;Deconvoluted_Goblet_Prob&#x27;, &#x27;Deconvoluted_ILCs_Prob&#x27;, &#x27;Deconvoluted_Inflammatory.Fibroblasts_Prob&#x27;, &#x27;Deconvoluted_Macrophages_Prob&#x27;, &#x27;Deconvoluted_Mast_Prob&#x27;, &#x27;Deconvoluted_Mcells_Prob&#x27;, &#x27;Deconvoluted_Monocytes_Prob&#x27;, &#x27;Deconvoluted_Neutrophils_Prob&#x27;, &#x27;Deconvoluted_NK_Prob&#x27;, &#x27;Deconvoluted_Plasma_Prob&#x27;, &#x27;Deconvoluted_TA_Prob&#x27;, &#x27;Deconvoluted_Tregs_Prob&#x27;, &#x27;Deconvoluted_Tuft_Prob&#x27;, &#x27;nCount_predictions&#x27;, &#x27;nFeature_predictions&#x27;\n",
       "      var:\t&#x27;name&#x27;\n",
       "      obsm:\t&#x27;X_pca&#x27;, &#x27;X_umap&#x27;\n",
       "      layers:\t&#x27;counts&#x27;\n",
       "    Predictions:\t2185 x 34\n",
       "      obs:\t&#x27;orig.ident&#x27;, &#x27;Sample&#x27;, &#x27;CompositionCluster_CC&#x27;, &#x27;predicted.id&#x27;, &#x27;nCount_Spatial&#x27;, &#x27;nFeature_Spatial&#x27;, &#x27;nCount_SCT&#x27;, &#x27;nFeature_SCT&#x27;, &#x27;Deconvoluted_B_Prob&#x27;, &#x27;Deconvoluted_CD4.T_Prob&#x27;, &#x27;Deconvoluted_CD8..T_Prob&#x27;, &#x27;Deconvoluted_DC_Prob&#x27;, &#x27;Deconvoluted_Endothelial_Prob&#x27;, &#x27;Deconvoluted_Enterocytes_Prob&#x27;, &#x27;Deconvoluted_Fibroblasts_Prob&#x27;, &#x27;Deconvoluted_Goblet_Prob&#x27;, &#x27;Deconvoluted_ILCs_Prob&#x27;, &#x27;Deconvoluted_Inflammatory.Fibroblasts_Prob&#x27;, &#x27;Deconvoluted_Macrophages_Prob&#x27;, &#x27;Deconvoluted_Mast_Prob&#x27;, &#x27;Deconvoluted_Mcells_Prob&#x27;, &#x27;Deconvoluted_Monocytes_Prob&#x27;, &#x27;Deconvoluted_Neutrophils_Prob&#x27;, &#x27;Deconvoluted_NK_Prob&#x27;, &#x27;Deconvoluted_Plasma_Prob&#x27;, &#x27;Deconvoluted_TA_Prob&#x27;, &#x27;Deconvoluted_Tregs_Prob&#x27;, &#x27;Deconvoluted_Tuft_Prob&#x27;, &#x27;nCount_predictions&#x27;, &#x27;nFeature_predictions&#x27;\n",
       "      var:\t&#x27;name&#x27;\n",
       "      obsm:\t&#x27;X_pca&#x27;, &#x27;X_umap&#x27;\n",
       "      layers:\t&#x27;counts&#x27;</pre>"
      ],
      "text/plain": [
       "MuData object with n_obs × n_vars = 2185 × 55545\n",
       "  3 modalities\n",
       "    SCT:\t2185 x 18910\n",
       "      obs:\t'orig.ident', 'Sample', 'CompositionCluster_CC', 'predicted.id', 'nCount_Spatial', 'nFeature_Spatial', 'nCount_SCT', 'nFeature_SCT', 'Deconvoluted_B_Prob', 'Deconvoluted_CD4.T_Prob', 'Deconvoluted_CD8..T_Prob', 'Deconvoluted_DC_Prob', 'Deconvoluted_Endothelial_Prob', 'Deconvoluted_Enterocytes_Prob', 'Deconvoluted_Fibroblasts_Prob', 'Deconvoluted_Goblet_Prob', 'Deconvoluted_ILCs_Prob', 'Deconvoluted_Inflammatory.Fibroblasts_Prob', 'Deconvoluted_Macrophages_Prob', 'Deconvoluted_Mast_Prob', 'Deconvoluted_Mcells_Prob', 'Deconvoluted_Monocytes_Prob', 'Deconvoluted_Neutrophils_Prob', 'Deconvoluted_NK_Prob', 'Deconvoluted_Plasma_Prob', 'Deconvoluted_TA_Prob', 'Deconvoluted_Tregs_Prob', 'Deconvoluted_Tuft_Prob', 'nCount_predictions', 'nFeature_predictions'\n",
       "      var:\t'name'\n",
       "      obsm:\t'X_pca', 'X_umap'\n",
       "      layers:\t'counts'\n",
       "    Spatial:\t2185 x 36601\n",
       "      obs:\t'orig.ident', 'Sample', 'CompositionCluster_CC', 'predicted.id', 'nCount_Spatial', 'nFeature_Spatial', 'nCount_SCT', 'nFeature_SCT', 'Deconvoluted_B_Prob', 'Deconvoluted_CD4.T_Prob', 'Deconvoluted_CD8..T_Prob', 'Deconvoluted_DC_Prob', 'Deconvoluted_Endothelial_Prob', 'Deconvoluted_Enterocytes_Prob', 'Deconvoluted_Fibroblasts_Prob', 'Deconvoluted_Goblet_Prob', 'Deconvoluted_ILCs_Prob', 'Deconvoluted_Inflammatory.Fibroblasts_Prob', 'Deconvoluted_Macrophages_Prob', 'Deconvoluted_Mast_Prob', 'Deconvoluted_Mcells_Prob', 'Deconvoluted_Monocytes_Prob', 'Deconvoluted_Neutrophils_Prob', 'Deconvoluted_NK_Prob', 'Deconvoluted_Plasma_Prob', 'Deconvoluted_TA_Prob', 'Deconvoluted_Tregs_Prob', 'Deconvoluted_Tuft_Prob', 'nCount_predictions', 'nFeature_predictions'\n",
       "      var:\t'name'\n",
       "      obsm:\t'X_pca', 'X_umap'\n",
       "      layers:\t'counts'\n",
       "    Predictions:\t2185 x 34\n",
       "      obs:\t'orig.ident', 'Sample', 'CompositionCluster_CC', 'predicted.id', 'nCount_Spatial', 'nFeature_Spatial', 'nCount_SCT', 'nFeature_SCT', 'Deconvoluted_B_Prob', 'Deconvoluted_CD4.T_Prob', 'Deconvoluted_CD8..T_Prob', 'Deconvoluted_DC_Prob', 'Deconvoluted_Endothelial_Prob', 'Deconvoluted_Enterocytes_Prob', 'Deconvoluted_Fibroblasts_Prob', 'Deconvoluted_Goblet_Prob', 'Deconvoluted_ILCs_Prob', 'Deconvoluted_Inflammatory.Fibroblasts_Prob', 'Deconvoluted_Macrophages_Prob', 'Deconvoluted_Mast_Prob', 'Deconvoluted_Mcells_Prob', 'Deconvoluted_Monocytes_Prob', 'Deconvoluted_Neutrophils_Prob', 'Deconvoluted_NK_Prob', 'Deconvoluted_Plasma_Prob', 'Deconvoluted_TA_Prob', 'Deconvoluted_Tregs_Prob', 'Deconvoluted_Tuft_Prob', 'nCount_predictions', 'nFeature_predictions'\n",
       "      var:\t'name'\n",
       "      obsm:\t'X_pca', 'X_umap'\n",
       "      layers:\t'counts'"
      ]
     },
     "execution_count": 2,
     "metadata": {},
     "output_type": "execute_result"
    }
   ],
   "source": [
    "# adata = anndata.read_h5ad(\"../data/processed.h5ad\")\n",
    "sct = ad.read_h5ad(\"../data/SCT.h5ad\")\n",
    "spatial = ad.read_h5ad(\"../data/Spatial.h5ad\")\n",
    "preds = ad.read_h5ad(\"../data/predictions.h5ad\")\n",
    "mdata = MuData({\"SCT\": sct, \"Spatial\": spatial, \"Predictions\": preds})\n",
    "mdata.var_names_make_unique()\n",
    "mdata"
   ]
  },
  {
   "cell_type": "code",
   "execution_count": 12,
   "metadata": {},
   "outputs": [],
   "source": [
    "spots = [\n",
    "    \"P4.noninf_AACCCGATAGGGCTTC-1\",\n",
    " \"P4.noninf_ACGTTCGCAATCAATT-1\",\n",
    " \"P4.noninf_AGGACATCGCACGTCG-1\",\n",
    " \"P4.noninf_ATGGAACCTTTGCACA-1\",\n",
    " \"P4.noninf_CGGTATAGGTATTAGC-1\",\n",
    " \"P4.noninf_GACGACGATCCGCGTT-1\",\n",
    " \"P4.noninf_GCCCACCAAGGCTGTC-1\",\n",
    " \"P4.noninf_GCCTGCTACACTGAGA-1\",\n",
    " \"P4.noninf_GCGAGCGCATGCTCCC-1\",\n",
    " \"P4.noninf_GTTTGGTAGGGTCAAC-1\",\n",
    " \"P4.noninf_TCACTACGACCAATGC-1\",\n",
    " \"P4.noninf_TCTATCATGCAGTTAC-1\",\n",
    " \"P4.noninf_TCTATTACGCTGGCGA-1\",\n",
    " \"P4.noninf_TTCGGCTAGAGATGGT-1\"\n",
    "]\n",
    "\n",
    "genes = [\"Spatial:CCL21\"]"
   ]
  },
  {
   "cell_type": "code",
   "execution_count": 13,
   "metadata": {},
   "outputs": [
    {
     "name": "stderr",
     "output_type": "stream",
     "text": [
      "c:\\Users\\mraadam\\AppData\\Local\\miniforge3\\envs\\spatial\\lib\\site-packages\\anndata\\_core\\anndata.py:1113: FutureWarning: is_categorical_dtype is deprecated and will be removed in a future version. Use isinstance(dtype, CategoricalDtype) instead\n",
      "  if not is_categorical_dtype(df_full[k]):\n"
     ]
    },
    {
     "data": {
      "text/plain": [
       "matrix([[ 0.],\n",
       "        [ 1.],\n",
       "        [ 0.],\n",
       "        [ 0.],\n",
       "        [ 2.],\n",
       "        [11.],\n",
       "        [ 0.],\n",
       "        [ 2.],\n",
       "        [ 1.],\n",
       "        [ 0.],\n",
       "        [24.],\n",
       "        [ 5.],\n",
       "        [ 0.],\n",
       "        [ 0.]])"
      ]
     },
     "execution_count": 13,
     "metadata": {},
     "output_type": "execute_result"
    }
   ],
   "source": [
    "spatial[spots, genes].X.todense()"
   ]
  },
  {
   "cell_type": "code",
   "execution_count": 4,
   "metadata": {},
   "outputs": [],
   "source": [
    "mdata.write(\"../data/mudata.h5mu\")"
   ]
  },
  {
   "cell_type": "code",
   "execution_count": null,
   "metadata": {},
   "outputs": [],
   "source": []
  }
 ],
 "metadata": {
  "kernelspec": {
   "display_name": "spatial",
   "language": "python",
   "name": "python3"
  },
  "language_info": {
   "codemirror_mode": {
    "name": "ipython",
    "version": 3
   },
   "file_extension": ".py",
   "mimetype": "text/x-python",
   "name": "python",
   "nbconvert_exporter": "python",
   "pygments_lexer": "ipython3",
   "version": "3.10.12"
  },
  "orig_nbformat": 4
 },
 "nbformat": 4,
 "nbformat_minor": 2
}
