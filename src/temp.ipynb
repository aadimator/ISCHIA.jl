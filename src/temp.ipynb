{
 "cells": [
  {
   "cell_type": "markdown",
   "metadata": {},
   "source": [
    "# Temporary Worksapce\n",
    "\n",
    "To test things out"
   ]
  },
  {
   "cell_type": "code",
   "execution_count": 1,
   "metadata": {},
   "outputs": [],
   "source": [
    "using Muon\n",
    "using RData\n",
    "using Random\n",
    "using DataFrames"
   ]
  },
  {
   "cell_type": "code",
   "execution_count": 2,
   "metadata": {},
   "outputs": [],
   "source": [
    "adata = readh5ad(\"../data/SCT.h5ad\")\n",
    "lr_network = load(\"../data/lr_network.rds\");"
   ]
  },
  {
   "cell_type": "code",
   "execution_count": 3,
   "metadata": {},
   "outputs": [
    {
     "data": {
      "text/html": [
       "<div><div style = \"float: left;\"><span>5×26 DataFrame</span></div><div style = \"clear: both;\"></div></div><div class = \"data-frame\" style = \"overflow-x: scroll;\"><table class = \"data-frame\" style = \"margin-bottom: 6px;\"><thead><tr class = \"header\"><th class = \"rowNumber\" style = \"font-weight: bold; text-align: right;\">Row</th><th style = \"text-align: left;\">CompositionCluster_CC</th><th style = \"text-align: left;\">predicted.id</th><th style = \"text-align: left;\">nCount_Spatial</th><th style = \"text-align: left;\">nFeature_Spatial</th><th style = \"text-align: left;\">nCount_SCT</th><th style = \"text-align: left;\">nFeature_SCT</th><th style = \"text-align: left;\">Deconvoluted_B_Prob</th><th style = \"text-align: left;\">Deconvoluted_CD4.T_Prob</th><th style = \"text-align: left;\">Deconvoluted_CD8..T_Prob</th><th style = \"text-align: left;\">Deconvoluted_DC_Prob</th><th style = \"text-align: left;\">Deconvoluted_Endothelial_Prob</th><th style = \"text-align: left;\">Deconvoluted_Enterocytes_Prob</th><th style = \"text-align: left;\">Deconvoluted_Fibroblasts_Prob</th><th style = \"text-align: left;\">Deconvoluted_Goblet_Prob</th><th style = \"text-align: left;\">Deconvoluted_ILCs_Prob</th><th style = \"text-align: left;\">Deconvoluted_Inflammatory.Fibroblasts_Prob</th><th style = \"text-align: left;\">Deconvoluted_Macrophages_Prob</th><th style = \"text-align: left;\">Deconvoluted_Mast_Prob</th><th style = \"text-align: left;\">Deconvoluted_Mcells_Prob</th><th style = \"text-align: left;\">Deconvoluted_Monocytes_Prob</th><th style = \"text-align: left;\">Deconvoluted_Neutrophils_Prob</th><th style = \"text-align: left;\">Deconvoluted_NK_Prob</th><th style = \"text-align: left;\">Deconvoluted_Plasma_Prob</th><th style = \"text-align: left;\">Deconvoluted_TA_Prob</th><th style = \"text-align: left;\">Deconvoluted_Tregs_Prob</th><th style = \"text-align: left;\">Deconvoluted_Tuft_Prob</th></tr><tr class = \"subheader headerLastRow\"><th class = \"rowNumber\" style = \"font-weight: bold; text-align: right;\"></th><th title = \"CategoricalArrays.CategoricalValue{String, UInt32}\" style = \"text-align: left;\">Cat…</th><th title = \"CategoricalArrays.CategoricalValue{String, UInt32}\" style = \"text-align: left;\">Cat…</th><th title = \"Float64\" style = \"text-align: left;\">Float64</th><th title = \"Int32\" style = \"text-align: left;\">Int32</th><th title = \"Float64\" style = \"text-align: left;\">Float64</th><th title = \"Int32\" style = \"text-align: left;\">Int32</th><th title = \"Float64\" style = \"text-align: left;\">Float64</th><th title = \"Float64\" style = \"text-align: left;\">Float64</th><th title = \"Float64\" style = \"text-align: left;\">Float64</th><th title = \"Float64\" style = \"text-align: left;\">Float64</th><th title = \"Float64\" style = \"text-align: left;\">Float64</th><th title = \"Float64\" style = \"text-align: left;\">Float64</th><th title = \"Float64\" style = \"text-align: left;\">Float64</th><th title = \"Float64\" style = \"text-align: left;\">Float64</th><th title = \"Float64\" style = \"text-align: left;\">Float64</th><th title = \"Float64\" style = \"text-align: left;\">Float64</th><th title = \"Float64\" style = \"text-align: left;\">Float64</th><th title = \"Float64\" style = \"text-align: left;\">Float64</th><th title = \"Float64\" style = \"text-align: left;\">Float64</th><th title = \"Float64\" style = \"text-align: left;\">Float64</th><th title = \"Float64\" style = \"text-align: left;\">Float64</th><th title = \"Float64\" style = \"text-align: left;\">Float64</th><th title = \"Float64\" style = \"text-align: left;\">Float64</th><th title = \"Float64\" style = \"text-align: left;\">Float64</th><th title = \"Float64\" style = \"text-align: left;\">Float64</th><th title = \"Float64\" style = \"text-align: left;\">Float64</th></tr></thead><tbody><tr><td class = \"rowNumber\" style = \"font-weight: bold; text-align: right;\">1</td><td style = \"text-align: left;\">CC6</td><td style = \"text-align: left;\">TA</td><td style = \"text-align: right;\">9500.0</td><td style = \"text-align: right;\">3382</td><td style = \"text-align: right;\">5091.0</td><td style = \"text-align: right;\">2767</td><td style = \"text-align: right;\">0.110827</td><td style = \"text-align: right;\">0.0362491</td><td style = \"text-align: right;\">0.0629087</td><td style = \"text-align: right;\">0.0</td><td style = \"text-align: right;\">0.00409948</td><td style = \"text-align: right;\">0.0466145</td><td style = \"text-align: right;\">0.00642297</td><td style = \"text-align: right;\">0.087586</td><td style = \"text-align: right;\">0.0</td><td style = \"text-align: right;\">0.00906009</td><td style = \"text-align: right;\">0.0</td><td style = \"text-align: right;\">0.025285</td><td style = \"text-align: right;\">0.00689851</td><td style = \"text-align: right;\">0.0517618</td><td style = \"text-align: right;\">0.0464921</td><td style = \"text-align: right;\">0.0</td><td style = \"text-align: right;\">0.0362959</td><td style = \"text-align: right;\">0.469499</td><td style = \"text-align: right;\">0.0</td><td style = \"text-align: right;\">0.0</td></tr><tr><td class = \"rowNumber\" style = \"font-weight: bold; text-align: right;\">2</td><td style = \"text-align: left;\">CC7</td><td style = \"text-align: left;\">Plasma</td><td style = \"text-align: right;\">13031.0</td><td style = \"text-align: right;\">4195</td><td style = \"text-align: right;\">4505.0</td><td style = \"text-align: right;\">2264</td><td style = \"text-align: right;\">9.07313e-18</td><td style = \"text-align: right;\">0.000244837</td><td style = \"text-align: right;\">0.0567895</td><td style = \"text-align: right;\">0.00208808</td><td style = \"text-align: right;\">0.0173666</td><td style = \"text-align: right;\">0.0454543</td><td style = \"text-align: right;\">0.0112047</td><td style = \"text-align: right;\">0.015053</td><td style = \"text-align: right;\">0.0132461</td><td style = \"text-align: right;\">0.0214567</td><td style = \"text-align: right;\">0.320661</td><td style = \"text-align: right;\">1.54369e-17</td><td style = \"text-align: right;\">0.00123446</td><td style = \"text-align: right;\">0.00964091</td><td style = \"text-align: right;\">0.0583849</td><td style = \"text-align: right;\">0.0</td><td style = \"text-align: right;\">0.0663191</td><td style = \"text-align: right;\">0.262881</td><td style = \"text-align: right;\">0.0453937</td><td style = \"text-align: right;\">0.0525808</td></tr><tr><td class = \"rowNumber\" style = \"font-weight: bold; text-align: right;\">3</td><td style = \"text-align: left;\">CC8</td><td style = \"text-align: left;\">CD4</td><td style = \"text-align: right;\">4198.0</td><td style = \"text-align: right;\">2591</td><td style = \"text-align: right;\">4187.0</td><td style = \"text-align: right;\">2580</td><td style = \"text-align: right;\">0.182994</td><td style = \"text-align: right;\">0.140278</td><td style = \"text-align: right;\">0.233147</td><td style = \"text-align: right;\">0.0104887</td><td style = \"text-align: right;\">0.0668716</td><td style = \"text-align: right;\">0.0</td><td style = \"text-align: right;\">0.0199931</td><td style = \"text-align: right;\">0.00414359</td><td style = \"text-align: right;\">0.0309342</td><td style = \"text-align: right;\">0.0351498</td><td style = \"text-align: right;\">0.0770044</td><td style = \"text-align: right;\">0.0222782</td><td style = \"text-align: right;\">0.0014616</td><td style = \"text-align: right;\">0.0174124</td><td style = \"text-align: right;\">0.0254909</td><td style = \"text-align: right;\">0.0</td><td style = \"text-align: right;\">0.0</td><td style = \"text-align: right;\">0.0115749</td><td style = \"text-align: right;\">0.120778</td><td style = \"text-align: right;\">0.0</td></tr><tr><td class = \"rowNumber\" style = \"font-weight: bold; text-align: right;\">4</td><td style = \"text-align: left;\">CC3</td><td style = \"text-align: left;\">Fibroblasts</td><td style = \"text-align: right;\">1105.0</td><td style = \"text-align: right;\">751</td><td style = \"text-align: right;\">3221.0</td><td style = \"text-align: right;\">1004</td><td style = \"text-align: right;\">0.162122</td><td style = \"text-align: right;\">0.0352555</td><td style = \"text-align: right;\">0.0504496</td><td style = \"text-align: right;\">0.0</td><td style = \"text-align: right;\">0.0233267</td><td style = \"text-align: right;\">0.0</td><td style = \"text-align: right;\">0.0212781</td><td style = \"text-align: right;\">0.0900401</td><td style = \"text-align: right;\">0.00561752</td><td style = \"text-align: right;\">0.0986164</td><td style = \"text-align: right;\">0.054518</td><td style = \"text-align: right;\">5.59361e-18</td><td style = \"text-align: right;\">6.38478e-5</td><td style = \"text-align: right;\">0.0335658</td><td style = \"text-align: right;\">0.0332916</td><td style = \"text-align: right;\">0.0</td><td style = \"text-align: right;\">0.0262774</td><td style = \"text-align: right;\">0.365578</td><td style = \"text-align: right;\">0.0</td><td style = \"text-align: right;\">0.0</td></tr><tr><td class = \"rowNumber\" style = \"font-weight: bold; text-align: right;\">5</td><td style = \"text-align: left;\">CC7</td><td style = \"text-align: left;\">Postcapillary_Venules</td><td style = \"text-align: right;\">8727.0</td><td style = \"text-align: right;\">3517</td><td style = \"text-align: right;\">5303.0</td><td style = \"text-align: right;\">3109</td><td style = \"text-align: right;\">0.0358204</td><td style = \"text-align: right;\">0.0209851</td><td style = \"text-align: right;\">0.030029</td><td style = \"text-align: right;\">0.0</td><td style = \"text-align: right;\">0.153044</td><td style = \"text-align: right;\">0.00529109</td><td style = \"text-align: right;\">0.0222282</td><td style = \"text-align: right;\">0.040053</td><td style = \"text-align: right;\">0.0255154</td><td style = \"text-align: right;\">0.114603</td><td style = \"text-align: right;\">0.0986734</td><td style = \"text-align: right;\">0.0443718</td><td style = \"text-align: right;\">0.00757579</td><td style = \"text-align: right;\">0.0489262</td><td style = \"text-align: right;\">0.115696</td><td style = \"text-align: right;\">0.0</td><td style = \"text-align: right;\">0.0342289</td><td style = \"text-align: right;\">0.194998</td><td style = \"text-align: right;\">0.0</td><td style = \"text-align: right;\">0.00796098</td></tr></tbody></table></div>"
      ],
      "text/latex": [
       "\\begin{tabular}{r|ccccc}\n",
       "\t& CompositionCluster\\_CC & predicted.id & nCount\\_Spatial & nFeature\\_Spatial & \\\\\n",
       "\t\\hline\n",
       "\t& Cat… & Cat… & Float64 & Int32 & \\\\\n",
       "\t\\hline\n",
       "\t1 & CC6 & TA & 9500.0 & 3382 & $\\dots$ \\\\\n",
       "\t2 & CC7 & Plasma & 13031.0 & 4195 & $\\dots$ \\\\\n",
       "\t3 & CC8 & CD4 & 4198.0 & 2591 & $\\dots$ \\\\\n",
       "\t4 & CC3 & Fibroblasts & 1105.0 & 751 & $\\dots$ \\\\\n",
       "\t5 & CC7 & Postcapillary\\_Venules & 8727.0 & 3517 & $\\dots$ \\\\\n",
       "\\end{tabular}\n"
      ],
      "text/plain": [
       "\u001b[1m5×26 DataFrame\u001b[0m\n",
       "\u001b[1m Row \u001b[0m│\u001b[1m CompositionCluster_CC \u001b[0m\u001b[1m predicted.id          \u001b[0m\u001b[1m nCount_Spatial \u001b[0m\u001b[1m nFeature_\u001b[0m ⋯\n",
       "     │\u001b[90m CategoricalValue…     \u001b[0m\u001b[90m CategoricalValue…     \u001b[0m\u001b[90m Float64        \u001b[0m\u001b[90m Int32    \u001b[0m ⋯\n",
       "─────┼──────────────────────────────────────────────────────────────────────────\n",
       "   1 │ CC6                    TA                             9500.0            ⋯\n",
       "   2 │ CC7                    Plasma                        13031.0\n",
       "   3 │ CC8                    CD4                            4198.0\n",
       "   4 │ CC3                    Fibroblasts                    1105.0\n",
       "   5 │ CC7                    Postcapillary_Venules          8727.0            ⋯\n",
       "\u001b[36m                                                              23 columns omitted\u001b[0m"
      ]
     },
     "metadata": {},
     "output_type": "display_data"
    },
    {
     "data": {
      "text/html": [
       "<div><div style = \"float: left;\"><span>5×1 DataFrame</span></div><div style = \"clear: both;\"></div></div><div class = \"data-frame\" style = \"overflow-x: scroll;\"><table class = \"data-frame\" style = \"margin-bottom: 6px;\"><thead><tr class = \"header\"><th class = \"rowNumber\" style = \"font-weight: bold; text-align: right;\">Row</th><th style = \"text-align: left;\">name</th></tr><tr class = \"subheader headerLastRow\"><th class = \"rowNumber\" style = \"font-weight: bold; text-align: right;\"></th><th title = \"String\" style = \"text-align: left;\">String</th></tr></thead><tbody><tr><td class = \"rowNumber\" style = \"font-weight: bold; text-align: right;\">1</td><td style = \"text-align: left;\">AL627309.1</td></tr><tr><td class = \"rowNumber\" style = \"font-weight: bold; text-align: right;\">2</td><td style = \"text-align: left;\">AL627309.5</td></tr><tr><td class = \"rowNumber\" style = \"font-weight: bold; text-align: right;\">3</td><td style = \"text-align: left;\">LINC01409</td></tr><tr><td class = \"rowNumber\" style = \"font-weight: bold; text-align: right;\">4</td><td style = \"text-align: left;\">LINC01128</td></tr><tr><td class = \"rowNumber\" style = \"font-weight: bold; text-align: right;\">5</td><td style = \"text-align: left;\">LINC00115</td></tr></tbody></table></div>"
      ],
      "text/latex": [
       "\\begin{tabular}{r|c}\n",
       "\t& name\\\\\n",
       "\t\\hline\n",
       "\t& String\\\\\n",
       "\t\\hline\n",
       "\t1 & AL627309.1 \\\\\n",
       "\t2 & AL627309.5 \\\\\n",
       "\t3 & LINC01409 \\\\\n",
       "\t4 & LINC01128 \\\\\n",
       "\t5 & LINC00115 \\\\\n",
       "\\end{tabular}\n"
      ],
      "text/plain": [
       "\u001b[1m5×1 DataFrame\u001b[0m\n",
       "\u001b[1m Row \u001b[0m│\u001b[1m name       \u001b[0m\n",
       "     │\u001b[90m String     \u001b[0m\n",
       "─────┼────────────\n",
       "   1 │ AL627309.1\n",
       "   2 │ AL627309.5\n",
       "   3 │ LINC01409\n",
       "   4 │ LINC01128\n",
       "   5 │ LINC00115"
      ]
     },
     "metadata": {},
     "output_type": "display_data"
    },
    {
     "data": {
      "text/plain": [
       "Muon.AlignedMapping{Tuple{1 => 1}, String, AnnData} with 2 entries:\n",
       "  \"X_pca\"  => [4.01475 11.0479 … -0.390483 0.810208; -3.26189 -3.26585 … 1.5099…\n",
       "  \"X_umap\" => [1.10153 3.72744; 8.36962 1.93914; … ; 6.32683 4.19993; 5.8863 4.…"
      ]
     },
     "metadata": {},
     "output_type": "display_data"
    }
   ],
   "source": [
    "display(first(adata.obs, 5))\n",
    "display(first(adata.var, 5))\n",
    "adata.obsm"
   ]
  },
  {
   "cell_type": "code",
   "execution_count": 12,
   "metadata": {},
   "outputs": [
    {
     "data": {
      "text/html": [
       "<div><div style = \"float: left;\"><span>5×5 DataFrame</span></div><div style = \"clear: both;\"></div></div><div class = \"data-frame\" style = \"overflow-x: scroll;\"><table class = \"data-frame\" style = \"margin-bottom: 6px;\"><thead><tr class = \"header\"><th class = \"rowNumber\" style = \"font-weight: bold; text-align: right;\">Row</th><th style = \"text-align: left;\">from</th><th style = \"text-align: left;\">to</th><th style = \"text-align: left;\">source</th><th style = \"text-align: left;\">database</th><th style = \"text-align: left;\">LR_Pairs</th></tr><tr class = \"subheader headerLastRow\"><th class = \"rowNumber\" style = \"font-weight: bold; text-align: right;\"></th><th title = \"String\" style = \"text-align: left;\">String</th><th title = \"String\" style = \"text-align: left;\">String</th><th title = \"String\" style = \"text-align: left;\">String</th><th title = \"String\" style = \"text-align: left;\">String</th><th title = \"String\" style = \"text-align: left;\">String</th></tr></thead><tbody><tr><td class = \"rowNumber\" style = \"font-weight: bold; text-align: right;\">1</td><td style = \"text-align: left;\">CXCL1</td><td style = \"text-align: left;\">CXCR2</td><td style = \"text-align: left;\">kegg_cytokines</td><td style = \"text-align: left;\">kegg</td><td style = \"text-align: left;\">CXCL1_CXCR2</td></tr><tr><td class = \"rowNumber\" style = \"font-weight: bold; text-align: right;\">2</td><td style = \"text-align: left;\">CXCL2</td><td style = \"text-align: left;\">CXCR2</td><td style = \"text-align: left;\">kegg_cytokines</td><td style = \"text-align: left;\">kegg</td><td style = \"text-align: left;\">CXCL2_CXCR2</td></tr><tr><td class = \"rowNumber\" style = \"font-weight: bold; text-align: right;\">3</td><td style = \"text-align: left;\">CXCL3</td><td style = \"text-align: left;\">CXCR2</td><td style = \"text-align: left;\">kegg_cytokines</td><td style = \"text-align: left;\">kegg</td><td style = \"text-align: left;\">CXCL3_CXCR2</td></tr><tr><td class = \"rowNumber\" style = \"font-weight: bold; text-align: right;\">4</td><td style = \"text-align: left;\">CXCL5</td><td style = \"text-align: left;\">CXCR2</td><td style = \"text-align: left;\">kegg_cytokines</td><td style = \"text-align: left;\">kegg</td><td style = \"text-align: left;\">CXCL5_CXCR2</td></tr><tr><td class = \"rowNumber\" style = \"font-weight: bold; text-align: right;\">5</td><td style = \"text-align: left;\">PPBP</td><td style = \"text-align: left;\">CXCR2</td><td style = \"text-align: left;\">kegg_cytokines</td><td style = \"text-align: left;\">kegg</td><td style = \"text-align: left;\">PPBP_CXCR2</td></tr></tbody></table></div>"
      ],
      "text/latex": [
       "\\begin{tabular}{r|ccccc}\n",
       "\t& from & to & source & database & LR\\_Pairs\\\\\n",
       "\t\\hline\n",
       "\t& String & String & String & String & String\\\\\n",
       "\t\\hline\n",
       "\t1 & CXCL1 & CXCR2 & kegg\\_cytokines & kegg & CXCL1\\_CXCR2 \\\\\n",
       "\t2 & CXCL2 & CXCR2 & kegg\\_cytokines & kegg & CXCL2\\_CXCR2 \\\\\n",
       "\t3 & CXCL3 & CXCR2 & kegg\\_cytokines & kegg & CXCL3\\_CXCR2 \\\\\n",
       "\t4 & CXCL5 & CXCR2 & kegg\\_cytokines & kegg & CXCL5\\_CXCR2 \\\\\n",
       "\t5 & PPBP & CXCR2 & kegg\\_cytokines & kegg & PPBP\\_CXCR2 \\\\\n",
       "\\end{tabular}\n"
      ],
      "text/plain": [
       "\u001b[1m5×5 DataFrame\u001b[0m\n",
       "\u001b[1m Row \u001b[0m│\u001b[1m from   \u001b[0m\u001b[1m to     \u001b[0m\u001b[1m source         \u001b[0m\u001b[1m database \u001b[0m\u001b[1m LR_Pairs    \u001b[0m\n",
       "     │\u001b[90m String \u001b[0m\u001b[90m String \u001b[0m\u001b[90m String         \u001b[0m\u001b[90m String   \u001b[0m\u001b[90m String      \u001b[0m\n",
       "─────┼───────────────────────────────────────────────────────\n",
       "   1 │ CXCL1   CXCR2   kegg_cytokines  kegg      CXCL1_CXCR2\n",
       "   2 │ CXCL2   CXCR2   kegg_cytokines  kegg      CXCL2_CXCR2\n",
       "   3 │ CXCL3   CXCR2   kegg_cytokines  kegg      CXCL3_CXCR2\n",
       "   4 │ CXCL5   CXCR2   kegg_cytokines  kegg      CXCL5_CXCR2\n",
       "   5 │ PPBP    CXCR2   kegg_cytokines  kegg      PPBP_CXCR2"
      ]
     },
     "metadata": {},
     "output_type": "display_data"
    }
   ],
   "source": [
    "# Create LR_Pairs column\n",
    "lr_network[!, :LR_Pairs] = string.(lr_network.from, \"_\", lr_network.to);\n",
    "first(lr_network, 5)"
   ]
  },
  {
   "cell_type": "code",
   "execution_count": null,
   "metadata": {},
   "outputs": [],
   "source": []
  }
 ],
 "metadata": {
  "kernelspec": {
   "display_name": "Julia 1.9.3",
   "language": "julia",
   "name": "julia-1.9"
  },
  "language_info": {
   "file_extension": ".jl",
   "mimetype": "application/julia",
   "name": "julia",
   "version": "1.9.3"
  },
  "orig_nbformat": 4
 },
 "nbformat": 4,
 "nbformat_minor": 2
}
