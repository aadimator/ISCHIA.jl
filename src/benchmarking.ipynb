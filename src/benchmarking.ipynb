{
 "cells": [
  {
   "cell_type": "code",
   "execution_count": 1,
   "metadata": {},
   "outputs": [],
   "source": [
    "using Muon\n",
    "using RData\n",
    "using Revise\n",
    "using ISCHIA\n",
    "using DataFrames\n",
    "using Statistics\n",
    "using Combinatorics"
   ]
  },
  {
   "cell_type": "code",
   "execution_count": 2,
   "metadata": {},
   "outputs": [
    {
     "data": {
      "text/plain": [
       "MuData object 2185 ✕ 55545\n",
       "└ Predictions\n",
       "  AnnData object 2185 ✕ 34\n",
       "└ Spatial\n",
       "  AnnData object 2185 ✕ 36601\n",
       "└ SCT\n",
       "  AnnData object 2185 ✕ 18910"
      ]
     },
     "metadata": {},
     "output_type": "display_data"
    }
   ],
   "source": [
    "mdata = readh5mu(\"../data/mudata.h5mu\")\n",
    "lr_network = load(\"../data/lr_network.rds\")\n",
    "\n",
    "mdata"
   ]
  },
  {
   "cell_type": "code",
   "execution_count": 3,
   "metadata": {},
   "outputs": [],
   "source": [
    "gene_names = mdata[\"Spatial\"].var.name\n",
    "mdata[\"Spatial\"].var_names = gene_names\n",
    "\n",
    "# Create LR_Pairs column\n",
    "lr_network[!, :LR_Pairs] = string.(lr_network.from, \"_\", lr_network.to);\n",
    "lr_network = lr_network[:, [:from, :to, :LR_Pairs]]\n",
    "\n",
    "# Filter lr_network based on conditions\n",
    "from_filter = in.(lr_network[:, :from], Ref(gene_names))\n",
    "to_filter = in.(lr_network[:, :to], Ref(gene_names))\n",
    "all_LR_network = lr_network[from_filter .& to_filter, :];"
   ]
  },
  {
   "cell_type": "code",
   "execution_count": 4,
   "metadata": {},
   "outputs": [
    {
     "data": {
      "text/plain": [
       "main (generic function with 1 method)"
      ]
     },
     "metadata": {},
     "output_type": "display_data"
    }
   ],
   "source": [
    "function main(all_LR_network; startindex = 1, endindex = 500)\n",
    "    # To reduce the computation time for this example, we randomly sample from the whole dataset of LR interactions\n",
    "\n",
    "    # all_LR_network = all_LR_network[shuffle(1:size(all_LR_network_exp, 1)), :]\n",
    "    all_LR_network = all_LR_network[startindex:min(endindex, end), :]\n",
    "\n",
    "    # Extract unique genes and common genes\n",
    "    all_LR_genes = unique(vcat(all_LR_network[:, :from], all_LR_network[:, :to]))\n",
    "    all_LR_genes_comm = intersect(all_LR_genes, collect(gene_names));\n",
    "\n",
    "    # Create LR.pairs and LR.pairs.AllCombos\n",
    "    LR_pairs = all_LR_network[:, :LR_Pairs]\n",
    "    all_combos = [join(combo, \"_\") for combo in combinations(all_LR_genes_comm, 2)];\n",
    "\n",
    "    spatial_object = mdata[\"Spatial\"]\n",
    "    COI = [\"CC4\"]\n",
    "    Condition = unique(spatial_object.obs[!, \"orig.ident\"])\n",
    "    LR_list = all_LR_genes_comm\n",
    "    LR_pairs = LR_pairs\n",
    "    exp_th = 1\n",
    "    corr_th = 0.2\n",
    "\n",
    "    out = enriched_LRs(spatial_object, COI, Condition, LR_list, LR_pairs, exp_th, corr_th)\n",
    "\n",
    "    return out\n",
    "end"
   ]
  },
  {
   "cell_type": "code",
   "execution_count": 5,
   "metadata": {},
   "outputs": [
    {
     "name": "stdout",
     "output_type": "stream",
     "text": [
      "Preparing L-R presence/absence matrix"
     ]
    },
    {
     "name": "stdout",
     "output_type": "stream",
     "text": [
      "\n",
      "Calculating L-R pairs correlation"
     ]
    },
    {
     "name": "stdout",
     "output_type": "stream",
     "text": [
      "\n"
     ]
    },
    {
     "name": "stdout",
     "output_type": "stream",
     "text": [
      "Preparing for cooccurrence\n",
      "Cooccurrence calculation starts...\n"
     ]
    },
    {
     "name": "stdout",
     "output_type": "stream",
     "text": [
      "Cooccurrence calculation ended\n",
      "Summary of cooccurrence results:\n",
      "Probability table of cooccurrence results:\n"
     ]
    },
    {
     "data": {
      "text/plain": [
       "Dict{String, Any} with 2 entries:\n",
       "  \"cooccurrence_table\" => Dict{Symbol, Any}(:percent_sig=>20.0, :pairs=>25, :po…\n",
       "  \"enriched_LRs\"       => \u001b[1m0×6 DataFrame\u001b[0m\u001b[0m…"
      ]
     },
     "metadata": {},
     "output_type": "display_data"
    }
   ],
   "source": [
    "main(all_LR_network)"
   ]
  },
  {
   "cell_type": "code",
   "execution_count": null,
   "metadata": {},
   "outputs": [],
   "source": [
    "df = DataFrame(label=String[], time=Float64[])\n",
    "\n",
    "for endi in [500, 1000, 1500, 2000, 3000, 5000, 8000]\n",
    "    for i in 1:20\n",
    "        t = @elapsed main(all_LR_network, endindex = endi)\n",
    "        push!(df, [\"0:$endi\", t])\n",
    "    end\n",
    "end"
   ]
  },
  {
   "cell_type": "code",
   "execution_count": 7,
   "metadata": {},
   "outputs": [
    {
     "data": {
      "text/html": [
       "<div><div style = \"float: left;\"><span>7×2 DataFrame</span></div><div style = \"clear: both;\"></div></div><div class = \"data-frame\" style = \"overflow-x: scroll;\"><table class = \"data-frame\" style = \"margin-bottom: 6px;\"><thead><tr class = \"header\"><th class = \"rowNumber\" style = \"font-weight: bold; text-align: right;\">Row</th><th style = \"text-align: left;\">label</th><th style = \"text-align: left;\">time_mean</th></tr><tr class = \"subheader headerLastRow\"><th class = \"rowNumber\" style = \"font-weight: bold; text-align: right;\"></th><th title = \"String\" style = \"text-align: left;\">String</th><th title = \"Float64\" style = \"text-align: left;\">Float64</th></tr></thead><tbody><tr><td class = \"rowNumber\" style = \"font-weight: bold; text-align: right;\">1</td><td style = \"text-align: left;\">0:500</td><td style = \"text-align: right;\">0.108225</td></tr><tr><td class = \"rowNumber\" style = \"font-weight: bold; text-align: right;\">2</td><td style = \"text-align: left;\">0:1000</td><td style = \"text-align: right;\">0.206401</td></tr><tr><td class = \"rowNumber\" style = \"font-weight: bold; text-align: right;\">3</td><td style = \"text-align: left;\">0:1500</td><td style = \"text-align: right;\">0.338295</td></tr><tr><td class = \"rowNumber\" style = \"font-weight: bold; text-align: right;\">4</td><td style = \"text-align: left;\">0:2000</td><td style = \"text-align: right;\">0.475303</td></tr><tr><td class = \"rowNumber\" style = \"font-weight: bold; text-align: right;\">5</td><td style = \"text-align: left;\">0:3000</td><td style = \"text-align: right;\">0.503264</td></tr><tr><td class = \"rowNumber\" style = \"font-weight: bold; text-align: right;\">6</td><td style = \"text-align: left;\">0:5000</td><td style = \"text-align: right;\">0.489117</td></tr><tr><td class = \"rowNumber\" style = \"font-weight: bold; text-align: right;\">7</td><td style = \"text-align: left;\">0:8000</td><td style = \"text-align: right;\">0.497635</td></tr></tbody></table></div>"
      ],
      "text/latex": [
       "\\begin{tabular}{r|cc}\n",
       "\t& label & time\\_mean\\\\\n",
       "\t\\hline\n",
       "\t& String & Float64\\\\\n",
       "\t\\hline\n",
       "\t1 & 0:500 & 0.108225 \\\\\n",
       "\t2 & 0:1000 & 0.206401 \\\\\n",
       "\t3 & 0:1500 & 0.338295 \\\\\n",
       "\t4 & 0:2000 & 0.475303 \\\\\n",
       "\t5 & 0:3000 & 0.503264 \\\\\n",
       "\t6 & 0:5000 & 0.489117 \\\\\n",
       "\t7 & 0:8000 & 0.497635 \\\\\n",
       "\\end{tabular}\n"
      ],
      "text/plain": [
       "\u001b[1m7×2 DataFrame\u001b[0m\n",
       "\u001b[1m Row \u001b[0m│\u001b[1m label  \u001b[0m\u001b[1m time_mean \u001b[0m\n",
       "     │\u001b[90m String \u001b[0m\u001b[90m Float64   \u001b[0m\n",
       "─────┼───────────────────\n",
       "   1 │ 0:500    0.108225\n",
       "   2 │ 0:1000   0.206401\n",
       "   3 │ 0:1500   0.338295\n",
       "   4 │ 0:2000   0.475303\n",
       "   5 │ 0:3000   0.503264\n",
       "   6 │ 0:5000   0.489117\n",
       "   7 │ 0:8000   0.497635"
      ]
     },
     "metadata": {},
     "output_type": "display_data"
    }
   ],
   "source": [
    "df_mean = combine(groupby(df, :label), :time => mean)\n",
    "# df_mean[!, :lang] .= \"Julia\"\n",
    "df_mean"
   ]
  },
  {
   "cell_type": "code",
   "execution_count": 8,
   "metadata": {},
   "outputs": [
    {
     "data": {
      "text/html": [
       "<div><div style = \"float: left;\"><span>7×4 DataFrame</span></div><div style = \"clear: both;\"></div></div><div class = \"data-frame\" style = \"overflow-x: scroll;\"><table class = \"data-frame\" style = \"margin-bottom: 6px;\"><thead><tr class = \"header\"><th class = \"rowNumber\" style = \"font-weight: bold; text-align: right;\">Row</th><th style = \"text-align: left;\">label</th><th style = \"text-align: left;\">time_mean</th><th style = \"text-align: left;\">r_mean</th><th style = \"text-align: left;\">speedup</th></tr><tr class = \"subheader headerLastRow\"><th class = \"rowNumber\" style = \"font-weight: bold; text-align: right;\"></th><th title = \"String\" style = \"text-align: left;\">String</th><th title = \"Float64\" style = \"text-align: left;\">Float64</th><th title = \"Float64\" style = \"text-align: left;\">Float64</th><th title = \"Float64\" style = \"text-align: left;\">Float64</th></tr></thead><tbody><tr><td class = \"rowNumber\" style = \"font-weight: bold; text-align: right;\">1</td><td style = \"text-align: left;\">0:500</td><td style = \"text-align: right;\">0.108225</td><td style = \"text-align: right;\">65.32</td><td style = \"text-align: right;\">603.557</td></tr><tr><td class = \"rowNumber\" style = \"font-weight: bold; text-align: right;\">2</td><td style = \"text-align: left;\">0:1000</td><td style = \"text-align: right;\">0.206401</td><td style = \"text-align: right;\">147.86</td><td style = \"text-align: right;\">716.373</td></tr><tr><td class = \"rowNumber\" style = \"font-weight: bold; text-align: right;\">3</td><td style = \"text-align: left;\">0:1500</td><td style = \"text-align: right;\">0.338295</td><td style = \"text-align: right;\">253.047</td><td style = \"text-align: right;\">748.009</td></tr><tr><td class = \"rowNumber\" style = \"font-weight: bold; text-align: right;\">4</td><td style = \"text-align: left;\">0:2000</td><td style = \"text-align: right;\">0.475303</td><td style = \"text-align: right;\">258.491</td><td style = \"text-align: right;\">543.845</td></tr><tr><td class = \"rowNumber\" style = \"font-weight: bold; text-align: right;\">5</td><td style = \"text-align: left;\">0:3000</td><td style = \"text-align: right;\">0.503264</td><td style = \"text-align: right;\">263.814</td><td style = \"text-align: right;\">524.205</td></tr><tr><td class = \"rowNumber\" style = \"font-weight: bold; text-align: right;\">6</td><td style = \"text-align: left;\">0:5000</td><td style = \"text-align: right;\">0.489117</td><td style = \"text-align: right;\">379.282</td><td style = \"text-align: right;\">775.442</td></tr><tr><td class = \"rowNumber\" style = \"font-weight: bold; text-align: right;\">7</td><td style = \"text-align: left;\">0:8000</td><td style = \"text-align: right;\">0.497635</td><td style = \"text-align: right;\">535.445</td><td style = \"text-align: right;\">1075.98</td></tr></tbody></table></div>"
      ],
      "text/latex": [
       "\\begin{tabular}{r|cccc}\n",
       "\t& label & time\\_mean & r\\_mean & speedup\\\\\n",
       "\t\\hline\n",
       "\t& String & Float64 & Float64 & Float64\\\\\n",
       "\t\\hline\n",
       "\t1 & 0:500 & 0.108225 & 65.32 & 603.557 \\\\\n",
       "\t2 & 0:1000 & 0.206401 & 147.86 & 716.373 \\\\\n",
       "\t3 & 0:1500 & 0.338295 & 253.047 & 748.009 \\\\\n",
       "\t4 & 0:2000 & 0.475303 & 258.491 & 543.845 \\\\\n",
       "\t5 & 0:3000 & 0.503264 & 263.814 & 524.205 \\\\\n",
       "\t6 & 0:5000 & 0.489117 & 379.282 & 775.442 \\\\\n",
       "\t7 & 0:8000 & 0.497635 & 535.445 & 1075.98 \\\\\n",
       "\\end{tabular}\n"
      ],
      "text/plain": [
       "\u001b[1m7×4 DataFrame\u001b[0m\n",
       "\u001b[1m Row \u001b[0m│\u001b[1m label  \u001b[0m\u001b[1m time_mean \u001b[0m\u001b[1m r_mean  \u001b[0m\u001b[1m speedup  \u001b[0m\n",
       "     │\u001b[90m String \u001b[0m\u001b[90m Float64   \u001b[0m\u001b[90m Float64 \u001b[0m\u001b[90m Float64  \u001b[0m\n",
       "─────┼──────────────────────────────────────\n",
       "   1 │ 0:500    0.108225   65.32    603.557\n",
       "   2 │ 0:1000   0.206401  147.86    716.373\n",
       "   3 │ 0:1500   0.338295  253.047   748.009\n",
       "   4 │ 0:2000   0.475303  258.491   543.845\n",
       "   5 │ 0:3000   0.503264  263.814   524.205\n",
       "   6 │ 0:5000   0.489117  379.282   775.442\n",
       "   7 │ 0:8000   0.497635  535.445  1075.98"
      ]
     },
     "metadata": {},
     "output_type": "display_data"
    }
   ],
   "source": [
    "df_mean[!, :r_mean] = [65.32004, 147.86019, 253.04721, 258.49103, 263.81379, 379.28183, 535.44503]\n",
    "df_mean[!, :speedup] .= df_mean.r_mean ./ df_mean.time_mean\n",
    "df_mean"
   ]
  },
  {
   "cell_type": "code",
   "execution_count": 9,
   "metadata": {},
   "outputs": [],
   "source": [
    "# # Results from R benchmark\n",
    "# r_scores = [65.32004, 147.86019, 253.04721, 258.49103, 263.81379, 379.28183, 535.44503]\n",
    "# labels = df_mean[!, :label]\n",
    "# for i in 1:length(labels)\n",
    "#     push!(df_mean, [labels[i], r_scores[i], \"R\"])\n",
    "# end\n",
    "# df_mean"
   ]
  },
  {
   "cell_type": "code",
   "execution_count": 10,
   "metadata": {},
   "outputs": [],
   "source": [
    "# @df df_mean groupedhist(:time_mean, group = :lang, bar_position = :dodge)"
   ]
  },
  {
   "cell_type": "code",
   "execution_count": 11,
   "metadata": {},
   "outputs": [],
   "source": [
    "# groupedbar(df_mean[!, :label], df_mean[!, :time_mean], group = df_mean[!, :lang], xlabel = \"Groups\", ylabel = \"Scores\",\n",
    "#         title = \"Scores by group and category\", bar_width = 0.67,\n",
    "#         lw = 0, framestyle = :box)"
   ]
  },
  {
   "cell_type": "code",
   "execution_count": 12,
   "metadata": {},
   "outputs": [],
   "source": []
  },
  {
   "cell_type": "code",
   "execution_count": 13,
   "metadata": {},
   "outputs": [],
   "source": []
  },
  {
   "cell_type": "code",
   "execution_count": 14,
   "metadata": {},
   "outputs": [],
   "source": []
  }
 ],
 "metadata": {
  "kernelspec": {
   "display_name": "Julia 1.9.3",
   "language": "julia",
   "name": "julia-1.9"
  },
  "language_info": {
   "file_extension": ".jl",
   "mimetype": "application/julia",
   "name": "julia",
   "version": "1.9.3"
  },
  "orig_nbformat": 4
 },
 "nbformat": 4,
 "nbformat_minor": 2
}
