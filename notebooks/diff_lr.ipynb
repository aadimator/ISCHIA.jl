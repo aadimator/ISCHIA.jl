{
 "cells": [
  {
   "cell_type": "code",
   "execution_count": 1,
   "metadata": {},
   "outputs": [],
   "source": [
    "using Muon\n",
    "using RData\n",
    "using Revise\n",
    "using ISCHIA\n",
    "using DataFrames\n",
    "using Combinatorics"
   ]
  },
  {
   "cell_type": "code",
   "execution_count": 2,
   "metadata": {},
   "outputs": [
    {
     "data": {
      "text/plain": [
       "MuData object 2185 ✕ 55545\n",
       "└ Predictions\n",
       "  AnnData object 2185 ✕ 34\n",
       "└ Spatial\n",
       "  AnnData object 2185 ✕ 36601\n",
       "└ SCT\n",
       "  AnnData object 2185 ✕ 18910"
      ]
     },
     "metadata": {},
     "output_type": "display_data"
    }
   ],
   "source": [
    "mdata = readh5mu(\"../data/mudata.h5mu\")\n",
    "lr_network = load(\"../data/lr_network.rds\")\n",
    "\n",
    "mdata"
   ]
  },
  {
   "cell_type": "code",
   "execution_count": 3,
   "metadata": {},
   "outputs": [],
   "source": [
    "gene_names = mdata[\"Spatial\"].var.name\n",
    "mdata[\"Spatial\"].var_names = gene_names\n",
    "\n",
    "# Create LR_Pairs column\n",
    "lr_network[!, :LR_Pairs] = string.(lr_network.from, \"_\", lr_network.to);\n",
    "lr_network = lr_network[:, [:from, :to, :LR_Pairs]]\n",
    "\n",
    "# Filter lr_network based on conditions\n",
    "from_filter = in.(lr_network[:, :from], Ref(gene_names))\n",
    "to_filter = in.(lr_network[:, :to], Ref(gene_names))\n",
    "all_LR_network = lr_network[from_filter .& to_filter, :];"
   ]
  },
  {
   "cell_type": "code",
   "execution_count": 4,
   "metadata": {},
   "outputs": [
    {
     "data": {
      "text/plain": [
       "main (generic function with 1 method)"
      ]
     },
     "metadata": {},
     "output_type": "display_data"
    }
   ],
   "source": [
    "function main(all_LR_network; COI=[\"CC4\"], startindex = 1, endindex = 500)\n",
    "    # To reduce the computation time for this example, we randomly sample from the whole dataset of LR interactions\n",
    "\n",
    "    # all_LR_network = all_LR_network[shuffle(1:size(all_LR_network_exp, 1)), :]\n",
    "    all_LR_network = all_LR_network[startindex:min(endindex, end), :]\n",
    "\n",
    "    # Extract unique genes and common genes\n",
    "    all_LR_genes = unique(vcat(all_LR_network[:, :from], all_LR_network[:, :to]))\n",
    "    all_LR_genes_comm = intersect(all_LR_genes, collect(gene_names));\n",
    "\n",
    "    # Create LR.pairs and LR.pairs.AllCombos\n",
    "    LR_pairs = all_LR_network[:, :LR_Pairs]\n",
    "    all_combos = [join(combo, \"_\") for combo in combinations(all_LR_genes_comm, 2)];\n",
    "\n",
    "    spatial_object = mdata[\"Spatial\"]\n",
    "    spatial_object.var_names = spatial_object.var.name\n",
    "    Condition = unique(spatial_object.obs[!, \"orig.ident\"])\n",
    "    LR_list = all_LR_genes_comm\n",
    "    LR_pairs = LR_pairs\n",
    "    exp_th = 1\n",
    "    corr_th = 0.2\n",
    "\n",
    "    out = enriched_LRs(spatial_object, COI, Condition, LR_list, LR_pairs, exp_th, corr_th)\n",
    "\n",
    "    return out\n",
    "end"
   ]
  },
  {
   "cell_type": "code",
   "execution_count": null,
   "metadata": {},
   "outputs": [],
   "source": [
    "result_4 = main(all_LR_network, endindex=size(all_LR_network, 1));\n",
    "result_7 = main(all_LR_network, COI=[\"CC7\"], endindex=size(all_LR_network, 1))\n",
    "df_4 = result_4[\"enriched_LRs\"];\n",
    "df_7 = result_7[\"enriched_LRs\"];"
   ]
  },
  {
   "cell_type": "code",
   "execution_count": 114,
   "metadata": {},
   "outputs": [
    {
     "data": {
      "text/plain": [
       "find_differentially_cooccurring_LR_pairs"
      ]
     },
     "metadata": {},
     "output_type": "display_data"
    }
   ],
   "source": [
    "\"\"\"\n",
    "Find LR (Ligand Receptor) pairs that are significantly co-occurring in one group and not in the other group.\n",
    "\n",
    "# Arguments\n",
    "- `group1_results`: Results from the EnrichedLRs function for Group 1.\n",
    "- `group2_results`: Results from the EnrichedLRs function for Group 2.\n",
    "- `group1_max_pval`: Maximum p-value threshold for significance levels of co-occurring LR pairs in Group 1.\n",
    "- `group2_min_pval`: Minimum p-value threshold for non-significance levels of co-occurring LR pairs in Group 2.\n",
    "\n",
    "# Returns\n",
    "List of LR pairs enriched in Group 1 and not in Group 2.\n",
    "\n",
    "# Example\n",
    "```julia\n",
    "result = find_differentially_cooccurring_LR_pairs(results_group1, results_group2, 0.05, 0.1)\n",
    "\"\"\"\n",
    "function find_differentially_cooccurring_LR_pairs(group1_results, group2_results, group1_max_pval, group2_min_pval)\n",
    "    cooc_results_group1 = group1_results[\"cooccurrence_table\"].results\n",
    "    cooc_results_group2 = group2_results[\"cooccurrence_table\"].results\n",
    "\n",
    "    enriched_LR_pairs_group1 = DataFrame(pair=String[], group1_pval=Real[], group2_pval=Real[], pval_difference=Real[], observed_cooc=Int[])\n",
    "\n",
    "    for row in eachrow(cooc_results_group1)\n",
    "        if row.pair12 in cooc_results_group2.pair12\n",
    "            group2_row = filter(r -> r.pair12 == row.pair12, cooc_results_group2)\n",
    "            group1_pval = row.p_gt\n",
    "            group2_pval = group2_row.p_gt[1]\n",
    "            group1_observed_cooc = row.obs_cooccur\n",
    "            group2_observed_cooc = group2_row.obs_cooccur[1]\n",
    "            group1_expected_cooc = row.exp_cooccur\n",
    "            group2_expected_cooc = group2_row.exp_cooccur[1]\n",
    "            pval_difference = group2_pval - group1_pval\n",
    "\n",
    "            if group1_pval < group1_max_pval && group2_pval > group2_min_pval &&\n",
    "               group1_observed_cooc > 10 &&\n",
    "               group1_observed_cooc != group1_expected_cooc && group2_observed_cooc != group2_expected_cooc &&\n",
    "               group2_observed_cooc < group1_observed_cooc\n",
    "                pair_data = DataFrame(pair=row.pair12, group1_pval=group1_pval, group2_pval=group2_pval,\n",
    "                    pval_difference=pval_difference, observed_cooc=group1_observed_cooc\n",
    "                )\n",
    "                append!(enriched_LR_pairs_group1, pair_data)\n",
    "            end\n",
    "        end\n",
    "    end\n",
    "\n",
    "    enriched_LR_pairs_group1_sorted = sort(enriched_LR_pairs_group1, :observed_cooc, rev=true)\n",
    "\n",
    "    return enriched_LR_pairs_group1_sorted\n",
    "end"
   ]
  },
  {
   "cell_type": "code",
   "execution_count": 115,
   "metadata": {},
   "outputs": [],
   "source": []
  },
  {
   "cell_type": "code",
   "execution_count": 116,
   "metadata": {},
   "outputs": [
    {
     "data": {
      "text/html": [
       "<div><div style = \"float: left;\"><span>0×5 DataFrame</span></div><div style = \"clear: both;\"></div></div><div class = \"data-frame\" style = \"overflow-x: scroll;\"><table class = \"data-frame\" style = \"margin-bottom: 6px;\"><thead><tr class = \"header\"><th class = \"rowNumber\" style = \"font-weight: bold; text-align: right;\">Row</th><th style = \"text-align: left;\">pair</th><th style = \"text-align: left;\">group1_pval</th><th style = \"text-align: left;\">group2_pval</th><th style = \"text-align: left;\">pval_difference</th><th style = \"text-align: left;\">observed_cooc</th></tr><tr class = \"subheader headerLastRow\"><th class = \"rowNumber\" style = \"font-weight: bold; text-align: right;\"></th><th title = \"String\" style = \"text-align: left;\">String</th><th title = \"Real\" style = \"text-align: left;\">Real</th><th title = \"Real\" style = \"text-align: left;\">Real</th><th title = \"Real\" style = \"text-align: left;\">Real</th><th title = \"Int64\" style = \"text-align: left;\">Int64</th></tr></thead><tbody></tbody></table></div>"
      ],
      "text/latex": [
       "\\begin{tabular}{r|ccccc}\n",
       "\t& pair & group1\\_pval & group2\\_pval & pval\\_difference & observed\\_cooc\\\\\n",
       "\t\\hline\n",
       "\t& String & Real & Real & Real & Int64\\\\\n",
       "\t\\hline\n",
       "\\end{tabular}\n"
      ],
      "text/plain": [
       "\u001b[1m0×5 DataFrame\u001b[0m\n",
       "\u001b[1m Row \u001b[0m│\u001b[1m pair   \u001b[0m\u001b[1m group1_pval \u001b[0m\u001b[1m group2_pval \u001b[0m\u001b[1m pval_difference \u001b[0m\u001b[1m observed_cooc \u001b[0m\n",
       "     │\u001b[90m String \u001b[0m\u001b[90m Real        \u001b[0m\u001b[90m Real        \u001b[0m\u001b[90m Real            \u001b[0m\u001b[90m Int64         \u001b[0m\n",
       "─────┴──────────────────────────────────────────────────────────────────"
      ]
     },
     "metadata": {},
     "output_type": "display_data"
    }
   ],
   "source": [
    "diff_df47 = find_differentially_cooccurring_LR_pairs(result_4, result_7, 0.05, 0.1)"
   ]
  },
  {
   "cell_type": "code",
   "execution_count": 112,
   "metadata": {},
   "outputs": [
    {
     "data": {
      "text/html": [
       "<div><div style = \"float: left;\"><span>286×5 DataFrame</span></div><div style = \"float: right;\"><span style = \"font-style: italic;\">261 rows omitted</span></div><div style = \"clear: both;\"></div></div><div class = \"data-frame\" style = \"overflow-x: scroll;\"><table class = \"data-frame\" style = \"margin-bottom: 6px;\"><thead><tr class = \"header\"><th class = \"rowNumber\" style = \"font-weight: bold; text-align: right;\">Row</th><th style = \"text-align: left;\">pair</th><th style = \"text-align: left;\">group1_pval</th><th style = \"text-align: left;\">group2_pval</th><th style = \"text-align: left;\">pval_difference</th><th style = \"text-align: left;\">observed_cooc</th></tr><tr class = \"subheader headerLastRow\"><th class = \"rowNumber\" style = \"font-weight: bold; text-align: right;\"></th><th title = \"String\" style = \"text-align: left;\">String</th><th title = \"Real\" style = \"text-align: left;\">Real</th><th title = \"Real\" style = \"text-align: left;\">Real</th><th title = \"Real\" style = \"text-align: left;\">Real</th><th title = \"Int64\" style = \"text-align: left;\">Int64</th></tr></thead><tbody><tr><td class = \"rowNumber\" style = \"font-weight: bold; text-align: right;\">1</td><td style = \"text-align: left;\">HLA-A_HLA-B</td><td style = \"text-align: right;\">0.0</td><td style = \"text-align: right;\">0.27473</td><td style = \"text-align: right;\">0.27473</td><td style = \"text-align: right;\">235</td></tr><tr><td class = \"rowNumber\" style = \"font-weight: bold; text-align: right;\">2</td><td style = \"text-align: left;\">HLA-B_LGALS3</td><td style = \"text-align: right;\">0.00122</td><td style = \"text-align: right;\">0.90385</td><td style = \"text-align: right;\">0.90263</td><td style = \"text-align: right;\">231</td></tr><tr><td class = \"rowNumber\" style = \"font-weight: bold; text-align: right;\">3</td><td style = \"text-align: left;\">HLA-C_HLA-B</td><td style = \"text-align: right;\">1.0e-5</td><td style = \"text-align: right;\">0.5</td><td style = \"text-align: right;\">0.49999</td><td style = \"text-align: right;\">230</td></tr><tr><td class = \"rowNumber\" style = \"font-weight: bold; text-align: right;\">4</td><td style = \"text-align: left;\">HLA-B_CD24</td><td style = \"text-align: right;\">0.00028</td><td style = \"text-align: right;\">0.5</td><td style = \"text-align: right;\">0.49972</td><td style = \"text-align: right;\">218</td></tr><tr><td class = \"rowNumber\" style = \"font-weight: bold; text-align: right;\">5</td><td style = \"text-align: left;\">HLA-E_HLA-B</td><td style = \"text-align: right;\">5.0e-5</td><td style = \"text-align: right;\">0.15385</td><td style = \"text-align: right;\">0.1538</td><td style = \"text-align: right;\">217</td></tr><tr><td class = \"rowNumber\" style = \"font-weight: bold; text-align: right;\">6</td><td style = \"text-align: left;\">HLA-A_HLA-C</td><td style = \"text-align: right;\">0.0</td><td style = \"text-align: right;\">0.13287</td><td style = \"text-align: right;\">0.13287</td><td style = \"text-align: right;\">210</td></tr><tr><td class = \"rowNumber\" style = \"font-weight: bold; text-align: right;\">7</td><td style = \"text-align: left;\">HLA-A_LGALS3</td><td style = \"text-align: right;\">0.0</td><td style = \"text-align: right;\">0.13287</td><td style = \"text-align: right;\">0.13287</td><td style = \"text-align: right;\">210</td></tr><tr><td class = \"rowNumber\" style = \"font-weight: bold; text-align: right;\">8</td><td style = \"text-align: left;\">CD74_LGALS3</td><td style = \"text-align: right;\">0.0</td><td style = \"text-align: right;\">0.14307</td><td style = \"text-align: right;\">0.14307</td><td style = \"text-align: right;\">207</td></tr><tr><td class = \"rowNumber\" style = \"font-weight: bold; text-align: right;\">9</td><td style = \"text-align: left;\">HLA-B_THBS1</td><td style = \"text-align: right;\">0.0</td><td style = \"text-align: right;\">0.38462</td><td style = \"text-align: right;\">0.38462</td><td style = \"text-align: right;\">206</td></tr><tr><td class = \"rowNumber\" style = \"font-weight: bold; text-align: right;\">10</td><td style = \"text-align: left;\">CD74_HLA-C</td><td style = \"text-align: right;\">0.0</td><td style = \"text-align: right;\">0.14307</td><td style = \"text-align: right;\">0.14307</td><td style = \"text-align: right;\">204</td></tr><tr><td class = \"rowNumber\" style = \"font-weight: bold; text-align: right;\">11</td><td style = \"text-align: left;\">HLA-B_PSAP</td><td style = \"text-align: right;\">0.0</td><td style = \"text-align: right;\">0.32967</td><td style = \"text-align: right;\">0.32967</td><td style = \"text-align: right;\">203</td></tr><tr><td class = \"rowNumber\" style = \"font-weight: bold; text-align: right;\">12</td><td style = \"text-align: left;\">HLA-C_LGALS3</td><td style = \"text-align: right;\">0.0</td><td style = \"text-align: right;\">0.14307</td><td style = \"text-align: right;\">0.14307</td><td style = \"text-align: right;\">202</td></tr><tr><td class = \"rowNumber\" style = \"font-weight: bold; text-align: right;\">13</td><td style = \"text-align: left;\">HLA-A_CD24</td><td style = \"text-align: right;\">0.0</td><td style = \"text-align: right;\">0.13287</td><td style = \"text-align: right;\">0.13287</td><td style = \"text-align: right;\">200</td></tr><tr><td style = \"text-align: right;\">&vellip;</td><td style = \"text-align: right;\">&vellip;</td><td style = \"text-align: right;\">&vellip;</td><td style = \"text-align: right;\">&vellip;</td><td style = \"text-align: right;\">&vellip;</td><td style = \"text-align: right;\">&vellip;</td></tr><tr><td class = \"rowNumber\" style = \"font-weight: bold; text-align: right;\">275</td><td style = \"text-align: left;\">CXCR4_NAMPT</td><td style = \"text-align: right;\">0.00074</td><td style = \"text-align: right;\">0.17483</td><td style = \"text-align: right;\">0.17409</td><td style = \"text-align: right;\">23</td></tr><tr><td class = \"rowNumber\" style = \"font-weight: bold; text-align: right;\">276</td><td style = \"text-align: left;\">RACK1_IL10RA</td><td style = \"text-align: right;\">0.00668</td><td style = \"text-align: right;\">0.30769</td><td style = \"text-align: right;\">0.30101</td><td style = \"text-align: right;\">23</td></tr><tr><td class = \"rowNumber\" style = \"font-weight: bold; text-align: right;\">277</td><td style = \"text-align: left;\">IL10RA_RPS19</td><td style = \"text-align: right;\">0.00549</td><td style = \"text-align: right;\">0.23077</td><td style = \"text-align: right;\">0.22528</td><td style = \"text-align: right;\">23</td></tr><tr><td class = \"rowNumber\" style = \"font-weight: bold; text-align: right;\">278</td><td style = \"text-align: left;\">SERPINE1_CCL21</td><td style = \"text-align: right;\">0.00041</td><td style = \"text-align: right;\">0.76923</td><td style = \"text-align: right;\">0.76882</td><td style = \"text-align: right;\">22</td></tr><tr><td class = \"rowNumber\" style = \"font-weight: bold; text-align: right;\">279</td><td style = \"text-align: left;\">HLA-A_CCL19</td><td style = \"text-align: right;\">0.04775</td><td style = \"text-align: right;\">0.12587</td><td style = \"text-align: right;\">0.07812</td><td style = \"text-align: right;\">19</td></tr><tr><td class = \"rowNumber\" style = \"font-weight: bold; text-align: right;\">280</td><td style = \"text-align: left;\">HLA-E_CCL19</td><td style = \"text-align: right;\">0.01251</td><td style = \"text-align: right;\">0.17483</td><td style = \"text-align: right;\">0.16232</td><td style = \"text-align: right;\">19</td></tr><tr><td class = \"rowNumber\" style = \"font-weight: bold; text-align: right;\">281</td><td style = \"text-align: left;\">HLA-C_CCL19</td><td style = \"text-align: right;\">0.03346</td><td style = \"text-align: right;\">0.27972</td><td style = \"text-align: right;\">0.24626</td><td style = \"text-align: right;\">19</td></tr><tr><td class = \"rowNumber\" style = \"font-weight: bold; text-align: right;\">282</td><td style = \"text-align: left;\">CCL19_THBS1</td><td style = \"text-align: right;\">0.0036</td><td style = \"text-align: right;\">0.82517</td><td style = \"text-align: right;\">0.82157</td><td style = \"text-align: right;\">19</td></tr><tr><td class = \"rowNumber\" style = \"font-weight: bold; text-align: right;\">283</td><td style = \"text-align: left;\">CCL19_TIMP1</td><td style = \"text-align: right;\">0.00016</td><td style = \"text-align: right;\">0.31069</td><td style = \"text-align: right;\">0.31053</td><td style = \"text-align: right;\">19</td></tr><tr><td class = \"rowNumber\" style = \"font-weight: bold; text-align: right;\">284</td><td style = \"text-align: left;\">CCL19_A2M</td><td style = \"text-align: right;\">0.00307</td><td style = \"text-align: right;\">0.79021</td><td style = \"text-align: right;\">0.78714</td><td style = \"text-align: right;\">18</td></tr><tr><td class = \"rowNumber\" style = \"font-weight: bold; text-align: right;\">285</td><td style = \"text-align: left;\">RACK1_PKD1</td><td style = \"text-align: right;\">0.0049</td><td style = \"text-align: right;\">0.30769</td><td style = \"text-align: right;\">0.30279</td><td style = \"text-align: right;\">11</td></tr><tr><td class = \"rowNumber\" style = \"font-weight: bold; text-align: right;\">286</td><td style = \"text-align: left;\">HLA-DRA_PKD1</td><td style = \"text-align: right;\">0.02082</td><td style = \"text-align: right;\">0.3956</td><td style = \"text-align: right;\">0.37478</td><td style = \"text-align: right;\">11</td></tr></tbody></table></div>"
      ],
      "text/latex": [
       "\\begin{tabular}{r|ccccc}\n",
       "\t& pair & group1\\_pval & group2\\_pval & pval\\_difference & observed\\_cooc\\\\\n",
       "\t\\hline\n",
       "\t& String & Real & Real & Real & Int64\\\\\n",
       "\t\\hline\n",
       "\t1 & HLA-A\\_HLA-B & 0.0 & 0.27473 & 0.27473 & 235 \\\\\n",
       "\t2 & HLA-B\\_LGALS3 & 0.00122 & 0.90385 & 0.90263 & 231 \\\\\n",
       "\t3 & HLA-C\\_HLA-B & 1.0e-5 & 0.5 & 0.49999 & 230 \\\\\n",
       "\t4 & HLA-B\\_CD24 & 0.00028 & 0.5 & 0.49972 & 218 \\\\\n",
       "\t5 & HLA-E\\_HLA-B & 5.0e-5 & 0.15385 & 0.1538 & 217 \\\\\n",
       "\t6 & HLA-A\\_HLA-C & 0.0 & 0.13287 & 0.13287 & 210 \\\\\n",
       "\t7 & HLA-A\\_LGALS3 & 0.0 & 0.13287 & 0.13287 & 210 \\\\\n",
       "\t8 & CD74\\_LGALS3 & 0.0 & 0.14307 & 0.14307 & 207 \\\\\n",
       "\t9 & HLA-B\\_THBS1 & 0.0 & 0.38462 & 0.38462 & 206 \\\\\n",
       "\t10 & CD74\\_HLA-C & 0.0 & 0.14307 & 0.14307 & 204 \\\\\n",
       "\t11 & HLA-B\\_PSAP & 0.0 & 0.32967 & 0.32967 & 203 \\\\\n",
       "\t12 & HLA-C\\_LGALS3 & 0.0 & 0.14307 & 0.14307 & 202 \\\\\n",
       "\t13 & HLA-A\\_CD24 & 0.0 & 0.13287 & 0.13287 & 200 \\\\\n",
       "\t14 & HLA-A\\_HLA-E & 0.0 & 0.23776 & 0.23776 & 199 \\\\\n",
       "\t15 & HLA-C\\_CD24 & 0.0 & 0.85693 & 0.85693 & 199 \\\\\n",
       "\t16 & CD24\\_LGALS3 & 0.0 & 0.5 & 0.5 & 199 \\\\\n",
       "\t17 & CD74\\_HLA-E & 0.0 & 0.29604 & 0.29604 & 197 \\\\\n",
       "\t18 & HLA-E\\_HLA-C & 0.0 & 0.29604 & 0.29604 & 197 \\\\\n",
       "\t19 & CD74\\_CD24 & 0.0 & 0.14307 & 0.14307 & 194 \\\\\n",
       "\t20 & HLA-C\\_HLA-DRA & 0.0 & 0.13287 & 0.13287 & 194 \\\\\n",
       "\t21 & HLA-B\\_HSP90B1 & 0.00018 & 0.32967 & 0.32949 & 194 \\\\\n",
       "\t22 & HLA-B\\_CALR & 0.00018 & 0.4533 & 0.45312 & 194 \\\\\n",
       "\t23 & HLA-E\\_CD24 & 0.0 & 0.94872 & 0.94872 & 192 \\\\\n",
       "\t24 & HLA-DRA\\_LGALS3 & 0.0 & 0.5 & 0.5 & 192 \\\\\n",
       "\t$\\dots$ & $\\dots$ & $\\dots$ & $\\dots$ & $\\dots$ & $\\dots$ \\\\\n",
       "\\end{tabular}\n"
      ],
      "text/plain": [
       "\u001b[1m286×5 DataFrame\u001b[0m\n",
       "\u001b[1m Row \u001b[0m│\u001b[1m pair           \u001b[0m\u001b[1m group1_pval \u001b[0m\u001b[1m group2_pval \u001b[0m\u001b[1m pval_difference \u001b[0m\u001b[1m observed_coo\u001b[0m ⋯\n",
       "     │\u001b[90m String         \u001b[0m\u001b[90m Real        \u001b[0m\u001b[90m Real        \u001b[0m\u001b[90m Real            \u001b[0m\u001b[90m Int64       \u001b[0m ⋯\n",
       "─────┼──────────────────────────────────────────────────────────────────────────\n",
       "   1 │ HLA-A_HLA-B         0.0          0.27473          0.27473            23 ⋯\n",
       "   2 │ HLA-B_LGALS3        0.00122      0.90385          0.90263            23\n",
       "   3 │ HLA-C_HLA-B         1.0e-5       0.5              0.49999            23\n",
       "   4 │ HLA-B_CD24          0.00028      0.5              0.49972            21\n",
       "   5 │ HLA-E_HLA-B         5.0e-5       0.15385          0.1538             21 ⋯\n",
       "   6 │ HLA-A_HLA-C         0.0          0.13287          0.13287            21\n",
       "   7 │ HLA-A_LGALS3        0.0          0.13287          0.13287            21\n",
       "   8 │ CD74_LGALS3         0.0          0.14307          0.14307            20\n",
       "  ⋮  │       ⋮              ⋮            ⋮              ⋮               ⋮      ⋱\n",
       " 280 │ HLA-E_CCL19         0.01251      0.17483          0.16232             1 ⋯\n",
       " 281 │ HLA-C_CCL19         0.03346      0.27972          0.24626             1\n",
       " 282 │ CCL19_THBS1         0.0036       0.82517          0.82157             1\n",
       " 283 │ CCL19_TIMP1         0.00016      0.31069          0.31053             1\n",
       " 284 │ CCL19_A2M           0.00307      0.79021          0.78714             1 ⋯\n",
       " 285 │ RACK1_PKD1          0.0049       0.30769          0.30279             1\n",
       " 286 │ HLA-DRA_PKD1        0.02082      0.3956           0.37478             1\n",
       "\u001b[36m                                                   1 column and 271 rows omitted\u001b[0m"
      ]
     },
     "metadata": {},
     "output_type": "display_data"
    }
   ],
   "source": [
    "diff_df74 = find_differentially_cooccurring_LR_pairs(result_7, result_4, 0.05, 0.1)"
   ]
  },
  {
   "cell_type": "code",
   "execution_count": 102,
   "metadata": {},
   "outputs": [
    {
     "data": {
      "text/html": [
       "<div><div style = \"float: left;\"><span>1×5 DataFrame</span></div><div style = \"clear: both;\"></div></div><div class = \"data-frame\" style = \"overflow-x: scroll;\"><table class = \"data-frame\" style = \"margin-bottom: 6px;\"><thead><tr class = \"header\"><th class = \"rowNumber\" style = \"font-weight: bold; text-align: right;\">Row</th><th style = \"text-align: left;\">pair</th><th style = \"text-align: left;\">group1_pval</th><th style = \"text-align: left;\">group2_pval</th><th style = \"text-align: left;\">pval_difference</th><th style = \"text-align: left;\">observed_cooc</th></tr><tr class = \"subheader headerLastRow\"><th class = \"rowNumber\" style = \"font-weight: bold; text-align: right;\"></th><th title = \"String\" style = \"text-align: left;\">String</th><th title = \"Real\" style = \"text-align: left;\">Real</th><th title = \"Real\" style = \"text-align: left;\">Real</th><th title = \"Real\" style = \"text-align: left;\">Real</th><th title = \"Int64\" style = \"text-align: left;\">Int64</th></tr></thead><tbody><tr><td class = \"rowNumber\" style = \"font-weight: bold; text-align: right;\">1</td><td style = \"text-align: left;\">NAMPT_RPS19</td><td style = \"text-align: right;\">0.0</td><td style = \"text-align: right;\">0.29604</td><td style = \"text-align: right;\">0.29604</td><td style = \"text-align: right;\">131</td></tr></tbody></table></div>"
      ],
      "text/latex": [
       "\\begin{tabular}{r|ccccc}\n",
       "\t& pair & group1\\_pval & group2\\_pval & pval\\_difference & observed\\_cooc\\\\\n",
       "\t\\hline\n",
       "\t& String & Real & Real & Real & Int64\\\\\n",
       "\t\\hline\n",
       "\t1 & NAMPT\\_RPS19 & 0.0 & 0.29604 & 0.29604 & 131 \\\\\n",
       "\\end{tabular}\n"
      ],
      "text/plain": [
       "\u001b[1m1×5 DataFrame\u001b[0m\n",
       "\u001b[1m Row \u001b[0m│\u001b[1m pair        \u001b[0m\u001b[1m group1_pval \u001b[0m\u001b[1m group2_pval \u001b[0m\u001b[1m pval_difference \u001b[0m\u001b[1m observed_cooc \u001b[0m\n",
       "     │\u001b[90m String      \u001b[0m\u001b[90m Real        \u001b[0m\u001b[90m Real        \u001b[0m\u001b[90m Real            \u001b[0m\u001b[90m Int64         \u001b[0m\n",
       "─────┼───────────────────────────────────────────────────────────────────────\n",
       "   1 │ NAMPT_RPS19          0.0      0.29604          0.29604            131"
      ]
     },
     "metadata": {},
     "output_type": "display_data"
    }
   ],
   "source": [
    "diff_df74[diff_df74.pair .== \"NAMPT_RPS19\", :]"
   ]
  },
  {
   "cell_type": "code",
   "execution_count": 107,
   "metadata": {},
   "outputs": [],
   "source": [
    "r_74_pairs = [\"CD24_CDHR5\", \"LGALS3_CDHR5\", \"HLA-A_SAA1\", \"HLA-A_CDHR5\", \"HLA-DRA_CDHR5\", \"HLA-F_TIMP1\", \"HLA-A_SERPINE1\", \"HLA-E_SERPINE1\", \"SERPINE1_CD74\", \"SAA1_HLA-DRA\", \"SERPINE1_HLA-DRA\", \"CD24_SERPINE1\", \"RPS19_SERPINE1\", \"THBS1_HLA-F\", \"SERPINE1_THBS1\", \"SERPINE1_LGALS3\", \"CDHR5_RACK1\", \"HLA-A_TNFRSF6B\", \"CD24_TNFRSF6B\", \"HLA-DRA_TNFRSF6B\", \"TNFRSF6B_CD74\", \"HLA-A_COL18A1\", \"SERPINE1_RPSA\", \"SERPINE1_RACK1\", \"HLA-A_HMGB1\", \"COL18A1_HLA-DRA\", \"HLA-E_HMGB1\", \"HMGB1_CD74\", \"HLA-A_CD163\", \"SAA1_RPS19\", \"HMGB1_LGALS3\", \"CD24_COL18A1\", \"HLA-DRA_HMGB1\", \"LGALS3_CD163\", \"RPS19_COL18A1\", \"COL18A1_RACK1\", \"THBS1_TNFRSF6B\", \"TNFRSF6B_RACK1\", \"HLA-DRA_CD163\", \"THBS1_CDHR5\", \"HMGB1_RACK1\", \"THBS1_HMGB1\", \"RACK1_CD163\", \"HLA-A_RARRES2\", \"THBS1_CD163\", \"RARRES2_HLA-DRA\", \"COL18A1_THBS1\", \"RARRES2_RACK1\", \"RARRES2_THBS1\", \"C3_SERPINE1\", \"HLA-A_PLAT\", \"PLAT_HLA-DRA\", \"RPS19_PLAT\", \"PLAT_RACK1\", \"HLA-A_ANXA6\", \"HLA-DRA_ANXA6\", \"ANXA6_CD74\", \"LGALS3_ANXA6\", \"RPS19_ANXA6\", \"PLAT_THBS1\", \"RACK1_ANXA6\", \"THBS1_ANXA6\", \"CCL21_THBS1\", \"CCL21_CD74\", \"HLA-A_IL7R\", \"HLA-DRA_IL7R\", \"CCL21_A2M\", \"CD24_IL7R\", \"HLA-A_CXCR4\", \"A2M_CXCR4\", \"THBS1_IL7R\", \"HLA-DRA_CXCR4\", \"IL7R_RPSA\", \"IL7R_RACK1\", \"CCL21_NAMPT\", \"PSAP_CXCR4\", \"HSP90B1_CXCR4\", \"HLA-A_IL10RA\", \"HLA-E_CXCR4\", \"THBS1_CXCR4\", \"HLA-DRA_IL10RA\", \"LGALS3_IL10RA\", \"NAMPT_IL7R\", \"CXCR4_RACK1\", \"IL10RA_CD74\", \"RPS19_IL10RA\", \"NAMPT_CXCR4\", \"IL10RA_RACK1\", \"CCL21_SERPINE1\", \"HLA-A_LGALS3\", \"LGALS3_CD74\", \"HLA-A_CD24\", \"HLA-A_HLA-E\", \"CD24_LGALS3\", \"HLA-E_CD74\", \"CD24_CD74\", \"CD24_HLA-E\", \"HLA-DRA_LGALS3\", \"HLA-E_HLA-DRA\", \"CCL19_HLA-A\", \"CCL19_HLA-E\", \"CCL19_THBS1\", \"CCL19_TIMP1\", \"HLA-A_PSAP\", \"CD24_HLA-DRA\", \"PSAP_CD74\", \"HLA-A_HSP90B1\", \"HLA-A_THBS1\", \"HSP90B1_CD74\", \"HLA-A_CALR\", \"CCL19_A2M\", \"PSAP_HLA-DRA\", \"CALR_LGALS3\", \"CALR_HLA-E\", \"HLA-E_HSP90B1\", \"HLA-A_A2M\", \"RPS19_CD74\", \"HSP90B1_HLA-DRA\", \"RPS19_HLA-E\", \"RACK1_CD74\", \"A2M_HLA-DRA\", \"CALR_HLA-DRA\", \"HLA-E_THBS1\", \"A2M_LGALS3\", \"THBS1_HLA-DRA\", \"RPSA_CD74\", \"LGALS3_RACK1\", \"A2M_HLA-E\", \"CD24_THBS1\", \"HLA-E_RACK1\", \"HLA-A_MIF\", \"RPS19_CD24\", \"PSAP_THBS1\", \"HLA-DRA_RACK1\", \"RPS19_PSAP\", \"RPS19_HLA-DRA\", \"PSAP_A2M\", \"MIF_CD74\", \"LGALS3_RPSA\", \"HLA-E_RPSA\", \"MIF_LGALS3\", \"HLA-A_TIMP1\", \"A2M_HSP90B1\", \"CD24_RPSA\", \"RPS19_HSP90B1\", \"PSAP_RACK1\", \"CALR_THBS1\", \"HLA-DRA_MIF\", \"TIMP1_LGALS3\", \"TIMP1_CD74\", \"A2M_RACK1\", \"HLA-DRA_TIMP1\", \"HLA-E_TIMP1\", \"HSP90B1_THBS1\", \"RPS19_CALR\", \"CALR_RACK1\", \"A2M_THBS1\", \"CALR_RPSA\", \"CD24_TIMP1\", \"THBS1_RPSA\", \"THBS1_RACK1\", \"RPSA_RACK1\", \"TIMP1_RACK1\", \"PSAP_TIMP1\", \"HSP90B1_TIMP1\", \"HLA-A_CALM2\", \"THBS1_TIMP1\", \"THBS1_MIF\", \"CALM2_HLA-DRA\", \"MIF_RACK1\", \"CALM2_CD24\", \"CALM2_HLA-E\", \"RPS19_MIF\", \"HLA-A_APOE\", \"NAMPT_CD74\", \"HLA-A_NAMPT\", \"HLA-E_NAMPT\", \"APOE_CD74\", \"CD74_HLA-DQB1\", \"HLA-A_HLA-DQB1\", \"LGALS3_HLA-DQB1\", \"PSAP_NAMPT\", \"APOE_LGALS3\", \"APOE_CD24\", \"RPS19_NAMPT\", \"A2M_NAMPT\", \"APOE_HLA-DRA\", \"HLA-DRA_HLA-DQB1\", \"CALR_NAMPT\", \"NAMPT_RACK1\", \"CALM2_THBS1\", \"CALM2_RACK1\", \"NAMPT_THBS1\", \"NAMPT_TIMP1\", \"RPS19_HLA-DQB1\", \"GSTP1_CD74\", \"GSTP1_LGALS3\", \"HLA-A_GSTP1\", \"RPS19_APOE\", \"RACK1_HLA-DQB1\", \"HLA-A_RRBP1\", \"LGALS3_RRBP1\", \"HLA-A_CALM1\", \"CD24_GSTP1\", \"CD24_RRBP1\", \"HLA-DRA_RRBP1\", \"GSTP1_HLA-DRA\", \"HLA-DRA_HLA-F\", \"APOE_THBS1\", \"APOE_RACK1\", \"HLA-A_HLA-F\", \"HLA-E_HLA-F\", \"CALM1_LGALS3\", \"CD24_HLA-F\", \"HLA-F_LGALS3\", \"CALM1_HLA-DRA\", \"THBS1_HLA-DQB1\", \"PSAP_HLA-F\", \"RPS19_RRBP1\", \"HLA-DRA_PKD1\", \"PKD1_RACK1\", \"GSTP1_THBS1\", \"GSTP1_RACK1\", \"CALM1_RACK1\", \"A2M_HLA-F\", \"SAA1_LGALS3\", \"HLA-F_RACK1\", \"RPS19_HLA-F\", \"C3_THBS1\", \"CALM1_THBS1\", \"THBS1_RRBP1\", \"RACK1_RRBP1\"]\n",
    "j_74_pairs = diff_df74.pair\n",
    "\n",
    "not_in_j = setdiff(r_74_pairs, j_74_pairs)\n",
    "in_both = intersect(r_74_pairs, j_74_pairs)\n",
    "not_in_j_reversed = map(x -> string(split(x, \"_\")[2], \"_\", split(x, \"_\")[1]), not_in_j);"
   ]
  },
  {
   "cell_type": "code",
   "execution_count": 108,
   "metadata": {},
   "outputs": [
    {
     "data": {
      "text/plain": [
       "Set{String}()"
      ]
     },
     "metadata": {},
     "output_type": "display_data"
    }
   ],
   "source": [
    "setdiff(Set([in_both; not_in_j_reversed]), j_74_pairs)"
   ]
  },
  {
   "cell_type": "code",
   "execution_count": 113,
   "metadata": {},
   "outputs": [
    {
     "data": {
      "text/plain": [
       "54-element Vector{String}:\n",
       " \"HLA-A_HLA-B\"\n",
       " \"HLA-B_LGALS3\"\n",
       " \"HLA-C_HLA-B\"\n",
       " \"HLA-B_CD24\"\n",
       " \"HLA-E_HLA-B\"\n",
       " \"HLA-A_HLA-C\"\n",
       " \"HLA-B_THBS1\"\n",
       " \"CD74_HLA-C\"\n",
       " \"HLA-B_PSAP\"\n",
       " \"HLA-C_LGALS3\"\n",
       " ⋮\n",
       " \"HLA-B_HMGB1\"\n",
       " \"HLA-B_CD163\"\n",
       " \"HLA-B_RARRES2\"\n",
       " \"HLA-C_RARRES2\"\n",
       " \"HLA-B_PLAT\"\n",
       " \"HLA-C_PLAT\"\n",
       " \"ANXA6_HLA-C\"\n",
       " \"HLA-C_IL10RA\"\n",
       " \"HLA-C_CCL19\""
      ]
     },
     "metadata": {},
     "output_type": "display_data"
    }
   ],
   "source": [
    "setdiff(j_74_pairs, Set([in_both; not_in_j_reversed]))"
   ]
  },
  {
   "cell_type": "code",
   "execution_count": 72,
   "metadata": {},
   "outputs": [
    {
     "data": {
      "text/html": [
       "<div><div style = \"float: left;\"><span>1×5 DataFrame</span></div><div style = \"clear: both;\"></div></div><div class = \"data-frame\" style = \"overflow-x: scroll;\"><table class = \"data-frame\" style = \"margin-bottom: 6px;\"><thead><tr class = \"header\"><th class = \"rowNumber\" style = \"font-weight: bold; text-align: right;\">Row</th><th style = \"text-align: left;\">pair</th><th style = \"text-align: left;\">group1_pval</th><th style = \"text-align: left;\">group2_pval</th><th style = \"text-align: left;\">pval_difference</th><th style = \"text-align: left;\">observed_cooc</th></tr><tr class = \"subheader headerLastRow\"><th class = \"rowNumber\" style = \"font-weight: bold; text-align: right;\"></th><th title = \"String\" style = \"text-align: left;\">String</th><th title = \"Real\" style = \"text-align: left;\">Real</th><th title = \"Real\" style = \"text-align: left;\">Real</th><th title = \"Real\" style = \"text-align: left;\">Real</th><th title = \"Int64\" style = \"text-align: left;\">Int64</th></tr></thead><tbody><tr><td class = \"rowNumber\" style = \"font-weight: bold; text-align: right;\">1</td><td style = \"text-align: left;\">RACK1_RRBP1</td><td style = \"text-align: right;\">0.0</td><td style = \"text-align: right;\">0.30769</td><td style = \"text-align: right;\">0.30769</td><td style = \"text-align: right;\">100</td></tr></tbody></table></div>"
      ],
      "text/latex": [
       "\\begin{tabular}{r|ccccc}\n",
       "\t& pair & group1\\_pval & group2\\_pval & pval\\_difference & observed\\_cooc\\\\\n",
       "\t\\hline\n",
       "\t& String & Real & Real & Real & Int64\\\\\n",
       "\t\\hline\n",
       "\t1 & RACK1\\_RRBP1 & 0.0 & 0.30769 & 0.30769 & 100 \\\\\n",
       "\\end{tabular}\n"
      ],
      "text/plain": [
       "\u001b[1m1×5 DataFrame\u001b[0m\n",
       "\u001b[1m Row \u001b[0m│\u001b[1m pair        \u001b[0m\u001b[1m group1_pval \u001b[0m\u001b[1m group2_pval \u001b[0m\u001b[1m pval_difference \u001b[0m\u001b[1m observed_cooc \u001b[0m\n",
       "     │\u001b[90m String      \u001b[0m\u001b[90m Real        \u001b[0m\u001b[90m Real        \u001b[0m\u001b[90m Real            \u001b[0m\u001b[90m Int64         \u001b[0m\n",
       "─────┼───────────────────────────────────────────────────────────────────────\n",
       "   1 │ RACK1_RRBP1          0.0      0.30769          0.30769            100"
      ]
     },
     "metadata": {},
     "output_type": "display_data"
    }
   ],
   "source": [
    "diff_df74[diff_df74.pair .== \"RACK1_RRBP1\", :]"
   ]
  },
  {
   "cell_type": "code",
   "execution_count": null,
   "metadata": {},
   "outputs": [],
   "source": []
  },
  {
   "cell_type": "code",
   "execution_count": 6,
   "metadata": {},
   "outputs": [
    {
     "data": {
      "text/plain": [
       "Dict{String, Any} with 2 entries:\n",
       "  \"cooccurrence_table\" => CooccurOutput(\u001b[1m621×13 DataFrame\u001b[0m\u001b[0m…\n",
       "  \"enriched_LRs\"       => \u001b[1m3×6 DataFrame\u001b[0m\u001b[0m…"
      ]
     },
     "metadata": {},
     "output_type": "display_data"
    }
   ],
   "source": [
    "result_4"
   ]
  },
  {
   "cell_type": "code",
   "execution_count": 7,
   "metadata": {},
   "outputs": [],
   "source": [
    "group1_results = result_4\n",
    "group2_results = result_7\n",
    "group1_max_pval = 0.05\n",
    "group2_min_pval = 0.1;"
   ]
  },
  {
   "cell_type": "code",
   "execution_count": 15,
   "metadata": {},
   "outputs": [],
   "source": [
    "cooc_results_group1 = result_7[\"cooccurrence_table\"].results\n",
    "cooc_results_group2 = result_4[\"cooccurrence_table\"].results;"
   ]
  },
  {
   "cell_type": "code",
   "execution_count": 22,
   "metadata": {},
   "outputs": [
    {
     "data": {
      "text/html": [
       "<div><div style = \"float: left;\"><span>0×5 DataFrame</span></div><div style = \"clear: both;\"></div></div><div class = \"data-frame\" style = \"overflow-x: scroll;\"><table class = \"data-frame\" style = \"margin-bottom: 6px;\"><thead><tr class = \"header\"><th class = \"rowNumber\" style = \"font-weight: bold; text-align: right;\">Row</th><th style = \"text-align: left;\">pair</th><th style = \"text-align: left;\">group1_pval</th><th style = \"text-align: left;\">group2_pval</th><th style = \"text-align: left;\">pval_difference</th><th style = \"text-align: left;\">observed_cooc</th></tr><tr class = \"subheader headerLastRow\"><th class = \"rowNumber\" style = \"font-weight: bold; text-align: right;\"></th><th title = \"String\" style = \"text-align: left;\">String</th><th title = \"Real\" style = \"text-align: left;\">Real</th><th title = \"Real\" style = \"text-align: left;\">Real</th><th title = \"Real\" style = \"text-align: left;\">Real</th><th title = \"Int64\" style = \"text-align: left;\">Int64</th></tr></thead><tbody></tbody></table></div>"
      ],
      "text/latex": [
       "\\begin{tabular}{r|ccccc}\n",
       "\t& pair & group1\\_pval & group2\\_pval & pval\\_difference & observed\\_cooc\\\\\n",
       "\t\\hline\n",
       "\t& String & Real & Real & Real & Int64\\\\\n",
       "\t\\hline\n",
       "\\end{tabular}\n"
      ],
      "text/plain": [
       "\u001b[1m0×5 DataFrame\u001b[0m\n",
       "\u001b[1m Row \u001b[0m│\u001b[1m pair   \u001b[0m\u001b[1m group1_pval \u001b[0m\u001b[1m group2_pval \u001b[0m\u001b[1m pval_difference \u001b[0m\u001b[1m observed_cooc \u001b[0m\n",
       "     │\u001b[90m String \u001b[0m\u001b[90m Real        \u001b[0m\u001b[90m Real        \u001b[0m\u001b[90m Real            \u001b[0m\u001b[90m Int64         \u001b[0m\n",
       "─────┴──────────────────────────────────────────────────────────────────"
      ]
     },
     "metadata": {},
     "output_type": "display_data"
    }
   ],
   "source": [
    "enriched_LR_pairs_group1 = DataFrame(pair=String[], group1_pval=Real[], group2_pval=Real[], pval_difference=Real[], observed_cooc=Int[])"
   ]
  },
  {
   "cell_type": "code",
   "execution_count": 23,
   "metadata": {},
   "outputs": [],
   "source": [
    "for row in eachrow(cooc_results_group1)\n",
    "    if row.pair12 in cooc_results_group2.pair12\n",
    "        group1_pval = row.p_gt\n",
    "        group2_pval = filter(r -> r.pair12 == row.pair12, cooc_results_group2).p_gt[1]\n",
    "        group1_observed_cooc = row.obs_cooccur\n",
    "        group2_observed_cooc = filter(r -> r.pair12 == row.pair12, cooc_results_group2).obs_cooccur[1]\n",
    "        group1_expected_cooc = row.exp_cooccur\n",
    "        group2_expected_cooc = filter(r -> r.pair12 == row.pair12, cooc_results_group2).exp_cooccur[1]\n",
    "        pval_difference = group2_pval - group1_pval\n",
    "\n",
    "        if group1_pval < group1_max_pval && group2_pval > group2_min_pval && group1_observed_cooc > 10 && group1_observed_cooc != group1_expected_cooc && group2_observed_cooc != group2_expected_cooc && group2_observed_cooc < group1_observed_cooc\n",
    "            # println(row.pair12)\n",
    "            pair_data = DataFrame(pair=row.pair12, group1_pval=group1_pval, group2_pval=group2_pval, pval_difference=pval_difference, observed_cooc=group1_observed_cooc)\n",
    "            append!(enriched_LR_pairs_group1, pair_data)\n",
    "        end\n",
    "    end\n",
    "end"
   ]
  },
  {
   "cell_type": "code",
   "execution_count": 25,
   "metadata": {},
   "outputs": [
    {
     "data": {
      "text/html": [
       "<div><div style = \"float: left;\"><span>286×5 DataFrame</span></div><div style = \"float: right;\"><span style = \"font-style: italic;\">261 rows omitted</span></div><div style = \"clear: both;\"></div></div><div class = \"data-frame\" style = \"overflow-x: scroll;\"><table class = \"data-frame\" style = \"margin-bottom: 6px;\"><thead><tr class = \"header\"><th class = \"rowNumber\" style = \"font-weight: bold; text-align: right;\">Row</th><th style = \"text-align: left;\">pair</th><th style = \"text-align: left;\">group1_pval</th><th style = \"text-align: left;\">group2_pval</th><th style = \"text-align: left;\">pval_difference</th><th style = \"text-align: left;\">observed_cooc</th></tr><tr class = \"subheader headerLastRow\"><th class = \"rowNumber\" style = \"font-weight: bold; text-align: right;\"></th><th title = \"String\" style = \"text-align: left;\">String</th><th title = \"Real\" style = \"text-align: left;\">Real</th><th title = \"Real\" style = \"text-align: left;\">Real</th><th title = \"Real\" style = \"text-align: left;\">Real</th><th title = \"Int64\" style = \"text-align: left;\">Int64</th></tr></thead><tbody><tr><td class = \"rowNumber\" style = \"font-weight: bold; text-align: right;\">1</td><td style = \"text-align: left;\">HLA-A_HLA-B</td><td style = \"text-align: right;\">0.0</td><td style = \"text-align: right;\">0.27473</td><td style = \"text-align: right;\">0.27473</td><td style = \"text-align: right;\">235</td></tr><tr><td class = \"rowNumber\" style = \"font-weight: bold; text-align: right;\">2</td><td style = \"text-align: left;\">HLA-B_LGALS3</td><td style = \"text-align: right;\">0.00122</td><td style = \"text-align: right;\">0.90385</td><td style = \"text-align: right;\">0.90263</td><td style = \"text-align: right;\">231</td></tr><tr><td class = \"rowNumber\" style = \"font-weight: bold; text-align: right;\">3</td><td style = \"text-align: left;\">HLA-C_HLA-B</td><td style = \"text-align: right;\">1.0e-5</td><td style = \"text-align: right;\">0.5</td><td style = \"text-align: right;\">0.49999</td><td style = \"text-align: right;\">230</td></tr><tr><td class = \"rowNumber\" style = \"font-weight: bold; text-align: right;\">4</td><td style = \"text-align: left;\">HLA-B_CD24</td><td style = \"text-align: right;\">0.00028</td><td style = \"text-align: right;\">0.5</td><td style = \"text-align: right;\">0.49972</td><td style = \"text-align: right;\">218</td></tr><tr><td class = \"rowNumber\" style = \"font-weight: bold; text-align: right;\">5</td><td style = \"text-align: left;\">HLA-E_HLA-B</td><td style = \"text-align: right;\">5.0e-5</td><td style = \"text-align: right;\">0.15385</td><td style = \"text-align: right;\">0.1538</td><td style = \"text-align: right;\">217</td></tr><tr><td class = \"rowNumber\" style = \"font-weight: bold; text-align: right;\">6</td><td style = \"text-align: left;\">HLA-A_HLA-C</td><td style = \"text-align: right;\">0.0</td><td style = \"text-align: right;\">0.13287</td><td style = \"text-align: right;\">0.13287</td><td style = \"text-align: right;\">210</td></tr><tr><td class = \"rowNumber\" style = \"font-weight: bold; text-align: right;\">7</td><td style = \"text-align: left;\">HLA-A_LGALS3</td><td style = \"text-align: right;\">0.0</td><td style = \"text-align: right;\">0.13287</td><td style = \"text-align: right;\">0.13287</td><td style = \"text-align: right;\">210</td></tr><tr><td class = \"rowNumber\" style = \"font-weight: bold; text-align: right;\">8</td><td style = \"text-align: left;\">CD74_LGALS3</td><td style = \"text-align: right;\">0.0</td><td style = \"text-align: right;\">0.14307</td><td style = \"text-align: right;\">0.14307</td><td style = \"text-align: right;\">207</td></tr><tr><td class = \"rowNumber\" style = \"font-weight: bold; text-align: right;\">9</td><td style = \"text-align: left;\">HLA-B_THBS1</td><td style = \"text-align: right;\">0.0</td><td style = \"text-align: right;\">0.38462</td><td style = \"text-align: right;\">0.38462</td><td style = \"text-align: right;\">206</td></tr><tr><td class = \"rowNumber\" style = \"font-weight: bold; text-align: right;\">10</td><td style = \"text-align: left;\">CD74_HLA-C</td><td style = \"text-align: right;\">0.0</td><td style = \"text-align: right;\">0.14307</td><td style = \"text-align: right;\">0.14307</td><td style = \"text-align: right;\">204</td></tr><tr><td class = \"rowNumber\" style = \"font-weight: bold; text-align: right;\">11</td><td style = \"text-align: left;\">HLA-B_PSAP</td><td style = \"text-align: right;\">0.0</td><td style = \"text-align: right;\">0.32967</td><td style = \"text-align: right;\">0.32967</td><td style = \"text-align: right;\">203</td></tr><tr><td class = \"rowNumber\" style = \"font-weight: bold; text-align: right;\">12</td><td style = \"text-align: left;\">HLA-C_LGALS3</td><td style = \"text-align: right;\">0.0</td><td style = \"text-align: right;\">0.14307</td><td style = \"text-align: right;\">0.14307</td><td style = \"text-align: right;\">202</td></tr><tr><td class = \"rowNumber\" style = \"font-weight: bold; text-align: right;\">13</td><td style = \"text-align: left;\">HLA-A_CD24</td><td style = \"text-align: right;\">0.0</td><td style = \"text-align: right;\">0.13287</td><td style = \"text-align: right;\">0.13287</td><td style = \"text-align: right;\">200</td></tr><tr><td style = \"text-align: right;\">&vellip;</td><td style = \"text-align: right;\">&vellip;</td><td style = \"text-align: right;\">&vellip;</td><td style = \"text-align: right;\">&vellip;</td><td style = \"text-align: right;\">&vellip;</td><td style = \"text-align: right;\">&vellip;</td></tr><tr><td class = \"rowNumber\" style = \"font-weight: bold; text-align: right;\">275</td><td style = \"text-align: left;\">CXCR4_NAMPT</td><td style = \"text-align: right;\">0.00074</td><td style = \"text-align: right;\">0.17483</td><td style = \"text-align: right;\">0.17409</td><td style = \"text-align: right;\">23</td></tr><tr><td class = \"rowNumber\" style = \"font-weight: bold; text-align: right;\">276</td><td style = \"text-align: left;\">RACK1_IL10RA</td><td style = \"text-align: right;\">0.00668</td><td style = \"text-align: right;\">0.30769</td><td style = \"text-align: right;\">0.30101</td><td style = \"text-align: right;\">23</td></tr><tr><td class = \"rowNumber\" style = \"font-weight: bold; text-align: right;\">277</td><td style = \"text-align: left;\">IL10RA_RPS19</td><td style = \"text-align: right;\">0.00549</td><td style = \"text-align: right;\">0.23077</td><td style = \"text-align: right;\">0.22528</td><td style = \"text-align: right;\">23</td></tr><tr><td class = \"rowNumber\" style = \"font-weight: bold; text-align: right;\">278</td><td style = \"text-align: left;\">SERPINE1_CCL21</td><td style = \"text-align: right;\">0.00041</td><td style = \"text-align: right;\">0.76923</td><td style = \"text-align: right;\">0.76882</td><td style = \"text-align: right;\">22</td></tr><tr><td class = \"rowNumber\" style = \"font-weight: bold; text-align: right;\">279</td><td style = \"text-align: left;\">HLA-A_CCL19</td><td style = \"text-align: right;\">0.04775</td><td style = \"text-align: right;\">0.12587</td><td style = \"text-align: right;\">0.07812</td><td style = \"text-align: right;\">19</td></tr><tr><td class = \"rowNumber\" style = \"font-weight: bold; text-align: right;\">280</td><td style = \"text-align: left;\">HLA-E_CCL19</td><td style = \"text-align: right;\">0.01251</td><td style = \"text-align: right;\">0.17483</td><td style = \"text-align: right;\">0.16232</td><td style = \"text-align: right;\">19</td></tr><tr><td class = \"rowNumber\" style = \"font-weight: bold; text-align: right;\">281</td><td style = \"text-align: left;\">HLA-C_CCL19</td><td style = \"text-align: right;\">0.03346</td><td style = \"text-align: right;\">0.27972</td><td style = \"text-align: right;\">0.24626</td><td style = \"text-align: right;\">19</td></tr><tr><td class = \"rowNumber\" style = \"font-weight: bold; text-align: right;\">282</td><td style = \"text-align: left;\">CCL19_THBS1</td><td style = \"text-align: right;\">0.0036</td><td style = \"text-align: right;\">0.82517</td><td style = \"text-align: right;\">0.82157</td><td style = \"text-align: right;\">19</td></tr><tr><td class = \"rowNumber\" style = \"font-weight: bold; text-align: right;\">283</td><td style = \"text-align: left;\">CCL19_TIMP1</td><td style = \"text-align: right;\">0.00016</td><td style = \"text-align: right;\">0.31069</td><td style = \"text-align: right;\">0.31053</td><td style = \"text-align: right;\">19</td></tr><tr><td class = \"rowNumber\" style = \"font-weight: bold; text-align: right;\">284</td><td style = \"text-align: left;\">CCL19_A2M</td><td style = \"text-align: right;\">0.00307</td><td style = \"text-align: right;\">0.79021</td><td style = \"text-align: right;\">0.78714</td><td style = \"text-align: right;\">18</td></tr><tr><td class = \"rowNumber\" style = \"font-weight: bold; text-align: right;\">285</td><td style = \"text-align: left;\">RACK1_PKD1</td><td style = \"text-align: right;\">0.0049</td><td style = \"text-align: right;\">0.30769</td><td style = \"text-align: right;\">0.30279</td><td style = \"text-align: right;\">11</td></tr><tr><td class = \"rowNumber\" style = \"font-weight: bold; text-align: right;\">286</td><td style = \"text-align: left;\">HLA-DRA_PKD1</td><td style = \"text-align: right;\">0.02082</td><td style = \"text-align: right;\">0.3956</td><td style = \"text-align: right;\">0.37478</td><td style = \"text-align: right;\">11</td></tr></tbody></table></div>"
      ],
      "text/latex": [
       "\\begin{tabular}{r|ccccc}\n",
       "\t& pair & group1\\_pval & group2\\_pval & pval\\_difference & observed\\_cooc\\\\\n",
       "\t\\hline\n",
       "\t& String & Real & Real & Real & Int64\\\\\n",
       "\t\\hline\n",
       "\t1 & HLA-A\\_HLA-B & 0.0 & 0.27473 & 0.27473 & 235 \\\\\n",
       "\t2 & HLA-B\\_LGALS3 & 0.00122 & 0.90385 & 0.90263 & 231 \\\\\n",
       "\t3 & HLA-C\\_HLA-B & 1.0e-5 & 0.5 & 0.49999 & 230 \\\\\n",
       "\t4 & HLA-B\\_CD24 & 0.00028 & 0.5 & 0.49972 & 218 \\\\\n",
       "\t5 & HLA-E\\_HLA-B & 5.0e-5 & 0.15385 & 0.1538 & 217 \\\\\n",
       "\t6 & HLA-A\\_HLA-C & 0.0 & 0.13287 & 0.13287 & 210 \\\\\n",
       "\t7 & HLA-A\\_LGALS3 & 0.0 & 0.13287 & 0.13287 & 210 \\\\\n",
       "\t8 & CD74\\_LGALS3 & 0.0 & 0.14307 & 0.14307 & 207 \\\\\n",
       "\t9 & HLA-B\\_THBS1 & 0.0 & 0.38462 & 0.38462 & 206 \\\\\n",
       "\t10 & CD74\\_HLA-C & 0.0 & 0.14307 & 0.14307 & 204 \\\\\n",
       "\t11 & HLA-B\\_PSAP & 0.0 & 0.32967 & 0.32967 & 203 \\\\\n",
       "\t12 & HLA-C\\_LGALS3 & 0.0 & 0.14307 & 0.14307 & 202 \\\\\n",
       "\t13 & HLA-A\\_CD24 & 0.0 & 0.13287 & 0.13287 & 200 \\\\\n",
       "\t14 & HLA-A\\_HLA-E & 0.0 & 0.23776 & 0.23776 & 199 \\\\\n",
       "\t15 & HLA-C\\_CD24 & 0.0 & 0.85693 & 0.85693 & 199 \\\\\n",
       "\t16 & CD24\\_LGALS3 & 0.0 & 0.5 & 0.5 & 199 \\\\\n",
       "\t17 & CD74\\_HLA-E & 0.0 & 0.29604 & 0.29604 & 197 \\\\\n",
       "\t18 & HLA-E\\_HLA-C & 0.0 & 0.29604 & 0.29604 & 197 \\\\\n",
       "\t19 & CD74\\_CD24 & 0.0 & 0.14307 & 0.14307 & 194 \\\\\n",
       "\t20 & HLA-C\\_HLA-DRA & 0.0 & 0.13287 & 0.13287 & 194 \\\\\n",
       "\t21 & HLA-B\\_HSP90B1 & 0.00018 & 0.32967 & 0.32949 & 194 \\\\\n",
       "\t22 & HLA-B\\_CALR & 0.00018 & 0.4533 & 0.45312 & 194 \\\\\n",
       "\t23 & HLA-E\\_CD24 & 0.0 & 0.94872 & 0.94872 & 192 \\\\\n",
       "\t24 & HLA-DRA\\_LGALS3 & 0.0 & 0.5 & 0.5 & 192 \\\\\n",
       "\t$\\dots$ & $\\dots$ & $\\dots$ & $\\dots$ & $\\dots$ & $\\dots$ \\\\\n",
       "\\end{tabular}\n"
      ],
      "text/plain": [
       "\u001b[1m286×5 DataFrame\u001b[0m\n",
       "\u001b[1m Row \u001b[0m│\u001b[1m pair           \u001b[0m\u001b[1m group1_pval \u001b[0m\u001b[1m group2_pval \u001b[0m\u001b[1m pval_difference \u001b[0m\u001b[1m observed_coo\u001b[0m ⋯\n",
       "     │\u001b[90m String         \u001b[0m\u001b[90m Real        \u001b[0m\u001b[90m Real        \u001b[0m\u001b[90m Real            \u001b[0m\u001b[90m Int64       \u001b[0m ⋯\n",
       "─────┼──────────────────────────────────────────────────────────────────────────\n",
       "   1 │ HLA-A_HLA-B         0.0          0.27473          0.27473            23 ⋯\n",
       "   2 │ HLA-B_LGALS3        0.00122      0.90385          0.90263            23\n",
       "   3 │ HLA-C_HLA-B         1.0e-5       0.5              0.49999            23\n",
       "   4 │ HLA-B_CD24          0.00028      0.5              0.49972            21\n",
       "   5 │ HLA-E_HLA-B         5.0e-5       0.15385          0.1538             21 ⋯\n",
       "   6 │ HLA-A_HLA-C         0.0          0.13287          0.13287            21\n",
       "   7 │ HLA-A_LGALS3        0.0          0.13287          0.13287            21\n",
       "   8 │ CD74_LGALS3         0.0          0.14307          0.14307            20\n",
       "  ⋮  │       ⋮              ⋮            ⋮              ⋮               ⋮      ⋱\n",
       " 280 │ HLA-E_CCL19         0.01251      0.17483          0.16232             1 ⋯\n",
       " 281 │ HLA-C_CCL19         0.03346      0.27972          0.24626             1\n",
       " 282 │ CCL19_THBS1         0.0036       0.82517          0.82157             1\n",
       " 283 │ CCL19_TIMP1         0.00016      0.31069          0.31053             1\n",
       " 284 │ CCL19_A2M           0.00307      0.79021          0.78714             1 ⋯\n",
       " 285 │ RACK1_PKD1          0.0049       0.30769          0.30279             1\n",
       " 286 │ HLA-DRA_PKD1        0.02082      0.3956           0.37478             1\n",
       "\u001b[36m                                                   1 column and 271 rows omitted\u001b[0m"
      ]
     },
     "metadata": {},
     "output_type": "display_data"
    }
   ],
   "source": [
    "# enriched_LR_pairs_group1\n",
    "enriched_LR_pairs_group1_sorted = sort(enriched_LR_pairs_group1, :observed_cooc, rev=true)"
   ]
  },
  {
   "cell_type": "code",
   "execution_count": null,
   "metadata": {},
   "outputs": [],
   "source": []
  },
  {
   "cell_type": "code",
   "execution_count": null,
   "metadata": {},
   "outputs": [],
   "source": [
    "\n",
    "enriched_LR_pairs_group1 = enriched_LR_pairs_group1[2:end, :]\n",
    "rownames(enriched_LR_pairs_group1) .= enriched_LR_pairs_group1.pair\n",
    "\n",
    "select!(enriched_LR_pairs_group1_sorted, Not(:pair))"
   ]
  },
  {
   "cell_type": "code",
   "execution_count": null,
   "metadata": {},
   "outputs": [],
   "source": []
  },
  {
   "cell_type": "code",
   "execution_count": null,
   "metadata": {},
   "outputs": [],
   "source": []
  },
  {
   "cell_type": "code",
   "execution_count": null,
   "metadata": {},
   "outputs": [],
   "source": []
  },
  {
   "cell_type": "code",
   "execution_count": null,
   "metadata": {},
   "outputs": [],
   "source": []
  },
  {
   "cell_type": "code",
   "execution_count": null,
   "metadata": {},
   "outputs": [],
   "source": []
  },
  {
   "cell_type": "code",
   "execution_count": null,
   "metadata": {},
   "outputs": [],
   "source": []
  }
 ],
 "metadata": {
  "kernelspec": {
   "display_name": "Julia 1.9.3",
   "language": "julia",
   "name": "julia-1.9"
  },
  "language_info": {
   "file_extension": ".jl",
   "mimetype": "application/julia",
   "name": "julia",
   "version": "1.9.3"
  },
  "orig_nbformat": 4
 },
 "nbformat": 4,
 "nbformat_minor": 2
}
