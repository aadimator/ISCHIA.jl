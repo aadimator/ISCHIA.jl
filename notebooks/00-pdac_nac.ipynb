{
 "cells": [
  {
   "cell_type": "code",
   "execution_count": 3,
   "metadata": {},
   "outputs": [],
   "source": [
    "using CSV\n",
    "using Muon\n",
    "using RData\n",
    "using Revise\n",
    "using ISCHIA\n",
    "using DataFrames\n",
    "using Combinatorics"
   ]
  },
  {
   "cell_type": "code",
   "execution_count": 2,
   "metadata": {},
   "outputs": [
    {
     "data": {
      "text/plain": [
       "AnnData object 216180 ✕ 17764"
      ]
     },
     "execution_count": 2,
     "metadata": {},
     "output_type": "execute_result"
    }
   ],
   "source": [
    "spatial_object = readh5ad(\"../data/06-pdac_nac-clusters-rmv_unk.h5ad\")\n",
    "# adata = readh5ad(\"../data/05-pdac_nac-clusters.h5ad\")\n",
    "lr_network = load(\"../data/lr_network.rds\")\n",
    "\n",
    "# # Remove spots where neoadjuvant_chemo is unknown\n",
    "# mask = .!(adata.obs.neoadjuvant_chemo .== \"Unknown\")\n",
    "# spatial_object = @view adata[mask, :]\n",
    "# # spatial_object = adata[mask, :]\n",
    "\n",
    "spatial_object"
   ]
  },
  {
   "cell_type": "code",
   "execution_count": 4,
   "metadata": {},
   "outputs": [
    {
     "data": {
      "text/plain": [
       "2-element Vector{String}:\n",
       " \"No\"\n",
       " \"Yes\""
      ]
     },
     "metadata": {},
     "output_type": "display_data"
    }
   ],
   "source": [
    "display(unique(spatial_object.obs.neoadjuvant_chemo))"
   ]
  },
  {
   "cell_type": "code",
   "execution_count": 5,
   "metadata": {},
   "outputs": [],
   "source": [
    "gene_names = collect(spatial_object.var_names)\n",
    "spatial_object.var.name = gene_names\n",
    "\n",
    "# Create LR_Pairs column\n",
    "lr_network[!, :LR_Pairs] = string.(lr_network.from, \"_\", lr_network.to);\n",
    "lr_network = lr_network[:, [:from, :to, :LR_Pairs]];\n",
    "\n",
    "# Filter lr_network to only include genes in adata\n",
    "from_filter = in.(lr_network[!, :from], Ref(gene_names))\n",
    "to_filter = in.(lr_network[:, :to], Ref(gene_names))\n",
    "all_LR_network = lr_network[from_filter .& to_filter, :];"
   ]
  },
  {
   "cell_type": "code",
   "execution_count": 6,
   "metadata": {},
   "outputs": [],
   "source": [
    "# Extract unique genes and common genes\n",
    "all_LR_genes = unique(vcat(all_LR_network[:, :from], all_LR_network[:, :to]))\n",
    "all_LR_genes_comm = intersect(all_LR_genes, collect(gene_names));\n",
    "\n",
    "# Create LR.pairs and LR.pairs.AllCombos\n",
    "LR_pairs = all_LR_network[:, :LR_Pairs]\n",
    "all_combos = [join(combo, \"_\") for combo in combinations(all_LR_genes_comm, 2)];"
   ]
  },
  {
   "cell_type": "code",
   "execution_count": 7,
   "metadata": {},
   "outputs": [
    {
     "data": {
      "text/plain": [
       "\"neoadjuvant_chemo\""
      ]
     },
     "execution_count": 7,
     "metadata": {},
     "output_type": "execute_result"
    }
   ],
   "source": [
    "# spatial_object = adata\n",
    "LR_list = all_LR_genes_comm\n",
    "LR_pairs = LR_pairs\n",
    "exp_th = 1\n",
    "corr_th = 0.2;\n",
    "\n",
    "cc_column = \"CC_k10\"\n",
    "cc_list = [\"CC10\"]\n",
    "# Condition = unique(spatial_object.obs[!, \"orig.ident\"])\n",
    "condition_list = [\"Yes\", \"No\"]\n",
    "condition_column = \"neoadjuvant_chemo\""
   ]
  },
  {
   "cell_type": "code",
   "execution_count": 8,
   "metadata": {},
   "outputs": [
    {
     "name": "stdout",
     "output_type": "stream",
     "text": [
      "Running for CC10\n",
      "Running for Yes\n",
      "Updated\n",
      "Preparing L-R presence/absence matrix\n",
      "Calculating L-R pairs correlation\n",
      "Preparing for cooccurrence\n",
      "Cooccurrence calculation starts...\n"
     ]
    },
    {
     "name": "stderr",
     "output_type": "stream",
     "text": [
      "\u001b[32mCalculate Incidence 100%|████████████████████████████████| Time: 0:01:04\u001b[39m\n",
      "\u001b[32mCalculate Co-occurrences 100%|███████████████████████████| Time: 0:01:17\u001b[39m\n",
      "\u001b[32mMain Comp 100%|██████████████████████████████████████████| Time: 0:00:59\u001b[39m\n"
     ]
    },
    {
     "name": "stdout",
     "output_type": "stream",
     "text": [
      "Cooccurrence calculation ended\n",
      "\n",
      "Summary of cooccurrence results:\n",
      "Of 824970 species pair combinations, 573708 pairs (69.54%) were removed from the analysis because expected co-occurrence was < 1 and\n",
      "251262 pairs were analyzed\n",
      "\n",
      "Cooccurrence Summary:\n",
      "\n",
      "Species => 1285\n",
      "Non-random (%) => 66.3\n",
      "Sites => 4494\n",
      "Negative => 2665\n",
      "Random => 84781\n",
      "Positive => 163816\n",
      "Unclassifiable => 0\n"
     ]
    },
    {
     "name": "stderr",
     "output_type": "stream",
     "text": [
      "\u001b[32mCalculate Significantly occurring pairs   1%|▏           |  ETA: 16:43:51\u001b[39m"
     ]
    },
    {
     "ename": "LoadError",
     "evalue": "InterruptException:",
     "output_type": "error",
     "traceback": [
      "InterruptException:",
      "",
      "Stacktrace:",
      "  [1] Array",
      "    @ ./boot.jl:448 [inlined]",
      "  [2] Array",
      "    @ ./boot.jl:467 [inlined]",
      "  [3] _getindex_array(idx::Muon.Index{String, UInt32}, elem::String)",
      "    @ Muon ~/.julia/packages/Muon/OxkVO/src/index.jl:78",
      "  [4] getindex(idx::Muon.Index{String, UInt32}, elem::String, #unused#::Val{true})",
      "    @ Muon ~/.julia/packages/Muon/OxkVO/src/index.jl:181",
      "  [5] #5",
      "    @ ./array.jl:0 [inlined]",
      "  [6] MappingRF",
      "    @ ./reduce.jl:93 [inlined]",
      "  [7] _foldl_impl(op::Base.MappingRF{Muon.var\"#5#6\"{Muon.Index{String, UInt32}, Val{true}}, Base.BottomRF{typeof(vcat)}}, init::Base._InitialValue, itr::Vector{String})",
      "    @ Base ./reduce.jl:62",
      "  [8] foldl_impl",
      "    @ ./reduce.jl:48 [inlined]",
      "  [9] mapfoldl_impl",
      "    @ ./reduce.jl:44 [inlined]",
      " [10] #mapfoldl#214",
      "    @ ./reduce.jl:160 [inlined]",
      " [11] mapfoldl",
      "    @ ./reduce.jl:160 [inlined]",
      " [12] #mapreduce#218",
      "    @ ./reduce.jl:287 [inlined]",
      " [13] mapreduce",
      "    @ ./reduce.jl:287 [inlined]",
      " [14] #reduce#220",
      "    @ ./reduce.jl:456 [inlined]",
      " [15] reduce",
      "    @ ./reduce.jl:456 [inlined]",
      " [16] getindex(idx::Muon.Index{String, UInt32}, elems::Vector{String}, x::Val{true})",
      "    @ Muon ~/.julia/packages/Muon/OxkVO/src/index.jl:174",
      " [17] getindex(idx::Muon.Index{String, UInt32}, elems::Vector{String}, x::Bool)",
      "    @ Muon ~/.julia/packages/Muon/OxkVO/src/index.jl:168",
      " [18] convertidx",
      "    @ ~/.julia/packages/Muon/OxkVO/src/util.jl:88 [inlined]",
      " [19] getindex(adata::AnnData, I::Vector{String}, J::String)",
      "    @ Muon ~/.julia/packages/Muon/OxkVO/src/anndata.jl:267",
      " [20] macro expansion",
      "    @ /N/project/aadam/workspace/ISCHIA.jl/src/lr_enrichment.jl:83 [inlined]",
      " [21] macro expansion",
      "    @ ~/.julia/packages/ProgressMeter/kVZZH/src/ProgressMeter.jl:1008 [inlined]",
      " [22] find_enriched_LR_pairs(adata::AnnData, COI::Vector{String}, Condition::Vector{String}, LR_list::Vector{String}, LR_pairs::Vector{String}, exp_th::Int64, corr_th::Float64; cc_column::String, condition_column::String)",
      "    @ ISCHIA /N/project/aadam/workspace/ISCHIA.jl/src/lr_enrichment.jl:74",
      " [23] top-level scope",
      "    @ ./In[8]:5"
     ]
    }
   ],
   "source": [
    "for cc in cc_list\n",
    "    println(\"Running for $cc\")\n",
    "    for condition in condition_list\n",
    "        println(\"Running for $condition\")\n",
    "        lr_result = find_enriched_LR_pairs(\n",
    "            spatial_object,\n",
    "            [cc],\n",
    "            [condition],\n",
    "            LR_list,\n",
    "            LR_pairs,\n",
    "            exp_th,\n",
    "            corr_th,\n",
    "            cc_column=cc_column,\n",
    "            condition_column=condition_column\n",
    "        )\n",
    "\n",
    "        CSV.write(\"outputs/pdac_nac/$(cc)_lr_enrichment_$(condition).csv\", lr_result[\"enriched_LRs\"])\n",
    "        CSV.write(\"outputs/pdac_nac/$(cc)_cooccurr_mat_$(condition).csv\", lr_result[\"cooccurrence_table\"].results)\n",
    "    end\n",
    "end"
   ]
  }
 ],
 "metadata": {
  "kernelspec": {
   "display_name": "Julia 1.6.3",
   "language": "julia",
   "name": "julia-1.6"
  },
  "language_info": {
   "file_extension": ".jl",
   "mimetype": "application/julia",
   "name": "julia",
   "version": "1.6.3"
  }
 },
 "nbformat": 4,
 "nbformat_minor": 2
}
