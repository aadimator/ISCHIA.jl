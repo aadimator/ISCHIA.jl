{
 "cells": [
  {
   "cell_type": "code",
   "execution_count": 1,
   "metadata": {},
   "outputs": [],
   "source": [
    "using CSV\n",
    "using Muon\n",
    "using RData\n",
    "using Revise\n",
    "using ISCHIA\n",
    "using DataFrames\n",
    "using Combinatorics"
   ]
  },
  {
   "cell_type": "code",
   "execution_count": 2,
   "metadata": {},
   "outputs": [
    {
     "data": {
      "text/plain": [
       "AnnData object 216180 ✕ 17764"
      ]
     },
     "metadata": {},
     "output_type": "display_data"
    }
   ],
   "source": [
    "spatial_object = readh5ad(\"../data/06-pdac_nac-clusters-rmv_unk.h5ad\")\n",
    "# adata = readh5ad(\"../data/05-pdac_nac-clusters.h5ad\")\n",
    "lr_network = load(\"../data/lr_network.rds\")\n",
    "\n",
    "# # Remove spots where neoadjuvant_chemo is unknown\n",
    "# mask = .!(adata.obs.neoadjuvant_chemo .== \"Unknown\")\n",
    "# spatial_object = @view adata[mask, :]\n",
    "# # spatial_object = adata[mask, :]\n",
    "\n",
    "spatial_object"
   ]
  },
  {
   "cell_type": "code",
   "execution_count": 17,
   "metadata": {},
   "outputs": [
    {
     "name": "stdout",
     "output_type": "stream",
     "text": [
      "Running for [\"CC010\"]\n",
      "Running for [\"Yes\", \"No\"]\n",
      "Preparing L-R presence/absence matrix\n",
      "SparseArrays.SparseMatrixCSC{Bool, Int32}\n",
      "COI contents: [\"CC010\"]\n",
      "Condition contents: [\"Yes\", \"No\"]\n",
      "Unique values in cc_column: [\"CC04\", \"CC07\", \"CC10\", \"CC01\", \"CC05\", \"CC03\", \"CC08\", \"CC06\", \"CC09\", \"CC02\"]\n",
      "Unique values in condition_column: [\"No\", \"Yes\"]\n",
      "Columns in adata.obs: [\"library_id\", \"patient_id\", \"sample_id\", \"case_id\", \"in_tissue\", \"array_row\", \"array_col\", \"nac_treatment\", \"neoadjuvant_chemo\", \"neoadjuvant_regimen\", \"tumor_normal\", \"percent_mito\", \"percent_hb\", \"sex\", \"race\", \"hispanic_latino\", \"family_history\", \"smoker\", \"country\", \"diagnosis\", \"anatomical_site\", \"location_in_pancreas\", \"stage\", \"r0_ressection\", \"treated\", \"adjuvant_chemo\", \"adjuvant_regimen\", \"radiation\", \"tme_subtype\", \"CC_k10\", \"CC_k12\", \"CC_k15\"]\n",
      "Sum of mask_cc: 0\n",
      "Sum of mask_condition: 216180\n",
      "Sum of final mask: 0\n",
      "Calculating L-R pairs correlation\n",
      "Preparing for cooccurrence\n",
      "Cooccurrence calculation starts...\n",
      "Matrix{Union{}}\n"
     ]
    },
    {
     "ename": "MethodError",
     "evalue": "MethodError: no method matching calculate_cooccurrence_stats(::Matrix{Union{}}, ::Vector{String}; spp_names::Bool)\n\nClosest candidates are:\n  calculate_cooccurrence_stats(!Matched::Matrix{Bool}, ::Vector{String}; type, thresh, spp_names, true_rand_classifier, prob, site_mask, only_effects, eff_standard)\n   @ ISCHIA /N/project/aadam/workspace/ISCHIA.jl/src/cooccur.jl:244\n",
     "output_type": "error",
     "traceback": [
      "MethodError: no method matching calculate_cooccurrence_stats(::Matrix{Union{}}, ::Vector{String}; spp_names::Bool)\n",
      "\n",
      "Closest candidates are:\n",
      "  calculate_cooccurrence_stats(!Matched::Matrix{Bool}, ::Vector{String}; type, thresh, spp_names, true_rand_classifier, prob, site_mask, only_effects, eff_standard)\n",
      "   @ ISCHIA /N/project/aadam/workspace/ISCHIA.jl/src/cooccur.jl:244\n",
      "\n",
      "\n",
      "Stacktrace:\n",
      " [1] find_enriched_LR_pairs(adata::AnnData, COI::Vector{String}, Condition::Vector{String}, LR_list::Vector{String}, LR_pairs::Vector{String}, exp_th::Int64, corr_th::Float64; cc_column::String, condition_column::String)\n",
      "   @ ISCHIA /N/project/aadam/workspace/ISCHIA.jl/src/lr_enrichment.jl:77\n",
      " [2] top-level scope\n",
      "   @ /N/project/aadam/workspace/ISCHIA.jl/notebooks/jl_notebook_cell_df34fa98e69747e1a8f8a730347b8e2f_W2sdnNjb2RlLXJlbW90ZQ==.jl:76"
     ]
    }
   ],
   "source": [
    "using CSV\n",
    "using Muon\n",
    "using RData\n",
    "using Revise\n",
    "using ISCHIA\n",
    "using DataFrames\n",
    "using Combinatorics\n",
    "\n",
    "# println(\"Reading data\")\n",
    "\n",
    "# spatial_object = readh5ad(\"data/06-pdac_nac-clusters-rmv_unk.h5ad\")\n",
    "# lr_network = load(\"data/lr_network.rds\")\n",
    "\n",
    "# println(\"Data read\")\n",
    "\n",
    "gene_names = collect(spatial_object.var_names)\n",
    "spatial_object.var.name = gene_names\n",
    "\n",
    "# Create LR_Pairs column\n",
    "lr_network[!, :LR_Pairs] = string.(lr_network.from, \"_\", lr_network.to);\n",
    "lr_network = lr_network[:, [:from, :to, :LR_Pairs]];\n",
    "\n",
    "# Filter lr_network to only include genes in adata\n",
    "from_filter = in.(lr_network[!, :from], Ref(gene_names))\n",
    "to_filter = in.(lr_network[:, :to], Ref(gene_names))\n",
    "all_LR_network = lr_network[from_filter .& to_filter, :];\n",
    "\n",
    "# Extract unique genes and common genes\n",
    "all_LR_genes = unique(vcat(all_LR_network[:, :from], all_LR_network[:, :to]))\n",
    "all_LR_genes_comm = intersect(all_LR_genes, collect(gene_names));\n",
    "\n",
    "# Create LR.pairs and LR.pairs.AllCombos\n",
    "LR_pairs = all_LR_network[:, :LR_Pairs]\n",
    "all_combos = [join(combo, \"_\") for combo in combinations(all_LR_genes_comm, 2)];\n",
    "\n",
    "# spatial_object = adata\n",
    "LR_list = all_LR_genes_comm\n",
    "LR_pairs = LR_pairs\n",
    "exp_th = 1\n",
    "corr_th = 0.2;\n",
    "\n",
    "cc_column = \"CC_k10\"\n",
    "cc_list = [\"CC010\"]\n",
    "# Condition = unique(spatial_object.obs[!, \"orig.ident\"])\n",
    "condition_list = [\"Yes\", \"No\"]\n",
    "condition_column = \"neoadjuvant_chemo\"\n",
    "\n",
    "# for cc in cc_list\n",
    "#     println(\"Running for $cc\")\n",
    "#     for condition in condition_list\n",
    "#         println(\"Running for $condition\")\n",
    "#         lr_result = find_enriched_LR_pairs(\n",
    "#             spatial_object,\n",
    "#             [cc],\n",
    "#             [condition],\n",
    "#             LR_list,\n",
    "#             LR_pairs,\n",
    "#             exp_th,\n",
    "#             corr_th,\n",
    "#             cc_column=cc_column,\n",
    "#             condition_column=condition_column\n",
    "#         )\n",
    "\n",
    "#         # Make sure output directory exists, and if not, create it\n",
    "#         if !isdir(\"outputs/pdac_nac\")\n",
    "#             mkpath(\"outputs/pdac_nac\")\n",
    "#         end\n",
    "\n",
    "#         CSV.write(\"outputs/pdac_nac/$(cc)_lr_enrichment_$(condition).csv\", lr_result[\"enriched_LRs\"])\n",
    "#         CSV.write(\"outputs/pdac_nac/$(cc)_cooccurr_mat_$(condition).csv\", lr_result[\"cooccurrence_table\"].results)\n",
    "#     end\n",
    "# end\n",
    "\n",
    "println(\"Running for $(cc_list)\")\n",
    "println(\"Running for $condition_list\")\n",
    "lr_result = find_enriched_LR_pairs(\n",
    "    spatial_object,\n",
    "    cc_list,\n",
    "    condition_list,\n",
    "    LR_list,\n",
    "    LR_pairs,\n",
    "    exp_th,\n",
    "    corr_th,\n",
    "    cc_column=cc_column,\n",
    "    condition_column=condition_column\n",
    ")\n",
    "\n",
    "# Make sure output directory exists, and if not, create it\n",
    "if !isdir(\"outputs/pdac_nac\")\n",
    "    mkpath(\"outputs/pdac_nac\")\n",
    "end\n",
    "\n",
    "CSV.write(\"outputs/pdac_nac/$(cc_list[1])_lr_enrichment.csv\", lr_result[\"enriched_LRs\"])\n",
    "\n",
    "println(\"Done\")"
   ]
  },
  {
   "cell_type": "code",
   "execution_count": 3,
   "metadata": {},
   "outputs": [
    {
     "data": {
      "text/plain": [
       "2-element Vector{String}:\n",
       " \"No\"\n",
       " \"Yes\""
      ]
     },
     "metadata": {},
     "output_type": "display_data"
    }
   ],
   "source": [
    "display(unique(spatial_object.obs.neoadjuvant_chemo))"
   ]
  },
  {
   "cell_type": "code",
   "execution_count": 4,
   "metadata": {},
   "outputs": [
    {
     "data": {
      "text/plain": [
       "2-element Vector{String}:\n",
       " \"Yes\"\n",
       " \"No\""
      ]
     },
     "metadata": {},
     "output_type": "display_data"
    }
   ],
   "source": [
    "[\"Yes\", \"No\"]"
   ]
  },
  {
   "cell_type": "code",
   "execution_count": 3,
   "metadata": {},
   "outputs": [],
   "source": [
    "gene_names = collect(spatial_object.var_names)\n",
    "spatial_object.var.name = gene_names\n",
    "\n",
    "# Create LR_Pairs column\n",
    "lr_network[!, :LR_Pairs] = string.(lr_network.from, \"_\", lr_network.to);\n",
    "lr_network = lr_network[:, [:from, :to, :LR_Pairs]];\n",
    "\n",
    "# Filter lr_network to only include genes in adata\n",
    "from_filter = in.(lr_network[!, :from], Ref(gene_names))\n",
    "to_filter = in.(lr_network[:, :to], Ref(gene_names))\n",
    "all_LR_network = lr_network[from_filter .& to_filter, :];"
   ]
  },
  {
   "cell_type": "code",
   "execution_count": 4,
   "metadata": {},
   "outputs": [],
   "source": [
    "# Extract unique genes and common genes\n",
    "all_LR_genes = unique(vcat(all_LR_network[:, :from], all_LR_network[:, :to]))\n",
    "all_LR_genes_comm = intersect(all_LR_genes, collect(gene_names));\n",
    "\n",
    "# Create LR.pairs and LR.pairs.AllCombos\n",
    "LR_pairs = all_LR_network[:, :LR_Pairs]\n",
    "all_combos = [join(combo, \"_\") for combo in combinations(all_LR_genes_comm, 2)];"
   ]
  },
  {
   "cell_type": "code",
   "execution_count": 5,
   "metadata": {},
   "outputs": [
    {
     "data": {
      "text/plain": [
       "\"neoadjuvant_chemo\""
      ]
     },
     "metadata": {},
     "output_type": "display_data"
    }
   ],
   "source": [
    "# spatial_object = adata\n",
    "LR_list = all_LR_genes_comm\n",
    "LR_pairs = LR_pairs\n",
    "exp_th = 1\n",
    "corr_th = 0.2;\n",
    "\n",
    "cc_column = \"CC_k10\"\n",
    "cc_list = [\"CC10\"]\n",
    "# Condition = unique(spatial_object.obs[!, \"orig.ident\"])\n",
    "condition_list = [\"Yes\", \"No\"]\n",
    "condition_column = \"neoadjuvant_chemo\""
   ]
  },
  {
   "cell_type": "code",
   "execution_count": 6,
   "metadata": {},
   "outputs": [
    {
     "name": "stdout",
     "output_type": "stream",
     "text": [
      "adata: AnnData\n",
      "COI: Vector{String}\n",
      "Condition: Vector{String}\n",
      "LR_list: Vector{String}\n",
      "LR_pairs: Vector{String}\n",
      "exp_th: Int64\n",
      "corr_th: Float64\n",
      "cc_column: String\n",
      "condition_column: String\n"
     ]
    }
   ],
   "source": [
    "# adata::AnnData, COI::Vector{String}, Condition::Vector{String},\n",
    "# \tLR_list::Vector{String}, LR_pairs::Vector{String},\n",
    "# \texp_th::Real, corr_th::Real; cc_column::String = \"CompositionCluster_CC\", condition_column::String = \"orig.ident\"\n",
    "\n",
    "adata = spatial_object\n",
    "COI = cc_list\n",
    "Condition = condition_list\n",
    "LR_list = LR_list\n",
    "LR_pairs = LR_pairs\n",
    "exp_th = 1\n",
    "corr_th = 0.2\n",
    "cc_column = cc_column\n",
    "condition_column = condition_column\n",
    "\n",
    "println(\"adata: \", typeof(adata))\n",
    "println(\"COI: \", typeof(COI))\n",
    "println(\"Condition: \", typeof(Condition))\n",
    "println(\"LR_list: \", typeof(LR_list))\n",
    "println(\"LR_pairs: \", typeof(LR_pairs))\n",
    "println(\"exp_th: \", typeof(exp_th))\n",
    "println(\"corr_th: \", typeof(corr_th))\n",
    "println(\"cc_column: \", typeof(cc_column))\n",
    "println(\"condition_column: \", typeof(condition_column))"
   ]
  },
  {
   "cell_type": "code",
   "execution_count": 15,
   "metadata": {},
   "outputs": [
    {
     "data": {
      "text/plain": [
       "Base.RefValue{Vector{String}}([\"Yes\", \"No\"])"
      ]
     },
     "metadata": {},
     "output_type": "display_data"
    }
   ],
   "source": [
    "Ref(Condition)"
   ]
  },
  {
   "cell_type": "code",
   "execution_count": 16,
   "metadata": {},
   "outputs": [
    {
     "name": "stdout",
     "output_type": "stream",
     "text": [
      "COI_spots: 23574\n",
      "Calculating L-R pairs correlation\n",
      "Preparing for cooccurrence\n",
      "Matrix{Bool}\n"
     ]
    }
   ],
   "source": [
    "using Statistics\n",
    "\n",
    "# # Subset the expression matrix for the interested ligands and receptors\n",
    "# spatial_obj_exp_LR_subset_raw = adata[:, LR_list]\n",
    "\n",
    "# # Binarize the expression matrix based on the expression threshold\n",
    "# spatial_obj_exp_LR_subset_raw_binary = spatial_obj_exp_LR_subset_raw.layers[\"counts\"] .> exp_th\n",
    "# spatial_obj_exp_LR_subset_raw.layers[\"binary\"] = spatial_obj_exp_LR_subset_raw_binary\n",
    "\n",
    "# LR_subset_raw_binary_mask_col = vec(sum(spatial_obj_exp_LR_subset_raw_binary, dims = 1) .> 0)\n",
    "# LR_subset_raw_binary_mask_row = vec(sum(spatial_obj_exp_LR_subset_raw_binary, dims = 2) .> 0)\n",
    "\n",
    "# LR_presence_absence = spatial_obj_exp_LR_subset_raw[LR_subset_raw_binary_mask_row, LR_subset_raw_binary_mask_col]\n",
    "\n",
    "# Filter spots based on COI and Condition\n",
    "mask = (adata.obs[:, cc_column] .∈ Ref(COI)) .& (adata.obs[:, condition_column] .∈ Ref(Condition))\n",
    "COI_spots = adata.obs_names[mask]\n",
    "println(\"COI_spots: \", length(COI_spots))\n",
    "rest_of_spots = setdiff(adata.obs_names, COI_spots)\n",
    "\n",
    "println(\"Calculating L-R pairs correlation\")\n",
    "COI_cors_adata = spatial_obj_exp_LR_subset_raw[mask, :]\n",
    "COI_cors = cor(Array(COI_cors_adata.layers[\"counts\"]))\n",
    "COI_cors[isnan.(COI_cors)] .= 0.0\n",
    "\n",
    "println(\"Preparing for cooccurrence\")\n",
    "common_spots = intersect(LR_presence_absence.obs_names, COI_spots)\n",
    "coocur_COI = LR_presence_absence[common_spots, :]\n",
    "coocur_COI_exp = DataFrame(Matrix(transpose(coocur_COI.layers[\"binary\"])), common_spots)\n",
    "temp = Matrix(coocur_COI_exp)\n",
    "\n",
    "# get type of temp\n",
    "println(typeof(temp))"
   ]
  },
  {
   "cell_type": "code",
   "execution_count": 16,
   "metadata": {},
   "outputs": [
    {
     "name": "stdout",
     "output_type": "stream",
     "text": [
      "Calculating L-R pairs correlation\n",
      "Preparing for cooccurrence\n",
      "Matrix{Bool}\n"
     ]
    }
   ],
   "source": [
    "\n",
    "\n",
    "\n",
    "\n",
    "# println(\"Cooccurrence calculation starts...\")\n",
    "# cooccur_COI_res = calculate_cooccurrence_stats(Matrix(coocur_COI_exp), coocur_COI.var.name; spp_names = true)\n",
    "# println(\"Cooccurrence calculation ended\")"
   ]
  },
  {
   "cell_type": "code",
   "execution_count": null,
   "metadata": {},
   "outputs": [],
   "source": []
  },
  {
   "cell_type": "code",
   "execution_count": 8,
   "metadata": {},
   "outputs": [
    {
     "name": "stdout",
     "output_type": "stream",
     "text": [
      "Running for CC10\n",
      "Running for Yes\n",
      "Updated\n",
      "Preparing L-R presence/absence matrix\n",
      "Calculating L-R pairs correlation\n",
      "Preparing for cooccurrence\n",
      "Cooccurrence calculation starts...\n"
     ]
    },
    {
     "name": "stderr",
     "output_type": "stream",
     "text": [
      "\u001b[32mCalculate Incidence 100%|████████████████████████████████| Time: 0:01:04\u001b[39m\n",
      "\u001b[32mCalculate Co-occurrences 100%|███████████████████████████| Time: 0:01:17\u001b[39m\n",
      "\u001b[32mMain Comp 100%|██████████████████████████████████████████| Time: 0:00:59\u001b[39m\n"
     ]
    },
    {
     "name": "stdout",
     "output_type": "stream",
     "text": [
      "Cooccurrence calculation ended\n",
      "\n",
      "Summary of cooccurrence results:\n",
      "Of 824970 species pair combinations, 573708 pairs (69.54%) were removed from the analysis because expected co-occurrence was < 1 and\n",
      "251262 pairs were analyzed\n",
      "\n",
      "Cooccurrence Summary:\n",
      "\n",
      "Species => 1285\n",
      "Non-random (%) => 66.3\n",
      "Sites => 4494\n",
      "Negative => 2665\n",
      "Random => 84781\n",
      "Positive => 163816\n",
      "Unclassifiable => 0\n"
     ]
    },
    {
     "name": "stderr",
     "output_type": "stream",
     "text": [
      "\u001b[32mCalculate Significantly occurring pairs   1%|▏           |  ETA: 16:43:51\u001b[39m"
     ]
    },
    {
     "ename": "LoadError",
     "evalue": "InterruptException:",
     "output_type": "error",
     "traceback": [
      "InterruptException:",
      "",
      "Stacktrace:",
      "  [1] Array",
      "    @ ./boot.jl:448 [inlined]",
      "  [2] Array",
      "    @ ./boot.jl:467 [inlined]",
      "  [3] _getindex_array(idx::Muon.Index{String, UInt32}, elem::String)",
      "    @ Muon ~/.julia/packages/Muon/OxkVO/src/index.jl:78",
      "  [4] getindex(idx::Muon.Index{String, UInt32}, elem::String, #unused#::Val{true})",
      "    @ Muon ~/.julia/packages/Muon/OxkVO/src/index.jl:181",
      "  [5] #5",
      "    @ ./array.jl:0 [inlined]",
      "  [6] MappingRF",
      "    @ ./reduce.jl:93 [inlined]",
      "  [7] _foldl_impl(op::Base.MappingRF{Muon.var\"#5#6\"{Muon.Index{String, UInt32}, Val{true}}, Base.BottomRF{typeof(vcat)}}, init::Base._InitialValue, itr::Vector{String})",
      "    @ Base ./reduce.jl:62",
      "  [8] foldl_impl",
      "    @ ./reduce.jl:48 [inlined]",
      "  [9] mapfoldl_impl",
      "    @ ./reduce.jl:44 [inlined]",
      " [10] #mapfoldl#214",
      "    @ ./reduce.jl:160 [inlined]",
      " [11] mapfoldl",
      "    @ ./reduce.jl:160 [inlined]",
      " [12] #mapreduce#218",
      "    @ ./reduce.jl:287 [inlined]",
      " [13] mapreduce",
      "    @ ./reduce.jl:287 [inlined]",
      " [14] #reduce#220",
      "    @ ./reduce.jl:456 [inlined]",
      " [15] reduce",
      "    @ ./reduce.jl:456 [inlined]",
      " [16] getindex(idx::Muon.Index{String, UInt32}, elems::Vector{String}, x::Val{true})",
      "    @ Muon ~/.julia/packages/Muon/OxkVO/src/index.jl:174",
      " [17] getindex(idx::Muon.Index{String, UInt32}, elems::Vector{String}, x::Bool)",
      "    @ Muon ~/.julia/packages/Muon/OxkVO/src/index.jl:168",
      " [18] convertidx",
      "    @ ~/.julia/packages/Muon/OxkVO/src/util.jl:88 [inlined]",
      " [19] getindex(adata::AnnData, I::Vector{String}, J::String)",
      "    @ Muon ~/.julia/packages/Muon/OxkVO/src/anndata.jl:267",
      " [20] macro expansion",
      "    @ /N/project/aadam/workspace/ISCHIA.jl/src/lr_enrichment.jl:83 [inlined]",
      " [21] macro expansion",
      "    @ ~/.julia/packages/ProgressMeter/kVZZH/src/ProgressMeter.jl:1008 [inlined]",
      " [22] find_enriched_LR_pairs(adata::AnnData, COI::Vector{String}, Condition::Vector{String}, LR_list::Vector{String}, LR_pairs::Vector{String}, exp_th::Int64, corr_th::Float64; cc_column::String, condition_column::String)",
      "    @ ISCHIA /N/project/aadam/workspace/ISCHIA.jl/src/lr_enrichment.jl:74",
      " [23] top-level scope",
      "    @ ./In[8]:5"
     ]
    }
   ],
   "source": [
    "for cc in cc_list\n",
    "    println(\"Running for $cc\")\n",
    "    for condition in condition_list\n",
    "        println(\"Running for $condition\")\n",
    "        lr_result = find_enriched_LR_pairs(\n",
    "            spatial_object,\n",
    "            [cc],\n",
    "            [condition],\n",
    "            LR_list,\n",
    "            LR_pairs,\n",
    "            exp_th,\n",
    "            corr_th,\n",
    "            cc_column=cc_column,\n",
    "            condition_column=condition_column\n",
    "        )\n",
    "\n",
    "        CSV.write(\"outputs/pdac_nac/$(cc)_lr_enrichment_$(condition).csv\", lr_result[\"enriched_LRs\"])\n",
    "        CSV.write(\"outputs/pdac_nac/$(cc)_cooccurr_mat_$(condition).csv\", lr_result[\"cooccurrence_table\"].results)\n",
    "    end\n",
    "end"
   ]
  },
  {
   "cell_type": "code",
   "execution_count": 6,
   "metadata": {},
   "outputs": [
    {
     "name": "stderr",
     "output_type": "stream",
     "text": [
      "\u001b[32mProgress:  67%|███████████████████████████▍             |  ETA: 1:27:10\u001b[39mm"
     ]
    },
    {
     "ename": "LoadError",
     "evalue": "InterruptException:",
     "output_type": "error",
     "traceback": [
      "InterruptException:",
      "",
      "Stacktrace:",
      "  [1] getindex",
      "    @ ~/.julia/packages/DataFrames/58MUJ/src/dataframe/dataframe.jl:517 [inlined]",
      "  [2] getindex",
      "    @ ~/.julia/packages/DataFrames/58MUJ/src/dataframerow/dataframerow.jl:212 [inlined]",
      "  [3] getproperty(r::DataFrameRow{DataFrame, DataFrames.Index}, idx::Symbol)",
      "    @ DataFrames ~/.julia/packages/DataFrames/58MUJ/src/dataframerow/dataframerow.jl:302",
      "  [4] (::ISCHIA.var\"#18#19\"{DataFrameRow{DataFrame, DataFrames.Index}})(r::DataFrameRow{DataFrame, DataFrames.Index})",
      "    @ ISCHIA /N/project/aadam/workspace/ISCHIA.jl/src/lr_enrichment.jl:142",
      "  [5] #103",
      "    @ ~/.julia/packages/DataFrames/58MUJ/src/abstractdataframe/abstractdataframe.jl:1216 [inlined]",
      "  [6] _broadcast_getindex_evalf",
      "    @ ./broadcast.jl:648 [inlined]",
      "  [7] _broadcast_getindex",
      "    @ ./broadcast.jl:621 [inlined]",
      "  [8] getindex",
      "    @ ./broadcast.jl:575 [inlined]",
      "  [9] macro expansion",
      "    @ ./broadcast.jl:1002 [inlined]",
      " [10] macro expansion",
      "    @ ./simdloop.jl:77 [inlined]",
      " [11] copyto!",
      "    @ ./broadcast.jl:1001 [inlined]",
      " [12] copyto!",
      "    @ ./broadcast.jl:936 [inlined]",
      " [13] copy",
      "    @ ./broadcast.jl:908 [inlined]",
      " [14] materialize(bc::Base.Broadcast.Broadcasted{Base.Broadcast.DefaultArrayStyle{1}, Nothing, DataFrames.var\"#103#104\"{ISCHIA.var\"#18#19\"{DataFrameRow{DataFrame, DataFrames.Index}}}, Tuple{DataFrames.DataFrameRows{DataFrame}}})",
      "    @ Base.Broadcast ./broadcast.jl:883",
      " [15] _filter_helper(f::Function, cols::DataFrames.DataFrameRows{DataFrame})",
      "    @ DataFrames ~/.julia/packages/DataFrames/58MUJ/src/abstractdataframe/abstractdataframe.jl:1216",
      " [16] #filter#92",
      "    @ ~/.julia/packages/DataFrames/58MUJ/src/abstractdataframe/abstractdataframe.jl:1189 [inlined]",
      " [17] filter",
      "    @ ~/.julia/packages/DataFrames/58MUJ/src/abstractdataframe/abstractdataframe.jl:1189 [inlined]",
      " [18] macro expansion",
      "    @ /N/project/aadam/workspace/ISCHIA.jl/src/lr_enrichment.jl:142 [inlined]",
      " [19] macro expansion",
      "    @ ~/.julia/packages/ProgressMeter/kVZZH/src/ProgressMeter.jl:1008 [inlined]",
      " [20] find_differentially_cooccurring_LR_pairs(cooc_df_1::DataFrame, cooc_df_2::DataFrame, group1_max_pval::Float64, group2_min_pval::Float64)",
      "    @ ISCHIA /N/project/aadam/workspace/ISCHIA.jl/src/lr_enrichment.jl:140",
      " [21] top-level scope",
      "    @ In[6]:6"
     ]
    }
   ],
   "source": [
    "CC = \"CC10\"\n",
    "\n",
    "df_yes = DataFrame(CSV.File(\"../outputs/pdac_nac/$(CC)_cooccurr_mat_Yes.csv\"))\n",
    "df_no = DataFrame(CSV.File(\"../outputs/pdac_nac/$(CC)_cooccurr_mat_No.csv\"))\n",
    "\n",
    "sig_yes = find_differentially_cooccurring_LR_pairs(df_yes, df_no, 0.05, 0.1)\n",
    "sig_no = find_differentially_cooccurring_LR_pairs(df_no, df_yes, 0.05, 0.1\n",
    "\n",
    "CSV.write(\"../outputs/pdac_nac/$(CC)_differentially_cooccurring_pairs_Yes.csv\", sig_yes)\n",
    "CSV.write(\"../outputs/pdac_nac/$(CC)_differentially_cooccurring_pairs_No.csv\", sig_no)"
   ]
  }
 ],
 "metadata": {
  "kernelspec": {
   "display_name": "Julia 1.10.4",
   "language": "julia",
   "name": "julia-1.10"
  },
  "language_info": {
   "file_extension": ".jl",
   "mimetype": "application/julia",
   "name": "julia",
   "version": "1.10.4"
  }
 },
 "nbformat": 4,
 "nbformat_minor": 2
}
