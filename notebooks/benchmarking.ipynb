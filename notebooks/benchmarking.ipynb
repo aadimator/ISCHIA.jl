{
 "cells": [
  {
   "cell_type": "code",
   "execution_count": 147,
   "metadata": {},
   "outputs": [],
   "source": [
    "using Muon\n",
    "using RData\n",
    "using Revise\n",
    "using ISCHIA\n",
    "using DataFrames\n",
    "using Statistics\n",
    "using Combinatorics"
   ]
  },
  {
   "cell_type": "code",
   "execution_count": 148,
   "metadata": {},
   "outputs": [
    {
     "data": {
      "text/plain": [
       "MuData object 2185 ✕ 55545\n",
       "└ Predictions\n",
       "  AnnData object 2185 ✕ 34\n",
       "└ Spatial\n",
       "  AnnData object 2185 ✕ 36601\n",
       "└ SCT\n",
       "  AnnData object 2185 ✕ 18910"
      ]
     },
     "metadata": {},
     "output_type": "display_data"
    }
   ],
   "source": [
    "mdata = readh5mu(\"../data/mudata.h5mu\")\n",
    "lr_network = load(\"../data/lr_network.rds\")\n",
    "\n",
    "mdata"
   ]
  },
  {
   "cell_type": "code",
   "execution_count": 149,
   "metadata": {},
   "outputs": [],
   "source": [
    "gene_names = mdata[\"SCT\"].var.name\n",
    "# mdata[\"SCT\"].var_names = gene_names\n",
    "\n",
    "# Create LR_Pairs column\n",
    "lr_network[!, :LR_Pairs] = string.(lr_network.from, \"_\", lr_network.to);\n",
    "lr_network = lr_network[:, [:from, :to, :LR_Pairs]]\n",
    "\n",
    "# Filter lr_network based on conditions\n",
    "from_filter = in.(lr_network[:, :from], Ref(gene_names))\n",
    "to_filter = in.(lr_network[:, :to], Ref(gene_names))\n",
    "all_LR_network = lr_network[from_filter .& to_filter, :];"
   ]
  },
  {
   "cell_type": "code",
   "execution_count": 215,
   "metadata": {},
   "outputs": [
    {
     "data": {
      "text/plain": [
       "36601"
      ]
     },
     "metadata": {},
     "output_type": "display_data"
    }
   ],
   "source": [
    "length(unique(mdata[\"Spatial\"].var.name))"
   ]
  },
  {
   "cell_type": "code",
   "execution_count": 216,
   "metadata": {},
   "outputs": [
    {
     "data": {
      "text/plain": [
       "18910"
      ]
     },
     "metadata": {},
     "output_type": "display_data"
    }
   ],
   "source": [
    "length(unique(mdata[\"SCT\"].var.name))"
   ]
  },
  {
   "cell_type": "code",
   "execution_count": 150,
   "metadata": {},
   "outputs": [
    {
     "data": {
      "text/html": [
       "<div><div style = \"float: left;\"><span>7067×3 DataFrame</span></div><div style = \"float: right;\"><span style = \"font-style: italic;\">7042 rows omitted</span></div><div style = \"clear: both;\"></div></div><div class = \"data-frame\" style = \"overflow-x: scroll;\"><table class = \"data-frame\" style = \"margin-bottom: 6px;\"><thead><tr class = \"header\"><th class = \"rowNumber\" style = \"font-weight: bold; text-align: right;\">Row</th><th style = \"text-align: left;\">from</th><th style = \"text-align: left;\">to</th><th style = \"text-align: left;\">LR_Pairs</th></tr><tr class = \"subheader headerLastRow\"><th class = \"rowNumber\" style = \"font-weight: bold; text-align: right;\"></th><th title = \"String\" style = \"text-align: left;\">String</th><th title = \"String\" style = \"text-align: left;\">String</th><th title = \"String\" style = \"text-align: left;\">String</th></tr></thead><tbody><tr><td class = \"rowNumber\" style = \"font-weight: bold; text-align: right;\">1</td><td style = \"text-align: left;\">CXCL1</td><td style = \"text-align: left;\">CXCR2</td><td style = \"text-align: left;\">CXCL1_CXCR2</td></tr><tr><td class = \"rowNumber\" style = \"font-weight: bold; text-align: right;\">2</td><td style = \"text-align: left;\">CXCL2</td><td style = \"text-align: left;\">CXCR2</td><td style = \"text-align: left;\">CXCL2_CXCR2</td></tr><tr><td class = \"rowNumber\" style = \"font-weight: bold; text-align: right;\">3</td><td style = \"text-align: left;\">CXCL3</td><td style = \"text-align: left;\">CXCR2</td><td style = \"text-align: left;\">CXCL3_CXCR2</td></tr><tr><td class = \"rowNumber\" style = \"font-weight: bold; text-align: right;\">4</td><td style = \"text-align: left;\">CXCL5</td><td style = \"text-align: left;\">CXCR2</td><td style = \"text-align: left;\">CXCL5_CXCR2</td></tr><tr><td class = \"rowNumber\" style = \"font-weight: bold; text-align: right;\">5</td><td style = \"text-align: left;\">CXCL6</td><td style = \"text-align: left;\">CXCR2</td><td style = \"text-align: left;\">CXCL6_CXCR2</td></tr><tr><td class = \"rowNumber\" style = \"font-weight: bold; text-align: right;\">6</td><td style = \"text-align: left;\">CXCL8</td><td style = \"text-align: left;\">CXCR2</td><td style = \"text-align: left;\">CXCL8_CXCR2</td></tr><tr><td class = \"rowNumber\" style = \"font-weight: bold; text-align: right;\">7</td><td style = \"text-align: left;\">CXCL6</td><td style = \"text-align: left;\">CXCR1</td><td style = \"text-align: left;\">CXCL6_CXCR1</td></tr><tr><td class = \"rowNumber\" style = \"font-weight: bold; text-align: right;\">8</td><td style = \"text-align: left;\">CXCL8</td><td style = \"text-align: left;\">CXCR1</td><td style = \"text-align: left;\">CXCL8_CXCR1</td></tr><tr><td class = \"rowNumber\" style = \"font-weight: bold; text-align: right;\">9</td><td style = \"text-align: left;\">CXCL9</td><td style = \"text-align: left;\">CXCR3</td><td style = \"text-align: left;\">CXCL9_CXCR3</td></tr><tr><td class = \"rowNumber\" style = \"font-weight: bold; text-align: right;\">10</td><td style = \"text-align: left;\">CXCL10</td><td style = \"text-align: left;\">CXCR3</td><td style = \"text-align: left;\">CXCL10_CXCR3</td></tr><tr><td class = \"rowNumber\" style = \"font-weight: bold; text-align: right;\">11</td><td style = \"text-align: left;\">CXCL11</td><td style = \"text-align: left;\">CXCR3</td><td style = \"text-align: left;\">CXCL11_CXCR3</td></tr><tr><td class = \"rowNumber\" style = \"font-weight: bold; text-align: right;\">12</td><td style = \"text-align: left;\">CXCL12</td><td style = \"text-align: left;\">CXCR4</td><td style = \"text-align: left;\">CXCL12_CXCR4</td></tr><tr><td class = \"rowNumber\" style = \"font-weight: bold; text-align: right;\">13</td><td style = \"text-align: left;\">CXCL13</td><td style = \"text-align: left;\">CXCR5</td><td style = \"text-align: left;\">CXCL13_CXCR5</td></tr><tr><td style = \"text-align: right;\">&vellip;</td><td style = \"text-align: right;\">&vellip;</td><td style = \"text-align: right;\">&vellip;</td><td style = \"text-align: right;\">&vellip;</td></tr><tr><td class = \"rowNumber\" style = \"font-weight: bold; text-align: right;\">7056</td><td style = \"text-align: left;\">NRXN1</td><td style = \"text-align: left;\">DAG1</td><td style = \"text-align: left;\">NRXN1_DAG1</td></tr><tr><td class = \"rowNumber\" style = \"font-weight: bold; text-align: right;\">7057</td><td style = \"text-align: left;\">FASLG</td><td style = \"text-align: left;\">TNFRSF10A</td><td style = \"text-align: left;\">FASLG_TNFRSF10A</td></tr><tr><td class = \"rowNumber\" style = \"font-weight: bold; text-align: right;\">7058</td><td style = \"text-align: left;\">NLGN2</td><td style = \"text-align: left;\">NLGN1</td><td style = \"text-align: left;\">NLGN2_NLGN1</td></tr><tr><td class = \"rowNumber\" style = \"font-weight: bold; text-align: right;\">7059</td><td style = \"text-align: left;\">HLA-DRA</td><td style = \"text-align: left;\">PTPRC</td><td style = \"text-align: left;\">HLA-DRA_PTPRC</td></tr><tr><td class = \"rowNumber\" style = \"font-weight: bold; text-align: right;\">7060</td><td style = \"text-align: left;\">HLA-DRA</td><td style = \"text-align: left;\">CD274</td><td style = \"text-align: left;\">HLA-DRA_CD274</td></tr><tr><td class = \"rowNumber\" style = \"font-weight: bold; text-align: right;\">7061</td><td style = \"text-align: left;\">CNTNAP1</td><td style = \"text-align: left;\">NLGN1</td><td style = \"text-align: left;\">CNTNAP1_NLGN1</td></tr><tr><td class = \"rowNumber\" style = \"font-weight: bold; text-align: right;\">7062</td><td style = \"text-align: left;\">ICAM1</td><td style = \"text-align: left;\">SPN</td><td style = \"text-align: left;\">ICAM1_SPN</td></tr><tr><td class = \"rowNumber\" style = \"font-weight: bold; text-align: right;\">7063</td><td style = \"text-align: left;\">SPN</td><td style = \"text-align: left;\">SELE</td><td style = \"text-align: left;\">SPN_SELE</td></tr><tr><td class = \"rowNumber\" style = \"font-weight: bold; text-align: right;\">7064</td><td style = \"text-align: left;\">CXCL6</td><td style = \"text-align: left;\">ACKR1</td><td style = \"text-align: left;\">CXCL6_ACKR1</td></tr><tr><td class = \"rowNumber\" style = \"font-weight: bold; text-align: right;\">7065</td><td style = \"text-align: left;\">PRL</td><td style = \"text-align: left;\">HLA-DQB1</td><td style = \"text-align: left;\">PRL_HLA-DQB1</td></tr><tr><td class = \"rowNumber\" style = \"font-weight: bold; text-align: right;\">7066</td><td style = \"text-align: left;\">CXCL6</td><td style = \"text-align: left;\">PIGR</td><td style = \"text-align: left;\">CXCL6_PIGR</td></tr><tr><td class = \"rowNumber\" style = \"font-weight: bold; text-align: right;\">7067</td><td style = \"text-align: left;\">PIK3CB</td><td style = \"text-align: left;\">TNFRSF10A</td><td style = \"text-align: left;\">PIK3CB_TNFRSF10A</td></tr></tbody></table></div>"
      ],
      "text/latex": [
       "\\begin{tabular}{r|ccc}\n",
       "\t& from & to & LR\\_Pairs\\\\\n",
       "\t\\hline\n",
       "\t& String & String & String\\\\\n",
       "\t\\hline\n",
       "\t1 & CXCL1 & CXCR2 & CXCL1\\_CXCR2 \\\\\n",
       "\t2 & CXCL2 & CXCR2 & CXCL2\\_CXCR2 \\\\\n",
       "\t3 & CXCL3 & CXCR2 & CXCL3\\_CXCR2 \\\\\n",
       "\t4 & CXCL5 & CXCR2 & CXCL5\\_CXCR2 \\\\\n",
       "\t5 & CXCL6 & CXCR2 & CXCL6\\_CXCR2 \\\\\n",
       "\t6 & CXCL8 & CXCR2 & CXCL8\\_CXCR2 \\\\\n",
       "\t7 & CXCL6 & CXCR1 & CXCL6\\_CXCR1 \\\\\n",
       "\t8 & CXCL8 & CXCR1 & CXCL8\\_CXCR1 \\\\\n",
       "\t9 & CXCL9 & CXCR3 & CXCL9\\_CXCR3 \\\\\n",
       "\t10 & CXCL10 & CXCR3 & CXCL10\\_CXCR3 \\\\\n",
       "\t11 & CXCL11 & CXCR3 & CXCL11\\_CXCR3 \\\\\n",
       "\t12 & CXCL12 & CXCR4 & CXCL12\\_CXCR4 \\\\\n",
       "\t13 & CXCL13 & CXCR5 & CXCL13\\_CXCR5 \\\\\n",
       "\t14 & CXCL16 & CXCR6 & CXCL16\\_CXCR6 \\\\\n",
       "\t15 & XCL1 & XCR1 & XCL1\\_XCR1 \\\\\n",
       "\t16 & XCL2 & XCR1 & XCL2\\_XCR1 \\\\\n",
       "\t17 & CX3CL1 & CX3CR1 & CX3CL1\\_CX3CR1 \\\\\n",
       "\t18 & CCL20 & CCR6 & CCL20\\_CCR6 \\\\\n",
       "\t19 & CCL25 & CCR9 & CCL25\\_CCR9 \\\\\n",
       "\t20 & CCL19 & CCR7 & CCL19\\_CCR7 \\\\\n",
       "\t21 & CCL21 & CCR7 & CCL21\\_CCR7 \\\\\n",
       "\t22 & CCL2 & CCR2 & CCL2\\_CCR2 \\\\\n",
       "\t23 & CCL13 & CCR2 & CCL13\\_CCR2 \\\\\n",
       "\t24 & CCL5 & CCR5 & CCL5\\_CCR5 \\\\\n",
       "\t$\\dots$ & $\\dots$ & $\\dots$ & $\\dots$ \\\\\n",
       "\\end{tabular}\n"
      ],
      "text/plain": [
       "\u001b[1m7067×3 DataFrame\u001b[0m\n",
       "\u001b[1m  Row \u001b[0m│\u001b[1m from    \u001b[0m\u001b[1m to        \u001b[0m\u001b[1m LR_Pairs         \u001b[0m\n",
       "      │\u001b[90m String  \u001b[0m\u001b[90m String    \u001b[0m\u001b[90m String           \u001b[0m\n",
       "──────┼──────────────────────────────────────\n",
       "    1 │ CXCL1    CXCR2      CXCL1_CXCR2\n",
       "    2 │ CXCL2    CXCR2      CXCL2_CXCR2\n",
       "    3 │ CXCL3    CXCR2      CXCL3_CXCR2\n",
       "    4 │ CXCL5    CXCR2      CXCL5_CXCR2\n",
       "    5 │ CXCL6    CXCR2      CXCL6_CXCR2\n",
       "    6 │ CXCL8    CXCR2      CXCL8_CXCR2\n",
       "    7 │ CXCL6    CXCR1      CXCL6_CXCR1\n",
       "    8 │ CXCL8    CXCR1      CXCL8_CXCR1\n",
       "  ⋮   │    ⋮         ⋮             ⋮\n",
       " 7061 │ CNTNAP1  NLGN1      CNTNAP1_NLGN1\n",
       " 7062 │ ICAM1    SPN        ICAM1_SPN\n",
       " 7063 │ SPN      SELE       SPN_SELE\n",
       " 7064 │ CXCL6    ACKR1      CXCL6_ACKR1\n",
       " 7065 │ PRL      HLA-DQB1   PRL_HLA-DQB1\n",
       " 7066 │ CXCL6    PIGR       CXCL6_PIGR\n",
       " 7067 │ PIK3CB   TNFRSF10A  PIK3CB_TNFRSF10A\n",
       "\u001b[36m                            7052 rows omitted\u001b[0m"
      ]
     },
     "metadata": {},
     "output_type": "display_data"
    }
   ],
   "source": [
    "all_LR_network"
   ]
  },
  {
   "cell_type": "code",
   "execution_count": 151,
   "metadata": {},
   "outputs": [
    {
     "data": {
      "text/plain": [
       "0.2"
      ]
     },
     "metadata": {},
     "output_type": "display_data"
    }
   ],
   "source": [
    "# all_LR_network = all_LR_network[shuffle(1:size(all_LR_network_exp, 1)), :]\n",
    "all_LR_network = all_LR_network[1:min(8000, end), :]\n",
    "\n",
    "# Extract unique genes and common genes\n",
    "all_LR_genes = unique(vcat(all_LR_network[:, :from], all_LR_network[:, :to]))\n",
    "all_LR_genes_comm = intersect(all_LR_genes, collect(gene_names));\n",
    "\n",
    "# Create LR.pairs and LR.pairs.AllCombos\n",
    "LR_pairs = all_LR_network[:, :LR_Pairs]\n",
    "all_combos = [join(combo, \"_\") for combo in combinations(all_LR_genes_comm, 2)];\n",
    "\n",
    "spatial_object = mdata[\"Spatial\"]\n",
    "COI = [\"CC7\"]\n",
    "Condition = unique(spatial_object.obs[!, \"orig.ident\"])\n",
    "LR_list = all_LR_genes_comm\n",
    "LR_pairs = LR_pairs\n",
    "exp_th = 1\n",
    "corr_th = 0.2\n"
   ]
  },
  {
   "cell_type": "code",
   "execution_count": 152,
   "metadata": {},
   "outputs": [
    {
     "data": {
      "text/plain": [
       "AnnData object 2185 ✕ 36601"
      ]
     },
     "metadata": {},
     "output_type": "display_data"
    }
   ],
   "source": [
    "spatial_object"
   ]
  },
  {
   "cell_type": "code",
   "execution_count": 153,
   "metadata": {},
   "outputs": [
    {
     "data": {
      "text/plain": [
       "36601-element Muon.Index{String, UInt16}:\n",
       " \"Spatial:MIR1302-2HG\"\n",
       " \"Spatial:FAM138A\"\n",
       " \"Spatial:OR4F5\"\n",
       " \"Spatial:AL627309.1\"\n",
       " \"Spatial:AL627309.3\"\n",
       " \"Spatial:AL627309.2\"\n",
       " \"Spatial:AL627309.5\"\n",
       " \"Spatial:AL627309.4\"\n",
       " \"Spatial:AP006222.2\"\n",
       " \"Spatial:AL732372.1\"\n",
       " ⋮\n",
       " \"Spatial:AC136612.1\"\n",
       " \"Spatial:AC136616.1\"\n",
       " \"Spatial:AC136616.3\"\n",
       " \"Spatial:AC136616.2\"\n",
       " \"Spatial:AC141272.1\"\n",
       " \"Spatial:AC023491.2\"\n",
       " \"Spatial:AC007325.1\"\n",
       " \"Spatial:AC007325.4\"\n",
       " \"Spatial:AC007325.2\""
      ]
     },
     "metadata": {},
     "output_type": "display_data"
    }
   ],
   "source": [
    "spatial_object.var_names"
   ]
  },
  {
   "cell_type": "code",
   "execution_count": 154,
   "metadata": {},
   "outputs": [
    {
     "data": {
      "text/plain": [
       "main (generic function with 1 method)"
      ]
     },
     "metadata": {},
     "output_type": "display_data"
    }
   ],
   "source": [
    "function main(all_LR_network; startindex = 1, endindex = 500)\n",
    "    # To reduce the computation time for this example, we randomly sample from the whole dataset of LR interactions\n",
    "\n",
    "    # all_LR_network = all_LR_network[shuffle(1:size(all_LR_network_exp, 1)), :]\n",
    "    all_LR_network = all_LR_network[startindex:min(endindex, end), :]\n",
    "\n",
    "    # Extract unique genes and common genes\n",
    "    all_LR_genes = unique(vcat(all_LR_network[:, :from], all_LR_network[:, :to]))\n",
    "    all_LR_genes_comm = intersect(all_LR_genes, collect(gene_names));\n",
    "\n",
    "    # Create LR.pairs and LR.pairs.AllCombos\n",
    "    LR_pairs = all_LR_network[:, :LR_Pairs]\n",
    "    all_combos = [join(combo, \"_\") for combo in combinations(all_LR_genes_comm, 2)];\n",
    "\n",
    "    spatial_object = mdata[\"Spatial\"]\n",
    "    spatial_object.var_names = spatial_object.var.name\n",
    "    COI = [\"CC7\"]\n",
    "    Condition = unique(spatial_object.obs[!, \"orig.ident\"])\n",
    "    LR_list = all_LR_genes_comm\n",
    "    LR_pairs = LR_pairs\n",
    "    exp_th = 1\n",
    "    corr_th = 0.2\n",
    "\n",
    "    out = enriched_LRs(spatial_object, COI, Condition, LR_list, LR_pairs, exp_th, corr_th)\n",
    "\n",
    "    return out\n",
    "end"
   ]
  },
  {
   "cell_type": "code",
   "execution_count": 155,
   "metadata": {},
   "outputs": [
    {
     "name": "stdout",
     "output_type": "stream",
     "text": [
      "Preparing L-R presence/absence matrix\n",
      "Calculating L-R pairs correlation\n"
     ]
    },
    {
     "name": "stdout",
     "output_type": "stream",
     "text": [
      "Preparing for cooccurrence\n",
      "Cooccurrence calculation starts..."
     ]
    },
    {
     "name": "stderr",
     "output_type": "stream",
     "text": [
      "\r\u001b[32mCalculate Incidence   5%|██                              |  ETA: 0:00:02\u001b[39m\u001b[K"
     ]
    },
    {
     "name": "stdout",
     "output_type": "stream",
     "text": [
      "\n"
     ]
    },
    {
     "name": "stderr",
     "output_type": "stream",
     "text": [
      "\r\u001b[32mCalculate Incidence   9%|███                             |  ETA: 0:00:04\u001b[39m\u001b[K"
     ]
    },
    {
     "name": "stderr",
     "output_type": "stream",
     "text": [
      "\r\u001b[32mCalculate Incidence  13%|█████                           |  ETA: 0:00:03\u001b[39m\u001b[K"
     ]
    },
    {
     "name": "stderr",
     "output_type": "stream",
     "text": [
      "\r"
     ]
    },
    {
     "name": "stderr",
     "output_type": "stream",
     "text": [
      "\u001b[32mCalculate Incidence  17%|██████                          |  ETA: 0:00:03\u001b[39m\u001b[K\r\u001b[32mCalculate Incidence  19%|███████                         |  ETA: 0:00:03\u001b[39m\u001b[K"
     ]
    },
    {
     "name": "stderr",
     "output_type": "stream",
     "text": [
      "\r\u001b[32mCalculate Incidence  22%|███████                         |  ETA: 0:00:04\u001b[39m\u001b[K"
     ]
    },
    {
     "name": "stderr",
     "output_type": "stream",
     "text": [
      "\r\u001b[32mCalculate Incidence  29%|██████████                      |  ETA: 0:00:03\u001b[39m\u001b[K"
     ]
    },
    {
     "name": "stderr",
     "output_type": "stream",
     "text": [
      "\r\u001b[32mCalculate Incidence  34%|███████████                     |  ETA: 0:00:03\u001b[39m\u001b[K"
     ]
    },
    {
     "name": "stderr",
     "output_type": "stream",
     "text": [
      "\r\u001b[32mCalculate Incidence  37%|████████████                    |  ETA: 0:00:02\u001b[39m\u001b[K"
     ]
    },
    {
     "name": "stderr",
     "output_type": "stream",
     "text": [
      "\r\u001b[32mCalculate Incidence  41%|██████████████                  |  ETA: 0:00:02\u001b[39m\u001b[K"
     ]
    },
    {
     "name": "stderr",
     "output_type": "stream",
     "text": [
      "\r\u001b[32mCalculate Incidence  54%|██████████████████              |  ETA: 0:00:02\u001b[39m\u001b[K"
     ]
    },
    {
     "name": "stderr",
     "output_type": "stream",
     "text": [
      "\r\u001b[32mCalculate Incidence  61%|████████████████████            |  ETA: 0:00:01\u001b[39m\u001b[K"
     ]
    },
    {
     "name": "stderr",
     "output_type": "stream",
     "text": [
      "\r\u001b[32mCalculate Incidence  66%|██████████████████████          |  ETA: 0:00:01\u001b[39m\u001b[K"
     ]
    },
    {
     "name": "stderr",
     "output_type": "stream",
     "text": [
      "\r\u001b[32mCalculate Incidence  83%|███████████████████████████     |  ETA: 0:00:00\u001b[39m\u001b[K"
     ]
    },
    {
     "name": "stderr",
     "output_type": "stream",
     "text": [
      "\r\u001b[32mCalculate Incidence 100%|████████████████████████████████| Time: 0:00:02\u001b[39m\u001b[K\n",
      "\r\u001b[32mCalculate Co-occurrences   1%|█                          |  ETA: 0:00:08\u001b[39m\u001b[K"
     ]
    },
    {
     "name": "stderr",
     "output_type": "stream",
     "text": [
      "\r\u001b[32mCalculate Co-occurrences   2%|█                          |  ETA: 0:00:08\u001b[39m\u001b[K\r\u001b[32mCalculate Co-occurrences   4%|█                          |  ETA: 0:00:12\u001b[39m\u001b[K"
     ]
    },
    {
     "name": "stderr",
     "output_type": "stream",
     "text": [
      "\r\u001b[32mCalculate Co-occurrences   9%|███                        |  ETA: 0:00:08\u001b[39m\u001b[K"
     ]
    },
    {
     "name": "stderr",
     "output_type": "stream",
     "text": [
      "\r\u001b[32mCalculate Co-occurrences  10%|███                        |  ETA: 0:00:09\u001b[39m\u001b[K"
     ]
    },
    {
     "name": "stderr",
     "output_type": "stream",
     "text": [
      "\r\u001b[32mCalculate Co-occurrences  13%|████                       |  ETA: 0:00:07\u001b[39m\u001b[K"
     ]
    },
    {
     "name": "stderr",
     "output_type": "stream",
     "text": [
      "\r\u001b[32mCalculate Co-occurrences  16%|█████                      |  ETA: 0:00:07\u001b[39m\u001b[K"
     ]
    },
    {
     "name": "stderr",
     "output_type": "stream",
     "text": [
      "\r\u001b[32mCalculate Co-occurrences  18%|█████                      |  ETA: 0:00:07\u001b[39m\u001b[K"
     ]
    },
    {
     "name": "stderr",
     "output_type": "stream",
     "text": [
      "\r\u001b[32mCalculate Co-occurrences  19%|██████                     |  ETA: 0:00:07\u001b[39m\u001b[K"
     ]
    },
    {
     "name": "stderr",
     "output_type": "stream",
     "text": [
      "\r\u001b[32mCalculate Co-occurrences  20%|██████                     |  ETA: 0:00:07\u001b[39m\u001b[K"
     ]
    },
    {
     "name": "stderr",
     "output_type": "stream",
     "text": [
      "\r\u001b[32mCalculate Co-occurrences  22%|██████                     |  ETA: 0:00:07\u001b[39m\u001b[K"
     ]
    },
    {
     "name": "stderr",
     "output_type": "stream",
     "text": [
      "\r\u001b[32mCalculate Co-occurrences  23%|███████                    |  ETA: 0:00:07\u001b[39m\u001b[K"
     ]
    },
    {
     "name": "stderr",
     "output_type": "stream",
     "text": [
      "\r\u001b[32mCalculate Co-occurrences  25%|███████                    |  ETA: 0:00:06\u001b[39m\u001b[K"
     ]
    },
    {
     "name": "stderr",
     "output_type": "stream",
     "text": [
      "\r\u001b[32mCalculate Co-occurrences  27%|████████                   |  ETA: 0:00:06\u001b[39m\u001b[K"
     ]
    },
    {
     "name": "stderr",
     "output_type": "stream",
     "text": [
      "\r\u001b[32mCalculate Co-occurrences  33%|█████████                  |  ETA: 0:00:05\u001b[39m\u001b[K\r\u001b[32mCalculate Co-occurrences  35%|██████████                 |  ETA: 0:00:05\u001b[39m\u001b[K"
     ]
    },
    {
     "name": "stderr",
     "output_type": "stream",
     "text": [
      "\r\u001b[32mCalculate Co-occurrences  37%|███████████                |  ETA: 0:00:05\u001b[39m\u001b[K"
     ]
    },
    {
     "name": "stderr",
     "output_type": "stream",
     "text": [
      "\r"
     ]
    },
    {
     "name": "stderr",
     "output_type": "stream",
     "text": [
      "\u001b[32mCalculate Co-occurrences  40%|███████████                |  ETA: 0:00:04\u001b[39m\u001b[K"
     ]
    },
    {
     "name": "stderr",
     "output_type": "stream",
     "text": [
      "\r\u001b[32mCalculate Co-occurrences  44%|████████████               |  ETA: 0:00:04\u001b[39m\u001b[K"
     ]
    },
    {
     "name": "stderr",
     "output_type": "stream",
     "text": [
      "\r\u001b[32mCalculate Co-occurrences  46%|█████████████              |  ETA: 0:00:04\u001b[39m\u001b[K"
     ]
    },
    {
     "name": "stderr",
     "output_type": "stream",
     "text": [
      "\r\u001b[32mCalculate Co-occurrences  48%|██████████████             |  ETA: 0:00:04\u001b[39m\u001b[K"
     ]
    },
    {
     "name": "stderr",
     "output_type": "stream",
     "text": [
      "\r\u001b[32mCalculate Co-occurrences  52%|███████████████            |  ETA: 0:00:03\u001b[39m\u001b[K"
     ]
    },
    {
     "name": "stderr",
     "output_type": "stream",
     "text": [
      "\r\u001b[32mCalculate Co-occurrences  56%|████████████████           |  ETA: 0:00:03\u001b[39m\u001b[K"
     ]
    },
    {
     "name": "stderr",
     "output_type": "stream",
     "text": [
      "\r\u001b[32mCalculate Co-occurrences  59%|█████████████████          |  ETA: 0:00:03\u001b[39m\u001b[K"
     ]
    },
    {
     "name": "stderr",
     "output_type": "stream",
     "text": [
      "\r\u001b[32mCalculate Co-occurrences  62%|█████████████████          |  ETA: 0:00:02\u001b[39m\u001b[K"
     ]
    },
    {
     "name": "stderr",
     "output_type": "stream",
     "text": [
      "\r\u001b[32mCalculate Co-occurrences  69%|███████████████████        |  ETA: 0:00:02\u001b[39m\u001b[K"
     ]
    },
    {
     "name": "stderr",
     "output_type": "stream",
     "text": [
      "\r\u001b[32mCalculate Co-occurrences  76%|█████████████████████      |  ETA: 0:00:01\u001b[39m\u001b[K"
     ]
    },
    {
     "name": "stderr",
     "output_type": "stream",
     "text": [
      "\r\u001b[32mCalculate Co-occurrences  82%|███████████████████████    |  ETA: 0:00:01\u001b[39m\u001b[K"
     ]
    },
    {
     "name": "stderr",
     "output_type": "stream",
     "text": [
      "\r\u001b[32mCalculate Co-occurrences  87%|████████████████████████   |  ETA: 0:00:01\u001b[39m\u001b[K"
     ]
    },
    {
     "name": "stderr",
     "output_type": "stream",
     "text": [
      "\r\u001b[32mCalculate Co-occurrences 100%|███████████████████████████| Time: 0:00:04\u001b[39m\u001b[K\n"
     ]
    },
    {
     "name": "stderr",
     "output_type": "stream",
     "text": [
      "\r\u001b[32mMain Comp  11%|█████                                     |  ETA: 0:00:01\u001b[39m\u001b[K"
     ]
    },
    {
     "name": "stderr",
     "output_type": "stream",
     "text": [
      "\r\u001b[32mMain Comp  22%|██████████                                |  ETA: 0:00:01\u001b[39m\u001b[K"
     ]
    },
    {
     "name": "stderr",
     "output_type": "stream",
     "text": [
      "\r\u001b[32mMain Comp  33%|██████████████                            |  ETA: 0:00:01\u001b[39m\u001b[K"
     ]
    },
    {
     "name": "stderr",
     "output_type": "stream",
     "text": [
      "\r\u001b[32mMain Comp  45%|███████████████████                       |  ETA: 0:00:01\u001b[39m\u001b[K"
     ]
    },
    {
     "name": "stderr",
     "output_type": "stream",
     "text": [
      "\r\u001b[32mMain Comp  56%|████████████████████████                  |  ETA: 0:00:00\u001b[39m\u001b[K"
     ]
    },
    {
     "name": "stderr",
     "output_type": "stream",
     "text": [
      "\r\u001b[32mMain Comp  67%|█████████████████████████████             |  ETA: 0:00:00\u001b[39m\u001b[K"
     ]
    },
    {
     "name": "stderr",
     "output_type": "stream",
     "text": [
      "\r\u001b[32mMain Comp  77%|█████████████████████████████████         |  ETA: 0:00:00\u001b[39m\u001b[K"
     ]
    },
    {
     "name": "stderr",
     "output_type": "stream",
     "text": [
      "\r\u001b[32mMain Comp  88%|█████████████████████████████████████     |  ETA: 0:00:00\u001b[39m\u001b[K"
     ]
    },
    {
     "name": "stderr",
     "output_type": "stream",
     "text": [
      "\r\u001b[32mMain Comp  99%|██████████████████████████████████████████|  ETA: 0:00:00\u001b[39m\u001b[K"
     ]
    },
    {
     "name": "stderr",
     "output_type": "stream",
     "text": [
      "\r\u001b[32mMain Comp 100%|██████████████████████████████████████████| Time: 0:00:01\u001b[39m\u001b[K\n"
     ]
    },
    {
     "name": "stdout",
     "output_type": "stream",
     "text": [
      "Cooccurrence calculation ended\n",
      "\n",
      "Summary of cooccurrence results:\n",
      "Of 318801 species pair combinations, 253008 pairs (79.36%) were removed from the analysis because expected co-occurrence was < 1 and\n",
      "65793 pairs were analyzed\n",
      "\n",
      "Cooccurrence Summary:\n",
      "\n",
      "Species => 799\n",
      "Non-random (%) => 68.4\n",
      "Sites => 305\n",
      "Negative => 439\n",
      "Random => 20788\n",
      "Positive => 44566\n",
      "Unclassifiable => 0\n",
      "\n",
      "Probability table of cooccurrence results:\n"
     ]
    },
    {
     "data": {
      "text/html": [
       "<div><div style = \"float: left;\"><span>65793×11 DataFrame</span></div><div style = \"float: right;\"><span style = \"font-style: italic;\">65768 rows omitted</span></div><div style = \"clear: both;\"></div></div><div class = \"data-frame\" style = \"overflow-x: scroll;\"><table class = \"data-frame\" style = \"margin-bottom: 6px;\"><thead><tr class = \"header\"><th class = \"rowNumber\" style = \"font-weight: bold; text-align: right;\">Row</th><th style = \"text-align: left;\">sp1</th><th style = \"text-align: left;\">sp2</th><th style = \"text-align: left;\">sp1_inc</th><th style = \"text-align: left;\">sp2_inc</th><th style = \"text-align: left;\">obs_cooccur</th><th style = \"text-align: left;\">prob_cooccur</th><th style = \"text-align: left;\">exp_cooccur</th><th style = \"text-align: left;\">p_lt</th><th style = \"text-align: left;\">p_gt</th><th style = \"text-align: left;\">sp1_name</th><th style = \"text-align: left;\">sp2_name</th></tr><tr class = \"subheader headerLastRow\"><th class = \"rowNumber\" style = \"font-weight: bold; text-align: right;\"></th><th title = \"Integer\" style = \"text-align: left;\">Integer</th><th title = \"Integer\" style = \"text-align: left;\">Integer</th><th title = \"Integer\" style = \"text-align: left;\">Integer</th><th title = \"Integer\" style = \"text-align: left;\">Integer</th><th title = \"Integer\" style = \"text-align: left;\">Integer</th><th title = \"Real\" style = \"text-align: left;\">Real</th><th title = \"Real\" style = \"text-align: left;\">Real</th><th title = \"Real\" style = \"text-align: left;\">Real</th><th title = \"Real\" style = \"text-align: left;\">Real</th><th title = \"Union{Missing, String}\" style = \"text-align: left;\">String?</th><th title = \"Union{Missing, String}\" style = \"text-align: left;\">String?</th></tr></thead><tbody><tr><td class = \"rowNumber\" style = \"font-weight: bold; text-align: right;\">1</td><td style = \"text-align: right;\">1</td><td style = \"text-align: right;\">3</td><td style = \"text-align: right;\">5</td><td style = \"text-align: right;\">85</td><td style = \"text-align: right;\">4</td><td style = \"text-align: right;\">0.005</td><td style = \"text-align: right;\">1.4</td><td style = \"text-align: right;\">0.99846</td><td style = \"text-align: right;\">0.02247</td><td style = \"text-align: left;\">AGRN</td><td style = \"text-align: left;\">TNFRSF14</td></tr><tr><td class = \"rowNumber\" style = \"font-weight: bold; text-align: right;\">2</td><td style = \"text-align: right;\">1</td><td style = \"text-align: right;\">6</td><td style = \"text-align: right;\">5</td><td style = \"text-align: right;\">81</td><td style = \"text-align: right;\">5</td><td style = \"text-align: right;\">0.004</td><td style = \"text-align: right;\">1.3</td><td style = \"text-align: right;\">1.0</td><td style = \"text-align: right;\">0.0012</td><td style = \"text-align: left;\">AGRN</td><td style = \"text-align: left;\">CLSTN1</td></tr><tr><td class = \"rowNumber\" style = \"font-weight: bold; text-align: right;\">3</td><td style = \"text-align: right;\">1</td><td style = \"text-align: right;\">10</td><td style = \"text-align: right;\">5</td><td style = \"text-align: right;\">93</td><td style = \"text-align: right;\">5</td><td style = \"text-align: right;\">0.005</td><td style = \"text-align: right;\">1.5</td><td style = \"text-align: right;\">1.0</td><td style = \"text-align: right;\">0.00244</td><td style = \"text-align: left;\">AGRN</td><td style = \"text-align: left;\">HSPG2</td></tr><tr><td class = \"rowNumber\" style = \"font-weight: bold; text-align: right;\">4</td><td style = \"text-align: right;\">1</td><td style = \"text-align: right;\">27</td><td style = \"text-align: right;\">5</td><td style = \"text-align: right;\">79</td><td style = \"text-align: right;\">3</td><td style = \"text-align: right;\">0.004</td><td style = \"text-align: right;\">1.3</td><td style = \"text-align: right;\">0.98299</td><td style = \"text-align: right;\">0.11149</td><td style = \"text-align: left;\">AGRN</td><td style = \"text-align: left;\">PTPRF</td></tr><tr><td class = \"rowNumber\" style = \"font-weight: bold; text-align: right;\">5</td><td style = \"text-align: right;\">1</td><td style = \"text-align: right;\">37</td><td style = \"text-align: right;\">5</td><td style = \"text-align: right;\">83</td><td style = \"text-align: right;\">4</td><td style = \"text-align: right;\">0.004</td><td style = \"text-align: right;\">1.4</td><td style = \"text-align: right;\">0.99864</td><td style = \"text-align: right;\">0.02053</td><td style = \"text-align: left;\">AGRN</td><td style = \"text-align: left;\">F3</td></tr><tr><td class = \"rowNumber\" style = \"font-weight: bold; text-align: right;\">6</td><td style = \"text-align: right;\">1</td><td style = \"text-align: right;\">53</td><td style = \"text-align: right;\">5</td><td style = \"text-align: right;\">65</td><td style = \"text-align: right;\">5</td><td style = \"text-align: right;\">0.003</td><td style = \"text-align: right;\">1.1</td><td style = \"text-align: right;\">1.0</td><td style = \"text-align: right;\">0.00039</td><td style = \"text-align: left;\">AGRN</td><td style = \"text-align: left;\">HDGF</td></tr><tr><td class = \"rowNumber\" style = \"font-weight: bold; text-align: right;\">7</td><td style = \"text-align: right;\">1</td><td style = \"text-align: right;\">58</td><td style = \"text-align: right;\">5</td><td style = \"text-align: right;\">72</td><td style = \"text-align: right;\">4</td><td style = \"text-align: right;\">0.004</td><td style = \"text-align: right;\">1.2</td><td style = \"text-align: right;\">0.99934</td><td style = \"text-align: right;\">0.01192</td><td style = \"text-align: left;\">AGRN</td><td style = \"text-align: left;\">F11R</td></tr><tr><td class = \"rowNumber\" style = \"font-weight: bold; text-align: right;\">8</td><td style = \"text-align: right;\">1</td><td style = \"text-align: right;\">72</td><td style = \"text-align: right;\">5</td><td style = \"text-align: right;\">61</td><td style = \"text-align: right;\">3</td><td style = \"text-align: right;\">0.003</td><td style = \"text-align: right;\">1.0</td><td style = \"text-align: right;\">0.99374</td><td style = \"text-align: right;\">0.0564</td><td style = \"text-align: left;\">AGRN</td><td style = \"text-align: left;\">LAMC2</td></tr><tr><td class = \"rowNumber\" style = \"font-weight: bold; text-align: right;\">9</td><td style = \"text-align: right;\">1</td><td style = \"text-align: right;\">81</td><td style = \"text-align: right;\">5</td><td style = \"text-align: right;\">305</td><td style = \"text-align: right;\">5</td><td style = \"text-align: right;\">0.016</td><td style = \"text-align: right;\">5.0</td><td style = \"text-align: right;\">1.0</td><td style = \"text-align: right;\">1.0</td><td style = \"text-align: left;\">AGRN</td><td style = \"text-align: left;\">PIGR</td></tr><tr><td class = \"rowNumber\" style = \"font-weight: bold; text-align: right;\">10</td><td style = \"text-align: right;\">1</td><td style = \"text-align: right;\">82</td><td style = \"text-align: right;\">5</td><td style = \"text-align: right;\">63</td><td style = \"text-align: right;\">3</td><td style = \"text-align: right;\">0.003</td><td style = \"text-align: right;\">1.0</td><td style = \"text-align: right;\">0.9929</td><td style = \"text-align: right;\">0.06152</td><td style = \"text-align: left;\">AGRN</td><td style = \"text-align: left;\">CD46</td></tr><tr><td class = \"rowNumber\" style = \"font-weight: bold; text-align: right;\">11</td><td style = \"text-align: right;\">1</td><td style = \"text-align: right;\">87</td><td style = \"text-align: right;\">5</td><td style = \"text-align: right;\">131</td><td style = \"text-align: right;\">5</td><td style = \"text-align: right;\">0.007</td><td style = \"text-align: right;\">2.1</td><td style = \"text-align: right;\">1.0</td><td style = \"text-align: right;\">0.01398</td><td style = \"text-align: left;\">AGRN</td><td style = \"text-align: left;\">ARF1</td></tr><tr><td class = \"rowNumber\" style = \"font-weight: bold; text-align: right;\">12</td><td style = \"text-align: right;\">1</td><td style = \"text-align: right;\">89</td><td style = \"text-align: right;\">5</td><td style = \"text-align: right;\">72</td><td style = \"text-align: right;\">4</td><td style = \"text-align: right;\">0.004</td><td style = \"text-align: right;\">1.2</td><td style = \"text-align: right;\">0.99934</td><td style = \"text-align: right;\">0.01192</td><td style = \"text-align: left;\">AGRN</td><td style = \"text-align: left;\">NID1</td></tr><tr><td class = \"rowNumber\" style = \"font-weight: bold; text-align: right;\">13</td><td style = \"text-align: right;\">1</td><td style = \"text-align: right;\">92</td><td style = \"text-align: right;\">5</td><td style = \"text-align: right;\">88</td><td style = \"text-align: right;\">5</td><td style = \"text-align: right;\">0.005</td><td style = \"text-align: right;\">1.4</td><td style = \"text-align: right;\">1.0</td><td style = \"text-align: right;\">0.00184</td><td style = \"text-align: left;\">AGRN</td><td style = \"text-align: left;\">SDC1</td></tr><tr><td style = \"text-align: right;\">&vellip;</td><td style = \"text-align: right;\">&vellip;</td><td style = \"text-align: right;\">&vellip;</td><td style = \"text-align: right;\">&vellip;</td><td style = \"text-align: right;\">&vellip;</td><td style = \"text-align: right;\">&vellip;</td><td style = \"text-align: right;\">&vellip;</td><td style = \"text-align: right;\">&vellip;</td><td style = \"text-align: right;\">&vellip;</td><td style = \"text-align: right;\">&vellip;</td><td style = \"text-align: right;\">&vellip;</td><td style = \"text-align: right;\">&vellip;</td></tr><tr><td class = \"rowNumber\" style = \"font-weight: bold; text-align: right;\">65782</td><td style = \"text-align: right;\">788</td><td style = \"text-align: right;\">794</td><td style = \"text-align: right;\">175</td><td style = \"text-align: right;\">2</td><td style = \"text-align: right;\">2</td><td style = \"text-align: right;\">0.004</td><td style = \"text-align: right;\">1.1</td><td style = \"text-align: right;\">1.0</td><td style = \"text-align: right;\">0.32841</td><td style = \"text-align: left;\">TIMP1</td><td style = \"text-align: left;\">CXCR3</td></tr><tr><td class = \"rowNumber\" style = \"font-weight: bold; text-align: right;\">65783</td><td style = \"text-align: right;\">788</td><td style = \"text-align: right;\">797</td><td style = \"text-align: right;\">175</td><td style = \"text-align: right;\">4</td><td style = \"text-align: right;\">4</td><td style = \"text-align: right;\">0.008</td><td style = \"text-align: right;\">2.3</td><td style = \"text-align: right;\">1.0</td><td style = \"text-align: right;\">0.10679</td><td style = \"text-align: left;\">TIMP1</td><td style = \"text-align: left;\">GPC4</td></tr><tr><td class = \"rowNumber\" style = \"font-weight: bold; text-align: right;\">65784</td><td style = \"text-align: right;\">788</td><td style = \"text-align: right;\">798</td><td style = \"text-align: right;\">175</td><td style = \"text-align: right;\">3</td><td style = \"text-align: right;\">2</td><td style = \"text-align: right;\">0.006</td><td style = \"text-align: right;\">1.7</td><td style = \"text-align: right;\">0.81249</td><td style = \"text-align: right;\">0.61021</td><td style = \"text-align: left;\">TIMP1</td><td style = \"text-align: left;\">L1CAM</td></tr><tr><td class = \"rowNumber\" style = \"font-weight: bold; text-align: right;\">65785</td><td style = \"text-align: right;\">788</td><td style = \"text-align: right;\">799</td><td style = \"text-align: right;\">175</td><td style = \"text-align: right;\">15</td><td style = \"text-align: right;\">12</td><td style = \"text-align: right;\">0.028</td><td style = \"text-align: right;\">8.6</td><td style = \"text-align: right;\">0.98516</td><td style = \"text-align: right;\">0.05712</td><td style = \"text-align: left;\">TIMP1</td><td style = \"text-align: left;\">PLXNA3</td></tr><tr><td class = \"rowNumber\" style = \"font-weight: bold; text-align: right;\">65786</td><td style = \"text-align: right;\">789</td><td style = \"text-align: right;\">792</td><td style = \"text-align: right;\">13</td><td style = \"text-align: right;\">27</td><td style = \"text-align: right;\">3</td><td style = \"text-align: right;\">0.004</td><td style = \"text-align: right;\">1.2</td><td style = \"text-align: right;\">0.97987</td><td style = \"text-align: right;\">0.09716</td><td style = \"text-align: left;\">EBP</td><td style = \"text-align: left;\">DLG3</td></tr><tr><td class = \"rowNumber\" style = \"font-weight: bold; text-align: right;\">65787</td><td style = \"text-align: right;\">789</td><td style = \"text-align: right;\">793</td><td style = \"text-align: right;\">13</td><td style = \"text-align: right;\">34</td><td style = \"text-align: right;\">4</td><td style = \"text-align: right;\">0.005</td><td style = \"text-align: right;\">1.4</td><td style = \"text-align: right;\">0.99141</td><td style = \"text-align: right;\">0.04456</td><td style = \"text-align: left;\">EBP</td><td style = \"text-align: left;\">IL2RG</td></tr><tr><td class = \"rowNumber\" style = \"font-weight: bold; text-align: right;\">65788</td><td style = \"text-align: right;\">791</td><td style = \"text-align: right;\">792</td><td style = \"text-align: right;\">22</td><td style = \"text-align: right;\">27</td><td style = \"text-align: right;\">6</td><td style = \"text-align: right;\">0.006</td><td style = \"text-align: right;\">1.9</td><td style = \"text-align: right;\">0.99867</td><td style = \"text-align: right;\">0.0076</td><td style = \"text-align: left;\">EFNB1</td><td style = \"text-align: left;\">DLG3</td></tr><tr><td class = \"rowNumber\" style = \"font-weight: bold; text-align: right;\">65789</td><td style = \"text-align: right;\">791</td><td style = \"text-align: right;\">793</td><td style = \"text-align: right;\">22</td><td style = \"text-align: right;\">34</td><td style = \"text-align: right;\">8</td><td style = \"text-align: right;\">0.008</td><td style = \"text-align: right;\">2.5</td><td style = \"text-align: right;\">0.99984</td><td style = \"text-align: right;\">0.00109</td><td style = \"text-align: left;\">EFNB1</td><td style = \"text-align: left;\">IL2RG</td></tr><tr><td class = \"rowNumber\" style = \"font-weight: bold; text-align: right;\">65790</td><td style = \"text-align: right;\">791</td><td style = \"text-align: right;\">799</td><td style = \"text-align: right;\">22</td><td style = \"text-align: right;\">15</td><td style = \"text-align: right;\">6</td><td style = \"text-align: right;\">0.004</td><td style = \"text-align: right;\">1.1</td><td style = \"text-align: right;\">0.99998</td><td style = \"text-align: right;\">0.00023</td><td style = \"text-align: left;\">EFNB1</td><td style = \"text-align: left;\">PLXNA3</td></tr><tr><td class = \"rowNumber\" style = \"font-weight: bold; text-align: right;\">65791</td><td style = \"text-align: right;\">792</td><td style = \"text-align: right;\">793</td><td style = \"text-align: right;\">27</td><td style = \"text-align: right;\">34</td><td style = \"text-align: right;\">12</td><td style = \"text-align: right;\">0.01</td><td style = \"text-align: right;\">3.0</td><td style = \"text-align: right;\">1.0</td><td style = \"text-align: right;\">0.0</td><td style = \"text-align: left;\">DLG3</td><td style = \"text-align: left;\">IL2RG</td></tr><tr><td class = \"rowNumber\" style = \"font-weight: bold; text-align: right;\">65792</td><td style = \"text-align: right;\">792</td><td style = \"text-align: right;\">799</td><td style = \"text-align: right;\">27</td><td style = \"text-align: right;\">15</td><td style = \"text-align: right;\">5</td><td style = \"text-align: right;\">0.004</td><td style = \"text-align: right;\">1.3</td><td style = \"text-align: right;\">0.99921</td><td style = \"text-align: right;\">0.00605</td><td style = \"text-align: left;\">DLG3</td><td style = \"text-align: left;\">PLXNA3</td></tr><tr><td class = \"rowNumber\" style = \"font-weight: bold; text-align: right;\">65793</td><td style = \"text-align: right;\">793</td><td style = \"text-align: right;\">799</td><td style = \"text-align: right;\">34</td><td style = \"text-align: right;\">15</td><td style = \"text-align: right;\">6</td><td style = \"text-align: right;\">0.005</td><td style = \"text-align: right;\">1.7</td><td style = \"text-align: right;\">0.99961</td><td style = \"text-align: right;\">0.00297</td><td style = \"text-align: left;\">IL2RG</td><td style = \"text-align: left;\">PLXNA3</td></tr></tbody></table></div>"
      ],
      "text/latex": [
       "\\begin{tabular}{r|ccccccccc}\n",
       "\t& sp1 & sp2 & sp1\\_inc & sp2\\_inc & obs\\_cooccur & prob\\_cooccur & exp\\_cooccur & p\\_lt & \\\\\n",
       "\t\\hline\n",
       "\t& Integer & Integer & Integer & Integer & Integer & Real & Real & Real & \\\\\n",
       "\t\\hline\n",
       "\t1 & 1 & 3 & 5 & 85 & 4 & 0.005 & 1.4 & 0.99846 & $\\dots$ \\\\\n",
       "\t2 & 1 & 6 & 5 & 81 & 5 & 0.004 & 1.3 & 1.0 & $\\dots$ \\\\\n",
       "\t3 & 1 & 10 & 5 & 93 & 5 & 0.005 & 1.5 & 1.0 & $\\dots$ \\\\\n",
       "\t4 & 1 & 27 & 5 & 79 & 3 & 0.004 & 1.3 & 0.98299 & $\\dots$ \\\\\n",
       "\t5 & 1 & 37 & 5 & 83 & 4 & 0.004 & 1.4 & 0.99864 & $\\dots$ \\\\\n",
       "\t6 & 1 & 53 & 5 & 65 & 5 & 0.003 & 1.1 & 1.0 & $\\dots$ \\\\\n",
       "\t7 & 1 & 58 & 5 & 72 & 4 & 0.004 & 1.2 & 0.99934 & $\\dots$ \\\\\n",
       "\t8 & 1 & 72 & 5 & 61 & 3 & 0.003 & 1.0 & 0.99374 & $\\dots$ \\\\\n",
       "\t9 & 1 & 81 & 5 & 305 & 5 & 0.016 & 5.0 & 1.0 & $\\dots$ \\\\\n",
       "\t10 & 1 & 82 & 5 & 63 & 3 & 0.003 & 1.0 & 0.9929 & $\\dots$ \\\\\n",
       "\t11 & 1 & 87 & 5 & 131 & 5 & 0.007 & 2.1 & 1.0 & $\\dots$ \\\\\n",
       "\t12 & 1 & 89 & 5 & 72 & 4 & 0.004 & 1.2 & 0.99934 & $\\dots$ \\\\\n",
       "\t13 & 1 & 92 & 5 & 88 & 5 & 0.005 & 1.4 & 1.0 & $\\dots$ \\\\\n",
       "\t14 & 1 & 95 & 5 & 155 & 5 & 0.008 & 2.5 & 1.0 & $\\dots$ \\\\\n",
       "\t15 & 1 & 97 & 5 & 93 & 5 & 0.005 & 1.5 & 1.0 & $\\dots$ \\\\\n",
       "\t16 & 1 & 123 & 5 & 94 & 5 & 0.005 & 1.5 & 1.0 & $\\dots$ \\\\\n",
       "\t17 & 1 & 129 & 5 & 86 & 5 & 0.005 & 1.4 & 1.0 & $\\dots$ \\\\\n",
       "\t18 & 1 & 154 & 5 & 63 & 3 & 0.003 & 1.0 & 0.9929 & $\\dots$ \\\\\n",
       "\t19 & 1 & 158 & 5 & 184 & 4 & 0.01 & 3.0 & 0.92182 & $\\dots$ \\\\\n",
       "\t20 & 1 & 174 & 5 & 64 & 3 & 0.003 & 1.0 & 0.99245 & $\\dots$ \\\\\n",
       "\t21 & 1 & 177 & 5 & 103 & 5 & 0.006 & 1.7 & 1.0 & $\\dots$ \\\\\n",
       "\t22 & 1 & 213 & 5 & 76 & 4 & 0.004 & 1.2 & 0.99913 & $\\dots$ \\\\\n",
       "\t23 & 1 & 240 & 5 & 87 & 5 & 0.005 & 1.4 & 1.0 & $\\dots$ \\\\\n",
       "\t24 & 1 & 284 & 5 & 88 & 5 & 0.005 & 1.4 & 1.0 & $\\dots$ \\\\\n",
       "\t$\\dots$ & $\\dots$ & $\\dots$ & $\\dots$ & $\\dots$ & $\\dots$ & $\\dots$ & $\\dots$ & $\\dots$ &  \\\\\n",
       "\\end{tabular}\n"
      ],
      "text/plain": [
       "\u001b[1m65793×11 DataFrame\u001b[0m\n",
       "\u001b[1m   Row \u001b[0m│\u001b[1m sp1     \u001b[0m\u001b[1m sp2     \u001b[0m\u001b[1m sp1_inc \u001b[0m\u001b[1m sp2_inc \u001b[0m\u001b[1m obs_cooccur \u001b[0m\u001b[1m prob_cooccur \u001b[0m\u001b[1m exp_co\u001b[0m ⋯\n",
       "       │\u001b[90m Integer \u001b[0m\u001b[90m Integer \u001b[0m\u001b[90m Integer \u001b[0m\u001b[90m Integer \u001b[0m\u001b[90m Integer     \u001b[0m\u001b[90m Real         \u001b[0m\u001b[90m Real  \u001b[0m ⋯\n",
       "───────┼────────────────────────────────────────────────────────────────────────\n",
       "     1 │       1        3        5       85            4         0.005         ⋯\n",
       "     2 │       1        6        5       81            5         0.004\n",
       "     3 │       1       10        5       93            5         0.005\n",
       "     4 │       1       27        5       79            3         0.004\n",
       "     5 │       1       37        5       83            4         0.004         ⋯\n",
       "     6 │       1       53        5       65            5         0.003\n",
       "     7 │       1       58        5       72            4         0.004\n",
       "     8 │       1       72        5       61            3         0.003\n",
       "   ⋮   │    ⋮        ⋮        ⋮        ⋮          ⋮            ⋮             ⋮ ⋱\n",
       " 65787 │     789      793       13       34            4         0.005         ⋯\n",
       " 65788 │     791      792       22       27            6         0.006\n",
       " 65789 │     791      793       22       34            8         0.008\n",
       " 65790 │     791      799       22       15            6         0.004\n",
       " 65791 │     792      793       27       34           12         0.01          ⋯\n",
       " 65792 │     792      799       27       15            5         0.004\n",
       " 65793 │     793      799       34       15            6         0.005\n",
       "\u001b[36m                                                5 columns and 65778 rows omitted\u001b[0m"
      ]
     },
     "metadata": {},
     "output_type": "display_data"
    },
    {
     "name": "stdout",
     "output_type": "stream",
     "text": [
      "1 / 790\n",
      "2 / 790\n",
      "3 / 790\n",
      "4 / 790\n",
      "5 / 790\n",
      "6 / 790\n",
      "7 / 790\n",
      "8 / 790\n",
      "9 / 790\n",
      "10 / 790\n",
      "11 / 790\n",
      "12 / 790\n",
      "13 / 790\n",
      "14 / 790\n",
      "15 / 790\n",
      "16 / 790\n",
      "17 / 790\n",
      "18 / 790\n",
      "19 / 790\n",
      "20 / 790\n"
     ]
    },
    {
     "name": "stdout",
     "output_type": "stream",
     "text": [
      "21 / 790\n",
      "22 / 790\n",
      "23 / 790\n",
      "24 / 790\n",
      "25 / 790\n",
      "26 / 790\n",
      "27 / 790\n",
      "28 / 790\n",
      "29 / 790\n",
      "30 / 790\n",
      "31 / 790\n",
      "32 / 790\n",
      "33 / 790\n",
      "34 / 790\n",
      "35 / 790\n",
      "36 / 790\n",
      "37 / 790\n",
      "38 / 790\n",
      "39 / 790\n",
      "40 / 790\n",
      "41 / 790\n"
     ]
    },
    {
     "name": "stdout",
     "output_type": "stream",
     "text": [
      "42 / 790\n",
      "43 / 790\n",
      "44 / 790\n",
      "45 / 790\n",
      "46 / 790\n",
      "47 / 790\n",
      "48 / 790\n",
      "49 / 790\n",
      "50 / 790\n",
      "51 / 790\n",
      "52 / 790\n",
      "53 / 790\n",
      "54 / 790\n",
      "55 / 790\n",
      "56 / 790\n",
      "57 / 790\n",
      "58 / 790\n",
      "59 / 790\n",
      "60 / 790\n",
      "61 / 790"
     ]
    },
    {
     "name": "stdout",
     "output_type": "stream",
     "text": [
      "\n",
      "62 / 790\n",
      "63 / 790\n",
      "64 / 790\n",
      "65 / 790\n",
      "66 / 790\n",
      "67 / 790\n",
      "68 / 790\n",
      "69 / 790\n",
      "70 / 790\n",
      "71 / 790"
     ]
    },
    {
     "name": "stdout",
     "output_type": "stream",
     "text": [
      "\n",
      "72 / 790\n",
      "73 / 790\n",
      "74 / 790\n",
      "75 / 790\n",
      "76 / 790\n",
      "77 / 790\n",
      "78 / 790\n",
      "79 / 790\n",
      "80 / 790\n",
      "81 / 790\n",
      "82 / 790\n",
      "83 / 790\n",
      "84 / 790\n",
      "85 / 790\n",
      "86 / 790\n",
      "87 / 790\n",
      "88 / 790\n",
      "89 / 790\n",
      "90 / 790\n",
      "91 / 790\n",
      "92 / 790\n",
      "93 / 790\n",
      "94 / 790\n",
      "95 / 790\n",
      "96 / 790\n"
     ]
    },
    {
     "name": "stdout",
     "output_type": "stream",
     "text": [
      "97 / 790\n",
      "98 / 790\n",
      "99 / 790\n",
      "100 / 790\n",
      "101 / 790\n",
      "102 / 790\n",
      "103 / 790\n",
      "104 / 790\n",
      "105 / 790\n",
      "106 / 790\n",
      "107 / 790\n",
      "108 / 790\n",
      "109 / 790\n",
      "110 / 790\n",
      "111 / 790\n",
      "112 / 790\n",
      "113 / 790\n",
      "114 / 790\n",
      "115 / 790\n",
      "116 / 790\n",
      "117 / 790\n",
      "118 / 790\n"
     ]
    },
    {
     "name": "stdout",
     "output_type": "stream",
     "text": [
      "119 / 790\n",
      "120 / 790\n",
      "121 / 790\n",
      "122 / 790\n",
      "123 / 790\n",
      "124 / 790\n",
      "125 / 790\n",
      "126 / 790\n",
      "127 / 790\n",
      "128 / 790\n",
      "129 / 790\n",
      "130 / 790\n",
      "131 / 790\n",
      "132 / 790\n",
      "133 / 790\n",
      "134 / 790\n",
      "135 / 790\n",
      "136 / 790\n",
      "137 / 790\n",
      "138 / 790\n",
      "139 / 790\n",
      "140 / 790\n",
      "141 / 790"
     ]
    },
    {
     "name": "stdout",
     "output_type": "stream",
     "text": [
      "\n",
      "142 / 790\n",
      "143 / 790\n",
      "144 / 790\n",
      "145 / 790\n",
      "146 / 790\n",
      "147 / 790\n",
      "148 / 790\n",
      "149 / 790\n",
      "150 / 790\n",
      "151 / 790\n",
      "152 / 790\n",
      "153 / 790\n",
      "154 / 790\n",
      "155 / 790\n",
      "156 / 790\n",
      "157 / 790\n",
      "158 / 790\n",
      "159 / 790\n",
      "160 / 790\n",
      "161 / 790\n",
      "162 / 790"
     ]
    },
    {
     "name": "stdout",
     "output_type": "stream",
     "text": [
      "\n",
      "163 / 790\n",
      "164 / 790\n",
      "165 / 790\n",
      "166 / 790\n",
      "167 / 790\n",
      "168 / 790\n",
      "169 / 790\n",
      "170 / 790\n",
      "171 / 790\n",
      "172 / 790\n",
      "173 / 790\n",
      "174 / 790\n",
      "175 / 790\n",
      "176 / 790\n",
      "177 / 790\n",
      "178 / 790\n",
      "179 / 790\n",
      "180 / 790\n",
      "181 / 790\n",
      "182 / 790\n",
      "183 / 790\n",
      "184 / 790"
     ]
    },
    {
     "name": "stdout",
     "output_type": "stream",
     "text": [
      "\n",
      "185 / 790\n"
     ]
    },
    {
     "name": "stdout",
     "output_type": "stream",
     "text": [
      "186 / 790\n",
      "187 / 790\n",
      "188 / 790\n",
      "189 / 790\n",
      "190 / 790\n",
      "191 / 790\n",
      "192 / 790\n",
      "193 / 790\n",
      "194 / 790\n",
      "195 / 790\n",
      "196 / 790\n",
      "197 / 790\n",
      "198 / 790\n",
      "199 / 790\n",
      "200 / 790\n",
      "201 / 790\n",
      "202 / 790\n",
      "203 / 790\n",
      "204 / 790\n",
      "205 / 790\n",
      "206 / 790\n",
      "207 / 790\n",
      "208 / 790\n",
      "209 / 790"
     ]
    },
    {
     "name": "stdout",
     "output_type": "stream",
     "text": [
      "\n",
      "210 / 790\n",
      "211 / 790\n",
      "212 / 790\n",
      "213 / 790\n",
      "214 / 790\n",
      "215 / 790\n",
      "216 / 790\n",
      "217 / 790\n",
      "218 / 790\n",
      "219 / 790\n",
      "220 / 790\n",
      "221 / 790\n",
      "222 / 790\n",
      "223 / 790\n",
      "224 / 790\n",
      "225 / 790\n",
      "226 / 790\n",
      "227 / 790\n",
      "228 / 790\n",
      "229 / 790\n",
      "230 / 790\n",
      "231 / 790\n"
     ]
    },
    {
     "name": "stdout",
     "output_type": "stream",
     "text": [
      "232 / 790\n",
      "233 / 790\n",
      "234 / 790\n",
      "235 / 790\n",
      "236 / 790\n",
      "237 / 790\n",
      "238 / 790\n",
      "239 / 790\n",
      "240 / 790\n",
      "241 / 790\n",
      "242 / 790\n",
      "243 / 790\n",
      "244 / 790\n",
      "245 / 790\n",
      "246 / 790\n",
      "247 / 790\n",
      "248 / 790\n",
      "249 / 790\n",
      "250 / 790\n",
      "251 / 790\n",
      "252 / 790\n",
      "253 / 790\n",
      "254 / 790\n"
     ]
    },
    {
     "name": "stdout",
     "output_type": "stream",
     "text": [
      "255 / 790\n",
      "256 / 790\n",
      "257 / 790\n",
      "258 / 790\n",
      "259 / 790\n",
      "260 / 790\n",
      "261 / 790\n",
      "262 / 790\n",
      "263 / 790\n",
      "264 / 790\n",
      "265 / 790\n",
      "266 / 790\n",
      "267 / 790\n",
      "268 / 790\n",
      "269 / 790\n",
      "270 / 790\n",
      "271 / 790\n",
      "272 / 790\n",
      "273 / 790\n",
      "274 / 790\n"
     ]
    },
    {
     "name": "stdout",
     "output_type": "stream",
     "text": [
      "275 / 790\n",
      "276 / 790\n",
      "277 / 790\n",
      "278 / 790\n",
      "279 / 790\n",
      "280 / 790\n",
      "281 / 790\n",
      "282 / 790\n",
      "283 / 790\n",
      "284 / 790\n",
      "285 / 790\n",
      "286 / 790\n",
      "287 / 790\n",
      "288 / 790\n",
      "289 / 790\n",
      "290 / 790\n",
      "291 / 790\n",
      "292 / 790\n",
      "293 / 790\n",
      "294 / 790\n",
      "295 / 790\n",
      "296 / 790"
     ]
    },
    {
     "name": "stdout",
     "output_type": "stream",
     "text": [
      "\n",
      "297 / 790\n",
      "298 / 790\n",
      "299 / 790\n",
      "300 / 790"
     ]
    },
    {
     "name": "stdout",
     "output_type": "stream",
     "text": [
      "\n",
      "301 / 790\n",
      "302 / 790\n",
      "303 / 790\n",
      "304 / 790\n",
      "305 / 790\n",
      "306 / 790\n",
      "307 / 790\n",
      "308 / 790\n",
      "309 / 790\n",
      "310 / 790\n",
      "311 / 790\n",
      "312 / 790\n",
      "313 / 790\n",
      "314 / 790\n",
      "315 / 790\n",
      "316 / 790\n",
      "317 / 790\n",
      "318 / 790\n",
      "319 / 790\n",
      "320 / 790\n",
      "321 / 790\n",
      "322 / 790\n",
      "323 / 790\n",
      "324 / 790\n",
      "325 / 790\n"
     ]
    },
    {
     "name": "stdout",
     "output_type": "stream",
     "text": [
      "326 / 790\n",
      "327 / 790\n",
      "328 / 790\n",
      "329 / 790\n",
      "330 / 790\n",
      "331 / 790\n",
      "332 / 790\n",
      "333 / 790\n",
      "334 / 790\n",
      "335 / 790\n",
      "336 / 790\n",
      "337 / 790\n",
      "338 / 790\n",
      "339 / 790\n",
      "340 / 790\n",
      "341 / 790\n",
      "342 / 790\n",
      "343 / 790\n",
      "344 / 790\n",
      "345 / 790\n",
      "346 / 790"
     ]
    },
    {
     "name": "stdout",
     "output_type": "stream",
     "text": [
      "\n",
      "347 / 790\n",
      "348 / 790\n",
      "349 / 790\n",
      "350 / 790\n",
      "351 / 790\n",
      "352 / 790\n",
      "353 / 790\n",
      "354 / 790\n",
      "355 / 790\n",
      "356 / 790\n",
      "357 / 790\n",
      "358 / 790\n",
      "359 / 790\n",
      "360 / 790\n",
      "361 / 790\n",
      "362 / 790\n",
      "363 / 790\n",
      "364 / 790\n",
      "365 / 790\n",
      "366 / 790\n",
      "367 / 790"
     ]
    },
    {
     "name": "stdout",
     "output_type": "stream",
     "text": [
      "\n",
      "368 / 790\n",
      "369 / 790\n",
      "370 / 790\n",
      "371 / 790\n",
      "372 / 790\n",
      "373 / 790\n",
      "374 / 790\n",
      "375 / 790\n",
      "376 / 790\n",
      "377 / 790\n",
      "378 / 790\n",
      "379 / 790\n",
      "380 / 790\n",
      "381 / 790\n",
      "382 / 790\n",
      "383 / 790\n",
      "384 / 790\n",
      "385 / 790\n",
      "386 / 790\n",
      "387 / 790\n",
      "388 / 790\n",
      "389 / 790\n"
     ]
    },
    {
     "name": "stdout",
     "output_type": "stream",
     "text": [
      "390 / 790\n",
      "391 / 790\n",
      "392 / 790\n",
      "393 / 790\n",
      "394 / 790\n",
      "395 / 790\n",
      "396 / 790\n",
      "397 / 790\n",
      "398 / 790\n",
      "399 / 790\n",
      "400 / 790\n",
      "401 / 790\n",
      "402 / 790\n",
      "403 / 790\n",
      "404 / 790\n",
      "405 / 790\n",
      "406 / 790\n",
      "407 / 790\n",
      "408 / 790\n",
      "409 / 790\n",
      "410 / 790\n"
     ]
    },
    {
     "name": "stdout",
     "output_type": "stream",
     "text": [
      "411 / 790\n",
      "412 / 790\n",
      "413 / 790\n",
      "414 / 790\n"
     ]
    },
    {
     "name": "stdout",
     "output_type": "stream",
     "text": [
      "415 / 790\n",
      "416 / 790\n",
      "417 / 790\n",
      "418 / 790\n",
      "419 / 790\n",
      "420 / 790\n",
      "421 / 790\n",
      "422 / 790\n",
      "423 / 790\n",
      "424 / 790\n",
      "425 / 790\n",
      "426 / 790\n",
      "427 / 790\n",
      "428 / 790\n",
      "429 / 790\n",
      "430 / 790\n",
      "431 / 790\n",
      "432 / 790\n",
      "433 / 790\n",
      "434 / 790\n",
      "435 / 790\n",
      "436 / 790\n",
      "437 / 790\n"
     ]
    },
    {
     "name": "stdout",
     "output_type": "stream",
     "text": [
      "438 / 790\n",
      "439 / 790\n",
      "440 / 790\n",
      "441 / 790\n",
      "442 / 790\n",
      "443 / 790\n",
      "444 / 790\n",
      "445 / 790\n",
      "446 / 790\n",
      "447 / 790\n",
      "448 / 790\n",
      "449 / 790\n",
      "450 / 790\n",
      "451 / 790\n",
      "452 / 790\n",
      "453 / 790\n",
      "454 / 790\n",
      "455 / 790\n",
      "456 / 790\n",
      "457 / 790\n",
      "458 / 790\n",
      "459 / 790\n",
      "460 / 790\n",
      "461 / 790"
     ]
    },
    {
     "name": "stdout",
     "output_type": "stream",
     "text": [
      "\n",
      "462 / 790\n",
      "463 / 790\n",
      "464 / 790\n",
      "465 / 790\n",
      "466 / 790\n",
      "467 / 790\n",
      "468 / 790\n",
      "469 / 790\n",
      "470 / 790\n",
      "471 / 790\n",
      "472 / 790\n",
      "473 / 790\n",
      "474 / 790\n",
      "475 / 790\n",
      "476 / 790\n",
      "477 / 790\n",
      "478 / 790\n",
      "479 / 790\n",
      "480 / 790\n",
      "481 / 790\n",
      "482 / 790\n",
      "483 / 790\n",
      "484 / 790\n"
     ]
    },
    {
     "name": "stdout",
     "output_type": "stream",
     "text": [
      "485 / 790\n",
      "486 / 790\n",
      "487 / 790\n",
      "488 / 790\n",
      "489 / 790\n",
      "490 / 790\n",
      "491 / 790\n",
      "492 / 790\n",
      "493 / 790\n",
      "494 / 790\n",
      "495 / 790\n",
      "496 / 790\n",
      "497 / 790\n",
      "498 / 790\n",
      "499 / 790\n",
      "500 / 790\n",
      "501 / 790\n",
      "502 / 790\n",
      "503 / 790\n",
      "504 / 790\n"
     ]
    },
    {
     "name": "stdout",
     "output_type": "stream",
     "text": [
      "505 / 790\n",
      "506 / 790\n",
      "507 / 790\n",
      "508 / 790\n",
      "509 / 790\n",
      "510 / 790\n",
      "511 / 790\n",
      "512 / 790\n",
      "513 / 790\n",
      "514 / 790\n",
      "515 / 790\n",
      "516 / 790\n",
      "517 / 790\n",
      "518 / 790\n",
      "519 / 790\n",
      "520 / 790\n",
      "521 / 790\n",
      "522 / 790\n",
      "523 / 790"
     ]
    },
    {
     "name": "stdout",
     "output_type": "stream",
     "text": [
      "\n",
      "524 / 790\n",
      "525 / 790\n",
      "526 / 790\n",
      "527 / 790\n",
      "528 / 790\n"
     ]
    },
    {
     "name": "stdout",
     "output_type": "stream",
     "text": [
      "529 / 790\n",
      "530 / 790\n",
      "531 / 790\n",
      "532 / 790\n",
      "533 / 790\n",
      "534 / 790\n",
      "535 / 790\n",
      "536 / 790\n",
      "537 / 790\n",
      "538 / 790\n",
      "539 / 790\n",
      "540 / 790\n",
      "541 / 790\n",
      "542 / 790\n",
      "543 / 790\n",
      "544 / 790\n",
      "545 / 790\n",
      "546 / 790\n",
      "547 / 790\n",
      "548 / 790\n",
      "549 / 790\n",
      "550 / 790\n",
      "551 / 790\n",
      "552 / 790\n"
     ]
    },
    {
     "name": "stdout",
     "output_type": "stream",
     "text": [
      "553 / 790\n",
      "554 / 790\n",
      "555 / 790\n",
      "556 / 790\n",
      "557 / 790\n",
      "558 / 790\n",
      "559 / 790\n",
      "560 / 790\n",
      "561 / 790\n",
      "562 / 790\n",
      "563 / 790\n",
      "564 / 790\n",
      "565 / 790\n",
      "566 / 790\n",
      "567 / 790\n",
      "568 / 790\n",
      "569 / 790\n",
      "570 / 790\n",
      "571 / 790\n"
     ]
    },
    {
     "name": "stdout",
     "output_type": "stream",
     "text": [
      "572 / 790\n",
      "573 / 790\n",
      "574 / 790\n",
      "575 / 790\n",
      "576 / 790\n",
      "577 / 790\n",
      "578 / 790\n",
      "579 / 790\n",
      "580 / 790\n",
      "581 / 790\n",
      "582 / 790\n",
      "583 / 790\n",
      "584 / 790\n",
      "585 / 790\n",
      "586 / 790\n",
      "587 / 790\n",
      "588 / 790\n",
      "589 / 790\n",
      "590 / 790\n",
      "591 / 790\n",
      "592 / 790\n",
      "593 / 790"
     ]
    },
    {
     "name": "stdout",
     "output_type": "stream",
     "text": [
      "\n",
      "594 / 790\n",
      "595 / 790\n",
      "596 / 790\n",
      "597 / 790\n",
      "598 / 790\n",
      "599 / 790\n",
      "600 / 790\n",
      "601 / 790\n",
      "602 / 790\n",
      "603 / 790\n",
      "604 / 790\n",
      "605 / 790\n",
      "606 / 790\n",
      "607 / 790\n",
      "608 / 790\n",
      "609 / 790\n",
      "610 / 790\n",
      "611 / 790\n",
      "612 / 790\n",
      "613 / 790\n",
      "614 / 790\n",
      "615 / 790\n"
     ]
    },
    {
     "name": "stdout",
     "output_type": "stream",
     "text": [
      "616 / 790\n",
      "617 / 790\n",
      "618 / 790\n",
      "619 / 790\n",
      "620 / 790\n",
      "621 / 790\n",
      "622 / 790\n",
      "623 / 790\n",
      "624 / 790\n",
      "625 / 790\n",
      "626 / 790\n",
      "627 / 790\n",
      "628 / 790\n",
      "629 / 790\n",
      "630 / 790\n",
      "631 / 790\n",
      "632 / 790\n",
      "633 / 790\n",
      "634 / 790\n",
      "635 / 790\n",
      "636 / 790\n"
     ]
    },
    {
     "name": "stdout",
     "output_type": "stream",
     "text": [
      "637 / 790\n",
      "638 / 790\n",
      "639 / 790\n",
      "640 / 790\n",
      "641 / 790\n",
      "642 / 790\n",
      "643 / 790"
     ]
    },
    {
     "name": "stdout",
     "output_type": "stream",
     "text": [
      "\n",
      "644 / 790\n",
      "645 / 790\n",
      "646 / 790\n",
      "647 / 790\n",
      "648 / 790\n",
      "649 / 790\n",
      "650 / 790\n",
      "651 / 790\n",
      "652 / 790\n",
      "653 / 790\n",
      "654 / 790\n",
      "655 / 790\n",
      "656 / 790\n",
      "657 / 790\n",
      "658 / 790\n",
      "659 / 790\n",
      "660 / 790\n",
      "661 / 790\n",
      "662 / 790\n",
      "663 / 790\n",
      "664 / 790\n",
      "665 / 790"
     ]
    },
    {
     "name": "stdout",
     "output_type": "stream",
     "text": [
      "\n",
      "666 / 790\n",
      "667 / 790\n",
      "668 / 790\n",
      "669 / 790\n",
      "670 / 790\n",
      "671 / 790\n",
      "672 / 790\n",
      "673 / 790\n",
      "674 / 790\n",
      "675 / 790\n",
      "676 / 790\n",
      "677 / 790\n",
      "678 / 790\n",
      "679 / 790\n",
      "680 / 790\n",
      "681 / 790\n",
      "682 / 790\n",
      "683 / 790\n",
      "684 / 790\n",
      "685 / 790\n",
      "686 / 790\n",
      "687 / 790"
     ]
    },
    {
     "name": "stdout",
     "output_type": "stream",
     "text": [
      "\n",
      "688 / 790\n",
      "689 / 790\n",
      "690 / 790\n",
      "691 / 790\n",
      "692 / 790\n",
      "693 / 790\n",
      "694 / 790\n",
      "695 / 790\n",
      "696 / 790\n",
      "697 / 790\n",
      "698 / 790\n",
      "699 / 790\n",
      "700 / 790\n",
      "701 / 790\n",
      "702 / 790\n",
      "703 / 790\n",
      "704 / 790\n",
      "705 / 790\n",
      "706 / 790\n",
      "707 / 790\n",
      "708 / 790\n",
      "709 / 790\n"
     ]
    },
    {
     "name": "stdout",
     "output_type": "stream",
     "text": [
      "710 / 790\n",
      "711 / 790\n",
      "712 / 790\n",
      "713 / 790\n",
      "714 / 790\n",
      "715 / 790\n",
      "716 / 790\n",
      "717 / 790\n",
      "718 / 790\n",
      "719 / 790\n",
      "720 / 790\n",
      "721 / 790\n",
      "722 / 790\n",
      "723 / 790\n",
      "724 / 790\n",
      "725 / 790\n",
      "726 / 790\n",
      "727 / 790\n",
      "728 / 790\n",
      "729 / 790\n",
      "730 / 790\n"
     ]
    },
    {
     "name": "stdout",
     "output_type": "stream",
     "text": [
      "731 / 790\n",
      "732 / 790\n",
      "733 / 790\n",
      "734 / 790\n",
      "735 / 790\n",
      "736 / 790\n",
      "737 / 790\n",
      "738 / 790\n",
      "739 / 790\n",
      "740 / 790\n",
      "741 / 790\n",
      "742 / 790\n",
      "743 / 790\n",
      "744 / 790\n",
      "745 / 790\n",
      "746 / 790\n",
      "747 / 790\n",
      "748 / 790\n",
      "749 / 790\n",
      "750 / 790\n",
      "751 / 790\n",
      "752 / 790\n",
      "753 / 790\n"
     ]
    },
    {
     "name": "stdout",
     "output_type": "stream",
     "text": [
      "754 / 790\n",
      "755 / 790\n",
      "756 / 790\n",
      "757 / 790\n",
      "758 / 790\n"
     ]
    },
    {
     "name": "stdout",
     "output_type": "stream",
     "text": [
      "759 / 790\n",
      "760 / 790\n",
      "761 / 790\n",
      "762 / 790\n",
      "763 / 790\n",
      "764 / 790\n",
      "765 / 790\n",
      "766 / 790\n",
      "767 / 790\n",
      "768 / 790\n",
      "769 / 790\n",
      "770 / 790\n",
      "771 / 790\n",
      "772 / 790\n",
      "773 / 790\n",
      "774 / 790\n",
      "775 / 790\n",
      "776 / 790\n"
     ]
    },
    {
     "name": "stdout",
     "output_type": "stream",
     "text": [
      "777 / 790\n",
      "778 / 790\n",
      "779 / 790\n",
      "780 / 790\n",
      "781 / 790\n",
      "782 / 790\n",
      "783 / 790\n",
      "784 / 790\n",
      "785 / 790\n",
      "786 / 790\n",
      "787 / 790\n",
      "788 / 790\n",
      "789 / 790\n",
      "790 / 790\n"
     ]
    },
    {
     "data": {
      "text/plain": [
       "Dict{String, Any} with 2 entries:\n",
       "  \"cooccurrence_table\" => CooccurOutput(\u001b[1m65793×13 DataFrame\u001b[0m\u001b[0m…\n",
       "  \"enriched_LRs\"       => \u001b[1m540×6 DataFrame\u001b[0m\u001b[0m…"
      ]
     },
     "metadata": {},
     "output_type": "display_data"
    }
   ],
   "source": [
    "out = main(all_LR_network, endindex=8000)"
   ]
  },
  {
   "cell_type": "code",
   "execution_count": 211,
   "metadata": {},
   "outputs": [],
   "source": [
    "# lr_network[(lr_network.from .== \"CDHR5\") .| (lr_network.to .== \"CDHR5\"), :]"
   ]
  },
  {
   "cell_type": "code",
   "execution_count": 176,
   "metadata": {},
   "outputs": [
    {
     "data": {
      "text/plain": [
       "find_duplicate_rows (generic function with 1 method)"
      ]
     },
     "metadata": {},
     "output_type": "display_data"
    }
   ],
   "source": [
    "function find_duplicate_rows(df, column_name)\n",
    "    # Get the unique values in the specified column\n",
    "    unique_values = unique(df[!, column_name])\n",
    "    \n",
    "    # Initialize an empty DataFrame to store the duplicate rows\n",
    "    duplicate_rows = DataFrame()\n",
    "    \n",
    "    for value in unique_values\n",
    "        # Filter rows where the specified column matches the current value\n",
    "        subset = filter(row -> row[column_name] == value, df)\n",
    "        \n",
    "        # If there are more than one row with the same value, append them to duplicate_rows\n",
    "        if nrow(subset) > 1\n",
    "            append!(duplicate_rows, subset)\n",
    "        end\n",
    "    end\n",
    "    \n",
    "    return duplicate_rows\n",
    "end\n"
   ]
  },
  {
   "cell_type": "code",
   "execution_count": 202,
   "metadata": {},
   "outputs": [
    {
     "data": {
      "text/html": [
       "<div><div style = \"float: left;\"><span>20×6 DataFrame</span></div><div style = \"clear: both;\"></div></div><div class = \"data-frame\" style = \"overflow-x: scroll;\"><table class = \"data-frame\" style = \"margin-bottom: 6px;\"><thead><tr class = \"header\"><th class = \"rowNumber\" style = \"font-weight: bold; text-align: right;\">Row</th><th style = \"text-align: left;\">from</th><th style = \"text-align: left;\">to</th><th style = \"text-align: left;\">correlation</th><th style = \"text-align: left;\">ligand_FC</th><th style = \"text-align: left;\">Receptor_FC</th><th style = \"text-align: left;\">pair</th></tr><tr class = \"subheader headerLastRow\"><th class = \"rowNumber\" style = \"font-weight: bold; text-align: right;\"></th><th title = \"String\" style = \"text-align: left;\">String</th><th title = \"String\" style = \"text-align: left;\">String</th><th title = \"Float64\" style = \"text-align: left;\">Float64</th><th title = \"Float64\" style = \"text-align: left;\">Float64</th><th title = \"Float64\" style = \"text-align: left;\">Float64</th><th title = \"String\" style = \"text-align: left;\">String</th></tr></thead><tbody><tr><td class = \"rowNumber\" style = \"font-weight: bold; text-align: right;\">1</td><td style = \"text-align: left;\">CDHR5</td><td style = \"text-align: left;\">CDHR2</td><td style = \"text-align: right;\">0.830117</td><td style = \"text-align: right;\">0.7361</td><td style = \"text-align: right;\">0.9662</td><td style = \"text-align: left;\">CDHR5_CDHR2</td></tr><tr><td class = \"rowNumber\" style = \"font-weight: bold; text-align: right;\">2</td><td style = \"text-align: left;\">CDHR2</td><td style = \"text-align: left;\">CDHR5</td><td style = \"text-align: right;\">0.830117</td><td style = \"text-align: right;\">0.9662</td><td style = \"text-align: right;\">0.7361</td><td style = \"text-align: left;\">CDHR2_CDHR5</td></tr><tr><td class = \"rowNumber\" style = \"font-weight: bold; text-align: right;\">3</td><td style = \"text-align: left;\">DSC2</td><td style = \"text-align: left;\">DSG2</td><td style = \"text-align: right;\">0.722542</td><td style = \"text-align: right;\">0.8149</td><td style = \"text-align: right;\">0.7307</td><td style = \"text-align: left;\">DSC2_DSG2</td></tr><tr><td class = \"rowNumber\" style = \"font-weight: bold; text-align: right;\">4</td><td style = \"text-align: left;\">DSG2</td><td style = \"text-align: left;\">DSC2</td><td style = \"text-align: right;\">0.722542</td><td style = \"text-align: right;\">0.7307</td><td style = \"text-align: right;\">0.8149</td><td style = \"text-align: left;\">DSG2_DSC2</td></tr><tr><td class = \"rowNumber\" style = \"font-weight: bold; text-align: right;\">5</td><td style = \"text-align: left;\">CDH1</td><td style = \"text-align: left;\">PTPRF</td><td style = \"text-align: right;\">0.605276</td><td style = \"text-align: right;\">0.8122</td><td style = \"text-align: right;\">0.7244</td><td style = \"text-align: left;\">CDH1_PTPRF</td></tr><tr><td class = \"rowNumber\" style = \"font-weight: bold; text-align: right;\">6</td><td style = \"text-align: left;\">PTPRF</td><td style = \"text-align: left;\">CDH1</td><td style = \"text-align: right;\">0.605276</td><td style = \"text-align: right;\">0.7244</td><td style = \"text-align: right;\">0.8122</td><td style = \"text-align: left;\">PTPRF_CDH1</td></tr><tr><td class = \"rowNumber\" style = \"font-weight: bold; text-align: right;\">7</td><td style = \"text-align: left;\">F11R</td><td style = \"text-align: left;\">ITGB2</td><td style = \"text-align: right;\">0.55938</td><td style = \"text-align: right;\">0.942</td><td style = \"text-align: right;\">2.1694</td><td style = \"text-align: left;\">F11R_ITGB2</td></tr><tr><td class = \"rowNumber\" style = \"font-weight: bold; text-align: right;\">8</td><td style = \"text-align: left;\">ITGB2</td><td style = \"text-align: left;\">F11R</td><td style = \"text-align: right;\">0.55938</td><td style = \"text-align: right;\">2.1694</td><td style = \"text-align: right;\">0.942</td><td style = \"text-align: left;\">ITGB2_F11R</td></tr><tr><td class = \"rowNumber\" style = \"font-weight: bold; text-align: right;\">9</td><td style = \"text-align: left;\">ITGB2</td><td style = \"text-align: left;\">ICAM1</td><td style = \"text-align: right;\">0.463724</td><td style = \"text-align: right;\">2.1694</td><td style = \"text-align: right;\">1.9715</td><td style = \"text-align: left;\">ITGB2_ICAM1</td></tr><tr><td class = \"rowNumber\" style = \"font-weight: bold; text-align: right;\">10</td><td style = \"text-align: left;\">ICAM1</td><td style = \"text-align: left;\">ITGB2</td><td style = \"text-align: right;\">0.463724</td><td style = \"text-align: right;\">1.9715</td><td style = \"text-align: right;\">2.1694</td><td style = \"text-align: left;\">ICAM1_ITGB2</td></tr><tr><td class = \"rowNumber\" style = \"font-weight: bold; text-align: right;\">11</td><td style = \"text-align: left;\">PTPRC</td><td style = \"text-align: left;\">CD2</td><td style = \"text-align: right;\">0.394723</td><td style = \"text-align: right;\">1.6397</td><td style = \"text-align: right;\">1.6859</td><td style = \"text-align: left;\">PTPRC_CD2</td></tr><tr><td class = \"rowNumber\" style = \"font-weight: bold; text-align: right;\">12</td><td style = \"text-align: left;\">CD2</td><td style = \"text-align: left;\">PTPRC</td><td style = \"text-align: right;\">0.394723</td><td style = \"text-align: right;\">1.6859</td><td style = \"text-align: right;\">1.6397</td><td style = \"text-align: left;\">CD2_PTPRC</td></tr><tr><td class = \"rowNumber\" style = \"font-weight: bold; text-align: right;\">13</td><td style = \"text-align: left;\">JAM3</td><td style = \"text-align: left;\">ITGB2</td><td style = \"text-align: right;\">0.317787</td><td style = \"text-align: right;\">2.1433</td><td style = \"text-align: right;\">2.1694</td><td style = \"text-align: left;\">JAM3_ITGB2</td></tr><tr><td class = \"rowNumber\" style = \"font-weight: bold; text-align: right;\">14</td><td style = \"text-align: left;\">ITGB2</td><td style = \"text-align: left;\">JAM3</td><td style = \"text-align: right;\">0.317787</td><td style = \"text-align: right;\">2.1694</td><td style = \"text-align: right;\">2.1433</td><td style = \"text-align: left;\">ITGB2_JAM3</td></tr><tr><td class = \"rowNumber\" style = \"font-weight: bold; text-align: right;\">15</td><td style = \"text-align: left;\">PVR</td><td style = \"text-align: left;\">CDH1</td><td style = \"text-align: right;\">0.276865</td><td style = \"text-align: right;\">0.7666</td><td style = \"text-align: right;\">0.8122</td><td style = \"text-align: left;\">PVR_CDH1</td></tr><tr><td class = \"rowNumber\" style = \"font-weight: bold; text-align: right;\">16</td><td style = \"text-align: left;\">CDH1</td><td style = \"text-align: left;\">PVR</td><td style = \"text-align: right;\">0.276865</td><td style = \"text-align: right;\">0.8122</td><td style = \"text-align: right;\">0.7666</td><td style = \"text-align: left;\">CDH1_PVR</td></tr><tr><td class = \"rowNumber\" style = \"font-weight: bold; text-align: right;\">17</td><td style = \"text-align: left;\">ICAM2</td><td style = \"text-align: left;\">ITGB2</td><td style = \"text-align: right;\">0.248302</td><td style = \"text-align: right;\">1.8473</td><td style = \"text-align: right;\">2.1694</td><td style = \"text-align: left;\">ICAM2_ITGB2</td></tr><tr><td class = \"rowNumber\" style = \"font-weight: bold; text-align: right;\">18</td><td style = \"text-align: left;\">ITGB2</td><td style = \"text-align: left;\">ICAM2</td><td style = \"text-align: right;\">0.248302</td><td style = \"text-align: right;\">2.1694</td><td style = \"text-align: right;\">1.8473</td><td style = \"text-align: left;\">ITGB2_ICAM2</td></tr><tr><td class = \"rowNumber\" style = \"font-weight: bold; text-align: right;\">19</td><td style = \"text-align: left;\">F11R</td><td style = \"text-align: left;\">ITGAL</td><td style = \"text-align: right;\">0.203744</td><td style = \"text-align: right;\">0.942</td><td style = \"text-align: right;\">1.2148</td><td style = \"text-align: left;\">F11R_ITGAL</td></tr><tr><td class = \"rowNumber\" style = \"font-weight: bold; text-align: right;\">20</td><td style = \"text-align: left;\">ITGAL</td><td style = \"text-align: left;\">F11R</td><td style = \"text-align: right;\">0.203744</td><td style = \"text-align: right;\">1.2148</td><td style = \"text-align: right;\">0.942</td><td style = \"text-align: left;\">ITGAL_F11R</td></tr></tbody></table></div>"
      ],
      "text/latex": [
       "\\begin{tabular}{r|cccccc}\n",
       "\t& from & to & correlation & ligand\\_FC & Receptor\\_FC & pair\\\\\n",
       "\t\\hline\n",
       "\t& String & String & Float64 & Float64 & Float64 & String\\\\\n",
       "\t\\hline\n",
       "\t1 & CDHR5 & CDHR2 & 0.830117 & 0.7361 & 0.9662 & CDHR5\\_CDHR2 \\\\\n",
       "\t2 & CDHR2 & CDHR5 & 0.830117 & 0.9662 & 0.7361 & CDHR2\\_CDHR5 \\\\\n",
       "\t3 & DSC2 & DSG2 & 0.722542 & 0.8149 & 0.7307 & DSC2\\_DSG2 \\\\\n",
       "\t4 & DSG2 & DSC2 & 0.722542 & 0.7307 & 0.8149 & DSG2\\_DSC2 \\\\\n",
       "\t5 & CDH1 & PTPRF & 0.605276 & 0.8122 & 0.7244 & CDH1\\_PTPRF \\\\\n",
       "\t6 & PTPRF & CDH1 & 0.605276 & 0.7244 & 0.8122 & PTPRF\\_CDH1 \\\\\n",
       "\t7 & F11R & ITGB2 & 0.55938 & 0.942 & 2.1694 & F11R\\_ITGB2 \\\\\n",
       "\t8 & ITGB2 & F11R & 0.55938 & 2.1694 & 0.942 & ITGB2\\_F11R \\\\\n",
       "\t9 & ITGB2 & ICAM1 & 0.463724 & 2.1694 & 1.9715 & ITGB2\\_ICAM1 \\\\\n",
       "\t10 & ICAM1 & ITGB2 & 0.463724 & 1.9715 & 2.1694 & ICAM1\\_ITGB2 \\\\\n",
       "\t11 & PTPRC & CD2 & 0.394723 & 1.6397 & 1.6859 & PTPRC\\_CD2 \\\\\n",
       "\t12 & CD2 & PTPRC & 0.394723 & 1.6859 & 1.6397 & CD2\\_PTPRC \\\\\n",
       "\t13 & JAM3 & ITGB2 & 0.317787 & 2.1433 & 2.1694 & JAM3\\_ITGB2 \\\\\n",
       "\t14 & ITGB2 & JAM3 & 0.317787 & 2.1694 & 2.1433 & ITGB2\\_JAM3 \\\\\n",
       "\t15 & PVR & CDH1 & 0.276865 & 0.7666 & 0.8122 & PVR\\_CDH1 \\\\\n",
       "\t16 & CDH1 & PVR & 0.276865 & 0.8122 & 0.7666 & CDH1\\_PVR \\\\\n",
       "\t17 & ICAM2 & ITGB2 & 0.248302 & 1.8473 & 2.1694 & ICAM2\\_ITGB2 \\\\\n",
       "\t18 & ITGB2 & ICAM2 & 0.248302 & 2.1694 & 1.8473 & ITGB2\\_ICAM2 \\\\\n",
       "\t19 & F11R & ITGAL & 0.203744 & 0.942 & 1.2148 & F11R\\_ITGAL \\\\\n",
       "\t20 & ITGAL & F11R & 0.203744 & 1.2148 & 0.942 & ITGAL\\_F11R \\\\\n",
       "\\end{tabular}\n"
      ],
      "text/plain": [
       "\u001b[1m20×6 DataFrame\u001b[0m\n",
       "\u001b[1m Row \u001b[0m│\u001b[1m from   \u001b[0m\u001b[1m to     \u001b[0m\u001b[1m correlation \u001b[0m\u001b[1m ligand_FC \u001b[0m\u001b[1m Receptor_FC \u001b[0m\u001b[1m pair        \u001b[0m\n",
       "     │\u001b[90m String \u001b[0m\u001b[90m String \u001b[0m\u001b[90m Float64     \u001b[0m\u001b[90m Float64   \u001b[0m\u001b[90m Float64     \u001b[0m\u001b[90m String      \u001b[0m\n",
       "─────┼──────────────────────────────────────────────────────────────────\n",
       "   1 │ CDHR5   CDHR2      0.830117     0.7361       0.9662  CDHR5_CDHR2\n",
       "   2 │ CDHR2   CDHR5      0.830117     0.9662       0.7361  CDHR2_CDHR5\n",
       "   3 │ DSC2    DSG2       0.722542     0.8149       0.7307  DSC2_DSG2\n",
       "   4 │ DSG2    DSC2       0.722542     0.7307       0.8149  DSG2_DSC2\n",
       "   5 │ CDH1    PTPRF      0.605276     0.8122       0.7244  CDH1_PTPRF\n",
       "   6 │ PTPRF   CDH1       0.605276     0.7244       0.8122  PTPRF_CDH1\n",
       "   7 │ F11R    ITGB2      0.55938      0.942        2.1694  F11R_ITGB2\n",
       "   8 │ ITGB2   F11R       0.55938      2.1694       0.942   ITGB2_F11R\n",
       "  ⋮  │   ⋮       ⋮          ⋮           ⋮           ⋮            ⋮\n",
       "  14 │ ITGB2   JAM3       0.317787     2.1694       2.1433  ITGB2_JAM3\n",
       "  15 │ PVR     CDH1       0.276865     0.7666       0.8122  PVR_CDH1\n",
       "  16 │ CDH1    PVR        0.276865     0.8122       0.7666  CDH1_PVR\n",
       "  17 │ ICAM2   ITGB2      0.248302     1.8473       2.1694  ICAM2_ITGB2\n",
       "  18 │ ITGB2   ICAM2      0.248302     2.1694       1.8473  ITGB2_ICAM2\n",
       "  19 │ F11R    ITGAL      0.203744     0.942        1.2148  F11R_ITGAL\n",
       "  20 │ ITGAL   F11R       0.203744     1.2148       0.942   ITGAL_F11R\n",
       "\u001b[36m                                                          5 rows omitted\u001b[0m"
      ]
     },
     "metadata": {},
     "output_type": "display_data"
    }
   ],
   "source": [
    "df = out[\"enriched_LRs\"];\n",
    "duplicates = find_duplicate_rows(df, \"correlation\")"
   ]
  },
  {
   "cell_type": "code",
   "execution_count": 181,
   "metadata": {},
   "outputs": [],
   "source": [
    "r_pairs = [\"LGALS3_ITGB4\", \"CDHR5_CDHR2\", \"HLA-E_ITGA6\", \"HLA-E_PLXNB2\", \"COL1A1_ITGA5\", \"DSC2_LSR\", \"DSC2_EPHA2\", \"GRN_TNFRSF1A\", \"DSG2_EPHA2\", \"DSG2_LRP10\", \"LAMC2_ITGA2\", \"DSG2_DSC2\", \"RPS19_RPSA\", \"TNC_ITGA5\", \"MIF_CD74\", \"DSG2_LSR\", \"CALM1_TNFRSF1A\", \"CDH1_DDR1\", \"ITGB1_ITGA6\", \"PLAU_PLAUR\", \"GRN_SORT1\", \"LAMC2_ITGB4\", \"TNC_ITGA2\", \"CALR_ITGA3\", \"LGALS3_NPTN\", \"ITGB1_CDH17\", \"PSAP_SORT1\", \"PLXNB2_MST1R\", \"CALR_ITGAV\", \"HLA-A_ERBB3\", \"LGALS3_TFRC\", \"MMP9_ITGA5\", \"LAMC2_ITGA6\", \"EFNA2_EPHA2\", \"ADAM9_ITGA6\", \"CCL2_ACKR1\", \"EFNA1_EPHA2\", \"ITGB1_ITGA5\", \"RTN4_EPHA2\", \"ITGB1_CD151\", \"CEACAM1_INSR\", \"ADAM9_ITGAV\", \"CDH1_PTPRF\", \"LGALS3_CLEC7A\", \"EFNB2_EPHA2\", \"HSP90B1_LDLR\", \"ANXA1_CD44\", \"APP_ITGA6\", \"EFNB1_EPHA2\", \"MDK_LRP1\", \"CALR_ITGA5\", \"HSPG2_FLT1\", \"ITGB1_RACK1\", \"DSG2_ITPR3\", \"ITGB1_PLAUR\", \"VEGFA_ITGAV\", \"ADAM9_ITGA3\", \"ITGB1_ITGAV\", \"APOE_SDC1\", \"ITGB1_ITGA3\", \"ITGB1_EPHA2\", \"ITGB1_ENG\", \"ITGB2_F11R\", \"COL1A1_CD36\", \"PSAP_LRP1\", \"CLSTN1_IGF2R\", \"PTPRC_CD44\", \"CALR_LRP1\", \"LAMC2_ITGA3\", \"PLXNB2_MET\", \"CDH1_MET\", \"MDK_SDC4\", \"PECAM1_ITGA5\", \"APP_SDC1\", \"CALR_CD44\", \"DSC2_INSR\", \"ITGB1_FAT1\", \"LAMC3_ITGA6\", \"CLSTN1_TFRC\", \"RTN4_CD44\", \"ADAM9_ITGB5\", \"HLA-E_PLXNA3\", \"APP_TNFRSF14\", \"CLSTN1_LRP1\", \"CDH1_RACK1\", \"MIF_TNFRSF14\", \"ITGB2_PLAUR\", \"LAMC2_CD151\", \"TNC_SDC1\", \"PLAU_CD44\", \"COL1A1_CD44\", \"ICAM1_ITGAX\", \"ANXA1_ACKR3\", \"VEGFA_FLT1\", \"TNC_ITGB6\", \"CALM1_INSR\", \"MDK_SDC1\", \"LGALS3_GPR35\", \"ITGB1_IGF2R\", \"CDH1_SLC1A5\", \"ITGB1_ITGA1\", \"HSPG2_ITGA2\", \"ITGB1_PTK2B\", \"ARF1_INSR\", \"CDH1_NCSTN\", \"GSTP1_CD44\", \"ANXA1_MET\", \"ANXA1_F2R\", \"PTPRC_CXCR4\", \"ITGB1_SDC1\", \"TNC_ITGAX\", \"LAMB1_ITGA6\", \"DSG2_FZD5\", \"ITGB1_CD46\", \"APOE_SDC4\", \"CDH1_ITGB7\", \"ITGB1_CD47\", \"CALR_NCSTN\", \"CALR_LGR4\", \"LAMB1_ITGA1\", \"CEACAM1_PTPN6\", \"APP_F2R\", \"HSPG2_LRP1\", \"ICAM1_IL2RG\", \"CD99_EPHA2\", \"COL1A1_SDC1\", \"HLA-DRA_CD4\", \"LIPH_LRP5\", \"TNC_ITGAV\", \"HSP90B1_LRP1\", \"NECTIN2_TNFRSF12A\", \"CALR_LRP5\", \"DSC2_FZD5\", \"ITGB2_ICAM1\", \"ITGB1_NCSTN\", \"TNFSF13_TNFRSF1A\", \"COL4A1_ITGA1\", \"PTPRF_RACK1\", \"CXCL3_ACKR3\", \"LGALS3_FCGR2A\", \"CLSTN1_CD47\", \"PECAM1_ITGAV\", \"RPS19_CD4\", \"PTPRF_MET\", \"EFNB2_SDC1\", \"ICAM1_CSF2RB\", \"A2M_LRP1\", \"APOE_LRP1\", \"FN1_RPSA\", \"ITGB1_SLC1A5\", \"CALM1_VIPR1\", \"PTPRF_INSR\", \"COL1A1_ITGAV\", \"HSPG2_KDR\", \"CDH1_KDR\", \"BMP2_ENG\", \"VEGFA_PTK2B\", \"MMP9_CD44\", \"ITGB1_ITGA8\", \"CXCL9_CXCR4\", \"COL1A1_ITGA2\", \"CDH1_EGFR\", \"GUCA2A_GUCY2C\", \"APOE_LDLR\", \"PIK3CB_FCGR3A\", \"VWF_ITGB5\", \"CCL5_CDH1\", \"CXCL9_BDKRB2\", \"ARF1_CD44\", \"DSC2_DLG1\", \"LAMC3_ITGAV\", \"TNFSF10_PIK3CB\", \"ITGB1_ITGA2\", \"APOE_SDC3\", \"ARF1_CD4\", \"CXCL9_LPAR2\", \"LRPAP1_SORT1\", \"TGFB1_ACVRL1\", \"TNFSF13_TNFRSF14\", \"SAA1_F2RL1\", \"NID1_NOTCH2\", \"CALR_IL7R\", \"ANXA1_C3AR1\", \"HSP90B1_TNFRSF1B\", \"LGALS3_ITGA2\", \"LAMB1_ITGA3\", \"BMP2_BMPR2\", \"COL1A1_ITGA1\", \"ANXA1_BDKRB2\", \"PTPRF_ERBB2\", \"APP_EPHA2\", \"NID1_NOTCH3\", \"HLA-DMA_CD4\", \"CALM1_RPSA\", \"LRPAP1_LDLR\", \"APP_TNFRSF21\", \"LAMC3_ITGB4\", \"DSG2_EGFR\", \"HSP90B1_EGFR\", \"APP_F2RL1\", \"GSTP1_LRP5\", \"COL1A1_ITGA3\", \"DSG2_CD44\", \"DSG2_INSR\", \"LGALS3_PTPRK\", \"CD99_INSR\", \"EFNB2_INSR\", \"CDH5_TGFBR2\", \"SERPINE1_PLAUR\", \"DSG2_PDGFRA\", \"APP_BDKRB2\", \"ITGA4_CXCR4\", \"PTPRF_PTPRA\", \"GRN_EGFR\", \"LAMB1_ITGB4\", \"F11R_TGFBR1\", \"PTPRC_CD2\", \"ARF1_LRP5\", \"EFNB2_FZD5\", \"CALR_EGFR\", \"APP_ACKR3\", \"HBEGF_CD44\", \"GSTP1_IL7R\", \"SERPING1_LRP1\", \"ITGB1_CSF2RB\", \"CCL5_SDC1\", \"LAMB1_SDC1\", \"TGFB1_ITGAV\", \"CLSTN1_M6PR\", \"AGT_F2R\", \"APOE_LRP5\", \"LRPAP1_LRP1\", \"ITGB2_ITGAX\", \"CEACAM1_EGFR\", \"CXCL10_CXCR4\", \"HLA-F_CD8A\", \"SAA1_F2R\", \"APP_TGFBR2\", \"ITGB1_DAB2\", \"ANXA1_F2RL1\", \"ICAM1_IL2RA\", \"PSEN1_NCSTN\", \"ARF1_PLD2\", \"LAMC3_ITGA3\", \"TGFB1_VDR\", \"ITGB1_ITGAX\", \"CXCL9_C3AR1\", \"COPA_NOTCH1\", \"ADM_PTGER4\", \"PLXNB2_PTPRK\", \"COL18A1_ITGA5\", \"JAG1_CD46\", \"PCDH1_DERL1\", \"PTPRC_MET\", \"APOE_SORL1\", \"SERPINA1_LRP1\", \"AGRN_LRP1\", \"CDH1_ERBB2\", \"WNT5A_SCARB2\", \"ADAM15_ITGA5\", \"HMGB2_ITPR3\", \"SEMA4D_PLXNB2\", \"NRG1_LSR\", \"MDK_SDC3\", \"CCL5_SDC4\", \"APP_CD36\", \"ITGB1_ITGA4\", \"PECAM1_ACKR3\", \"ANXA1_FPR3\", \"EFNB1_FZD5\", \"EFNB1_ERBB2\", \"VEGFA_PDGFRA\", \"MDK_PTPRB\", \"TGFB1_ENG\", \"COPA_SORT1\", \"TIMP1_LRP1\", \"PSAP_ERBB2\", \"CDH1_PKD1\", \"DSG2_SEC63\", \"NID1_ITGAV\", \"NENF_SEC63\", \"COL18A1_FLT1\", \"EFNB1_INSR\", \"PECAM1_SDC4\", \"CALM1_TNFRSF1B\", \"APP_NCSTN\", \"CALR_FAS\", \"PLAU_IGF2R\", \"DSG2_CXCR4\", \"CCL5_CXCR4\", \"SAA1_PTAFR\", \"NAMPT_ANXA6\", \"PIK3CB_ITGB4\", \"ITGB1_DAG1\", \"DSG2_DLG1\", \"LTB_TNFRSF1A\", \"CXCL10_BDKRB2\", \"SERPINA1_SDC2\", \"ADAM17_TNFRSF1A\", \"ARF1_MYLK\", \"ITGB2_ITGAL\", \"COL18A1_ITGB5\", \"A2M_TNFRSF14\", \"SAA1_C3AR1\", \"TGFB1_ITGB1\", \"HBEGF_ERBB3\", \"APP_HRH1\", \"DSC2_SEC63\", \"APOE_SDC2\", \"PIK3CB_FCGR2A\", \"ITGB1_CD36\", \"ITGB1_JAM3\", \"COL18A1_ITGA3\", \"GRN_TNFRSF1B\", \"LGALS3_TGFBR2\", \"APP_GPC1\", \"LAMC3_CD44\", \"SAA1_SELENOS\", \"ITGB1_PDGFRB\", \"FN1_CD44\", \"ITGB2_EGFR\", \"LRPAP1_SORL1\", \"APP_LRP1\", \"PECAM1_SDC1\", \"GMFB_ITPR3\", \"CXCL16_C3AR1\", \"LAMB1_ITGAV\", \"PIK3CB_PDGFRA\", \"TGFB1_F11R\", \"GSTP1_MYLK\", \"ITGA4_RPSA\", \"PDGFA_PDGFRA\", \"COL18A1_ITGAV\", \"CXCL16_LPAR2\", \"ANXA1_EGFR\", \"APP_C5AR1\", \"LAMB1_PTPRF\", \"SECTM1_CD7\", \"PSEN1_DAG1\", \"COPA_EGFR\", \"ITGB2_JAM3\", \"GAS6_AXL\", \"LAMB1_ITGA2\", \"MANF_SEC63\", \"LAMB2_RPSA\", \"COPA_SPHK1\", \"SERPINE2_LRP1\", \"CALR_MYLK\", \"VEGFB_ITGB1\", \"NAMPT_CUL5\", \"PSEN1_NOTCH1\", \"CXCL3_BDKRB2\", \"CCL5_BDKRB2\", \"COPA_NCSTN\", \"ITGA4_CD44\", \"TGFB1_ITGB5\", \"HMGB1_TLR2\", \"CD99_FZD5\", \"CXCL16_ACKR3\", \"LAMB2_ITGA6\", \"HMGB2_CD44\", \"WNT5A_TFRC\", \"GRN_CFTR\", \"LAMB1_SDC2\", \"HMGB2_DSG2\", \"AREG_ERBB3\", \"TGFB1_TGFBR2\", \"ANXA1_PTPRF\", \"CCL28_C3AR1\", \"TGFB1_ITGB6\", \"HSP90B1_ERBB2\", \"ANXA1_CD4\", \"GSTP1_FAS\", \"ADAM17_ITGA5\", \"CALM1_EGFR\", \"AGT_F2RL1\", \"PTPRC_IFNAR1\", \"VEGFA_NRP1\", \"CXCL10_C3AR1\", \"ADM_RAMP3\", \"PLAT_LRP1\", \"CXCL16_CXCR4\", \"NAMPT_IGF1R\", \"ARF1_FAS\", \"CXCL14_CXCR4\", \"PIK3CB_ERBB3\", \"F11R_JAM3\", \"GPNMB_EGFR\", \"CDH5_ACVRL1\", \"ANXA1_FAS\", \"CD320_TGFBR2\", \"DSG2_DAB2\", \"CALM1_MYLK\", \"CDH1_ITGAE\", \"CXCL16_BDKRB2\", \"HSPG2_DAG1\", \"VEGFA_AXL\", \"ICAM2_CD44\", \"CXCL3_C3AR1\", \"PIK3CB_TGFBR2\", \"WNT5A_LDLR\", \"ANXA1_CXCR4\", \"PSEN1_TGFBR1\", \"PTPRC_INSR\", \"VWF_ITGAV\", \"VEGFB_FAT1\", \"VEGFA_EPHB2\", \"EFNA1_TGFBR1\", \"PVR_CDH1\", \"AIMP1_RACK1\", \"COL1A1_DDR1\", \"PTPRC_ERBB2\", \"CXCL12_S1PR1\", \"CALM2_MYLK\", \"COPA_PDGFRB\", \"PSEN1_NOTCH2\", \"APP_C3AR1\", \"COL18A1_KDR\", \"APP_CXCR4\", \"HMGB1_TLR4\", \"CDH1_PTPRM\", \"DSC2_RYK\", \"COPA_CD8A\", \"FBN1_CLSTN1\", \"ADM_CALCRL\", \"AGT_ATP6AP2\", \"PTPRF_EGFR\", \"CSF1_CSF1R\", \"VEGFA_PIK3CB\", \"SAA1_BDKRB2\", \"JAG1_LRP1\", \"CCL5_C3AR1\", \"PIK3CB_IL2RG\", \"CDH1_CFTR\", \"PIK3CB_AXL\", \"APP_EDNRB\", \"ADM_VIPR1\", \"CCL28_C5AR1\", \"HDGF_FAS\", \"AREG_EGFR\", \"NAMPT_INSR\", \"VEGFA_PTPRB\", \"ITGB2_ICAM2\", \"LAMB1_FAS\", \"CXCL9_ACKR3\", \"YARS_RPSA\", \"CLSTN1_PRNP\", \"CXCL16_C5AR1\", \"TNFSF10_TNFRSF10B\", \"ADAM17_TNFRSF1B\", \"EFNA2_TGFBR1\", \"APP_LPAR2\", \"EFNB2_EPHB2\", \"FN1_EGFR\", \"PECAM1_CXCR4\", \"PTPRF_TGFBR2\", \"ADM_GIPR\", \"PLAU_LRP1\", \"EFNB1_SDC2\", \"TNFSF13_SDC2\", \"PDGFA_PDGFRB\", \"TGFB1_SDC2\", \"ITGA4_TFRC\", \"SAA1_ACKR3\", \"EFNA1_EPHB2\", \"NRG1_ERBB3\", \"CALM3_MYLK\", \"ITGB1_ITGA9\", \"ANXA1_C5AR1\", \"THBS1_LRP1\", \"SAA1_CXCR4\", \"OCLN_TGFBR2\", \"AGT_ACKR3\", \"HMGB1_AGTRAP\", \"BMP2_NEO1\", \"APP_IGF1R\", \"PTPRC_EGFR\", \"CDH5_P2RX4\", \"CCL28_CXCR4\", \"ITGB1_IGF1R\", \"F11R_PTPRB\", \"SERPINE1_LRP1\", \"F11R_TGFBR2\", \"APP_SORL1\", \"ITGAL_F11R\", \"AREG_ERBB2\", \"LAMB2_ITGB4\"]\n",
    "j_pairs = df.pair;"
   ]
  },
  {
   "cell_type": "code",
   "execution_count": 210,
   "metadata": {},
   "outputs": [],
   "source": [
    "# setdiff(r_pairs, j_pairs)\n",
    "j_only = setdiff(j_pairs, r_pairs)\n",
    "j_no_duplicates = setdiff(j_only, duplicates.pair);"
   ]
  },
  {
   "cell_type": "code",
   "execution_count": 209,
   "metadata": {},
   "outputs": [
    {
     "data": {
      "text/html": [
       "<div><div style = \"float: left;\"><span>43×6 DataFrame</span></div><div style = \"float: right;\"><span style = \"font-style: italic;\">18 rows omitted</span></div><div style = \"clear: both;\"></div></div><div class = \"data-frame\" style = \"overflow-x: scroll;\"><table class = \"data-frame\" style = \"margin-bottom: 6px;\"><thead><tr class = \"header\"><th class = \"rowNumber\" style = \"font-weight: bold; text-align: right;\">Row</th><th style = \"text-align: left;\">from</th><th style = \"text-align: left;\">to</th><th style = \"text-align: left;\">correlation</th><th style = \"text-align: left;\">ligand_FC</th><th style = \"text-align: left;\">Receptor_FC</th><th style = \"text-align: left;\">pair</th></tr><tr class = \"subheader headerLastRow\"><th class = \"rowNumber\" style = \"font-weight: bold; text-align: right;\"></th><th title = \"String\" style = \"text-align: left;\">String</th><th title = \"String\" style = \"text-align: left;\">String</th><th title = \"Float64\" style = \"text-align: left;\">Float64</th><th title = \"Float64\" style = \"text-align: left;\">Float64</th><th title = \"Float64\" style = \"text-align: left;\">Float64</th><th title = \"String\" style = \"text-align: left;\">String</th></tr></thead><tbody><tr><td class = \"rowNumber\" style = \"font-weight: bold; text-align: right;\">1</td><td style = \"text-align: left;\">COL4A1</td><td style = \"text-align: left;\">ITGB1</td><td style = \"text-align: right;\">0.681179</td><td style = \"text-align: right;\">2.4032</td><td style = \"text-align: right;\">1.1237</td><td style = \"text-align: left;\">COL4A1_ITGB1</td></tr><tr><td class = \"rowNumber\" style = \"font-weight: bold; text-align: right;\">2</td><td style = \"text-align: left;\">LGALS3</td><td style = \"text-align: left;\">ITGB1</td><td style = \"text-align: right;\">0.677309</td><td style = \"text-align: right;\">0.7695</td><td style = \"text-align: right;\">1.1237</td><td style = \"text-align: left;\">LGALS3_ITGB1</td></tr><tr><td class = \"rowNumber\" style = \"font-weight: bold; text-align: right;\">3</td><td style = \"text-align: left;\">HSP90B1</td><td style = \"text-align: left;\">ITGB1</td><td style = \"text-align: right;\">0.64627</td><td style = \"text-align: right;\">0.9562</td><td style = \"text-align: right;\">1.1237</td><td style = \"text-align: left;\">HSP90B1_ITGB1</td></tr><tr><td class = \"rowNumber\" style = \"font-weight: bold; text-align: right;\">4</td><td style = \"text-align: left;\">ADAM9</td><td style = \"text-align: left;\">CDH1</td><td style = \"text-align: right;\">0.63985</td><td style = \"text-align: right;\">0.9508</td><td style = \"text-align: right;\">0.8122</td><td style = \"text-align: left;\">ADAM9_CDH1</td></tr><tr><td class = \"rowNumber\" style = \"font-weight: bold; text-align: right;\">5</td><td style = \"text-align: left;\">HLA-DRA</td><td style = \"text-align: left;\">PTPRC</td><td style = \"text-align: right;\">0.634468</td><td style = \"text-align: right;\">1.2791</td><td style = \"text-align: right;\">1.6397</td><td style = \"text-align: left;\">HLA-DRA_PTPRC</td></tr><tr><td class = \"rowNumber\" style = \"font-weight: bold; text-align: right;\">6</td><td style = \"text-align: left;\">AREG</td><td style = \"text-align: left;\">ICAM1</td><td style = \"text-align: right;\">0.624456</td><td style = \"text-align: right;\">1.4834</td><td style = \"text-align: right;\">1.9715</td><td style = \"text-align: left;\">AREG_ICAM1</td></tr><tr><td class = \"rowNumber\" style = \"font-weight: bold; text-align: right;\">7</td><td style = \"text-align: left;\">HSPG2</td><td style = \"text-align: left;\">ITGB1</td><td style = \"text-align: right;\">0.62099</td><td style = \"text-align: right;\">1.3576</td><td style = \"text-align: right;\">1.1237</td><td style = \"text-align: left;\">HSPG2_ITGB1</td></tr><tr><td class = \"rowNumber\" style = \"font-weight: bold; text-align: right;\">8</td><td style = \"text-align: left;\">ADAM9</td><td style = \"text-align: left;\">ITGB1</td><td style = \"text-align: right;\">0.60568</td><td style = \"text-align: right;\">0.9508</td><td style = \"text-align: right;\">1.1237</td><td style = \"text-align: left;\">ADAM9_ITGB1</td></tr><tr><td class = \"rowNumber\" style = \"font-weight: bold; text-align: right;\">9</td><td style = \"text-align: left;\">PSEN1</td><td style = \"text-align: left;\">CDH1</td><td style = \"text-align: right;\">0.573752</td><td style = \"text-align: right;\">0.7368</td><td style = \"text-align: right;\">0.8122</td><td style = \"text-align: left;\">PSEN1_CDH1</td></tr><tr><td class = \"rowNumber\" style = \"font-weight: bold; text-align: right;\">10</td><td style = \"text-align: left;\">RTN4</td><td style = \"text-align: left;\">CD99</td><td style = \"text-align: right;\">0.56588</td><td style = \"text-align: right;\">0.8991</td><td style = \"text-align: right;\">0.9915</td><td style = \"text-align: left;\">RTN4_CD99</td></tr><tr><td class = \"rowNumber\" style = \"font-weight: bold; text-align: right;\">11</td><td style = \"text-align: left;\">LAMB1</td><td style = \"text-align: left;\">ITGB1</td><td style = \"text-align: right;\">0.539863</td><td style = \"text-align: right;\">1.1535</td><td style = \"text-align: right;\">1.1237</td><td style = \"text-align: left;\">LAMB1_ITGB1</td></tr><tr><td class = \"rowNumber\" style = \"font-weight: bold; text-align: right;\">12</td><td style = \"text-align: left;\">PSEN1</td><td style = \"text-align: left;\">ITGB1</td><td style = \"text-align: right;\">0.519305</td><td style = \"text-align: right;\">0.7368</td><td style = \"text-align: right;\">1.1237</td><td style = \"text-align: left;\">PSEN1_ITGB1</td></tr><tr><td class = \"rowNumber\" style = \"font-weight: bold; text-align: right;\">13</td><td style = \"text-align: left;\">LAMC2</td><td style = \"text-align: left;\">ITGB1</td><td style = \"text-align: right;\">0.50947</td><td style = \"text-align: right;\">1.1017</td><td style = \"text-align: right;\">1.1237</td><td style = \"text-align: left;\">LAMC2_ITGB1</td></tr><tr><td style = \"text-align: right;\">&vellip;</td><td style = \"text-align: right;\">&vellip;</td><td style = \"text-align: right;\">&vellip;</td><td style = \"text-align: right;\">&vellip;</td><td style = \"text-align: right;\">&vellip;</td><td style = \"text-align: right;\">&vellip;</td><td style = \"text-align: right;\">&vellip;</td></tr><tr><td class = \"rowNumber\" style = \"font-weight: bold; text-align: right;\">32</td><td style = \"text-align: left;\">AGRN</td><td style = \"text-align: left;\">ITGB1</td><td style = \"text-align: right;\">0.352483</td><td style = \"text-align: right;\">0.7952</td><td style = \"text-align: right;\">1.1237</td><td style = \"text-align: left;\">AGRN_ITGB1</td></tr><tr><td class = \"rowNumber\" style = \"font-weight: bold; text-align: right;\">33</td><td style = \"text-align: left;\">MMP9</td><td style = \"text-align: left;\">CDH1</td><td style = \"text-align: right;\">0.349233</td><td style = \"text-align: right;\">2.1697</td><td style = \"text-align: right;\">0.8122</td><td style = \"text-align: left;\">MMP9_CDH1</td></tr><tr><td class = \"rowNumber\" style = \"font-weight: bold; text-align: right;\">34</td><td style = \"text-align: left;\">SEMA7A</td><td style = \"text-align: left;\">ITGB1</td><td style = \"text-align: right;\">0.340886</td><td style = \"text-align: right;\">1.5367</td><td style = \"text-align: right;\">1.1237</td><td style = \"text-align: left;\">SEMA7A_ITGB1</td></tr><tr><td class = \"rowNumber\" style = \"font-weight: bold; text-align: right;\">35</td><td style = \"text-align: left;\">NPNT</td><td style = \"text-align: left;\">ITGB1</td><td style = \"text-align: right;\">0.321677</td><td style = \"text-align: right;\">0.7647</td><td style = \"text-align: right;\">1.1237</td><td style = \"text-align: left;\">NPNT_ITGB1</td></tr><tr><td class = \"rowNumber\" style = \"font-weight: bold; text-align: right;\">36</td><td style = \"text-align: left;\">ANXA1</td><td style = \"text-align: left;\">ITGA4</td><td style = \"text-align: right;\">0.309602</td><td style = \"text-align: right;\">1.3294</td><td style = \"text-align: right;\">1.6808</td><td style = \"text-align: left;\">ANXA1_ITGA4</td></tr><tr><td class = \"rowNumber\" style = \"font-weight: bold; text-align: right;\">37</td><td style = \"text-align: left;\">ADAM17</td><td style = \"text-align: left;\">ITGB1</td><td style = \"text-align: right;\">0.308816</td><td style = \"text-align: right;\">1.0064</td><td style = \"text-align: right;\">1.1237</td><td style = \"text-align: left;\">ADAM17_ITGB1</td></tr><tr><td class = \"rowNumber\" style = \"font-weight: bold; text-align: right;\">38</td><td style = \"text-align: left;\">FBN1</td><td style = \"text-align: left;\">ITGB1</td><td style = \"text-align: right;\">0.308436</td><td style = \"text-align: right;\">2.0041</td><td style = \"text-align: right;\">1.1237</td><td style = \"text-align: left;\">FBN1_ITGB1</td></tr><tr><td class = \"rowNumber\" style = \"font-weight: bold; text-align: right;\">39</td><td style = \"text-align: left;\">LAMB2</td><td style = \"text-align: left;\">ITGB1</td><td style = \"text-align: right;\">0.296145</td><td style = \"text-align: right;\">1.6537</td><td style = \"text-align: right;\">1.1237</td><td style = \"text-align: left;\">LAMB2_ITGB1</td></tr><tr><td class = \"rowNumber\" style = \"font-weight: bold; text-align: right;\">40</td><td style = \"text-align: left;\">ICAM3</td><td style = \"text-align: left;\">ITGB2</td><td style = \"text-align: right;\">0.288333</td><td style = \"text-align: right;\">0.9176</td><td style = \"text-align: right;\">2.1694</td><td style = \"text-align: left;\">ICAM3_ITGB2</td></tr><tr><td class = \"rowNumber\" style = \"font-weight: bold; text-align: right;\">41</td><td style = \"text-align: left;\">PTPRC</td><td style = \"text-align: left;\">ITGAL</td><td style = \"text-align: right;\">0.28596</td><td style = \"text-align: right;\">1.6397</td><td style = \"text-align: right;\">1.2148</td><td style = \"text-align: left;\">PTPRC_ITGAL</td></tr><tr><td class = \"rowNumber\" style = \"font-weight: bold; text-align: right;\">42</td><td style = \"text-align: left;\">EFNB1</td><td style = \"text-align: left;\">CD99</td><td style = \"text-align: right;\">0.253079</td><td style = \"text-align: right;\">0.7063</td><td style = \"text-align: right;\">0.9915</td><td style = \"text-align: left;\">EFNB1_CD99</td></tr><tr><td class = \"rowNumber\" style = \"font-weight: bold; text-align: right;\">43</td><td style = \"text-align: left;\">THBS1</td><td style = \"text-align: left;\">ITGB1</td><td style = \"text-align: right;\">0.219055</td><td style = \"text-align: right;\">1.6376</td><td style = \"text-align: right;\">1.1237</td><td style = \"text-align: left;\">THBS1_ITGB1</td></tr></tbody></table></div>"
      ],
      "text/latex": [
       "\\begin{tabular}{r|cccccc}\n",
       "\t& from & to & correlation & ligand\\_FC & Receptor\\_FC & pair\\\\\n",
       "\t\\hline\n",
       "\t& String & String & Float64 & Float64 & Float64 & String\\\\\n",
       "\t\\hline\n",
       "\t1 & COL4A1 & ITGB1 & 0.681179 & 2.4032 & 1.1237 & COL4A1\\_ITGB1 \\\\\n",
       "\t2 & LGALS3 & ITGB1 & 0.677309 & 0.7695 & 1.1237 & LGALS3\\_ITGB1 \\\\\n",
       "\t3 & HSP90B1 & ITGB1 & 0.64627 & 0.9562 & 1.1237 & HSP90B1\\_ITGB1 \\\\\n",
       "\t4 & ADAM9 & CDH1 & 0.63985 & 0.9508 & 0.8122 & ADAM9\\_CDH1 \\\\\n",
       "\t5 & HLA-DRA & PTPRC & 0.634468 & 1.2791 & 1.6397 & HLA-DRA\\_PTPRC \\\\\n",
       "\t6 & AREG & ICAM1 & 0.624456 & 1.4834 & 1.9715 & AREG\\_ICAM1 \\\\\n",
       "\t7 & HSPG2 & ITGB1 & 0.62099 & 1.3576 & 1.1237 & HSPG2\\_ITGB1 \\\\\n",
       "\t8 & ADAM9 & ITGB1 & 0.60568 & 0.9508 & 1.1237 & ADAM9\\_ITGB1 \\\\\n",
       "\t9 & PSEN1 & CDH1 & 0.573752 & 0.7368 & 0.8122 & PSEN1\\_CDH1 \\\\\n",
       "\t10 & RTN4 & CD99 & 0.56588 & 0.8991 & 0.9915 & RTN4\\_CD99 \\\\\n",
       "\t11 & LAMB1 & ITGB1 & 0.539863 & 1.1535 & 1.1237 & LAMB1\\_ITGB1 \\\\\n",
       "\t12 & PSEN1 & ITGB1 & 0.519305 & 0.7368 & 1.1237 & PSEN1\\_ITGB1 \\\\\n",
       "\t13 & LAMC2 & ITGB1 & 0.50947 & 1.1017 & 1.1237 & LAMC2\\_ITGB1 \\\\\n",
       "\t14 & COL1A1 & ITGB1 & 0.506127 & 1.9866 & 1.1237 & COL1A1\\_ITGB1 \\\\\n",
       "\t15 & COL18A1 & ITGB1 & 0.488393 & 1.6691 & 1.1237 & COL18A1\\_ITGB1 \\\\\n",
       "\t16 & ADAM15 & ITGB1 & 0.48663 & 0.6197 & 1.1237 & ADAM15\\_ITGB1 \\\\\n",
       "\t17 & GSTP1 & ITGA4 & 0.47953 & 0.7098 & 1.6808 & GSTP1\\_ITGA4 \\\\\n",
       "\t18 & TNC & ITGB1 & 0.457699 & 2.8139 & 1.1237 & TNC\\_ITGB1 \\\\\n",
       "\t19 & EFNB2 & CD99 & 0.455969 & 0.6323 & 0.9915 & EFNB2\\_CD99 \\\\\n",
       "\t20 & ADAM15 & CDH1 & 0.443826 & 0.6197 & 0.8122 & ADAM15\\_CDH1 \\\\\n",
       "\t21 & CALR & CD40 & 0.43929 & 0.8723 & 2.0787 & CALR\\_CD40 \\\\\n",
       "\t22 & RPS19 & ITGA4 & 0.437627 & 0.8499 & 1.6808 & RPS19\\_ITGA4 \\\\\n",
       "\t23 & MMP9 & ITGB1 & 0.411987 & 2.1697 & 1.1237 & MMP9\\_ITGB1 \\\\\n",
       "\t24 & RPS19 & ICAM1 & 0.408517 & 0.8499 & 1.9715 & RPS19\\_ICAM1 \\\\\n",
       "\t$\\dots$ & $\\dots$ & $\\dots$ & $\\dots$ & $\\dots$ & $\\dots$ & $\\dots$ \\\\\n",
       "\\end{tabular}\n"
      ],
      "text/plain": [
       "\u001b[1m43×6 DataFrame\u001b[0m\n",
       "\u001b[1m Row \u001b[0m│\u001b[1m from    \u001b[0m\u001b[1m to     \u001b[0m\u001b[1m correlation \u001b[0m\u001b[1m ligand_FC \u001b[0m\u001b[1m Receptor_FC \u001b[0m\u001b[1m pair          \u001b[0m\n",
       "     │\u001b[90m String  \u001b[0m\u001b[90m String \u001b[0m\u001b[90m Float64     \u001b[0m\u001b[90m Float64   \u001b[0m\u001b[90m Float64     \u001b[0m\u001b[90m String        \u001b[0m\n",
       "─────┼─────────────────────────────────────────────────────────────────────\n",
       "   1 │ COL4A1   ITGB1      0.681179     2.4032       1.1237  COL4A1_ITGB1\n",
       "   2 │ LGALS3   ITGB1      0.677309     0.7695       1.1237  LGALS3_ITGB1\n",
       "   3 │ HSP90B1  ITGB1      0.64627      0.9562       1.1237  HSP90B1_ITGB1\n",
       "   4 │ ADAM9    CDH1       0.63985      0.9508       0.8122  ADAM9_CDH1\n",
       "   5 │ HLA-DRA  PTPRC      0.634468     1.2791       1.6397  HLA-DRA_PTPRC\n",
       "   6 │ AREG     ICAM1      0.624456     1.4834       1.9715  AREG_ICAM1\n",
       "   7 │ HSPG2    ITGB1      0.62099      1.3576       1.1237  HSPG2_ITGB1\n",
       "   8 │ ADAM9    ITGB1      0.60568      0.9508       1.1237  ADAM9_ITGB1\n",
       "  ⋮  │    ⋮       ⋮          ⋮           ⋮           ⋮             ⋮\n",
       "  37 │ ADAM17   ITGB1      0.308816     1.0064       1.1237  ADAM17_ITGB1\n",
       "  38 │ FBN1     ITGB1      0.308436     2.0041       1.1237  FBN1_ITGB1\n",
       "  39 │ LAMB2    ITGB1      0.296145     1.6537       1.1237  LAMB2_ITGB1\n",
       "  40 │ ICAM3    ITGB2      0.288333     0.9176       2.1694  ICAM3_ITGB2\n",
       "  41 │ PTPRC    ITGAL      0.28596      1.6397       1.2148  PTPRC_ITGAL\n",
       "  42 │ EFNB1    CD99       0.253079     0.7063       0.9915  EFNB1_CD99\n",
       "  43 │ THBS1    ITGB1      0.219055     1.6376       1.1237  THBS1_ITGB1\n",
       "\u001b[36m                                                            28 rows omitted\u001b[0m"
      ]
     },
     "metadata": {},
     "output_type": "display_data"
    }
   ],
   "source": [
    "j_only_df = df[in.(df.pair, Ref(j_no_duplicates)), :]"
   ]
  },
  {
   "cell_type": "code",
   "execution_count": null,
   "metadata": {},
   "outputs": [],
   "source": []
  },
  {
   "cell_type": "code",
   "execution_count": null,
   "metadata": {},
   "outputs": [],
   "source": []
  },
  {
   "cell_type": "code",
   "execution_count": 58,
   "metadata": {},
   "outputs": [
    {
     "data": {
      "text/html": [
       "<div><div style = \"float: left;\"><span>3×6 DataFrame</span></div><div style = \"clear: both;\"></div></div><div class = \"data-frame\" style = \"overflow-x: scroll;\"><table class = \"data-frame\" style = \"margin-bottom: 6px;\"><thead><tr class = \"header\"><th class = \"rowNumber\" style = \"font-weight: bold; text-align: right;\">Row</th><th style = \"text-align: left;\">from</th><th style = \"text-align: left;\">to</th><th style = \"text-align: left;\">correlation</th><th style = \"text-align: left;\">ligand_FC</th><th style = \"text-align: left;\">Receptor_FC</th><th style = \"text-align: left;\">pair</th></tr><tr class = \"subheader headerLastRow\"><th class = \"rowNumber\" style = \"font-weight: bold; text-align: right;\"></th><th title = \"String\" style = \"text-align: left;\">String</th><th title = \"String\" style = \"text-align: left;\">String</th><th title = \"Float64\" style = \"text-align: left;\">Float64</th><th title = \"Float64\" style = \"text-align: left;\">Float64</th><th title = \"Float64\" style = \"text-align: left;\">Float64</th><th title = \"String\" style = \"text-align: left;\">String</th></tr></thead><tbody><tr><td class = \"rowNumber\" style = \"font-weight: bold; text-align: right;\">1</td><td style = \"text-align: left;\">C3</td><td style = \"text-align: left;\">CXCR4</td><td style = \"text-align: right;\">0.79157</td><td style = \"text-align: right;\">1.3346</td><td style = \"text-align: right;\">3.3869</td><td style = \"text-align: left;\">C3_CXCR4</td></tr><tr><td class = \"rowNumber\" style = \"font-weight: bold; text-align: right;\">2</td><td style = \"text-align: left;\">CCL19</td><td style = \"text-align: left;\">CXCR4</td><td style = \"text-align: right;\">0.757651</td><td style = \"text-align: right;\">4.2714</td><td style = \"text-align: right;\">3.3869</td><td style = \"text-align: left;\">CCL19_CXCR4</td></tr><tr><td class = \"rowNumber\" style = \"font-weight: bold; text-align: right;\">3</td><td style = \"text-align: left;\">RPS19</td><td style = \"text-align: left;\">RPSA</td><td style = \"text-align: right;\">0.647974</td><td style = \"text-align: right;\">0.5695</td><td style = \"text-align: right;\">0.4499</td><td style = \"text-align: left;\">RPS19_RPSA</td></tr></tbody></table></div>"
      ],
      "text/latex": [
       "\\begin{tabular}{r|cccccc}\n",
       "\t& from & to & correlation & ligand\\_FC & Receptor\\_FC & pair\\\\\n",
       "\t\\hline\n",
       "\t& String & String & Float64 & Float64 & Float64 & String\\\\\n",
       "\t\\hline\n",
       "\t1 & C3 & CXCR4 & 0.79157 & 1.3346 & 3.3869 & C3\\_CXCR4 \\\\\n",
       "\t2 & CCL19 & CXCR4 & 0.757651 & 4.2714 & 3.3869 & CCL19\\_CXCR4 \\\\\n",
       "\t3 & RPS19 & RPSA & 0.647974 & 0.5695 & 0.4499 & RPS19\\_RPSA \\\\\n",
       "\\end{tabular}\n"
      ],
      "text/plain": [
       "\u001b[1m3×6 DataFrame\u001b[0m\n",
       "\u001b[1m Row \u001b[0m│\u001b[1m from   \u001b[0m\u001b[1m to     \u001b[0m\u001b[1m correlation \u001b[0m\u001b[1m ligand_FC \u001b[0m\u001b[1m Receptor_FC \u001b[0m\u001b[1m pair        \u001b[0m\n",
       "     │\u001b[90m String \u001b[0m\u001b[90m String \u001b[0m\u001b[90m Float64     \u001b[0m\u001b[90m Float64   \u001b[0m\u001b[90m Float64     \u001b[0m\u001b[90m String      \u001b[0m\n",
       "─────┼──────────────────────────────────────────────────────────────────\n",
       "   1 │ C3      CXCR4      0.79157      1.3346       3.3869  C3_CXCR4\n",
       "   2 │ CCL19   CXCR4      0.757651     4.2714       3.3869  CCL19_CXCR4\n",
       "   3 │ RPS19   RPSA       0.647974     0.5695       0.4499  RPS19_RPSA"
      ]
     },
     "metadata": {},
     "output_type": "display_data"
    }
   ],
   "source": [
    "out[\"enriched_LRs\"]"
   ]
  },
  {
   "cell_type": "code",
   "execution_count": 19,
   "metadata": {},
   "outputs": [
    {
     "data": {
      "text/html": [
       "<div><div style = \"float: left;\"><span>3×6 DataFrame</span></div><div style = \"clear: both;\"></div></div><div class = \"data-frame\" style = \"overflow-x: scroll;\"><table class = \"data-frame\" style = \"margin-bottom: 6px;\"><thead><tr class = \"header\"><th class = \"rowNumber\" style = \"font-weight: bold; text-align: right;\">Row</th><th style = \"text-align: left;\">from</th><th style = \"text-align: left;\">to</th><th style = \"text-align: left;\">correlation</th><th style = \"text-align: left;\">ligand_FC</th><th style = \"text-align: left;\">Receptor_FC</th><th style = \"text-align: left;\">pair</th></tr><tr class = \"subheader headerLastRow\"><th class = \"rowNumber\" style = \"font-weight: bold; text-align: right;\"></th><th title = \"String\" style = \"text-align: left;\">String</th><th title = \"String\" style = \"text-align: left;\">String</th><th title = \"Float64\" style = \"text-align: left;\">Float64</th><th title = \"Float64\" style = \"text-align: left;\">Float64</th><th title = \"Float64\" style = \"text-align: left;\">Float64</th><th title = \"String\" style = \"text-align: left;\">String</th></tr></thead><tbody><tr><td class = \"rowNumber\" style = \"font-weight: bold; text-align: right;\">1</td><td style = \"text-align: left;\">C3</td><td style = \"text-align: left;\">CXCR4</td><td style = \"text-align: right;\">0.79157</td><td style = \"text-align: right;\">1.3346</td><td style = \"text-align: right;\">3.3869</td><td style = \"text-align: left;\">C3_CXCR4</td></tr><tr><td class = \"rowNumber\" style = \"font-weight: bold; text-align: right;\">2</td><td style = \"text-align: left;\">CCL19</td><td style = \"text-align: left;\">CXCR4</td><td style = \"text-align: right;\">0.757651</td><td style = \"text-align: right;\">4.2714</td><td style = \"text-align: right;\">3.3869</td><td style = \"text-align: left;\">CCL19_CXCR4</td></tr><tr><td class = \"rowNumber\" style = \"font-weight: bold; text-align: right;\">3</td><td style = \"text-align: left;\">RPS19</td><td style = \"text-align: left;\">RPSA</td><td style = \"text-align: right;\">0.647974</td><td style = \"text-align: right;\">0.5695</td><td style = \"text-align: right;\">0.4499</td><td style = \"text-align: left;\">RPS19_RPSA</td></tr></tbody></table></div>"
      ],
      "text/latex": [
       "\\begin{tabular}{r|cccccc}\n",
       "\t& from & to & correlation & ligand\\_FC & Receptor\\_FC & pair\\\\\n",
       "\t\\hline\n",
       "\t& String & String & Float64 & Float64 & Float64 & String\\\\\n",
       "\t\\hline\n",
       "\t1 & C3 & CXCR4 & 0.79157 & 1.3346 & 3.3869 & C3\\_CXCR4 \\\\\n",
       "\t2 & CCL19 & CXCR4 & 0.757651 & 4.2714 & 3.3869 & CCL19\\_CXCR4 \\\\\n",
       "\t3 & RPS19 & RPSA & 0.647974 & 0.5695 & 0.4499 & RPS19\\_RPSA \\\\\n",
       "\\end{tabular}\n"
      ],
      "text/plain": [
       "\u001b[1m3×6 DataFrame\u001b[0m\n",
       "\u001b[1m Row \u001b[0m│\u001b[1m from   \u001b[0m\u001b[1m to     \u001b[0m\u001b[1m correlation \u001b[0m\u001b[1m ligand_FC \u001b[0m\u001b[1m Receptor_FC \u001b[0m\u001b[1m pair        \u001b[0m\n",
       "     │\u001b[90m String \u001b[0m\u001b[90m String \u001b[0m\u001b[90m Float64     \u001b[0m\u001b[90m Float64   \u001b[0m\u001b[90m Float64     \u001b[0m\u001b[90m String      \u001b[0m\n",
       "─────┼──────────────────────────────────────────────────────────────────\n",
       "   1 │ C3      CXCR4      0.79157      1.3346       3.3869  C3_CXCR4\n",
       "   2 │ CCL19   CXCR4      0.757651     4.2714       3.3869  CCL19_CXCR4\n",
       "   3 │ RPS19   RPSA       0.647974     0.5695       0.4499  RPS19_RPSA"
      ]
     },
     "metadata": {},
     "output_type": "display_data"
    }
   ],
   "source": [
    "out[\"enriched_LRs\"]"
   ]
  },
  {
   "cell_type": "code",
   "execution_count": null,
   "metadata": {},
   "outputs": [],
   "source": []
  },
  {
   "cell_type": "code",
   "execution_count": null,
   "metadata": {},
   "outputs": [],
   "source": []
  },
  {
   "cell_type": "code",
   "execution_count": null,
   "metadata": {},
   "outputs": [],
   "source": [
    "df = DataFrame(label=String[], time=Float64[])\n",
    "\n",
    "for endi in [500, 1000, 1500, 2000, 3000, 5000, 8000]\n",
    "    for i in 1:20\n",
    "        t = @elapsed main(all_LR_network, endindex = endi)\n",
    "        push!(df, [\"0:$endi\", t])\n",
    "    end\n",
    "end"
   ]
  },
  {
   "cell_type": "code",
   "execution_count": 7,
   "metadata": {},
   "outputs": [
    {
     "data": {
      "text/html": [
       "<div><div style = \"float: left;\"><span>7×2 DataFrame</span></div><div style = \"clear: both;\"></div></div><div class = \"data-frame\" style = \"overflow-x: scroll;\"><table class = \"data-frame\" style = \"margin-bottom: 6px;\"><thead><tr class = \"header\"><th class = \"rowNumber\" style = \"font-weight: bold; text-align: right;\">Row</th><th style = \"text-align: left;\">label</th><th style = \"text-align: left;\">time_mean</th></tr><tr class = \"subheader headerLastRow\"><th class = \"rowNumber\" style = \"font-weight: bold; text-align: right;\"></th><th title = \"String\" style = \"text-align: left;\">String</th><th title = \"Float64\" style = \"text-align: left;\">Float64</th></tr></thead><tbody><tr><td class = \"rowNumber\" style = \"font-weight: bold; text-align: right;\">1</td><td style = \"text-align: left;\">0:500</td><td style = \"text-align: right;\">0.108225</td></tr><tr><td class = \"rowNumber\" style = \"font-weight: bold; text-align: right;\">2</td><td style = \"text-align: left;\">0:1000</td><td style = \"text-align: right;\">0.206401</td></tr><tr><td class = \"rowNumber\" style = \"font-weight: bold; text-align: right;\">3</td><td style = \"text-align: left;\">0:1500</td><td style = \"text-align: right;\">0.338295</td></tr><tr><td class = \"rowNumber\" style = \"font-weight: bold; text-align: right;\">4</td><td style = \"text-align: left;\">0:2000</td><td style = \"text-align: right;\">0.475303</td></tr><tr><td class = \"rowNumber\" style = \"font-weight: bold; text-align: right;\">5</td><td style = \"text-align: left;\">0:3000</td><td style = \"text-align: right;\">0.503264</td></tr><tr><td class = \"rowNumber\" style = \"font-weight: bold; text-align: right;\">6</td><td style = \"text-align: left;\">0:5000</td><td style = \"text-align: right;\">0.489117</td></tr><tr><td class = \"rowNumber\" style = \"font-weight: bold; text-align: right;\">7</td><td style = \"text-align: left;\">0:8000</td><td style = \"text-align: right;\">0.497635</td></tr></tbody></table></div>"
      ],
      "text/latex": [
       "\\begin{tabular}{r|cc}\n",
       "\t& label & time\\_mean\\\\\n",
       "\t\\hline\n",
       "\t& String & Float64\\\\\n",
       "\t\\hline\n",
       "\t1 & 0:500 & 0.108225 \\\\\n",
       "\t2 & 0:1000 & 0.206401 \\\\\n",
       "\t3 & 0:1500 & 0.338295 \\\\\n",
       "\t4 & 0:2000 & 0.475303 \\\\\n",
       "\t5 & 0:3000 & 0.503264 \\\\\n",
       "\t6 & 0:5000 & 0.489117 \\\\\n",
       "\t7 & 0:8000 & 0.497635 \\\\\n",
       "\\end{tabular}\n"
      ],
      "text/plain": [
       "\u001b[1m7×2 DataFrame\u001b[0m\n",
       "\u001b[1m Row \u001b[0m│\u001b[1m label  \u001b[0m\u001b[1m time_mean \u001b[0m\n",
       "     │\u001b[90m String \u001b[0m\u001b[90m Float64   \u001b[0m\n",
       "─────┼───────────────────\n",
       "   1 │ 0:500    0.108225\n",
       "   2 │ 0:1000   0.206401\n",
       "   3 │ 0:1500   0.338295\n",
       "   4 │ 0:2000   0.475303\n",
       "   5 │ 0:3000   0.503264\n",
       "   6 │ 0:5000   0.489117\n",
       "   7 │ 0:8000   0.497635"
      ]
     },
     "metadata": {},
     "output_type": "display_data"
    }
   ],
   "source": [
    "df_mean = combine(groupby(df, :label), :time => mean)\n",
    "# df_mean[!, :lang] .= \"Julia\"\n",
    "df_mean"
   ]
  },
  {
   "cell_type": "code",
   "execution_count": 8,
   "metadata": {},
   "outputs": [
    {
     "data": {
      "text/html": [
       "<div><div style = \"float: left;\"><span>7×4 DataFrame</span></div><div style = \"clear: both;\"></div></div><div class = \"data-frame\" style = \"overflow-x: scroll;\"><table class = \"data-frame\" style = \"margin-bottom: 6px;\"><thead><tr class = \"header\"><th class = \"rowNumber\" style = \"font-weight: bold; text-align: right;\">Row</th><th style = \"text-align: left;\">label</th><th style = \"text-align: left;\">time_mean</th><th style = \"text-align: left;\">r_mean</th><th style = \"text-align: left;\">speedup</th></tr><tr class = \"subheader headerLastRow\"><th class = \"rowNumber\" style = \"font-weight: bold; text-align: right;\"></th><th title = \"String\" style = \"text-align: left;\">String</th><th title = \"Float64\" style = \"text-align: left;\">Float64</th><th title = \"Float64\" style = \"text-align: left;\">Float64</th><th title = \"Float64\" style = \"text-align: left;\">Float64</th></tr></thead><tbody><tr><td class = \"rowNumber\" style = \"font-weight: bold; text-align: right;\">1</td><td style = \"text-align: left;\">0:500</td><td style = \"text-align: right;\">0.108225</td><td style = \"text-align: right;\">65.32</td><td style = \"text-align: right;\">603.557</td></tr><tr><td class = \"rowNumber\" style = \"font-weight: bold; text-align: right;\">2</td><td style = \"text-align: left;\">0:1000</td><td style = \"text-align: right;\">0.206401</td><td style = \"text-align: right;\">147.86</td><td style = \"text-align: right;\">716.373</td></tr><tr><td class = \"rowNumber\" style = \"font-weight: bold; text-align: right;\">3</td><td style = \"text-align: left;\">0:1500</td><td style = \"text-align: right;\">0.338295</td><td style = \"text-align: right;\">253.047</td><td style = \"text-align: right;\">748.009</td></tr><tr><td class = \"rowNumber\" style = \"font-weight: bold; text-align: right;\">4</td><td style = \"text-align: left;\">0:2000</td><td style = \"text-align: right;\">0.475303</td><td style = \"text-align: right;\">258.491</td><td style = \"text-align: right;\">543.845</td></tr><tr><td class = \"rowNumber\" style = \"font-weight: bold; text-align: right;\">5</td><td style = \"text-align: left;\">0:3000</td><td style = \"text-align: right;\">0.503264</td><td style = \"text-align: right;\">263.814</td><td style = \"text-align: right;\">524.205</td></tr><tr><td class = \"rowNumber\" style = \"font-weight: bold; text-align: right;\">6</td><td style = \"text-align: left;\">0:5000</td><td style = \"text-align: right;\">0.489117</td><td style = \"text-align: right;\">379.282</td><td style = \"text-align: right;\">775.442</td></tr><tr><td class = \"rowNumber\" style = \"font-weight: bold; text-align: right;\">7</td><td style = \"text-align: left;\">0:8000</td><td style = \"text-align: right;\">0.497635</td><td style = \"text-align: right;\">535.445</td><td style = \"text-align: right;\">1075.98</td></tr></tbody></table></div>"
      ],
      "text/latex": [
       "\\begin{tabular}{r|cccc}\n",
       "\t& label & time\\_mean & r\\_mean & speedup\\\\\n",
       "\t\\hline\n",
       "\t& String & Float64 & Float64 & Float64\\\\\n",
       "\t\\hline\n",
       "\t1 & 0:500 & 0.108225 & 65.32 & 603.557 \\\\\n",
       "\t2 & 0:1000 & 0.206401 & 147.86 & 716.373 \\\\\n",
       "\t3 & 0:1500 & 0.338295 & 253.047 & 748.009 \\\\\n",
       "\t4 & 0:2000 & 0.475303 & 258.491 & 543.845 \\\\\n",
       "\t5 & 0:3000 & 0.503264 & 263.814 & 524.205 \\\\\n",
       "\t6 & 0:5000 & 0.489117 & 379.282 & 775.442 \\\\\n",
       "\t7 & 0:8000 & 0.497635 & 535.445 & 1075.98 \\\\\n",
       "\\end{tabular}\n"
      ],
      "text/plain": [
       "\u001b[1m7×4 DataFrame\u001b[0m\n",
       "\u001b[1m Row \u001b[0m│\u001b[1m label  \u001b[0m\u001b[1m time_mean \u001b[0m\u001b[1m r_mean  \u001b[0m\u001b[1m speedup  \u001b[0m\n",
       "     │\u001b[90m String \u001b[0m\u001b[90m Float64   \u001b[0m\u001b[90m Float64 \u001b[0m\u001b[90m Float64  \u001b[0m\n",
       "─────┼──────────────────────────────────────\n",
       "   1 │ 0:500    0.108225   65.32    603.557\n",
       "   2 │ 0:1000   0.206401  147.86    716.373\n",
       "   3 │ 0:1500   0.338295  253.047   748.009\n",
       "   4 │ 0:2000   0.475303  258.491   543.845\n",
       "   5 │ 0:3000   0.503264  263.814   524.205\n",
       "   6 │ 0:5000   0.489117  379.282   775.442\n",
       "   7 │ 0:8000   0.497635  535.445  1075.98"
      ]
     },
     "metadata": {},
     "output_type": "display_data"
    }
   ],
   "source": [
    "df_mean[!, :r_mean] = [65.32004, 147.86019, 253.04721, 258.49103, 263.81379, 379.28183, 535.44503]\n",
    "df_mean[!, :speedup] .= df_mean.r_mean ./ df_mean.time_mean\n",
    "df_mean"
   ]
  },
  {
   "cell_type": "code",
   "execution_count": 9,
   "metadata": {},
   "outputs": [],
   "source": [
    "# # Results from R benchmark\n",
    "# r_scores = [65.32004, 147.86019, 253.04721, 258.49103, 263.81379, 379.28183, 535.44503]\n",
    "# labels = df_mean[!, :label]\n",
    "# for i in 1:length(labels)\n",
    "#     push!(df_mean, [labels[i], r_scores[i], \"R\"])\n",
    "# end\n",
    "# df_mean"
   ]
  },
  {
   "cell_type": "code",
   "execution_count": 10,
   "metadata": {},
   "outputs": [],
   "source": [
    "# @df df_mean groupedhist(:time_mean, group = :lang, bar_position = :dodge)"
   ]
  },
  {
   "cell_type": "code",
   "execution_count": 11,
   "metadata": {},
   "outputs": [],
   "source": [
    "# groupedbar(df_mean[!, :label], df_mean[!, :time_mean], group = df_mean[!, :lang], xlabel = \"Groups\", ylabel = \"Scores\",\n",
    "#         title = \"Scores by group and category\", bar_width = 0.67,\n",
    "#         lw = 0, framestyle = :box)"
   ]
  },
  {
   "cell_type": "code",
   "execution_count": 12,
   "metadata": {},
   "outputs": [],
   "source": []
  },
  {
   "cell_type": "code",
   "execution_count": 13,
   "metadata": {},
   "outputs": [],
   "source": []
  },
  {
   "cell_type": "code",
   "execution_count": 14,
   "metadata": {},
   "outputs": [],
   "source": []
  }
 ],
 "metadata": {
  "kernelspec": {
   "display_name": "Julia 1.9.3",
   "language": "julia",
   "name": "julia-1.9"
  },
  "language_info": {
   "file_extension": ".jl",
   "mimetype": "application/julia",
   "name": "julia",
   "version": "1.9.3"
  },
  "orig_nbformat": 4
 },
 "nbformat": 4,
 "nbformat_minor": 2
}
