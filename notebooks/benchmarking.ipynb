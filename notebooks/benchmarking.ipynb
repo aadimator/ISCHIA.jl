{
 "cells": [
  {
   "cell_type": "code",
   "execution_count": 51,
   "metadata": {},
   "outputs": [],
   "source": [
    "using Muon\n",
    "using RData\n",
    "using Revise\n",
    "using ISCHIA\n",
    "using DataFrames\n",
    "using Statistics\n",
    "using Combinatorics"
   ]
  },
  {
   "cell_type": "code",
   "execution_count": 52,
   "metadata": {},
   "outputs": [
    {
     "data": {
      "text/plain": [
       "MuData object 2185 ✕ 55545\n",
       "└ Predictions\n",
       "  AnnData object 2185 ✕ 34\n",
       "└ Spatial\n",
       "  AnnData object 2185 ✕ 36601\n",
       "└ SCT\n",
       "  AnnData object 2185 ✕ 18910"
      ]
     },
     "metadata": {},
     "output_type": "display_data"
    }
   ],
   "source": [
    "mdata = readh5mu(\"../data/mudata.h5mu\")\n",
    "lr_network = load(\"../data/lr_network.rds\")\n",
    "\n",
    "mdata"
   ]
  },
  {
   "cell_type": "code",
   "execution_count": 53,
   "metadata": {},
   "outputs": [],
   "source": [
    "gene_names = mdata[\"Spatial\"].var.name\n",
    "mdata[\"Spatial\"].var_names = gene_names\n",
    "\n",
    "# Create LR_Pairs column\n",
    "lr_network[!, :LR_Pairs] = string.(lr_network.from, \"_\", lr_network.to);\n",
    "lr_network = lr_network[:, [:from, :to, :LR_Pairs]]\n",
    "\n",
    "# Filter lr_network based on conditions\n",
    "from_filter = in.(lr_network[:, :from], Ref(gene_names))\n",
    "to_filter = in.(lr_network[:, :to], Ref(gene_names))\n",
    "all_LR_network = lr_network[from_filter .& to_filter, :];"
   ]
  },
  {
   "cell_type": "code",
   "execution_count": 54,
   "metadata": {},
   "outputs": [
    {
     "data": {
      "text/plain": [
       "main (generic function with 1 method)"
      ]
     },
     "metadata": {},
     "output_type": "display_data"
    }
   ],
   "source": [
    "function main(all_LR_network; startindex = 1, endindex = 500)\n",
    "    # To reduce the computation time for this example, we randomly sample from the whole dataset of LR interactions\n",
    "\n",
    "    # all_LR_network = all_LR_network[shuffle(1:size(all_LR_network_exp, 1)), :]\n",
    "    all_LR_network = all_LR_network[startindex:min(endindex, end), :]\n",
    "\n",
    "    # Extract unique genes and common genes\n",
    "    all_LR_genes = unique(vcat(all_LR_network[:, :from], all_LR_network[:, :to]))\n",
    "    all_LR_genes_comm = intersect(all_LR_genes, collect(gene_names));\n",
    "\n",
    "    # Create LR.pairs and LR.pairs.AllCombos\n",
    "    LR_pairs = all_LR_network[:, :LR_Pairs]\n",
    "    all_combos = [join(combo, \"_\") for combo in combinations(all_LR_genes_comm, 2)];\n",
    "\n",
    "    spatial_object = mdata[\"Spatial\"]\n",
    "    COI = [\"CC4\"]\n",
    "    Condition = unique(spatial_object.obs[!, \"orig.ident\"])\n",
    "    LR_list = all_LR_genes_comm\n",
    "    LR_pairs = LR_pairs\n",
    "    exp_th = 1\n",
    "    corr_th = 0.2\n",
    "\n",
    "    out = enriched_LRs_refactored(spatial_object, COI, Condition, LR_list, LR_pairs, exp_th, corr_th)\n",
    "\n",
    "    return out\n",
    "end"
   ]
  },
  {
   "cell_type": "code",
   "execution_count": 55,
   "metadata": {},
   "outputs": [],
   "source": [
    "# @time main(all_LR_network, endindex=8000)\n",
    "# 6 sec for CC7"
   ]
  },
  {
   "cell_type": "code",
   "execution_count": 57,
   "metadata": {},
   "outputs": [
    {
     "name": "stdout",
     "output_type": "stream",
     "text": [
      "Preparing L-R presence/absence matrix\n",
      "Calculating L-R pairs correlation\n",
      "Preparing for cooccurrence\n"
     ]
    },
    {
     "name": "stderr",
     "output_type": "stream",
     "text": [
      "\r\u001b[32mCalculate Co-occurrences  45%|█████████████              |  ETA: 0:00:00\u001b[39m\u001b[K"
     ]
    },
    {
     "name": "stderr",
     "output_type": "stream",
     "text": [
      "\r\u001b[32mCalculate Co-occurrences 100%|███████████████████████████| Time: 0:00:00\u001b[39m\u001b[K\n"
     ]
    },
    {
     "name": "stdout",
     "output_type": "stream",
     "text": [
      "Cooccurrence calculation starts...\n",
      "Cooccurrence calculation ended\n",
      "\n",
      "Summary of cooccurrence results:\n",
      "Of 171991 species pair combinations, 171715 pairs (99.84%) were removed from the analysis because expected co-occurrence was < 1 and\n",
      "276 pairs were analyzed\n",
      "\n",
      "Cooccurrence Summary:\n",
      "\n",
      "Species => 587\n",
      "Non-random (%) => 12.0\n",
      "Sites => 14\n",
      "Negative => 0\n",
      "Random => 196\n",
      "Positive => 33\n",
      "Unclassifiable => 47\n",
      "\n",
      "Probability table of cooccurrence results:\n"
     ]
    },
    {
     "data": {
      "text/html": [
       "<div><div style = \"float: left;\"><span>276×11 DataFrame</span></div><div style = \"float: right;\"><span style = \"font-style: italic;\">251 rows omitted</span></div><div style = \"clear: both;\"></div></div><div class = \"data-frame\" style = \"overflow-x: scroll;\"><table class = \"data-frame\" style = \"margin-bottom: 6px;\"><thead><tr class = \"header\"><th class = \"rowNumber\" style = \"font-weight: bold; text-align: right;\">Row</th><th style = \"text-align: left;\">sp1</th><th style = \"text-align: left;\">sp2</th><th style = \"text-align: left;\">sp1_inc</th><th style = \"text-align: left;\">sp2_inc</th><th style = \"text-align: left;\">obs_cooccur</th><th style = \"text-align: left;\">prob_cooccur</th><th style = \"text-align: left;\">exp_cooccur</th><th style = \"text-align: left;\">p_lt</th><th style = \"text-align: left;\">p_gt</th><th style = \"text-align: left;\">sp1_name</th><th style = \"text-align: left;\">sp2_name</th></tr><tr class = \"subheader headerLastRow\"><th class = \"rowNumber\" style = \"font-weight: bold; text-align: right;\"></th><th title = \"Integer\" style = \"text-align: left;\">Integer</th><th title = \"Integer\" style = \"text-align: left;\">Integer</th><th title = \"Integer\" style = \"text-align: left;\">Integer</th><th title = \"Integer\" style = \"text-align: left;\">Integer</th><th title = \"Integer\" style = \"text-align: left;\">Integer</th><th title = \"Real\" style = \"text-align: left;\">Real</th><th title = \"Real\" style = \"text-align: left;\">Real</th><th title = \"Real\" style = \"text-align: left;\">Real</th><th title = \"Real\" style = \"text-align: left;\">Real</th><th title = \"Union{Missing, String}\" style = \"text-align: left;\">String?</th><th title = \"Union{Missing, String}\" style = \"text-align: left;\">String?</th></tr></thead><tbody><tr><td class = \"rowNumber\" style = \"font-weight: bold; text-align: right;\">1</td><td style = \"text-align: right;\">71</td><td style = \"text-align: right;\">121</td><td style = \"text-align: right;\">3</td><td style = \"text-align: right;\">5</td><td style = \"text-align: right;\">3</td><td style = \"text-align: right;\">0.077</td><td style = \"text-align: right;\">1.1</td><td style = \"text-align: right;\">1.0</td><td style = \"text-align: right;\">0.02747</td><td style = \"text-align: left;\">CALM2</td><td style = \"text-align: left;\">RPSA</td></tr><tr><td class = \"rowNumber\" style = \"font-weight: bold; text-align: right;\">2</td><td style = \"text-align: right;\">71</td><td style = \"text-align: right;\">226</td><td style = \"text-align: right;\">3</td><td style = \"text-align: right;\">9</td><td style = \"text-align: right;\">3</td><td style = \"text-align: right;\">0.138</td><td style = \"text-align: right;\">1.9</td><td style = \"text-align: right;\">1.0</td><td style = \"text-align: right;\">0.23077</td><td style = \"text-align: left;\">CALM2</td><td style = \"text-align: left;\">HLA-A</td></tr><tr><td class = \"rowNumber\" style = \"font-weight: bold; text-align: right;\">3</td><td style = \"text-align: right;\">71</td><td style = \"text-align: right;\">227</td><td style = \"text-align: right;\">3</td><td style = \"text-align: right;\">6</td><td style = \"text-align: right;\">2</td><td style = \"text-align: right;\">0.092</td><td style = \"text-align: right;\">1.3</td><td style = \"text-align: right;\">0.94505</td><td style = \"text-align: right;\">0.38462</td><td style = \"text-align: left;\">CALM2</td><td style = \"text-align: left;\">HLA-E</td></tr><tr><td class = \"rowNumber\" style = \"font-weight: bold; text-align: right;\">4</td><td style = \"text-align: right;\">71</td><td style = \"text-align: right;\">229</td><td style = \"text-align: right;\">3</td><td style = \"text-align: right;\">7</td><td style = \"text-align: right;\">3</td><td style = \"text-align: right;\">0.107</td><td style = \"text-align: right;\">1.5</td><td style = \"text-align: right;\">1.0</td><td style = \"text-align: right;\">0.09615</td><td style = \"text-align: left;\">CALM2</td><td style = \"text-align: left;\">HLA-C</td></tr><tr><td class = \"rowNumber\" style = \"font-weight: bold; text-align: right;\">5</td><td style = \"text-align: right;\">71</td><td style = \"text-align: right;\">230</td><td style = \"text-align: right;\">3</td><td style = \"text-align: right;\">11</td><td style = \"text-align: right;\">3</td><td style = \"text-align: right;\">0.168</td><td style = \"text-align: right;\">2.4</td><td style = \"text-align: right;\">1.0</td><td style = \"text-align: right;\">0.4533</td><td style = \"text-align: left;\">CALM2</td><td style = \"text-align: left;\">HLA-B</td></tr><tr><td class = \"rowNumber\" style = \"font-weight: bold; text-align: right;\">6</td><td style = \"text-align: right;\">71</td><td style = \"text-align: right;\">233</td><td style = \"text-align: right;\">3</td><td style = \"text-align: right;\">9</td><td style = \"text-align: right;\">3</td><td style = \"text-align: right;\">0.138</td><td style = \"text-align: right;\">1.9</td><td style = \"text-align: right;\">1.0</td><td style = \"text-align: right;\">0.23077</td><td style = \"text-align: left;\">CALM2</td><td style = \"text-align: left;\">HLA-DRA</td></tr><tr><td class = \"rowNumber\" style = \"font-weight: bold; text-align: right;\">7</td><td style = \"text-align: right;\">71</td><td style = \"text-align: right;\">238</td><td style = \"text-align: right;\">3</td><td style = \"text-align: right;\">7</td><td style = \"text-align: right;\">2</td><td style = \"text-align: right;\">0.107</td><td style = \"text-align: right;\">1.5</td><td style = \"text-align: right;\">0.90385</td><td style = \"text-align: right;\">0.5</td><td style = \"text-align: left;\">CALM2</td><td style = \"text-align: left;\">CD24</td></tr><tr><td class = \"rowNumber\" style = \"font-weight: bold; text-align: right;\">8</td><td style = \"text-align: right;\">71</td><td style = \"text-align: right;\">267</td><td style = \"text-align: right;\">3</td><td style = \"text-align: right;\">6</td><td style = \"text-align: right;\">3</td><td style = \"text-align: right;\">0.092</td><td style = \"text-align: right;\">1.3</td><td style = \"text-align: right;\">1.0</td><td style = \"text-align: right;\">0.05495</td><td style = \"text-align: left;\">CALM2</td><td style = \"text-align: left;\">NAMPT</td></tr><tr><td class = \"rowNumber\" style = \"font-weight: bold; text-align: right;\">9</td><td style = \"text-align: right;\">71</td><td style = \"text-align: right;\">306</td><td style = \"text-align: right;\">3</td><td style = \"text-align: right;\">5</td><td style = \"text-align: right;\">2</td><td style = \"text-align: right;\">0.077</td><td style = \"text-align: right;\">1.1</td><td style = \"text-align: right;\">0.97253</td><td style = \"text-align: right;\">0.27473</td><td style = \"text-align: left;\">CALM2</td><td style = \"text-align: left;\">CCL21</td></tr><tr><td class = \"rowNumber\" style = \"font-weight: bold; text-align: right;\">10</td><td style = \"text-align: right;\">71</td><td style = \"text-align: right;\">433</td><td style = \"text-align: right;\">3</td><td style = \"text-align: right;\">8</td><td style = \"text-align: right;\">2</td><td style = \"text-align: right;\">0.122</td><td style = \"text-align: right;\">1.7</td><td style = \"text-align: right;\">0.84615</td><td style = \"text-align: right;\">0.61538</td><td style = \"text-align: left;\">CALM2</td><td style = \"text-align: left;\">THBS1</td></tr><tr><td class = \"rowNumber\" style = \"font-weight: bold; text-align: right;\">11</td><td style = \"text-align: right;\">71</td><td style = \"text-align: right;\">514</td><td style = \"text-align: right;\">3</td><td style = \"text-align: right;\">5</td><td style = \"text-align: right;\">3</td><td style = \"text-align: right;\">0.077</td><td style = \"text-align: right;\">1.1</td><td style = \"text-align: right;\">1.0</td><td style = \"text-align: right;\">0.02747</td><td style = \"text-align: left;\">CALM2</td><td style = \"text-align: left;\">C3</td></tr><tr><td class = \"rowNumber\" style = \"font-weight: bold; text-align: right;\">12</td><td style = \"text-align: right;\">71</td><td style = \"text-align: right;\">531</td><td style = \"text-align: right;\">3</td><td style = \"text-align: right;\">7</td><td style = \"text-align: right;\">3</td><td style = \"text-align: right;\">0.107</td><td style = \"text-align: right;\">1.5</td><td style = \"text-align: right;\">1.0</td><td style = \"text-align: right;\">0.09615</td><td style = \"text-align: left;\">CALM2</td><td style = \"text-align: left;\">RPS19</td></tr><tr><td class = \"rowNumber\" style = \"font-weight: bold; text-align: right;\">13</td><td style = \"text-align: right;\">88</td><td style = \"text-align: right;\">121</td><td style = \"text-align: right;\">4</td><td style = \"text-align: right;\">5</td><td style = \"text-align: right;\">3</td><td style = \"text-align: right;\">0.102</td><td style = \"text-align: right;\">1.4</td><td style = \"text-align: right;\">0.995</td><td style = \"text-align: right;\">0.09491</td><td style = \"text-align: left;\">CXCR4</td><td style = \"text-align: left;\">RPSA</td></tr><tr><td style = \"text-align: right;\">&vellip;</td><td style = \"text-align: right;\">&vellip;</td><td style = \"text-align: right;\">&vellip;</td><td style = \"text-align: right;\">&vellip;</td><td style = \"text-align: right;\">&vellip;</td><td style = \"text-align: right;\">&vellip;</td><td style = \"text-align: right;\">&vellip;</td><td style = \"text-align: right;\">&vellip;</td><td style = \"text-align: right;\">&vellip;</td><td style = \"text-align: right;\">&vellip;</td><td style = \"text-align: right;\">&vellip;</td><td style = \"text-align: right;\">&vellip;</td></tr><tr><td class = \"rowNumber\" style = \"font-weight: bold; text-align: right;\">265</td><td style = \"text-align: right;\">433</td><td style = \"text-align: right;\">514</td><td style = \"text-align: right;\">8</td><td style = \"text-align: right;\">5</td><td style = \"text-align: right;\">4</td><td style = \"text-align: right;\">0.204</td><td style = \"text-align: right;\">2.9</td><td style = \"text-align: right;\">0.97203</td><td style = \"text-align: right;\">0.23776</td><td style = \"text-align: left;\">THBS1</td><td style = \"text-align: left;\">C3</td></tr><tr><td class = \"rowNumber\" style = \"font-weight: bold; text-align: right;\">266</td><td style = \"text-align: right;\">433</td><td style = \"text-align: right;\">521</td><td style = \"text-align: right;\">8</td><td style = \"text-align: right;\">3</td><td style = \"text-align: right;\">2</td><td style = \"text-align: right;\">0.122</td><td style = \"text-align: right;\">1.7</td><td style = \"text-align: right;\">0.84615</td><td style = \"text-align: right;\">0.61538</td><td style = \"text-align: left;\">THBS1</td><td style = \"text-align: left;\">CALR</td></tr><tr><td class = \"rowNumber\" style = \"font-weight: bold; text-align: right;\">267</td><td style = \"text-align: right;\">433</td><td style = \"text-align: right;\">531</td><td style = \"text-align: right;\">8</td><td style = \"text-align: right;\">7</td><td style = \"text-align: right;\">4</td><td style = \"text-align: right;\">0.286</td><td style = \"text-align: right;\">4.0</td><td style = \"text-align: right;\">0.70396</td><td style = \"text-align: right;\">0.70396</td><td style = \"text-align: left;\">THBS1</td><td style = \"text-align: left;\">RPS19</td></tr><tr><td class = \"rowNumber\" style = \"font-weight: bold; text-align: right;\">268</td><td style = \"text-align: right;\">433</td><td style = \"text-align: right;\">535</td><td style = \"text-align: right;\">8</td><td style = \"text-align: right;\">2</td><td style = \"text-align: right;\">1</td><td style = \"text-align: right;\">0.082</td><td style = \"text-align: right;\">1.1</td><td style = \"text-align: right;\">0.69231</td><td style = \"text-align: right;\">0.83516</td><td style = \"text-align: left;\">THBS1</td><td style = \"text-align: left;\">APOE</td></tr><tr><td class = \"rowNumber\" style = \"font-weight: bold; text-align: right;\">269</td><td style = \"text-align: right;\">433</td><td style = \"text-align: right;\">557</td><td style = \"text-align: right;\">8</td><td style = \"text-align: right;\">2</td><td style = \"text-align: right;\">2</td><td style = \"text-align: right;\">0.082</td><td style = \"text-align: right;\">1.1</td><td style = \"text-align: right;\">1.0</td><td style = \"text-align: right;\">0.30769</td><td style = \"text-align: left;\">THBS1</td><td style = \"text-align: left;\">TNFRSF6B</td></tr><tr><td class = \"rowNumber\" style = \"font-weight: bold; text-align: right;\">270</td><td style = \"text-align: right;\">433</td><td style = \"text-align: right;\">566</td><td style = \"text-align: right;\">8</td><td style = \"text-align: right;\">2</td><td style = \"text-align: right;\">1</td><td style = \"text-align: right;\">0.082</td><td style = \"text-align: right;\">1.1</td><td style = \"text-align: right;\">0.69231</td><td style = \"text-align: right;\">0.83516</td><td style = \"text-align: left;\">THBS1</td><td style = \"text-align: left;\">COL18A1</td></tr><tr><td class = \"rowNumber\" style = \"font-weight: bold; text-align: right;\">271</td><td style = \"text-align: right;\">514</td><td style = \"text-align: right;\">521</td><td style = \"text-align: right;\">5</td><td style = \"text-align: right;\">3</td><td style = \"text-align: right;\">2</td><td style = \"text-align: right;\">0.077</td><td style = \"text-align: right;\">1.1</td><td style = \"text-align: right;\">0.97253</td><td style = \"text-align: right;\">0.27473</td><td style = \"text-align: left;\">C3</td><td style = \"text-align: left;\">CALR</td></tr><tr><td class = \"rowNumber\" style = \"font-weight: bold; text-align: right;\">272</td><td style = \"text-align: right;\">514</td><td style = \"text-align: right;\">531</td><td style = \"text-align: right;\">5</td><td style = \"text-align: right;\">7</td><td style = \"text-align: right;\">5</td><td style = \"text-align: right;\">0.179</td><td style = \"text-align: right;\">2.5</td><td style = \"text-align: right;\">1.0</td><td style = \"text-align: right;\">0.01049</td><td style = \"text-align: left;\">C3</td><td style = \"text-align: left;\">RPS19</td></tr><tr><td class = \"rowNumber\" style = \"font-weight: bold; text-align: right;\">273</td><td style = \"text-align: right;\">521</td><td style = \"text-align: right;\">531</td><td style = \"text-align: right;\">3</td><td style = \"text-align: right;\">7</td><td style = \"text-align: right;\">2</td><td style = \"text-align: right;\">0.107</td><td style = \"text-align: right;\">1.5</td><td style = \"text-align: right;\">0.90385</td><td style = \"text-align: right;\">0.5</td><td style = \"text-align: left;\">CALR</td><td style = \"text-align: left;\">RPS19</td></tr><tr><td class = \"rowNumber\" style = \"font-weight: bold; text-align: right;\">274</td><td style = \"text-align: right;\">531</td><td style = \"text-align: right;\">535</td><td style = \"text-align: right;\">7</td><td style = \"text-align: right;\">2</td><td style = \"text-align: right;\">2</td><td style = \"text-align: right;\">0.071</td><td style = \"text-align: right;\">1.0</td><td style = \"text-align: right;\">1.0</td><td style = \"text-align: right;\">0.23077</td><td style = \"text-align: left;\">RPS19</td><td style = \"text-align: left;\">APOE</td></tr><tr><td class = \"rowNumber\" style = \"font-weight: bold; text-align: right;\">275</td><td style = \"text-align: right;\">531</td><td style = \"text-align: right;\">557</td><td style = \"text-align: right;\">7</td><td style = \"text-align: right;\">2</td><td style = \"text-align: right;\">1</td><td style = \"text-align: right;\">0.071</td><td style = \"text-align: right;\">1.0</td><td style = \"text-align: right;\">0.76923</td><td style = \"text-align: right;\">0.76923</td><td style = \"text-align: left;\">RPS19</td><td style = \"text-align: left;\">TNFRSF6B</td></tr><tr><td class = \"rowNumber\" style = \"font-weight: bold; text-align: right;\">276</td><td style = \"text-align: right;\">531</td><td style = \"text-align: right;\">566</td><td style = \"text-align: right;\">7</td><td style = \"text-align: right;\">2</td><td style = \"text-align: right;\">2</td><td style = \"text-align: right;\">0.071</td><td style = \"text-align: right;\">1.0</td><td style = \"text-align: right;\">1.0</td><td style = \"text-align: right;\">0.23077</td><td style = \"text-align: left;\">RPS19</td><td style = \"text-align: left;\">COL18A1</td></tr></tbody></table></div>"
      ],
      "text/latex": [
       "\\begin{tabular}{r|ccccccccc}\n",
       "\t& sp1 & sp2 & sp1\\_inc & sp2\\_inc & obs\\_cooccur & prob\\_cooccur & exp\\_cooccur & p\\_lt & \\\\\n",
       "\t\\hline\n",
       "\t& Integer & Integer & Integer & Integer & Integer & Real & Real & Real & \\\\\n",
       "\t\\hline\n",
       "\t1 & 71 & 121 & 3 & 5 & 3 & 0.077 & 1.1 & 1.0 & $\\dots$ \\\\\n",
       "\t2 & 71 & 226 & 3 & 9 & 3 & 0.138 & 1.9 & 1.0 & $\\dots$ \\\\\n",
       "\t3 & 71 & 227 & 3 & 6 & 2 & 0.092 & 1.3 & 0.94505 & $\\dots$ \\\\\n",
       "\t4 & 71 & 229 & 3 & 7 & 3 & 0.107 & 1.5 & 1.0 & $\\dots$ \\\\\n",
       "\t5 & 71 & 230 & 3 & 11 & 3 & 0.168 & 2.4 & 1.0 & $\\dots$ \\\\\n",
       "\t6 & 71 & 233 & 3 & 9 & 3 & 0.138 & 1.9 & 1.0 & $\\dots$ \\\\\n",
       "\t7 & 71 & 238 & 3 & 7 & 2 & 0.107 & 1.5 & 0.90385 & $\\dots$ \\\\\n",
       "\t8 & 71 & 267 & 3 & 6 & 3 & 0.092 & 1.3 & 1.0 & $\\dots$ \\\\\n",
       "\t9 & 71 & 306 & 3 & 5 & 2 & 0.077 & 1.1 & 0.97253 & $\\dots$ \\\\\n",
       "\t10 & 71 & 433 & 3 & 8 & 2 & 0.122 & 1.7 & 0.84615 & $\\dots$ \\\\\n",
       "\t11 & 71 & 514 & 3 & 5 & 3 & 0.077 & 1.1 & 1.0 & $\\dots$ \\\\\n",
       "\t12 & 71 & 531 & 3 & 7 & 3 & 0.107 & 1.5 & 1.0 & $\\dots$ \\\\\n",
       "\t13 & 88 & 121 & 4 & 5 & 3 & 0.102 & 1.4 & 0.995 & $\\dots$ \\\\\n",
       "\t14 & 88 & 225 & 4 & 4 & 3 & 0.082 & 1.1 & 0.999 & $\\dots$ \\\\\n",
       "\t15 & 88 & 226 & 4 & 9 & 4 & 0.184 & 2.6 & 1.0 & $\\dots$ \\\\\n",
       "\t16 & 88 & 227 & 4 & 6 & 3 & 0.122 & 1.7 & 0.98501 & $\\dots$ \\\\\n",
       "\t17 & 88 & 229 & 4 & 7 & 4 & 0.143 & 2.0 & 1.0 & $\\dots$ \\\\\n",
       "\t18 & 88 & 230 & 4 & 11 & 4 & 0.224 & 3.1 & 1.0 & $\\dots$ \\\\\n",
       "\t19 & 88 & 233 & 4 & 9 & 4 & 0.184 & 2.6 & 1.0 & $\\dots$ \\\\\n",
       "\t20 & 88 & 238 & 4 & 7 & 2 & 0.143 & 2.0 & 0.72028 & $\\dots$ \\\\\n",
       "\t21 & 88 & 267 & 4 & 6 & 3 & 0.122 & 1.7 & 0.98501 & $\\dots$ \\\\\n",
       "\t22 & 88 & 305 & 4 & 4 & 3 & 0.082 & 1.1 & 0.999 & $\\dots$ \\\\\n",
       "\t23 & 88 & 306 & 4 & 5 & 3 & 0.102 & 1.4 & 0.995 & $\\dots$ \\\\\n",
       "\t24 & 88 & 334 & 4 & 4 & 2 & 0.082 & 1.1 & 0.95904 & $\\dots$ \\\\\n",
       "\t$\\dots$ & $\\dots$ & $\\dots$ & $\\dots$ & $\\dots$ & $\\dots$ & $\\dots$ & $\\dots$ & $\\dots$ &  \\\\\n",
       "\\end{tabular}\n"
      ],
      "text/plain": [
       "\u001b[1m276×11 DataFrame\u001b[0m\n",
       "\u001b[1m Row \u001b[0m│\u001b[1m sp1     \u001b[0m\u001b[1m sp2     \u001b[0m\u001b[1m sp1_inc \u001b[0m\u001b[1m sp2_inc \u001b[0m\u001b[1m obs_cooccur \u001b[0m\u001b[1m prob_cooccur \u001b[0m\u001b[1m exp_cooc\u001b[0m ⋯\n",
       "     │\u001b[90m Integer \u001b[0m\u001b[90m Integer \u001b[0m\u001b[90m Integer \u001b[0m\u001b[90m Integer \u001b[0m\u001b[90m Integer     \u001b[0m\u001b[90m Real         \u001b[0m\u001b[90m Real    \u001b[0m ⋯\n",
       "─────┼──────────────────────────────────────────────────────────────────────────\n",
       "   1 │      71      121        3        5            3         0.077           ⋯\n",
       "   2 │      71      226        3        9            3         0.138\n",
       "   3 │      71      227        3        6            2         0.092\n",
       "   4 │      71      229        3        7            3         0.107\n",
       "   5 │      71      230        3       11            3         0.168           ⋯\n",
       "   6 │      71      233        3        9            3         0.138\n",
       "   7 │      71      238        3        7            2         0.107\n",
       "   8 │      71      267        3        6            3         0.092\n",
       "  ⋮  │    ⋮        ⋮        ⋮        ⋮          ⋮            ⋮             ⋮   ⋱\n",
       " 270 │     433      566        8        2            1         0.082           ⋯\n",
       " 271 │     514      521        5        3            2         0.077\n",
       " 272 │     514      531        5        7            5         0.179\n",
       " 273 │     521      531        3        7            2         0.107\n",
       " 274 │     531      535        7        2            2         0.071           ⋯\n",
       " 275 │     531      557        7        2            1         0.071\n",
       " 276 │     531      566        7        2            2         0.071\n",
       "\u001b[36m                                                  5 columns and 261 rows omitted\u001b[0m"
      ]
     },
     "metadata": {},
     "output_type": "display_data"
    },
    {
     "name": "stdout",
     "output_type": "stream",
     "text": [
      "1 / 4\n",
      "2 / 4\n",
      "3 / 4\n",
      "4 / 4\n"
     ]
    },
    {
     "data": {
      "text/plain": [
       "Dict{String, Any} with 2 entries:\n",
       "  \"cooccurrence_table\" => CooccurOutput(\u001b[1m276×13 DataFrame\u001b[0m\u001b[0m…\n",
       "  \"enriched_LRs\"       => \u001b[1m3×6 DataFrame\u001b[0m\u001b[0m…"
      ]
     },
     "metadata": {},
     "output_type": "display_data"
    }
   ],
   "source": [
    "out = main(all_LR_network, endindex=8000)"
   ]
  },
  {
   "cell_type": "code",
   "execution_count": 6,
   "metadata": {},
   "outputs": [],
   "source": []
  },
  {
   "cell_type": "code",
   "execution_count": 58,
   "metadata": {},
   "outputs": [
    {
     "data": {
      "text/html": [
       "<div><div style = \"float: left;\"><span>3×6 DataFrame</span></div><div style = \"clear: both;\"></div></div><div class = \"data-frame\" style = \"overflow-x: scroll;\"><table class = \"data-frame\" style = \"margin-bottom: 6px;\"><thead><tr class = \"header\"><th class = \"rowNumber\" style = \"font-weight: bold; text-align: right;\">Row</th><th style = \"text-align: left;\">from</th><th style = \"text-align: left;\">to</th><th style = \"text-align: left;\">correlation</th><th style = \"text-align: left;\">ligand_FC</th><th style = \"text-align: left;\">Receptor_FC</th><th style = \"text-align: left;\">pair</th></tr><tr class = \"subheader headerLastRow\"><th class = \"rowNumber\" style = \"font-weight: bold; text-align: right;\"></th><th title = \"String\" style = \"text-align: left;\">String</th><th title = \"String\" style = \"text-align: left;\">String</th><th title = \"Float64\" style = \"text-align: left;\">Float64</th><th title = \"Float64\" style = \"text-align: left;\">Float64</th><th title = \"Float64\" style = \"text-align: left;\">Float64</th><th title = \"String\" style = \"text-align: left;\">String</th></tr></thead><tbody><tr><td class = \"rowNumber\" style = \"font-weight: bold; text-align: right;\">1</td><td style = \"text-align: left;\">C3</td><td style = \"text-align: left;\">CXCR4</td><td style = \"text-align: right;\">0.79157</td><td style = \"text-align: right;\">1.3346</td><td style = \"text-align: right;\">3.3869</td><td style = \"text-align: left;\">C3_CXCR4</td></tr><tr><td class = \"rowNumber\" style = \"font-weight: bold; text-align: right;\">2</td><td style = \"text-align: left;\">CCL19</td><td style = \"text-align: left;\">CXCR4</td><td style = \"text-align: right;\">0.757651</td><td style = \"text-align: right;\">4.2714</td><td style = \"text-align: right;\">3.3869</td><td style = \"text-align: left;\">CCL19_CXCR4</td></tr><tr><td class = \"rowNumber\" style = \"font-weight: bold; text-align: right;\">3</td><td style = \"text-align: left;\">RPS19</td><td style = \"text-align: left;\">RPSA</td><td style = \"text-align: right;\">0.647974</td><td style = \"text-align: right;\">0.5695</td><td style = \"text-align: right;\">0.4499</td><td style = \"text-align: left;\">RPS19_RPSA</td></tr></tbody></table></div>"
      ],
      "text/latex": [
       "\\begin{tabular}{r|cccccc}\n",
       "\t& from & to & correlation & ligand\\_FC & Receptor\\_FC & pair\\\\\n",
       "\t\\hline\n",
       "\t& String & String & Float64 & Float64 & Float64 & String\\\\\n",
       "\t\\hline\n",
       "\t1 & C3 & CXCR4 & 0.79157 & 1.3346 & 3.3869 & C3\\_CXCR4 \\\\\n",
       "\t2 & CCL19 & CXCR4 & 0.757651 & 4.2714 & 3.3869 & CCL19\\_CXCR4 \\\\\n",
       "\t3 & RPS19 & RPSA & 0.647974 & 0.5695 & 0.4499 & RPS19\\_RPSA \\\\\n",
       "\\end{tabular}\n"
      ],
      "text/plain": [
       "\u001b[1m3×6 DataFrame\u001b[0m\n",
       "\u001b[1m Row \u001b[0m│\u001b[1m from   \u001b[0m\u001b[1m to     \u001b[0m\u001b[1m correlation \u001b[0m\u001b[1m ligand_FC \u001b[0m\u001b[1m Receptor_FC \u001b[0m\u001b[1m pair        \u001b[0m\n",
       "     │\u001b[90m String \u001b[0m\u001b[90m String \u001b[0m\u001b[90m Float64     \u001b[0m\u001b[90m Float64   \u001b[0m\u001b[90m Float64     \u001b[0m\u001b[90m String      \u001b[0m\n",
       "─────┼──────────────────────────────────────────────────────────────────\n",
       "   1 │ C3      CXCR4      0.79157      1.3346       3.3869  C3_CXCR4\n",
       "   2 │ CCL19   CXCR4      0.757651     4.2714       3.3869  CCL19_CXCR4\n",
       "   3 │ RPS19   RPSA       0.647974     0.5695       0.4499  RPS19_RPSA"
      ]
     },
     "metadata": {},
     "output_type": "display_data"
    }
   ],
   "source": [
    "out[\"enriched_LRs\"]"
   ]
  },
  {
   "cell_type": "code",
   "execution_count": 19,
   "metadata": {},
   "outputs": [
    {
     "data": {
      "text/html": [
       "<div><div style = \"float: left;\"><span>3×6 DataFrame</span></div><div style = \"clear: both;\"></div></div><div class = \"data-frame\" style = \"overflow-x: scroll;\"><table class = \"data-frame\" style = \"margin-bottom: 6px;\"><thead><tr class = \"header\"><th class = \"rowNumber\" style = \"font-weight: bold; text-align: right;\">Row</th><th style = \"text-align: left;\">from</th><th style = \"text-align: left;\">to</th><th style = \"text-align: left;\">correlation</th><th style = \"text-align: left;\">ligand_FC</th><th style = \"text-align: left;\">Receptor_FC</th><th style = \"text-align: left;\">pair</th></tr><tr class = \"subheader headerLastRow\"><th class = \"rowNumber\" style = \"font-weight: bold; text-align: right;\"></th><th title = \"String\" style = \"text-align: left;\">String</th><th title = \"String\" style = \"text-align: left;\">String</th><th title = \"Float64\" style = \"text-align: left;\">Float64</th><th title = \"Float64\" style = \"text-align: left;\">Float64</th><th title = \"Float64\" style = \"text-align: left;\">Float64</th><th title = \"String\" style = \"text-align: left;\">String</th></tr></thead><tbody><tr><td class = \"rowNumber\" style = \"font-weight: bold; text-align: right;\">1</td><td style = \"text-align: left;\">C3</td><td style = \"text-align: left;\">CXCR4</td><td style = \"text-align: right;\">0.79157</td><td style = \"text-align: right;\">1.3346</td><td style = \"text-align: right;\">3.3869</td><td style = \"text-align: left;\">C3_CXCR4</td></tr><tr><td class = \"rowNumber\" style = \"font-weight: bold; text-align: right;\">2</td><td style = \"text-align: left;\">CCL19</td><td style = \"text-align: left;\">CXCR4</td><td style = \"text-align: right;\">0.757651</td><td style = \"text-align: right;\">4.2714</td><td style = \"text-align: right;\">3.3869</td><td style = \"text-align: left;\">CCL19_CXCR4</td></tr><tr><td class = \"rowNumber\" style = \"font-weight: bold; text-align: right;\">3</td><td style = \"text-align: left;\">RPS19</td><td style = \"text-align: left;\">RPSA</td><td style = \"text-align: right;\">0.647974</td><td style = \"text-align: right;\">0.5695</td><td style = \"text-align: right;\">0.4499</td><td style = \"text-align: left;\">RPS19_RPSA</td></tr></tbody></table></div>"
      ],
      "text/latex": [
       "\\begin{tabular}{r|cccccc}\n",
       "\t& from & to & correlation & ligand\\_FC & Receptor\\_FC & pair\\\\\n",
       "\t\\hline\n",
       "\t& String & String & Float64 & Float64 & Float64 & String\\\\\n",
       "\t\\hline\n",
       "\t1 & C3 & CXCR4 & 0.79157 & 1.3346 & 3.3869 & C3\\_CXCR4 \\\\\n",
       "\t2 & CCL19 & CXCR4 & 0.757651 & 4.2714 & 3.3869 & CCL19\\_CXCR4 \\\\\n",
       "\t3 & RPS19 & RPSA & 0.647974 & 0.5695 & 0.4499 & RPS19\\_RPSA \\\\\n",
       "\\end{tabular}\n"
      ],
      "text/plain": [
       "\u001b[1m3×6 DataFrame\u001b[0m\n",
       "\u001b[1m Row \u001b[0m│\u001b[1m from   \u001b[0m\u001b[1m to     \u001b[0m\u001b[1m correlation \u001b[0m\u001b[1m ligand_FC \u001b[0m\u001b[1m Receptor_FC \u001b[0m\u001b[1m pair        \u001b[0m\n",
       "     │\u001b[90m String \u001b[0m\u001b[90m String \u001b[0m\u001b[90m Float64     \u001b[0m\u001b[90m Float64   \u001b[0m\u001b[90m Float64     \u001b[0m\u001b[90m String      \u001b[0m\n",
       "─────┼──────────────────────────────────────────────────────────────────\n",
       "   1 │ C3      CXCR4      0.79157      1.3346       3.3869  C3_CXCR4\n",
       "   2 │ CCL19   CXCR4      0.757651     4.2714       3.3869  CCL19_CXCR4\n",
       "   3 │ RPS19   RPSA       0.647974     0.5695       0.4499  RPS19_RPSA"
      ]
     },
     "metadata": {},
     "output_type": "display_data"
    }
   ],
   "source": [
    "out[\"enriched_LRs\"]"
   ]
  },
  {
   "cell_type": "code",
   "execution_count": null,
   "metadata": {},
   "outputs": [],
   "source": []
  },
  {
   "cell_type": "code",
   "execution_count": null,
   "metadata": {},
   "outputs": [],
   "source": []
  },
  {
   "cell_type": "code",
   "execution_count": null,
   "metadata": {},
   "outputs": [],
   "source": [
    "df = DataFrame(label=String[], time=Float64[])\n",
    "\n",
    "for endi in [500, 1000, 1500, 2000, 3000, 5000, 8000]\n",
    "    for i in 1:20\n",
    "        t = @elapsed main(all_LR_network, endindex = endi)\n",
    "        push!(df, [\"0:$endi\", t])\n",
    "    end\n",
    "end"
   ]
  },
  {
   "cell_type": "code",
   "execution_count": 7,
   "metadata": {},
   "outputs": [
    {
     "data": {
      "text/html": [
       "<div><div style = \"float: left;\"><span>7×2 DataFrame</span></div><div style = \"clear: both;\"></div></div><div class = \"data-frame\" style = \"overflow-x: scroll;\"><table class = \"data-frame\" style = \"margin-bottom: 6px;\"><thead><tr class = \"header\"><th class = \"rowNumber\" style = \"font-weight: bold; text-align: right;\">Row</th><th style = \"text-align: left;\">label</th><th style = \"text-align: left;\">time_mean</th></tr><tr class = \"subheader headerLastRow\"><th class = \"rowNumber\" style = \"font-weight: bold; text-align: right;\"></th><th title = \"String\" style = \"text-align: left;\">String</th><th title = \"Float64\" style = \"text-align: left;\">Float64</th></tr></thead><tbody><tr><td class = \"rowNumber\" style = \"font-weight: bold; text-align: right;\">1</td><td style = \"text-align: left;\">0:500</td><td style = \"text-align: right;\">0.108225</td></tr><tr><td class = \"rowNumber\" style = \"font-weight: bold; text-align: right;\">2</td><td style = \"text-align: left;\">0:1000</td><td style = \"text-align: right;\">0.206401</td></tr><tr><td class = \"rowNumber\" style = \"font-weight: bold; text-align: right;\">3</td><td style = \"text-align: left;\">0:1500</td><td style = \"text-align: right;\">0.338295</td></tr><tr><td class = \"rowNumber\" style = \"font-weight: bold; text-align: right;\">4</td><td style = \"text-align: left;\">0:2000</td><td style = \"text-align: right;\">0.475303</td></tr><tr><td class = \"rowNumber\" style = \"font-weight: bold; text-align: right;\">5</td><td style = \"text-align: left;\">0:3000</td><td style = \"text-align: right;\">0.503264</td></tr><tr><td class = \"rowNumber\" style = \"font-weight: bold; text-align: right;\">6</td><td style = \"text-align: left;\">0:5000</td><td style = \"text-align: right;\">0.489117</td></tr><tr><td class = \"rowNumber\" style = \"font-weight: bold; text-align: right;\">7</td><td style = \"text-align: left;\">0:8000</td><td style = \"text-align: right;\">0.497635</td></tr></tbody></table></div>"
      ],
      "text/latex": [
       "\\begin{tabular}{r|cc}\n",
       "\t& label & time\\_mean\\\\\n",
       "\t\\hline\n",
       "\t& String & Float64\\\\\n",
       "\t\\hline\n",
       "\t1 & 0:500 & 0.108225 \\\\\n",
       "\t2 & 0:1000 & 0.206401 \\\\\n",
       "\t3 & 0:1500 & 0.338295 \\\\\n",
       "\t4 & 0:2000 & 0.475303 \\\\\n",
       "\t5 & 0:3000 & 0.503264 \\\\\n",
       "\t6 & 0:5000 & 0.489117 \\\\\n",
       "\t7 & 0:8000 & 0.497635 \\\\\n",
       "\\end{tabular}\n"
      ],
      "text/plain": [
       "\u001b[1m7×2 DataFrame\u001b[0m\n",
       "\u001b[1m Row \u001b[0m│\u001b[1m label  \u001b[0m\u001b[1m time_mean \u001b[0m\n",
       "     │\u001b[90m String \u001b[0m\u001b[90m Float64   \u001b[0m\n",
       "─────┼───────────────────\n",
       "   1 │ 0:500    0.108225\n",
       "   2 │ 0:1000   0.206401\n",
       "   3 │ 0:1500   0.338295\n",
       "   4 │ 0:2000   0.475303\n",
       "   5 │ 0:3000   0.503264\n",
       "   6 │ 0:5000   0.489117\n",
       "   7 │ 0:8000   0.497635"
      ]
     },
     "metadata": {},
     "output_type": "display_data"
    }
   ],
   "source": [
    "df_mean = combine(groupby(df, :label), :time => mean)\n",
    "# df_mean[!, :lang] .= \"Julia\"\n",
    "df_mean"
   ]
  },
  {
   "cell_type": "code",
   "execution_count": 8,
   "metadata": {},
   "outputs": [
    {
     "data": {
      "text/html": [
       "<div><div style = \"float: left;\"><span>7×4 DataFrame</span></div><div style = \"clear: both;\"></div></div><div class = \"data-frame\" style = \"overflow-x: scroll;\"><table class = \"data-frame\" style = \"margin-bottom: 6px;\"><thead><tr class = \"header\"><th class = \"rowNumber\" style = \"font-weight: bold; text-align: right;\">Row</th><th style = \"text-align: left;\">label</th><th style = \"text-align: left;\">time_mean</th><th style = \"text-align: left;\">r_mean</th><th style = \"text-align: left;\">speedup</th></tr><tr class = \"subheader headerLastRow\"><th class = \"rowNumber\" style = \"font-weight: bold; text-align: right;\"></th><th title = \"String\" style = \"text-align: left;\">String</th><th title = \"Float64\" style = \"text-align: left;\">Float64</th><th title = \"Float64\" style = \"text-align: left;\">Float64</th><th title = \"Float64\" style = \"text-align: left;\">Float64</th></tr></thead><tbody><tr><td class = \"rowNumber\" style = \"font-weight: bold; text-align: right;\">1</td><td style = \"text-align: left;\">0:500</td><td style = \"text-align: right;\">0.108225</td><td style = \"text-align: right;\">65.32</td><td style = \"text-align: right;\">603.557</td></tr><tr><td class = \"rowNumber\" style = \"font-weight: bold; text-align: right;\">2</td><td style = \"text-align: left;\">0:1000</td><td style = \"text-align: right;\">0.206401</td><td style = \"text-align: right;\">147.86</td><td style = \"text-align: right;\">716.373</td></tr><tr><td class = \"rowNumber\" style = \"font-weight: bold; text-align: right;\">3</td><td style = \"text-align: left;\">0:1500</td><td style = \"text-align: right;\">0.338295</td><td style = \"text-align: right;\">253.047</td><td style = \"text-align: right;\">748.009</td></tr><tr><td class = \"rowNumber\" style = \"font-weight: bold; text-align: right;\">4</td><td style = \"text-align: left;\">0:2000</td><td style = \"text-align: right;\">0.475303</td><td style = \"text-align: right;\">258.491</td><td style = \"text-align: right;\">543.845</td></tr><tr><td class = \"rowNumber\" style = \"font-weight: bold; text-align: right;\">5</td><td style = \"text-align: left;\">0:3000</td><td style = \"text-align: right;\">0.503264</td><td style = \"text-align: right;\">263.814</td><td style = \"text-align: right;\">524.205</td></tr><tr><td class = \"rowNumber\" style = \"font-weight: bold; text-align: right;\">6</td><td style = \"text-align: left;\">0:5000</td><td style = \"text-align: right;\">0.489117</td><td style = \"text-align: right;\">379.282</td><td style = \"text-align: right;\">775.442</td></tr><tr><td class = \"rowNumber\" style = \"font-weight: bold; text-align: right;\">7</td><td style = \"text-align: left;\">0:8000</td><td style = \"text-align: right;\">0.497635</td><td style = \"text-align: right;\">535.445</td><td style = \"text-align: right;\">1075.98</td></tr></tbody></table></div>"
      ],
      "text/latex": [
       "\\begin{tabular}{r|cccc}\n",
       "\t& label & time\\_mean & r\\_mean & speedup\\\\\n",
       "\t\\hline\n",
       "\t& String & Float64 & Float64 & Float64\\\\\n",
       "\t\\hline\n",
       "\t1 & 0:500 & 0.108225 & 65.32 & 603.557 \\\\\n",
       "\t2 & 0:1000 & 0.206401 & 147.86 & 716.373 \\\\\n",
       "\t3 & 0:1500 & 0.338295 & 253.047 & 748.009 \\\\\n",
       "\t4 & 0:2000 & 0.475303 & 258.491 & 543.845 \\\\\n",
       "\t5 & 0:3000 & 0.503264 & 263.814 & 524.205 \\\\\n",
       "\t6 & 0:5000 & 0.489117 & 379.282 & 775.442 \\\\\n",
       "\t7 & 0:8000 & 0.497635 & 535.445 & 1075.98 \\\\\n",
       "\\end{tabular}\n"
      ],
      "text/plain": [
       "\u001b[1m7×4 DataFrame\u001b[0m\n",
       "\u001b[1m Row \u001b[0m│\u001b[1m label  \u001b[0m\u001b[1m time_mean \u001b[0m\u001b[1m r_mean  \u001b[0m\u001b[1m speedup  \u001b[0m\n",
       "     │\u001b[90m String \u001b[0m\u001b[90m Float64   \u001b[0m\u001b[90m Float64 \u001b[0m\u001b[90m Float64  \u001b[0m\n",
       "─────┼──────────────────────────────────────\n",
       "   1 │ 0:500    0.108225   65.32    603.557\n",
       "   2 │ 0:1000   0.206401  147.86    716.373\n",
       "   3 │ 0:1500   0.338295  253.047   748.009\n",
       "   4 │ 0:2000   0.475303  258.491   543.845\n",
       "   5 │ 0:3000   0.503264  263.814   524.205\n",
       "   6 │ 0:5000   0.489117  379.282   775.442\n",
       "   7 │ 0:8000   0.497635  535.445  1075.98"
      ]
     },
     "metadata": {},
     "output_type": "display_data"
    }
   ],
   "source": [
    "df_mean[!, :r_mean] = [65.32004, 147.86019, 253.04721, 258.49103, 263.81379, 379.28183, 535.44503]\n",
    "df_mean[!, :speedup] .= df_mean.r_mean ./ df_mean.time_mean\n",
    "df_mean"
   ]
  },
  {
   "cell_type": "code",
   "execution_count": 9,
   "metadata": {},
   "outputs": [],
   "source": [
    "# # Results from R benchmark\n",
    "# r_scores = [65.32004, 147.86019, 253.04721, 258.49103, 263.81379, 379.28183, 535.44503]\n",
    "# labels = df_mean[!, :label]\n",
    "# for i in 1:length(labels)\n",
    "#     push!(df_mean, [labels[i], r_scores[i], \"R\"])\n",
    "# end\n",
    "# df_mean"
   ]
  },
  {
   "cell_type": "code",
   "execution_count": 10,
   "metadata": {},
   "outputs": [],
   "source": [
    "# @df df_mean groupedhist(:time_mean, group = :lang, bar_position = :dodge)"
   ]
  },
  {
   "cell_type": "code",
   "execution_count": 11,
   "metadata": {},
   "outputs": [],
   "source": [
    "# groupedbar(df_mean[!, :label], df_mean[!, :time_mean], group = df_mean[!, :lang], xlabel = \"Groups\", ylabel = \"Scores\",\n",
    "#         title = \"Scores by group and category\", bar_width = 0.67,\n",
    "#         lw = 0, framestyle = :box)"
   ]
  },
  {
   "cell_type": "code",
   "execution_count": 12,
   "metadata": {},
   "outputs": [],
   "source": []
  },
  {
   "cell_type": "code",
   "execution_count": 13,
   "metadata": {},
   "outputs": [],
   "source": []
  },
  {
   "cell_type": "code",
   "execution_count": 14,
   "metadata": {},
   "outputs": [],
   "source": []
  }
 ],
 "metadata": {
  "kernelspec": {
   "display_name": "Julia 1.9.3",
   "language": "julia",
   "name": "julia-1.9"
  },
  "language_info": {
   "file_extension": ".jl",
   "mimetype": "application/julia",
   "name": "julia",
   "version": "1.9.3"
  },
  "orig_nbformat": 4
 },
 "nbformat": 4,
 "nbformat_minor": 2
}
