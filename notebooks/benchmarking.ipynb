{
 "cells": [
  {
   "cell_type": "code",
   "execution_count": 147,
   "metadata": {},
   "outputs": [],
   "source": [
    "using Muon\n",
    "using RData\n",
    "using Revise\n",
    "using ISCHIA\n",
    "using DataFrames\n",
    "using Statistics\n",
    "using Combinatorics"
   ]
  },
  {
   "cell_type": "code",
   "execution_count": 148,
   "metadata": {},
   "outputs": [
    {
     "data": {
      "text/plain": [
       "MuData object 2185 ✕ 55545\n",
       "└ Predictions\n",
       "  AnnData object 2185 ✕ 34\n",
       "└ Spatial\n",
       "  AnnData object 2185 ✕ 36601\n",
       "└ SCT\n",
       "  AnnData object 2185 ✕ 18910"
      ]
     },
     "metadata": {},
     "output_type": "display_data"
    }
   ],
   "source": [
    "mdata = readh5mu(\"../data/mudata.h5mu\")\n",
    "lr_network = load(\"../data/lr_network.rds\")\n",
    "\n",
    "mdata"
   ]
  },
  {
   "cell_type": "code",
   "execution_count": 149,
   "metadata": {},
   "outputs": [],
   "source": [
    "gene_names = mdata[\"SCT\"].var.name\n",
    "# mdata[\"SCT\"].var_names = gene_names\n",
    "\n",
    "# Create LR_Pairs column\n",
    "lr_network[!, :LR_Pairs] = string.(lr_network.from, \"_\", lr_network.to);\n",
    "lr_network = lr_network[:, [:from, :to, :LR_Pairs]]\n",
    "\n",
    "# Filter lr_network based on conditions\n",
    "from_filter = in.(lr_network[:, :from], Ref(gene_names))\n",
    "to_filter = in.(lr_network[:, :to], Ref(gene_names))\n",
    "all_LR_network = lr_network[from_filter .& to_filter, :];"
   ]
  },
  {
   "cell_type": "code",
   "execution_count": 215,
   "metadata": {},
   "outputs": [
    {
     "data": {
      "text/plain": [
       "36601"
      ]
     },
     "metadata": {},
     "output_type": "display_data"
    }
   ],
   "source": [
    "length(unique(mdata[\"Spatial\"].var.name))"
   ]
  },
  {
   "cell_type": "code",
   "execution_count": 216,
   "metadata": {},
   "outputs": [
    {
     "data": {
      "text/plain": [
       "18910"
      ]
     },
     "metadata": {},
     "output_type": "display_data"
    }
   ],
   "source": [
    "length(unique(mdata[\"SCT\"].var.name))"
   ]
  },
  {
   "cell_type": "code",
   "execution_count": 150,
   "metadata": {},
   "outputs": [
    {
     "data": {
      "text/html": [
       "<div><div style = \"float: left;\"><span>7067×3 DataFrame</span></div><div style = \"float: right;\"><span style = \"font-style: italic;\">7042 rows omitted</span></div><div style = \"clear: both;\"></div></div><div class = \"data-frame\" style = \"overflow-x: scroll;\"><table class = \"data-frame\" style = \"margin-bottom: 6px;\"><thead><tr class = \"header\"><th class = \"rowNumber\" style = \"font-weight: bold; text-align: right;\">Row</th><th style = \"text-align: left;\">from</th><th style = \"text-align: left;\">to</th><th style = \"text-align: left;\">LR_Pairs</th></tr><tr class = \"subheader headerLastRow\"><th class = \"rowNumber\" style = \"font-weight: bold; text-align: right;\"></th><th title = \"String\" style = \"text-align: left;\">String</th><th title = \"String\" style = \"text-align: left;\">String</th><th title = \"String\" style = \"text-align: left;\">String</th></tr></thead><tbody><tr><td class = \"rowNumber\" style = \"font-weight: bold; text-align: right;\">1</td><td style = \"text-align: left;\">CXCL1</td><td style = \"text-align: left;\">CXCR2</td><td style = \"text-align: left;\">CXCL1_CXCR2</td></tr><tr><td class = \"rowNumber\" style = \"font-weight: bold; text-align: right;\">2</td><td style = \"text-align: left;\">CXCL2</td><td style = \"text-align: left;\">CXCR2</td><td style = \"text-align: left;\">CXCL2_CXCR2</td></tr><tr><td class = \"rowNumber\" style = \"font-weight: bold; text-align: right;\">3</td><td style = \"text-align: left;\">CXCL3</td><td style = \"text-align: left;\">CXCR2</td><td style = \"text-align: left;\">CXCL3_CXCR2</td></tr><tr><td class = \"rowNumber\" style = \"font-weight: bold; text-align: right;\">4</td><td style = \"text-align: left;\">CXCL5</td><td style = \"text-align: left;\">CXCR2</td><td style = \"text-align: left;\">CXCL5_CXCR2</td></tr><tr><td class = \"rowNumber\" style = \"font-weight: bold; text-align: right;\">5</td><td style = \"text-align: left;\">CXCL6</td><td style = \"text-align: left;\">CXCR2</td><td style = \"text-align: left;\">CXCL6_CXCR2</td></tr><tr><td class = \"rowNumber\" style = \"font-weight: bold; text-align: right;\">6</td><td style = \"text-align: left;\">CXCL8</td><td style = \"text-align: left;\">CXCR2</td><td style = \"text-align: left;\">CXCL8_CXCR2</td></tr><tr><td class = \"rowNumber\" style = \"font-weight: bold; text-align: right;\">7</td><td style = \"text-align: left;\">CXCL6</td><td style = \"text-align: left;\">CXCR1</td><td style = \"text-align: left;\">CXCL6_CXCR1</td></tr><tr><td class = \"rowNumber\" style = \"font-weight: bold; text-align: right;\">8</td><td style = \"text-align: left;\">CXCL8</td><td style = \"text-align: left;\">CXCR1</td><td style = \"text-align: left;\">CXCL8_CXCR1</td></tr><tr><td class = \"rowNumber\" style = \"font-weight: bold; text-align: right;\">9</td><td style = \"text-align: left;\">CXCL9</td><td style = \"text-align: left;\">CXCR3</td><td style = \"text-align: left;\">CXCL9_CXCR3</td></tr><tr><td class = \"rowNumber\" style = \"font-weight: bold; text-align: right;\">10</td><td style = \"text-align: left;\">CXCL10</td><td style = \"text-align: left;\">CXCR3</td><td style = \"text-align: left;\">CXCL10_CXCR3</td></tr><tr><td class = \"rowNumber\" style = \"font-weight: bold; text-align: right;\">11</td><td style = \"text-align: left;\">CXCL11</td><td style = \"text-align: left;\">CXCR3</td><td style = \"text-align: left;\">CXCL11_CXCR3</td></tr><tr><td class = \"rowNumber\" style = \"font-weight: bold; text-align: right;\">12</td><td style = \"text-align: left;\">CXCL12</td><td style = \"text-align: left;\">CXCR4</td><td style = \"text-align: left;\">CXCL12_CXCR4</td></tr><tr><td class = \"rowNumber\" style = \"font-weight: bold; text-align: right;\">13</td><td style = \"text-align: left;\">CXCL13</td><td style = \"text-align: left;\">CXCR5</td><td style = \"text-align: left;\">CXCL13_CXCR5</td></tr><tr><td style = \"text-align: right;\">&vellip;</td><td style = \"text-align: right;\">&vellip;</td><td style = \"text-align: right;\">&vellip;</td><td style = \"text-align: right;\">&vellip;</td></tr><tr><td class = \"rowNumber\" style = \"font-weight: bold; text-align: right;\">7056</td><td style = \"text-align: left;\">NRXN1</td><td style = \"text-align: left;\">DAG1</td><td style = \"text-align: left;\">NRXN1_DAG1</td></tr><tr><td class = \"rowNumber\" style = \"font-weight: bold; text-align: right;\">7057</td><td style = \"text-align: left;\">FASLG</td><td style = \"text-align: left;\">TNFRSF10A</td><td style = \"text-align: left;\">FASLG_TNFRSF10A</td></tr><tr><td class = \"rowNumber\" style = \"font-weight: bold; text-align: right;\">7058</td><td style = \"text-align: left;\">NLGN2</td><td style = \"text-align: left;\">NLGN1</td><td style = \"text-align: left;\">NLGN2_NLGN1</td></tr><tr><td class = \"rowNumber\" style = \"font-weight: bold; text-align: right;\">7059</td><td style = \"text-align: left;\">HLA-DRA</td><td style = \"text-align: left;\">PTPRC</td><td style = \"text-align: left;\">HLA-DRA_PTPRC</td></tr><tr><td class = \"rowNumber\" style = \"font-weight: bold; text-align: right;\">7060</td><td style = \"text-align: left;\">HLA-DRA</td><td style = \"text-align: left;\">CD274</td><td style = \"text-align: left;\">HLA-DRA_CD274</td></tr><tr><td class = \"rowNumber\" style = \"font-weight: bold; text-align: right;\">7061</td><td style = \"text-align: left;\">CNTNAP1</td><td style = \"text-align: left;\">NLGN1</td><td style = \"text-align: left;\">CNTNAP1_NLGN1</td></tr><tr><td class = \"rowNumber\" style = \"font-weight: bold; text-align: right;\">7062</td><td style = \"text-align: left;\">ICAM1</td><td style = \"text-align: left;\">SPN</td><td style = \"text-align: left;\">ICAM1_SPN</td></tr><tr><td class = \"rowNumber\" style = \"font-weight: bold; text-align: right;\">7063</td><td style = \"text-align: left;\">SPN</td><td style = \"text-align: left;\">SELE</td><td style = \"text-align: left;\">SPN_SELE</td></tr><tr><td class = \"rowNumber\" style = \"font-weight: bold; text-align: right;\">7064</td><td style = \"text-align: left;\">CXCL6</td><td style = \"text-align: left;\">ACKR1</td><td style = \"text-align: left;\">CXCL6_ACKR1</td></tr><tr><td class = \"rowNumber\" style = \"font-weight: bold; text-align: right;\">7065</td><td style = \"text-align: left;\">PRL</td><td style = \"text-align: left;\">HLA-DQB1</td><td style = \"text-align: left;\">PRL_HLA-DQB1</td></tr><tr><td class = \"rowNumber\" style = \"font-weight: bold; text-align: right;\">7066</td><td style = \"text-align: left;\">CXCL6</td><td style = \"text-align: left;\">PIGR</td><td style = \"text-align: left;\">CXCL6_PIGR</td></tr><tr><td class = \"rowNumber\" style = \"font-weight: bold; text-align: right;\">7067</td><td style = \"text-align: left;\">PIK3CB</td><td style = \"text-align: left;\">TNFRSF10A</td><td style = \"text-align: left;\">PIK3CB_TNFRSF10A</td></tr></tbody></table></div>"
      ],
      "text/latex": [
       "\\begin{tabular}{r|ccc}\n",
       "\t& from & to & LR\\_Pairs\\\\\n",
       "\t\\hline\n",
       "\t& String & String & String\\\\\n",
       "\t\\hline\n",
       "\t1 & CXCL1 & CXCR2 & CXCL1\\_CXCR2 \\\\\n",
       "\t2 & CXCL2 & CXCR2 & CXCL2\\_CXCR2 \\\\\n",
       "\t3 & CXCL3 & CXCR2 & CXCL3\\_CXCR2 \\\\\n",
       "\t4 & CXCL5 & CXCR2 & CXCL5\\_CXCR2 \\\\\n",
       "\t5 & CXCL6 & CXCR2 & CXCL6\\_CXCR2 \\\\\n",
       "\t6 & CXCL8 & CXCR2 & CXCL8\\_CXCR2 \\\\\n",
       "\t7 & CXCL6 & CXCR1 & CXCL6\\_CXCR1 \\\\\n",
       "\t8 & CXCL8 & CXCR1 & CXCL8\\_CXCR1 \\\\\n",
       "\t9 & CXCL9 & CXCR3 & CXCL9\\_CXCR3 \\\\\n",
       "\t10 & CXCL10 & CXCR3 & CXCL10\\_CXCR3 \\\\\n",
       "\t11 & CXCL11 & CXCR3 & CXCL11\\_CXCR3 \\\\\n",
       "\t12 & CXCL12 & CXCR4 & CXCL12\\_CXCR4 \\\\\n",
       "\t13 & CXCL13 & CXCR5 & CXCL13\\_CXCR5 \\\\\n",
       "\t14 & CXCL16 & CXCR6 & CXCL16\\_CXCR6 \\\\\n",
       "\t15 & XCL1 & XCR1 & XCL1\\_XCR1 \\\\\n",
       "\t16 & XCL2 & XCR1 & XCL2\\_XCR1 \\\\\n",
       "\t17 & CX3CL1 & CX3CR1 & CX3CL1\\_CX3CR1 \\\\\n",
       "\t18 & CCL20 & CCR6 & CCL20\\_CCR6 \\\\\n",
       "\t19 & CCL25 & CCR9 & CCL25\\_CCR9 \\\\\n",
       "\t20 & CCL19 & CCR7 & CCL19\\_CCR7 \\\\\n",
       "\t21 & CCL21 & CCR7 & CCL21\\_CCR7 \\\\\n",
       "\t22 & CCL2 & CCR2 & CCL2\\_CCR2 \\\\\n",
       "\t23 & CCL13 & CCR2 & CCL13\\_CCR2 \\\\\n",
       "\t24 & CCL5 & CCR5 & CCL5\\_CCR5 \\\\\n",
       "\t$\\dots$ & $\\dots$ & $\\dots$ & $\\dots$ \\\\\n",
       "\\end{tabular}\n"
      ],
      "text/plain": [
       "\u001b[1m7067×3 DataFrame\u001b[0m\n",
       "\u001b[1m  Row \u001b[0m│\u001b[1m from    \u001b[0m\u001b[1m to        \u001b[0m\u001b[1m LR_Pairs         \u001b[0m\n",
       "      │\u001b[90m String  \u001b[0m\u001b[90m String    \u001b[0m\u001b[90m String           \u001b[0m\n",
       "──────┼──────────────────────────────────────\n",
       "    1 │ CXCL1    CXCR2      CXCL1_CXCR2\n",
       "    2 │ CXCL2    CXCR2      CXCL2_CXCR2\n",
       "    3 │ CXCL3    CXCR2      CXCL3_CXCR2\n",
       "    4 │ CXCL5    CXCR2      CXCL5_CXCR2\n",
       "    5 │ CXCL6    CXCR2      CXCL6_CXCR2\n",
       "    6 │ CXCL8    CXCR2      CXCL8_CXCR2\n",
       "    7 │ CXCL6    CXCR1      CXCL6_CXCR1\n",
       "    8 │ CXCL8    CXCR1      CXCL8_CXCR1\n",
       "  ⋮   │    ⋮         ⋮             ⋮\n",
       " 7061 │ CNTNAP1  NLGN1      CNTNAP1_NLGN1\n",
       " 7062 │ ICAM1    SPN        ICAM1_SPN\n",
       " 7063 │ SPN      SELE       SPN_SELE\n",
       " 7064 │ CXCL6    ACKR1      CXCL6_ACKR1\n",
       " 7065 │ PRL      HLA-DQB1   PRL_HLA-DQB1\n",
       " 7066 │ CXCL6    PIGR       CXCL6_PIGR\n",
       " 7067 │ PIK3CB   TNFRSF10A  PIK3CB_TNFRSF10A\n",
       "\u001b[36m                            7052 rows omitted\u001b[0m"
      ]
     },
     "metadata": {},
     "output_type": "display_data"
    }
   ],
   "source": [
    "all_LR_network"
   ]
  },
  {
   "cell_type": "code",
   "execution_count": 151,
   "metadata": {},
   "outputs": [
    {
     "data": {
      "text/plain": [
       "0.2"
      ]
     },
     "metadata": {},
     "output_type": "display_data"
    }
   ],
   "source": [
    "# all_LR_network = all_LR_network[shuffle(1:size(all_LR_network_exp, 1)), :]\n",
    "all_LR_network = all_LR_network[1:min(8000, end), :]\n",
    "\n",
    "# Extract unique genes and common genes\n",
    "all_LR_genes = unique(vcat(all_LR_network[:, :from], all_LR_network[:, :to]))\n",
    "all_LR_genes_comm = intersect(all_LR_genes, collect(gene_names));\n",
    "\n",
    "# Create LR.pairs and LR.pairs.AllCombos\n",
    "LR_pairs = all_LR_network[:, :LR_Pairs]\n",
    "all_combos = [join(combo, \"_\") for combo in combinations(all_LR_genes_comm, 2)];\n",
    "\n",
    "spatial_object = mdata[\"Spatial\"]\n",
    "COI = [\"CC7\"]\n",
    "Condition = unique(spatial_object.obs[!, \"orig.ident\"])\n",
    "LR_list = all_LR_genes_comm\n",
    "LR_pairs = LR_pairs\n",
    "exp_th = 1\n",
    "corr_th = 0.2\n"
   ]
  },
  {
   "cell_type": "code",
   "execution_count": 152,
   "metadata": {},
   "outputs": [
    {
     "data": {
      "text/plain": [
       "AnnData object 2185 ✕ 36601"
      ]
     },
     "metadata": {},
     "output_type": "display_data"
    }
   ],
   "source": [
    "spatial_object"
   ]
  },
  {
   "cell_type": "code",
   "execution_count": 153,
   "metadata": {},
   "outputs": [
    {
     "data": {
      "text/plain": [
       "36601-element Muon.Index{String, UInt16}:\n",
       " \"Spatial:MIR1302-2HG\"\n",
       " \"Spatial:FAM138A\"\n",
       " \"Spatial:OR4F5\"\n",
       " \"Spatial:AL627309.1\"\n",
       " \"Spatial:AL627309.3\"\n",
       " \"Spatial:AL627309.2\"\n",
       " \"Spatial:AL627309.5\"\n",
       " \"Spatial:AL627309.4\"\n",
       " \"Spatial:AP006222.2\"\n",
       " \"Spatial:AL732372.1\"\n",
       " ⋮\n",
       " \"Spatial:AC136612.1\"\n",
       " \"Spatial:AC136616.1\"\n",
       " \"Spatial:AC136616.3\"\n",
       " \"Spatial:AC136616.2\"\n",
       " \"Spatial:AC141272.1\"\n",
       " \"Spatial:AC023491.2\"\n",
       " \"Spatial:AC007325.1\"\n",
       " \"Spatial:AC007325.4\"\n",
       " \"Spatial:AC007325.2\""
      ]
     },
     "metadata": {},
     "output_type": "display_data"
    }
   ],
   "source": [
    "spatial_object.var_names"
   ]
  },
  {
   "cell_type": "code",
   "execution_count": 154,
   "metadata": {},
   "outputs": [
    {
     "data": {
      "text/plain": [
       "main (generic function with 1 method)"
      ]
     },
     "metadata": {},
     "output_type": "display_data"
    }
   ],
   "source": [
    "function main(all_LR_network; startindex = 1, endindex = 500)\n",
    "    # To reduce the computation time for this example, we randomly sample from the whole dataset of LR interactions\n",
    "\n",
    "    # all_LR_network = all_LR_network[shuffle(1:size(all_LR_network_exp, 1)), :]\n",
    "    all_LR_network = all_LR_network[startindex:min(endindex, end), :]\n",
    "\n",
    "    # Extract unique genes and common genes\n",
    "    all_LR_genes = unique(vcat(all_LR_network[:, :from], all_LR_network[:, :to]))\n",
    "    all_LR_genes_comm = intersect(all_LR_genes, collect(gene_names));\n",
    "\n",
    "    # Create LR.pairs and LR.pairs.AllCombos\n",
    "    LR_pairs = all_LR_network[:, :LR_Pairs]\n",
    "    all_combos = [join(combo, \"_\") for combo in combinations(all_LR_genes_comm, 2)];\n",
    "\n",
    "    spatial_object = mdata[\"Spatial\"]\n",
    "    spatial_object.var_names = spatial_object.var.name\n",
    "    COI = [\"CC7\"]\n",
    "    Condition = unique(spatial_object.obs[!, \"orig.ident\"])\n",
    "    LR_list = all_LR_genes_comm\n",
    "    LR_pairs = LR_pairs\n",
    "    exp_th = 1\n",
    "    corr_th = 0.2\n",
    "\n",
    "    out = enriched_LRs(spatial_object, COI, Condition, LR_list, LR_pairs, exp_th, corr_th)\n",
    "\n",
    "    return out\n",
    "end"
   ]
  },
  {
   "cell_type": "code",
   "execution_count": null,
   "metadata": {},
   "outputs": [],
   "source": [
    "out = main(all_LR_network, endindex=8000)"
   ]
  },
  {
   "cell_type": "code",
   "execution_count": 211,
   "metadata": {},
   "outputs": [],
   "source": [
    "# lr_network[(lr_network.from .== \"CDHR5\") .| (lr_network.to .== \"CDHR5\"), :]"
   ]
  },
  {
   "cell_type": "code",
   "execution_count": 176,
   "metadata": {},
   "outputs": [
    {
     "data": {
      "text/plain": [
       "find_duplicate_rows (generic function with 1 method)"
      ]
     },
     "metadata": {},
     "output_type": "display_data"
    }
   ],
   "source": [
    "function find_duplicate_rows(df, column_name)\n",
    "    # Get the unique values in the specified column\n",
    "    unique_values = unique(df[!, column_name])\n",
    "    \n",
    "    # Initialize an empty DataFrame to store the duplicate rows\n",
    "    duplicate_rows = DataFrame()\n",
    "    \n",
    "    for value in unique_values\n",
    "        # Filter rows where the specified column matches the current value\n",
    "        subset = filter(row -> row[column_name] == value, df)\n",
    "        \n",
    "        # If there are more than one row with the same value, append them to duplicate_rows\n",
    "        if nrow(subset) > 1\n",
    "            append!(duplicate_rows, subset)\n",
    "        end\n",
    "    end\n",
    "    \n",
    "    return duplicate_rows\n",
    "end\n"
   ]
  },
  {
   "cell_type": "code",
   "execution_count": 202,
   "metadata": {},
   "outputs": [
    {
     "data": {
      "text/html": [
       "<div><div style = \"float: left;\"><span>20×6 DataFrame</span></div><div style = \"clear: both;\"></div></div><div class = \"data-frame\" style = \"overflow-x: scroll;\"><table class = \"data-frame\" style = \"margin-bottom: 6px;\"><thead><tr class = \"header\"><th class = \"rowNumber\" style = \"font-weight: bold; text-align: right;\">Row</th><th style = \"text-align: left;\">from</th><th style = \"text-align: left;\">to</th><th style = \"text-align: left;\">correlation</th><th style = \"text-align: left;\">ligand_FC</th><th style = \"text-align: left;\">Receptor_FC</th><th style = \"text-align: left;\">pair</th></tr><tr class = \"subheader headerLastRow\"><th class = \"rowNumber\" style = \"font-weight: bold; text-align: right;\"></th><th title = \"String\" style = \"text-align: left;\">String</th><th title = \"String\" style = \"text-align: left;\">String</th><th title = \"Float64\" style = \"text-align: left;\">Float64</th><th title = \"Float64\" style = \"text-align: left;\">Float64</th><th title = \"Float64\" style = \"text-align: left;\">Float64</th><th title = \"String\" style = \"text-align: left;\">String</th></tr></thead><tbody><tr><td class = \"rowNumber\" style = \"font-weight: bold; text-align: right;\">1</td><td style = \"text-align: left;\">CDHR5</td><td style = \"text-align: left;\">CDHR2</td><td style = \"text-align: right;\">0.830117</td><td style = \"text-align: right;\">0.7361</td><td style = \"text-align: right;\">0.9662</td><td style = \"text-align: left;\">CDHR5_CDHR2</td></tr><tr><td class = \"rowNumber\" style = \"font-weight: bold; text-align: right;\">2</td><td style = \"text-align: left;\">CDHR2</td><td style = \"text-align: left;\">CDHR5</td><td style = \"text-align: right;\">0.830117</td><td style = \"text-align: right;\">0.9662</td><td style = \"text-align: right;\">0.7361</td><td style = \"text-align: left;\">CDHR2_CDHR5</td></tr><tr><td class = \"rowNumber\" style = \"font-weight: bold; text-align: right;\">3</td><td style = \"text-align: left;\">DSC2</td><td style = \"text-align: left;\">DSG2</td><td style = \"text-align: right;\">0.722542</td><td style = \"text-align: right;\">0.8149</td><td style = \"text-align: right;\">0.7307</td><td style = \"text-align: left;\">DSC2_DSG2</td></tr><tr><td class = \"rowNumber\" style = \"font-weight: bold; text-align: right;\">4</td><td style = \"text-align: left;\">DSG2</td><td style = \"text-align: left;\">DSC2</td><td style = \"text-align: right;\">0.722542</td><td style = \"text-align: right;\">0.7307</td><td style = \"text-align: right;\">0.8149</td><td style = \"text-align: left;\">DSG2_DSC2</td></tr><tr><td class = \"rowNumber\" style = \"font-weight: bold; text-align: right;\">5</td><td style = \"text-align: left;\">CDH1</td><td style = \"text-align: left;\">PTPRF</td><td style = \"text-align: right;\">0.605276</td><td style = \"text-align: right;\">0.8122</td><td style = \"text-align: right;\">0.7244</td><td style = \"text-align: left;\">CDH1_PTPRF</td></tr><tr><td class = \"rowNumber\" style = \"font-weight: bold; text-align: right;\">6</td><td style = \"text-align: left;\">PTPRF</td><td style = \"text-align: left;\">CDH1</td><td style = \"text-align: right;\">0.605276</td><td style = \"text-align: right;\">0.7244</td><td style = \"text-align: right;\">0.8122</td><td style = \"text-align: left;\">PTPRF_CDH1</td></tr><tr><td class = \"rowNumber\" style = \"font-weight: bold; text-align: right;\">7</td><td style = \"text-align: left;\">F11R</td><td style = \"text-align: left;\">ITGB2</td><td style = \"text-align: right;\">0.55938</td><td style = \"text-align: right;\">0.942</td><td style = \"text-align: right;\">2.1694</td><td style = \"text-align: left;\">F11R_ITGB2</td></tr><tr><td class = \"rowNumber\" style = \"font-weight: bold; text-align: right;\">8</td><td style = \"text-align: left;\">ITGB2</td><td style = \"text-align: left;\">F11R</td><td style = \"text-align: right;\">0.55938</td><td style = \"text-align: right;\">2.1694</td><td style = \"text-align: right;\">0.942</td><td style = \"text-align: left;\">ITGB2_F11R</td></tr><tr><td class = \"rowNumber\" style = \"font-weight: bold; text-align: right;\">9</td><td style = \"text-align: left;\">ITGB2</td><td style = \"text-align: left;\">ICAM1</td><td style = \"text-align: right;\">0.463724</td><td style = \"text-align: right;\">2.1694</td><td style = \"text-align: right;\">1.9715</td><td style = \"text-align: left;\">ITGB2_ICAM1</td></tr><tr><td class = \"rowNumber\" style = \"font-weight: bold; text-align: right;\">10</td><td style = \"text-align: left;\">ICAM1</td><td style = \"text-align: left;\">ITGB2</td><td style = \"text-align: right;\">0.463724</td><td style = \"text-align: right;\">1.9715</td><td style = \"text-align: right;\">2.1694</td><td style = \"text-align: left;\">ICAM1_ITGB2</td></tr><tr><td class = \"rowNumber\" style = \"font-weight: bold; text-align: right;\">11</td><td style = \"text-align: left;\">PTPRC</td><td style = \"text-align: left;\">CD2</td><td style = \"text-align: right;\">0.394723</td><td style = \"text-align: right;\">1.6397</td><td style = \"text-align: right;\">1.6859</td><td style = \"text-align: left;\">PTPRC_CD2</td></tr><tr><td class = \"rowNumber\" style = \"font-weight: bold; text-align: right;\">12</td><td style = \"text-align: left;\">CD2</td><td style = \"text-align: left;\">PTPRC</td><td style = \"text-align: right;\">0.394723</td><td style = \"text-align: right;\">1.6859</td><td style = \"text-align: right;\">1.6397</td><td style = \"text-align: left;\">CD2_PTPRC</td></tr><tr><td class = \"rowNumber\" style = \"font-weight: bold; text-align: right;\">13</td><td style = \"text-align: left;\">JAM3</td><td style = \"text-align: left;\">ITGB2</td><td style = \"text-align: right;\">0.317787</td><td style = \"text-align: right;\">2.1433</td><td style = \"text-align: right;\">2.1694</td><td style = \"text-align: left;\">JAM3_ITGB2</td></tr><tr><td class = \"rowNumber\" style = \"font-weight: bold; text-align: right;\">14</td><td style = \"text-align: left;\">ITGB2</td><td style = \"text-align: left;\">JAM3</td><td style = \"text-align: right;\">0.317787</td><td style = \"text-align: right;\">2.1694</td><td style = \"text-align: right;\">2.1433</td><td style = \"text-align: left;\">ITGB2_JAM3</td></tr><tr><td class = \"rowNumber\" style = \"font-weight: bold; text-align: right;\">15</td><td style = \"text-align: left;\">PVR</td><td style = \"text-align: left;\">CDH1</td><td style = \"text-align: right;\">0.276865</td><td style = \"text-align: right;\">0.7666</td><td style = \"text-align: right;\">0.8122</td><td style = \"text-align: left;\">PVR_CDH1</td></tr><tr><td class = \"rowNumber\" style = \"font-weight: bold; text-align: right;\">16</td><td style = \"text-align: left;\">CDH1</td><td style = \"text-align: left;\">PVR</td><td style = \"text-align: right;\">0.276865</td><td style = \"text-align: right;\">0.8122</td><td style = \"text-align: right;\">0.7666</td><td style = \"text-align: left;\">CDH1_PVR</td></tr><tr><td class = \"rowNumber\" style = \"font-weight: bold; text-align: right;\">17</td><td style = \"text-align: left;\">ICAM2</td><td style = \"text-align: left;\">ITGB2</td><td style = \"text-align: right;\">0.248302</td><td style = \"text-align: right;\">1.8473</td><td style = \"text-align: right;\">2.1694</td><td style = \"text-align: left;\">ICAM2_ITGB2</td></tr><tr><td class = \"rowNumber\" style = \"font-weight: bold; text-align: right;\">18</td><td style = \"text-align: left;\">ITGB2</td><td style = \"text-align: left;\">ICAM2</td><td style = \"text-align: right;\">0.248302</td><td style = \"text-align: right;\">2.1694</td><td style = \"text-align: right;\">1.8473</td><td style = \"text-align: left;\">ITGB2_ICAM2</td></tr><tr><td class = \"rowNumber\" style = \"font-weight: bold; text-align: right;\">19</td><td style = \"text-align: left;\">F11R</td><td style = \"text-align: left;\">ITGAL</td><td style = \"text-align: right;\">0.203744</td><td style = \"text-align: right;\">0.942</td><td style = \"text-align: right;\">1.2148</td><td style = \"text-align: left;\">F11R_ITGAL</td></tr><tr><td class = \"rowNumber\" style = \"font-weight: bold; text-align: right;\">20</td><td style = \"text-align: left;\">ITGAL</td><td style = \"text-align: left;\">F11R</td><td style = \"text-align: right;\">0.203744</td><td style = \"text-align: right;\">1.2148</td><td style = \"text-align: right;\">0.942</td><td style = \"text-align: left;\">ITGAL_F11R</td></tr></tbody></table></div>"
      ],
      "text/latex": [
       "\\begin{tabular}{r|cccccc}\n",
       "\t& from & to & correlation & ligand\\_FC & Receptor\\_FC & pair\\\\\n",
       "\t\\hline\n",
       "\t& String & String & Float64 & Float64 & Float64 & String\\\\\n",
       "\t\\hline\n",
       "\t1 & CDHR5 & CDHR2 & 0.830117 & 0.7361 & 0.9662 & CDHR5\\_CDHR2 \\\\\n",
       "\t2 & CDHR2 & CDHR5 & 0.830117 & 0.9662 & 0.7361 & CDHR2\\_CDHR5 \\\\\n",
       "\t3 & DSC2 & DSG2 & 0.722542 & 0.8149 & 0.7307 & DSC2\\_DSG2 \\\\\n",
       "\t4 & DSG2 & DSC2 & 0.722542 & 0.7307 & 0.8149 & DSG2\\_DSC2 \\\\\n",
       "\t5 & CDH1 & PTPRF & 0.605276 & 0.8122 & 0.7244 & CDH1\\_PTPRF \\\\\n",
       "\t6 & PTPRF & CDH1 & 0.605276 & 0.7244 & 0.8122 & PTPRF\\_CDH1 \\\\\n",
       "\t7 & F11R & ITGB2 & 0.55938 & 0.942 & 2.1694 & F11R\\_ITGB2 \\\\\n",
       "\t8 & ITGB2 & F11R & 0.55938 & 2.1694 & 0.942 & ITGB2\\_F11R \\\\\n",
       "\t9 & ITGB2 & ICAM1 & 0.463724 & 2.1694 & 1.9715 & ITGB2\\_ICAM1 \\\\\n",
       "\t10 & ICAM1 & ITGB2 & 0.463724 & 1.9715 & 2.1694 & ICAM1\\_ITGB2 \\\\\n",
       "\t11 & PTPRC & CD2 & 0.394723 & 1.6397 & 1.6859 & PTPRC\\_CD2 \\\\\n",
       "\t12 & CD2 & PTPRC & 0.394723 & 1.6859 & 1.6397 & CD2\\_PTPRC \\\\\n",
       "\t13 & JAM3 & ITGB2 & 0.317787 & 2.1433 & 2.1694 & JAM3\\_ITGB2 \\\\\n",
       "\t14 & ITGB2 & JAM3 & 0.317787 & 2.1694 & 2.1433 & ITGB2\\_JAM3 \\\\\n",
       "\t15 & PVR & CDH1 & 0.276865 & 0.7666 & 0.8122 & PVR\\_CDH1 \\\\\n",
       "\t16 & CDH1 & PVR & 0.276865 & 0.8122 & 0.7666 & CDH1\\_PVR \\\\\n",
       "\t17 & ICAM2 & ITGB2 & 0.248302 & 1.8473 & 2.1694 & ICAM2\\_ITGB2 \\\\\n",
       "\t18 & ITGB2 & ICAM2 & 0.248302 & 2.1694 & 1.8473 & ITGB2\\_ICAM2 \\\\\n",
       "\t19 & F11R & ITGAL & 0.203744 & 0.942 & 1.2148 & F11R\\_ITGAL \\\\\n",
       "\t20 & ITGAL & F11R & 0.203744 & 1.2148 & 0.942 & ITGAL\\_F11R \\\\\n",
       "\\end{tabular}\n"
      ],
      "text/plain": [
       "\u001b[1m20×6 DataFrame\u001b[0m\n",
       "\u001b[1m Row \u001b[0m│\u001b[1m from   \u001b[0m\u001b[1m to     \u001b[0m\u001b[1m correlation \u001b[0m\u001b[1m ligand_FC \u001b[0m\u001b[1m Receptor_FC \u001b[0m\u001b[1m pair        \u001b[0m\n",
       "     │\u001b[90m String \u001b[0m\u001b[90m String \u001b[0m\u001b[90m Float64     \u001b[0m\u001b[90m Float64   \u001b[0m\u001b[90m Float64     \u001b[0m\u001b[90m String      \u001b[0m\n",
       "─────┼──────────────────────────────────────────────────────────────────\n",
       "   1 │ CDHR5   CDHR2      0.830117     0.7361       0.9662  CDHR5_CDHR2\n",
       "   2 │ CDHR2   CDHR5      0.830117     0.9662       0.7361  CDHR2_CDHR5\n",
       "   3 │ DSC2    DSG2       0.722542     0.8149       0.7307  DSC2_DSG2\n",
       "   4 │ DSG2    DSC2       0.722542     0.7307       0.8149  DSG2_DSC2\n",
       "   5 │ CDH1    PTPRF      0.605276     0.8122       0.7244  CDH1_PTPRF\n",
       "   6 │ PTPRF   CDH1       0.605276     0.7244       0.8122  PTPRF_CDH1\n",
       "   7 │ F11R    ITGB2      0.55938      0.942        2.1694  F11R_ITGB2\n",
       "   8 │ ITGB2   F11R       0.55938      2.1694       0.942   ITGB2_F11R\n",
       "  ⋮  │   ⋮       ⋮          ⋮           ⋮           ⋮            ⋮\n",
       "  14 │ ITGB2   JAM3       0.317787     2.1694       2.1433  ITGB2_JAM3\n",
       "  15 │ PVR     CDH1       0.276865     0.7666       0.8122  PVR_CDH1\n",
       "  16 │ CDH1    PVR        0.276865     0.8122       0.7666  CDH1_PVR\n",
       "  17 │ ICAM2   ITGB2      0.248302     1.8473       2.1694  ICAM2_ITGB2\n",
       "  18 │ ITGB2   ICAM2      0.248302     2.1694       1.8473  ITGB2_ICAM2\n",
       "  19 │ F11R    ITGAL      0.203744     0.942        1.2148  F11R_ITGAL\n",
       "  20 │ ITGAL   F11R       0.203744     1.2148       0.942   ITGAL_F11R\n",
       "\u001b[36m                                                          5 rows omitted\u001b[0m"
      ]
     },
     "metadata": {},
     "output_type": "display_data"
    }
   ],
   "source": [
    "df = out[\"enriched_LRs\"];\n",
    "duplicates = find_duplicate_rows(df, \"correlation\")"
   ]
  },
  {
   "cell_type": "code",
   "execution_count": 181,
   "metadata": {},
   "outputs": [],
   "source": [
    "r_pairs = [\"LGALS3_ITGB4\", \"CDHR5_CDHR2\", \"HLA-E_ITGA6\", \"HLA-E_PLXNB2\", \"COL1A1_ITGA5\", \"DSC2_LSR\", \"DSC2_EPHA2\", \"GRN_TNFRSF1A\", \"DSG2_EPHA2\", \"DSG2_LRP10\", \"LAMC2_ITGA2\", \"DSG2_DSC2\", \"RPS19_RPSA\", \"TNC_ITGA5\", \"MIF_CD74\", \"DSG2_LSR\", \"CALM1_TNFRSF1A\", \"CDH1_DDR1\", \"ITGB1_ITGA6\", \"PLAU_PLAUR\", \"GRN_SORT1\", \"LAMC2_ITGB4\", \"TNC_ITGA2\", \"CALR_ITGA3\", \"LGALS3_NPTN\", \"ITGB1_CDH17\", \"PSAP_SORT1\", \"PLXNB2_MST1R\", \"CALR_ITGAV\", \"HLA-A_ERBB3\", \"LGALS3_TFRC\", \"MMP9_ITGA5\", \"LAMC2_ITGA6\", \"EFNA2_EPHA2\", \"ADAM9_ITGA6\", \"CCL2_ACKR1\", \"EFNA1_EPHA2\", \"ITGB1_ITGA5\", \"RTN4_EPHA2\", \"ITGB1_CD151\", \"CEACAM1_INSR\", \"ADAM9_ITGAV\", \"CDH1_PTPRF\", \"LGALS3_CLEC7A\", \"EFNB2_EPHA2\", \"HSP90B1_LDLR\", \"ANXA1_CD44\", \"APP_ITGA6\", \"EFNB1_EPHA2\", \"MDK_LRP1\", \"CALR_ITGA5\", \"HSPG2_FLT1\", \"ITGB1_RACK1\", \"DSG2_ITPR3\", \"ITGB1_PLAUR\", \"VEGFA_ITGAV\", \"ADAM9_ITGA3\", \"ITGB1_ITGAV\", \"APOE_SDC1\", \"ITGB1_ITGA3\", \"ITGB1_EPHA2\", \"ITGB1_ENG\", \"ITGB2_F11R\", \"COL1A1_CD36\", \"PSAP_LRP1\", \"CLSTN1_IGF2R\", \"PTPRC_CD44\", \"CALR_LRP1\", \"LAMC2_ITGA3\", \"PLXNB2_MET\", \"CDH1_MET\", \"MDK_SDC4\", \"PECAM1_ITGA5\", \"APP_SDC1\", \"CALR_CD44\", \"DSC2_INSR\", \"ITGB1_FAT1\", \"LAMC3_ITGA6\", \"CLSTN1_TFRC\", \"RTN4_CD44\", \"ADAM9_ITGB5\", \"HLA-E_PLXNA3\", \"APP_TNFRSF14\", \"CLSTN1_LRP1\", \"CDH1_RACK1\", \"MIF_TNFRSF14\", \"ITGB2_PLAUR\", \"LAMC2_CD151\", \"TNC_SDC1\", \"PLAU_CD44\", \"COL1A1_CD44\", \"ICAM1_ITGAX\", \"ANXA1_ACKR3\", \"VEGFA_FLT1\", \"TNC_ITGB6\", \"CALM1_INSR\", \"MDK_SDC1\", \"LGALS3_GPR35\", \"ITGB1_IGF2R\", \"CDH1_SLC1A5\", \"ITGB1_ITGA1\", \"HSPG2_ITGA2\", \"ITGB1_PTK2B\", \"ARF1_INSR\", \"CDH1_NCSTN\", \"GSTP1_CD44\", \"ANXA1_MET\", \"ANXA1_F2R\", \"PTPRC_CXCR4\", \"ITGB1_SDC1\", \"TNC_ITGAX\", \"LAMB1_ITGA6\", \"DSG2_FZD5\", \"ITGB1_CD46\", \"APOE_SDC4\", \"CDH1_ITGB7\", \"ITGB1_CD47\", \"CALR_NCSTN\", \"CALR_LGR4\", \"LAMB1_ITGA1\", \"CEACAM1_PTPN6\", \"APP_F2R\", \"HSPG2_LRP1\", \"ICAM1_IL2RG\", \"CD99_EPHA2\", \"COL1A1_SDC1\", \"HLA-DRA_CD4\", \"LIPH_LRP5\", \"TNC_ITGAV\", \"HSP90B1_LRP1\", \"NECTIN2_TNFRSF12A\", \"CALR_LRP5\", \"DSC2_FZD5\", \"ITGB2_ICAM1\", \"ITGB1_NCSTN\", \"TNFSF13_TNFRSF1A\", \"COL4A1_ITGA1\", \"PTPRF_RACK1\", \"CXCL3_ACKR3\", \"LGALS3_FCGR2A\", \"CLSTN1_CD47\", \"PECAM1_ITGAV\", \"RPS19_CD4\", \"PTPRF_MET\", \"EFNB2_SDC1\", \"ICAM1_CSF2RB\", \"A2M_LRP1\", \"APOE_LRP1\", \"FN1_RPSA\", \"ITGB1_SLC1A5\", \"CALM1_VIPR1\", \"PTPRF_INSR\", \"COL1A1_ITGAV\", \"HSPG2_KDR\", \"CDH1_KDR\", \"BMP2_ENG\", \"VEGFA_PTK2B\", \"MMP9_CD44\", \"ITGB1_ITGA8\", \"CXCL9_CXCR4\", \"COL1A1_ITGA2\", \"CDH1_EGFR\", \"GUCA2A_GUCY2C\", \"APOE_LDLR\", \"PIK3CB_FCGR3A\", \"VWF_ITGB5\", \"CCL5_CDH1\", \"CXCL9_BDKRB2\", \"ARF1_CD44\", \"DSC2_DLG1\", \"LAMC3_ITGAV\", \"TNFSF10_PIK3CB\", \"ITGB1_ITGA2\", \"APOE_SDC3\", \"ARF1_CD4\", \"CXCL9_LPAR2\", \"LRPAP1_SORT1\", \"TGFB1_ACVRL1\", \"TNFSF13_TNFRSF14\", \"SAA1_F2RL1\", \"NID1_NOTCH2\", \"CALR_IL7R\", \"ANXA1_C3AR1\", \"HSP90B1_TNFRSF1B\", \"LGALS3_ITGA2\", \"LAMB1_ITGA3\", \"BMP2_BMPR2\", \"COL1A1_ITGA1\", \"ANXA1_BDKRB2\", \"PTPRF_ERBB2\", \"APP_EPHA2\", \"NID1_NOTCH3\", \"HLA-DMA_CD4\", \"CALM1_RPSA\", \"LRPAP1_LDLR\", \"APP_TNFRSF21\", \"LAMC3_ITGB4\", \"DSG2_EGFR\", \"HSP90B1_EGFR\", \"APP_F2RL1\", \"GSTP1_LRP5\", \"COL1A1_ITGA3\", \"DSG2_CD44\", \"DSG2_INSR\", \"LGALS3_PTPRK\", \"CD99_INSR\", \"EFNB2_INSR\", \"CDH5_TGFBR2\", \"SERPINE1_PLAUR\", \"DSG2_PDGFRA\", \"APP_BDKRB2\", \"ITGA4_CXCR4\", \"PTPRF_PTPRA\", \"GRN_EGFR\", \"LAMB1_ITGB4\", \"F11R_TGFBR1\", \"PTPRC_CD2\", \"ARF1_LRP5\", \"EFNB2_FZD5\", \"CALR_EGFR\", \"APP_ACKR3\", \"HBEGF_CD44\", \"GSTP1_IL7R\", \"SERPING1_LRP1\", \"ITGB1_CSF2RB\", \"CCL5_SDC1\", \"LAMB1_SDC1\", \"TGFB1_ITGAV\", \"CLSTN1_M6PR\", \"AGT_F2R\", \"APOE_LRP5\", \"LRPAP1_LRP1\", \"ITGB2_ITGAX\", \"CEACAM1_EGFR\", \"CXCL10_CXCR4\", \"HLA-F_CD8A\", \"SAA1_F2R\", \"APP_TGFBR2\", \"ITGB1_DAB2\", \"ANXA1_F2RL1\", \"ICAM1_IL2RA\", \"PSEN1_NCSTN\", \"ARF1_PLD2\", \"LAMC3_ITGA3\", \"TGFB1_VDR\", \"ITGB1_ITGAX\", \"CXCL9_C3AR1\", \"COPA_NOTCH1\", \"ADM_PTGER4\", \"PLXNB2_PTPRK\", \"COL18A1_ITGA5\", \"JAG1_CD46\", \"PCDH1_DERL1\", \"PTPRC_MET\", \"APOE_SORL1\", \"SERPINA1_LRP1\", \"AGRN_LRP1\", \"CDH1_ERBB2\", \"WNT5A_SCARB2\", \"ADAM15_ITGA5\", \"HMGB2_ITPR3\", \"SEMA4D_PLXNB2\", \"NRG1_LSR\", \"MDK_SDC3\", \"CCL5_SDC4\", \"APP_CD36\", \"ITGB1_ITGA4\", \"PECAM1_ACKR3\", \"ANXA1_FPR3\", \"EFNB1_FZD5\", \"EFNB1_ERBB2\", \"VEGFA_PDGFRA\", \"MDK_PTPRB\", \"TGFB1_ENG\", \"COPA_SORT1\", \"TIMP1_LRP1\", \"PSAP_ERBB2\", \"CDH1_PKD1\", \"DSG2_SEC63\", \"NID1_ITGAV\", \"NENF_SEC63\", \"COL18A1_FLT1\", \"EFNB1_INSR\", \"PECAM1_SDC4\", \"CALM1_TNFRSF1B\", \"APP_NCSTN\", \"CALR_FAS\", \"PLAU_IGF2R\", \"DSG2_CXCR4\", \"CCL5_CXCR4\", \"SAA1_PTAFR\", \"NAMPT_ANXA6\", \"PIK3CB_ITGB4\", \"ITGB1_DAG1\", \"DSG2_DLG1\", \"LTB_TNFRSF1A\", \"CXCL10_BDKRB2\", \"SERPINA1_SDC2\", \"ADAM17_TNFRSF1A\", \"ARF1_MYLK\", \"ITGB2_ITGAL\", \"COL18A1_ITGB5\", \"A2M_TNFRSF14\", \"SAA1_C3AR1\", \"TGFB1_ITGB1\", \"HBEGF_ERBB3\", \"APP_HRH1\", \"DSC2_SEC63\", \"APOE_SDC2\", \"PIK3CB_FCGR2A\", \"ITGB1_CD36\", \"ITGB1_JAM3\", \"COL18A1_ITGA3\", \"GRN_TNFRSF1B\", \"LGALS3_TGFBR2\", \"APP_GPC1\", \"LAMC3_CD44\", \"SAA1_SELENOS\", \"ITGB1_PDGFRB\", \"FN1_CD44\", \"ITGB2_EGFR\", \"LRPAP1_SORL1\", \"APP_LRP1\", \"PECAM1_SDC1\", \"GMFB_ITPR3\", \"CXCL16_C3AR1\", \"LAMB1_ITGAV\", \"PIK3CB_PDGFRA\", \"TGFB1_F11R\", \"GSTP1_MYLK\", \"ITGA4_RPSA\", \"PDGFA_PDGFRA\", \"COL18A1_ITGAV\", \"CXCL16_LPAR2\", \"ANXA1_EGFR\", \"APP_C5AR1\", \"LAMB1_PTPRF\", \"SECTM1_CD7\", \"PSEN1_DAG1\", \"COPA_EGFR\", \"ITGB2_JAM3\", \"GAS6_AXL\", \"LAMB1_ITGA2\", \"MANF_SEC63\", \"LAMB2_RPSA\", \"COPA_SPHK1\", \"SERPINE2_LRP1\", \"CALR_MYLK\", \"VEGFB_ITGB1\", \"NAMPT_CUL5\", \"PSEN1_NOTCH1\", \"CXCL3_BDKRB2\", \"CCL5_BDKRB2\", \"COPA_NCSTN\", \"ITGA4_CD44\", \"TGFB1_ITGB5\", \"HMGB1_TLR2\", \"CD99_FZD5\", \"CXCL16_ACKR3\", \"LAMB2_ITGA6\", \"HMGB2_CD44\", \"WNT5A_TFRC\", \"GRN_CFTR\", \"LAMB1_SDC2\", \"HMGB2_DSG2\", \"AREG_ERBB3\", \"TGFB1_TGFBR2\", \"ANXA1_PTPRF\", \"CCL28_C3AR1\", \"TGFB1_ITGB6\", \"HSP90B1_ERBB2\", \"ANXA1_CD4\", \"GSTP1_FAS\", \"ADAM17_ITGA5\", \"CALM1_EGFR\", \"AGT_F2RL1\", \"PTPRC_IFNAR1\", \"VEGFA_NRP1\", \"CXCL10_C3AR1\", \"ADM_RAMP3\", \"PLAT_LRP1\", \"CXCL16_CXCR4\", \"NAMPT_IGF1R\", \"ARF1_FAS\", \"CXCL14_CXCR4\", \"PIK3CB_ERBB3\", \"F11R_JAM3\", \"GPNMB_EGFR\", \"CDH5_ACVRL1\", \"ANXA1_FAS\", \"CD320_TGFBR2\", \"DSG2_DAB2\", \"CALM1_MYLK\", \"CDH1_ITGAE\", \"CXCL16_BDKRB2\", \"HSPG2_DAG1\", \"VEGFA_AXL\", \"ICAM2_CD44\", \"CXCL3_C3AR1\", \"PIK3CB_TGFBR2\", \"WNT5A_LDLR\", \"ANXA1_CXCR4\", \"PSEN1_TGFBR1\", \"PTPRC_INSR\", \"VWF_ITGAV\", \"VEGFB_FAT1\", \"VEGFA_EPHB2\", \"EFNA1_TGFBR1\", \"PVR_CDH1\", \"AIMP1_RACK1\", \"COL1A1_DDR1\", \"PTPRC_ERBB2\", \"CXCL12_S1PR1\", \"CALM2_MYLK\", \"COPA_PDGFRB\", \"PSEN1_NOTCH2\", \"APP_C3AR1\", \"COL18A1_KDR\", \"APP_CXCR4\", \"HMGB1_TLR4\", \"CDH1_PTPRM\", \"DSC2_RYK\", \"COPA_CD8A\", \"FBN1_CLSTN1\", \"ADM_CALCRL\", \"AGT_ATP6AP2\", \"PTPRF_EGFR\", \"CSF1_CSF1R\", \"VEGFA_PIK3CB\", \"SAA1_BDKRB2\", \"JAG1_LRP1\", \"CCL5_C3AR1\", \"PIK3CB_IL2RG\", \"CDH1_CFTR\", \"PIK3CB_AXL\", \"APP_EDNRB\", \"ADM_VIPR1\", \"CCL28_C5AR1\", \"HDGF_FAS\", \"AREG_EGFR\", \"NAMPT_INSR\", \"VEGFA_PTPRB\", \"ITGB2_ICAM2\", \"LAMB1_FAS\", \"CXCL9_ACKR3\", \"YARS_RPSA\", \"CLSTN1_PRNP\", \"CXCL16_C5AR1\", \"TNFSF10_TNFRSF10B\", \"ADAM17_TNFRSF1B\", \"EFNA2_TGFBR1\", \"APP_LPAR2\", \"EFNB2_EPHB2\", \"FN1_EGFR\", \"PECAM1_CXCR4\", \"PTPRF_TGFBR2\", \"ADM_GIPR\", \"PLAU_LRP1\", \"EFNB1_SDC2\", \"TNFSF13_SDC2\", \"PDGFA_PDGFRB\", \"TGFB1_SDC2\", \"ITGA4_TFRC\", \"SAA1_ACKR3\", \"EFNA1_EPHB2\", \"NRG1_ERBB3\", \"CALM3_MYLK\", \"ITGB1_ITGA9\", \"ANXA1_C5AR1\", \"THBS1_LRP1\", \"SAA1_CXCR4\", \"OCLN_TGFBR2\", \"AGT_ACKR3\", \"HMGB1_AGTRAP\", \"BMP2_NEO1\", \"APP_IGF1R\", \"PTPRC_EGFR\", \"CDH5_P2RX4\", \"CCL28_CXCR4\", \"ITGB1_IGF1R\", \"F11R_PTPRB\", \"SERPINE1_LRP1\", \"F11R_TGFBR2\", \"APP_SORL1\", \"ITGAL_F11R\", \"AREG_ERBB2\", \"LAMB2_ITGB4\"]\n",
    "j_pairs = df.pair;"
   ]
  },
  {
   "cell_type": "code",
   "execution_count": 210,
   "metadata": {},
   "outputs": [],
   "source": [
    "# setdiff(r_pairs, j_pairs)\n",
    "j_only = setdiff(j_pairs, r_pairs)\n",
    "j_no_duplicates = setdiff(j_only, duplicates.pair);"
   ]
  },
  {
   "cell_type": "code",
   "execution_count": 209,
   "metadata": {},
   "outputs": [
    {
     "data": {
      "text/html": [
       "<div><div style = \"float: left;\"><span>43×6 DataFrame</span></div><div style = \"float: right;\"><span style = \"font-style: italic;\">18 rows omitted</span></div><div style = \"clear: both;\"></div></div><div class = \"data-frame\" style = \"overflow-x: scroll;\"><table class = \"data-frame\" style = \"margin-bottom: 6px;\"><thead><tr class = \"header\"><th class = \"rowNumber\" style = \"font-weight: bold; text-align: right;\">Row</th><th style = \"text-align: left;\">from</th><th style = \"text-align: left;\">to</th><th style = \"text-align: left;\">correlation</th><th style = \"text-align: left;\">ligand_FC</th><th style = \"text-align: left;\">Receptor_FC</th><th style = \"text-align: left;\">pair</th></tr><tr class = \"subheader headerLastRow\"><th class = \"rowNumber\" style = \"font-weight: bold; text-align: right;\"></th><th title = \"String\" style = \"text-align: left;\">String</th><th title = \"String\" style = \"text-align: left;\">String</th><th title = \"Float64\" style = \"text-align: left;\">Float64</th><th title = \"Float64\" style = \"text-align: left;\">Float64</th><th title = \"Float64\" style = \"text-align: left;\">Float64</th><th title = \"String\" style = \"text-align: left;\">String</th></tr></thead><tbody><tr><td class = \"rowNumber\" style = \"font-weight: bold; text-align: right;\">1</td><td style = \"text-align: left;\">COL4A1</td><td style = \"text-align: left;\">ITGB1</td><td style = \"text-align: right;\">0.681179</td><td style = \"text-align: right;\">2.4032</td><td style = \"text-align: right;\">1.1237</td><td style = \"text-align: left;\">COL4A1_ITGB1</td></tr><tr><td class = \"rowNumber\" style = \"font-weight: bold; text-align: right;\">2</td><td style = \"text-align: left;\">LGALS3</td><td style = \"text-align: left;\">ITGB1</td><td style = \"text-align: right;\">0.677309</td><td style = \"text-align: right;\">0.7695</td><td style = \"text-align: right;\">1.1237</td><td style = \"text-align: left;\">LGALS3_ITGB1</td></tr><tr><td class = \"rowNumber\" style = \"font-weight: bold; text-align: right;\">3</td><td style = \"text-align: left;\">HSP90B1</td><td style = \"text-align: left;\">ITGB1</td><td style = \"text-align: right;\">0.64627</td><td style = \"text-align: right;\">0.9562</td><td style = \"text-align: right;\">1.1237</td><td style = \"text-align: left;\">HSP90B1_ITGB1</td></tr><tr><td class = \"rowNumber\" style = \"font-weight: bold; text-align: right;\">4</td><td style = \"text-align: left;\">ADAM9</td><td style = \"text-align: left;\">CDH1</td><td style = \"text-align: right;\">0.63985</td><td style = \"text-align: right;\">0.9508</td><td style = \"text-align: right;\">0.8122</td><td style = \"text-align: left;\">ADAM9_CDH1</td></tr><tr><td class = \"rowNumber\" style = \"font-weight: bold; text-align: right;\">5</td><td style = \"text-align: left;\">HLA-DRA</td><td style = \"text-align: left;\">PTPRC</td><td style = \"text-align: right;\">0.634468</td><td style = \"text-align: right;\">1.2791</td><td style = \"text-align: right;\">1.6397</td><td style = \"text-align: left;\">HLA-DRA_PTPRC</td></tr><tr><td class = \"rowNumber\" style = \"font-weight: bold; text-align: right;\">6</td><td style = \"text-align: left;\">AREG</td><td style = \"text-align: left;\">ICAM1</td><td style = \"text-align: right;\">0.624456</td><td style = \"text-align: right;\">1.4834</td><td style = \"text-align: right;\">1.9715</td><td style = \"text-align: left;\">AREG_ICAM1</td></tr><tr><td class = \"rowNumber\" style = \"font-weight: bold; text-align: right;\">7</td><td style = \"text-align: left;\">HSPG2</td><td style = \"text-align: left;\">ITGB1</td><td style = \"text-align: right;\">0.62099</td><td style = \"text-align: right;\">1.3576</td><td style = \"text-align: right;\">1.1237</td><td style = \"text-align: left;\">HSPG2_ITGB1</td></tr><tr><td class = \"rowNumber\" style = \"font-weight: bold; text-align: right;\">8</td><td style = \"text-align: left;\">ADAM9</td><td style = \"text-align: left;\">ITGB1</td><td style = \"text-align: right;\">0.60568</td><td style = \"text-align: right;\">0.9508</td><td style = \"text-align: right;\">1.1237</td><td style = \"text-align: left;\">ADAM9_ITGB1</td></tr><tr><td class = \"rowNumber\" style = \"font-weight: bold; text-align: right;\">9</td><td style = \"text-align: left;\">PSEN1</td><td style = \"text-align: left;\">CDH1</td><td style = \"text-align: right;\">0.573752</td><td style = \"text-align: right;\">0.7368</td><td style = \"text-align: right;\">0.8122</td><td style = \"text-align: left;\">PSEN1_CDH1</td></tr><tr><td class = \"rowNumber\" style = \"font-weight: bold; text-align: right;\">10</td><td style = \"text-align: left;\">RTN4</td><td style = \"text-align: left;\">CD99</td><td style = \"text-align: right;\">0.56588</td><td style = \"text-align: right;\">0.8991</td><td style = \"text-align: right;\">0.9915</td><td style = \"text-align: left;\">RTN4_CD99</td></tr><tr><td class = \"rowNumber\" style = \"font-weight: bold; text-align: right;\">11</td><td style = \"text-align: left;\">LAMB1</td><td style = \"text-align: left;\">ITGB1</td><td style = \"text-align: right;\">0.539863</td><td style = \"text-align: right;\">1.1535</td><td style = \"text-align: right;\">1.1237</td><td style = \"text-align: left;\">LAMB1_ITGB1</td></tr><tr><td class = \"rowNumber\" style = \"font-weight: bold; text-align: right;\">12</td><td style = \"text-align: left;\">PSEN1</td><td style = \"text-align: left;\">ITGB1</td><td style = \"text-align: right;\">0.519305</td><td style = \"text-align: right;\">0.7368</td><td style = \"text-align: right;\">1.1237</td><td style = \"text-align: left;\">PSEN1_ITGB1</td></tr><tr><td class = \"rowNumber\" style = \"font-weight: bold; text-align: right;\">13</td><td style = \"text-align: left;\">LAMC2</td><td style = \"text-align: left;\">ITGB1</td><td style = \"text-align: right;\">0.50947</td><td style = \"text-align: right;\">1.1017</td><td style = \"text-align: right;\">1.1237</td><td style = \"text-align: left;\">LAMC2_ITGB1</td></tr><tr><td style = \"text-align: right;\">&vellip;</td><td style = \"text-align: right;\">&vellip;</td><td style = \"text-align: right;\">&vellip;</td><td style = \"text-align: right;\">&vellip;</td><td style = \"text-align: right;\">&vellip;</td><td style = \"text-align: right;\">&vellip;</td><td style = \"text-align: right;\">&vellip;</td></tr><tr><td class = \"rowNumber\" style = \"font-weight: bold; text-align: right;\">32</td><td style = \"text-align: left;\">AGRN</td><td style = \"text-align: left;\">ITGB1</td><td style = \"text-align: right;\">0.352483</td><td style = \"text-align: right;\">0.7952</td><td style = \"text-align: right;\">1.1237</td><td style = \"text-align: left;\">AGRN_ITGB1</td></tr><tr><td class = \"rowNumber\" style = \"font-weight: bold; text-align: right;\">33</td><td style = \"text-align: left;\">MMP9</td><td style = \"text-align: left;\">CDH1</td><td style = \"text-align: right;\">0.349233</td><td style = \"text-align: right;\">2.1697</td><td style = \"text-align: right;\">0.8122</td><td style = \"text-align: left;\">MMP9_CDH1</td></tr><tr><td class = \"rowNumber\" style = \"font-weight: bold; text-align: right;\">34</td><td style = \"text-align: left;\">SEMA7A</td><td style = \"text-align: left;\">ITGB1</td><td style = \"text-align: right;\">0.340886</td><td style = \"text-align: right;\">1.5367</td><td style = \"text-align: right;\">1.1237</td><td style = \"text-align: left;\">SEMA7A_ITGB1</td></tr><tr><td class = \"rowNumber\" style = \"font-weight: bold; text-align: right;\">35</td><td style = \"text-align: left;\">NPNT</td><td style = \"text-align: left;\">ITGB1</td><td style = \"text-align: right;\">0.321677</td><td style = \"text-align: right;\">0.7647</td><td style = \"text-align: right;\">1.1237</td><td style = \"text-align: left;\">NPNT_ITGB1</td></tr><tr><td class = \"rowNumber\" style = \"font-weight: bold; text-align: right;\">36</td><td style = \"text-align: left;\">ANXA1</td><td style = \"text-align: left;\">ITGA4</td><td style = \"text-align: right;\">0.309602</td><td style = \"text-align: right;\">1.3294</td><td style = \"text-align: right;\">1.6808</td><td style = \"text-align: left;\">ANXA1_ITGA4</td></tr><tr><td class = \"rowNumber\" style = \"font-weight: bold; text-align: right;\">37</td><td style = \"text-align: left;\">ADAM17</td><td style = \"text-align: left;\">ITGB1</td><td style = \"text-align: right;\">0.308816</td><td style = \"text-align: right;\">1.0064</td><td style = \"text-align: right;\">1.1237</td><td style = \"text-align: left;\">ADAM17_ITGB1</td></tr><tr><td class = \"rowNumber\" style = \"font-weight: bold; text-align: right;\">38</td><td style = \"text-align: left;\">FBN1</td><td style = \"text-align: left;\">ITGB1</td><td style = \"text-align: right;\">0.308436</td><td style = \"text-align: right;\">2.0041</td><td style = \"text-align: right;\">1.1237</td><td style = \"text-align: left;\">FBN1_ITGB1</td></tr><tr><td class = \"rowNumber\" style = \"font-weight: bold; text-align: right;\">39</td><td style = \"text-align: left;\">LAMB2</td><td style = \"text-align: left;\">ITGB1</td><td style = \"text-align: right;\">0.296145</td><td style = \"text-align: right;\">1.6537</td><td style = \"text-align: right;\">1.1237</td><td style = \"text-align: left;\">LAMB2_ITGB1</td></tr><tr><td class = \"rowNumber\" style = \"font-weight: bold; text-align: right;\">40</td><td style = \"text-align: left;\">ICAM3</td><td style = \"text-align: left;\">ITGB2</td><td style = \"text-align: right;\">0.288333</td><td style = \"text-align: right;\">0.9176</td><td style = \"text-align: right;\">2.1694</td><td style = \"text-align: left;\">ICAM3_ITGB2</td></tr><tr><td class = \"rowNumber\" style = \"font-weight: bold; text-align: right;\">41</td><td style = \"text-align: left;\">PTPRC</td><td style = \"text-align: left;\">ITGAL</td><td style = \"text-align: right;\">0.28596</td><td style = \"text-align: right;\">1.6397</td><td style = \"text-align: right;\">1.2148</td><td style = \"text-align: left;\">PTPRC_ITGAL</td></tr><tr><td class = \"rowNumber\" style = \"font-weight: bold; text-align: right;\">42</td><td style = \"text-align: left;\">EFNB1</td><td style = \"text-align: left;\">CD99</td><td style = \"text-align: right;\">0.253079</td><td style = \"text-align: right;\">0.7063</td><td style = \"text-align: right;\">0.9915</td><td style = \"text-align: left;\">EFNB1_CD99</td></tr><tr><td class = \"rowNumber\" style = \"font-weight: bold; text-align: right;\">43</td><td style = \"text-align: left;\">THBS1</td><td style = \"text-align: left;\">ITGB1</td><td style = \"text-align: right;\">0.219055</td><td style = \"text-align: right;\">1.6376</td><td style = \"text-align: right;\">1.1237</td><td style = \"text-align: left;\">THBS1_ITGB1</td></tr></tbody></table></div>"
      ],
      "text/latex": [
       "\\begin{tabular}{r|cccccc}\n",
       "\t& from & to & correlation & ligand\\_FC & Receptor\\_FC & pair\\\\\n",
       "\t\\hline\n",
       "\t& String & String & Float64 & Float64 & Float64 & String\\\\\n",
       "\t\\hline\n",
       "\t1 & COL4A1 & ITGB1 & 0.681179 & 2.4032 & 1.1237 & COL4A1\\_ITGB1 \\\\\n",
       "\t2 & LGALS3 & ITGB1 & 0.677309 & 0.7695 & 1.1237 & LGALS3\\_ITGB1 \\\\\n",
       "\t3 & HSP90B1 & ITGB1 & 0.64627 & 0.9562 & 1.1237 & HSP90B1\\_ITGB1 \\\\\n",
       "\t4 & ADAM9 & CDH1 & 0.63985 & 0.9508 & 0.8122 & ADAM9\\_CDH1 \\\\\n",
       "\t5 & HLA-DRA & PTPRC & 0.634468 & 1.2791 & 1.6397 & HLA-DRA\\_PTPRC \\\\\n",
       "\t6 & AREG & ICAM1 & 0.624456 & 1.4834 & 1.9715 & AREG\\_ICAM1 \\\\\n",
       "\t7 & HSPG2 & ITGB1 & 0.62099 & 1.3576 & 1.1237 & HSPG2\\_ITGB1 \\\\\n",
       "\t8 & ADAM9 & ITGB1 & 0.60568 & 0.9508 & 1.1237 & ADAM9\\_ITGB1 \\\\\n",
       "\t9 & PSEN1 & CDH1 & 0.573752 & 0.7368 & 0.8122 & PSEN1\\_CDH1 \\\\\n",
       "\t10 & RTN4 & CD99 & 0.56588 & 0.8991 & 0.9915 & RTN4\\_CD99 \\\\\n",
       "\t11 & LAMB1 & ITGB1 & 0.539863 & 1.1535 & 1.1237 & LAMB1\\_ITGB1 \\\\\n",
       "\t12 & PSEN1 & ITGB1 & 0.519305 & 0.7368 & 1.1237 & PSEN1\\_ITGB1 \\\\\n",
       "\t13 & LAMC2 & ITGB1 & 0.50947 & 1.1017 & 1.1237 & LAMC2\\_ITGB1 \\\\\n",
       "\t14 & COL1A1 & ITGB1 & 0.506127 & 1.9866 & 1.1237 & COL1A1\\_ITGB1 \\\\\n",
       "\t15 & COL18A1 & ITGB1 & 0.488393 & 1.6691 & 1.1237 & COL18A1\\_ITGB1 \\\\\n",
       "\t16 & ADAM15 & ITGB1 & 0.48663 & 0.6197 & 1.1237 & ADAM15\\_ITGB1 \\\\\n",
       "\t17 & GSTP1 & ITGA4 & 0.47953 & 0.7098 & 1.6808 & GSTP1\\_ITGA4 \\\\\n",
       "\t18 & TNC & ITGB1 & 0.457699 & 2.8139 & 1.1237 & TNC\\_ITGB1 \\\\\n",
       "\t19 & EFNB2 & CD99 & 0.455969 & 0.6323 & 0.9915 & EFNB2\\_CD99 \\\\\n",
       "\t20 & ADAM15 & CDH1 & 0.443826 & 0.6197 & 0.8122 & ADAM15\\_CDH1 \\\\\n",
       "\t21 & CALR & CD40 & 0.43929 & 0.8723 & 2.0787 & CALR\\_CD40 \\\\\n",
       "\t22 & RPS19 & ITGA4 & 0.437627 & 0.8499 & 1.6808 & RPS19\\_ITGA4 \\\\\n",
       "\t23 & MMP9 & ITGB1 & 0.411987 & 2.1697 & 1.1237 & MMP9\\_ITGB1 \\\\\n",
       "\t24 & RPS19 & ICAM1 & 0.408517 & 0.8499 & 1.9715 & RPS19\\_ICAM1 \\\\\n",
       "\t$\\dots$ & $\\dots$ & $\\dots$ & $\\dots$ & $\\dots$ & $\\dots$ & $\\dots$ \\\\\n",
       "\\end{tabular}\n"
      ],
      "text/plain": [
       "\u001b[1m43×6 DataFrame\u001b[0m\n",
       "\u001b[1m Row \u001b[0m│\u001b[1m from    \u001b[0m\u001b[1m to     \u001b[0m\u001b[1m correlation \u001b[0m\u001b[1m ligand_FC \u001b[0m\u001b[1m Receptor_FC \u001b[0m\u001b[1m pair          \u001b[0m\n",
       "     │\u001b[90m String  \u001b[0m\u001b[90m String \u001b[0m\u001b[90m Float64     \u001b[0m\u001b[90m Float64   \u001b[0m\u001b[90m Float64     \u001b[0m\u001b[90m String        \u001b[0m\n",
       "─────┼─────────────────────────────────────────────────────────────────────\n",
       "   1 │ COL4A1   ITGB1      0.681179     2.4032       1.1237  COL4A1_ITGB1\n",
       "   2 │ LGALS3   ITGB1      0.677309     0.7695       1.1237  LGALS3_ITGB1\n",
       "   3 │ HSP90B1  ITGB1      0.64627      0.9562       1.1237  HSP90B1_ITGB1\n",
       "   4 │ ADAM9    CDH1       0.63985      0.9508       0.8122  ADAM9_CDH1\n",
       "   5 │ HLA-DRA  PTPRC      0.634468     1.2791       1.6397  HLA-DRA_PTPRC\n",
       "   6 │ AREG     ICAM1      0.624456     1.4834       1.9715  AREG_ICAM1\n",
       "   7 │ HSPG2    ITGB1      0.62099      1.3576       1.1237  HSPG2_ITGB1\n",
       "   8 │ ADAM9    ITGB1      0.60568      0.9508       1.1237  ADAM9_ITGB1\n",
       "  ⋮  │    ⋮       ⋮          ⋮           ⋮           ⋮             ⋮\n",
       "  37 │ ADAM17   ITGB1      0.308816     1.0064       1.1237  ADAM17_ITGB1\n",
       "  38 │ FBN1     ITGB1      0.308436     2.0041       1.1237  FBN1_ITGB1\n",
       "  39 │ LAMB2    ITGB1      0.296145     1.6537       1.1237  LAMB2_ITGB1\n",
       "  40 │ ICAM3    ITGB2      0.288333     0.9176       2.1694  ICAM3_ITGB2\n",
       "  41 │ PTPRC    ITGAL      0.28596      1.6397       1.2148  PTPRC_ITGAL\n",
       "  42 │ EFNB1    CD99       0.253079     0.7063       0.9915  EFNB1_CD99\n",
       "  43 │ THBS1    ITGB1      0.219055     1.6376       1.1237  THBS1_ITGB1\n",
       "\u001b[36m                                                            28 rows omitted\u001b[0m"
      ]
     },
     "metadata": {},
     "output_type": "display_data"
    }
   ],
   "source": [
    "j_only_df = df[in.(df.pair, Ref(j_no_duplicates)), :]"
   ]
  },
  {
   "cell_type": "code",
   "execution_count": null,
   "metadata": {},
   "outputs": [],
   "source": []
  },
  {
   "cell_type": "code",
   "execution_count": null,
   "metadata": {},
   "outputs": [],
   "source": []
  },
  {
   "cell_type": "code",
   "execution_count": 58,
   "metadata": {},
   "outputs": [
    {
     "data": {
      "text/html": [
       "<div><div style = \"float: left;\"><span>3×6 DataFrame</span></div><div style = \"clear: both;\"></div></div><div class = \"data-frame\" style = \"overflow-x: scroll;\"><table class = \"data-frame\" style = \"margin-bottom: 6px;\"><thead><tr class = \"header\"><th class = \"rowNumber\" style = \"font-weight: bold; text-align: right;\">Row</th><th style = \"text-align: left;\">from</th><th style = \"text-align: left;\">to</th><th style = \"text-align: left;\">correlation</th><th style = \"text-align: left;\">ligand_FC</th><th style = \"text-align: left;\">Receptor_FC</th><th style = \"text-align: left;\">pair</th></tr><tr class = \"subheader headerLastRow\"><th class = \"rowNumber\" style = \"font-weight: bold; text-align: right;\"></th><th title = \"String\" style = \"text-align: left;\">String</th><th title = \"String\" style = \"text-align: left;\">String</th><th title = \"Float64\" style = \"text-align: left;\">Float64</th><th title = \"Float64\" style = \"text-align: left;\">Float64</th><th title = \"Float64\" style = \"text-align: left;\">Float64</th><th title = \"String\" style = \"text-align: left;\">String</th></tr></thead><tbody><tr><td class = \"rowNumber\" style = \"font-weight: bold; text-align: right;\">1</td><td style = \"text-align: left;\">C3</td><td style = \"text-align: left;\">CXCR4</td><td style = \"text-align: right;\">0.79157</td><td style = \"text-align: right;\">1.3346</td><td style = \"text-align: right;\">3.3869</td><td style = \"text-align: left;\">C3_CXCR4</td></tr><tr><td class = \"rowNumber\" style = \"font-weight: bold; text-align: right;\">2</td><td style = \"text-align: left;\">CCL19</td><td style = \"text-align: left;\">CXCR4</td><td style = \"text-align: right;\">0.757651</td><td style = \"text-align: right;\">4.2714</td><td style = \"text-align: right;\">3.3869</td><td style = \"text-align: left;\">CCL19_CXCR4</td></tr><tr><td class = \"rowNumber\" style = \"font-weight: bold; text-align: right;\">3</td><td style = \"text-align: left;\">RPS19</td><td style = \"text-align: left;\">RPSA</td><td style = \"text-align: right;\">0.647974</td><td style = \"text-align: right;\">0.5695</td><td style = \"text-align: right;\">0.4499</td><td style = \"text-align: left;\">RPS19_RPSA</td></tr></tbody></table></div>"
      ],
      "text/latex": [
       "\\begin{tabular}{r|cccccc}\n",
       "\t& from & to & correlation & ligand\\_FC & Receptor\\_FC & pair\\\\\n",
       "\t\\hline\n",
       "\t& String & String & Float64 & Float64 & Float64 & String\\\\\n",
       "\t\\hline\n",
       "\t1 & C3 & CXCR4 & 0.79157 & 1.3346 & 3.3869 & C3\\_CXCR4 \\\\\n",
       "\t2 & CCL19 & CXCR4 & 0.757651 & 4.2714 & 3.3869 & CCL19\\_CXCR4 \\\\\n",
       "\t3 & RPS19 & RPSA & 0.647974 & 0.5695 & 0.4499 & RPS19\\_RPSA \\\\\n",
       "\\end{tabular}\n"
      ],
      "text/plain": [
       "\u001b[1m3×6 DataFrame\u001b[0m\n",
       "\u001b[1m Row \u001b[0m│\u001b[1m from   \u001b[0m\u001b[1m to     \u001b[0m\u001b[1m correlation \u001b[0m\u001b[1m ligand_FC \u001b[0m\u001b[1m Receptor_FC \u001b[0m\u001b[1m pair        \u001b[0m\n",
       "     │\u001b[90m String \u001b[0m\u001b[90m String \u001b[0m\u001b[90m Float64     \u001b[0m\u001b[90m Float64   \u001b[0m\u001b[90m Float64     \u001b[0m\u001b[90m String      \u001b[0m\n",
       "─────┼──────────────────────────────────────────────────────────────────\n",
       "   1 │ C3      CXCR4      0.79157      1.3346       3.3869  C3_CXCR4\n",
       "   2 │ CCL19   CXCR4      0.757651     4.2714       3.3869  CCL19_CXCR4\n",
       "   3 │ RPS19   RPSA       0.647974     0.5695       0.4499  RPS19_RPSA"
      ]
     },
     "metadata": {},
     "output_type": "display_data"
    }
   ],
   "source": [
    "out[\"enriched_LRs\"]"
   ]
  },
  {
   "cell_type": "code",
   "execution_count": 19,
   "metadata": {},
   "outputs": [
    {
     "data": {
      "text/html": [
       "<div><div style = \"float: left;\"><span>3×6 DataFrame</span></div><div style = \"clear: both;\"></div></div><div class = \"data-frame\" style = \"overflow-x: scroll;\"><table class = \"data-frame\" style = \"margin-bottom: 6px;\"><thead><tr class = \"header\"><th class = \"rowNumber\" style = \"font-weight: bold; text-align: right;\">Row</th><th style = \"text-align: left;\">from</th><th style = \"text-align: left;\">to</th><th style = \"text-align: left;\">correlation</th><th style = \"text-align: left;\">ligand_FC</th><th style = \"text-align: left;\">Receptor_FC</th><th style = \"text-align: left;\">pair</th></tr><tr class = \"subheader headerLastRow\"><th class = \"rowNumber\" style = \"font-weight: bold; text-align: right;\"></th><th title = \"String\" style = \"text-align: left;\">String</th><th title = \"String\" style = \"text-align: left;\">String</th><th title = \"Float64\" style = \"text-align: left;\">Float64</th><th title = \"Float64\" style = \"text-align: left;\">Float64</th><th title = \"Float64\" style = \"text-align: left;\">Float64</th><th title = \"String\" style = \"text-align: left;\">String</th></tr></thead><tbody><tr><td class = \"rowNumber\" style = \"font-weight: bold; text-align: right;\">1</td><td style = \"text-align: left;\">C3</td><td style = \"text-align: left;\">CXCR4</td><td style = \"text-align: right;\">0.79157</td><td style = \"text-align: right;\">1.3346</td><td style = \"text-align: right;\">3.3869</td><td style = \"text-align: left;\">C3_CXCR4</td></tr><tr><td class = \"rowNumber\" style = \"font-weight: bold; text-align: right;\">2</td><td style = \"text-align: left;\">CCL19</td><td style = \"text-align: left;\">CXCR4</td><td style = \"text-align: right;\">0.757651</td><td style = \"text-align: right;\">4.2714</td><td style = \"text-align: right;\">3.3869</td><td style = \"text-align: left;\">CCL19_CXCR4</td></tr><tr><td class = \"rowNumber\" style = \"font-weight: bold; text-align: right;\">3</td><td style = \"text-align: left;\">RPS19</td><td style = \"text-align: left;\">RPSA</td><td style = \"text-align: right;\">0.647974</td><td style = \"text-align: right;\">0.5695</td><td style = \"text-align: right;\">0.4499</td><td style = \"text-align: left;\">RPS19_RPSA</td></tr></tbody></table></div>"
      ],
      "text/latex": [
       "\\begin{tabular}{r|cccccc}\n",
       "\t& from & to & correlation & ligand\\_FC & Receptor\\_FC & pair\\\\\n",
       "\t\\hline\n",
       "\t& String & String & Float64 & Float64 & Float64 & String\\\\\n",
       "\t\\hline\n",
       "\t1 & C3 & CXCR4 & 0.79157 & 1.3346 & 3.3869 & C3\\_CXCR4 \\\\\n",
       "\t2 & CCL19 & CXCR4 & 0.757651 & 4.2714 & 3.3869 & CCL19\\_CXCR4 \\\\\n",
       "\t3 & RPS19 & RPSA & 0.647974 & 0.5695 & 0.4499 & RPS19\\_RPSA \\\\\n",
       "\\end{tabular}\n"
      ],
      "text/plain": [
       "\u001b[1m3×6 DataFrame\u001b[0m\n",
       "\u001b[1m Row \u001b[0m│\u001b[1m from   \u001b[0m\u001b[1m to     \u001b[0m\u001b[1m correlation \u001b[0m\u001b[1m ligand_FC \u001b[0m\u001b[1m Receptor_FC \u001b[0m\u001b[1m pair        \u001b[0m\n",
       "     │\u001b[90m String \u001b[0m\u001b[90m String \u001b[0m\u001b[90m Float64     \u001b[0m\u001b[90m Float64   \u001b[0m\u001b[90m Float64     \u001b[0m\u001b[90m String      \u001b[0m\n",
       "─────┼──────────────────────────────────────────────────────────────────\n",
       "   1 │ C3      CXCR4      0.79157      1.3346       3.3869  C3_CXCR4\n",
       "   2 │ CCL19   CXCR4      0.757651     4.2714       3.3869  CCL19_CXCR4\n",
       "   3 │ RPS19   RPSA       0.647974     0.5695       0.4499  RPS19_RPSA"
      ]
     },
     "metadata": {},
     "output_type": "display_data"
    }
   ],
   "source": [
    "out[\"enriched_LRs\"]"
   ]
  },
  {
   "cell_type": "code",
   "execution_count": null,
   "metadata": {},
   "outputs": [],
   "source": []
  },
  {
   "cell_type": "code",
   "execution_count": null,
   "metadata": {},
   "outputs": [],
   "source": []
  },
  {
   "cell_type": "code",
   "execution_count": null,
   "metadata": {},
   "outputs": [],
   "source": [
    "df = DataFrame(label=String[], time=Float64[])\n",
    "\n",
    "for endi in [500, 1000, 1500, 2000, 3000, 5000, 8000]\n",
    "    for i in 1:20\n",
    "        t = @elapsed main(all_LR_network, endindex = endi)\n",
    "        push!(df, [\"0:$endi\", t])\n",
    "    end\n",
    "end"
   ]
  },
  {
   "cell_type": "code",
   "execution_count": 7,
   "metadata": {},
   "outputs": [
    {
     "data": {
      "text/html": [
       "<div><div style = \"float: left;\"><span>7×2 DataFrame</span></div><div style = \"clear: both;\"></div></div><div class = \"data-frame\" style = \"overflow-x: scroll;\"><table class = \"data-frame\" style = \"margin-bottom: 6px;\"><thead><tr class = \"header\"><th class = \"rowNumber\" style = \"font-weight: bold; text-align: right;\">Row</th><th style = \"text-align: left;\">label</th><th style = \"text-align: left;\">time_mean</th></tr><tr class = \"subheader headerLastRow\"><th class = \"rowNumber\" style = \"font-weight: bold; text-align: right;\"></th><th title = \"String\" style = \"text-align: left;\">String</th><th title = \"Float64\" style = \"text-align: left;\">Float64</th></tr></thead><tbody><tr><td class = \"rowNumber\" style = \"font-weight: bold; text-align: right;\">1</td><td style = \"text-align: left;\">0:500</td><td style = \"text-align: right;\">0.108225</td></tr><tr><td class = \"rowNumber\" style = \"font-weight: bold; text-align: right;\">2</td><td style = \"text-align: left;\">0:1000</td><td style = \"text-align: right;\">0.206401</td></tr><tr><td class = \"rowNumber\" style = \"font-weight: bold; text-align: right;\">3</td><td style = \"text-align: left;\">0:1500</td><td style = \"text-align: right;\">0.338295</td></tr><tr><td class = \"rowNumber\" style = \"font-weight: bold; text-align: right;\">4</td><td style = \"text-align: left;\">0:2000</td><td style = \"text-align: right;\">0.475303</td></tr><tr><td class = \"rowNumber\" style = \"font-weight: bold; text-align: right;\">5</td><td style = \"text-align: left;\">0:3000</td><td style = \"text-align: right;\">0.503264</td></tr><tr><td class = \"rowNumber\" style = \"font-weight: bold; text-align: right;\">6</td><td style = \"text-align: left;\">0:5000</td><td style = \"text-align: right;\">0.489117</td></tr><tr><td class = \"rowNumber\" style = \"font-weight: bold; text-align: right;\">7</td><td style = \"text-align: left;\">0:8000</td><td style = \"text-align: right;\">0.497635</td></tr></tbody></table></div>"
      ],
      "text/latex": [
       "\\begin{tabular}{r|cc}\n",
       "\t& label & time\\_mean\\\\\n",
       "\t\\hline\n",
       "\t& String & Float64\\\\\n",
       "\t\\hline\n",
       "\t1 & 0:500 & 0.108225 \\\\\n",
       "\t2 & 0:1000 & 0.206401 \\\\\n",
       "\t3 & 0:1500 & 0.338295 \\\\\n",
       "\t4 & 0:2000 & 0.475303 \\\\\n",
       "\t5 & 0:3000 & 0.503264 \\\\\n",
       "\t6 & 0:5000 & 0.489117 \\\\\n",
       "\t7 & 0:8000 & 0.497635 \\\\\n",
       "\\end{tabular}\n"
      ],
      "text/plain": [
       "\u001b[1m7×2 DataFrame\u001b[0m\n",
       "\u001b[1m Row \u001b[0m│\u001b[1m label  \u001b[0m\u001b[1m time_mean \u001b[0m\n",
       "     │\u001b[90m String \u001b[0m\u001b[90m Float64   \u001b[0m\n",
       "─────┼───────────────────\n",
       "   1 │ 0:500    0.108225\n",
       "   2 │ 0:1000   0.206401\n",
       "   3 │ 0:1500   0.338295\n",
       "   4 │ 0:2000   0.475303\n",
       "   5 │ 0:3000   0.503264\n",
       "   6 │ 0:5000   0.489117\n",
       "   7 │ 0:8000   0.497635"
      ]
     },
     "metadata": {},
     "output_type": "display_data"
    }
   ],
   "source": [
    "df_mean = combine(groupby(df, :label), :time => mean)\n",
    "# df_mean[!, :lang] .= \"Julia\"\n",
    "df_mean"
   ]
  },
  {
   "cell_type": "code",
   "execution_count": 8,
   "metadata": {},
   "outputs": [
    {
     "data": {
      "text/html": [
       "<div><div style = \"float: left;\"><span>7×4 DataFrame</span></div><div style = \"clear: both;\"></div></div><div class = \"data-frame\" style = \"overflow-x: scroll;\"><table class = \"data-frame\" style = \"margin-bottom: 6px;\"><thead><tr class = \"header\"><th class = \"rowNumber\" style = \"font-weight: bold; text-align: right;\">Row</th><th style = \"text-align: left;\">label</th><th style = \"text-align: left;\">time_mean</th><th style = \"text-align: left;\">r_mean</th><th style = \"text-align: left;\">speedup</th></tr><tr class = \"subheader headerLastRow\"><th class = \"rowNumber\" style = \"font-weight: bold; text-align: right;\"></th><th title = \"String\" style = \"text-align: left;\">String</th><th title = \"Float64\" style = \"text-align: left;\">Float64</th><th title = \"Float64\" style = \"text-align: left;\">Float64</th><th title = \"Float64\" style = \"text-align: left;\">Float64</th></tr></thead><tbody><tr><td class = \"rowNumber\" style = \"font-weight: bold; text-align: right;\">1</td><td style = \"text-align: left;\">0:500</td><td style = \"text-align: right;\">0.108225</td><td style = \"text-align: right;\">65.32</td><td style = \"text-align: right;\">603.557</td></tr><tr><td class = \"rowNumber\" style = \"font-weight: bold; text-align: right;\">2</td><td style = \"text-align: left;\">0:1000</td><td style = \"text-align: right;\">0.206401</td><td style = \"text-align: right;\">147.86</td><td style = \"text-align: right;\">716.373</td></tr><tr><td class = \"rowNumber\" style = \"font-weight: bold; text-align: right;\">3</td><td style = \"text-align: left;\">0:1500</td><td style = \"text-align: right;\">0.338295</td><td style = \"text-align: right;\">253.047</td><td style = \"text-align: right;\">748.009</td></tr><tr><td class = \"rowNumber\" style = \"font-weight: bold; text-align: right;\">4</td><td style = \"text-align: left;\">0:2000</td><td style = \"text-align: right;\">0.475303</td><td style = \"text-align: right;\">258.491</td><td style = \"text-align: right;\">543.845</td></tr><tr><td class = \"rowNumber\" style = \"font-weight: bold; text-align: right;\">5</td><td style = \"text-align: left;\">0:3000</td><td style = \"text-align: right;\">0.503264</td><td style = \"text-align: right;\">263.814</td><td style = \"text-align: right;\">524.205</td></tr><tr><td class = \"rowNumber\" style = \"font-weight: bold; text-align: right;\">6</td><td style = \"text-align: left;\">0:5000</td><td style = \"text-align: right;\">0.489117</td><td style = \"text-align: right;\">379.282</td><td style = \"text-align: right;\">775.442</td></tr><tr><td class = \"rowNumber\" style = \"font-weight: bold; text-align: right;\">7</td><td style = \"text-align: left;\">0:8000</td><td style = \"text-align: right;\">0.497635</td><td style = \"text-align: right;\">535.445</td><td style = \"text-align: right;\">1075.98</td></tr></tbody></table></div>"
      ],
      "text/latex": [
       "\\begin{tabular}{r|cccc}\n",
       "\t& label & time\\_mean & r\\_mean & speedup\\\\\n",
       "\t\\hline\n",
       "\t& String & Float64 & Float64 & Float64\\\\\n",
       "\t\\hline\n",
       "\t1 & 0:500 & 0.108225 & 65.32 & 603.557 \\\\\n",
       "\t2 & 0:1000 & 0.206401 & 147.86 & 716.373 \\\\\n",
       "\t3 & 0:1500 & 0.338295 & 253.047 & 748.009 \\\\\n",
       "\t4 & 0:2000 & 0.475303 & 258.491 & 543.845 \\\\\n",
       "\t5 & 0:3000 & 0.503264 & 263.814 & 524.205 \\\\\n",
       "\t6 & 0:5000 & 0.489117 & 379.282 & 775.442 \\\\\n",
       "\t7 & 0:8000 & 0.497635 & 535.445 & 1075.98 \\\\\n",
       "\\end{tabular}\n"
      ],
      "text/plain": [
       "\u001b[1m7×4 DataFrame\u001b[0m\n",
       "\u001b[1m Row \u001b[0m│\u001b[1m label  \u001b[0m\u001b[1m time_mean \u001b[0m\u001b[1m r_mean  \u001b[0m\u001b[1m speedup  \u001b[0m\n",
       "     │\u001b[90m String \u001b[0m\u001b[90m Float64   \u001b[0m\u001b[90m Float64 \u001b[0m\u001b[90m Float64  \u001b[0m\n",
       "─────┼──────────────────────────────────────\n",
       "   1 │ 0:500    0.108225   65.32    603.557\n",
       "   2 │ 0:1000   0.206401  147.86    716.373\n",
       "   3 │ 0:1500   0.338295  253.047   748.009\n",
       "   4 │ 0:2000   0.475303  258.491   543.845\n",
       "   5 │ 0:3000   0.503264  263.814   524.205\n",
       "   6 │ 0:5000   0.489117  379.282   775.442\n",
       "   7 │ 0:8000   0.497635  535.445  1075.98"
      ]
     },
     "metadata": {},
     "output_type": "display_data"
    }
   ],
   "source": [
    "df_mean[!, :r_mean] = [65.32004, 147.86019, 253.04721, 258.49103, 263.81379, 379.28183, 535.44503]\n",
    "df_mean[!, :speedup] .= df_mean.r_mean ./ df_mean.time_mean\n",
    "df_mean"
   ]
  },
  {
   "cell_type": "code",
   "execution_count": 9,
   "metadata": {},
   "outputs": [],
   "source": [
    "# # Results from R benchmark\n",
    "# r_scores = [65.32004, 147.86019, 253.04721, 258.49103, 263.81379, 379.28183, 535.44503]\n",
    "# labels = df_mean[!, :label]\n",
    "# for i in 1:length(labels)\n",
    "#     push!(df_mean, [labels[i], r_scores[i], \"R\"])\n",
    "# end\n",
    "# df_mean"
   ]
  },
  {
   "cell_type": "code",
   "execution_count": 10,
   "metadata": {},
   "outputs": [],
   "source": [
    "# @df df_mean groupedhist(:time_mean, group = :lang, bar_position = :dodge)"
   ]
  },
  {
   "cell_type": "code",
   "execution_count": 11,
   "metadata": {},
   "outputs": [],
   "source": [
    "# groupedbar(df_mean[!, :label], df_mean[!, :time_mean], group = df_mean[!, :lang], xlabel = \"Groups\", ylabel = \"Scores\",\n",
    "#         title = \"Scores by group and category\", bar_width = 0.67,\n",
    "#         lw = 0, framestyle = :box)"
   ]
  },
  {
   "cell_type": "code",
   "execution_count": 12,
   "metadata": {},
   "outputs": [],
   "source": []
  },
  {
   "cell_type": "code",
   "execution_count": 13,
   "metadata": {},
   "outputs": [],
   "source": []
  },
  {
   "cell_type": "code",
   "execution_count": 14,
   "metadata": {},
   "outputs": [],
   "source": []
  }
 ],
 "metadata": {
  "kernelspec": {
   "display_name": "Julia 1.9.3",
   "language": "julia",
   "name": "julia-1.9"
  },
  "language_info": {
   "file_extension": ".jl",
   "mimetype": "application/julia",
   "name": "julia",
   "version": "1.9.3"
  },
  "orig_nbformat": 4
 },
 "nbformat": 4,
 "nbformat_minor": 2
}
