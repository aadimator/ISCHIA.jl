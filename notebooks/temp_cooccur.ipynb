{
 "cells": [
  {
   "cell_type": "markdown",
   "metadata": {},
   "source": [
    "# Temporary workspace\n",
    "\n",
    "For porting ISCHIA co-occurence function to Julia"
   ]
  },
  {
   "cell_type": "code",
   "execution_count": 50,
   "metadata": {},
   "outputs": [],
   "source": [
    "using Muon\n",
    "using RData\n",
    "using Rmath\n",
    "using Random\n",
    "using DataFrames\n",
    "using Statistics\n",
    "using ProgressMeter\n",
    "using Combinatorics"
   ]
  },
  {
   "cell_type": "code",
   "execution_count": 56,
   "metadata": {},
   "outputs": [
    {
     "name": "stdout",
     "output_type": "stream",
     "text": [
      "Preparing L-R presence/absence matrix\n",
      "Calculating L-R pairs correlation\n"
     ]
    }
   ],
   "source": [
    "mdata = readh5mu(\"../data/mudata.h5mu\")\n",
    "lr_network = load(\"../data/lr_network.rds\")\n",
    "\n",
    "gene_names = mdata[\"SCT\"].var.name\n",
    "mdata[\"Spatial\"].var_names = mdata[\"Spatial\"].var.name\n",
    "\n",
    "# Create LR_Pairs column\n",
    "lr_network[!, :LR_Pairs] = string.(lr_network.from, \"_\", lr_network.to);\n",
    "lr_network = lr_network[:, [:from, :to, :LR_Pairs]]\n",
    "\n",
    "# Filter lr_network based on conditions\n",
    "from_filter = in.(lr_network[:, :from], Ref(gene_names))\n",
    "to_filter = in.(lr_network[:, :to], Ref(gene_names))\n",
    "all_LR_network = lr_network[from_filter .& to_filter, :]\n",
    "\n",
    "# To reduce the computation time for this example, we randomly sample from the whole dataset of LR interactions\n",
    "\n",
    "# all_LR_network = all_LR_network[shuffle(1:size(all_LR_network_exp, 1)), :]\n",
    "all_LR_network = all_LR_network[1501:min(2000, end), :]\n",
    "\n",
    "# Extract unique genes and common genes\n",
    "all_LR_genes = unique(vcat(all_LR_network[:, :from], all_LR_network[:, :to]))\n",
    "all_LR_genes_comm = intersect(all_LR_genes, collect(gene_names));\n",
    "\n",
    "# Create LR.pairs and LR.pairs.AllCombos\n",
    "LR_pairs = all_LR_network[:, :LR_Pairs]\n",
    "all_combos = [join(combo, \"_\") for combo in combinations(all_LR_genes_comm, 2)];\n",
    "\n",
    "adata = mdata[\"Spatial\"]\n",
    "COI = [\"CC4\"]\n",
    "Condition = unique(adata.obs[!, \"orig.ident\"])\n",
    "LR_list = all_LR_genes_comm\n",
    "LR_pairs = LR_pairs\n",
    "exp_th = 1\n",
    "corr_th = 0.2\n",
    "\n",
    "println(\"Preparing L-R presence/absence matrix\")\n",
    "\n",
    "# Subset the expression matrix for the interested ligands and receptors\n",
    "spatial_obj_exp_LR_subset_raw = adata[:, in.(adata.var.name, Ref(LR_list))]\n",
    "\n",
    "# Binarize the expression matrix based on the expression threshold\n",
    "spatial_obj_exp_LR_subset_raw_binary = spatial_obj_exp_LR_subset_raw.layers[\"counts\"] .> exp_th\n",
    "spatial_obj_exp_LR_subset_raw.layers[\"binary\"] = spatial_obj_exp_LR_subset_raw_binary\n",
    "\n",
    "LR_subset_raw_binary_mask_col = vec(sum(spatial_obj_exp_LR_subset_raw_binary, dims=1) .> 0)\n",
    "LR_subset_raw_binary_mask_row = vec(sum(spatial_obj_exp_LR_subset_raw_binary, dims=2) .> 0)\n",
    "\n",
    "LR_presence_absence = spatial_obj_exp_LR_subset_raw[LR_subset_raw_binary_mask_row, LR_subset_raw_binary_mask_col]\n",
    "\n",
    "\n",
    "# Filter spots based on COI and Condition\n",
    "mask = (adata.obs[:, \"CompositionCluster_CC\"] .∈ Ref(COI)) .& (adata.obs[:, \"orig.ident\"] .∈ Ref(Condition))\n",
    "COI_spots = adata.obs_names[mask]\n",
    "rest_of_spots = setdiff(adata.obs_names, COI_spots)\n",
    "\n",
    "println(\"Calculating L-R pairs correlation\")\n",
    "COI_cors_adata = spatial_obj_exp_LR_subset_raw[mask, :]\n",
    "COI_cors = cor(Array(COI_cors_adata.layers[\"counts\"]))\n",
    "COI_cors[isnan.(COI_cors)] .= 0.0;\n"
   ]
  },
  {
   "cell_type": "code",
   "execution_count": 57,
   "metadata": {},
   "outputs": [
    {
     "data": {
      "text/plain": [
       "243-element Vector{String}:\n",
       " \"CSF1\"\n",
       " \"WNT11\"\n",
       " \"PTN\"\n",
       " \"WNT3\"\n",
       " \"IHH\"\n",
       " \"SHH\"\n",
       " \"CCL26\"\n",
       " \"DHH\"\n",
       " \"ADAM17\"\n",
       " \"MDK\"\n",
       " ⋮\n",
       " \"GFRA1\"\n",
       " \"DCC\"\n",
       " \"ITGA1\"\n",
       " \"ROBO3\"\n",
       " \"ITGB4\"\n",
       " \"ITGA6\"\n",
       " \"UNC5A\"\n",
       " \"ROBO2\"\n",
       " \"TYRO3\""
      ]
     },
     "metadata": {},
     "output_type": "display_data"
    }
   ],
   "source": [
    "LR_list"
   ]
  },
  {
   "cell_type": "code",
   "execution_count": 59,
   "metadata": {},
   "outputs": [
    {
     "data": {
      "text/plain": [
       "1"
      ]
     },
     "metadata": {},
     "output_type": "display_data"
    }
   ],
   "source": [
    "sum(adata.var_names .== \"CSF1\")"
   ]
  },
  {
   "cell_type": "code",
   "execution_count": 61,
   "metadata": {},
   "outputs": [
    {
     "data": {
      "text/plain": [
       "243-element Vector{String}:\n",
       " \"CSF1\"\n",
       " \"WNT11\"\n",
       " \"PTN\"\n",
       " \"WNT3\"\n",
       " \"IHH\"\n",
       " \"SHH\"\n",
       " \"CCL26\"\n",
       " \"DHH\"\n",
       " \"ADAM17\"\n",
       " \"MDK\"\n",
       " ⋮\n",
       " \"GFRA1\"\n",
       " \"DCC\"\n",
       " \"ITGA1\"\n",
       " \"ROBO3\"\n",
       " \"ITGB4\"\n",
       " \"ITGA6\"\n",
       " \"UNC5A\"\n",
       " \"ROBO2\"\n",
       " \"TYRO3\""
      ]
     },
     "metadata": {},
     "output_type": "display_data"
    }
   ],
   "source": [
    "adata[:, LR_list].var.name"
   ]
  },
  {
   "cell_type": "code",
   "execution_count": 29,
   "metadata": {},
   "outputs": [
    {
     "ename": "KeyError",
     "evalue": "KeyError: key \"CSF1\" not found",
     "output_type": "error",
     "traceback": [
      "KeyError: key \"CSF1\" not found\n",
      "\n",
      "Stacktrace:\n",
      "  [1] getindex(idx::Muon.Index{String, UInt16}, elem::String, #unused#::Val{true})\n",
      "    @ Muon C:\\Users\\mraadam\\.julia\\packages\\Muon\\aQhj4\\src\\index.jl:183\n",
      "  [2] #5\n",
      "    @ .\\none:0 [inlined]\n",
      "  [3] MappingRF\n",
      "    @ .\\reduce.jl:95 [inlined]\n",
      "  [4] _foldl_impl(op::Base.MappingRF{Muon.var\"#5#6\"{Muon.Index{String, UInt16}, Val{true}}, Base.BottomRF{typeof(vcat)}}, init::Base._InitialValue, itr::Vector{String})\n",
      "    @ Base .\\reduce.jl:58\n",
      "  [5] foldl_impl\n",
      "    @ .\\reduce.jl:48 [inlined]\n",
      "  [6] mapfoldl_impl\n",
      "    @ .\\reduce.jl:44 [inlined]\n",
      "  [7] #mapfoldl#288\n",
      "    @ .\\reduce.jl:170 [inlined]\n",
      "  [8] mapfoldl\n",
      "    @ .\\reduce.jl:170 [inlined]\n",
      "  [9] #mapreduce#292\n",
      "    @ .\\reduce.jl:302 [inlined]\n",
      " [10] mapreduce\n",
      "    @ .\\reduce.jl:302 [inlined]\n",
      " [11] #reduce#294\n",
      "    @ .\\reduce.jl:485 [inlined]\n",
      " [12] reduce\n",
      "    @ .\\reduce.jl:485 [inlined]\n",
      " [13] getindex(idx::Muon.Index{String, UInt16}, elems::Vector{String}, x::Val{true})\n",
      "    @ Muon C:\\Users\\mraadam\\.julia\\packages\\Muon\\aQhj4\\src\\index.jl:174\n",
      " [14] getindex(idx::Muon.Index{String, UInt16}, elems::Vector{String}, x::Bool)\n",
      "    @ Muon C:\\Users\\mraadam\\.julia\\packages\\Muon\\aQhj4\\src\\index.jl:168\n",
      " [15] convertidx\n",
      "    @ C:\\Users\\mraadam\\.julia\\packages\\Muon\\aQhj4\\src\\util.jl:88 [inlined]\n",
      " [16] getindex(adata::AnnData, I::Vector{String}, J::Colon)\n",
      "    @ Muon C:\\Users\\mraadam\\.julia\\packages\\Muon\\aQhj4\\src\\anndata.jl:266\n",
      " [17] top-level scope\n",
      "    @ c:\\Users\\mraadam\\.julia\\dev\\ISCHIA\\notebooks\\temp_cooccur.ipynb:1"
     ]
    }
   ],
   "source": [
    "adata[LR_list, :].var.name"
   ]
  },
  {
   "cell_type": "code",
   "execution_count": null,
   "metadata": {},
   "outputs": [],
   "source": []
  },
  {
   "cell_type": "code",
   "execution_count": null,
   "metadata": {},
   "outputs": [],
   "source": []
  },
  {
   "cell_type": "code",
   "execution_count": null,
   "metadata": {},
   "outputs": [],
   "source": [
    "\n",
    "println(\"Preparing for cooccurrence\")\n",
    "common_spots = intersect(LR_presence_absence.obs_names, COI_spots)\n",
    "coocur_COI = LR_presence_absence[common_spots, :]\n",
    "coocur_COI_exp = DataFrame(Matrix(transpose(coocur_COI.layers[\"binary\"])), common_spots)\n",
    "\n",
    "describe(coocur_COI_exp)"
   ]
  },
  {
   "cell_type": "markdown",
   "metadata": {},
   "source": [
    "## Co-Occurence Part\n",
    "\n",
    "The code above is used to setup the part below. Now both `R` and `Julia` code has same variables and data. So it'll be easier/possible to compare our output with theirs."
   ]
  },
  {
   "cell_type": "code",
   "execution_count": 6,
   "metadata": {},
   "outputs": [],
   "source": [
    "mat = coocur_COI_exp\n",
    "row_names = coocur_COI.var.name\n",
    "type = \"spp_site\"\n",
    "thresh = true\n",
    "spp_names = true\n",
    "true_rand_classifier = 0.1\n",
    "prob = \"hyper\"\n",
    "site_mask = nothing\n",
    "only_effects = false\n",
    "eff_standard = true\n",
    "eff_matrix = false;"
   ]
  },
  {
   "cell_type": "code",
   "execution_count": 7,
   "metadata": {},
   "outputs": [],
   "source": [
    "if type == \"spp_site\"\n",
    "    spp_site_mat = mat\n",
    "elseif type == \"site_spp\"\n",
    "    spp_site_mat = transpose(mat)\n",
    "else\n",
    "    error(\"Invalid 'type' parameter\")\n",
    "end\n",
    "\n",
    "\n",
    "# spp_site_mat\n",
    ";"
   ]
  },
  {
   "cell_type": "code",
   "execution_count": 10,
   "metadata": {},
   "outputs": [
    {
     "data": {
      "text/html": [
       "<div><div style = \"float: left;\"><span>177×2 DataFrame</span></div><div style = \"float: right;\"><span style = \"font-style: italic;\">152 rows omitted</span></div><div style = \"clear: both;\"></div></div><div class = \"data-frame\" style = \"overflow-x: scroll;\"><table class = \"data-frame\" style = \"margin-bottom: 6px;\"><thead><tr class = \"header\"><th class = \"rowNumber\" style = \"font-weight: bold; text-align: right;\">Row</th><th style = \"text-align: left;\">num</th><th style = \"text-align: left;\">spp</th></tr><tr class = \"subheader headerLastRow\"><th class = \"rowNumber\" style = \"font-weight: bold; text-align: right;\"></th><th title = \"Int64\" style = \"text-align: left;\">Int64</th><th title = \"String\" style = \"text-align: left;\">String</th></tr></thead><tbody><tr><td class = \"rowNumber\" style = \"font-weight: bold; text-align: right;\">1</td><td style = \"text-align: right;\">1</td><td style = \"text-align: left;\">AGRN</td></tr><tr><td class = \"rowNumber\" style = \"font-weight: bold; text-align: right;\">2</td><td style = \"text-align: right;\">2</td><td style = \"text-align: left;\">TNFRSF14</td></tr><tr><td class = \"rowNumber\" style = \"font-weight: bold; text-align: right;\">3</td><td style = \"text-align: right;\">3</td><td style = \"text-align: left;\">TNFRSF1B</td></tr><tr><td class = \"rowNumber\" style = \"font-weight: bold; text-align: right;\">4</td><td style = \"text-align: right;\">4</td><td style = \"text-align: left;\">EPHB2</td></tr><tr><td class = \"rowNumber\" style = \"font-weight: bold; text-align: right;\">5</td><td style = \"text-align: right;\">5</td><td style = \"text-align: left;\">PTCH2</td></tr><tr><td class = \"rowNumber\" style = \"font-weight: bold; text-align: right;\">6</td><td style = \"text-align: right;\">6</td><td style = \"text-align: left;\">LRP8</td></tr><tr><td class = \"rowNumber\" style = \"font-weight: bold; text-align: right;\">7</td><td style = \"text-align: right;\">7</td><td style = \"text-align: left;\">TGFBR3</td></tr><tr><td class = \"rowNumber\" style = \"font-weight: bold; text-align: right;\">8</td><td style = \"text-align: right;\">8</td><td style = \"text-align: left;\">SORT1</td></tr><tr><td class = \"rowNumber\" style = \"font-weight: bold; text-align: right;\">9</td><td style = \"text-align: right;\">9</td><td style = \"text-align: left;\">CSF1</td></tr><tr><td class = \"rowNumber\" style = \"font-weight: bold; text-align: right;\">10</td><td style = \"text-align: right;\">10</td><td style = \"text-align: left;\">NOTCH2</td></tr><tr><td class = \"rowNumber\" style = \"font-weight: bold; text-align: right;\">11</td><td style = \"text-align: right;\">11</td><td style = \"text-align: left;\">IL6R</td></tr><tr><td class = \"rowNumber\" style = \"font-weight: bold; text-align: right;\">12</td><td style = \"text-align: right;\">12</td><td style = \"text-align: left;\">EFNA1</td></tr><tr><td class = \"rowNumber\" style = \"font-weight: bold; text-align: right;\">13</td><td style = \"text-align: right;\">13</td><td style = \"text-align: left;\">NCSTN</td></tr><tr><td style = \"text-align: right;\">&vellip;</td><td style = \"text-align: right;\">&vellip;</td><td style = \"text-align: right;\">&vellip;</td></tr><tr><td class = \"rowNumber\" style = \"font-weight: bold; text-align: right;\">166</td><td style = \"text-align: right;\">166</td><td style = \"text-align: left;\">C5AR1</td></tr><tr><td class = \"rowNumber\" style = \"font-weight: bold; text-align: right;\">167</td><td style = \"text-align: right;\">167</td><td style = \"text-align: left;\">C5AR2</td></tr><tr><td class = \"rowNumber\" style = \"font-weight: bold; text-align: right;\">168</td><td style = \"text-align: right;\">168</td><td style = \"text-align: left;\">FPR1</td></tr><tr><td class = \"rowNumber\" style = \"font-weight: bold; text-align: right;\">169</td><td style = \"text-align: right;\">169</td><td style = \"text-align: left;\">THBD</td></tr><tr><td class = \"rowNumber\" style = \"font-weight: bold; text-align: right;\">170</td><td style = \"text-align: right;\">170</td><td style = \"text-align: left;\">SDC4</td></tr><tr><td class = \"rowNumber\" style = \"font-weight: bold; text-align: right;\">171</td><td style = \"text-align: right;\">171</td><td style = \"text-align: left;\">MMP9</td></tr><tr><td class = \"rowNumber\" style = \"font-weight: bold; text-align: right;\">172</td><td style = \"text-align: right;\">172</td><td style = \"text-align: left;\">EDN3</td></tr><tr><td class = \"rowNumber\" style = \"font-weight: bold; text-align: right;\">173</td><td style = \"text-align: right;\">173</td><td style = \"text-align: left;\">APP</td></tr><tr><td class = \"rowNumber\" style = \"font-weight: bold; text-align: right;\">174</td><td style = \"text-align: right;\">174</td><td style = \"text-align: left;\">IFNAR2</td></tr><tr><td class = \"rowNumber\" style = \"font-weight: bold; text-align: right;\">175</td><td style = \"text-align: right;\">175</td><td style = \"text-align: left;\">CSF2RA</td></tr><tr><td class = \"rowNumber\" style = \"font-weight: bold; text-align: right;\">176</td><td style = \"text-align: right;\">176</td><td style = \"text-align: left;\">IL3RA</td></tr><tr><td class = \"rowNumber\" style = \"font-weight: bold; text-align: right;\">177</td><td style = \"text-align: right;\">177</td><td style = \"text-align: left;\">CXCR3</td></tr></tbody></table></div>"
      ],
      "text/latex": [
       "\\begin{tabular}{r|cc}\n",
       "\t& num & spp\\\\\n",
       "\t\\hline\n",
       "\t& Int64 & String\\\\\n",
       "\t\\hline\n",
       "\t1 & 1 & AGRN \\\\\n",
       "\t2 & 2 & TNFRSF14 \\\\\n",
       "\t3 & 3 & TNFRSF1B \\\\\n",
       "\t4 & 4 & EPHB2 \\\\\n",
       "\t5 & 5 & PTCH2 \\\\\n",
       "\t6 & 6 & LRP8 \\\\\n",
       "\t7 & 7 & TGFBR3 \\\\\n",
       "\t8 & 8 & SORT1 \\\\\n",
       "\t9 & 9 & CSF1 \\\\\n",
       "\t10 & 10 & NOTCH2 \\\\\n",
       "\t11 & 11 & IL6R \\\\\n",
       "\t12 & 12 & EFNA1 \\\\\n",
       "\t13 & 13 & NCSTN \\\\\n",
       "\t14 & 14 & TNFSF4 \\\\\n",
       "\t15 & 15 & IL10 \\\\\n",
       "\t16 & 16 & AGT \\\\\n",
       "\t17 & 17 & ADAM17 \\\\\n",
       "\t18 & 18 & SDC1 \\\\\n",
       "\t19 & 19 & TGFA \\\\\n",
       "\t20 & 20 & TACR1 \\\\\n",
       "\t21 & 21 & INHBB \\\\\n",
       "\t22 & 22 & PROC \\\\\n",
       "\t23 & 23 & CXCR4 \\\\\n",
       "\t24 & 24 & ACVR2A \\\\\n",
       "\t$\\dots$ & $\\dots$ & $\\dots$ \\\\\n",
       "\\end{tabular}\n"
      ],
      "text/plain": [
       "\u001b[1m177×2 DataFrame\u001b[0m\n",
       "\u001b[1m Row \u001b[0m│\u001b[1m num   \u001b[0m\u001b[1m spp      \u001b[0m\n",
       "     │\u001b[90m Int64 \u001b[0m\u001b[90m String   \u001b[0m\n",
       "─────┼─────────────────\n",
       "   1 │     1  AGRN\n",
       "   2 │     2  TNFRSF14\n",
       "   3 │     3  TNFRSF1B\n",
       "   4 │     4  EPHB2\n",
       "   5 │     5  PTCH2\n",
       "   6 │     6  LRP8\n",
       "   7 │     7  TGFBR3\n",
       "   8 │     8  SORT1\n",
       "  ⋮  │   ⋮       ⋮\n",
       " 171 │   171  MMP9\n",
       " 172 │   172  EDN3\n",
       " 173 │   173  APP\n",
       " 174 │   174  IFNAR2\n",
       " 175 │   175  CSF2RA\n",
       " 176 │   176  IL3RA\n",
       " 177 │   177  CXCR3\n",
       "\u001b[36m       162 rows omitted\u001b[0m"
      ]
     },
     "metadata": {},
     "output_type": "display_data"
    }
   ],
   "source": [
    "if spp_names\n",
    "    spp_key = DataFrame(num=1:nrow(spp_site_mat), spp=row_names)\n",
    "end\n",
    "spp_key"
   ]
  },
  {
   "cell_type": "code",
   "execution_count": 304,
   "metadata": {},
   "outputs": [
    {
     "data": {
      "text/plain": [
       "calculate_cooccurrence_matrix"
      ]
     },
     "metadata": {},
     "output_type": "display_data"
    }
   ],
   "source": [
    "\"\"\"\n",
    "Calculate the co-occurrence matrix N from a binary species-site matrix.\n",
    "\n",
    "This function creates a species by species matrix of potential co-occurring sites (N) from a binary species by site matrix, where 1 represents potential occupancy, and 0 indicates species absence.\n",
    "\n",
    "# Arguments\n",
    "- `mat::Matrix{Int}`: A binary species by site matrix.\n",
    "\n",
    "# Returns\n",
    "A species by species matrix where the upper triangle contains N for each species pair.\n",
    "\n",
    "# Examples\n",
    "```julia\n",
    "# Define a binary species by site matrix\n",
    "# species_matrix = rand(Bool, num_species, num_sites)\n",
    "\n",
    "# Calculate the co-occurrence matrix N\n",
    "# cooccurrence_matrix = create_N_matrix(species_matrix)\n",
    "\n",
    "\"\"\"\n",
    "function calculate_cooccurrence_matrix(mat::Matrix{Int})\n",
    "    num_species = size(mat, 1)\n",
    "    cooccurrence_matrix = zeros(Int, num_species, num_species)\n",
    "    \n",
    "    for i in 1:num_species\n",
    "        for j in (i + 1):num_species\n",
    "            cooccurrence_matrix[i, j] = sum(mat[i, :] .* mat[j, :])\n",
    "            cooccurrence_matrix[j, i] = cooccurrence_matrix[i, j]\n",
    "        end\n",
    "    end\n",
    "    \n",
    "    return cooccurrence_matrix    \n",
    "end\n",
    "\n",
    "# finches = load(\"../data/finches.rda\")[\"finches\"]\n",
    "# N_matrix = rand(Bool, nrow(finches), ncol(finches))\n",
    "# create_N_matrix(N_matrix)\n"
   ]
  },
  {
   "cell_type": "code",
   "execution_count": 305,
   "metadata": {},
   "outputs": [],
   "source": [
    "if !isnothing(site_mask)\n",
    "    if size(site_mask) == size(spp_site_mat)\n",
    "        N_matrix = calculate_cooccurrence_matrix(site_mask)\n",
    "    else\n",
    "        error(\"Incorrect dimensions for 'site_mask', aborting.\")\n",
    "    end\n",
    "else\n",
    "    site_mask = ones(Int, size(spp_site_mat))\n",
    "    N_matrix = size(spp_site_mat, 2) * ones(Int, (size(spp_site_mat, 1), size(spp_site_mat, 1)))\n",
    "end\n",
    ";"
   ]
  },
  {
   "cell_type": "code",
   "execution_count": 306,
   "metadata": {},
   "outputs": [],
   "source": [
    "# spp_site_mat[spp_site_mat .> 0] .= 1"
   ]
  },
  {
   "cell_type": "code",
   "execution_count": 307,
   "metadata": {},
   "outputs": [],
   "source": [
    "tsites = size(spp_site_mat, 2)\n",
    "nspp = size(spp_site_mat, 1)\n",
    "spp_pairs = binomial(nspp, 2);"
   ]
  },
  {
   "cell_type": "code",
   "execution_count": 308,
   "metadata": {},
   "outputs": [
    {
     "data": {
      "text/plain": [
       "15576"
      ]
     },
     "metadata": {},
     "output_type": "display_data"
    }
   ],
   "source": [
    "spp_pairs"
   ]
  },
  {
   "cell_type": "code",
   "execution_count": 309,
   "metadata": {},
   "outputs": [],
   "source": [
    "obs_cooccur = zeros(Int, spp_pairs, 3)\n",
    "\n",
    "for x = [:prob_cooccur,:exp_cooccur]\n",
    "    @eval $x = zeros(Real, spp_pairs, 3)\n",
    "end\n",
    "\n",
    "incidence = zeros(Int, size(N_matrix));\n",
    "prob_occur = zeros(size(N_matrix));"
   ]
  },
  {
   "cell_type": "code",
   "execution_count": 310,
   "metadata": {},
   "outputs": [
    {
     "data": {
      "text/plain": [
       "(177, 177)"
      ]
     },
     "metadata": {},
     "output_type": "display_data"
    }
   ],
   "source": [
    "size(N_matrix)"
   ]
  },
  {
   "cell_type": "code",
   "execution_count": 314,
   "metadata": {},
   "outputs": [
    {
     "data": {
      "text/plain": [
       "(177, 177)"
      ]
     },
     "metadata": {},
     "output_type": "display_data"
    }
   ],
   "source": [
    "size(zeros(Int, 177, 177))"
   ]
  },
  {
   "cell_type": "code",
   "execution_count": 247,
   "metadata": {},
   "outputs": [
    {
     "name": "stderr",
     "output_type": "stream",
     "text": [
      "\r0.0%┣                                              ┫ 0/177 [00:00<00:00, -0s/it]\n",
      "\u001b[1A\r70.1%┣████████████████████████████▊            ┫ 124/177 [00:00<00:00, 2.4kit/s]\n",
      "\u001b[1A\r100.0%┣████████████████████████████████████████┫ 177/177 [00:00<00:00, 3.1kit/s]\n",
      "\u001b[1A\r100.0%┣████████████████████████████████████████┫ 177/177 [00:00<00:00, 3.1kit/s]\n"
     ]
    }
   ],
   "source": [
    "mat_matrix = Matrix(mat)\n",
    "for spp in ProgressBar(1:nspp)\n",
    "    if spp < nspp\n",
    "        for spp_next in (spp + 1):nspp\n",
    "            incidence[spp, spp_next] = sum(site_mask[spp, :] .* site_mask[spp_next, :] .* mat_matrix[spp, :])\n",
    "            incidence[spp_next, spp] = sum(site_mask[spp, :] .* site_mask[spp_next, :] .* mat_matrix[spp_next, :])\n",
    "        end\n",
    "    end\n",
    "end"
   ]
  },
  {
   "cell_type": "code",
   "execution_count": 248,
   "metadata": {},
   "outputs": [],
   "source": [
    "prob_occur .= incidence ./ N_matrix;\n",
    "describe(DataFrame(prob_occur, :auto));"
   ]
  },
  {
   "cell_type": "code",
   "execution_count": 317,
   "metadata": {},
   "outputs": [
    {
     "data": {
      "text/plain": [
       "(177, 13)"
      ]
     },
     "metadata": {},
     "output_type": "display_data"
    }
   ],
   "source": [
    "size(mat)"
   ]
  },
  {
   "cell_type": "code",
   "execution_count": 249,
   "metadata": {},
   "outputs": [
    {
     "name": "stderr",
     "output_type": "stream",
     "text": [
      "\r0.0%┣                                              ┫ 0/177 [00:00<00:00, -0s/it]\n"
     ]
    },
    {
     "name": "stderr",
     "output_type": "stream",
     "text": [
      "\u001b[1A\r42.4%┣█████████████████▉                        ┫ 75/177 [00:00<00:00, 1.5kit/s]\n",
      "\u001b[1A\r100.0%┣████████████████████████████████████████┫ 177/177 [00:00<00:00, 2.3kit/s]\n",
      "\u001b[1A\r100.0%┣████████████████████████████████████████┫ 177/177 [00:00<00:00, 2.2kit/s]\n"
     ]
    }
   ],
   "source": [
    "row = 0\n",
    "for spp in ProgressBar(1:nspp)\n",
    "    if spp < nspp\n",
    "        for spp_next in (spp + 1):nspp\n",
    "            pairs = sum(mat_matrix[spp, site_mask[spp, :] .* site_mask[spp_next, :] .== 1] .== 1 .&\n",
    "                mat_matrix[spp_next, site_mask[spp, :] .* site_mask[spp_next, :] .== 1] .== 1)\n",
    "            row += 1\n",
    "            obs_cooccur[row, 1] = spp\n",
    "            obs_cooccur[row, 2] = spp_next\n",
    "            obs_cooccur[row, 3] = pairs\n",
    "            prob_cooccur[row, 1] = spp\n",
    "            prob_cooccur[row, 2] = spp_next\n",
    "            prob_cooccur[row, 3] = prob_occur[spp, spp_next] * prob_occur[spp_next, spp]\n",
    "            exp_cooccur[row, 1] = spp\n",
    "            exp_cooccur[row, 2] = spp_next\n",
    "            exp_cooccur[row, 3] = prob_cooccur[row, 3] * N_matrix[spp, spp_next]\n",
    "        end\n",
    "    end\n",
    "end"
   ]
  },
  {
   "cell_type": "code",
   "execution_count": 250,
   "metadata": {},
   "outputs": [],
   "source": [
    "# describe(DataFrame(obs_cooccur, :auto))\n",
    "# describe(DataFrame(prob_cooccur, :auto))\n",
    "# describe(DataFrame(exp_cooccur, :auto))\n",
    "# Verified with R code"
   ]
  },
  {
   "cell_type": "code",
   "execution_count": 251,
   "metadata": {},
   "outputs": [
    {
     "data": {
      "text/plain": [
       "15540"
      ]
     },
     "metadata": {},
     "output_type": "display_data"
    }
   ],
   "source": [
    "if thresh\n",
    "    n_pairs = size(prob_cooccur, 1)\n",
    "    mask = exp_cooccur[:, 3] .>= 1\n",
    "    prob_cooccur = prob_cooccur[mask, :]\n",
    "    obs_cooccur = obs_cooccur[mask, :]\n",
    "    exp_cooccur = exp_cooccur[mask, :]\n",
    "    n_omitted = n_pairs - size(prob_cooccur, 1)\n",
    "end"
   ]
  },
  {
   "cell_type": "code",
   "execution_count": 252,
   "metadata": {},
   "outputs": [
    {
     "data": {
      "text/html": [
       "<div><div style = \"float: left;\"><span>0×9 DataFrame</span></div><div style = \"clear: both;\"></div></div><div class = \"data-frame\" style = \"overflow-x: scroll;\"><table class = \"data-frame\" style = \"margin-bottom: 6px;\"><thead><tr class = \"header\"><th class = \"rowNumber\" style = \"font-weight: bold; text-align: right;\">Row</th><th style = \"text-align: left;\">sp1</th><th style = \"text-align: left;\">sp2</th><th style = \"text-align: left;\">sp1_inc</th><th style = \"text-align: left;\">sp2_inc</th><th style = \"text-align: left;\">obs_cooccur</th><th style = \"text-align: left;\">prob_cooccur</th><th style = \"text-align: left;\">exp_cooccur</th><th style = \"text-align: left;\">p_lt</th><th style = \"text-align: left;\">p_gt</th></tr><tr class = \"subheader headerLastRow\"><th class = \"rowNumber\" style = \"font-weight: bold; text-align: right;\"></th><th title = \"Integer\" style = \"text-align: left;\">Integer</th><th title = \"Integer\" style = \"text-align: left;\">Integer</th><th title = \"Integer\" style = \"text-align: left;\">Integer</th><th title = \"Integer\" style = \"text-align: left;\">Integer</th><th title = \"Integer\" style = \"text-align: left;\">Integer</th><th title = \"Real\" style = \"text-align: left;\">Real</th><th title = \"Real\" style = \"text-align: left;\">Real</th><th title = \"Real\" style = \"text-align: left;\">Real</th><th title = \"Real\" style = \"text-align: left;\">Real</th></tr></thead><tbody></tbody></table></div>"
      ],
      "text/latex": [
       "\\begin{tabular}{r|ccccccccc}\n",
       "\t& sp1 & sp2 & sp1\\_inc & sp2\\_inc & obs\\_cooccur & prob\\_cooccur & exp\\_cooccur & p\\_lt & \\\\\n",
       "\t\\hline\n",
       "\t& Integer & Integer & Integer & Integer & Integer & Real & Real & Real & \\\\\n",
       "\t\\hline\n",
       "\\end{tabular}\n"
      ],
      "text/plain": [
       "\u001b[1m0×9 DataFrame\u001b[0m\n",
       "\u001b[1m Row \u001b[0m│\u001b[1m sp1     \u001b[0m\u001b[1m sp2     \u001b[0m\u001b[1m sp1_inc \u001b[0m\u001b[1m sp2_inc \u001b[0m\u001b[1m obs_cooccur \u001b[0m\u001b[1m prob_cooccur \u001b[0m\u001b[1m exp_cooc\u001b[0m ⋯\n",
       "     │\u001b[90m Integer \u001b[0m\u001b[90m Integer \u001b[0m\u001b[90m Integer \u001b[0m\u001b[90m Integer \u001b[0m\u001b[90m Integer     \u001b[0m\u001b[90m Real         \u001b[0m\u001b[90m Real    \u001b[0m ⋯\n",
       "─────┴──────────────────────────────────────────────────────────────────────────\n",
       "\u001b[36m                                                               3 columns omitted\u001b[0m"
      ]
     },
     "metadata": {},
     "output_type": "display_data"
    }
   ],
   "source": [
    "output = DataFrame(sp1=Integer[], sp2=Integer[], sp1_inc=Integer[], sp2_inc=Integer[],\n",
    "                       obs_cooccur=Integer[], prob_cooccur=Real[], exp_cooccur=Real[],\n",
    "                       p_lt=Real[], p_gt=Real[])"
   ]
  },
  {
   "cell_type": "code",
   "execution_count": 253,
   "metadata": {},
   "outputs": [
    {
     "data": {
      "text/plain": [
       "calculate_conditional_probability"
      ]
     },
     "metadata": {},
     "output_type": "display_data"
    }
   ],
   "source": [
    "\"\"\"\n",
    "    calculate_conditional_probability(max_successes, successes, min_successes, total_trials)\n",
    "\n",
    "Calculate the conditional probability using binomial coefficients.\n",
    "\n",
    "# Arguments\n",
    "- `successes::Int`: The number of successful trials.\n",
    "- `min_successes::Int`: The minimum number of successful trials.\n",
    "- `max_successes::Int`: The maximum number of successful trials.\n",
    "- `total_trials::Int`: The total number of trials.\n",
    "\n",
    "# Returns\n",
    "The calculated conditional probability as a floating-point number.\n",
    "\"\"\"\n",
    "function calculate_conditional_probability(\n",
    "    successes::Int, min_successes::Int, max_successes::Int, total_trials::Int\n",
    "    )::Real\n",
    "\n",
    "    # Calculate the numerator using binomial coefficients\n",
    "    numerator = binomial(max_successes, successes) * binomial(total_trials - max_successes, min_successes - successes)\n",
    "    \n",
    "    # Calculate the denominator using binomial coefficients\n",
    "    denominator = binomial(total_trials, min_successes)\n",
    "    \n",
    "    # Calculate and return the conditional probability\n",
    "    return numerator / denominator\n",
    "end\n",
    "\n",
    "# calculate_conditional_probability(4, 10, 20, 50)\n",
    "# Verified"
   ]
  },
  {
   "cell_type": "code",
   "execution_count": 254,
   "metadata": {},
   "outputs": [
    {
     "data": {
      "text/plain": [
       "8"
      ]
     },
     "metadata": {},
     "output_type": "display_data"
    }
   ],
   "source": [
    "maximum(incidence)"
   ]
  },
  {
   "cell_type": "code",
   "execution_count": 255,
   "metadata": {},
   "outputs": [
    {
     "name": "stderr",
     "output_type": "stream",
     "text": [
      "\r0.0%┣                                               ┫ 0/36 [00:00<00:00, -0s/it]\n"
     ]
    },
    {
     "name": "stderr",
     "output_type": "stream",
     "text": [
      "\u001b[1A\r100.0%┣███████████████████████████████████████████┫ 36/36 [00:00<00:00, 840it/s]\n",
      "\u001b[1A\r100.0%┣███████████████████████████████████████████┫ 36/36 [00:00<00:00, 828it/s]\n"
     ]
    }
   ],
   "source": [
    "# prob = \"comb\"\n",
    "for row in ProgressBar(1:size(obs_cooccur, 1))\n",
    "    sp1 = obs_cooccur[row, 1]\n",
    "    sp2 = obs_cooccur[row, 2]\n",
    "    sp1_inc = convert(Integer, incidence[sp1, sp2])\n",
    "    sp2_inc = convert(Integer, incidence[sp2, sp1])\n",
    "    max_inc = max(sp1_inc, sp2_inc)\n",
    "    min_inc = min(sp1_inc, sp2_inc)\n",
    "    nsite = N_matrix[sp1, sp2]\n",
    "    psite = nsite + 1\n",
    "    prob_share_site = zeros(Float64, psite)\n",
    "    \n",
    "    if prob == \"hyper\"\n",
    "        if !only_effects\n",
    "            all_probs = phyper.(0:min_inc, min_inc, nsite - min_inc, max_inc)\n",
    "            prob_share_site[1] = all_probs[1]\n",
    "            for j in 2:length(all_probs)\n",
    "                prob_share_site[j] = all_probs[j] - all_probs[j - 1]\n",
    "            end\n",
    "        else\n",
    "            for j in 0:nsite\n",
    "                if (sp1_inc + sp2_inc) <= (nsite + j)\n",
    "                    if j <= min_inc\n",
    "                        prob_share_site[j + 1] = 1\n",
    "                    end\n",
    "                end\n",
    "            end\n",
    "        end\n",
    "    end\n",
    "\n",
    "    if prob == \"comb\"\n",
    "        if !only_effects\n",
    "            for j in 0:nsite\n",
    "                if (sp1_inc + sp2_inc) <= (nsite + j)\n",
    "                    if j <= min_inc\n",
    "                        prob_share_site[j + 1] = calculate_conditional_probability(j, min_inc, max_inc, nsite)\n",
    "                    end\n",
    "                end\n",
    "            end\n",
    "        else\n",
    "            for j in 0:nsite\n",
    "                if (sp1_inc + sp2_inc) <= (nsite + j)\n",
    "                    if j <= min_inc\n",
    "                        prob_share_site[j + 1] = 1\n",
    "                    end\n",
    "                end\n",
    "            end\n",
    "        end\n",
    "    end\n",
    "\n",
    "    p_lt = 0.0\n",
    "    p_gt = 0.0\n",
    "    for j in 0:nsite\n",
    "        if j <= obs_cooccur[row, 3]\n",
    "            p_lt += prob_share_site[j + 1]\n",
    "        end\n",
    "        if j >= obs_cooccur[row, 3]\n",
    "            p_gt += prob_share_site[j + 1]\n",
    "        end\n",
    "        if j == obs_cooccur[row, 3]\n",
    "            p_exactly_obs = prob_share_site[j + 1]\n",
    "        end\n",
    "    end\n",
    "    \n",
    "    p_lt = round(p_lt, digits=5)\n",
    "    p_gt = round(p_gt, digits=5)\n",
    "    p_exactly_obs = round(p_exactly_obs, digits=5)\n",
    "    prob_cooccur[row, 3] = round(prob_cooccur[row, 3], digits=3)\n",
    "    exp_cooccur[row, 3] = round(exp_cooccur[row, 3], digits=1)\n",
    "    \n",
    "    push!(output, [sp1, sp2, sp1_inc, sp2_inc, obs_cooccur[row, 3],\n",
    "                   prob_cooccur[row, 3], exp_cooccur[row, 3], p_lt, p_gt])\n",
    "end\n",
    "\n",
    "# describe(output)\n",
    "# verified by R"
   ]
  },
  {
   "cell_type": "code",
   "execution_count": 281,
   "metadata": {},
   "outputs": [],
   "source": [
    "if spp_names\n",
    "    sp1_name = leftjoin(DataFrame(order = 1:length(output.sp1), sp1 = output.sp1), spp_key, on = :sp1 => :num, makeunique = true)\n",
    "    sp2_name = leftjoin(DataFrame(order = 1:length(output.sp2), sp2 = output.sp2), spp_key, on = :sp2 => :num, makeunique = true)\n",
    "    \n",
    "    output.sp1_name = sp1_name[sortperm(sp1_name.order), \"spp\"]\n",
    "    output.sp2_name = sp2_name[sortperm(sp2_name.order), \"spp\"]\n",
    "end\n",
    "\n",
    "output; #verified"
   ]
  },
  {
   "cell_type": "code",
   "execution_count": 287,
   "metadata": {},
   "outputs": [
    {
     "data": {
      "text/plain": [
       "20"
      ]
     },
     "metadata": {},
     "output_type": "display_data"
    }
   ],
   "source": [
    "true_rand = count(x -> (x.p_gt >= 0.05 && x.p_lt >= 0.05 && abs(x.obs_cooccur - x.exp_cooccur) <= (tsites * true_rand_classifier)), eachrow(output))"
   ]
  },
  {
   "cell_type": "code",
   "execution_count": 288,
   "metadata": {},
   "outputs": [
    {
     "data": {
      "text/plain": [
       "Dict{String, Any} with 11 entries:\n",
       "  \"co_occurrences\"       => 9\n",
       "  \"unclassifiable\"       => 7\n",
       "  \"percent_sig\"          => 25.0\n",
       "  \"results\"              => \u001b[1m36×11 DataFrame\u001b[0m\u001b[0m…\n",
       "  \"species\"              => 177\n",
       "  \"random\"               => 20\n",
       "  \"sites\"                => [13 13 … 13 13; 13 13 … 13 13; … ; 13 13 … 13 13; 1…\n",
       "  \"negative\"             => 0\n",
       "  \"pairs\"                => 36\n",
       "  \"positive\"             => 9\n",
       "  \"true_rand_classifier\" => 0.1"
      ]
     },
     "metadata": {},
     "output_type": "display_data"
    }
   ],
   "source": [
    "output_dict = Dict(\"results\"=>output,\n",
    "                       \"positive\"=>count(x -> x.p_gt < 0.05, eachrow(output)),\n",
    "                       \"negative\"=>count(x -> x.p_lt < 0.05, eachrow(output)),\n",
    "                       \"co_occurrences\"=>count(x -> x.p_gt < 0.05 || x.p_lt < 0.05, eachrow(output)),\n",
    "                       \"pairs\"=>size(output, 1),\n",
    "                       \"random\"=>true_rand,\n",
    "                       \"unclassifiable\"=>size(output, 1) - (true_rand + count(x -> x.p_gt < 0.05, eachrow(output)) + count(x -> x.p_lt < 0.05, eachrow(output))),\n",
    "                       \"sites\"=>N_matrix,\n",
    "                       \"species\"=>nspp,\n",
    "                       \"percent_sig\"=>count(x -> x.p_gt < 0.05 || x.p_lt < 0.05, eachrow(output)) / size(output, 1) * 100,\n",
    "                       \"true_rand_classifier\"=>true_rand_classifier)"
   ]
  },
  {
   "cell_type": "code",
   "execution_count": 292,
   "metadata": {},
   "outputs": [
    {
     "data": {
      "text/plain": [
       "177-element Vector{String}:\n",
       " \"AGRN\"\n",
       " \"TNFRSF14\"\n",
       " \"TNFRSF1B\"\n",
       " \"EPHB2\"\n",
       " \"PTCH2\"\n",
       " \"LRP8\"\n",
       " \"TGFBR3\"\n",
       " \"SORT1\"\n",
       " \"CSF1\"\n",
       " \"NOTCH2\"\n",
       " ⋮\n",
       " \"THBD\"\n",
       " \"SDC4\"\n",
       " \"MMP9\"\n",
       " \"EDN3\"\n",
       " \"APP\"\n",
       " \"IFNAR2\"\n",
       " \"CSF2RA\"\n",
       " \"IL3RA\"\n",
       " \"CXCR3\""
      ]
     },
     "metadata": {},
     "output_type": "display_data"
    }
   ],
   "source": [
    "if spp_names\n",
    "    output_dict[\"spp_key\"] = spp_key\n",
    "    output_dict[\"spp_names\"] = row_names\n",
    "else\n",
    "    output_dict[\"spp_names\"] = 1:size(spp_site_mat, 1)\n",
    "end"
   ]
  },
  {
   "cell_type": "code",
   "execution_count": 294,
   "metadata": {},
   "outputs": [
    {
     "data": {
      "text/plain": [
       "15576"
      ]
     },
     "metadata": {},
     "output_type": "display_data"
    }
   ],
   "source": [
    "if thresh\n",
    "    output_dict[\"omitted\"] = n_omitted\n",
    "    output_dict[\"pot_pairs\"] = n_pairs\n",
    "end\n",
    "\n",
    "# output_dict[\"class\"] = \"cooccur\""
   ]
  },
  {
   "cell_type": "code",
   "execution_count": null,
   "metadata": {},
   "outputs": [],
   "source": []
  },
  {
   "cell_type": "code",
   "execution_count": null,
   "metadata": {},
   "outputs": [],
   "source": [
    "\n",
    "function ISCHIA_cooccur(mat, type=\"spp_site\", thresh=true, spp_names=false,\n",
    "                         true_rand_classifier=0.1, prob=\"hyper\", site_mask=nothing,\n",
    "                         only_effects=false, eff_standard=true, eff_matrix=false)\n",
    "\n",
    "    \n",
    "    \n",
    "    \n",
    "    \n",
    "    \n",
    "    \n",
    "    \n",
    "    \n",
    "    return output_dict\n",
    "    # if !only_effects\n",
    "    #     return output_dict\n",
    "    # else\n",
    "    #     return effect_sizes(output_dict, standardized=eff_standard, matrix=eff_matrix)\n",
    "    # end\n",
    "end\n"
   ]
  }
 ],
 "metadata": {
  "kernelspec": {
   "display_name": "Julia 1.9.3",
   "language": "julia",
   "name": "julia-1.9"
  },
  "language_info": {
   "file_extension": ".jl",
   "mimetype": "application/julia",
   "name": "julia",
   "version": "1.9.3"
  },
  "orig_nbformat": 4
 },
 "nbformat": 4,
 "nbformat_minor": 2
}
