{
 "cells": [
  {
   "cell_type": "code",
   "execution_count": 44,
   "metadata": {},
   "outputs": [],
   "source": [
    "using Muon\n",
    "using RData\n",
    "using Revise\n",
    "using ISCHIA\n",
    "using DataFrames\n",
    "using Combinatorics"
   ]
  },
  {
   "cell_type": "code",
   "execution_count": 45,
   "metadata": {},
   "outputs": [
    {
     "data": {
      "text/plain": [
       "MuData object 2185 ✕ 55545\n",
       "└ Predictions\n",
       "  AnnData object 2185 ✕ 34\n",
       "└ Spatial\n",
       "  AnnData object 2185 ✕ 36601\n",
       "└ SCT\n",
       "  AnnData object 2185 ✕ 18910"
      ]
     },
     "metadata": {},
     "output_type": "display_data"
    }
   ],
   "source": [
    "mdata = readh5mu(\"../data/mudata.h5mu\")\n",
    "lr_network = load(\"../data/lr_network.rds\")\n",
    "\n",
    "mdata"
   ]
  },
  {
   "cell_type": "code",
   "execution_count": 46,
   "metadata": {},
   "outputs": [
    {
     "data": {
      "text/plain": [
       "(7067, 3)"
      ]
     },
     "metadata": {},
     "output_type": "display_data"
    }
   ],
   "source": [
    "gene_names = mdata[\"SCT\"].var.name\n",
    "# mdata[\"Spatial\"].var_names = gene_names\n",
    "\n",
    "# Create LR_Pairs column\n",
    "lr_network[!, :LR_Pairs] = string.(lr_network.from, \"_\", lr_network.to);\n",
    "lr_network = lr_network[:, [:from, :to, :LR_Pairs]]\n",
    "\n",
    "# Filter lr_network based on conditions\n",
    "from_filter = in.(lr_network[:, :from], Ref(gene_names))\n",
    "to_filter = in.(lr_network[:, :to], Ref(gene_names))\n",
    "all_LR_network = lr_network[from_filter .& to_filter, :];\n",
    "size(all_LR_network)"
   ]
  },
  {
   "cell_type": "code",
   "execution_count": 84,
   "metadata": {},
   "outputs": [
    {
     "data": {
      "text/plain": [
       "18910-element Vector{String}:\n",
       " \"AL627309.1\"\n",
       " \"AL627309.5\"\n",
       " \"LINC01409\"\n",
       " \"LINC01128\"\n",
       " \"LINC00115\"\n",
       " \"FAM41C\"\n",
       " \"LINC02593\"\n",
       " \"SAMD11\"\n",
       " \"NOC2L\"\n",
       " \"KLHL17\"\n",
       " ⋮\n",
       " \"POU3F4\"\n",
       " \"PABPC5\"\n",
       " \"NXF3\"\n",
       " \"AL023653.1\"\n",
       " \"AFF2\"\n",
       " \"TREX2\"\n",
       " \"F8A3\"\n",
       " \"AC136616.1\"\n",
       " \"AC007325.2\""
      ]
     },
     "metadata": {},
     "output_type": "display_data"
    }
   ],
   "source": [
    "mdata[\"SCT\"].var.name"
   ]
  },
  {
   "cell_type": "code",
   "execution_count": 47,
   "metadata": {},
   "outputs": [],
   "source": [
    "# Extract unique genes and common genes\n",
    "all_LR_genes = unique(vcat(all_LR_network[:, :from], all_LR_network[:, :to]))\n",
    "all_LR_genes_comm = intersect(all_LR_genes, collect(gene_names));\n",
    "\n",
    "# Create LR.pairs and LR.pairs.AllCombos\n",
    "LR_pairs = all_LR_network[:, :LR_Pairs]\n",
    "all_combos = [join(combo, \"_\") for combo in combinations(all_LR_genes_comm, 2)];"
   ]
  },
  {
   "cell_type": "code",
   "execution_count": 48,
   "metadata": {},
   "outputs": [
    {
     "data": {
      "text/plain": [
       "0.2"
      ]
     },
     "metadata": {},
     "output_type": "display_data"
    }
   ],
   "source": [
    "spatial_object = mdata[\"Spatial\"]\n",
    "spatial_object.var_names = spatial_object.var.name\n",
    "Condition = unique(spatial_object.obs[!, \"orig.ident\"])\n",
    "LR_list = all_LR_genes_comm\n",
    "LR_pairs = LR_pairs\n",
    "exp_th = 1\n",
    "corr_th = 0.2"
   ]
  },
  {
   "cell_type": "code",
   "execution_count": null,
   "metadata": {},
   "outputs": [],
   "source": [
    "lr_cc4 = find_enriched_LR_pairs(spatial_object, [\"CC4\"], Condition, LR_list, LR_pairs, exp_th, corr_th);\n",
    "lr_cc7 = find_enriched_LR_pairs(spatial_object, [\"CC7\"], Condition, LR_list, LR_pairs, exp_th, corr_th);"
   ]
  },
  {
   "cell_type": "code",
   "execution_count": 50,
   "metadata": {},
   "outputs": [
    {
     "data": {
      "text/html": [
       "<div><div style = \"float: left;\"><span>540×6 DataFrame</span></div><div style = \"float: right;\"><span style = \"font-style: italic;\">515 rows omitted</span></div><div style = \"clear: both;\"></div></div><div class = \"data-frame\" style = \"overflow-x: scroll;\"><table class = \"data-frame\" style = \"margin-bottom: 6px;\"><thead><tr class = \"header\"><th class = \"rowNumber\" style = \"font-weight: bold; text-align: right;\">Row</th><th style = \"text-align: left;\">from</th><th style = \"text-align: left;\">to</th><th style = \"text-align: left;\">correlation</th><th style = \"text-align: left;\">ligand_FC</th><th style = \"text-align: left;\">Receptor_FC</th><th style = \"text-align: left;\">pair</th></tr><tr class = \"subheader headerLastRow\"><th class = \"rowNumber\" style = \"font-weight: bold; text-align: right;\"></th><th title = \"String\" style = \"text-align: left;\">String</th><th title = \"String\" style = \"text-align: left;\">String</th><th title = \"Float64\" style = \"text-align: left;\">Float64</th><th title = \"Float64\" style = \"text-align: left;\">Float64</th><th title = \"Float64\" style = \"text-align: left;\">Float64</th><th title = \"String\" style = \"text-align: left;\">String</th></tr></thead><tbody><tr><td class = \"rowNumber\" style = \"font-weight: bold; text-align: right;\">1</td><td style = \"text-align: left;\">LGALS3</td><td style = \"text-align: left;\">ITGB4</td><td style = \"text-align: right;\">0.832963</td><td style = \"text-align: right;\">0.7695</td><td style = \"text-align: right;\">0.8609</td><td style = \"text-align: left;\">LGALS3_ITGB4</td></tr><tr><td class = \"rowNumber\" style = \"font-weight: bold; text-align: right;\">2</td><td style = \"text-align: left;\">CDHR5</td><td style = \"text-align: left;\">CDHR2</td><td style = \"text-align: right;\">0.830117</td><td style = \"text-align: right;\">0.7361</td><td style = \"text-align: right;\">0.9662</td><td style = \"text-align: left;\">CDHR5_CDHR2</td></tr><tr><td class = \"rowNumber\" style = \"font-weight: bold; text-align: right;\">3</td><td style = \"text-align: left;\">CDHR2</td><td style = \"text-align: left;\">CDHR5</td><td style = \"text-align: right;\">0.830117</td><td style = \"text-align: right;\">0.9662</td><td style = \"text-align: right;\">0.7361</td><td style = \"text-align: left;\">CDHR2_CDHR5</td></tr><tr><td class = \"rowNumber\" style = \"font-weight: bold; text-align: right;\">4</td><td style = \"text-align: left;\">HLA-E</td><td style = \"text-align: left;\">ITGA6</td><td style = \"text-align: right;\">0.780889</td><td style = \"text-align: right;\">1.1673</td><td style = \"text-align: right;\">0.7086</td><td style = \"text-align: left;\">HLA-E_ITGA6</td></tr><tr><td class = \"rowNumber\" style = \"font-weight: bold; text-align: right;\">5</td><td style = \"text-align: left;\">HLA-E</td><td style = \"text-align: left;\">PLXNB2</td><td style = \"text-align: right;\">0.779063</td><td style = \"text-align: right;\">1.1673</td><td style = \"text-align: right;\">0.7971</td><td style = \"text-align: left;\">HLA-E_PLXNB2</td></tr><tr><td class = \"rowNumber\" style = \"font-weight: bold; text-align: right;\">6</td><td style = \"text-align: left;\">COL1A1</td><td style = \"text-align: left;\">ITGA5</td><td style = \"text-align: right;\">0.764293</td><td style = \"text-align: right;\">1.9866</td><td style = \"text-align: right;\">1.872</td><td style = \"text-align: left;\">COL1A1_ITGA5</td></tr><tr><td class = \"rowNumber\" style = \"font-weight: bold; text-align: right;\">7</td><td style = \"text-align: left;\">DSC2</td><td style = \"text-align: left;\">LSR</td><td style = \"text-align: right;\">0.7638</td><td style = \"text-align: right;\">0.8149</td><td style = \"text-align: right;\">0.7539</td><td style = \"text-align: left;\">DSC2_LSR</td></tr><tr><td class = \"rowNumber\" style = \"font-weight: bold; text-align: right;\">8</td><td style = \"text-align: left;\">DSC2</td><td style = \"text-align: left;\">EPHA2</td><td style = \"text-align: right;\">0.759718</td><td style = \"text-align: right;\">0.8149</td><td style = \"text-align: right;\">0.8393</td><td style = \"text-align: left;\">DSC2_EPHA2</td></tr><tr><td class = \"rowNumber\" style = \"font-weight: bold; text-align: right;\">9</td><td style = \"text-align: left;\">GRN</td><td style = \"text-align: left;\">TNFRSF1A</td><td style = \"text-align: right;\">0.748926</td><td style = \"text-align: right;\">1.1756</td><td style = \"text-align: right;\">1.0184</td><td style = \"text-align: left;\">GRN_TNFRSF1A</td></tr><tr><td class = \"rowNumber\" style = \"font-weight: bold; text-align: right;\">10</td><td style = \"text-align: left;\">DSG2</td><td style = \"text-align: left;\">EPHA2</td><td style = \"text-align: right;\">0.737155</td><td style = \"text-align: right;\">0.7307</td><td style = \"text-align: right;\">0.8393</td><td style = \"text-align: left;\">DSG2_EPHA2</td></tr><tr><td class = \"rowNumber\" style = \"font-weight: bold; text-align: right;\">11</td><td style = \"text-align: left;\">DSG2</td><td style = \"text-align: left;\">LRP10</td><td style = \"text-align: right;\">0.735606</td><td style = \"text-align: right;\">0.7307</td><td style = \"text-align: right;\">0.9101</td><td style = \"text-align: left;\">DSG2_LRP10</td></tr><tr><td class = \"rowNumber\" style = \"font-weight: bold; text-align: right;\">12</td><td style = \"text-align: left;\">LAMC2</td><td style = \"text-align: left;\">ITGA2</td><td style = \"text-align: right;\">0.734249</td><td style = \"text-align: right;\">1.1017</td><td style = \"text-align: right;\">1.2222</td><td style = \"text-align: left;\">LAMC2_ITGA2</td></tr><tr><td class = \"rowNumber\" style = \"font-weight: bold; text-align: right;\">13</td><td style = \"text-align: left;\">DSC2</td><td style = \"text-align: left;\">DSG2</td><td style = \"text-align: right;\">0.722542</td><td style = \"text-align: right;\">0.8149</td><td style = \"text-align: right;\">0.7307</td><td style = \"text-align: left;\">DSC2_DSG2</td></tr><tr><td style = \"text-align: right;\">&vellip;</td><td style = \"text-align: right;\">&vellip;</td><td style = \"text-align: right;\">&vellip;</td><td style = \"text-align: right;\">&vellip;</td><td style = \"text-align: right;\">&vellip;</td><td style = \"text-align: right;\">&vellip;</td><td style = \"text-align: right;\">&vellip;</td></tr><tr><td class = \"rowNumber\" style = \"font-weight: bold; text-align: right;\">529</td><td style = \"text-align: left;\">PTPRC</td><td style = \"text-align: left;\">EGFR</td><td style = \"text-align: right;\">0.216559</td><td style = \"text-align: right;\">1.6397</td><td style = \"text-align: right;\">1.0176</td><td style = \"text-align: left;\">PTPRC_EGFR</td></tr><tr><td class = \"rowNumber\" style = \"font-weight: bold; text-align: right;\">530</td><td style = \"text-align: left;\">CDH5</td><td style = \"text-align: left;\">P2RX4</td><td style = \"text-align: right;\">0.21627</td><td style = \"text-align: right;\">2.243</td><td style = \"text-align: right;\">0.9859</td><td style = \"text-align: left;\">CDH5_P2RX4</td></tr><tr><td class = \"rowNumber\" style = \"font-weight: bold; text-align: right;\">531</td><td style = \"text-align: left;\">CCL28</td><td style = \"text-align: left;\">CXCR4</td><td style = \"text-align: right;\">0.212796</td><td style = \"text-align: right;\">0.6059</td><td style = \"text-align: right;\">1.2618</td><td style = \"text-align: left;\">CCL28_CXCR4</td></tr><tr><td class = \"rowNumber\" style = \"font-weight: bold; text-align: right;\">532</td><td style = \"text-align: left;\">ITGB1</td><td style = \"text-align: left;\">IGF1R</td><td style = \"text-align: right;\">0.206833</td><td style = \"text-align: right;\">1.1237</td><td style = \"text-align: right;\">0.8299</td><td style = \"text-align: left;\">ITGB1_IGF1R</td></tr><tr><td class = \"rowNumber\" style = \"font-weight: bold; text-align: right;\">533</td><td style = \"text-align: left;\">F11R</td><td style = \"text-align: left;\">PTPRB</td><td style = \"text-align: right;\">0.206814</td><td style = \"text-align: right;\">0.942</td><td style = \"text-align: right;\">1.2823</td><td style = \"text-align: left;\">F11R_PTPRB</td></tr><tr><td class = \"rowNumber\" style = \"font-weight: bold; text-align: right;\">534</td><td style = \"text-align: left;\">SERPINE1</td><td style = \"text-align: left;\">LRP1</td><td style = \"text-align: right;\">0.205949</td><td style = \"text-align: right;\">1.5213</td><td style = \"text-align: right;\">1.3051</td><td style = \"text-align: left;\">SERPINE1_LRP1</td></tr><tr><td class = \"rowNumber\" style = \"font-weight: bold; text-align: right;\">535</td><td style = \"text-align: left;\">F11R</td><td style = \"text-align: left;\">TGFBR2</td><td style = \"text-align: right;\">0.2052</td><td style = \"text-align: right;\">0.942</td><td style = \"text-align: right;\">1.4611</td><td style = \"text-align: left;\">F11R_TGFBR2</td></tr><tr><td class = \"rowNumber\" style = \"font-weight: bold; text-align: right;\">536</td><td style = \"text-align: left;\">APP</td><td style = \"text-align: left;\">SORL1</td><td style = \"text-align: right;\">0.204104</td><td style = \"text-align: right;\">0.8136</td><td style = \"text-align: right;\">0.6524</td><td style = \"text-align: left;\">APP_SORL1</td></tr><tr><td class = \"rowNumber\" style = \"font-weight: bold; text-align: right;\">537</td><td style = \"text-align: left;\">F11R</td><td style = \"text-align: left;\">ITGAL</td><td style = \"text-align: right;\">0.203744</td><td style = \"text-align: right;\">0.942</td><td style = \"text-align: right;\">1.2148</td><td style = \"text-align: left;\">F11R_ITGAL</td></tr><tr><td class = \"rowNumber\" style = \"font-weight: bold; text-align: right;\">538</td><td style = \"text-align: left;\">ITGAL</td><td style = \"text-align: left;\">F11R</td><td style = \"text-align: right;\">0.203744</td><td style = \"text-align: right;\">1.2148</td><td style = \"text-align: right;\">0.942</td><td style = \"text-align: left;\">ITGAL_F11R</td></tr><tr><td class = \"rowNumber\" style = \"font-weight: bold; text-align: right;\">539</td><td style = \"text-align: left;\">AREG</td><td style = \"text-align: left;\">ERBB2</td><td style = \"text-align: right;\">0.201982</td><td style = \"text-align: right;\">1.4834</td><td style = \"text-align: right;\">0.4776</td><td style = \"text-align: left;\">AREG_ERBB2</td></tr><tr><td class = \"rowNumber\" style = \"font-weight: bold; text-align: right;\">540</td><td style = \"text-align: left;\">LAMB2</td><td style = \"text-align: left;\">ITGB4</td><td style = \"text-align: right;\">0.201282</td><td style = \"text-align: right;\">1.6537</td><td style = \"text-align: right;\">0.8609</td><td style = \"text-align: left;\">LAMB2_ITGB4</td></tr></tbody></table></div>"
      ],
      "text/latex": [
       "\\begin{tabular}{r|cccccc}\n",
       "\t& from & to & correlation & ligand\\_FC & Receptor\\_FC & pair\\\\\n",
       "\t\\hline\n",
       "\t& String & String & Float64 & Float64 & Float64 & String\\\\\n",
       "\t\\hline\n",
       "\t1 & LGALS3 & ITGB4 & 0.832963 & 0.7695 & 0.8609 & LGALS3\\_ITGB4 \\\\\n",
       "\t2 & CDHR5 & CDHR2 & 0.830117 & 0.7361 & 0.9662 & CDHR5\\_CDHR2 \\\\\n",
       "\t3 & CDHR2 & CDHR5 & 0.830117 & 0.9662 & 0.7361 & CDHR2\\_CDHR5 \\\\\n",
       "\t4 & HLA-E & ITGA6 & 0.780889 & 1.1673 & 0.7086 & HLA-E\\_ITGA6 \\\\\n",
       "\t5 & HLA-E & PLXNB2 & 0.779063 & 1.1673 & 0.7971 & HLA-E\\_PLXNB2 \\\\\n",
       "\t6 & COL1A1 & ITGA5 & 0.764293 & 1.9866 & 1.872 & COL1A1\\_ITGA5 \\\\\n",
       "\t7 & DSC2 & LSR & 0.7638 & 0.8149 & 0.7539 & DSC2\\_LSR \\\\\n",
       "\t8 & DSC2 & EPHA2 & 0.759718 & 0.8149 & 0.8393 & DSC2\\_EPHA2 \\\\\n",
       "\t9 & GRN & TNFRSF1A & 0.748926 & 1.1756 & 1.0184 & GRN\\_TNFRSF1A \\\\\n",
       "\t10 & DSG2 & EPHA2 & 0.737155 & 0.7307 & 0.8393 & DSG2\\_EPHA2 \\\\\n",
       "\t11 & DSG2 & LRP10 & 0.735606 & 0.7307 & 0.9101 & DSG2\\_LRP10 \\\\\n",
       "\t12 & LAMC2 & ITGA2 & 0.734249 & 1.1017 & 1.2222 & LAMC2\\_ITGA2 \\\\\n",
       "\t13 & DSC2 & DSG2 & 0.722542 & 0.8149 & 0.7307 & DSC2\\_DSG2 \\\\\n",
       "\t14 & DSG2 & DSC2 & 0.722542 & 0.7307 & 0.8149 & DSG2\\_DSC2 \\\\\n",
       "\t15 & RPS19 & RPSA & 0.718279 & 0.8499 & 0.7268 & RPS19\\_RPSA \\\\\n",
       "\t16 & TNC & ITGA5 & 0.709979 & 2.8139 & 1.872 & TNC\\_ITGA5 \\\\\n",
       "\t17 & MIF & CD74 & 0.705286 & 0.9961 & 1.2571 & MIF\\_CD74 \\\\\n",
       "\t18 & DSG2 & LSR & 0.699518 & 0.7307 & 0.7539 & DSG2\\_LSR \\\\\n",
       "\t19 & CALM1 & TNFRSF1A & 0.697222 & 0.7865 & 1.0184 & CALM1\\_TNFRSF1A \\\\\n",
       "\t20 & CDH1 & DDR1 & 0.692245 & 0.8122 & 0.7374 & CDH1\\_DDR1 \\\\\n",
       "\t21 & COL4A1 & ITGB1 & 0.681179 & 2.4032 & 1.1237 & COL4A1\\_ITGB1 \\\\\n",
       "\t22 & LGALS3 & ITGB1 & 0.677309 & 0.7695 & 1.1237 & LGALS3\\_ITGB1 \\\\\n",
       "\t23 & ITGB1 & ITGA6 & 0.671693 & 1.1237 & 0.7086 & ITGB1\\_ITGA6 \\\\\n",
       "\t24 & PLAU & PLAUR & 0.665971 & 3.262 & 1.248 & PLAU\\_PLAUR \\\\\n",
       "\t$\\dots$ & $\\dots$ & $\\dots$ & $\\dots$ & $\\dots$ & $\\dots$ & $\\dots$ \\\\\n",
       "\\end{tabular}\n"
      ],
      "text/plain": [
       "\u001b[1m540×6 DataFrame\u001b[0m\n",
       "\u001b[1m Row \u001b[0m│\u001b[1m from     \u001b[0m\u001b[1m to       \u001b[0m\u001b[1m correlation \u001b[0m\u001b[1m ligand_FC \u001b[0m\u001b[1m Receptor_FC \u001b[0m\u001b[1m pair          \u001b[0m\n",
       "     │\u001b[90m String   \u001b[0m\u001b[90m String   \u001b[0m\u001b[90m Float64     \u001b[0m\u001b[90m Float64   \u001b[0m\u001b[90m Float64     \u001b[0m\u001b[90m String        \u001b[0m\n",
       "─────┼────────────────────────────────────────────────────────────────────────\n",
       "   1 │ LGALS3    ITGB4        0.832963     0.7695       0.8609  LGALS3_ITGB4\n",
       "   2 │ CDHR5     CDHR2        0.830117     0.7361       0.9662  CDHR5_CDHR2\n",
       "   3 │ CDHR2     CDHR5        0.830117     0.9662       0.7361  CDHR2_CDHR5\n",
       "   4 │ HLA-E     ITGA6        0.780889     1.1673       0.7086  HLA-E_ITGA6\n",
       "   5 │ HLA-E     PLXNB2       0.779063     1.1673       0.7971  HLA-E_PLXNB2\n",
       "   6 │ COL1A1    ITGA5        0.764293     1.9866       1.872   COL1A1_ITGA5\n",
       "   7 │ DSC2      LSR          0.7638       0.8149       0.7539  DSC2_LSR\n",
       "   8 │ DSC2      EPHA2        0.759718     0.8149       0.8393  DSC2_EPHA2\n",
       "  ⋮  │    ⋮         ⋮           ⋮           ⋮           ⋮             ⋮\n",
       " 534 │ SERPINE1  LRP1         0.205949     1.5213       1.3051  SERPINE1_LRP1\n",
       " 535 │ F11R      TGFBR2       0.2052       0.942        1.4611  F11R_TGFBR2\n",
       " 536 │ APP       SORL1        0.204104     0.8136       0.6524  APP_SORL1\n",
       " 537 │ F11R      ITGAL        0.203744     0.942        1.2148  F11R_ITGAL\n",
       " 538 │ ITGAL     F11R         0.203744     1.2148       0.942   ITGAL_F11R\n",
       " 539 │ AREG      ERBB2        0.201982     1.4834       0.4776  AREG_ERBB2\n",
       " 540 │ LAMB2     ITGB4        0.201282     1.6537       0.8609  LAMB2_ITGB4\n",
       "\u001b[36m                                                              525 rows omitted\u001b[0m"
      ]
     },
     "metadata": {},
     "output_type": "display_data"
    }
   ],
   "source": [
    "lr_cc7[\"enriched_LRs\"]"
   ]
  },
  {
   "cell_type": "code",
   "execution_count": 83,
   "metadata": {},
   "outputs": [
    {
     "data": {
      "text/plain": [
       "Dict{String, Any} with 2 entries:\n",
       "  \"cooccurrence_table\" => CooccurOutput(\u001b[1m65793×13 DataFrame\u001b[0m\u001b[0m…\n",
       "  \"enriched_LRs\"       => \u001b[1m540×6 DataFrame\u001b[0m\u001b[0m…"
      ]
     },
     "metadata": {},
     "output_type": "display_data"
    }
   ],
   "source": [
    "lr_cc7"
   ]
  },
  {
   "cell_type": "code",
   "execution_count": 43,
   "metadata": {},
   "outputs": [
    {
     "data": {
      "text/html": [
       "<div><div style = \"float: left;\"><span>540×6 DataFrame</span></div><div style = \"float: right;\"><span style = \"font-style: italic;\">515 rows omitted</span></div><div style = \"clear: both;\"></div></div><div class = \"data-frame\" style = \"overflow-x: scroll;\"><table class = \"data-frame\" style = \"margin-bottom: 6px;\"><thead><tr class = \"header\"><th class = \"rowNumber\" style = \"font-weight: bold; text-align: right;\">Row</th><th style = \"text-align: left;\">from</th><th style = \"text-align: left;\">to</th><th style = \"text-align: left;\">correlation</th><th style = \"text-align: left;\">ligand_FC</th><th style = \"text-align: left;\">Receptor_FC</th><th style = \"text-align: left;\">pair</th></tr><tr class = \"subheader headerLastRow\"><th class = \"rowNumber\" style = \"font-weight: bold; text-align: right;\"></th><th title = \"String\" style = \"text-align: left;\">String</th><th title = \"String\" style = \"text-align: left;\">String</th><th title = \"Float64\" style = \"text-align: left;\">Float64</th><th title = \"Float64\" style = \"text-align: left;\">Float64</th><th title = \"Float64\" style = \"text-align: left;\">Float64</th><th title = \"String\" style = \"text-align: left;\">String</th></tr></thead><tbody><tr><td class = \"rowNumber\" style = \"font-weight: bold; text-align: right;\">1</td><td style = \"text-align: left;\">LGALS3</td><td style = \"text-align: left;\">ITGB4</td><td style = \"text-align: right;\">0.832963</td><td style = \"text-align: right;\">0.7695</td><td style = \"text-align: right;\">0.8609</td><td style = \"text-align: left;\">LGALS3_ITGB4</td></tr><tr><td class = \"rowNumber\" style = \"font-weight: bold; text-align: right;\">2</td><td style = \"text-align: left;\">CDHR5</td><td style = \"text-align: left;\">CDHR2</td><td style = \"text-align: right;\">0.830117</td><td style = \"text-align: right;\">0.7361</td><td style = \"text-align: right;\">0.9662</td><td style = \"text-align: left;\">CDHR5_CDHR2</td></tr><tr><td class = \"rowNumber\" style = \"font-weight: bold; text-align: right;\">3</td><td style = \"text-align: left;\">CDHR2</td><td style = \"text-align: left;\">CDHR5</td><td style = \"text-align: right;\">0.830117</td><td style = \"text-align: right;\">0.9662</td><td style = \"text-align: right;\">0.7361</td><td style = \"text-align: left;\">CDHR2_CDHR5</td></tr><tr><td class = \"rowNumber\" style = \"font-weight: bold; text-align: right;\">4</td><td style = \"text-align: left;\">HLA-E</td><td style = \"text-align: left;\">ITGA6</td><td style = \"text-align: right;\">0.780889</td><td style = \"text-align: right;\">1.1673</td><td style = \"text-align: right;\">0.7086</td><td style = \"text-align: left;\">HLA-E_ITGA6</td></tr><tr><td class = \"rowNumber\" style = \"font-weight: bold; text-align: right;\">5</td><td style = \"text-align: left;\">HLA-E</td><td style = \"text-align: left;\">PLXNB2</td><td style = \"text-align: right;\">0.779063</td><td style = \"text-align: right;\">1.1673</td><td style = \"text-align: right;\">0.7971</td><td style = \"text-align: left;\">HLA-E_PLXNB2</td></tr><tr><td class = \"rowNumber\" style = \"font-weight: bold; text-align: right;\">6</td><td style = \"text-align: left;\">COL1A1</td><td style = \"text-align: left;\">ITGA5</td><td style = \"text-align: right;\">0.764293</td><td style = \"text-align: right;\">1.9866</td><td style = \"text-align: right;\">1.872</td><td style = \"text-align: left;\">COL1A1_ITGA5</td></tr><tr><td class = \"rowNumber\" style = \"font-weight: bold; text-align: right;\">7</td><td style = \"text-align: left;\">DSC2</td><td style = \"text-align: left;\">LSR</td><td style = \"text-align: right;\">0.7638</td><td style = \"text-align: right;\">0.8149</td><td style = \"text-align: right;\">0.7539</td><td style = \"text-align: left;\">DSC2_LSR</td></tr><tr><td class = \"rowNumber\" style = \"font-weight: bold; text-align: right;\">8</td><td style = \"text-align: left;\">DSC2</td><td style = \"text-align: left;\">EPHA2</td><td style = \"text-align: right;\">0.759718</td><td style = \"text-align: right;\">0.8149</td><td style = \"text-align: right;\">0.8393</td><td style = \"text-align: left;\">DSC2_EPHA2</td></tr><tr><td class = \"rowNumber\" style = \"font-weight: bold; text-align: right;\">9</td><td style = \"text-align: left;\">GRN</td><td style = \"text-align: left;\">TNFRSF1A</td><td style = \"text-align: right;\">0.748926</td><td style = \"text-align: right;\">1.1756</td><td style = \"text-align: right;\">1.0184</td><td style = \"text-align: left;\">GRN_TNFRSF1A</td></tr><tr><td class = \"rowNumber\" style = \"font-weight: bold; text-align: right;\">10</td><td style = \"text-align: left;\">DSG2</td><td style = \"text-align: left;\">EPHA2</td><td style = \"text-align: right;\">0.737155</td><td style = \"text-align: right;\">0.7307</td><td style = \"text-align: right;\">0.8393</td><td style = \"text-align: left;\">DSG2_EPHA2</td></tr><tr><td class = \"rowNumber\" style = \"font-weight: bold; text-align: right;\">11</td><td style = \"text-align: left;\">DSG2</td><td style = \"text-align: left;\">LRP10</td><td style = \"text-align: right;\">0.735606</td><td style = \"text-align: right;\">0.7307</td><td style = \"text-align: right;\">0.9101</td><td style = \"text-align: left;\">DSG2_LRP10</td></tr><tr><td class = \"rowNumber\" style = \"font-weight: bold; text-align: right;\">12</td><td style = \"text-align: left;\">LAMC2</td><td style = \"text-align: left;\">ITGA2</td><td style = \"text-align: right;\">0.734249</td><td style = \"text-align: right;\">1.1017</td><td style = \"text-align: right;\">1.2222</td><td style = \"text-align: left;\">LAMC2_ITGA2</td></tr><tr><td class = \"rowNumber\" style = \"font-weight: bold; text-align: right;\">13</td><td style = \"text-align: left;\">DSC2</td><td style = \"text-align: left;\">DSG2</td><td style = \"text-align: right;\">0.722542</td><td style = \"text-align: right;\">0.8149</td><td style = \"text-align: right;\">0.7307</td><td style = \"text-align: left;\">DSC2_DSG2</td></tr><tr><td style = \"text-align: right;\">&vellip;</td><td style = \"text-align: right;\">&vellip;</td><td style = \"text-align: right;\">&vellip;</td><td style = \"text-align: right;\">&vellip;</td><td style = \"text-align: right;\">&vellip;</td><td style = \"text-align: right;\">&vellip;</td><td style = \"text-align: right;\">&vellip;</td></tr><tr><td class = \"rowNumber\" style = \"font-weight: bold; text-align: right;\">529</td><td style = \"text-align: left;\">PTPRC</td><td style = \"text-align: left;\">EGFR</td><td style = \"text-align: right;\">0.216559</td><td style = \"text-align: right;\">1.6397</td><td style = \"text-align: right;\">1.0176</td><td style = \"text-align: left;\">PTPRC_EGFR</td></tr><tr><td class = \"rowNumber\" style = \"font-weight: bold; text-align: right;\">530</td><td style = \"text-align: left;\">CDH5</td><td style = \"text-align: left;\">P2RX4</td><td style = \"text-align: right;\">0.21627</td><td style = \"text-align: right;\">2.243</td><td style = \"text-align: right;\">0.9859</td><td style = \"text-align: left;\">CDH5_P2RX4</td></tr><tr><td class = \"rowNumber\" style = \"font-weight: bold; text-align: right;\">531</td><td style = \"text-align: left;\">CCL28</td><td style = \"text-align: left;\">CXCR4</td><td style = \"text-align: right;\">0.212796</td><td style = \"text-align: right;\">0.6059</td><td style = \"text-align: right;\">1.2618</td><td style = \"text-align: left;\">CCL28_CXCR4</td></tr><tr><td class = \"rowNumber\" style = \"font-weight: bold; text-align: right;\">532</td><td style = \"text-align: left;\">ITGB1</td><td style = \"text-align: left;\">IGF1R</td><td style = \"text-align: right;\">0.206833</td><td style = \"text-align: right;\">1.1237</td><td style = \"text-align: right;\">0.8299</td><td style = \"text-align: left;\">ITGB1_IGF1R</td></tr><tr><td class = \"rowNumber\" style = \"font-weight: bold; text-align: right;\">533</td><td style = \"text-align: left;\">F11R</td><td style = \"text-align: left;\">PTPRB</td><td style = \"text-align: right;\">0.206814</td><td style = \"text-align: right;\">0.942</td><td style = \"text-align: right;\">1.2823</td><td style = \"text-align: left;\">F11R_PTPRB</td></tr><tr><td class = \"rowNumber\" style = \"font-weight: bold; text-align: right;\">534</td><td style = \"text-align: left;\">SERPINE1</td><td style = \"text-align: left;\">LRP1</td><td style = \"text-align: right;\">0.205949</td><td style = \"text-align: right;\">1.5213</td><td style = \"text-align: right;\">1.3051</td><td style = \"text-align: left;\">SERPINE1_LRP1</td></tr><tr><td class = \"rowNumber\" style = \"font-weight: bold; text-align: right;\">535</td><td style = \"text-align: left;\">F11R</td><td style = \"text-align: left;\">TGFBR2</td><td style = \"text-align: right;\">0.2052</td><td style = \"text-align: right;\">0.942</td><td style = \"text-align: right;\">1.4611</td><td style = \"text-align: left;\">F11R_TGFBR2</td></tr><tr><td class = \"rowNumber\" style = \"font-weight: bold; text-align: right;\">536</td><td style = \"text-align: left;\">APP</td><td style = \"text-align: left;\">SORL1</td><td style = \"text-align: right;\">0.204104</td><td style = \"text-align: right;\">0.8136</td><td style = \"text-align: right;\">0.6524</td><td style = \"text-align: left;\">APP_SORL1</td></tr><tr><td class = \"rowNumber\" style = \"font-weight: bold; text-align: right;\">537</td><td style = \"text-align: left;\">F11R</td><td style = \"text-align: left;\">ITGAL</td><td style = \"text-align: right;\">0.203744</td><td style = \"text-align: right;\">0.942</td><td style = \"text-align: right;\">1.2148</td><td style = \"text-align: left;\">F11R_ITGAL</td></tr><tr><td class = \"rowNumber\" style = \"font-weight: bold; text-align: right;\">538</td><td style = \"text-align: left;\">ITGAL</td><td style = \"text-align: left;\">F11R</td><td style = \"text-align: right;\">0.203744</td><td style = \"text-align: right;\">1.2148</td><td style = \"text-align: right;\">0.942</td><td style = \"text-align: left;\">ITGAL_F11R</td></tr><tr><td class = \"rowNumber\" style = \"font-weight: bold; text-align: right;\">539</td><td style = \"text-align: left;\">AREG</td><td style = \"text-align: left;\">ERBB2</td><td style = \"text-align: right;\">0.201982</td><td style = \"text-align: right;\">1.4834</td><td style = \"text-align: right;\">0.4776</td><td style = \"text-align: left;\">AREG_ERBB2</td></tr><tr><td class = \"rowNumber\" style = \"font-weight: bold; text-align: right;\">540</td><td style = \"text-align: left;\">LAMB2</td><td style = \"text-align: left;\">ITGB4</td><td style = \"text-align: right;\">0.201282</td><td style = \"text-align: right;\">1.6537</td><td style = \"text-align: right;\">0.8609</td><td style = \"text-align: left;\">LAMB2_ITGB4</td></tr></tbody></table></div>"
      ],
      "text/latex": [
       "\\begin{tabular}{r|cccccc}\n",
       "\t& from & to & correlation & ligand\\_FC & Receptor\\_FC & pair\\\\\n",
       "\t\\hline\n",
       "\t& String & String & Float64 & Float64 & Float64 & String\\\\\n",
       "\t\\hline\n",
       "\t1 & LGALS3 & ITGB4 & 0.832963 & 0.7695 & 0.8609 & LGALS3\\_ITGB4 \\\\\n",
       "\t2 & CDHR5 & CDHR2 & 0.830117 & 0.7361 & 0.9662 & CDHR5\\_CDHR2 \\\\\n",
       "\t3 & CDHR2 & CDHR5 & 0.830117 & 0.9662 & 0.7361 & CDHR2\\_CDHR5 \\\\\n",
       "\t4 & HLA-E & ITGA6 & 0.780889 & 1.1673 & 0.7086 & HLA-E\\_ITGA6 \\\\\n",
       "\t5 & HLA-E & PLXNB2 & 0.779063 & 1.1673 & 0.7971 & HLA-E\\_PLXNB2 \\\\\n",
       "\t6 & COL1A1 & ITGA5 & 0.764293 & 1.9866 & 1.872 & COL1A1\\_ITGA5 \\\\\n",
       "\t7 & DSC2 & LSR & 0.7638 & 0.8149 & 0.7539 & DSC2\\_LSR \\\\\n",
       "\t8 & DSC2 & EPHA2 & 0.759718 & 0.8149 & 0.8393 & DSC2\\_EPHA2 \\\\\n",
       "\t9 & GRN & TNFRSF1A & 0.748926 & 1.1756 & 1.0184 & GRN\\_TNFRSF1A \\\\\n",
       "\t10 & DSG2 & EPHA2 & 0.737155 & 0.7307 & 0.8393 & DSG2\\_EPHA2 \\\\\n",
       "\t11 & DSG2 & LRP10 & 0.735606 & 0.7307 & 0.9101 & DSG2\\_LRP10 \\\\\n",
       "\t12 & LAMC2 & ITGA2 & 0.734249 & 1.1017 & 1.2222 & LAMC2\\_ITGA2 \\\\\n",
       "\t13 & DSC2 & DSG2 & 0.722542 & 0.8149 & 0.7307 & DSC2\\_DSG2 \\\\\n",
       "\t14 & DSG2 & DSC2 & 0.722542 & 0.7307 & 0.8149 & DSG2\\_DSC2 \\\\\n",
       "\t15 & RPS19 & RPSA & 0.718279 & 0.8499 & 0.7268 & RPS19\\_RPSA \\\\\n",
       "\t16 & TNC & ITGA5 & 0.709979 & 2.8139 & 1.872 & TNC\\_ITGA5 \\\\\n",
       "\t17 & MIF & CD74 & 0.705286 & 0.9961 & 1.2571 & MIF\\_CD74 \\\\\n",
       "\t18 & DSG2 & LSR & 0.699518 & 0.7307 & 0.7539 & DSG2\\_LSR \\\\\n",
       "\t19 & CALM1 & TNFRSF1A & 0.697222 & 0.7865 & 1.0184 & CALM1\\_TNFRSF1A \\\\\n",
       "\t20 & CDH1 & DDR1 & 0.692245 & 0.8122 & 0.7374 & CDH1\\_DDR1 \\\\\n",
       "\t21 & COL4A1 & ITGB1 & 0.681179 & 2.4032 & 1.1237 & COL4A1\\_ITGB1 \\\\\n",
       "\t22 & LGALS3 & ITGB1 & 0.677309 & 0.7695 & 1.1237 & LGALS3\\_ITGB1 \\\\\n",
       "\t23 & ITGB1 & ITGA6 & 0.671693 & 1.1237 & 0.7086 & ITGB1\\_ITGA6 \\\\\n",
       "\t24 & PLAU & PLAUR & 0.665971 & 3.262 & 1.248 & PLAU\\_PLAUR \\\\\n",
       "\t$\\dots$ & $\\dots$ & $\\dots$ & $\\dots$ & $\\dots$ & $\\dots$ & $\\dots$ \\\\\n",
       "\\end{tabular}\n"
      ],
      "text/plain": [
       "\u001b[1m540×6 DataFrame\u001b[0m\n",
       "\u001b[1m Row \u001b[0m│\u001b[1m from     \u001b[0m\u001b[1m to       \u001b[0m\u001b[1m correlation \u001b[0m\u001b[1m ligand_FC \u001b[0m\u001b[1m Receptor_FC \u001b[0m\u001b[1m pair          \u001b[0m\n",
       "     │\u001b[90m String   \u001b[0m\u001b[90m String   \u001b[0m\u001b[90m Float64     \u001b[0m\u001b[90m Float64   \u001b[0m\u001b[90m Float64     \u001b[0m\u001b[90m String        \u001b[0m\n",
       "─────┼────────────────────────────────────────────────────────────────────────\n",
       "   1 │ LGALS3    ITGB4        0.832963     0.7695       0.8609  LGALS3_ITGB4\n",
       "   2 │ CDHR5     CDHR2        0.830117     0.7361       0.9662  CDHR5_CDHR2\n",
       "   3 │ CDHR2     CDHR5        0.830117     0.9662       0.7361  CDHR2_CDHR5\n",
       "   4 │ HLA-E     ITGA6        0.780889     1.1673       0.7086  HLA-E_ITGA6\n",
       "   5 │ HLA-E     PLXNB2       0.779063     1.1673       0.7971  HLA-E_PLXNB2\n",
       "   6 │ COL1A1    ITGA5        0.764293     1.9866       1.872   COL1A1_ITGA5\n",
       "   7 │ DSC2      LSR          0.7638       0.8149       0.7539  DSC2_LSR\n",
       "   8 │ DSC2      EPHA2        0.759718     0.8149       0.8393  DSC2_EPHA2\n",
       "  ⋮  │    ⋮         ⋮           ⋮           ⋮           ⋮             ⋮\n",
       " 534 │ SERPINE1  LRP1         0.205949     1.5213       1.3051  SERPINE1_LRP1\n",
       " 535 │ F11R      TGFBR2       0.2052       0.942        1.4611  F11R_TGFBR2\n",
       " 536 │ APP       SORL1        0.204104     0.8136       0.6524  APP_SORL1\n",
       " 537 │ F11R      ITGAL        0.203744     0.942        1.2148  F11R_ITGAL\n",
       " 538 │ ITGAL     F11R         0.203744     1.2148       0.942   ITGAL_F11R\n",
       " 539 │ AREG      ERBB2        0.201982     1.4834       0.4776  AREG_ERBB2\n",
       " 540 │ LAMB2     ITGB4        0.201282     1.6537       0.8609  LAMB2_ITGB4\n",
       "\u001b[36m                                                              525 rows omitted\u001b[0m"
      ]
     },
     "metadata": {},
     "output_type": "display_data"
    }
   ],
   "source": [
    "lr_cc7[\"enriched_LRs\"]"
   ]
  },
  {
   "cell_type": "code",
   "execution_count": 79,
   "metadata": {},
   "outputs": [
    {
     "data": {
      "text/plain": [
       "find_duplicate_rows (generic function with 1 method)"
      ]
     },
     "metadata": {},
     "output_type": "display_data"
    }
   ],
   "source": [
    "function find_duplicate_rows(df, column_name)\n",
    "    # Get the unique values in the specified column\n",
    "    unique_values = unique(df[!, column_name])\n",
    "    \n",
    "    # Initialize an empty DataFrame to store the duplicate rows\n",
    "    duplicate_rows = DataFrame()\n",
    "    \n",
    "    for value in unique_values\n",
    "        # Filter rows where the specified column matches the current value\n",
    "        subset = filter(row -> row[column_name] == value, df)\n",
    "        \n",
    "        # If there are more than one row with the same value, append them to duplicate_rows\n",
    "        if nrow(subset) > 1\n",
    "            append!(duplicate_rows, DataFrame(first(subset)))\n",
    "        end\n",
    "    end\n",
    "    \n",
    "    return duplicate_rows\n",
    "end"
   ]
  },
  {
   "cell_type": "code",
   "execution_count": 80,
   "metadata": {},
   "outputs": [
    {
     "data": {
      "text/html": [
       "<div><div style = \"float: left;\"><span>10×6 DataFrame</span></div><div style = \"clear: both;\"></div></div><div class = \"data-frame\" style = \"overflow-x: scroll;\"><table class = \"data-frame\" style = \"margin-bottom: 6px;\"><thead><tr class = \"header\"><th class = \"rowNumber\" style = \"font-weight: bold; text-align: right;\">Row</th><th style = \"text-align: left;\">from</th><th style = \"text-align: left;\">to</th><th style = \"text-align: left;\">correlation</th><th style = \"text-align: left;\">ligand_FC</th><th style = \"text-align: left;\">Receptor_FC</th><th style = \"text-align: left;\">pair</th></tr><tr class = \"subheader headerLastRow\"><th class = \"rowNumber\" style = \"font-weight: bold; text-align: right;\"></th><th title = \"String\" style = \"text-align: left;\">String</th><th title = \"String\" style = \"text-align: left;\">String</th><th title = \"Float64\" style = \"text-align: left;\">Float64</th><th title = \"Float64\" style = \"text-align: left;\">Float64</th><th title = \"Float64\" style = \"text-align: left;\">Float64</th><th title = \"String\" style = \"text-align: left;\">String</th></tr></thead><tbody><tr><td class = \"rowNumber\" style = \"font-weight: bold; text-align: right;\">1</td><td style = \"text-align: left;\">CDHR5</td><td style = \"text-align: left;\">CDHR2</td><td style = \"text-align: right;\">0.830117</td><td style = \"text-align: right;\">0.7361</td><td style = \"text-align: right;\">0.9662</td><td style = \"text-align: left;\">CDHR5_CDHR2</td></tr><tr><td class = \"rowNumber\" style = \"font-weight: bold; text-align: right;\">2</td><td style = \"text-align: left;\">DSC2</td><td style = \"text-align: left;\">DSG2</td><td style = \"text-align: right;\">0.722542</td><td style = \"text-align: right;\">0.8149</td><td style = \"text-align: right;\">0.7307</td><td style = \"text-align: left;\">DSC2_DSG2</td></tr><tr><td class = \"rowNumber\" style = \"font-weight: bold; text-align: right;\">3</td><td style = \"text-align: left;\">CDH1</td><td style = \"text-align: left;\">PTPRF</td><td style = \"text-align: right;\">0.605276</td><td style = \"text-align: right;\">0.8122</td><td style = \"text-align: right;\">0.7244</td><td style = \"text-align: left;\">CDH1_PTPRF</td></tr><tr><td class = \"rowNumber\" style = \"font-weight: bold; text-align: right;\">4</td><td style = \"text-align: left;\">F11R</td><td style = \"text-align: left;\">ITGB2</td><td style = \"text-align: right;\">0.55938</td><td style = \"text-align: right;\">0.942</td><td style = \"text-align: right;\">2.1694</td><td style = \"text-align: left;\">F11R_ITGB2</td></tr><tr><td class = \"rowNumber\" style = \"font-weight: bold; text-align: right;\">5</td><td style = \"text-align: left;\">ITGB2</td><td style = \"text-align: left;\">ICAM1</td><td style = \"text-align: right;\">0.463724</td><td style = \"text-align: right;\">2.1694</td><td style = \"text-align: right;\">1.9715</td><td style = \"text-align: left;\">ITGB2_ICAM1</td></tr><tr><td class = \"rowNumber\" style = \"font-weight: bold; text-align: right;\">6</td><td style = \"text-align: left;\">PTPRC</td><td style = \"text-align: left;\">CD2</td><td style = \"text-align: right;\">0.394723</td><td style = \"text-align: right;\">1.6397</td><td style = \"text-align: right;\">1.6859</td><td style = \"text-align: left;\">PTPRC_CD2</td></tr><tr><td class = \"rowNumber\" style = \"font-weight: bold; text-align: right;\">7</td><td style = \"text-align: left;\">JAM3</td><td style = \"text-align: left;\">ITGB2</td><td style = \"text-align: right;\">0.317787</td><td style = \"text-align: right;\">2.1433</td><td style = \"text-align: right;\">2.1694</td><td style = \"text-align: left;\">JAM3_ITGB2</td></tr><tr><td class = \"rowNumber\" style = \"font-weight: bold; text-align: right;\">8</td><td style = \"text-align: left;\">PVR</td><td style = \"text-align: left;\">CDH1</td><td style = \"text-align: right;\">0.276865</td><td style = \"text-align: right;\">0.7666</td><td style = \"text-align: right;\">0.8122</td><td style = \"text-align: left;\">PVR_CDH1</td></tr><tr><td class = \"rowNumber\" style = \"font-weight: bold; text-align: right;\">9</td><td style = \"text-align: left;\">ICAM2</td><td style = \"text-align: left;\">ITGB2</td><td style = \"text-align: right;\">0.248302</td><td style = \"text-align: right;\">1.8473</td><td style = \"text-align: right;\">2.1694</td><td style = \"text-align: left;\">ICAM2_ITGB2</td></tr><tr><td class = \"rowNumber\" style = \"font-weight: bold; text-align: right;\">10</td><td style = \"text-align: left;\">F11R</td><td style = \"text-align: left;\">ITGAL</td><td style = \"text-align: right;\">0.203744</td><td style = \"text-align: right;\">0.942</td><td style = \"text-align: right;\">1.2148</td><td style = \"text-align: left;\">F11R_ITGAL</td></tr></tbody></table></div>"
      ],
      "text/latex": [
       "\\begin{tabular}{r|cccccc}\n",
       "\t& from & to & correlation & ligand\\_FC & Receptor\\_FC & pair\\\\\n",
       "\t\\hline\n",
       "\t& String & String & Float64 & Float64 & Float64 & String\\\\\n",
       "\t\\hline\n",
       "\t1 & CDHR5 & CDHR2 & 0.830117 & 0.7361 & 0.9662 & CDHR5\\_CDHR2 \\\\\n",
       "\t2 & DSC2 & DSG2 & 0.722542 & 0.8149 & 0.7307 & DSC2\\_DSG2 \\\\\n",
       "\t3 & CDH1 & PTPRF & 0.605276 & 0.8122 & 0.7244 & CDH1\\_PTPRF \\\\\n",
       "\t4 & F11R & ITGB2 & 0.55938 & 0.942 & 2.1694 & F11R\\_ITGB2 \\\\\n",
       "\t5 & ITGB2 & ICAM1 & 0.463724 & 2.1694 & 1.9715 & ITGB2\\_ICAM1 \\\\\n",
       "\t6 & PTPRC & CD2 & 0.394723 & 1.6397 & 1.6859 & PTPRC\\_CD2 \\\\\n",
       "\t7 & JAM3 & ITGB2 & 0.317787 & 2.1433 & 2.1694 & JAM3\\_ITGB2 \\\\\n",
       "\t8 & PVR & CDH1 & 0.276865 & 0.7666 & 0.8122 & PVR\\_CDH1 \\\\\n",
       "\t9 & ICAM2 & ITGB2 & 0.248302 & 1.8473 & 2.1694 & ICAM2\\_ITGB2 \\\\\n",
       "\t10 & F11R & ITGAL & 0.203744 & 0.942 & 1.2148 & F11R\\_ITGAL \\\\\n",
       "\\end{tabular}\n"
      ],
      "text/plain": [
       "\u001b[1m10×6 DataFrame\u001b[0m\n",
       "\u001b[1m Row \u001b[0m│\u001b[1m from   \u001b[0m\u001b[1m to     \u001b[0m\u001b[1m correlation \u001b[0m\u001b[1m ligand_FC \u001b[0m\u001b[1m Receptor_FC \u001b[0m\u001b[1m pair        \u001b[0m\n",
       "     │\u001b[90m String \u001b[0m\u001b[90m String \u001b[0m\u001b[90m Float64     \u001b[0m\u001b[90m Float64   \u001b[0m\u001b[90m Float64     \u001b[0m\u001b[90m String      \u001b[0m\n",
       "─────┼──────────────────────────────────────────────────────────────────\n",
       "   1 │ CDHR5   CDHR2      0.830117     0.7361       0.9662  CDHR5_CDHR2\n",
       "   2 │ DSC2    DSG2       0.722542     0.8149       0.7307  DSC2_DSG2\n",
       "   3 │ CDH1    PTPRF      0.605276     0.8122       0.7244  CDH1_PTPRF\n",
       "   4 │ F11R    ITGB2      0.55938      0.942        2.1694  F11R_ITGB2\n",
       "   5 │ ITGB2   ICAM1      0.463724     2.1694       1.9715  ITGB2_ICAM1\n",
       "   6 │ PTPRC   CD2        0.394723     1.6397       1.6859  PTPRC_CD2\n",
       "   7 │ JAM3    ITGB2      0.317787     2.1433       2.1694  JAM3_ITGB2\n",
       "   8 │ PVR     CDH1       0.276865     0.7666       0.8122  PVR_CDH1\n",
       "   9 │ ICAM2   ITGB2      0.248302     1.8473       2.1694  ICAM2_ITGB2\n",
       "  10 │ F11R    ITGAL      0.203744     0.942        1.2148  F11R_ITGAL"
      ]
     },
     "metadata": {},
     "output_type": "display_data"
    }
   ],
   "source": [
    "duplicates = find_duplicate_rows(df_7, \"correlation\")"
   ]
  },
  {
   "cell_type": "code",
   "execution_count": 82,
   "metadata": {},
   "outputs": [
    {
     "data": {
      "text/html": [
       "<div><div style = \"float: left;\"><span>530×6 DataFrame</span></div><div style = \"float: right;\"><span style = \"font-style: italic;\">505 rows omitted</span></div><div style = \"clear: both;\"></div></div><div class = \"data-frame\" style = \"overflow-x: scroll;\"><table class = \"data-frame\" style = \"margin-bottom: 6px;\"><thead><tr class = \"header\"><th class = \"rowNumber\" style = \"font-weight: bold; text-align: right;\">Row</th><th style = \"text-align: left;\">from</th><th style = \"text-align: left;\">to</th><th style = \"text-align: left;\">correlation</th><th style = \"text-align: left;\">ligand_FC</th><th style = \"text-align: left;\">Receptor_FC</th><th style = \"text-align: left;\">pair</th></tr><tr class = \"subheader headerLastRow\"><th class = \"rowNumber\" style = \"font-weight: bold; text-align: right;\"></th><th title = \"String\" style = \"text-align: left;\">String</th><th title = \"String\" style = \"text-align: left;\">String</th><th title = \"Float64\" style = \"text-align: left;\">Float64</th><th title = \"Float64\" style = \"text-align: left;\">Float64</th><th title = \"Float64\" style = \"text-align: left;\">Float64</th><th title = \"String\" style = \"text-align: left;\">String</th></tr></thead><tbody><tr><td class = \"rowNumber\" style = \"font-weight: bold; text-align: right;\">1</td><td style = \"text-align: left;\">LGALS3</td><td style = \"text-align: left;\">ITGB4</td><td style = \"text-align: right;\">0.832963</td><td style = \"text-align: right;\">0.7695</td><td style = \"text-align: right;\">0.8609</td><td style = \"text-align: left;\">LGALS3_ITGB4</td></tr><tr><td class = \"rowNumber\" style = \"font-weight: bold; text-align: right;\">2</td><td style = \"text-align: left;\">CDHR5</td><td style = \"text-align: left;\">CDHR2</td><td style = \"text-align: right;\">0.830117</td><td style = \"text-align: right;\">0.7361</td><td style = \"text-align: right;\">0.9662</td><td style = \"text-align: left;\">CDHR5_CDHR2</td></tr><tr><td class = \"rowNumber\" style = \"font-weight: bold; text-align: right;\">3</td><td style = \"text-align: left;\">HLA-E</td><td style = \"text-align: left;\">ITGA6</td><td style = \"text-align: right;\">0.780889</td><td style = \"text-align: right;\">1.1673</td><td style = \"text-align: right;\">0.7086</td><td style = \"text-align: left;\">HLA-E_ITGA6</td></tr><tr><td class = \"rowNumber\" style = \"font-weight: bold; text-align: right;\">4</td><td style = \"text-align: left;\">HLA-E</td><td style = \"text-align: left;\">PLXNB2</td><td style = \"text-align: right;\">0.779063</td><td style = \"text-align: right;\">1.1673</td><td style = \"text-align: right;\">0.7971</td><td style = \"text-align: left;\">HLA-E_PLXNB2</td></tr><tr><td class = \"rowNumber\" style = \"font-weight: bold; text-align: right;\">5</td><td style = \"text-align: left;\">COL1A1</td><td style = \"text-align: left;\">ITGA5</td><td style = \"text-align: right;\">0.764293</td><td style = \"text-align: right;\">1.9866</td><td style = \"text-align: right;\">1.872</td><td style = \"text-align: left;\">COL1A1_ITGA5</td></tr><tr><td class = \"rowNumber\" style = \"font-weight: bold; text-align: right;\">6</td><td style = \"text-align: left;\">DSC2</td><td style = \"text-align: left;\">LSR</td><td style = \"text-align: right;\">0.7638</td><td style = \"text-align: right;\">0.8149</td><td style = \"text-align: right;\">0.7539</td><td style = \"text-align: left;\">DSC2_LSR</td></tr><tr><td class = \"rowNumber\" style = \"font-weight: bold; text-align: right;\">7</td><td style = \"text-align: left;\">DSC2</td><td style = \"text-align: left;\">EPHA2</td><td style = \"text-align: right;\">0.759718</td><td style = \"text-align: right;\">0.8149</td><td style = \"text-align: right;\">0.8393</td><td style = \"text-align: left;\">DSC2_EPHA2</td></tr><tr><td class = \"rowNumber\" style = \"font-weight: bold; text-align: right;\">8</td><td style = \"text-align: left;\">GRN</td><td style = \"text-align: left;\">TNFRSF1A</td><td style = \"text-align: right;\">0.748926</td><td style = \"text-align: right;\">1.1756</td><td style = \"text-align: right;\">1.0184</td><td style = \"text-align: left;\">GRN_TNFRSF1A</td></tr><tr><td class = \"rowNumber\" style = \"font-weight: bold; text-align: right;\">9</td><td style = \"text-align: left;\">DSG2</td><td style = \"text-align: left;\">EPHA2</td><td style = \"text-align: right;\">0.737155</td><td style = \"text-align: right;\">0.7307</td><td style = \"text-align: right;\">0.8393</td><td style = \"text-align: left;\">DSG2_EPHA2</td></tr><tr><td class = \"rowNumber\" style = \"font-weight: bold; text-align: right;\">10</td><td style = \"text-align: left;\">DSG2</td><td style = \"text-align: left;\">LRP10</td><td style = \"text-align: right;\">0.735606</td><td style = \"text-align: right;\">0.7307</td><td style = \"text-align: right;\">0.9101</td><td style = \"text-align: left;\">DSG2_LRP10</td></tr><tr><td class = \"rowNumber\" style = \"font-weight: bold; text-align: right;\">11</td><td style = \"text-align: left;\">LAMC2</td><td style = \"text-align: left;\">ITGA2</td><td style = \"text-align: right;\">0.734249</td><td style = \"text-align: right;\">1.1017</td><td style = \"text-align: right;\">1.2222</td><td style = \"text-align: left;\">LAMC2_ITGA2</td></tr><tr><td class = \"rowNumber\" style = \"font-weight: bold; text-align: right;\">12</td><td style = \"text-align: left;\">DSC2</td><td style = \"text-align: left;\">DSG2</td><td style = \"text-align: right;\">0.722542</td><td style = \"text-align: right;\">0.8149</td><td style = \"text-align: right;\">0.7307</td><td style = \"text-align: left;\">DSC2_DSG2</td></tr><tr><td class = \"rowNumber\" style = \"font-weight: bold; text-align: right;\">13</td><td style = \"text-align: left;\">RPS19</td><td style = \"text-align: left;\">RPSA</td><td style = \"text-align: right;\">0.718279</td><td style = \"text-align: right;\">0.8499</td><td style = \"text-align: right;\">0.7268</td><td style = \"text-align: left;\">RPS19_RPSA</td></tr><tr><td style = \"text-align: right;\">&vellip;</td><td style = \"text-align: right;\">&vellip;</td><td style = \"text-align: right;\">&vellip;</td><td style = \"text-align: right;\">&vellip;</td><td style = \"text-align: right;\">&vellip;</td><td style = \"text-align: right;\">&vellip;</td><td style = \"text-align: right;\">&vellip;</td></tr><tr><td class = \"rowNumber\" style = \"font-weight: bold; text-align: right;\">519</td><td style = \"text-align: left;\">APP</td><td style = \"text-align: left;\">IGF1R</td><td style = \"text-align: right;\">0.216683</td><td style = \"text-align: right;\">0.8136</td><td style = \"text-align: right;\">0.8299</td><td style = \"text-align: left;\">APP_IGF1R</td></tr><tr><td class = \"rowNumber\" style = \"font-weight: bold; text-align: right;\">520</td><td style = \"text-align: left;\">PTPRC</td><td style = \"text-align: left;\">EGFR</td><td style = \"text-align: right;\">0.216559</td><td style = \"text-align: right;\">1.6397</td><td style = \"text-align: right;\">1.0176</td><td style = \"text-align: left;\">PTPRC_EGFR</td></tr><tr><td class = \"rowNumber\" style = \"font-weight: bold; text-align: right;\">521</td><td style = \"text-align: left;\">CDH5</td><td style = \"text-align: left;\">P2RX4</td><td style = \"text-align: right;\">0.21627</td><td style = \"text-align: right;\">2.243</td><td style = \"text-align: right;\">0.9859</td><td style = \"text-align: left;\">CDH5_P2RX4</td></tr><tr><td class = \"rowNumber\" style = \"font-weight: bold; text-align: right;\">522</td><td style = \"text-align: left;\">CCL28</td><td style = \"text-align: left;\">CXCR4</td><td style = \"text-align: right;\">0.212796</td><td style = \"text-align: right;\">0.6059</td><td style = \"text-align: right;\">1.2618</td><td style = \"text-align: left;\">CCL28_CXCR4</td></tr><tr><td class = \"rowNumber\" style = \"font-weight: bold; text-align: right;\">523</td><td style = \"text-align: left;\">ITGB1</td><td style = \"text-align: left;\">IGF1R</td><td style = \"text-align: right;\">0.206833</td><td style = \"text-align: right;\">1.1237</td><td style = \"text-align: right;\">0.8299</td><td style = \"text-align: left;\">ITGB1_IGF1R</td></tr><tr><td class = \"rowNumber\" style = \"font-weight: bold; text-align: right;\">524</td><td style = \"text-align: left;\">F11R</td><td style = \"text-align: left;\">PTPRB</td><td style = \"text-align: right;\">0.206814</td><td style = \"text-align: right;\">0.942</td><td style = \"text-align: right;\">1.2823</td><td style = \"text-align: left;\">F11R_PTPRB</td></tr><tr><td class = \"rowNumber\" style = \"font-weight: bold; text-align: right;\">525</td><td style = \"text-align: left;\">SERPINE1</td><td style = \"text-align: left;\">LRP1</td><td style = \"text-align: right;\">0.205949</td><td style = \"text-align: right;\">1.5213</td><td style = \"text-align: right;\">1.3051</td><td style = \"text-align: left;\">SERPINE1_LRP1</td></tr><tr><td class = \"rowNumber\" style = \"font-weight: bold; text-align: right;\">526</td><td style = \"text-align: left;\">F11R</td><td style = \"text-align: left;\">TGFBR2</td><td style = \"text-align: right;\">0.2052</td><td style = \"text-align: right;\">0.942</td><td style = \"text-align: right;\">1.4611</td><td style = \"text-align: left;\">F11R_TGFBR2</td></tr><tr><td class = \"rowNumber\" style = \"font-weight: bold; text-align: right;\">527</td><td style = \"text-align: left;\">APP</td><td style = \"text-align: left;\">SORL1</td><td style = \"text-align: right;\">0.204104</td><td style = \"text-align: right;\">0.8136</td><td style = \"text-align: right;\">0.6524</td><td style = \"text-align: left;\">APP_SORL1</td></tr><tr><td class = \"rowNumber\" style = \"font-weight: bold; text-align: right;\">528</td><td style = \"text-align: left;\">F11R</td><td style = \"text-align: left;\">ITGAL</td><td style = \"text-align: right;\">0.203744</td><td style = \"text-align: right;\">0.942</td><td style = \"text-align: right;\">1.2148</td><td style = \"text-align: left;\">F11R_ITGAL</td></tr><tr><td class = \"rowNumber\" style = \"font-weight: bold; text-align: right;\">529</td><td style = \"text-align: left;\">AREG</td><td style = \"text-align: left;\">ERBB2</td><td style = \"text-align: right;\">0.201982</td><td style = \"text-align: right;\">1.4834</td><td style = \"text-align: right;\">0.4776</td><td style = \"text-align: left;\">AREG_ERBB2</td></tr><tr><td class = \"rowNumber\" style = \"font-weight: bold; text-align: right;\">530</td><td style = \"text-align: left;\">LAMB2</td><td style = \"text-align: left;\">ITGB4</td><td style = \"text-align: right;\">0.201282</td><td style = \"text-align: right;\">1.6537</td><td style = \"text-align: right;\">0.8609</td><td style = \"text-align: left;\">LAMB2_ITGB4</td></tr></tbody></table></div>"
      ],
      "text/latex": [
       "\\begin{tabular}{r|cccccc}\n",
       "\t& from & to & correlation & ligand\\_FC & Receptor\\_FC & pair\\\\\n",
       "\t\\hline\n",
       "\t& String & String & Float64 & Float64 & Float64 & String\\\\\n",
       "\t\\hline\n",
       "\t1 & LGALS3 & ITGB4 & 0.832963 & 0.7695 & 0.8609 & LGALS3\\_ITGB4 \\\\\n",
       "\t2 & CDHR5 & CDHR2 & 0.830117 & 0.7361 & 0.9662 & CDHR5\\_CDHR2 \\\\\n",
       "\t3 & HLA-E & ITGA6 & 0.780889 & 1.1673 & 0.7086 & HLA-E\\_ITGA6 \\\\\n",
       "\t4 & HLA-E & PLXNB2 & 0.779063 & 1.1673 & 0.7971 & HLA-E\\_PLXNB2 \\\\\n",
       "\t5 & COL1A1 & ITGA5 & 0.764293 & 1.9866 & 1.872 & COL1A1\\_ITGA5 \\\\\n",
       "\t6 & DSC2 & LSR & 0.7638 & 0.8149 & 0.7539 & DSC2\\_LSR \\\\\n",
       "\t7 & DSC2 & EPHA2 & 0.759718 & 0.8149 & 0.8393 & DSC2\\_EPHA2 \\\\\n",
       "\t8 & GRN & TNFRSF1A & 0.748926 & 1.1756 & 1.0184 & GRN\\_TNFRSF1A \\\\\n",
       "\t9 & DSG2 & EPHA2 & 0.737155 & 0.7307 & 0.8393 & DSG2\\_EPHA2 \\\\\n",
       "\t10 & DSG2 & LRP10 & 0.735606 & 0.7307 & 0.9101 & DSG2\\_LRP10 \\\\\n",
       "\t11 & LAMC2 & ITGA2 & 0.734249 & 1.1017 & 1.2222 & LAMC2\\_ITGA2 \\\\\n",
       "\t12 & DSC2 & DSG2 & 0.722542 & 0.8149 & 0.7307 & DSC2\\_DSG2 \\\\\n",
       "\t13 & RPS19 & RPSA & 0.718279 & 0.8499 & 0.7268 & RPS19\\_RPSA \\\\\n",
       "\t14 & TNC & ITGA5 & 0.709979 & 2.8139 & 1.872 & TNC\\_ITGA5 \\\\\n",
       "\t15 & MIF & CD74 & 0.705286 & 0.9961 & 1.2571 & MIF\\_CD74 \\\\\n",
       "\t16 & DSG2 & LSR & 0.699518 & 0.7307 & 0.7539 & DSG2\\_LSR \\\\\n",
       "\t17 & CALM1 & TNFRSF1A & 0.697222 & 0.7865 & 1.0184 & CALM1\\_TNFRSF1A \\\\\n",
       "\t18 & CDH1 & DDR1 & 0.692245 & 0.8122 & 0.7374 & CDH1\\_DDR1 \\\\\n",
       "\t19 & COL4A1 & ITGB1 & 0.681179 & 2.4032 & 1.1237 & COL4A1\\_ITGB1 \\\\\n",
       "\t20 & LGALS3 & ITGB1 & 0.677309 & 0.7695 & 1.1237 & LGALS3\\_ITGB1 \\\\\n",
       "\t21 & ITGB1 & ITGA6 & 0.671693 & 1.1237 & 0.7086 & ITGB1\\_ITGA6 \\\\\n",
       "\t22 & PLAU & PLAUR & 0.665971 & 3.262 & 1.248 & PLAU\\_PLAUR \\\\\n",
       "\t23 & GRN & SORT1 & 0.66446 & 1.1756 & 0.8919 & GRN\\_SORT1 \\\\\n",
       "\t24 & LAMC2 & ITGB4 & 0.663032 & 1.1017 & 0.8609 & LAMC2\\_ITGB4 \\\\\n",
       "\t$\\dots$ & $\\dots$ & $\\dots$ & $\\dots$ & $\\dots$ & $\\dots$ & $\\dots$ \\\\\n",
       "\\end{tabular}\n"
      ],
      "text/plain": [
       "\u001b[1m530×6 DataFrame\u001b[0m\n",
       "\u001b[1m Row \u001b[0m│\u001b[1m from     \u001b[0m\u001b[1m to       \u001b[0m\u001b[1m correlation \u001b[0m\u001b[1m ligand_FC \u001b[0m\u001b[1m Receptor_FC \u001b[0m\u001b[1m pair          \u001b[0m\n",
       "     │\u001b[90m String   \u001b[0m\u001b[90m String   \u001b[0m\u001b[90m Float64     \u001b[0m\u001b[90m Float64   \u001b[0m\u001b[90m Float64     \u001b[0m\u001b[90m String        \u001b[0m\n",
       "─────┼────────────────────────────────────────────────────────────────────────\n",
       "   1 │ LGALS3    ITGB4        0.832963     0.7695       0.8609  LGALS3_ITGB4\n",
       "   2 │ CDHR5     CDHR2        0.830117     0.7361       0.9662  CDHR5_CDHR2\n",
       "   3 │ HLA-E     ITGA6        0.780889     1.1673       0.7086  HLA-E_ITGA6\n",
       "   4 │ HLA-E     PLXNB2       0.779063     1.1673       0.7971  HLA-E_PLXNB2\n",
       "   5 │ COL1A1    ITGA5        0.764293     1.9866       1.872   COL1A1_ITGA5\n",
       "   6 │ DSC2      LSR          0.7638       0.8149       0.7539  DSC2_LSR\n",
       "   7 │ DSC2      EPHA2        0.759718     0.8149       0.8393  DSC2_EPHA2\n",
       "   8 │ GRN       TNFRSF1A     0.748926     1.1756       1.0184  GRN_TNFRSF1A\n",
       "  ⋮  │    ⋮         ⋮           ⋮           ⋮           ⋮             ⋮\n",
       " 524 │ F11R      PTPRB        0.206814     0.942        1.2823  F11R_PTPRB\n",
       " 525 │ SERPINE1  LRP1         0.205949     1.5213       1.3051  SERPINE1_LRP1\n",
       " 526 │ F11R      TGFBR2       0.2052       0.942        1.4611  F11R_TGFBR2\n",
       " 527 │ APP       SORL1        0.204104     0.8136       0.6524  APP_SORL1\n",
       " 528 │ F11R      ITGAL        0.203744     0.942        1.2148  F11R_ITGAL\n",
       " 529 │ AREG      ERBB2        0.201982     1.4834       0.4776  AREG_ERBB2\n",
       " 530 │ LAMB2     ITGB4        0.201282     1.6537       0.8609  LAMB2_ITGB4\n",
       "\u001b[36m                                                              515 rows omitted\u001b[0m"
      ]
     },
     "metadata": {},
     "output_type": "display_data"
    }
   ],
   "source": [
    "unique(df_7, :correlation)"
   ]
  },
  {
   "cell_type": "code",
   "execution_count": 51,
   "metadata": {},
   "outputs": [
    {
     "data": {
      "text/html": [
       "<div><div style = \"float: left;\"><span>540×6 DataFrame</span></div><div style = \"float: right;\"><span style = \"font-style: italic;\">515 rows omitted</span></div><div style = \"clear: both;\"></div></div><div class = \"data-frame\" style = \"overflow-x: scroll;\"><table class = \"data-frame\" style = \"margin-bottom: 6px;\"><thead><tr class = \"header\"><th class = \"rowNumber\" style = \"font-weight: bold; text-align: right;\">Row</th><th style = \"text-align: left;\">from</th><th style = \"text-align: left;\">to</th><th style = \"text-align: left;\">correlation</th><th style = \"text-align: left;\">ligand_FC</th><th style = \"text-align: left;\">Receptor_FC</th><th style = \"text-align: left;\">pair</th></tr><tr class = \"subheader headerLastRow\"><th class = \"rowNumber\" style = \"font-weight: bold; text-align: right;\"></th><th title = \"String\" style = \"text-align: left;\">String</th><th title = \"String\" style = \"text-align: left;\">String</th><th title = \"Float64\" style = \"text-align: left;\">Float64</th><th title = \"Float64\" style = \"text-align: left;\">Float64</th><th title = \"Float64\" style = \"text-align: left;\">Float64</th><th title = \"String\" style = \"text-align: left;\">String</th></tr></thead><tbody><tr><td class = \"rowNumber\" style = \"font-weight: bold; text-align: right;\">1</td><td style = \"text-align: left;\">LGALS3</td><td style = \"text-align: left;\">ITGB4</td><td style = \"text-align: right;\">0.832963</td><td style = \"text-align: right;\">0.7695</td><td style = \"text-align: right;\">0.8609</td><td style = \"text-align: left;\">LGALS3_ITGB4</td></tr><tr><td class = \"rowNumber\" style = \"font-weight: bold; text-align: right;\">2</td><td style = \"text-align: left;\">CDHR5</td><td style = \"text-align: left;\">CDHR2</td><td style = \"text-align: right;\">0.830117</td><td style = \"text-align: right;\">0.7361</td><td style = \"text-align: right;\">0.9662</td><td style = \"text-align: left;\">CDHR5_CDHR2</td></tr><tr><td class = \"rowNumber\" style = \"font-weight: bold; text-align: right;\">3</td><td style = \"text-align: left;\">CDHR2</td><td style = \"text-align: left;\">CDHR5</td><td style = \"text-align: right;\">0.830117</td><td style = \"text-align: right;\">0.9662</td><td style = \"text-align: right;\">0.7361</td><td style = \"text-align: left;\">CDHR2_CDHR5</td></tr><tr><td class = \"rowNumber\" style = \"font-weight: bold; text-align: right;\">4</td><td style = \"text-align: left;\">HLA-E</td><td style = \"text-align: left;\">ITGA6</td><td style = \"text-align: right;\">0.780889</td><td style = \"text-align: right;\">1.1673</td><td style = \"text-align: right;\">0.7086</td><td style = \"text-align: left;\">HLA-E_ITGA6</td></tr><tr><td class = \"rowNumber\" style = \"font-weight: bold; text-align: right;\">5</td><td style = \"text-align: left;\">HLA-E</td><td style = \"text-align: left;\">PLXNB2</td><td style = \"text-align: right;\">0.779063</td><td style = \"text-align: right;\">1.1673</td><td style = \"text-align: right;\">0.7971</td><td style = \"text-align: left;\">HLA-E_PLXNB2</td></tr><tr><td class = \"rowNumber\" style = \"font-weight: bold; text-align: right;\">6</td><td style = \"text-align: left;\">COL1A1</td><td style = \"text-align: left;\">ITGA5</td><td style = \"text-align: right;\">0.764293</td><td style = \"text-align: right;\">1.9866</td><td style = \"text-align: right;\">1.872</td><td style = \"text-align: left;\">COL1A1_ITGA5</td></tr><tr><td class = \"rowNumber\" style = \"font-weight: bold; text-align: right;\">7</td><td style = \"text-align: left;\">DSC2</td><td style = \"text-align: left;\">LSR</td><td style = \"text-align: right;\">0.7638</td><td style = \"text-align: right;\">0.8149</td><td style = \"text-align: right;\">0.7539</td><td style = \"text-align: left;\">DSC2_LSR</td></tr><tr><td class = \"rowNumber\" style = \"font-weight: bold; text-align: right;\">8</td><td style = \"text-align: left;\">DSC2</td><td style = \"text-align: left;\">EPHA2</td><td style = \"text-align: right;\">0.759718</td><td style = \"text-align: right;\">0.8149</td><td style = \"text-align: right;\">0.8393</td><td style = \"text-align: left;\">DSC2_EPHA2</td></tr><tr><td class = \"rowNumber\" style = \"font-weight: bold; text-align: right;\">9</td><td style = \"text-align: left;\">GRN</td><td style = \"text-align: left;\">TNFRSF1A</td><td style = \"text-align: right;\">0.748926</td><td style = \"text-align: right;\">1.1756</td><td style = \"text-align: right;\">1.0184</td><td style = \"text-align: left;\">GRN_TNFRSF1A</td></tr><tr><td class = \"rowNumber\" style = \"font-weight: bold; text-align: right;\">10</td><td style = \"text-align: left;\">DSG2</td><td style = \"text-align: left;\">EPHA2</td><td style = \"text-align: right;\">0.737155</td><td style = \"text-align: right;\">0.7307</td><td style = \"text-align: right;\">0.8393</td><td style = \"text-align: left;\">DSG2_EPHA2</td></tr><tr><td class = \"rowNumber\" style = \"font-weight: bold; text-align: right;\">11</td><td style = \"text-align: left;\">DSG2</td><td style = \"text-align: left;\">LRP10</td><td style = \"text-align: right;\">0.735606</td><td style = \"text-align: right;\">0.7307</td><td style = \"text-align: right;\">0.9101</td><td style = \"text-align: left;\">DSG2_LRP10</td></tr><tr><td class = \"rowNumber\" style = \"font-weight: bold; text-align: right;\">12</td><td style = \"text-align: left;\">LAMC2</td><td style = \"text-align: left;\">ITGA2</td><td style = \"text-align: right;\">0.734249</td><td style = \"text-align: right;\">1.1017</td><td style = \"text-align: right;\">1.2222</td><td style = \"text-align: left;\">LAMC2_ITGA2</td></tr><tr><td class = \"rowNumber\" style = \"font-weight: bold; text-align: right;\">13</td><td style = \"text-align: left;\">DSC2</td><td style = \"text-align: left;\">DSG2</td><td style = \"text-align: right;\">0.722542</td><td style = \"text-align: right;\">0.8149</td><td style = \"text-align: right;\">0.7307</td><td style = \"text-align: left;\">DSC2_DSG2</td></tr><tr><td style = \"text-align: right;\">&vellip;</td><td style = \"text-align: right;\">&vellip;</td><td style = \"text-align: right;\">&vellip;</td><td style = \"text-align: right;\">&vellip;</td><td style = \"text-align: right;\">&vellip;</td><td style = \"text-align: right;\">&vellip;</td><td style = \"text-align: right;\">&vellip;</td></tr><tr><td class = \"rowNumber\" style = \"font-weight: bold; text-align: right;\">529</td><td style = \"text-align: left;\">PTPRC</td><td style = \"text-align: left;\">EGFR</td><td style = \"text-align: right;\">0.216559</td><td style = \"text-align: right;\">1.6397</td><td style = \"text-align: right;\">1.0176</td><td style = \"text-align: left;\">PTPRC_EGFR</td></tr><tr><td class = \"rowNumber\" style = \"font-weight: bold; text-align: right;\">530</td><td style = \"text-align: left;\">CDH5</td><td style = \"text-align: left;\">P2RX4</td><td style = \"text-align: right;\">0.21627</td><td style = \"text-align: right;\">2.243</td><td style = \"text-align: right;\">0.9859</td><td style = \"text-align: left;\">CDH5_P2RX4</td></tr><tr><td class = \"rowNumber\" style = \"font-weight: bold; text-align: right;\">531</td><td style = \"text-align: left;\">CCL28</td><td style = \"text-align: left;\">CXCR4</td><td style = \"text-align: right;\">0.212796</td><td style = \"text-align: right;\">0.6059</td><td style = \"text-align: right;\">1.2618</td><td style = \"text-align: left;\">CCL28_CXCR4</td></tr><tr><td class = \"rowNumber\" style = \"font-weight: bold; text-align: right;\">532</td><td style = \"text-align: left;\">ITGB1</td><td style = \"text-align: left;\">IGF1R</td><td style = \"text-align: right;\">0.206833</td><td style = \"text-align: right;\">1.1237</td><td style = \"text-align: right;\">0.8299</td><td style = \"text-align: left;\">ITGB1_IGF1R</td></tr><tr><td class = \"rowNumber\" style = \"font-weight: bold; text-align: right;\">533</td><td style = \"text-align: left;\">F11R</td><td style = \"text-align: left;\">PTPRB</td><td style = \"text-align: right;\">0.206814</td><td style = \"text-align: right;\">0.942</td><td style = \"text-align: right;\">1.2823</td><td style = \"text-align: left;\">F11R_PTPRB</td></tr><tr><td class = \"rowNumber\" style = \"font-weight: bold; text-align: right;\">534</td><td style = \"text-align: left;\">SERPINE1</td><td style = \"text-align: left;\">LRP1</td><td style = \"text-align: right;\">0.205949</td><td style = \"text-align: right;\">1.5213</td><td style = \"text-align: right;\">1.3051</td><td style = \"text-align: left;\">SERPINE1_LRP1</td></tr><tr><td class = \"rowNumber\" style = \"font-weight: bold; text-align: right;\">535</td><td style = \"text-align: left;\">F11R</td><td style = \"text-align: left;\">TGFBR2</td><td style = \"text-align: right;\">0.2052</td><td style = \"text-align: right;\">0.942</td><td style = \"text-align: right;\">1.4611</td><td style = \"text-align: left;\">F11R_TGFBR2</td></tr><tr><td class = \"rowNumber\" style = \"font-weight: bold; text-align: right;\">536</td><td style = \"text-align: left;\">APP</td><td style = \"text-align: left;\">SORL1</td><td style = \"text-align: right;\">0.204104</td><td style = \"text-align: right;\">0.8136</td><td style = \"text-align: right;\">0.6524</td><td style = \"text-align: left;\">APP_SORL1</td></tr><tr><td class = \"rowNumber\" style = \"font-weight: bold; text-align: right;\">537</td><td style = \"text-align: left;\">F11R</td><td style = \"text-align: left;\">ITGAL</td><td style = \"text-align: right;\">0.203744</td><td style = \"text-align: right;\">0.942</td><td style = \"text-align: right;\">1.2148</td><td style = \"text-align: left;\">F11R_ITGAL</td></tr><tr><td class = \"rowNumber\" style = \"font-weight: bold; text-align: right;\">538</td><td style = \"text-align: left;\">ITGAL</td><td style = \"text-align: left;\">F11R</td><td style = \"text-align: right;\">0.203744</td><td style = \"text-align: right;\">1.2148</td><td style = \"text-align: right;\">0.942</td><td style = \"text-align: left;\">ITGAL_F11R</td></tr><tr><td class = \"rowNumber\" style = \"font-weight: bold; text-align: right;\">539</td><td style = \"text-align: left;\">AREG</td><td style = \"text-align: left;\">ERBB2</td><td style = \"text-align: right;\">0.201982</td><td style = \"text-align: right;\">1.4834</td><td style = \"text-align: right;\">0.4776</td><td style = \"text-align: left;\">AREG_ERBB2</td></tr><tr><td class = \"rowNumber\" style = \"font-weight: bold; text-align: right;\">540</td><td style = \"text-align: left;\">LAMB2</td><td style = \"text-align: left;\">ITGB4</td><td style = \"text-align: right;\">0.201282</td><td style = \"text-align: right;\">1.6537</td><td style = \"text-align: right;\">0.8609</td><td style = \"text-align: left;\">LAMB2_ITGB4</td></tr></tbody></table></div>"
      ],
      "text/latex": [
       "\\begin{tabular}{r|cccccc}\n",
       "\t& from & to & correlation & ligand\\_FC & Receptor\\_FC & pair\\\\\n",
       "\t\\hline\n",
       "\t& String & String & Float64 & Float64 & Float64 & String\\\\\n",
       "\t\\hline\n",
       "\t1 & LGALS3 & ITGB4 & 0.832963 & 0.7695 & 0.8609 & LGALS3\\_ITGB4 \\\\\n",
       "\t2 & CDHR5 & CDHR2 & 0.830117 & 0.7361 & 0.9662 & CDHR5\\_CDHR2 \\\\\n",
       "\t3 & CDHR2 & CDHR5 & 0.830117 & 0.9662 & 0.7361 & CDHR2\\_CDHR5 \\\\\n",
       "\t4 & HLA-E & ITGA6 & 0.780889 & 1.1673 & 0.7086 & HLA-E\\_ITGA6 \\\\\n",
       "\t5 & HLA-E & PLXNB2 & 0.779063 & 1.1673 & 0.7971 & HLA-E\\_PLXNB2 \\\\\n",
       "\t6 & COL1A1 & ITGA5 & 0.764293 & 1.9866 & 1.872 & COL1A1\\_ITGA5 \\\\\n",
       "\t7 & DSC2 & LSR & 0.7638 & 0.8149 & 0.7539 & DSC2\\_LSR \\\\\n",
       "\t8 & DSC2 & EPHA2 & 0.759718 & 0.8149 & 0.8393 & DSC2\\_EPHA2 \\\\\n",
       "\t9 & GRN & TNFRSF1A & 0.748926 & 1.1756 & 1.0184 & GRN\\_TNFRSF1A \\\\\n",
       "\t10 & DSG2 & EPHA2 & 0.737155 & 0.7307 & 0.8393 & DSG2\\_EPHA2 \\\\\n",
       "\t11 & DSG2 & LRP10 & 0.735606 & 0.7307 & 0.9101 & DSG2\\_LRP10 \\\\\n",
       "\t12 & LAMC2 & ITGA2 & 0.734249 & 1.1017 & 1.2222 & LAMC2\\_ITGA2 \\\\\n",
       "\t13 & DSC2 & DSG2 & 0.722542 & 0.8149 & 0.7307 & DSC2\\_DSG2 \\\\\n",
       "\t14 & DSG2 & DSC2 & 0.722542 & 0.7307 & 0.8149 & DSG2\\_DSC2 \\\\\n",
       "\t15 & RPS19 & RPSA & 0.718279 & 0.8499 & 0.7268 & RPS19\\_RPSA \\\\\n",
       "\t16 & TNC & ITGA5 & 0.709979 & 2.8139 & 1.872 & TNC\\_ITGA5 \\\\\n",
       "\t17 & MIF & CD74 & 0.705286 & 0.9961 & 1.2571 & MIF\\_CD74 \\\\\n",
       "\t18 & DSG2 & LSR & 0.699518 & 0.7307 & 0.7539 & DSG2\\_LSR \\\\\n",
       "\t19 & CALM1 & TNFRSF1A & 0.697222 & 0.7865 & 1.0184 & CALM1\\_TNFRSF1A \\\\\n",
       "\t20 & CDH1 & DDR1 & 0.692245 & 0.8122 & 0.7374 & CDH1\\_DDR1 \\\\\n",
       "\t21 & COL4A1 & ITGB1 & 0.681179 & 2.4032 & 1.1237 & COL4A1\\_ITGB1 \\\\\n",
       "\t22 & LGALS3 & ITGB1 & 0.677309 & 0.7695 & 1.1237 & LGALS3\\_ITGB1 \\\\\n",
       "\t23 & ITGB1 & ITGA6 & 0.671693 & 1.1237 & 0.7086 & ITGB1\\_ITGA6 \\\\\n",
       "\t24 & PLAU & PLAUR & 0.665971 & 3.262 & 1.248 & PLAU\\_PLAUR \\\\\n",
       "\t$\\dots$ & $\\dots$ & $\\dots$ & $\\dots$ & $\\dots$ & $\\dots$ & $\\dots$ \\\\\n",
       "\\end{tabular}\n"
      ],
      "text/plain": [
       "\u001b[1m540×6 DataFrame\u001b[0m\n",
       "\u001b[1m Row \u001b[0m│\u001b[1m from     \u001b[0m\u001b[1m to       \u001b[0m\u001b[1m correlation \u001b[0m\u001b[1m ligand_FC \u001b[0m\u001b[1m Receptor_FC \u001b[0m\u001b[1m pair          \u001b[0m\n",
       "     │\u001b[90m String   \u001b[0m\u001b[90m String   \u001b[0m\u001b[90m Float64     \u001b[0m\u001b[90m Float64   \u001b[0m\u001b[90m Float64     \u001b[0m\u001b[90m String        \u001b[0m\n",
       "─────┼────────────────────────────────────────────────────────────────────────\n",
       "   1 │ LGALS3    ITGB4        0.832963     0.7695       0.8609  LGALS3_ITGB4\n",
       "   2 │ CDHR5     CDHR2        0.830117     0.7361       0.9662  CDHR5_CDHR2\n",
       "   3 │ CDHR2     CDHR5        0.830117     0.9662       0.7361  CDHR2_CDHR5\n",
       "   4 │ HLA-E     ITGA6        0.780889     1.1673       0.7086  HLA-E_ITGA6\n",
       "   5 │ HLA-E     PLXNB2       0.779063     1.1673       0.7971  HLA-E_PLXNB2\n",
       "   6 │ COL1A1    ITGA5        0.764293     1.9866       1.872   COL1A1_ITGA5\n",
       "   7 │ DSC2      LSR          0.7638       0.8149       0.7539  DSC2_LSR\n",
       "   8 │ DSC2      EPHA2        0.759718     0.8149       0.8393  DSC2_EPHA2\n",
       "  ⋮  │    ⋮         ⋮           ⋮           ⋮           ⋮             ⋮\n",
       " 534 │ SERPINE1  LRP1         0.205949     1.5213       1.3051  SERPINE1_LRP1\n",
       " 535 │ F11R      TGFBR2       0.2052       0.942        1.4611  F11R_TGFBR2\n",
       " 536 │ APP       SORL1        0.204104     0.8136       0.6524  APP_SORL1\n",
       " 537 │ F11R      ITGAL        0.203744     0.942        1.2148  F11R_ITGAL\n",
       " 538 │ ITGAL     F11R         0.203744     1.2148       0.942   ITGAL_F11R\n",
       " 539 │ AREG      ERBB2        0.201982     1.4834       0.4776  AREG_ERBB2\n",
       " 540 │ LAMB2     ITGB4        0.201282     1.6537       0.8609  LAMB2_ITGB4\n",
       "\u001b[36m                                                              525 rows omitted\u001b[0m"
      ]
     },
     "metadata": {},
     "output_type": "display_data"
    }
   ],
   "source": [
    "df_7 = lr_cc7[\"enriched_LRs\"]\n",
    "df_7.to"
   ]
  },
  {
   "cell_type": "code",
   "execution_count": null,
   "metadata": {},
   "outputs": [],
   "source": [
    "df_7.save"
   ]
  },
  {
   "cell_type": "code",
   "execution_count": null,
   "metadata": {},
   "outputs": [],
   "source": [
    "filter(r -> r.x1 != 0, df_7)"
   ]
  },
  {
   "cell_type": "code",
   "execution_count": 15,
   "metadata": {},
   "outputs": [
    {
     "data": {
      "text/html": [
       "<div><div style = \"float: left;\"><span>20×6 DataFrame</span></div><div style = \"clear: both;\"></div></div><div class = \"data-frame\" style = \"overflow-x: scroll;\"><table class = \"data-frame\" style = \"margin-bottom: 6px;\"><thead><tr class = \"header\"><th class = \"rowNumber\" style = \"font-weight: bold; text-align: right;\">Row</th><th style = \"text-align: left;\">from</th><th style = \"text-align: left;\">to</th><th style = \"text-align: left;\">correlation</th><th style = \"text-align: left;\">ligand_FC</th><th style = \"text-align: left;\">Receptor_FC</th><th style = \"text-align: left;\">pair</th></tr><tr class = \"subheader headerLastRow\"><th class = \"rowNumber\" style = \"font-weight: bold; text-align: right;\"></th><th title = \"String\" style = \"text-align: left;\">String</th><th title = \"String\" style = \"text-align: left;\">String</th><th title = \"Float64\" style = \"text-align: left;\">Float64</th><th title = \"Float64\" style = \"text-align: left;\">Float64</th><th title = \"Float64\" style = \"text-align: left;\">Float64</th><th title = \"String\" style = \"text-align: left;\">String</th></tr></thead><tbody><tr><td class = \"rowNumber\" style = \"font-weight: bold; text-align: right;\">1</td><td style = \"text-align: left;\">CDHR5</td><td style = \"text-align: left;\">CDHR2</td><td style = \"text-align: right;\">0.830117</td><td style = \"text-align: right;\">0.7361</td><td style = \"text-align: right;\">0.9662</td><td style = \"text-align: left;\">CDHR5_CDHR2</td></tr><tr><td class = \"rowNumber\" style = \"font-weight: bold; text-align: right;\">2</td><td style = \"text-align: left;\">CDHR2</td><td style = \"text-align: left;\">CDHR5</td><td style = \"text-align: right;\">0.830117</td><td style = \"text-align: right;\">0.9662</td><td style = \"text-align: right;\">0.7361</td><td style = \"text-align: left;\">CDHR2_CDHR5</td></tr><tr><td class = \"rowNumber\" style = \"font-weight: bold; text-align: right;\">3</td><td style = \"text-align: left;\">DSC2</td><td style = \"text-align: left;\">DSG2</td><td style = \"text-align: right;\">0.722542</td><td style = \"text-align: right;\">0.8149</td><td style = \"text-align: right;\">0.7307</td><td style = \"text-align: left;\">DSC2_DSG2</td></tr><tr><td class = \"rowNumber\" style = \"font-weight: bold; text-align: right;\">4</td><td style = \"text-align: left;\">DSG2</td><td style = \"text-align: left;\">DSC2</td><td style = \"text-align: right;\">0.722542</td><td style = \"text-align: right;\">0.7307</td><td style = \"text-align: right;\">0.8149</td><td style = \"text-align: left;\">DSG2_DSC2</td></tr><tr><td class = \"rowNumber\" style = \"font-weight: bold; text-align: right;\">5</td><td style = \"text-align: left;\">CDH1</td><td style = \"text-align: left;\">PTPRF</td><td style = \"text-align: right;\">0.605276</td><td style = \"text-align: right;\">0.8122</td><td style = \"text-align: right;\">0.7244</td><td style = \"text-align: left;\">CDH1_PTPRF</td></tr><tr><td class = \"rowNumber\" style = \"font-weight: bold; text-align: right;\">6</td><td style = \"text-align: left;\">PTPRF</td><td style = \"text-align: left;\">CDH1</td><td style = \"text-align: right;\">0.605276</td><td style = \"text-align: right;\">0.7244</td><td style = \"text-align: right;\">0.8122</td><td style = \"text-align: left;\">PTPRF_CDH1</td></tr><tr><td class = \"rowNumber\" style = \"font-weight: bold; text-align: right;\">7</td><td style = \"text-align: left;\">F11R</td><td style = \"text-align: left;\">ITGB2</td><td style = \"text-align: right;\">0.55938</td><td style = \"text-align: right;\">0.942</td><td style = \"text-align: right;\">2.1694</td><td style = \"text-align: left;\">F11R_ITGB2</td></tr><tr><td class = \"rowNumber\" style = \"font-weight: bold; text-align: right;\">8</td><td style = \"text-align: left;\">ITGB2</td><td style = \"text-align: left;\">F11R</td><td style = \"text-align: right;\">0.55938</td><td style = \"text-align: right;\">2.1694</td><td style = \"text-align: right;\">0.942</td><td style = \"text-align: left;\">ITGB2_F11R</td></tr><tr><td class = \"rowNumber\" style = \"font-weight: bold; text-align: right;\">9</td><td style = \"text-align: left;\">ITGB2</td><td style = \"text-align: left;\">ICAM1</td><td style = \"text-align: right;\">0.463724</td><td style = \"text-align: right;\">2.1694</td><td style = \"text-align: right;\">1.9715</td><td style = \"text-align: left;\">ITGB2_ICAM1</td></tr><tr><td class = \"rowNumber\" style = \"font-weight: bold; text-align: right;\">10</td><td style = \"text-align: left;\">ICAM1</td><td style = \"text-align: left;\">ITGB2</td><td style = \"text-align: right;\">0.463724</td><td style = \"text-align: right;\">1.9715</td><td style = \"text-align: right;\">2.1694</td><td style = \"text-align: left;\">ICAM1_ITGB2</td></tr><tr><td class = \"rowNumber\" style = \"font-weight: bold; text-align: right;\">11</td><td style = \"text-align: left;\">PTPRC</td><td style = \"text-align: left;\">CD2</td><td style = \"text-align: right;\">0.394723</td><td style = \"text-align: right;\">1.6397</td><td style = \"text-align: right;\">1.6859</td><td style = \"text-align: left;\">PTPRC_CD2</td></tr><tr><td class = \"rowNumber\" style = \"font-weight: bold; text-align: right;\">12</td><td style = \"text-align: left;\">CD2</td><td style = \"text-align: left;\">PTPRC</td><td style = \"text-align: right;\">0.394723</td><td style = \"text-align: right;\">1.6859</td><td style = \"text-align: right;\">1.6397</td><td style = \"text-align: left;\">CD2_PTPRC</td></tr><tr><td class = \"rowNumber\" style = \"font-weight: bold; text-align: right;\">13</td><td style = \"text-align: left;\">JAM3</td><td style = \"text-align: left;\">ITGB2</td><td style = \"text-align: right;\">0.317787</td><td style = \"text-align: right;\">2.1433</td><td style = \"text-align: right;\">2.1694</td><td style = \"text-align: left;\">JAM3_ITGB2</td></tr><tr><td class = \"rowNumber\" style = \"font-weight: bold; text-align: right;\">14</td><td style = \"text-align: left;\">ITGB2</td><td style = \"text-align: left;\">JAM3</td><td style = \"text-align: right;\">0.317787</td><td style = \"text-align: right;\">2.1694</td><td style = \"text-align: right;\">2.1433</td><td style = \"text-align: left;\">ITGB2_JAM3</td></tr><tr><td class = \"rowNumber\" style = \"font-weight: bold; text-align: right;\">15</td><td style = \"text-align: left;\">PVR</td><td style = \"text-align: left;\">CDH1</td><td style = \"text-align: right;\">0.276865</td><td style = \"text-align: right;\">0.7666</td><td style = \"text-align: right;\">0.8122</td><td style = \"text-align: left;\">PVR_CDH1</td></tr><tr><td class = \"rowNumber\" style = \"font-weight: bold; text-align: right;\">16</td><td style = \"text-align: left;\">CDH1</td><td style = \"text-align: left;\">PVR</td><td style = \"text-align: right;\">0.276865</td><td style = \"text-align: right;\">0.8122</td><td style = \"text-align: right;\">0.7666</td><td style = \"text-align: left;\">CDH1_PVR</td></tr><tr><td class = \"rowNumber\" style = \"font-weight: bold; text-align: right;\">17</td><td style = \"text-align: left;\">ICAM2</td><td style = \"text-align: left;\">ITGB2</td><td style = \"text-align: right;\">0.248302</td><td style = \"text-align: right;\">1.8473</td><td style = \"text-align: right;\">2.1694</td><td style = \"text-align: left;\">ICAM2_ITGB2</td></tr><tr><td class = \"rowNumber\" style = \"font-weight: bold; text-align: right;\">18</td><td style = \"text-align: left;\">ITGB2</td><td style = \"text-align: left;\">ICAM2</td><td style = \"text-align: right;\">0.248302</td><td style = \"text-align: right;\">2.1694</td><td style = \"text-align: right;\">1.8473</td><td style = \"text-align: left;\">ITGB2_ICAM2</td></tr><tr><td class = \"rowNumber\" style = \"font-weight: bold; text-align: right;\">19</td><td style = \"text-align: left;\">F11R</td><td style = \"text-align: left;\">ITGAL</td><td style = \"text-align: right;\">0.203744</td><td style = \"text-align: right;\">0.942</td><td style = \"text-align: right;\">1.2148</td><td style = \"text-align: left;\">F11R_ITGAL</td></tr><tr><td class = \"rowNumber\" style = \"font-weight: bold; text-align: right;\">20</td><td style = \"text-align: left;\">ITGAL</td><td style = \"text-align: left;\">F11R</td><td style = \"text-align: right;\">0.203744</td><td style = \"text-align: right;\">1.2148</td><td style = \"text-align: right;\">0.942</td><td style = \"text-align: left;\">ITGAL_F11R</td></tr></tbody></table></div>"
      ],
      "text/latex": [
       "\\begin{tabular}{r|cccccc}\n",
       "\t& from & to & correlation & ligand\\_FC & Receptor\\_FC & pair\\\\\n",
       "\t\\hline\n",
       "\t& String & String & Float64 & Float64 & Float64 & String\\\\\n",
       "\t\\hline\n",
       "\t1 & CDHR5 & CDHR2 & 0.830117 & 0.7361 & 0.9662 & CDHR5\\_CDHR2 \\\\\n",
       "\t2 & CDHR2 & CDHR5 & 0.830117 & 0.9662 & 0.7361 & CDHR2\\_CDHR5 \\\\\n",
       "\t3 & DSC2 & DSG2 & 0.722542 & 0.8149 & 0.7307 & DSC2\\_DSG2 \\\\\n",
       "\t4 & DSG2 & DSC2 & 0.722542 & 0.7307 & 0.8149 & DSG2\\_DSC2 \\\\\n",
       "\t5 & CDH1 & PTPRF & 0.605276 & 0.8122 & 0.7244 & CDH1\\_PTPRF \\\\\n",
       "\t6 & PTPRF & CDH1 & 0.605276 & 0.7244 & 0.8122 & PTPRF\\_CDH1 \\\\\n",
       "\t7 & F11R & ITGB2 & 0.55938 & 0.942 & 2.1694 & F11R\\_ITGB2 \\\\\n",
       "\t8 & ITGB2 & F11R & 0.55938 & 2.1694 & 0.942 & ITGB2\\_F11R \\\\\n",
       "\t9 & ITGB2 & ICAM1 & 0.463724 & 2.1694 & 1.9715 & ITGB2\\_ICAM1 \\\\\n",
       "\t10 & ICAM1 & ITGB2 & 0.463724 & 1.9715 & 2.1694 & ICAM1\\_ITGB2 \\\\\n",
       "\t11 & PTPRC & CD2 & 0.394723 & 1.6397 & 1.6859 & PTPRC\\_CD2 \\\\\n",
       "\t12 & CD2 & PTPRC & 0.394723 & 1.6859 & 1.6397 & CD2\\_PTPRC \\\\\n",
       "\t13 & JAM3 & ITGB2 & 0.317787 & 2.1433 & 2.1694 & JAM3\\_ITGB2 \\\\\n",
       "\t14 & ITGB2 & JAM3 & 0.317787 & 2.1694 & 2.1433 & ITGB2\\_JAM3 \\\\\n",
       "\t15 & PVR & CDH1 & 0.276865 & 0.7666 & 0.8122 & PVR\\_CDH1 \\\\\n",
       "\t16 & CDH1 & PVR & 0.276865 & 0.8122 & 0.7666 & CDH1\\_PVR \\\\\n",
       "\t17 & ICAM2 & ITGB2 & 0.248302 & 1.8473 & 2.1694 & ICAM2\\_ITGB2 \\\\\n",
       "\t18 & ITGB2 & ICAM2 & 0.248302 & 2.1694 & 1.8473 & ITGB2\\_ICAM2 \\\\\n",
       "\t19 & F11R & ITGAL & 0.203744 & 0.942 & 1.2148 & F11R\\_ITGAL \\\\\n",
       "\t20 & ITGAL & F11R & 0.203744 & 1.2148 & 0.942 & ITGAL\\_F11R \\\\\n",
       "\\end{tabular}\n"
      ],
      "text/plain": [
       "\u001b[1m20×6 DataFrame\u001b[0m\n",
       "\u001b[1m Row \u001b[0m│\u001b[1m from   \u001b[0m\u001b[1m to     \u001b[0m\u001b[1m correlation \u001b[0m\u001b[1m ligand_FC \u001b[0m\u001b[1m Receptor_FC \u001b[0m\u001b[1m pair        \u001b[0m\n",
       "     │\u001b[90m String \u001b[0m\u001b[90m String \u001b[0m\u001b[90m Float64     \u001b[0m\u001b[90m Float64   \u001b[0m\u001b[90m Float64     \u001b[0m\u001b[90m String      \u001b[0m\n",
       "─────┼──────────────────────────────────────────────────────────────────\n",
       "   1 │ CDHR5   CDHR2      0.830117     0.7361       0.9662  CDHR5_CDHR2\n",
       "   2 │ CDHR2   CDHR5      0.830117     0.9662       0.7361  CDHR2_CDHR5\n",
       "   3 │ DSC2    DSG2       0.722542     0.8149       0.7307  DSC2_DSG2\n",
       "   4 │ DSG2    DSC2       0.722542     0.7307       0.8149  DSG2_DSC2\n",
       "   5 │ CDH1    PTPRF      0.605276     0.8122       0.7244  CDH1_PTPRF\n",
       "   6 │ PTPRF   CDH1       0.605276     0.7244       0.8122  PTPRF_CDH1\n",
       "   7 │ F11R    ITGB2      0.55938      0.942        2.1694  F11R_ITGB2\n",
       "   8 │ ITGB2   F11R       0.55938      2.1694       0.942   ITGB2_F11R\n",
       "  ⋮  │   ⋮       ⋮          ⋮           ⋮           ⋮            ⋮\n",
       "  14 │ ITGB2   JAM3       0.317787     2.1694       2.1433  ITGB2_JAM3\n",
       "  15 │ PVR     CDH1       0.276865     0.7666       0.8122  PVR_CDH1\n",
       "  16 │ CDH1    PVR        0.276865     0.8122       0.7666  CDH1_PVR\n",
       "  17 │ ICAM2   ITGB2      0.248302     1.8473       2.1694  ICAM2_ITGB2\n",
       "  18 │ ITGB2   ICAM2      0.248302     2.1694       1.8473  ITGB2_ICAM2\n",
       "  19 │ F11R    ITGAL      0.203744     0.942        1.2148  F11R_ITGAL\n",
       "  20 │ ITGAL   F11R       0.203744     1.2148       0.942   ITGAL_F11R\n",
       "\u001b[36m                                                          5 rows omitted\u001b[0m"
      ]
     },
     "metadata": {},
     "output_type": "display_data"
    }
   ],
   "source": [
    "duplicates = find_duplicate_rows(lr_cc7[\"enriched_LRs\"], \"correlation\")"
   ]
  },
  {
   "cell_type": "code",
   "execution_count": 17,
   "metadata": {},
   "outputs": [],
   "source": [
    "r_pairs = [\"LGALS3_ITGB4\", \"CDHR5_CDHR2\", \"HLA-E_ITGA6\", \"HLA-E_PLXNB2\", \"COL1A1_ITGA5\", \"DSC2_LSR\", \"DSC2_EPHA2\", \"GRN_TNFRSF1A\", \"DSG2_EPHA2\", \"DSG2_LRP10\", \"LAMC2_ITGA2\", \"DSG2_DSC2\", \"RPS19_RPSA\", \"TNC_ITGA5\", \"MIF_CD74\", \"DSG2_LSR\", \"CALM1_TNFRSF1A\", \"CDH1_DDR1\", \"ITGB1_ITGA6\", \"PLAU_PLAUR\", \"GRN_SORT1\", \"LAMC2_ITGB4\", \"TNC_ITGA2\", \"CALR_ITGA3\", \"LGALS3_NPTN\", \"ITGB1_CDH17\", \"PSAP_SORT1\", \"PLXNB2_MST1R\", \"CALR_ITGAV\", \"HLA-A_ERBB3\", \"LGALS3_TFRC\", \"MMP9_ITGA5\", \"LAMC2_ITGA6\", \"EFNA2_EPHA2\", \"ADAM9_ITGA6\", \"CCL2_ACKR1\", \"EFNA1_EPHA2\", \"ITGB1_ITGA5\", \"RTN4_EPHA2\", \"ITGB1_CD151\", \"CEACAM1_INSR\", \"ADAM9_ITGAV\", \"CDH1_PTPRF\", \"LGALS3_CLEC7A\", \"EFNB2_EPHA2\", \"HSP90B1_LDLR\", \"ANXA1_CD44\", \"APP_ITGA6\", \"EFNB1_EPHA2\", \"MDK_LRP1\", \"CALR_ITGA5\", \"HSPG2_FLT1\", \"ITGB1_RACK1\", \"DSG2_ITPR3\", \"ITGB1_PLAUR\", \"VEGFA_ITGAV\", \"ADAM9_ITGA3\", \"ITGB1_ITGAV\", \"APOE_SDC1\", \"ITGB1_ITGA3\", \"ITGB1_EPHA2\", \"ITGB1_ENG\", \"ITGB2_F11R\", \"COL1A1_CD36\", \"PSAP_LRP1\", \"CLSTN1_IGF2R\", \"PTPRC_CD44\", \"CALR_LRP1\", \"LAMC2_ITGA3\", \"PLXNB2_MET\", \"CDH1_MET\", \"MDK_SDC4\", \"PECAM1_ITGA5\", \"APP_SDC1\", \"CALR_CD44\", \"DSC2_INSR\", \"ITGB1_FAT1\", \"LAMC3_ITGA6\", \"CLSTN1_TFRC\", \"RTN4_CD44\", \"ADAM9_ITGB5\", \"HLA-E_PLXNA3\", \"APP_TNFRSF14\", \"CLSTN1_LRP1\", \"CDH1_RACK1\", \"MIF_TNFRSF14\", \"ITGB2_PLAUR\", \"LAMC2_CD151\", \"TNC_SDC1\", \"PLAU_CD44\", \"COL1A1_CD44\", \"ICAM1_ITGAX\", \"ANXA1_ACKR3\", \"VEGFA_FLT1\", \"TNC_ITGB6\", \"CALM1_INSR\", \"MDK_SDC1\", \"LGALS3_GPR35\", \"ITGB1_IGF2R\", \"CDH1_SLC1A5\", \"ITGB1_ITGA1\", \"HSPG2_ITGA2\", \"ITGB1_PTK2B\", \"ARF1_INSR\", \"CDH1_NCSTN\", \"GSTP1_CD44\", \"ANXA1_MET\", \"ANXA1_F2R\", \"PTPRC_CXCR4\", \"ITGB1_SDC1\", \"TNC_ITGAX\", \"LAMB1_ITGA6\", \"DSG2_FZD5\", \"ITGB1_CD46\", \"APOE_SDC4\", \"CDH1_ITGB7\", \"ITGB1_CD47\", \"CALR_NCSTN\", \"CALR_LGR4\", \"LAMB1_ITGA1\", \"CEACAM1_PTPN6\", \"APP_F2R\", \"HSPG2_LRP1\", \"ICAM1_IL2RG\", \"CD99_EPHA2\", \"COL1A1_SDC1\", \"HLA-DRA_CD4\", \"LIPH_LRP5\", \"TNC_ITGAV\", \"HSP90B1_LRP1\", \"NECTIN2_TNFRSF12A\", \"CALR_LRP5\", \"DSC2_FZD5\", \"ITGB2_ICAM1\", \"ITGB1_NCSTN\", \"TNFSF13_TNFRSF1A\", \"COL4A1_ITGA1\", \"PTPRF_RACK1\", \"CXCL3_ACKR3\", \"LGALS3_FCGR2A\", \"CLSTN1_CD47\", \"PECAM1_ITGAV\", \"RPS19_CD4\", \"PTPRF_MET\", \"EFNB2_SDC1\", \"ICAM1_CSF2RB\", \"A2M_LRP1\", \"APOE_LRP1\", \"FN1_RPSA\", \"ITGB1_SLC1A5\", \"CALM1_VIPR1\", \"PTPRF_INSR\", \"COL1A1_ITGAV\", \"HSPG2_KDR\", \"CDH1_KDR\", \"BMP2_ENG\", \"VEGFA_PTK2B\", \"MMP9_CD44\", \"ITGB1_ITGA8\", \"CXCL9_CXCR4\", \"COL1A1_ITGA2\", \"CDH1_EGFR\", \"GUCA2A_GUCY2C\", \"APOE_LDLR\", \"PIK3CB_FCGR3A\", \"VWF_ITGB5\", \"CCL5_CDH1\", \"CXCL9_BDKRB2\", \"ARF1_CD44\", \"DSC2_DLG1\", \"LAMC3_ITGAV\", \"TNFSF10_PIK3CB\", \"ITGB1_ITGA2\", \"APOE_SDC3\", \"ARF1_CD4\", \"CXCL9_LPAR2\", \"LRPAP1_SORT1\", \"TGFB1_ACVRL1\", \"TNFSF13_TNFRSF14\", \"SAA1_F2RL1\", \"NID1_NOTCH2\", \"CALR_IL7R\", \"ANXA1_C3AR1\", \"HSP90B1_TNFRSF1B\", \"LGALS3_ITGA2\", \"LAMB1_ITGA3\", \"BMP2_BMPR2\", \"COL1A1_ITGA1\", \"ANXA1_BDKRB2\", \"PTPRF_ERBB2\", \"APP_EPHA2\", \"NID1_NOTCH3\", \"HLA-DMA_CD4\", \"CALM1_RPSA\", \"LRPAP1_LDLR\", \"APP_TNFRSF21\", \"LAMC3_ITGB4\", \"DSG2_EGFR\", \"HSP90B1_EGFR\", \"APP_F2RL1\", \"GSTP1_LRP5\", \"COL1A1_ITGA3\", \"DSG2_CD44\", \"DSG2_INSR\", \"LGALS3_PTPRK\", \"CD99_INSR\", \"EFNB2_INSR\", \"CDH5_TGFBR2\", \"SERPINE1_PLAUR\", \"DSG2_PDGFRA\", \"APP_BDKRB2\", \"ITGA4_CXCR4\", \"PTPRF_PTPRA\", \"GRN_EGFR\", \"LAMB1_ITGB4\", \"F11R_TGFBR1\", \"PTPRC_CD2\", \"ARF1_LRP5\", \"EFNB2_FZD5\", \"CALR_EGFR\", \"APP_ACKR3\", \"HBEGF_CD44\", \"GSTP1_IL7R\", \"SERPING1_LRP1\", \"ITGB1_CSF2RB\", \"CCL5_SDC1\", \"LAMB1_SDC1\", \"TGFB1_ITGAV\", \"CLSTN1_M6PR\", \"AGT_F2R\", \"APOE_LRP5\", \"LRPAP1_LRP1\", \"ITGB2_ITGAX\", \"CEACAM1_EGFR\", \"CXCL10_CXCR4\", \"HLA-F_CD8A\", \"SAA1_F2R\", \"APP_TGFBR2\", \"ITGB1_DAB2\", \"ANXA1_F2RL1\", \"ICAM1_IL2RA\", \"PSEN1_NCSTN\", \"ARF1_PLD2\", \"LAMC3_ITGA3\", \"TGFB1_VDR\", \"ITGB1_ITGAX\", \"CXCL9_C3AR1\", \"COPA_NOTCH1\", \"ADM_PTGER4\", \"PLXNB2_PTPRK\", \"COL18A1_ITGA5\", \"JAG1_CD46\", \"PCDH1_DERL1\", \"PTPRC_MET\", \"APOE_SORL1\", \"SERPINA1_LRP1\", \"AGRN_LRP1\", \"CDH1_ERBB2\", \"WNT5A_SCARB2\", \"ADAM15_ITGA5\", \"HMGB2_ITPR3\", \"SEMA4D_PLXNB2\", \"NRG1_LSR\", \"MDK_SDC3\", \"CCL5_SDC4\", \"APP_CD36\", \"ITGB1_ITGA4\", \"PECAM1_ACKR3\", \"ANXA1_FPR3\", \"EFNB1_FZD5\", \"EFNB1_ERBB2\", \"VEGFA_PDGFRA\", \"MDK_PTPRB\", \"TGFB1_ENG\", \"COPA_SORT1\", \"TIMP1_LRP1\", \"PSAP_ERBB2\", \"CDH1_PKD1\", \"DSG2_SEC63\", \"NID1_ITGAV\", \"NENF_SEC63\", \"COL18A1_FLT1\", \"EFNB1_INSR\", \"PECAM1_SDC4\", \"CALM1_TNFRSF1B\", \"APP_NCSTN\", \"CALR_FAS\", \"PLAU_IGF2R\", \"DSG2_CXCR4\", \"CCL5_CXCR4\", \"SAA1_PTAFR\", \"NAMPT_ANXA6\", \"PIK3CB_ITGB4\", \"ITGB1_DAG1\", \"DSG2_DLG1\", \"LTB_TNFRSF1A\", \"CXCL10_BDKRB2\", \"SERPINA1_SDC2\", \"ADAM17_TNFRSF1A\", \"ARF1_MYLK\", \"ITGB2_ITGAL\", \"COL18A1_ITGB5\", \"A2M_TNFRSF14\", \"SAA1_C3AR1\", \"TGFB1_ITGB1\", \"HBEGF_ERBB3\", \"APP_HRH1\", \"DSC2_SEC63\", \"APOE_SDC2\", \"PIK3CB_FCGR2A\", \"ITGB1_CD36\", \"ITGB1_JAM3\", \"COL18A1_ITGA3\", \"GRN_TNFRSF1B\", \"LGALS3_TGFBR2\", \"APP_GPC1\", \"LAMC3_CD44\", \"SAA1_SELENOS\", \"ITGB1_PDGFRB\", \"FN1_CD44\", \"ITGB2_EGFR\", \"LRPAP1_SORL1\", \"APP_LRP1\", \"PECAM1_SDC1\", \"GMFB_ITPR3\", \"CXCL16_C3AR1\", \"LAMB1_ITGAV\", \"PIK3CB_PDGFRA\", \"TGFB1_F11R\", \"GSTP1_MYLK\", \"ITGA4_RPSA\", \"PDGFA_PDGFRA\", \"COL18A1_ITGAV\", \"CXCL16_LPAR2\", \"ANXA1_EGFR\", \"APP_C5AR1\", \"LAMB1_PTPRF\", \"SECTM1_CD7\", \"PSEN1_DAG1\", \"COPA_EGFR\", \"ITGB2_JAM3\", \"GAS6_AXL\", \"LAMB1_ITGA2\", \"MANF_SEC63\", \"LAMB2_RPSA\", \"COPA_SPHK1\", \"SERPINE2_LRP1\", \"CALR_MYLK\", \"VEGFB_ITGB1\", \"NAMPT_CUL5\", \"PSEN1_NOTCH1\", \"CXCL3_BDKRB2\", \"CCL5_BDKRB2\", \"COPA_NCSTN\", \"ITGA4_CD44\", \"TGFB1_ITGB5\", \"HMGB1_TLR2\", \"CD99_FZD5\", \"CXCL16_ACKR3\", \"LAMB2_ITGA6\", \"HMGB2_CD44\", \"WNT5A_TFRC\", \"GRN_CFTR\", \"LAMB1_SDC2\", \"HMGB2_DSG2\", \"AREG_ERBB3\", \"TGFB1_TGFBR2\", \"ANXA1_PTPRF\", \"CCL28_C3AR1\", \"TGFB1_ITGB6\", \"HSP90B1_ERBB2\", \"ANXA1_CD4\", \"GSTP1_FAS\", \"ADAM17_ITGA5\", \"CALM1_EGFR\", \"AGT_F2RL1\", \"PTPRC_IFNAR1\", \"VEGFA_NRP1\", \"CXCL10_C3AR1\", \"ADM_RAMP3\", \"PLAT_LRP1\", \"CXCL16_CXCR4\", \"NAMPT_IGF1R\", \"ARF1_FAS\", \"CXCL14_CXCR4\", \"PIK3CB_ERBB3\", \"F11R_JAM3\", \"GPNMB_EGFR\", \"CDH5_ACVRL1\", \"ANXA1_FAS\", \"CD320_TGFBR2\", \"DSG2_DAB2\", \"CALM1_MYLK\", \"CDH1_ITGAE\", \"CXCL16_BDKRB2\", \"HSPG2_DAG1\", \"VEGFA_AXL\", \"ICAM2_CD44\", \"CXCL3_C3AR1\", \"PIK3CB_TGFBR2\", \"WNT5A_LDLR\", \"ANXA1_CXCR4\", \"PSEN1_TGFBR1\", \"PTPRC_INSR\", \"VWF_ITGAV\", \"VEGFB_FAT1\", \"VEGFA_EPHB2\", \"EFNA1_TGFBR1\", \"PVR_CDH1\", \"AIMP1_RACK1\", \"COL1A1_DDR1\", \"PTPRC_ERBB2\", \"CXCL12_S1PR1\", \"CALM2_MYLK\", \"COPA_PDGFRB\", \"PSEN1_NOTCH2\", \"APP_C3AR1\", \"COL18A1_KDR\", \"APP_CXCR4\", \"HMGB1_TLR4\", \"CDH1_PTPRM\", \"DSC2_RYK\", \"COPA_CD8A\", \"FBN1_CLSTN1\", \"ADM_CALCRL\", \"AGT_ATP6AP2\", \"PTPRF_EGFR\", \"CSF1_CSF1R\", \"VEGFA_PIK3CB\", \"SAA1_BDKRB2\", \"JAG1_LRP1\", \"CCL5_C3AR1\", \"PIK3CB_IL2RG\", \"CDH1_CFTR\", \"PIK3CB_AXL\", \"APP_EDNRB\", \"ADM_VIPR1\", \"CCL28_C5AR1\", \"HDGF_FAS\", \"AREG_EGFR\", \"NAMPT_INSR\", \"VEGFA_PTPRB\", \"ITGB2_ICAM2\", \"LAMB1_FAS\", \"CXCL9_ACKR3\", \"YARS_RPSA\", \"CLSTN1_PRNP\", \"CXCL16_C5AR1\", \"TNFSF10_TNFRSF10B\", \"ADAM17_TNFRSF1B\", \"EFNA2_TGFBR1\", \"APP_LPAR2\", \"EFNB2_EPHB2\", \"FN1_EGFR\", \"PECAM1_CXCR4\", \"PTPRF_TGFBR2\", \"ADM_GIPR\", \"PLAU_LRP1\", \"EFNB1_SDC2\", \"TNFSF13_SDC2\", \"PDGFA_PDGFRB\", \"TGFB1_SDC2\", \"ITGA4_TFRC\", \"SAA1_ACKR3\", \"EFNA1_EPHB2\", \"NRG1_ERBB3\", \"CALM3_MYLK\", \"ITGB1_ITGA9\", \"ANXA1_C5AR1\", \"THBS1_LRP1\", \"SAA1_CXCR4\", \"OCLN_TGFBR2\", \"AGT_ACKR3\", \"HMGB1_AGTRAP\", \"BMP2_NEO1\", \"APP_IGF1R\", \"PTPRC_EGFR\", \"CDH5_P2RX4\", \"CCL28_CXCR4\", \"ITGB1_IGF1R\", \"F11R_PTPRB\", \"SERPINE1_LRP1\", \"F11R_TGFBR2\", \"APP_SORL1\", \"ITGAL_F11R\", \"AREG_ERBB2\", \"LAMB2_ITGB4\"]\n",
    "j_pairs = lr_cc7[\"enriched_LRs\"].pair;"
   ]
  },
  {
   "cell_type": "code",
   "execution_count": 21,
   "metadata": {},
   "outputs": [],
   "source": [
    "not_in_j = setdiff(r_pairs, j_pairs)\n",
    "in_both = intersect(r_pairs, j_pairs)\n",
    "not_in_j_reversed = map(x -> string(split(x, \"_\")[2], \"_\", split(x, \"_\")[1]), not_in_j);"
   ]
  },
  {
   "cell_type": "code",
   "execution_count": 22,
   "metadata": {},
   "outputs": [
    {
     "data": {
      "text/plain": [
       "43-element Vector{String}:\n",
       " \"COL4A1_ITGB1\"\n",
       " \"LGALS3_ITGB1\"\n",
       " \"HSP90B1_ITGB1\"\n",
       " \"ADAM9_CDH1\"\n",
       " \"HLA-DRA_PTPRC\"\n",
       " \"AREG_ICAM1\"\n",
       " \"HSPG2_ITGB1\"\n",
       " \"ADAM9_ITGB1\"\n",
       " \"PSEN1_CDH1\"\n",
       " \"RTN4_CD99\"\n",
       " ⋮\n",
       " \"NPNT_ITGB1\"\n",
       " \"ANXA1_ITGA4\"\n",
       " \"ADAM17_ITGB1\"\n",
       " \"FBN1_ITGB1\"\n",
       " \"LAMB2_ITGB1\"\n",
       " \"ICAM3_ITGB2\"\n",
       " \"PTPRC_ITGAL\"\n",
       " \"EFNB1_CD99\"\n",
       " \"THBS1_ITGB1\""
      ]
     },
     "metadata": {},
     "output_type": "display_data"
    }
   ],
   "source": [
    "j_unique = setdiff(setdiff(j_pairs, r_pairs), duplicates.pair)"
   ]
  },
  {
   "cell_type": "code",
   "execution_count": 26,
   "metadata": {},
   "outputs": [
    {
     "data": {
      "text/plain": [
       "540-element BitVector:\n",
       " 0\n",
       " 0\n",
       " 0\n",
       " 0\n",
       " 0\n",
       " 0\n",
       " 0\n",
       " 0\n",
       " 0\n",
       " 0\n",
       " ⋮\n",
       " 0\n",
       " 0\n",
       " 0\n",
       " 0\n",
       " 0\n",
       " 0\n",
       " 0\n",
       " 0\n",
       " 0"
      ]
     },
     "metadata": {},
     "output_type": "display_data"
    }
   ],
   "source": [
    "in.(df_7.pair, Ref(j_unique))"
   ]
  },
  {
   "cell_type": "code",
   "execution_count": 29,
   "metadata": {},
   "outputs": [
    {
     "data": {
      "text/html": [
       "<div><div style = \"float: left;\"><span>43×6 DataFrame</span></div><div style = \"float: right;\"><span style = \"font-style: italic;\">18 rows omitted</span></div><div style = \"clear: both;\"></div></div><div class = \"data-frame\" style = \"overflow-x: scroll;\"><table class = \"data-frame\" style = \"margin-bottom: 6px;\"><thead><tr class = \"header\"><th class = \"rowNumber\" style = \"font-weight: bold; text-align: right;\">Row</th><th style = \"text-align: left;\">from</th><th style = \"text-align: left;\">to</th><th style = \"text-align: left;\">correlation</th><th style = \"text-align: left;\">ligand_FC</th><th style = \"text-align: left;\">Receptor_FC</th><th style = \"text-align: left;\">pair</th></tr><tr class = \"subheader headerLastRow\"><th class = \"rowNumber\" style = \"font-weight: bold; text-align: right;\"></th><th title = \"String\" style = \"text-align: left;\">String</th><th title = \"String\" style = \"text-align: left;\">String</th><th title = \"Float64\" style = \"text-align: left;\">Float64</th><th title = \"Float64\" style = \"text-align: left;\">Float64</th><th title = \"Float64\" style = \"text-align: left;\">Float64</th><th title = \"String\" style = \"text-align: left;\">String</th></tr></thead><tbody><tr><td class = \"rowNumber\" style = \"font-weight: bold; text-align: right;\">1</td><td style = \"text-align: left;\">COL4A1</td><td style = \"text-align: left;\">ITGB1</td><td style = \"text-align: right;\">0.681179</td><td style = \"text-align: right;\">2.4032</td><td style = \"text-align: right;\">1.1237</td><td style = \"text-align: left;\">COL4A1_ITGB1</td></tr><tr><td class = \"rowNumber\" style = \"font-weight: bold; text-align: right;\">2</td><td style = \"text-align: left;\">LGALS3</td><td style = \"text-align: left;\">ITGB1</td><td style = \"text-align: right;\">0.677309</td><td style = \"text-align: right;\">0.7695</td><td style = \"text-align: right;\">1.1237</td><td style = \"text-align: left;\">LGALS3_ITGB1</td></tr><tr><td class = \"rowNumber\" style = \"font-weight: bold; text-align: right;\">3</td><td style = \"text-align: left;\">HSP90B1</td><td style = \"text-align: left;\">ITGB1</td><td style = \"text-align: right;\">0.64627</td><td style = \"text-align: right;\">0.9562</td><td style = \"text-align: right;\">1.1237</td><td style = \"text-align: left;\">HSP90B1_ITGB1</td></tr><tr><td class = \"rowNumber\" style = \"font-weight: bold; text-align: right;\">4</td><td style = \"text-align: left;\">ADAM9</td><td style = \"text-align: left;\">CDH1</td><td style = \"text-align: right;\">0.63985</td><td style = \"text-align: right;\">0.9508</td><td style = \"text-align: right;\">0.8122</td><td style = \"text-align: left;\">ADAM9_CDH1</td></tr><tr><td class = \"rowNumber\" style = \"font-weight: bold; text-align: right;\">5</td><td style = \"text-align: left;\">HLA-DRA</td><td style = \"text-align: left;\">PTPRC</td><td style = \"text-align: right;\">0.634468</td><td style = \"text-align: right;\">1.2791</td><td style = \"text-align: right;\">1.6397</td><td style = \"text-align: left;\">HLA-DRA_PTPRC</td></tr><tr><td class = \"rowNumber\" style = \"font-weight: bold; text-align: right;\">6</td><td style = \"text-align: left;\">AREG</td><td style = \"text-align: left;\">ICAM1</td><td style = \"text-align: right;\">0.624456</td><td style = \"text-align: right;\">1.4834</td><td style = \"text-align: right;\">1.9715</td><td style = \"text-align: left;\">AREG_ICAM1</td></tr><tr><td class = \"rowNumber\" style = \"font-weight: bold; text-align: right;\">7</td><td style = \"text-align: left;\">HSPG2</td><td style = \"text-align: left;\">ITGB1</td><td style = \"text-align: right;\">0.62099</td><td style = \"text-align: right;\">1.3576</td><td style = \"text-align: right;\">1.1237</td><td style = \"text-align: left;\">HSPG2_ITGB1</td></tr><tr><td class = \"rowNumber\" style = \"font-weight: bold; text-align: right;\">8</td><td style = \"text-align: left;\">ADAM9</td><td style = \"text-align: left;\">ITGB1</td><td style = \"text-align: right;\">0.60568</td><td style = \"text-align: right;\">0.9508</td><td style = \"text-align: right;\">1.1237</td><td style = \"text-align: left;\">ADAM9_ITGB1</td></tr><tr><td class = \"rowNumber\" style = \"font-weight: bold; text-align: right;\">9</td><td style = \"text-align: left;\">PSEN1</td><td style = \"text-align: left;\">CDH1</td><td style = \"text-align: right;\">0.573752</td><td style = \"text-align: right;\">0.7368</td><td style = \"text-align: right;\">0.8122</td><td style = \"text-align: left;\">PSEN1_CDH1</td></tr><tr><td class = \"rowNumber\" style = \"font-weight: bold; text-align: right;\">10</td><td style = \"text-align: left;\">RTN4</td><td style = \"text-align: left;\">CD99</td><td style = \"text-align: right;\">0.56588</td><td style = \"text-align: right;\">0.8991</td><td style = \"text-align: right;\">0.9915</td><td style = \"text-align: left;\">RTN4_CD99</td></tr><tr><td class = \"rowNumber\" style = \"font-weight: bold; text-align: right;\">11</td><td style = \"text-align: left;\">LAMB1</td><td style = \"text-align: left;\">ITGB1</td><td style = \"text-align: right;\">0.539863</td><td style = \"text-align: right;\">1.1535</td><td style = \"text-align: right;\">1.1237</td><td style = \"text-align: left;\">LAMB1_ITGB1</td></tr><tr><td class = \"rowNumber\" style = \"font-weight: bold; text-align: right;\">12</td><td style = \"text-align: left;\">PSEN1</td><td style = \"text-align: left;\">ITGB1</td><td style = \"text-align: right;\">0.519305</td><td style = \"text-align: right;\">0.7368</td><td style = \"text-align: right;\">1.1237</td><td style = \"text-align: left;\">PSEN1_ITGB1</td></tr><tr><td class = \"rowNumber\" style = \"font-weight: bold; text-align: right;\">13</td><td style = \"text-align: left;\">LAMC2</td><td style = \"text-align: left;\">ITGB1</td><td style = \"text-align: right;\">0.50947</td><td style = \"text-align: right;\">1.1017</td><td style = \"text-align: right;\">1.1237</td><td style = \"text-align: left;\">LAMC2_ITGB1</td></tr><tr><td style = \"text-align: right;\">&vellip;</td><td style = \"text-align: right;\">&vellip;</td><td style = \"text-align: right;\">&vellip;</td><td style = \"text-align: right;\">&vellip;</td><td style = \"text-align: right;\">&vellip;</td><td style = \"text-align: right;\">&vellip;</td><td style = \"text-align: right;\">&vellip;</td></tr><tr><td class = \"rowNumber\" style = \"font-weight: bold; text-align: right;\">32</td><td style = \"text-align: left;\">AGRN</td><td style = \"text-align: left;\">ITGB1</td><td style = \"text-align: right;\">0.352483</td><td style = \"text-align: right;\">0.7952</td><td style = \"text-align: right;\">1.1237</td><td style = \"text-align: left;\">AGRN_ITGB1</td></tr><tr><td class = \"rowNumber\" style = \"font-weight: bold; text-align: right;\">33</td><td style = \"text-align: left;\">MMP9</td><td style = \"text-align: left;\">CDH1</td><td style = \"text-align: right;\">0.349233</td><td style = \"text-align: right;\">2.1697</td><td style = \"text-align: right;\">0.8122</td><td style = \"text-align: left;\">MMP9_CDH1</td></tr><tr><td class = \"rowNumber\" style = \"font-weight: bold; text-align: right;\">34</td><td style = \"text-align: left;\">SEMA7A</td><td style = \"text-align: left;\">ITGB1</td><td style = \"text-align: right;\">0.340886</td><td style = \"text-align: right;\">1.5367</td><td style = \"text-align: right;\">1.1237</td><td style = \"text-align: left;\">SEMA7A_ITGB1</td></tr><tr><td class = \"rowNumber\" style = \"font-weight: bold; text-align: right;\">35</td><td style = \"text-align: left;\">NPNT</td><td style = \"text-align: left;\">ITGB1</td><td style = \"text-align: right;\">0.321677</td><td style = \"text-align: right;\">0.7647</td><td style = \"text-align: right;\">1.1237</td><td style = \"text-align: left;\">NPNT_ITGB1</td></tr><tr><td class = \"rowNumber\" style = \"font-weight: bold; text-align: right;\">36</td><td style = \"text-align: left;\">ANXA1</td><td style = \"text-align: left;\">ITGA4</td><td style = \"text-align: right;\">0.309602</td><td style = \"text-align: right;\">1.3294</td><td style = \"text-align: right;\">1.6808</td><td style = \"text-align: left;\">ANXA1_ITGA4</td></tr><tr><td class = \"rowNumber\" style = \"font-weight: bold; text-align: right;\">37</td><td style = \"text-align: left;\">ADAM17</td><td style = \"text-align: left;\">ITGB1</td><td style = \"text-align: right;\">0.308816</td><td style = \"text-align: right;\">1.0064</td><td style = \"text-align: right;\">1.1237</td><td style = \"text-align: left;\">ADAM17_ITGB1</td></tr><tr><td class = \"rowNumber\" style = \"font-weight: bold; text-align: right;\">38</td><td style = \"text-align: left;\">FBN1</td><td style = \"text-align: left;\">ITGB1</td><td style = \"text-align: right;\">0.308436</td><td style = \"text-align: right;\">2.0041</td><td style = \"text-align: right;\">1.1237</td><td style = \"text-align: left;\">FBN1_ITGB1</td></tr><tr><td class = \"rowNumber\" style = \"font-weight: bold; text-align: right;\">39</td><td style = \"text-align: left;\">LAMB2</td><td style = \"text-align: left;\">ITGB1</td><td style = \"text-align: right;\">0.296145</td><td style = \"text-align: right;\">1.6537</td><td style = \"text-align: right;\">1.1237</td><td style = \"text-align: left;\">LAMB2_ITGB1</td></tr><tr><td class = \"rowNumber\" style = \"font-weight: bold; text-align: right;\">40</td><td style = \"text-align: left;\">ICAM3</td><td style = \"text-align: left;\">ITGB2</td><td style = \"text-align: right;\">0.288333</td><td style = \"text-align: right;\">0.9176</td><td style = \"text-align: right;\">2.1694</td><td style = \"text-align: left;\">ICAM3_ITGB2</td></tr><tr><td class = \"rowNumber\" style = \"font-weight: bold; text-align: right;\">41</td><td style = \"text-align: left;\">PTPRC</td><td style = \"text-align: left;\">ITGAL</td><td style = \"text-align: right;\">0.28596</td><td style = \"text-align: right;\">1.6397</td><td style = \"text-align: right;\">1.2148</td><td style = \"text-align: left;\">PTPRC_ITGAL</td></tr><tr><td class = \"rowNumber\" style = \"font-weight: bold; text-align: right;\">42</td><td style = \"text-align: left;\">EFNB1</td><td style = \"text-align: left;\">CD99</td><td style = \"text-align: right;\">0.253079</td><td style = \"text-align: right;\">0.7063</td><td style = \"text-align: right;\">0.9915</td><td style = \"text-align: left;\">EFNB1_CD99</td></tr><tr><td class = \"rowNumber\" style = \"font-weight: bold; text-align: right;\">43</td><td style = \"text-align: left;\">THBS1</td><td style = \"text-align: left;\">ITGB1</td><td style = \"text-align: right;\">0.219055</td><td style = \"text-align: right;\">1.6376</td><td style = \"text-align: right;\">1.1237</td><td style = \"text-align: left;\">THBS1_ITGB1</td></tr></tbody></table></div>"
      ],
      "text/latex": [
       "\\begin{tabular}{r|cccccc}\n",
       "\t& from & to & correlation & ligand\\_FC & Receptor\\_FC & pair\\\\\n",
       "\t\\hline\n",
       "\t& String & String & Float64 & Float64 & Float64 & String\\\\\n",
       "\t\\hline\n",
       "\t1 & COL4A1 & ITGB1 & 0.681179 & 2.4032 & 1.1237 & COL4A1\\_ITGB1 \\\\\n",
       "\t2 & LGALS3 & ITGB1 & 0.677309 & 0.7695 & 1.1237 & LGALS3\\_ITGB1 \\\\\n",
       "\t3 & HSP90B1 & ITGB1 & 0.64627 & 0.9562 & 1.1237 & HSP90B1\\_ITGB1 \\\\\n",
       "\t4 & ADAM9 & CDH1 & 0.63985 & 0.9508 & 0.8122 & ADAM9\\_CDH1 \\\\\n",
       "\t5 & HLA-DRA & PTPRC & 0.634468 & 1.2791 & 1.6397 & HLA-DRA\\_PTPRC \\\\\n",
       "\t6 & AREG & ICAM1 & 0.624456 & 1.4834 & 1.9715 & AREG\\_ICAM1 \\\\\n",
       "\t7 & HSPG2 & ITGB1 & 0.62099 & 1.3576 & 1.1237 & HSPG2\\_ITGB1 \\\\\n",
       "\t8 & ADAM9 & ITGB1 & 0.60568 & 0.9508 & 1.1237 & ADAM9\\_ITGB1 \\\\\n",
       "\t9 & PSEN1 & CDH1 & 0.573752 & 0.7368 & 0.8122 & PSEN1\\_CDH1 \\\\\n",
       "\t10 & RTN4 & CD99 & 0.56588 & 0.8991 & 0.9915 & RTN4\\_CD99 \\\\\n",
       "\t11 & LAMB1 & ITGB1 & 0.539863 & 1.1535 & 1.1237 & LAMB1\\_ITGB1 \\\\\n",
       "\t12 & PSEN1 & ITGB1 & 0.519305 & 0.7368 & 1.1237 & PSEN1\\_ITGB1 \\\\\n",
       "\t13 & LAMC2 & ITGB1 & 0.50947 & 1.1017 & 1.1237 & LAMC2\\_ITGB1 \\\\\n",
       "\t14 & COL1A1 & ITGB1 & 0.506127 & 1.9866 & 1.1237 & COL1A1\\_ITGB1 \\\\\n",
       "\t15 & COL18A1 & ITGB1 & 0.488393 & 1.6691 & 1.1237 & COL18A1\\_ITGB1 \\\\\n",
       "\t16 & ADAM15 & ITGB1 & 0.48663 & 0.6197 & 1.1237 & ADAM15\\_ITGB1 \\\\\n",
       "\t17 & GSTP1 & ITGA4 & 0.47953 & 0.7098 & 1.6808 & GSTP1\\_ITGA4 \\\\\n",
       "\t18 & TNC & ITGB1 & 0.457699 & 2.8139 & 1.1237 & TNC\\_ITGB1 \\\\\n",
       "\t19 & EFNB2 & CD99 & 0.455969 & 0.6323 & 0.9915 & EFNB2\\_CD99 \\\\\n",
       "\t20 & ADAM15 & CDH1 & 0.443826 & 0.6197 & 0.8122 & ADAM15\\_CDH1 \\\\\n",
       "\t21 & CALR & CD40 & 0.43929 & 0.8723 & 2.0787 & CALR\\_CD40 \\\\\n",
       "\t22 & RPS19 & ITGA4 & 0.437627 & 0.8499 & 1.6808 & RPS19\\_ITGA4 \\\\\n",
       "\t23 & MMP9 & ITGB1 & 0.411987 & 2.1697 & 1.1237 & MMP9\\_ITGB1 \\\\\n",
       "\t24 & RPS19 & ICAM1 & 0.408517 & 0.8499 & 1.9715 & RPS19\\_ICAM1 \\\\\n",
       "\t$\\dots$ & $\\dots$ & $\\dots$ & $\\dots$ & $\\dots$ & $\\dots$ & $\\dots$ \\\\\n",
       "\\end{tabular}\n"
      ],
      "text/plain": [
       "\u001b[1m43×6 DataFrame\u001b[0m\n",
       "\u001b[1m Row \u001b[0m│\u001b[1m from    \u001b[0m\u001b[1m to     \u001b[0m\u001b[1m correlation \u001b[0m\u001b[1m ligand_FC \u001b[0m\u001b[1m Receptor_FC \u001b[0m\u001b[1m pair          \u001b[0m\n",
       "     │\u001b[90m String  \u001b[0m\u001b[90m String \u001b[0m\u001b[90m Float64     \u001b[0m\u001b[90m Float64   \u001b[0m\u001b[90m Float64     \u001b[0m\u001b[90m String        \u001b[0m\n",
       "─────┼─────────────────────────────────────────────────────────────────────\n",
       "   1 │ COL4A1   ITGB1      0.681179     2.4032       1.1237  COL4A1_ITGB1\n",
       "   2 │ LGALS3   ITGB1      0.677309     0.7695       1.1237  LGALS3_ITGB1\n",
       "   3 │ HSP90B1  ITGB1      0.64627      0.9562       1.1237  HSP90B1_ITGB1\n",
       "   4 │ ADAM9    CDH1       0.63985      0.9508       0.8122  ADAM9_CDH1\n",
       "   5 │ HLA-DRA  PTPRC      0.634468     1.2791       1.6397  HLA-DRA_PTPRC\n",
       "   6 │ AREG     ICAM1      0.624456     1.4834       1.9715  AREG_ICAM1\n",
       "   7 │ HSPG2    ITGB1      0.62099      1.3576       1.1237  HSPG2_ITGB1\n",
       "   8 │ ADAM9    ITGB1      0.60568      0.9508       1.1237  ADAM9_ITGB1\n",
       "  ⋮  │    ⋮       ⋮          ⋮           ⋮           ⋮             ⋮\n",
       "  37 │ ADAM17   ITGB1      0.308816     1.0064       1.1237  ADAM17_ITGB1\n",
       "  38 │ FBN1     ITGB1      0.308436     2.0041       1.1237  FBN1_ITGB1\n",
       "  39 │ LAMB2    ITGB1      0.296145     1.6537       1.1237  LAMB2_ITGB1\n",
       "  40 │ ICAM3    ITGB2      0.288333     0.9176       2.1694  ICAM3_ITGB2\n",
       "  41 │ PTPRC    ITGAL      0.28596      1.6397       1.2148  PTPRC_ITGAL\n",
       "  42 │ EFNB1    CD99       0.253079     0.7063       0.9915  EFNB1_CD99\n",
       "  43 │ THBS1    ITGB1      0.219055     1.6376       1.1237  THBS1_ITGB1\n",
       "\u001b[36m                                                            28 rows omitted\u001b[0m"
      ]
     },
     "metadata": {},
     "output_type": "display_data"
    }
   ],
   "source": [
    "df_7 = lr_cc7[\"enriched_LRs\"]\n",
    "df_7[in.(df_7.pair, Ref(j_unique)), :]"
   ]
  }
 ],
 "metadata": {
  "kernelspec": {
   "display_name": "Julia 1.9.3",
   "language": "julia",
   "name": "julia-1.9"
  },
  "language_info": {
   "file_extension": ".jl",
   "mimetype": "application/julia",
   "name": "julia",
   "version": "1.9.3"
  },
  "orig_nbformat": 4
 },
 "nbformat": 4,
 "nbformat_minor": 2
}
