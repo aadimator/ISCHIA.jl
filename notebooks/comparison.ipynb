{
 "cells": [
  {
   "cell_type": "code",
   "execution_count": 1,
   "metadata": {},
   "outputs": [
    {
     "name": "stderr",
     "output_type": "stream",
     "text": [
      "\u001b[32m\u001b[1mPrecompiling\u001b[22m\u001b[39m ISCHIA\n",
      "\u001b[32m  ✓ \u001b[39mISCHIA\n",
      "  1 dependency successfully precompiled in 7 seconds. 199 already precompiled.\n"
     ]
    }
   ],
   "source": [
    "using Muon\n",
    "using RData\n",
    "using Revise\n",
    "using ISCHIA\n",
    "using DataFrames\n",
    "using Combinatorics"
   ]
  },
  {
   "cell_type": "code",
   "execution_count": 2,
   "metadata": {},
   "outputs": [
    {
     "data": {
      "text/plain": [
       "MuData object 2185 ✕ 55545\n",
       "└ Predictions\n",
       "  AnnData object 2185 ✕ 34\n",
       "└ Spatial\n",
       "  AnnData object 2185 ✕ 36601\n",
       "└ SCT\n",
       "  AnnData object 2185 ✕ 18910"
      ]
     },
     "execution_count": 2,
     "metadata": {},
     "output_type": "execute_result"
    }
   ],
   "source": [
    "mdata = readh5mu(\"../data/mudata.h5mu\")\n",
    "lr_network = load(\"../data/lr_network.rds\")\n",
    "\n",
    "mdata"
   ]
  },
  {
   "cell_type": "code",
   "execution_count": 3,
   "metadata": {},
   "outputs": [
    {
     "data": {
      "text/plain": [
       "(7067, 3)"
      ]
     },
     "execution_count": 3,
     "metadata": {},
     "output_type": "execute_result"
    }
   ],
   "source": [
    "gene_names = mdata[\"SCT\"].var.name\n",
    "# mdata[\"Spatial\"].var_names = gene_names\n",
    "\n",
    "# Create LR_Pairs column\n",
    "lr_network[!, :LR_Pairs] = string.(lr_network.from, \"_\", lr_network.to);\n",
    "lr_network = lr_network[:, [:from, :to, :LR_Pairs]]\n",
    "\n",
    "# Filter lr_network based on conditions\n",
    "from_filter = in.(lr_network[:, :from], Ref(gene_names))\n",
    "to_filter = in.(lr_network[:, :to], Ref(gene_names))\n",
    "all_LR_network = lr_network[from_filter .& to_filter, :];\n",
    "size(all_LR_network)"
   ]
  },
  {
   "cell_type": "code",
   "execution_count": 4,
   "metadata": {},
   "outputs": [],
   "source": [
    "# Extract unique genes and common genes\n",
    "all_LR_genes = unique(vcat(all_LR_network[:, :from], all_LR_network[:, :to]))\n",
    "all_LR_genes_comm = intersect(all_LR_genes, collect(gene_names));\n",
    "\n",
    "# Create LR.pairs and LR.pairs.AllCombos\n",
    "LR_pairs = all_LR_network[:, :LR_Pairs]\n",
    "all_combos = [join(combo, \"_\") for combo in combinations(all_LR_genes_comm, 2)];"
   ]
  },
  {
   "cell_type": "code",
   "execution_count": 5,
   "metadata": {},
   "outputs": [
    {
     "data": {
      "text/plain": [
       "0.2"
      ]
     },
     "execution_count": 5,
     "metadata": {},
     "output_type": "execute_result"
    }
   ],
   "source": [
    "spatial_object = mdata[\"Spatial\"]\n",
    "spatial_object.var_names = spatial_object.var.name\n",
    "Condition = unique(spatial_object.obs[!, \"orig.ident\"])\n",
    "LR_list = all_LR_genes_comm\n",
    "LR_pairs = LR_pairs\n",
    "exp_th = 1\n",
    "corr_th = 0.2"
   ]
  },
  {
   "cell_type": "code",
   "execution_count": 6,
   "metadata": {},
   "outputs": [
    {
     "name": "stdout",
     "output_type": "stream",
     "text": [
      "Preparing L-R presence/absence matrix\n",
      "Calculating L-R pairs correlation\n",
      "Preparing for cooccurrence\n",
      "Cooccurrence calculation starts...\n"
     ]
    },
    {
     "name": "stderr",
     "output_type": "stream",
     "text": [
      "\u001b[32mCalculate Incidence 100%|████████████████████████████████| Time: 0:00:00\u001b[39m\n",
      "\u001b[32mCalculate Co-occurrences 100%|███████████████████████████| Time: 0:00:00\u001b[39m\n"
     ]
    },
    {
     "name": "stdout",
     "output_type": "stream",
     "text": [
      "Cooccurrence calculation ended\n",
      "\n",
      "Summary of cooccurrence results:\n",
      "Of 318801 species pair combinations, 307456 pairs (96.44%) were removed from the analysis because expected co-occurrence was < 1 and\n",
      "11345 pairs were analyzed\n",
      "\n",
      "Cooccurrence Summary:\n",
      "\n",
      "Species => 799\n",
      "Non-random (%) => 58.5\n",
      "Sites => 15\n",
      "Negative => 0\n",
      "Random => 3101\n",
      "Positive => 6638\n",
      "Unclassifiable => 1606\n"
     ]
    },
    {
     "name": "stderr",
     "output_type": "stream",
     "text": [
      "\u001b[32mCalculate Significantly occurring pairs 100%|████████████| Time: 0:00:01\u001b[39m\n"
     ]
    }
   ],
   "source": [
    "lr_cc1 = find_enriched_LR_pairs(spatial_object, [\"CC1\"], Condition, LR_list, LR_pairs, exp_th, corr_th);"
   ]
  },
  {
   "cell_type": "code",
   "execution_count": 7,
   "metadata": {},
   "outputs": [
    {
     "data": {
      "text/html": [
       "<div><div style = \"float: left;\"><span>87×6 DataFrame</span></div><div style = \"float: right;\"><span style = \"font-style: italic;\">62 rows omitted</span></div><div style = \"clear: both;\"></div></div><div class = \"data-frame\" style = \"overflow-x: scroll;\"><table class = \"data-frame\" style = \"margin-bottom: 6px;\"><thead><tr class = \"header\"><th class = \"rowNumber\" style = \"font-weight: bold; text-align: right;\">Row</th><th style = \"text-align: left;\">from</th><th style = \"text-align: left;\">to</th><th style = \"text-align: left;\">correlation</th><th style = \"text-align: left;\">ligand_FC</th><th style = \"text-align: left;\">Receptor_FC</th><th style = \"text-align: left;\">pair</th></tr><tr class = \"subheader headerLastRow\"><th class = \"rowNumber\" style = \"font-weight: bold; text-align: right;\"></th><th title = \"String\" style = \"text-align: left;\">String</th><th title = \"String\" style = \"text-align: left;\">String</th><th title = \"Float64\" style = \"text-align: left;\">Float64</th><th title = \"Float64\" style = \"text-align: left;\">Float64</th><th title = \"Float64\" style = \"text-align: left;\">Float64</th><th title = \"String\" style = \"text-align: left;\">String</th></tr></thead><tbody><tr><td class = \"rowNumber\" style = \"font-weight: bold; text-align: right;\">1</td><td style = \"text-align: left;\">HSPG2</td><td style = \"text-align: left;\">LRP1</td><td style = \"text-align: right;\">0.975095</td><td style = \"text-align: right;\">1.0143</td><td style = \"text-align: right;\">1.9499</td><td style = \"text-align: left;\">HSPG2_LRP1</td></tr><tr><td class = \"rowNumber\" style = \"font-weight: bold; text-align: right;\">2</td><td style = \"text-align: left;\">HLA-E</td><td style = \"text-align: left;\">ITGA6</td><td style = \"text-align: right;\">0.96395</td><td style = \"text-align: right;\">2.1369</td><td style = \"text-align: right;\">1.3656</td><td style = \"text-align: left;\">HLA-E_ITGA6</td></tr><tr><td class = \"rowNumber\" style = \"font-weight: bold; text-align: right;\">3</td><td style = \"text-align: left;\">DSG2</td><td style = \"text-align: left;\">ITPR3</td><td style = \"text-align: right;\">0.946125</td><td style = \"text-align: right;\">2.0972</td><td style = \"text-align: right;\">1.865</td><td style = \"text-align: left;\">DSG2_ITPR3</td></tr><tr><td class = \"rowNumber\" style = \"font-weight: bold; text-align: right;\">4</td><td style = \"text-align: left;\">HLA-E</td><td style = \"text-align: left;\">PLXNB2</td><td style = \"text-align: right;\">0.943552</td><td style = \"text-align: right;\">2.1369</td><td style = \"text-align: right;\">1.4508</td><td style = \"text-align: left;\">HLA-E_PLXNB2</td></tr><tr><td class = \"rowNumber\" style = \"font-weight: bold; text-align: right;\">5</td><td style = \"text-align: left;\">MDK</td><td style = \"text-align: left;\">LRP1</td><td style = \"text-align: right;\">0.943536</td><td style = \"text-align: right;\">4.9702</td><td style = \"text-align: right;\">1.9499</td><td style = \"text-align: left;\">MDK_LRP1</td></tr><tr><td class = \"rowNumber\" style = \"font-weight: bold; text-align: right;\">6</td><td style = \"text-align: left;\">CLSTN1</td><td style = \"text-align: left;\">LRP1</td><td style = \"text-align: right;\">0.941465</td><td style = \"text-align: right;\">2.4795</td><td style = \"text-align: right;\">1.9499</td><td style = \"text-align: left;\">CLSTN1_LRP1</td></tr><tr><td class = \"rowNumber\" style = \"font-weight: bold; text-align: right;\">7</td><td style = \"text-align: left;\">LGALS3</td><td style = \"text-align: left;\">ITGB4</td><td style = \"text-align: right;\">0.941205</td><td style = \"text-align: right;\">1.9098</td><td style = \"text-align: right;\">1.5953</td><td style = \"text-align: left;\">LGALS3_ITGB4</td></tr><tr><td class = \"rowNumber\" style = \"font-weight: bold; text-align: right;\">8</td><td style = \"text-align: left;\">GRN</td><td style = \"text-align: left;\">TNFRSF1A</td><td style = \"text-align: right;\">0.933015</td><td style = \"text-align: right;\">2.3129</td><td style = \"text-align: right;\">1.9262</td><td style = \"text-align: left;\">GRN_TNFRSF1A</td></tr><tr><td class = \"rowNumber\" style = \"font-weight: bold; text-align: right;\">9</td><td style = \"text-align: left;\">RTN4</td><td style = \"text-align: left;\">EPHA2</td><td style = \"text-align: right;\">0.93223</td><td style = \"text-align: right;\">1.3721</td><td style = \"text-align: right;\">1.664</td><td style = \"text-align: left;\">RTN4_EPHA2</td></tr><tr><td class = \"rowNumber\" style = \"font-weight: bold; text-align: right;\">10</td><td style = \"text-align: left;\">DSG2</td><td style = \"text-align: left;\">DSC2</td><td style = \"text-align: right;\">0.928973</td><td style = \"text-align: right;\">2.0972</td><td style = \"text-align: right;\">2.2044</td><td style = \"text-align: left;\">DSG2_DSC2</td></tr><tr><td class = \"rowNumber\" style = \"font-weight: bold; text-align: right;\">11</td><td style = \"text-align: left;\">CALR</td><td style = \"text-align: left;\">LRP1</td><td style = \"text-align: right;\">0.920494</td><td style = \"text-align: right;\">1.0094</td><td style = \"text-align: right;\">1.9499</td><td style = \"text-align: left;\">CALR_LRP1</td></tr><tr><td class = \"rowNumber\" style = \"font-weight: bold; text-align: right;\">12</td><td style = \"text-align: left;\">SERPINA1</td><td style = \"text-align: left;\">LRP1</td><td style = \"text-align: right;\">0.919937</td><td style = \"text-align: right;\">1.0917</td><td style = \"text-align: right;\">1.9499</td><td style = \"text-align: left;\">SERPINA1_LRP1</td></tr><tr><td class = \"rowNumber\" style = \"font-weight: bold; text-align: right;\">13</td><td style = \"text-align: left;\">LAMC2</td><td style = \"text-align: left;\">ITGA6</td><td style = \"text-align: right;\">0.906506</td><td style = \"text-align: right;\">2.1656</td><td style = \"text-align: right;\">1.3656</td><td style = \"text-align: left;\">LAMC2_ITGA6</td></tr><tr><td style = \"text-align: right;\">&vellip;</td><td style = \"text-align: right;\">&vellip;</td><td style = \"text-align: right;\">&vellip;</td><td style = \"text-align: right;\">&vellip;</td><td style = \"text-align: right;\">&vellip;</td><td style = \"text-align: right;\">&vellip;</td><td style = \"text-align: right;\">&vellip;</td></tr><tr><td class = \"rowNumber\" style = \"font-weight: bold; text-align: right;\">76</td><td style = \"text-align: left;\">ITGB1</td><td style = \"text-align: left;\">RACK1</td><td style = \"text-align: right;\">0.548637</td><td style = \"text-align: right;\">0.9085</td><td style = \"text-align: right;\">0.5055</td><td style = \"text-align: left;\">ITGB1_RACK1</td></tr><tr><td class = \"rowNumber\" style = \"font-weight: bold; text-align: right;\">77</td><td style = \"text-align: left;\">APP</td><td style = \"text-align: left;\">NCSTN</td><td style = \"text-align: right;\">0.545556</td><td style = \"text-align: right;\">0.5418</td><td style = \"text-align: right;\">2.863</td><td style = \"text-align: left;\">APP_NCSTN</td></tr><tr><td class = \"rowNumber\" style = \"font-weight: bold; text-align: right;\">78</td><td style = \"text-align: left;\">SAA1</td><td style = \"text-align: left;\">SELENOS</td><td style = \"text-align: right;\">0.528088</td><td style = \"text-align: right;\">4.881</td><td style = \"text-align: right;\">1.279</td><td style = \"text-align: left;\">SAA1_SELENOS</td></tr><tr><td class = \"rowNumber\" style = \"font-weight: bold; text-align: right;\">79</td><td style = \"text-align: left;\">APP</td><td style = \"text-align: left;\">BDKRB2</td><td style = \"text-align: right;\">0.525148</td><td style = \"text-align: right;\">0.5418</td><td style = \"text-align: right;\">3.194</td><td style = \"text-align: left;\">APP_BDKRB2</td></tr><tr><td class = \"rowNumber\" style = \"font-weight: bold; text-align: right;\">80</td><td style = \"text-align: left;\">CXCL16</td><td style = \"text-align: left;\">BDKRB2</td><td style = \"text-align: right;\">0.516915</td><td style = \"text-align: right;\">2.0516</td><td style = \"text-align: right;\">3.194</td><td style = \"text-align: left;\">CXCL16_BDKRB2</td></tr><tr><td class = \"rowNumber\" style = \"font-weight: bold; text-align: right;\">81</td><td style = \"text-align: left;\">EFNB2</td><td style = \"text-align: left;\">SDC1</td><td style = \"text-align: right;\">0.516088</td><td style = \"text-align: right;\">1.0666</td><td style = \"text-align: right;\">1.8677</td><td style = \"text-align: left;\">EFNB2_SDC1</td></tr><tr><td class = \"rowNumber\" style = \"font-weight: bold; text-align: right;\">82</td><td style = \"text-align: left;\">APP</td><td style = \"text-align: left;\">TNFRSF21</td><td style = \"text-align: right;\">0.509074</td><td style = \"text-align: right;\">0.5418</td><td style = \"text-align: right;\">2.4181</td><td style = \"text-align: left;\">APP_TNFRSF21</td></tr><tr><td class = \"rowNumber\" style = \"font-weight: bold; text-align: right;\">83</td><td style = \"text-align: left;\">APP</td><td style = \"text-align: left;\">EPHA2</td><td style = \"text-align: right;\">0.481914</td><td style = \"text-align: right;\">0.5418</td><td style = \"text-align: right;\">1.664</td><td style = \"text-align: left;\">APP_EPHA2</td></tr><tr><td class = \"rowNumber\" style = \"font-weight: bold; text-align: right;\">84</td><td style = \"text-align: left;\">ANXA1</td><td style = \"text-align: left;\">F2RL1</td><td style = \"text-align: right;\">0.459463</td><td style = \"text-align: right;\">1.6727</td><td style = \"text-align: right;\">2.0247</td><td style = \"text-align: left;\">ANXA1_F2RL1</td></tr><tr><td class = \"rowNumber\" style = \"font-weight: bold; text-align: right;\">85</td><td style = \"text-align: left;\">CALM1</td><td style = \"text-align: left;\">RPSA</td><td style = \"text-align: right;\">0.457159</td><td style = \"text-align: right;\">1.0742</td><td style = \"text-align: right;\">0.4808</td><td style = \"text-align: left;\">CALM1_RPSA</td></tr><tr><td class = \"rowNumber\" style = \"font-weight: bold; text-align: right;\">86</td><td style = \"text-align: left;\">ANXA1</td><td style = \"text-align: left;\">MET</td><td style = \"text-align: right;\">0.445949</td><td style = \"text-align: right;\">1.6727</td><td style = \"text-align: right;\">1.644</td><td style = \"text-align: left;\">ANXA1_MET</td></tr><tr><td class = \"rowNumber\" style = \"font-weight: bold; text-align: right;\">87</td><td style = \"text-align: left;\">MIF</td><td style = \"text-align: left;\">TNFRSF14</td><td style = \"text-align: right;\">0.435682</td><td style = \"text-align: right;\">0.9717</td><td style = \"text-align: right;\">0.6027</td><td style = \"text-align: left;\">MIF_TNFRSF14</td></tr></tbody></table></div>"
      ],
      "text/latex": [
       "\\begin{tabular}{r|cccccc}\n",
       "\t& from & to & correlation & ligand\\_FC & Receptor\\_FC & pair\\\\\n",
       "\t\\hline\n",
       "\t& String & String & Float64 & Float64 & Float64 & String\\\\\n",
       "\t\\hline\n",
       "\t1 & HSPG2 & LRP1 & 0.975095 & 1.0143 & 1.9499 & HSPG2\\_LRP1 \\\\\n",
       "\t2 & HLA-E & ITGA6 & 0.96395 & 2.1369 & 1.3656 & HLA-E\\_ITGA6 \\\\\n",
       "\t3 & DSG2 & ITPR3 & 0.946125 & 2.0972 & 1.865 & DSG2\\_ITPR3 \\\\\n",
       "\t4 & HLA-E & PLXNB2 & 0.943552 & 2.1369 & 1.4508 & HLA-E\\_PLXNB2 \\\\\n",
       "\t5 & MDK & LRP1 & 0.943536 & 4.9702 & 1.9499 & MDK\\_LRP1 \\\\\n",
       "\t6 & CLSTN1 & LRP1 & 0.941465 & 2.4795 & 1.9499 & CLSTN1\\_LRP1 \\\\\n",
       "\t7 & LGALS3 & ITGB4 & 0.941205 & 1.9098 & 1.5953 & LGALS3\\_ITGB4 \\\\\n",
       "\t8 & GRN & TNFRSF1A & 0.933015 & 2.3129 & 1.9262 & GRN\\_TNFRSF1A \\\\\n",
       "\t9 & RTN4 & EPHA2 & 0.93223 & 1.3721 & 1.664 & RTN4\\_EPHA2 \\\\\n",
       "\t10 & DSG2 & DSC2 & 0.928973 & 2.0972 & 2.2044 & DSG2\\_DSC2 \\\\\n",
       "\t11 & CALR & LRP1 & 0.920494 & 1.0094 & 1.9499 & CALR\\_LRP1 \\\\\n",
       "\t12 & SERPINA1 & LRP1 & 0.919937 & 1.0917 & 1.9499 & SERPINA1\\_LRP1 \\\\\n",
       "\t13 & LAMC2 & ITGA6 & 0.906506 & 2.1656 & 1.3656 & LAMC2\\_ITGA6 \\\\\n",
       "\t14 & ADAM9 & ITGA6 & 0.903629 & 2.3383 & 1.3656 & ADAM9\\_ITGA6 \\\\\n",
       "\t15 & HSP90B1 & LRP1 & 0.898886 & 0.9266 & 1.9499 & HSP90B1\\_LRP1 \\\\\n",
       "\t16 & DSG2 & LSR & 0.891726 & 2.0972 & 3.0439 & DSG2\\_LSR \\\\\n",
       "\t17 & CDH1 & NCSTN & 0.887236 & 1.6179 & 2.863 & CDH1\\_NCSTN \\\\\n",
       "\t18 & HSP90B1 & LDLR & 0.885817 & 0.9266 & 1.7651 & HSP90B1\\_LDLR \\\\\n",
       "\t19 & EFNB2 & EPHA2 & 0.873204 & 1.0666 & 1.664 & EFNB2\\_EPHA2 \\\\\n",
       "\t20 & COPA & SORT1 & 0.872103 & 1.0246 & 2.4832 & COPA\\_SORT1 \\\\\n",
       "\t21 & EFNA1 & EPHA2 & 0.86782 & 3.7845 & 1.664 & EFNA1\\_EPHA2 \\\\\n",
       "\t22 & CDHR5 & CDHR2 & 0.8676 & 2.9706 & 3.8259 & CDHR5\\_CDHR2 \\\\\n",
       "\t23 & CDH1 & PTPRF & 0.864581 & 1.6179 & 2.1564 & CDH1\\_PTPRF \\\\\n",
       "\t24 & DSG2 & EPHA2 & 0.862149 & 2.0972 & 1.664 & DSG2\\_EPHA2 \\\\\n",
       "\t25 & DSG2 & LRP10 & 0.857616 & 2.0972 & 2.4298 & DSG2\\_LRP10 \\\\\n",
       "\t26 & MDK & SDC4 & 0.848607 & 4.9702 & 1.9355 & MDK\\_SDC4 \\\\\n",
       "\t27 & LAMC2 & ITGB4 & 0.843904 & 2.1656 & 1.5953 & LAMC2\\_ITGB4 \\\\\n",
       "\t28 & ITGB1 & EPHA2 & 0.843227 & 0.9085 & 1.664 & ITGB1\\_EPHA2 \\\\\n",
       "\t29 & ITGB1 & ITGA6 & 0.842981 & 0.9085 & 1.3656 & ITGB1\\_ITGA6 \\\\\n",
       "\t30 & CDH1 & DDR1 & 0.842584 & 1.6179 & 2.0303 & CDH1\\_DDR1 \\\\\n",
       "\t$\\dots$ & $\\dots$ & $\\dots$ & $\\dots$ & $\\dots$ & $\\dots$ & $\\dots$ \\\\\n",
       "\\end{tabular}\n"
      ],
      "text/plain": [
       "\u001b[1m87×6 DataFrame\u001b[0m\n",
       "\u001b[1m Row \u001b[0m│\u001b[1m from     \u001b[0m\u001b[1m to       \u001b[0m\u001b[1m correlation \u001b[0m\u001b[1m ligand_FC \u001b[0m\u001b[1m Receptor_FC \u001b[0m\u001b[1m pair          \u001b[0m\n",
       "     │\u001b[90m String   \u001b[0m\u001b[90m String   \u001b[0m\u001b[90m Float64     \u001b[0m\u001b[90m Float64   \u001b[0m\u001b[90m Float64     \u001b[0m\u001b[90m String        \u001b[0m\n",
       "─────┼────────────────────────────────────────────────────────────────────────\n",
       "   1 │ HSPG2     LRP1         0.975095     1.0143       1.9499  HSPG2_LRP1\n",
       "   2 │ HLA-E     ITGA6        0.96395      2.1369       1.3656  HLA-E_ITGA6\n",
       "   3 │ DSG2      ITPR3        0.946125     2.0972       1.865   DSG2_ITPR3\n",
       "   4 │ HLA-E     PLXNB2       0.943552     2.1369       1.4508  HLA-E_PLXNB2\n",
       "   5 │ MDK       LRP1         0.943536     4.9702       1.9499  MDK_LRP1\n",
       "   6 │ CLSTN1    LRP1         0.941465     2.4795       1.9499  CLSTN1_LRP1\n",
       "   7 │ LGALS3    ITGB4        0.941205     1.9098       1.5953  LGALS3_ITGB4\n",
       "   8 │ GRN       TNFRSF1A     0.933015     2.3129       1.9262  GRN_TNFRSF1A\n",
       "   9 │ RTN4      EPHA2        0.93223      1.3721       1.664   RTN4_EPHA2\n",
       "  10 │ DSG2      DSC2         0.928973     2.0972       2.2044  DSG2_DSC2\n",
       "  11 │ CALR      LRP1         0.920494     1.0094       1.9499  CALR_LRP1\n",
       "  ⋮  │    ⋮         ⋮           ⋮           ⋮           ⋮             ⋮\n",
       "  78 │ SAA1      SELENOS      0.528088     4.881        1.279   SAA1_SELENOS\n",
       "  79 │ APP       BDKRB2       0.525148     0.5418       3.194   APP_BDKRB2\n",
       "  80 │ CXCL16    BDKRB2       0.516915     2.0516       3.194   CXCL16_BDKRB2\n",
       "  81 │ EFNB2     SDC1         0.516088     1.0666       1.8677  EFNB2_SDC1\n",
       "  82 │ APP       TNFRSF21     0.509074     0.5418       2.4181  APP_TNFRSF21\n",
       "  83 │ APP       EPHA2        0.481914     0.5418       1.664   APP_EPHA2\n",
       "  84 │ ANXA1     F2RL1        0.459463     1.6727       2.0247  ANXA1_F2RL1\n",
       "  85 │ CALM1     RPSA         0.457159     1.0742       0.4808  CALM1_RPSA\n",
       "  86 │ ANXA1     MET          0.445949     1.6727       1.644   ANXA1_MET\n",
       "  87 │ MIF       TNFRSF14     0.435682     0.9717       0.6027  MIF_TNFRSF14\n",
       "\u001b[36m                                                               66 rows omitted\u001b[0m"
      ]
     },
     "execution_count": 7,
     "metadata": {},
     "output_type": "execute_result"
    }
   ],
   "source": [
    "lr_cc1[\"enriched_LRs\"]"
   ]
  },
  {
   "cell_type": "code",
   "execution_count": 8,
   "metadata": {},
   "outputs": [
    {
     "name": "stdout",
     "output_type": "stream",
     "text": [
      "Preparing L-R presence/absence matrix\n",
      "Calculating L-R pairs correlation\n",
      "Preparing for cooccurrence\n",
      "Cooccurrence calculation starts...\n"
     ]
    },
    {
     "name": "stderr",
     "output_type": "stream",
     "text": [
      "\u001b[32mCalculate Incidence 100%|████████████████████████████████| Time: 0:00:00\u001b[39m\n",
      "\u001b[32mCalculate Co-occurrences 100%|███████████████████████████| Time: 0:00:00\u001b[39m\n"
     ]
    },
    {
     "name": "stdout",
     "output_type": "stream",
     "text": [
      "Cooccurrence calculation ended\n",
      "\n",
      "Summary of cooccurrence results:\n",
      "Of 318801 species pair combinations, 318269 pairs (99.83%) were removed from the analysis because expected co-occurrence was < 1 and\n",
      "532 pairs were analyzed\n",
      "\n",
      "Cooccurrence Summary:\n",
      "\n",
      "Species => 799\n",
      "Non-random (%) => 9.6\n",
      "Sites => 14\n",
      "Negative => 0\n",
      "Random => 422\n",
      "Positive => 51\n",
      "Unclassifiable => 59\n",
      "Preparing L-R presence/absence matrix\n",
      "Calculating L-R pairs correlation\n",
      "Preparing for cooccurrence\n",
      "Cooccurrence calculation starts...\n"
     ]
    },
    {
     "name": "stderr",
     "output_type": "stream",
     "text": [
      "\u001b[32mCalculate Incidence 100%|████████████████████████████████| Time: 0:00:02\u001b[39m\n",
      "\u001b[32mCalculate Co-occurrences 100%|███████████████████████████| Time: 0:00:03\u001b[39m\n",
      "\u001b[32mMain Comp 100%|██████████████████████████████████████████| Time: 0:00:01\u001b[39m\n"
     ]
    },
    {
     "name": "stdout",
     "output_type": "stream",
     "text": [
      "Cooccurrence calculation ended\n",
      "\n",
      "Summary of cooccurrence results:\n",
      "Of 318801 species pair combinations, 253008 pairs (79.36%) were removed from the analysis because expected co-occurrence was < 1 and\n",
      "65793 pairs were analyzed\n",
      "\n",
      "Cooccurrence Summary:\n",
      "\n",
      "Species => 799\n",
      "Non-random (%) => 68.4\n",
      "Sites => 305\n",
      "Negative => 439\n",
      "Random => 20788\n",
      "Positive => 44566\n",
      "Unclassifiable => 0\n"
     ]
    },
    {
     "name": "stderr",
     "output_type": "stream",
     "text": [
      "\u001b[32mCalculate Significantly occurring pairs 100%|████████████| Time: 0:00:02\u001b[39m\n"
     ]
    }
   ],
   "source": [
    "lr_cc4 = find_enriched_LR_pairs(spatial_object, [\"CC4\"], Condition, LR_list, LR_pairs, exp_th, corr_th);\n",
    "lr_cc7 = find_enriched_LR_pairs(spatial_object, [\"CC7\"], Condition, LR_list, LR_pairs, exp_th, corr_th);"
   ]
  },
  {
   "cell_type": "code",
   "execution_count": 9,
   "metadata": {},
   "outputs": [
    {
     "data": {
      "text/html": [
       "<div><div style = \"float: left;\"><span>3×6 DataFrame</span></div><div style = \"clear: both;\"></div></div><div class = \"data-frame\" style = \"overflow-x: scroll;\"><table class = \"data-frame\" style = \"margin-bottom: 6px;\"><thead><tr class = \"header\"><th class = \"rowNumber\" style = \"font-weight: bold; text-align: right;\">Row</th><th style = \"text-align: left;\">from</th><th style = \"text-align: left;\">to</th><th style = \"text-align: left;\">correlation</th><th style = \"text-align: left;\">ligand_FC</th><th style = \"text-align: left;\">Receptor_FC</th><th style = \"text-align: left;\">pair</th></tr><tr class = \"subheader headerLastRow\"><th class = \"rowNumber\" style = \"font-weight: bold; text-align: right;\"></th><th title = \"String\" style = \"text-align: left;\">String</th><th title = \"String\" style = \"text-align: left;\">String</th><th title = \"Float64\" style = \"text-align: left;\">Float64</th><th title = \"Float64\" style = \"text-align: left;\">Float64</th><th title = \"Float64\" style = \"text-align: left;\">Float64</th><th title = \"String\" style = \"text-align: left;\">String</th></tr></thead><tbody><tr><td class = \"rowNumber\" style = \"font-weight: bold; text-align: right;\">1</td><td style = \"text-align: left;\">C3</td><td style = \"text-align: left;\">CXCR4</td><td style = \"text-align: right;\">0.79157</td><td style = \"text-align: right;\">1.3346</td><td style = \"text-align: right;\">3.3869</td><td style = \"text-align: left;\">C3_CXCR4</td></tr><tr><td class = \"rowNumber\" style = \"font-weight: bold; text-align: right;\">2</td><td style = \"text-align: left;\">CCL19</td><td style = \"text-align: left;\">CXCR4</td><td style = \"text-align: right;\">0.757651</td><td style = \"text-align: right;\">4.2714</td><td style = \"text-align: right;\">3.3869</td><td style = \"text-align: left;\">CCL19_CXCR4</td></tr><tr><td class = \"rowNumber\" style = \"font-weight: bold; text-align: right;\">3</td><td style = \"text-align: left;\">RPS19</td><td style = \"text-align: left;\">RPSA</td><td style = \"text-align: right;\">0.647974</td><td style = \"text-align: right;\">0.5695</td><td style = \"text-align: right;\">0.4499</td><td style = \"text-align: left;\">RPS19_RPSA</td></tr></tbody></table></div>"
      ],
      "text/latex": [
       "\\begin{tabular}{r|cccccc}\n",
       "\t& from & to & correlation & ligand\\_FC & Receptor\\_FC & pair\\\\\n",
       "\t\\hline\n",
       "\t& String & String & Float64 & Float64 & Float64 & String\\\\\n",
       "\t\\hline\n",
       "\t1 & C3 & CXCR4 & 0.79157 & 1.3346 & 3.3869 & C3\\_CXCR4 \\\\\n",
       "\t2 & CCL19 & CXCR4 & 0.757651 & 4.2714 & 3.3869 & CCL19\\_CXCR4 \\\\\n",
       "\t3 & RPS19 & RPSA & 0.647974 & 0.5695 & 0.4499 & RPS19\\_RPSA \\\\\n",
       "\\end{tabular}\n"
      ],
      "text/plain": [
       "\u001b[1m3×6 DataFrame\u001b[0m\n",
       "\u001b[1m Row \u001b[0m│\u001b[1m from   \u001b[0m\u001b[1m to     \u001b[0m\u001b[1m correlation \u001b[0m\u001b[1m ligand_FC \u001b[0m\u001b[1m Receptor_FC \u001b[0m\u001b[1m pair        \u001b[0m\n",
       "     │\u001b[90m String \u001b[0m\u001b[90m String \u001b[0m\u001b[90m Float64     \u001b[0m\u001b[90m Float64   \u001b[0m\u001b[90m Float64     \u001b[0m\u001b[90m String      \u001b[0m\n",
       "─────┼──────────────────────────────────────────────────────────────────\n",
       "   1 │ C3      CXCR4      0.79157      1.3346       3.3869  C3_CXCR4\n",
       "   2 │ CCL19   CXCR4      0.757651     4.2714       3.3869  CCL19_CXCR4\n",
       "   3 │ RPS19   RPSA       0.647974     0.5695       0.4499  RPS19_RPSA"
      ]
     },
     "execution_count": 9,
     "metadata": {},
     "output_type": "execute_result"
    }
   ],
   "source": [
    "lr_cc4[\"enriched_LRs\"]"
   ]
  },
  {
   "cell_type": "code",
   "execution_count": 10,
   "metadata": {},
   "outputs": [
    {
     "data": {
      "text/html": [
       "<div><div style = \"float: left;\"><span>487×6 DataFrame</span></div><div style = \"float: right;\"><span style = \"font-style: italic;\">462 rows omitted</span></div><div style = \"clear: both;\"></div></div><div class = \"data-frame\" style = \"overflow-x: scroll;\"><table class = \"data-frame\" style = \"margin-bottom: 6px;\"><thead><tr class = \"header\"><th class = \"rowNumber\" style = \"font-weight: bold; text-align: right;\">Row</th><th style = \"text-align: left;\">from</th><th style = \"text-align: left;\">to</th><th style = \"text-align: left;\">correlation</th><th style = \"text-align: left;\">ligand_FC</th><th style = \"text-align: left;\">Receptor_FC</th><th style = \"text-align: left;\">pair</th></tr><tr class = \"subheader headerLastRow\"><th class = \"rowNumber\" style = \"font-weight: bold; text-align: right;\"></th><th title = \"String\" style = \"text-align: left;\">String</th><th title = \"String\" style = \"text-align: left;\">String</th><th title = \"Float64\" style = \"text-align: left;\">Float64</th><th title = \"Float64\" style = \"text-align: left;\">Float64</th><th title = \"Float64\" style = \"text-align: left;\">Float64</th><th title = \"String\" style = \"text-align: left;\">String</th></tr></thead><tbody><tr><td class = \"rowNumber\" style = \"font-weight: bold; text-align: right;\">1</td><td style = \"text-align: left;\">LGALS3</td><td style = \"text-align: left;\">ITGB4</td><td style = \"text-align: right;\">0.832963</td><td style = \"text-align: right;\">0.7695</td><td style = \"text-align: right;\">0.8609</td><td style = \"text-align: left;\">LGALS3_ITGB4</td></tr><tr><td class = \"rowNumber\" style = \"font-weight: bold; text-align: right;\">2</td><td style = \"text-align: left;\">CDHR5</td><td style = \"text-align: left;\">CDHR2</td><td style = \"text-align: right;\">0.830117</td><td style = \"text-align: right;\">0.7361</td><td style = \"text-align: right;\">0.9662</td><td style = \"text-align: left;\">CDHR5_CDHR2</td></tr><tr><td class = \"rowNumber\" style = \"font-weight: bold; text-align: right;\">3</td><td style = \"text-align: left;\">HLA-E</td><td style = \"text-align: left;\">ITGA6</td><td style = \"text-align: right;\">0.780889</td><td style = \"text-align: right;\">1.1673</td><td style = \"text-align: right;\">0.7086</td><td style = \"text-align: left;\">HLA-E_ITGA6</td></tr><tr><td class = \"rowNumber\" style = \"font-weight: bold; text-align: right;\">4</td><td style = \"text-align: left;\">HLA-E</td><td style = \"text-align: left;\">PLXNB2</td><td style = \"text-align: right;\">0.779063</td><td style = \"text-align: right;\">1.1673</td><td style = \"text-align: right;\">0.7971</td><td style = \"text-align: left;\">HLA-E_PLXNB2</td></tr><tr><td class = \"rowNumber\" style = \"font-weight: bold; text-align: right;\">5</td><td style = \"text-align: left;\">COL1A1</td><td style = \"text-align: left;\">ITGA5</td><td style = \"text-align: right;\">0.764293</td><td style = \"text-align: right;\">1.9866</td><td style = \"text-align: right;\">1.872</td><td style = \"text-align: left;\">COL1A1_ITGA5</td></tr><tr><td class = \"rowNumber\" style = \"font-weight: bold; text-align: right;\">6</td><td style = \"text-align: left;\">DSC2</td><td style = \"text-align: left;\">LSR</td><td style = \"text-align: right;\">0.7638</td><td style = \"text-align: right;\">0.8149</td><td style = \"text-align: right;\">0.7539</td><td style = \"text-align: left;\">DSC2_LSR</td></tr><tr><td class = \"rowNumber\" style = \"font-weight: bold; text-align: right;\">7</td><td style = \"text-align: left;\">DSC2</td><td style = \"text-align: left;\">EPHA2</td><td style = \"text-align: right;\">0.759718</td><td style = \"text-align: right;\">0.8149</td><td style = \"text-align: right;\">0.8393</td><td style = \"text-align: left;\">DSC2_EPHA2</td></tr><tr><td class = \"rowNumber\" style = \"font-weight: bold; text-align: right;\">8</td><td style = \"text-align: left;\">GRN</td><td style = \"text-align: left;\">TNFRSF1A</td><td style = \"text-align: right;\">0.748926</td><td style = \"text-align: right;\">1.1756</td><td style = \"text-align: right;\">1.0184</td><td style = \"text-align: left;\">GRN_TNFRSF1A</td></tr><tr><td class = \"rowNumber\" style = \"font-weight: bold; text-align: right;\">9</td><td style = \"text-align: left;\">DSG2</td><td style = \"text-align: left;\">EPHA2</td><td style = \"text-align: right;\">0.737155</td><td style = \"text-align: right;\">0.7307</td><td style = \"text-align: right;\">0.8393</td><td style = \"text-align: left;\">DSG2_EPHA2</td></tr><tr><td class = \"rowNumber\" style = \"font-weight: bold; text-align: right;\">10</td><td style = \"text-align: left;\">DSG2</td><td style = \"text-align: left;\">LRP10</td><td style = \"text-align: right;\">0.735606</td><td style = \"text-align: right;\">0.7307</td><td style = \"text-align: right;\">0.9101</td><td style = \"text-align: left;\">DSG2_LRP10</td></tr><tr><td class = \"rowNumber\" style = \"font-weight: bold; text-align: right;\">11</td><td style = \"text-align: left;\">LAMC2</td><td style = \"text-align: left;\">ITGA2</td><td style = \"text-align: right;\">0.734249</td><td style = \"text-align: right;\">1.1017</td><td style = \"text-align: right;\">1.2222</td><td style = \"text-align: left;\">LAMC2_ITGA2</td></tr><tr><td class = \"rowNumber\" style = \"font-weight: bold; text-align: right;\">12</td><td style = \"text-align: left;\">DSG2</td><td style = \"text-align: left;\">DSC2</td><td style = \"text-align: right;\">0.722542</td><td style = \"text-align: right;\">0.7307</td><td style = \"text-align: right;\">0.8149</td><td style = \"text-align: left;\">DSG2_DSC2</td></tr><tr><td class = \"rowNumber\" style = \"font-weight: bold; text-align: right;\">13</td><td style = \"text-align: left;\">RPS19</td><td style = \"text-align: left;\">RPSA</td><td style = \"text-align: right;\">0.718279</td><td style = \"text-align: right;\">0.8499</td><td style = \"text-align: right;\">0.7268</td><td style = \"text-align: left;\">RPS19_RPSA</td></tr><tr><td style = \"text-align: right;\">&vellip;</td><td style = \"text-align: right;\">&vellip;</td><td style = \"text-align: right;\">&vellip;</td><td style = \"text-align: right;\">&vellip;</td><td style = \"text-align: right;\">&vellip;</td><td style = \"text-align: right;\">&vellip;</td><td style = \"text-align: right;\">&vellip;</td></tr><tr><td class = \"rowNumber\" style = \"font-weight: bold; text-align: right;\">476</td><td style = \"text-align: left;\">APP</td><td style = \"text-align: left;\">IGF1R</td><td style = \"text-align: right;\">0.216683</td><td style = \"text-align: right;\">0.8136</td><td style = \"text-align: right;\">0.8299</td><td style = \"text-align: left;\">APP_IGF1R</td></tr><tr><td class = \"rowNumber\" style = \"font-weight: bold; text-align: right;\">477</td><td style = \"text-align: left;\">PTPRC</td><td style = \"text-align: left;\">EGFR</td><td style = \"text-align: right;\">0.216559</td><td style = \"text-align: right;\">1.6397</td><td style = \"text-align: right;\">1.0176</td><td style = \"text-align: left;\">PTPRC_EGFR</td></tr><tr><td class = \"rowNumber\" style = \"font-weight: bold; text-align: right;\">478</td><td style = \"text-align: left;\">CDH5</td><td style = \"text-align: left;\">P2RX4</td><td style = \"text-align: right;\">0.21627</td><td style = \"text-align: right;\">2.243</td><td style = \"text-align: right;\">0.9859</td><td style = \"text-align: left;\">CDH5_P2RX4</td></tr><tr><td class = \"rowNumber\" style = \"font-weight: bold; text-align: right;\">479</td><td style = \"text-align: left;\">CCL28</td><td style = \"text-align: left;\">CXCR4</td><td style = \"text-align: right;\">0.212796</td><td style = \"text-align: right;\">0.6059</td><td style = \"text-align: right;\">1.2618</td><td style = \"text-align: left;\">CCL28_CXCR4</td></tr><tr><td class = \"rowNumber\" style = \"font-weight: bold; text-align: right;\">480</td><td style = \"text-align: left;\">ITGB1</td><td style = \"text-align: left;\">IGF1R</td><td style = \"text-align: right;\">0.206833</td><td style = \"text-align: right;\">1.1237</td><td style = \"text-align: right;\">0.8299</td><td style = \"text-align: left;\">ITGB1_IGF1R</td></tr><tr><td class = \"rowNumber\" style = \"font-weight: bold; text-align: right;\">481</td><td style = \"text-align: left;\">F11R</td><td style = \"text-align: left;\">PTPRB</td><td style = \"text-align: right;\">0.206814</td><td style = \"text-align: right;\">0.942</td><td style = \"text-align: right;\">1.2823</td><td style = \"text-align: left;\">F11R_PTPRB</td></tr><tr><td class = \"rowNumber\" style = \"font-weight: bold; text-align: right;\">482</td><td style = \"text-align: left;\">SERPINE1</td><td style = \"text-align: left;\">LRP1</td><td style = \"text-align: right;\">0.205949</td><td style = \"text-align: right;\">1.5213</td><td style = \"text-align: right;\">1.3051</td><td style = \"text-align: left;\">SERPINE1_LRP1</td></tr><tr><td class = \"rowNumber\" style = \"font-weight: bold; text-align: right;\">483</td><td style = \"text-align: left;\">F11R</td><td style = \"text-align: left;\">TGFBR2</td><td style = \"text-align: right;\">0.2052</td><td style = \"text-align: right;\">0.942</td><td style = \"text-align: right;\">1.4611</td><td style = \"text-align: left;\">F11R_TGFBR2</td></tr><tr><td class = \"rowNumber\" style = \"font-weight: bold; text-align: right;\">484</td><td style = \"text-align: left;\">APP</td><td style = \"text-align: left;\">SORL1</td><td style = \"text-align: right;\">0.204104</td><td style = \"text-align: right;\">0.8136</td><td style = \"text-align: right;\">0.6524</td><td style = \"text-align: left;\">APP_SORL1</td></tr><tr><td class = \"rowNumber\" style = \"font-weight: bold; text-align: right;\">485</td><td style = \"text-align: left;\">ITGAL</td><td style = \"text-align: left;\">F11R</td><td style = \"text-align: right;\">0.203744</td><td style = \"text-align: right;\">1.2148</td><td style = \"text-align: right;\">0.942</td><td style = \"text-align: left;\">ITGAL_F11R</td></tr><tr><td class = \"rowNumber\" style = \"font-weight: bold; text-align: right;\">486</td><td style = \"text-align: left;\">AREG</td><td style = \"text-align: left;\">ERBB2</td><td style = \"text-align: right;\">0.201982</td><td style = \"text-align: right;\">1.4834</td><td style = \"text-align: right;\">0.4776</td><td style = \"text-align: left;\">AREG_ERBB2</td></tr><tr><td class = \"rowNumber\" style = \"font-weight: bold; text-align: right;\">487</td><td style = \"text-align: left;\">LAMB2</td><td style = \"text-align: left;\">ITGB4</td><td style = \"text-align: right;\">0.201282</td><td style = \"text-align: right;\">1.6537</td><td style = \"text-align: right;\">0.8609</td><td style = \"text-align: left;\">LAMB2_ITGB4</td></tr></tbody></table></div>"
      ],
      "text/latex": [
       "\\begin{tabular}{r|cccccc}\n",
       "\t& from & to & correlation & ligand\\_FC & Receptor\\_FC & pair\\\\\n",
       "\t\\hline\n",
       "\t& String & String & Float64 & Float64 & Float64 & String\\\\\n",
       "\t\\hline\n",
       "\t1 & LGALS3 & ITGB4 & 0.832963 & 0.7695 & 0.8609 & LGALS3\\_ITGB4 \\\\\n",
       "\t2 & CDHR5 & CDHR2 & 0.830117 & 0.7361 & 0.9662 & CDHR5\\_CDHR2 \\\\\n",
       "\t3 & HLA-E & ITGA6 & 0.780889 & 1.1673 & 0.7086 & HLA-E\\_ITGA6 \\\\\n",
       "\t4 & HLA-E & PLXNB2 & 0.779063 & 1.1673 & 0.7971 & HLA-E\\_PLXNB2 \\\\\n",
       "\t5 & COL1A1 & ITGA5 & 0.764293 & 1.9866 & 1.872 & COL1A1\\_ITGA5 \\\\\n",
       "\t6 & DSC2 & LSR & 0.7638 & 0.8149 & 0.7539 & DSC2\\_LSR \\\\\n",
       "\t7 & DSC2 & EPHA2 & 0.759718 & 0.8149 & 0.8393 & DSC2\\_EPHA2 \\\\\n",
       "\t8 & GRN & TNFRSF1A & 0.748926 & 1.1756 & 1.0184 & GRN\\_TNFRSF1A \\\\\n",
       "\t9 & DSG2 & EPHA2 & 0.737155 & 0.7307 & 0.8393 & DSG2\\_EPHA2 \\\\\n",
       "\t10 & DSG2 & LRP10 & 0.735606 & 0.7307 & 0.9101 & DSG2\\_LRP10 \\\\\n",
       "\t11 & LAMC2 & ITGA2 & 0.734249 & 1.1017 & 1.2222 & LAMC2\\_ITGA2 \\\\\n",
       "\t12 & DSG2 & DSC2 & 0.722542 & 0.7307 & 0.8149 & DSG2\\_DSC2 \\\\\n",
       "\t13 & RPS19 & RPSA & 0.718279 & 0.8499 & 0.7268 & RPS19\\_RPSA \\\\\n",
       "\t14 & TNC & ITGA5 & 0.709979 & 2.8139 & 1.872 & TNC\\_ITGA5 \\\\\n",
       "\t15 & MIF & CD74 & 0.705286 & 0.9961 & 1.2571 & MIF\\_CD74 \\\\\n",
       "\t16 & DSG2 & LSR & 0.699518 & 0.7307 & 0.7539 & DSG2\\_LSR \\\\\n",
       "\t17 & CALM1 & TNFRSF1A & 0.697222 & 0.7865 & 1.0184 & CALM1\\_TNFRSF1A \\\\\n",
       "\t18 & CDH1 & DDR1 & 0.692245 & 0.8122 & 0.7374 & CDH1\\_DDR1 \\\\\n",
       "\t19 & ITGB1 & ITGA6 & 0.671693 & 1.1237 & 0.7086 & ITGB1\\_ITGA6 \\\\\n",
       "\t20 & PLAU & PLAUR & 0.665971 & 3.262 & 1.248 & PLAU\\_PLAUR \\\\\n",
       "\t21 & GRN & SORT1 & 0.66446 & 1.1756 & 0.8919 & GRN\\_SORT1 \\\\\n",
       "\t22 & LAMC2 & ITGB4 & 0.663032 & 1.1017 & 0.8609 & LAMC2\\_ITGB4 \\\\\n",
       "\t23 & TNC & ITGA2 & 0.660277 & 2.8139 & 1.2222 & TNC\\_ITGA2 \\\\\n",
       "\t24 & CALR & ITGA3 & 0.658461 & 0.8723 & 0.7647 & CALR\\_ITGA3 \\\\\n",
       "\t25 & LGALS3 & NPTN & 0.64731 & 0.7695 & 0.8032 & LGALS3\\_NPTN \\\\\n",
       "\t26 & ITGB1 & CDH17 & 0.64466 & 1.1237 & 0.7042 & ITGB1\\_CDH17 \\\\\n",
       "\t27 & PSAP & SORT1 & 0.642891 & 1.588 & 0.8919 & PSAP\\_SORT1 \\\\\n",
       "\t28 & PLXNB2 & MST1R & 0.641266 & 0.7971 & 0.596 & PLXNB2\\_MST1R \\\\\n",
       "\t29 & CALR & ITGAV & 0.641142 & 0.8723 & 1.133 & CALR\\_ITGAV \\\\\n",
       "\t30 & HLA-A & ERBB3 & 0.639187 & 0.9603 & 0.548 & HLA-A\\_ERBB3 \\\\\n",
       "\t$\\dots$ & $\\dots$ & $\\dots$ & $\\dots$ & $\\dots$ & $\\dots$ & $\\dots$ \\\\\n",
       "\\end{tabular}\n"
      ],
      "text/plain": [
       "\u001b[1m487×6 DataFrame\u001b[0m\n",
       "\u001b[1m Row \u001b[0m│\u001b[1m from     \u001b[0m\u001b[1m to       \u001b[0m\u001b[1m correlation \u001b[0m\u001b[1m ligand_FC \u001b[0m\u001b[1m Receptor_FC \u001b[0m\u001b[1m pair          \u001b[0m\n",
       "     │\u001b[90m String   \u001b[0m\u001b[90m String   \u001b[0m\u001b[90m Float64     \u001b[0m\u001b[90m Float64   \u001b[0m\u001b[90m Float64     \u001b[0m\u001b[90m String        \u001b[0m\n",
       "─────┼────────────────────────────────────────────────────────────────────────\n",
       "   1 │ LGALS3    ITGB4        0.832963     0.7695       0.8609  LGALS3_ITGB4\n",
       "   2 │ CDHR5     CDHR2        0.830117     0.7361       0.9662  CDHR5_CDHR2\n",
       "   3 │ HLA-E     ITGA6        0.780889     1.1673       0.7086  HLA-E_ITGA6\n",
       "   4 │ HLA-E     PLXNB2       0.779063     1.1673       0.7971  HLA-E_PLXNB2\n",
       "   5 │ COL1A1    ITGA5        0.764293     1.9866       1.872   COL1A1_ITGA5\n",
       "   6 │ DSC2      LSR          0.7638       0.8149       0.7539  DSC2_LSR\n",
       "   7 │ DSC2      EPHA2        0.759718     0.8149       0.8393  DSC2_EPHA2\n",
       "   8 │ GRN       TNFRSF1A     0.748926     1.1756       1.0184  GRN_TNFRSF1A\n",
       "   9 │ DSG2      EPHA2        0.737155     0.7307       0.8393  DSG2_EPHA2\n",
       "  10 │ DSG2      LRP10        0.735606     0.7307       0.9101  DSG2_LRP10\n",
       "  11 │ LAMC2     ITGA2        0.734249     1.1017       1.2222  LAMC2_ITGA2\n",
       "  ⋮  │    ⋮         ⋮           ⋮           ⋮           ⋮             ⋮\n",
       " 478 │ CDH5      P2RX4        0.21627      2.243        0.9859  CDH5_P2RX4\n",
       " 479 │ CCL28     CXCR4        0.212796     0.6059       1.2618  CCL28_CXCR4\n",
       " 480 │ ITGB1     IGF1R        0.206833     1.1237       0.8299  ITGB1_IGF1R\n",
       " 481 │ F11R      PTPRB        0.206814     0.942        1.2823  F11R_PTPRB\n",
       " 482 │ SERPINE1  LRP1         0.205949     1.5213       1.3051  SERPINE1_LRP1\n",
       " 483 │ F11R      TGFBR2       0.2052       0.942        1.4611  F11R_TGFBR2\n",
       " 484 │ APP       SORL1        0.204104     0.8136       0.6524  APP_SORL1\n",
       " 485 │ ITGAL     F11R         0.203744     1.2148       0.942   ITGAL_F11R\n",
       " 486 │ AREG      ERBB2        0.201982     1.4834       0.4776  AREG_ERBB2\n",
       " 487 │ LAMB2     ITGB4        0.201282     1.6537       0.8609  LAMB2_ITGB4\n",
       "\u001b[36m                                                              466 rows omitted\u001b[0m"
      ]
     },
     "execution_count": 10,
     "metadata": {},
     "output_type": "execute_result"
    }
   ],
   "source": [
    "lr_cc7[\"enriched_LRs\"]"
   ]
  },
  {
   "cell_type": "code",
   "execution_count": 11,
   "metadata": {},
   "outputs": [
    {
     "name": "stderr",
     "output_type": "stream",
     "text": [
      "\u001b[32mProgress: 100%|█████████████████████████████████████████| Time: 0:00:04\u001b[39m\n",
      "\u001b[32mProgress: 100%|█████████████████████████████████████████| Time: 0:00:00\u001b[39m\n"
     ]
    },
    {
     "data": {
      "text/html": [
       "<div><div style = \"float: left;\"><span>232×5 DataFrame</span></div><div style = \"float: right;\"><span style = \"font-style: italic;\">207 rows omitted</span></div><div style = \"clear: both;\"></div></div><div class = \"data-frame\" style = \"overflow-x: scroll;\"><table class = \"data-frame\" style = \"margin-bottom: 6px;\"><thead><tr class = \"header\"><th class = \"rowNumber\" style = \"font-weight: bold; text-align: right;\">Row</th><th style = \"text-align: left;\">pair</th><th style = \"text-align: left;\">group1_pval</th><th style = \"text-align: left;\">group2_pval</th><th style = \"text-align: left;\">pval_difference</th><th style = \"text-align: left;\">observed_cooc</th></tr><tr class = \"subheader headerLastRow\"><th class = \"rowNumber\" style = \"font-weight: bold; text-align: right;\"></th><th title = \"String\" style = \"text-align: left;\">String</th><th title = \"Real\" style = \"text-align: left;\">Real</th><th title = \"Real\" style = \"text-align: left;\">Real</th><th title = \"Real\" style = \"text-align: left;\">Real</th><th title = \"Int64\" style = \"text-align: left;\">Int64</th></tr></thead><tbody><tr><td class = \"rowNumber\" style = \"font-weight: bold; text-align: right;\">1</td><td style = \"text-align: left;\">HLA-A_LGALS3</td><td style = \"text-align: right;\">0.0</td><td style = \"text-align: right;\">0.13287</td><td style = \"text-align: right;\">0.13287</td><td style = \"text-align: right;\">210</td></tr><tr><td class = \"rowNumber\" style = \"font-weight: bold; text-align: right;\">2</td><td style = \"text-align: left;\">LGALS3_CD74</td><td style = \"text-align: right;\">0.0</td><td style = \"text-align: right;\">0.14307</td><td style = \"text-align: right;\">0.14307</td><td style = \"text-align: right;\">207</td></tr><tr><td class = \"rowNumber\" style = \"font-weight: bold; text-align: right;\">3</td><td style = \"text-align: left;\">HLA-A_CD24</td><td style = \"text-align: right;\">0.0</td><td style = \"text-align: right;\">0.13287</td><td style = \"text-align: right;\">0.13287</td><td style = \"text-align: right;\">200</td></tr><tr><td class = \"rowNumber\" style = \"font-weight: bold; text-align: right;\">4</td><td style = \"text-align: left;\">HLA-A_HLA-E</td><td style = \"text-align: right;\">0.0</td><td style = \"text-align: right;\">0.23776</td><td style = \"text-align: right;\">0.23776</td><td style = \"text-align: right;\">199</td></tr><tr><td class = \"rowNumber\" style = \"font-weight: bold; text-align: right;\">5</td><td style = \"text-align: left;\">CD24_LGALS3</td><td style = \"text-align: right;\">0.0</td><td style = \"text-align: right;\">0.5</td><td style = \"text-align: right;\">0.5</td><td style = \"text-align: right;\">199</td></tr><tr><td class = \"rowNumber\" style = \"font-weight: bold; text-align: right;\">6</td><td style = \"text-align: left;\">HLA-E_CD74</td><td style = \"text-align: right;\">0.0</td><td style = \"text-align: right;\">0.29604</td><td style = \"text-align: right;\">0.29604</td><td style = \"text-align: right;\">197</td></tr><tr><td class = \"rowNumber\" style = \"font-weight: bold; text-align: right;\">7</td><td style = \"text-align: left;\">CD24_CD74</td><td style = \"text-align: right;\">0.0</td><td style = \"text-align: right;\">0.14307</td><td style = \"text-align: right;\">0.14307</td><td style = \"text-align: right;\">194</td></tr><tr><td class = \"rowNumber\" style = \"font-weight: bold; text-align: right;\">8</td><td style = \"text-align: left;\">CD24_HLA-E</td><td style = \"text-align: right;\">0.0</td><td style = \"text-align: right;\">0.94872</td><td style = \"text-align: right;\">0.94872</td><td style = \"text-align: right;\">192</td></tr><tr><td class = \"rowNumber\" style = \"font-weight: bold; text-align: right;\">9</td><td style = \"text-align: left;\">HLA-DRA_LGALS3</td><td style = \"text-align: right;\">0.0</td><td style = \"text-align: right;\">0.5</td><td style = \"text-align: right;\">0.5</td><td style = \"text-align: right;\">192</td></tr><tr><td class = \"rowNumber\" style = \"font-weight: bold; text-align: right;\">10</td><td style = \"text-align: left;\">HLA-E_HLA-DRA</td><td style = \"text-align: right;\">0.0</td><td style = \"text-align: right;\">0.23776</td><td style = \"text-align: right;\">0.23776</td><td style = \"text-align: right;\">191</td></tr><tr><td class = \"rowNumber\" style = \"font-weight: bold; text-align: right;\">11</td><td style = \"text-align: left;\">HLA-A_PSAP</td><td style = \"text-align: right;\">0.0</td><td style = \"text-align: right;\">0.12587</td><td style = \"text-align: right;\">0.12587</td><td style = \"text-align: right;\">188</td></tr><tr><td class = \"rowNumber\" style = \"font-weight: bold; text-align: right;\">12</td><td style = \"text-align: left;\">CD24_HLA-DRA</td><td style = \"text-align: right;\">0.0</td><td style = \"text-align: right;\">0.5</td><td style = \"text-align: right;\">0.5</td><td style = \"text-align: right;\">188</td></tr><tr><td class = \"rowNumber\" style = \"font-weight: bold; text-align: right;\">13</td><td style = \"text-align: left;\">PSAP_CD74</td><td style = \"text-align: right;\">0.0</td><td style = \"text-align: right;\">0.27972</td><td style = \"text-align: right;\">0.27972</td><td style = \"text-align: right;\">187</td></tr><tr><td style = \"text-align: right;\">&vellip;</td><td style = \"text-align: right;\">&vellip;</td><td style = \"text-align: right;\">&vellip;</td><td style = \"text-align: right;\">&vellip;</td><td style = \"text-align: right;\">&vellip;</td><td style = \"text-align: right;\">&vellip;</td></tr><tr><td class = \"rowNumber\" style = \"font-weight: bold; text-align: right;\">221</td><td style = \"text-align: left;\">IL10RA_CD74</td><td style = \"text-align: right;\">0.0061</td><td style = \"text-align: right;\">0.23077</td><td style = \"text-align: right;\">0.22467</td><td style = \"text-align: right;\">26</td></tr><tr><td class = \"rowNumber\" style = \"font-weight: bold; text-align: right;\">222</td><td style = \"text-align: left;\">RPS19_IL10RA</td><td style = \"text-align: right;\">0.00549</td><td style = \"text-align: right;\">0.23077</td><td style = \"text-align: right;\">0.22528</td><td style = \"text-align: right;\">23</td></tr><tr><td class = \"rowNumber\" style = \"font-weight: bold; text-align: right;\">223</td><td style = \"text-align: left;\">NAMPT_CXCR4</td><td style = \"text-align: right;\">0.00074</td><td style = \"text-align: right;\">0.17483</td><td style = \"text-align: right;\">0.17409</td><td style = \"text-align: right;\">23</td></tr><tr><td class = \"rowNumber\" style = \"font-weight: bold; text-align: right;\">224</td><td style = \"text-align: left;\">IL10RA_RACK1</td><td style = \"text-align: right;\">0.00668</td><td style = \"text-align: right;\">0.30769</td><td style = \"text-align: right;\">0.30101</td><td style = \"text-align: right;\">23</td></tr><tr><td class = \"rowNumber\" style = \"font-weight: bold; text-align: right;\">225</td><td style = \"text-align: left;\">CCL21_SERPINE1</td><td style = \"text-align: right;\">0.00041</td><td style = \"text-align: right;\">0.76923</td><td style = \"text-align: right;\">0.76882</td><td style = \"text-align: right;\">22</td></tr><tr><td class = \"rowNumber\" style = \"font-weight: bold; text-align: right;\">226</td><td style = \"text-align: left;\">CCL19_HLA-A</td><td style = \"text-align: right;\">0.04775</td><td style = \"text-align: right;\">0.12587</td><td style = \"text-align: right;\">0.07812</td><td style = \"text-align: right;\">19</td></tr><tr><td class = \"rowNumber\" style = \"font-weight: bold; text-align: right;\">227</td><td style = \"text-align: left;\">CCL19_HLA-E</td><td style = \"text-align: right;\">0.01251</td><td style = \"text-align: right;\">0.17483</td><td style = \"text-align: right;\">0.16232</td><td style = \"text-align: right;\">19</td></tr><tr><td class = \"rowNumber\" style = \"font-weight: bold; text-align: right;\">228</td><td style = \"text-align: left;\">CCL19_THBS1</td><td style = \"text-align: right;\">0.0036</td><td style = \"text-align: right;\">0.82517</td><td style = \"text-align: right;\">0.82157</td><td style = \"text-align: right;\">19</td></tr><tr><td class = \"rowNumber\" style = \"font-weight: bold; text-align: right;\">229</td><td style = \"text-align: left;\">CCL19_TIMP1</td><td style = \"text-align: right;\">0.00016</td><td style = \"text-align: right;\">0.31069</td><td style = \"text-align: right;\">0.31053</td><td style = \"text-align: right;\">19</td></tr><tr><td class = \"rowNumber\" style = \"font-weight: bold; text-align: right;\">230</td><td style = \"text-align: left;\">CCL19_A2M</td><td style = \"text-align: right;\">0.00307</td><td style = \"text-align: right;\">0.79021</td><td style = \"text-align: right;\">0.78714</td><td style = \"text-align: right;\">18</td></tr><tr><td class = \"rowNumber\" style = \"font-weight: bold; text-align: right;\">231</td><td style = \"text-align: left;\">HLA-DRA_PKD1</td><td style = \"text-align: right;\">0.02082</td><td style = \"text-align: right;\">0.3956</td><td style = \"text-align: right;\">0.37478</td><td style = \"text-align: right;\">11</td></tr><tr><td class = \"rowNumber\" style = \"font-weight: bold; text-align: right;\">232</td><td style = \"text-align: left;\">PKD1_RACK1</td><td style = \"text-align: right;\">0.0049</td><td style = \"text-align: right;\">0.30769</td><td style = \"text-align: right;\">0.30279</td><td style = \"text-align: right;\">11</td></tr></tbody></table></div>"
      ],
      "text/latex": [
       "\\begin{tabular}{r|ccccc}\n",
       "\t& pair & group1\\_pval & group2\\_pval & pval\\_difference & observed\\_cooc\\\\\n",
       "\t\\hline\n",
       "\t& String & Real & Real & Real & Int64\\\\\n",
       "\t\\hline\n",
       "\t1 & HLA-A\\_LGALS3 & 0.0 & 0.13287 & 0.13287 & 210 \\\\\n",
       "\t2 & LGALS3\\_CD74 & 0.0 & 0.14307 & 0.14307 & 207 \\\\\n",
       "\t3 & HLA-A\\_CD24 & 0.0 & 0.13287 & 0.13287 & 200 \\\\\n",
       "\t4 & HLA-A\\_HLA-E & 0.0 & 0.23776 & 0.23776 & 199 \\\\\n",
       "\t5 & CD24\\_LGALS3 & 0.0 & 0.5 & 0.5 & 199 \\\\\n",
       "\t6 & HLA-E\\_CD74 & 0.0 & 0.29604 & 0.29604 & 197 \\\\\n",
       "\t7 & CD24\\_CD74 & 0.0 & 0.14307 & 0.14307 & 194 \\\\\n",
       "\t8 & CD24\\_HLA-E & 0.0 & 0.94872 & 0.94872 & 192 \\\\\n",
       "\t9 & HLA-DRA\\_LGALS3 & 0.0 & 0.5 & 0.5 & 192 \\\\\n",
       "\t10 & HLA-E\\_HLA-DRA & 0.0 & 0.23776 & 0.23776 & 191 \\\\\n",
       "\t11 & HLA-A\\_PSAP & 0.0 & 0.12587 & 0.12587 & 188 \\\\\n",
       "\t12 & CD24\\_HLA-DRA & 0.0 & 0.5 & 0.5 & 188 \\\\\n",
       "\t13 & PSAP\\_CD74 & 0.0 & 0.27972 & 0.27972 & 187 \\\\\n",
       "\t14 & HLA-A\\_HSP90B1 & 0.0 & 0.12587 & 0.12587 & 184 \\\\\n",
       "\t15 & HLA-A\\_THBS1 & 0.0 & 0.76224 & 0.76224 & 182 \\\\\n",
       "\t16 & HSP90B1\\_CD74 & 0.0 & 0.27972 & 0.27972 & 182 \\\\\n",
       "\t17 & HLA-A\\_CALR & 0.0 & 0.23077 & 0.23077 & 181 \\\\\n",
       "\t18 & PSAP\\_HLA-DRA & 0.0 & 0.12587 & 0.12587 & 179 \\\\\n",
       "\t19 & CALR\\_LGALS3 & 0.0 & 0.5 & 0.5 & 178 \\\\\n",
       "\t20 & CALR\\_HLA-E & 0.0 & 0.38462 & 0.38462 & 177 \\\\\n",
       "\t21 & HLA-E\\_HSP90B1 & 0.0 & 0.17483 & 0.17483 & 176 \\\\\n",
       "\t22 & HLA-A\\_A2M & 0.0 & 0.12587 & 0.12587 & 175 \\\\\n",
       "\t23 & RPS19\\_CD74 & 0.0 & 0.14307 & 0.14307 & 175 \\\\\n",
       "\t24 & HSP90B1\\_HLA-DRA & 0.0 & 0.12587 & 0.12587 & 175 \\\\\n",
       "\t25 & RPS19\\_HLA-E & 0.0 & 0.29604 & 0.29604 & 172 \\\\\n",
       "\t26 & RACK1\\_CD74 & 0.0 & 0.29604 & 0.29604 & 171 \\\\\n",
       "\t27 & A2M\\_HLA-DRA & 0.0 & 0.54545 & 0.54545 & 170 \\\\\n",
       "\t28 & CALR\\_HLA-DRA & 0.0 & 0.23077 & 0.23077 & 170 \\\\\n",
       "\t29 & HLA-E\\_THBS1 & 0.0 & 0.47086 & 0.47086 & 170 \\\\\n",
       "\t30 & A2M\\_LGALS3 & 0.0 & 0.27972 & 0.27972 & 169 \\\\\n",
       "\t$\\dots$ & $\\dots$ & $\\dots$ & $\\dots$ & $\\dots$ & $\\dots$ \\\\\n",
       "\\end{tabular}\n"
      ],
      "text/plain": [
       "\u001b[1m232×5 DataFrame\u001b[0m\n",
       "\u001b[1m Row \u001b[0m│\u001b[1m pair           \u001b[0m\u001b[1m group1_pval \u001b[0m\u001b[1m group2_pval \u001b[0m\u001b[1m pval_difference \u001b[0m\u001b[1m observed_coo\u001b[0m ⋯\n",
       "     │\u001b[90m String         \u001b[0m\u001b[90m Real        \u001b[0m\u001b[90m Real        \u001b[0m\u001b[90m Real            \u001b[0m\u001b[90m Int64       \u001b[0m ⋯\n",
       "─────┼──────────────────────────────────────────────────────────────────────────\n",
       "   1 │ HLA-A_LGALS3        0.0          0.13287          0.13287            21 ⋯\n",
       "   2 │ LGALS3_CD74         0.0          0.14307          0.14307            20\n",
       "   3 │ HLA-A_CD24          0.0          0.13287          0.13287            20\n",
       "   4 │ HLA-A_HLA-E         0.0          0.23776          0.23776            19\n",
       "   5 │ CD24_LGALS3         0.0          0.5              0.5                19 ⋯\n",
       "   6 │ HLA-E_CD74          0.0          0.29604          0.29604            19\n",
       "   7 │ CD24_CD74           0.0          0.14307          0.14307            19\n",
       "   8 │ CD24_HLA-E          0.0          0.94872          0.94872            19\n",
       "   9 │ HLA-DRA_LGALS3      0.0          0.5              0.5                19 ⋯\n",
       "  10 │ HLA-E_HLA-DRA       0.0          0.23776          0.23776            19\n",
       "  11 │ HLA-A_PSAP          0.0          0.12587          0.12587            18\n",
       "  ⋮  │       ⋮              ⋮            ⋮              ⋮               ⋮      ⋱\n",
       " 223 │ NAMPT_CXCR4         0.00074      0.17483          0.17409             2\n",
       " 224 │ IL10RA_RACK1        0.00668      0.30769          0.30101             2 ⋯\n",
       " 225 │ CCL21_SERPINE1      0.00041      0.76923          0.76882             2\n",
       " 226 │ CCL19_HLA-A         0.04775      0.12587          0.07812             1\n",
       " 227 │ CCL19_HLA-E         0.01251      0.17483          0.16232             1\n",
       " 228 │ CCL19_THBS1         0.0036       0.82517          0.82157             1 ⋯\n",
       " 229 │ CCL19_TIMP1         0.00016      0.31069          0.31053             1\n",
       " 230 │ CCL19_A2M           0.00307      0.79021          0.78714             1\n",
       " 231 │ HLA-DRA_PKD1        0.02082      0.3956           0.37478             1\n",
       " 232 │ PKD1_RACK1          0.0049       0.30769          0.30279             1 ⋯\n",
       "\u001b[36m                                                   1 column and 211 rows omitted\u001b[0m"
      ]
     },
     "execution_count": 11,
     "metadata": {},
     "output_type": "execute_result"
    }
   ],
   "source": [
    "diff_df47 = find_differentially_cooccurring_LR_pairs(lr_cc4, lr_cc7, 0.05, 0.1)\n",
    "diff_df74 = find_differentially_cooccurring_LR_pairs(lr_cc7, lr_cc4, 0.05, 0.1)"
   ]
  },
  {
   "cell_type": "code",
   "execution_count": 12,
   "metadata": {},
   "outputs": [
    {
     "data": {
      "text/plain": [
       "find_duplicate_rows (generic function with 1 method)"
      ]
     },
     "execution_count": 12,
     "metadata": {},
     "output_type": "execute_result"
    }
   ],
   "source": [
    "function find_duplicate_rows(df, column_name)\n",
    "    # Get the unique values in the specified column\n",
    "    unique_values = unique(df[!, column_name])\n",
    "    \n",
    "    # Initialize an empty DataFrame to store the duplicate rows\n",
    "    duplicate_rows = DataFrame()\n",
    "    \n",
    "    for value in unique_values\n",
    "        # Filter rows where the specified column matches the current value\n",
    "        subset = filter(row -> row[column_name] == value, df)\n",
    "        \n",
    "        # If there are more than one row with the same value, append them to duplicate_rows\n",
    "        if nrow(subset) > 1\n",
    "            append!(duplicate_rows, DataFrame(first(subset)))\n",
    "        end\n",
    "    end\n",
    "    \n",
    "    return duplicate_rows\n",
    "end"
   ]
  },
  {
   "cell_type": "code",
   "execution_count": 14,
   "metadata": {},
   "outputs": [
    {
     "data": {
      "text/html": [
       "<div><div style = \"float: left;\"><span>0×0 DataFrame</span></div><div style = \"clear: both;\"></div></div><div class = \"data-frame\" style = \"overflow-x: scroll;\"><table class = \"data-frame\" style = \"margin-bottom: 6px;\"></table></div>"
      ],
      "text/latex": [
       "\\begin{tabular}{r|}\n",
       "\t& \\\\\n",
       "\t\\hline\n",
       "\t& \\\\\n",
       "\t\\hline\n",
       "\\end{tabular}\n"
      ],
      "text/plain": [
       "\u001b[1m0×0 DataFrame\u001b[0m"
      ]
     },
     "execution_count": 14,
     "metadata": {},
     "output_type": "execute_result"
    }
   ],
   "source": [
    "df_7 = lr_cc7[\"enriched_LRs\"]\n",
    "duplicates = find_duplicate_rows(df_7, \"correlation\")"
   ]
  },
  {
   "cell_type": "code",
   "execution_count": 82,
   "metadata": {},
   "outputs": [
    {
     "data": {
      "text/html": [
       "<div><div style = \"float: left;\"><span>530×6 DataFrame</span></div><div style = \"float: right;\"><span style = \"font-style: italic;\">505 rows omitted</span></div><div style = \"clear: both;\"></div></div><div class = \"data-frame\" style = \"overflow-x: scroll;\"><table class = \"data-frame\" style = \"margin-bottom: 6px;\"><thead><tr class = \"header\"><th class = \"rowNumber\" style = \"font-weight: bold; text-align: right;\">Row</th><th style = \"text-align: left;\">from</th><th style = \"text-align: left;\">to</th><th style = \"text-align: left;\">correlation</th><th style = \"text-align: left;\">ligand_FC</th><th style = \"text-align: left;\">Receptor_FC</th><th style = \"text-align: left;\">pair</th></tr><tr class = \"subheader headerLastRow\"><th class = \"rowNumber\" style = \"font-weight: bold; text-align: right;\"></th><th title = \"String\" style = \"text-align: left;\">String</th><th title = \"String\" style = \"text-align: left;\">String</th><th title = \"Float64\" style = \"text-align: left;\">Float64</th><th title = \"Float64\" style = \"text-align: left;\">Float64</th><th title = \"Float64\" style = \"text-align: left;\">Float64</th><th title = \"String\" style = \"text-align: left;\">String</th></tr></thead><tbody><tr><td class = \"rowNumber\" style = \"font-weight: bold; text-align: right;\">1</td><td style = \"text-align: left;\">LGALS3</td><td style = \"text-align: left;\">ITGB4</td><td style = \"text-align: right;\">0.832963</td><td style = \"text-align: right;\">0.7695</td><td style = \"text-align: right;\">0.8609</td><td style = \"text-align: left;\">LGALS3_ITGB4</td></tr><tr><td class = \"rowNumber\" style = \"font-weight: bold; text-align: right;\">2</td><td style = \"text-align: left;\">CDHR5</td><td style = \"text-align: left;\">CDHR2</td><td style = \"text-align: right;\">0.830117</td><td style = \"text-align: right;\">0.7361</td><td style = \"text-align: right;\">0.9662</td><td style = \"text-align: left;\">CDHR5_CDHR2</td></tr><tr><td class = \"rowNumber\" style = \"font-weight: bold; text-align: right;\">3</td><td style = \"text-align: left;\">HLA-E</td><td style = \"text-align: left;\">ITGA6</td><td style = \"text-align: right;\">0.780889</td><td style = \"text-align: right;\">1.1673</td><td style = \"text-align: right;\">0.7086</td><td style = \"text-align: left;\">HLA-E_ITGA6</td></tr><tr><td class = \"rowNumber\" style = \"font-weight: bold; text-align: right;\">4</td><td style = \"text-align: left;\">HLA-E</td><td style = \"text-align: left;\">PLXNB2</td><td style = \"text-align: right;\">0.779063</td><td style = \"text-align: right;\">1.1673</td><td style = \"text-align: right;\">0.7971</td><td style = \"text-align: left;\">HLA-E_PLXNB2</td></tr><tr><td class = \"rowNumber\" style = \"font-weight: bold; text-align: right;\">5</td><td style = \"text-align: left;\">COL1A1</td><td style = \"text-align: left;\">ITGA5</td><td style = \"text-align: right;\">0.764293</td><td style = \"text-align: right;\">1.9866</td><td style = \"text-align: right;\">1.872</td><td style = \"text-align: left;\">COL1A1_ITGA5</td></tr><tr><td class = \"rowNumber\" style = \"font-weight: bold; text-align: right;\">6</td><td style = \"text-align: left;\">DSC2</td><td style = \"text-align: left;\">LSR</td><td style = \"text-align: right;\">0.7638</td><td style = \"text-align: right;\">0.8149</td><td style = \"text-align: right;\">0.7539</td><td style = \"text-align: left;\">DSC2_LSR</td></tr><tr><td class = \"rowNumber\" style = \"font-weight: bold; text-align: right;\">7</td><td style = \"text-align: left;\">DSC2</td><td style = \"text-align: left;\">EPHA2</td><td style = \"text-align: right;\">0.759718</td><td style = \"text-align: right;\">0.8149</td><td style = \"text-align: right;\">0.8393</td><td style = \"text-align: left;\">DSC2_EPHA2</td></tr><tr><td class = \"rowNumber\" style = \"font-weight: bold; text-align: right;\">8</td><td style = \"text-align: left;\">GRN</td><td style = \"text-align: left;\">TNFRSF1A</td><td style = \"text-align: right;\">0.748926</td><td style = \"text-align: right;\">1.1756</td><td style = \"text-align: right;\">1.0184</td><td style = \"text-align: left;\">GRN_TNFRSF1A</td></tr><tr><td class = \"rowNumber\" style = \"font-weight: bold; text-align: right;\">9</td><td style = \"text-align: left;\">DSG2</td><td style = \"text-align: left;\">EPHA2</td><td style = \"text-align: right;\">0.737155</td><td style = \"text-align: right;\">0.7307</td><td style = \"text-align: right;\">0.8393</td><td style = \"text-align: left;\">DSG2_EPHA2</td></tr><tr><td class = \"rowNumber\" style = \"font-weight: bold; text-align: right;\">10</td><td style = \"text-align: left;\">DSG2</td><td style = \"text-align: left;\">LRP10</td><td style = \"text-align: right;\">0.735606</td><td style = \"text-align: right;\">0.7307</td><td style = \"text-align: right;\">0.9101</td><td style = \"text-align: left;\">DSG2_LRP10</td></tr><tr><td class = \"rowNumber\" style = \"font-weight: bold; text-align: right;\">11</td><td style = \"text-align: left;\">LAMC2</td><td style = \"text-align: left;\">ITGA2</td><td style = \"text-align: right;\">0.734249</td><td style = \"text-align: right;\">1.1017</td><td style = \"text-align: right;\">1.2222</td><td style = \"text-align: left;\">LAMC2_ITGA2</td></tr><tr><td class = \"rowNumber\" style = \"font-weight: bold; text-align: right;\">12</td><td style = \"text-align: left;\">DSC2</td><td style = \"text-align: left;\">DSG2</td><td style = \"text-align: right;\">0.722542</td><td style = \"text-align: right;\">0.8149</td><td style = \"text-align: right;\">0.7307</td><td style = \"text-align: left;\">DSC2_DSG2</td></tr><tr><td class = \"rowNumber\" style = \"font-weight: bold; text-align: right;\">13</td><td style = \"text-align: left;\">RPS19</td><td style = \"text-align: left;\">RPSA</td><td style = \"text-align: right;\">0.718279</td><td style = \"text-align: right;\">0.8499</td><td style = \"text-align: right;\">0.7268</td><td style = \"text-align: left;\">RPS19_RPSA</td></tr><tr><td style = \"text-align: right;\">&vellip;</td><td style = \"text-align: right;\">&vellip;</td><td style = \"text-align: right;\">&vellip;</td><td style = \"text-align: right;\">&vellip;</td><td style = \"text-align: right;\">&vellip;</td><td style = \"text-align: right;\">&vellip;</td><td style = \"text-align: right;\">&vellip;</td></tr><tr><td class = \"rowNumber\" style = \"font-weight: bold; text-align: right;\">519</td><td style = \"text-align: left;\">APP</td><td style = \"text-align: left;\">IGF1R</td><td style = \"text-align: right;\">0.216683</td><td style = \"text-align: right;\">0.8136</td><td style = \"text-align: right;\">0.8299</td><td style = \"text-align: left;\">APP_IGF1R</td></tr><tr><td class = \"rowNumber\" style = \"font-weight: bold; text-align: right;\">520</td><td style = \"text-align: left;\">PTPRC</td><td style = \"text-align: left;\">EGFR</td><td style = \"text-align: right;\">0.216559</td><td style = \"text-align: right;\">1.6397</td><td style = \"text-align: right;\">1.0176</td><td style = \"text-align: left;\">PTPRC_EGFR</td></tr><tr><td class = \"rowNumber\" style = \"font-weight: bold; text-align: right;\">521</td><td style = \"text-align: left;\">CDH5</td><td style = \"text-align: left;\">P2RX4</td><td style = \"text-align: right;\">0.21627</td><td style = \"text-align: right;\">2.243</td><td style = \"text-align: right;\">0.9859</td><td style = \"text-align: left;\">CDH5_P2RX4</td></tr><tr><td class = \"rowNumber\" style = \"font-weight: bold; text-align: right;\">522</td><td style = \"text-align: left;\">CCL28</td><td style = \"text-align: left;\">CXCR4</td><td style = \"text-align: right;\">0.212796</td><td style = \"text-align: right;\">0.6059</td><td style = \"text-align: right;\">1.2618</td><td style = \"text-align: left;\">CCL28_CXCR4</td></tr><tr><td class = \"rowNumber\" style = \"font-weight: bold; text-align: right;\">523</td><td style = \"text-align: left;\">ITGB1</td><td style = \"text-align: left;\">IGF1R</td><td style = \"text-align: right;\">0.206833</td><td style = \"text-align: right;\">1.1237</td><td style = \"text-align: right;\">0.8299</td><td style = \"text-align: left;\">ITGB1_IGF1R</td></tr><tr><td class = \"rowNumber\" style = \"font-weight: bold; text-align: right;\">524</td><td style = \"text-align: left;\">F11R</td><td style = \"text-align: left;\">PTPRB</td><td style = \"text-align: right;\">0.206814</td><td style = \"text-align: right;\">0.942</td><td style = \"text-align: right;\">1.2823</td><td style = \"text-align: left;\">F11R_PTPRB</td></tr><tr><td class = \"rowNumber\" style = \"font-weight: bold; text-align: right;\">525</td><td style = \"text-align: left;\">SERPINE1</td><td style = \"text-align: left;\">LRP1</td><td style = \"text-align: right;\">0.205949</td><td style = \"text-align: right;\">1.5213</td><td style = \"text-align: right;\">1.3051</td><td style = \"text-align: left;\">SERPINE1_LRP1</td></tr><tr><td class = \"rowNumber\" style = \"font-weight: bold; text-align: right;\">526</td><td style = \"text-align: left;\">F11R</td><td style = \"text-align: left;\">TGFBR2</td><td style = \"text-align: right;\">0.2052</td><td style = \"text-align: right;\">0.942</td><td style = \"text-align: right;\">1.4611</td><td style = \"text-align: left;\">F11R_TGFBR2</td></tr><tr><td class = \"rowNumber\" style = \"font-weight: bold; text-align: right;\">527</td><td style = \"text-align: left;\">APP</td><td style = \"text-align: left;\">SORL1</td><td style = \"text-align: right;\">0.204104</td><td style = \"text-align: right;\">0.8136</td><td style = \"text-align: right;\">0.6524</td><td style = \"text-align: left;\">APP_SORL1</td></tr><tr><td class = \"rowNumber\" style = \"font-weight: bold; text-align: right;\">528</td><td style = \"text-align: left;\">F11R</td><td style = \"text-align: left;\">ITGAL</td><td style = \"text-align: right;\">0.203744</td><td style = \"text-align: right;\">0.942</td><td style = \"text-align: right;\">1.2148</td><td style = \"text-align: left;\">F11R_ITGAL</td></tr><tr><td class = \"rowNumber\" style = \"font-weight: bold; text-align: right;\">529</td><td style = \"text-align: left;\">AREG</td><td style = \"text-align: left;\">ERBB2</td><td style = \"text-align: right;\">0.201982</td><td style = \"text-align: right;\">1.4834</td><td style = \"text-align: right;\">0.4776</td><td style = \"text-align: left;\">AREG_ERBB2</td></tr><tr><td class = \"rowNumber\" style = \"font-weight: bold; text-align: right;\">530</td><td style = \"text-align: left;\">LAMB2</td><td style = \"text-align: left;\">ITGB4</td><td style = \"text-align: right;\">0.201282</td><td style = \"text-align: right;\">1.6537</td><td style = \"text-align: right;\">0.8609</td><td style = \"text-align: left;\">LAMB2_ITGB4</td></tr></tbody></table></div>"
      ],
      "text/latex": [
       "\\begin{tabular}{r|cccccc}\n",
       "\t& from & to & correlation & ligand\\_FC & Receptor\\_FC & pair\\\\\n",
       "\t\\hline\n",
       "\t& String & String & Float64 & Float64 & Float64 & String\\\\\n",
       "\t\\hline\n",
       "\t1 & LGALS3 & ITGB4 & 0.832963 & 0.7695 & 0.8609 & LGALS3\\_ITGB4 \\\\\n",
       "\t2 & CDHR5 & CDHR2 & 0.830117 & 0.7361 & 0.9662 & CDHR5\\_CDHR2 \\\\\n",
       "\t3 & HLA-E & ITGA6 & 0.780889 & 1.1673 & 0.7086 & HLA-E\\_ITGA6 \\\\\n",
       "\t4 & HLA-E & PLXNB2 & 0.779063 & 1.1673 & 0.7971 & HLA-E\\_PLXNB2 \\\\\n",
       "\t5 & COL1A1 & ITGA5 & 0.764293 & 1.9866 & 1.872 & COL1A1\\_ITGA5 \\\\\n",
       "\t6 & DSC2 & LSR & 0.7638 & 0.8149 & 0.7539 & DSC2\\_LSR \\\\\n",
       "\t7 & DSC2 & EPHA2 & 0.759718 & 0.8149 & 0.8393 & DSC2\\_EPHA2 \\\\\n",
       "\t8 & GRN & TNFRSF1A & 0.748926 & 1.1756 & 1.0184 & GRN\\_TNFRSF1A \\\\\n",
       "\t9 & DSG2 & EPHA2 & 0.737155 & 0.7307 & 0.8393 & DSG2\\_EPHA2 \\\\\n",
       "\t10 & DSG2 & LRP10 & 0.735606 & 0.7307 & 0.9101 & DSG2\\_LRP10 \\\\\n",
       "\t11 & LAMC2 & ITGA2 & 0.734249 & 1.1017 & 1.2222 & LAMC2\\_ITGA2 \\\\\n",
       "\t12 & DSC2 & DSG2 & 0.722542 & 0.8149 & 0.7307 & DSC2\\_DSG2 \\\\\n",
       "\t13 & RPS19 & RPSA & 0.718279 & 0.8499 & 0.7268 & RPS19\\_RPSA \\\\\n",
       "\t14 & TNC & ITGA5 & 0.709979 & 2.8139 & 1.872 & TNC\\_ITGA5 \\\\\n",
       "\t15 & MIF & CD74 & 0.705286 & 0.9961 & 1.2571 & MIF\\_CD74 \\\\\n",
       "\t16 & DSG2 & LSR & 0.699518 & 0.7307 & 0.7539 & DSG2\\_LSR \\\\\n",
       "\t17 & CALM1 & TNFRSF1A & 0.697222 & 0.7865 & 1.0184 & CALM1\\_TNFRSF1A \\\\\n",
       "\t18 & CDH1 & DDR1 & 0.692245 & 0.8122 & 0.7374 & CDH1\\_DDR1 \\\\\n",
       "\t19 & COL4A1 & ITGB1 & 0.681179 & 2.4032 & 1.1237 & COL4A1\\_ITGB1 \\\\\n",
       "\t20 & LGALS3 & ITGB1 & 0.677309 & 0.7695 & 1.1237 & LGALS3\\_ITGB1 \\\\\n",
       "\t21 & ITGB1 & ITGA6 & 0.671693 & 1.1237 & 0.7086 & ITGB1\\_ITGA6 \\\\\n",
       "\t22 & PLAU & PLAUR & 0.665971 & 3.262 & 1.248 & PLAU\\_PLAUR \\\\\n",
       "\t23 & GRN & SORT1 & 0.66446 & 1.1756 & 0.8919 & GRN\\_SORT1 \\\\\n",
       "\t24 & LAMC2 & ITGB4 & 0.663032 & 1.1017 & 0.8609 & LAMC2\\_ITGB4 \\\\\n",
       "\t$\\dots$ & $\\dots$ & $\\dots$ & $\\dots$ & $\\dots$ & $\\dots$ & $\\dots$ \\\\\n",
       "\\end{tabular}\n"
      ],
      "text/plain": [
       "\u001b[1m530×6 DataFrame\u001b[0m\n",
       "\u001b[1m Row \u001b[0m│\u001b[1m from     \u001b[0m\u001b[1m to       \u001b[0m\u001b[1m correlation \u001b[0m\u001b[1m ligand_FC \u001b[0m\u001b[1m Receptor_FC \u001b[0m\u001b[1m pair          \u001b[0m\n",
       "     │\u001b[90m String   \u001b[0m\u001b[90m String   \u001b[0m\u001b[90m Float64     \u001b[0m\u001b[90m Float64   \u001b[0m\u001b[90m Float64     \u001b[0m\u001b[90m String        \u001b[0m\n",
       "─────┼────────────────────────────────────────────────────────────────────────\n",
       "   1 │ LGALS3    ITGB4        0.832963     0.7695       0.8609  LGALS3_ITGB4\n",
       "   2 │ CDHR5     CDHR2        0.830117     0.7361       0.9662  CDHR5_CDHR2\n",
       "   3 │ HLA-E     ITGA6        0.780889     1.1673       0.7086  HLA-E_ITGA6\n",
       "   4 │ HLA-E     PLXNB2       0.779063     1.1673       0.7971  HLA-E_PLXNB2\n",
       "   5 │ COL1A1    ITGA5        0.764293     1.9866       1.872   COL1A1_ITGA5\n",
       "   6 │ DSC2      LSR          0.7638       0.8149       0.7539  DSC2_LSR\n",
       "   7 │ DSC2      EPHA2        0.759718     0.8149       0.8393  DSC2_EPHA2\n",
       "   8 │ GRN       TNFRSF1A     0.748926     1.1756       1.0184  GRN_TNFRSF1A\n",
       "  ⋮  │    ⋮         ⋮           ⋮           ⋮           ⋮             ⋮\n",
       " 524 │ F11R      PTPRB        0.206814     0.942        1.2823  F11R_PTPRB\n",
       " 525 │ SERPINE1  LRP1         0.205949     1.5213       1.3051  SERPINE1_LRP1\n",
       " 526 │ F11R      TGFBR2       0.2052       0.942        1.4611  F11R_TGFBR2\n",
       " 527 │ APP       SORL1        0.204104     0.8136       0.6524  APP_SORL1\n",
       " 528 │ F11R      ITGAL        0.203744     0.942        1.2148  F11R_ITGAL\n",
       " 529 │ AREG      ERBB2        0.201982     1.4834       0.4776  AREG_ERBB2\n",
       " 530 │ LAMB2     ITGB4        0.201282     1.6537       0.8609  LAMB2_ITGB4\n",
       "\u001b[36m                                                              515 rows omitted\u001b[0m"
      ]
     },
     "metadata": {},
     "output_type": "display_data"
    }
   ],
   "source": [
    "unique(df_7, :correlation)"
   ]
  },
  {
   "cell_type": "code",
   "execution_count": 51,
   "metadata": {},
   "outputs": [
    {
     "data": {
      "text/html": [
       "<div><div style = \"float: left;\"><span>540×6 DataFrame</span></div><div style = \"float: right;\"><span style = \"font-style: italic;\">515 rows omitted</span></div><div style = \"clear: both;\"></div></div><div class = \"data-frame\" style = \"overflow-x: scroll;\"><table class = \"data-frame\" style = \"margin-bottom: 6px;\"><thead><tr class = \"header\"><th class = \"rowNumber\" style = \"font-weight: bold; text-align: right;\">Row</th><th style = \"text-align: left;\">from</th><th style = \"text-align: left;\">to</th><th style = \"text-align: left;\">correlation</th><th style = \"text-align: left;\">ligand_FC</th><th style = \"text-align: left;\">Receptor_FC</th><th style = \"text-align: left;\">pair</th></tr><tr class = \"subheader headerLastRow\"><th class = \"rowNumber\" style = \"font-weight: bold; text-align: right;\"></th><th title = \"String\" style = \"text-align: left;\">String</th><th title = \"String\" style = \"text-align: left;\">String</th><th title = \"Float64\" style = \"text-align: left;\">Float64</th><th title = \"Float64\" style = \"text-align: left;\">Float64</th><th title = \"Float64\" style = \"text-align: left;\">Float64</th><th title = \"String\" style = \"text-align: left;\">String</th></tr></thead><tbody><tr><td class = \"rowNumber\" style = \"font-weight: bold; text-align: right;\">1</td><td style = \"text-align: left;\">LGALS3</td><td style = \"text-align: left;\">ITGB4</td><td style = \"text-align: right;\">0.832963</td><td style = \"text-align: right;\">0.7695</td><td style = \"text-align: right;\">0.8609</td><td style = \"text-align: left;\">LGALS3_ITGB4</td></tr><tr><td class = \"rowNumber\" style = \"font-weight: bold; text-align: right;\">2</td><td style = \"text-align: left;\">CDHR5</td><td style = \"text-align: left;\">CDHR2</td><td style = \"text-align: right;\">0.830117</td><td style = \"text-align: right;\">0.7361</td><td style = \"text-align: right;\">0.9662</td><td style = \"text-align: left;\">CDHR5_CDHR2</td></tr><tr><td class = \"rowNumber\" style = \"font-weight: bold; text-align: right;\">3</td><td style = \"text-align: left;\">CDHR2</td><td style = \"text-align: left;\">CDHR5</td><td style = \"text-align: right;\">0.830117</td><td style = \"text-align: right;\">0.9662</td><td style = \"text-align: right;\">0.7361</td><td style = \"text-align: left;\">CDHR2_CDHR5</td></tr><tr><td class = \"rowNumber\" style = \"font-weight: bold; text-align: right;\">4</td><td style = \"text-align: left;\">HLA-E</td><td style = \"text-align: left;\">ITGA6</td><td style = \"text-align: right;\">0.780889</td><td style = \"text-align: right;\">1.1673</td><td style = \"text-align: right;\">0.7086</td><td style = \"text-align: left;\">HLA-E_ITGA6</td></tr><tr><td class = \"rowNumber\" style = \"font-weight: bold; text-align: right;\">5</td><td style = \"text-align: left;\">HLA-E</td><td style = \"text-align: left;\">PLXNB2</td><td style = \"text-align: right;\">0.779063</td><td style = \"text-align: right;\">1.1673</td><td style = \"text-align: right;\">0.7971</td><td style = \"text-align: left;\">HLA-E_PLXNB2</td></tr><tr><td class = \"rowNumber\" style = \"font-weight: bold; text-align: right;\">6</td><td style = \"text-align: left;\">COL1A1</td><td style = \"text-align: left;\">ITGA5</td><td style = \"text-align: right;\">0.764293</td><td style = \"text-align: right;\">1.9866</td><td style = \"text-align: right;\">1.872</td><td style = \"text-align: left;\">COL1A1_ITGA5</td></tr><tr><td class = \"rowNumber\" style = \"font-weight: bold; text-align: right;\">7</td><td style = \"text-align: left;\">DSC2</td><td style = \"text-align: left;\">LSR</td><td style = \"text-align: right;\">0.7638</td><td style = \"text-align: right;\">0.8149</td><td style = \"text-align: right;\">0.7539</td><td style = \"text-align: left;\">DSC2_LSR</td></tr><tr><td class = \"rowNumber\" style = \"font-weight: bold; text-align: right;\">8</td><td style = \"text-align: left;\">DSC2</td><td style = \"text-align: left;\">EPHA2</td><td style = \"text-align: right;\">0.759718</td><td style = \"text-align: right;\">0.8149</td><td style = \"text-align: right;\">0.8393</td><td style = \"text-align: left;\">DSC2_EPHA2</td></tr><tr><td class = \"rowNumber\" style = \"font-weight: bold; text-align: right;\">9</td><td style = \"text-align: left;\">GRN</td><td style = \"text-align: left;\">TNFRSF1A</td><td style = \"text-align: right;\">0.748926</td><td style = \"text-align: right;\">1.1756</td><td style = \"text-align: right;\">1.0184</td><td style = \"text-align: left;\">GRN_TNFRSF1A</td></tr><tr><td class = \"rowNumber\" style = \"font-weight: bold; text-align: right;\">10</td><td style = \"text-align: left;\">DSG2</td><td style = \"text-align: left;\">EPHA2</td><td style = \"text-align: right;\">0.737155</td><td style = \"text-align: right;\">0.7307</td><td style = \"text-align: right;\">0.8393</td><td style = \"text-align: left;\">DSG2_EPHA2</td></tr><tr><td class = \"rowNumber\" style = \"font-weight: bold; text-align: right;\">11</td><td style = \"text-align: left;\">DSG2</td><td style = \"text-align: left;\">LRP10</td><td style = \"text-align: right;\">0.735606</td><td style = \"text-align: right;\">0.7307</td><td style = \"text-align: right;\">0.9101</td><td style = \"text-align: left;\">DSG2_LRP10</td></tr><tr><td class = \"rowNumber\" style = \"font-weight: bold; text-align: right;\">12</td><td style = \"text-align: left;\">LAMC2</td><td style = \"text-align: left;\">ITGA2</td><td style = \"text-align: right;\">0.734249</td><td style = \"text-align: right;\">1.1017</td><td style = \"text-align: right;\">1.2222</td><td style = \"text-align: left;\">LAMC2_ITGA2</td></tr><tr><td class = \"rowNumber\" style = \"font-weight: bold; text-align: right;\">13</td><td style = \"text-align: left;\">DSC2</td><td style = \"text-align: left;\">DSG2</td><td style = \"text-align: right;\">0.722542</td><td style = \"text-align: right;\">0.8149</td><td style = \"text-align: right;\">0.7307</td><td style = \"text-align: left;\">DSC2_DSG2</td></tr><tr><td style = \"text-align: right;\">&vellip;</td><td style = \"text-align: right;\">&vellip;</td><td style = \"text-align: right;\">&vellip;</td><td style = \"text-align: right;\">&vellip;</td><td style = \"text-align: right;\">&vellip;</td><td style = \"text-align: right;\">&vellip;</td><td style = \"text-align: right;\">&vellip;</td></tr><tr><td class = \"rowNumber\" style = \"font-weight: bold; text-align: right;\">529</td><td style = \"text-align: left;\">PTPRC</td><td style = \"text-align: left;\">EGFR</td><td style = \"text-align: right;\">0.216559</td><td style = \"text-align: right;\">1.6397</td><td style = \"text-align: right;\">1.0176</td><td style = \"text-align: left;\">PTPRC_EGFR</td></tr><tr><td class = \"rowNumber\" style = \"font-weight: bold; text-align: right;\">530</td><td style = \"text-align: left;\">CDH5</td><td style = \"text-align: left;\">P2RX4</td><td style = \"text-align: right;\">0.21627</td><td style = \"text-align: right;\">2.243</td><td style = \"text-align: right;\">0.9859</td><td style = \"text-align: left;\">CDH5_P2RX4</td></tr><tr><td class = \"rowNumber\" style = \"font-weight: bold; text-align: right;\">531</td><td style = \"text-align: left;\">CCL28</td><td style = \"text-align: left;\">CXCR4</td><td style = \"text-align: right;\">0.212796</td><td style = \"text-align: right;\">0.6059</td><td style = \"text-align: right;\">1.2618</td><td style = \"text-align: left;\">CCL28_CXCR4</td></tr><tr><td class = \"rowNumber\" style = \"font-weight: bold; text-align: right;\">532</td><td style = \"text-align: left;\">ITGB1</td><td style = \"text-align: left;\">IGF1R</td><td style = \"text-align: right;\">0.206833</td><td style = \"text-align: right;\">1.1237</td><td style = \"text-align: right;\">0.8299</td><td style = \"text-align: left;\">ITGB1_IGF1R</td></tr><tr><td class = \"rowNumber\" style = \"font-weight: bold; text-align: right;\">533</td><td style = \"text-align: left;\">F11R</td><td style = \"text-align: left;\">PTPRB</td><td style = \"text-align: right;\">0.206814</td><td style = \"text-align: right;\">0.942</td><td style = \"text-align: right;\">1.2823</td><td style = \"text-align: left;\">F11R_PTPRB</td></tr><tr><td class = \"rowNumber\" style = \"font-weight: bold; text-align: right;\">534</td><td style = \"text-align: left;\">SERPINE1</td><td style = \"text-align: left;\">LRP1</td><td style = \"text-align: right;\">0.205949</td><td style = \"text-align: right;\">1.5213</td><td style = \"text-align: right;\">1.3051</td><td style = \"text-align: left;\">SERPINE1_LRP1</td></tr><tr><td class = \"rowNumber\" style = \"font-weight: bold; text-align: right;\">535</td><td style = \"text-align: left;\">F11R</td><td style = \"text-align: left;\">TGFBR2</td><td style = \"text-align: right;\">0.2052</td><td style = \"text-align: right;\">0.942</td><td style = \"text-align: right;\">1.4611</td><td style = \"text-align: left;\">F11R_TGFBR2</td></tr><tr><td class = \"rowNumber\" style = \"font-weight: bold; text-align: right;\">536</td><td style = \"text-align: left;\">APP</td><td style = \"text-align: left;\">SORL1</td><td style = \"text-align: right;\">0.204104</td><td style = \"text-align: right;\">0.8136</td><td style = \"text-align: right;\">0.6524</td><td style = \"text-align: left;\">APP_SORL1</td></tr><tr><td class = \"rowNumber\" style = \"font-weight: bold; text-align: right;\">537</td><td style = \"text-align: left;\">F11R</td><td style = \"text-align: left;\">ITGAL</td><td style = \"text-align: right;\">0.203744</td><td style = \"text-align: right;\">0.942</td><td style = \"text-align: right;\">1.2148</td><td style = \"text-align: left;\">F11R_ITGAL</td></tr><tr><td class = \"rowNumber\" style = \"font-weight: bold; text-align: right;\">538</td><td style = \"text-align: left;\">ITGAL</td><td style = \"text-align: left;\">F11R</td><td style = \"text-align: right;\">0.203744</td><td style = \"text-align: right;\">1.2148</td><td style = \"text-align: right;\">0.942</td><td style = \"text-align: left;\">ITGAL_F11R</td></tr><tr><td class = \"rowNumber\" style = \"font-weight: bold; text-align: right;\">539</td><td style = \"text-align: left;\">AREG</td><td style = \"text-align: left;\">ERBB2</td><td style = \"text-align: right;\">0.201982</td><td style = \"text-align: right;\">1.4834</td><td style = \"text-align: right;\">0.4776</td><td style = \"text-align: left;\">AREG_ERBB2</td></tr><tr><td class = \"rowNumber\" style = \"font-weight: bold; text-align: right;\">540</td><td style = \"text-align: left;\">LAMB2</td><td style = \"text-align: left;\">ITGB4</td><td style = \"text-align: right;\">0.201282</td><td style = \"text-align: right;\">1.6537</td><td style = \"text-align: right;\">0.8609</td><td style = \"text-align: left;\">LAMB2_ITGB4</td></tr></tbody></table></div>"
      ],
      "text/latex": [
       "\\begin{tabular}{r|cccccc}\n",
       "\t& from & to & correlation & ligand\\_FC & Receptor\\_FC & pair\\\\\n",
       "\t\\hline\n",
       "\t& String & String & Float64 & Float64 & Float64 & String\\\\\n",
       "\t\\hline\n",
       "\t1 & LGALS3 & ITGB4 & 0.832963 & 0.7695 & 0.8609 & LGALS3\\_ITGB4 \\\\\n",
       "\t2 & CDHR5 & CDHR2 & 0.830117 & 0.7361 & 0.9662 & CDHR5\\_CDHR2 \\\\\n",
       "\t3 & CDHR2 & CDHR5 & 0.830117 & 0.9662 & 0.7361 & CDHR2\\_CDHR5 \\\\\n",
       "\t4 & HLA-E & ITGA6 & 0.780889 & 1.1673 & 0.7086 & HLA-E\\_ITGA6 \\\\\n",
       "\t5 & HLA-E & PLXNB2 & 0.779063 & 1.1673 & 0.7971 & HLA-E\\_PLXNB2 \\\\\n",
       "\t6 & COL1A1 & ITGA5 & 0.764293 & 1.9866 & 1.872 & COL1A1\\_ITGA5 \\\\\n",
       "\t7 & DSC2 & LSR & 0.7638 & 0.8149 & 0.7539 & DSC2\\_LSR \\\\\n",
       "\t8 & DSC2 & EPHA2 & 0.759718 & 0.8149 & 0.8393 & DSC2\\_EPHA2 \\\\\n",
       "\t9 & GRN & TNFRSF1A & 0.748926 & 1.1756 & 1.0184 & GRN\\_TNFRSF1A \\\\\n",
       "\t10 & DSG2 & EPHA2 & 0.737155 & 0.7307 & 0.8393 & DSG2\\_EPHA2 \\\\\n",
       "\t11 & DSG2 & LRP10 & 0.735606 & 0.7307 & 0.9101 & DSG2\\_LRP10 \\\\\n",
       "\t12 & LAMC2 & ITGA2 & 0.734249 & 1.1017 & 1.2222 & LAMC2\\_ITGA2 \\\\\n",
       "\t13 & DSC2 & DSG2 & 0.722542 & 0.8149 & 0.7307 & DSC2\\_DSG2 \\\\\n",
       "\t14 & DSG2 & DSC2 & 0.722542 & 0.7307 & 0.8149 & DSG2\\_DSC2 \\\\\n",
       "\t15 & RPS19 & RPSA & 0.718279 & 0.8499 & 0.7268 & RPS19\\_RPSA \\\\\n",
       "\t16 & TNC & ITGA5 & 0.709979 & 2.8139 & 1.872 & TNC\\_ITGA5 \\\\\n",
       "\t17 & MIF & CD74 & 0.705286 & 0.9961 & 1.2571 & MIF\\_CD74 \\\\\n",
       "\t18 & DSG2 & LSR & 0.699518 & 0.7307 & 0.7539 & DSG2\\_LSR \\\\\n",
       "\t19 & CALM1 & TNFRSF1A & 0.697222 & 0.7865 & 1.0184 & CALM1\\_TNFRSF1A \\\\\n",
       "\t20 & CDH1 & DDR1 & 0.692245 & 0.8122 & 0.7374 & CDH1\\_DDR1 \\\\\n",
       "\t21 & COL4A1 & ITGB1 & 0.681179 & 2.4032 & 1.1237 & COL4A1\\_ITGB1 \\\\\n",
       "\t22 & LGALS3 & ITGB1 & 0.677309 & 0.7695 & 1.1237 & LGALS3\\_ITGB1 \\\\\n",
       "\t23 & ITGB1 & ITGA6 & 0.671693 & 1.1237 & 0.7086 & ITGB1\\_ITGA6 \\\\\n",
       "\t24 & PLAU & PLAUR & 0.665971 & 3.262 & 1.248 & PLAU\\_PLAUR \\\\\n",
       "\t$\\dots$ & $\\dots$ & $\\dots$ & $\\dots$ & $\\dots$ & $\\dots$ & $\\dots$ \\\\\n",
       "\\end{tabular}\n"
      ],
      "text/plain": [
       "\u001b[1m540×6 DataFrame\u001b[0m\n",
       "\u001b[1m Row \u001b[0m│\u001b[1m from     \u001b[0m\u001b[1m to       \u001b[0m\u001b[1m correlation \u001b[0m\u001b[1m ligand_FC \u001b[0m\u001b[1m Receptor_FC \u001b[0m\u001b[1m pair          \u001b[0m\n",
       "     │\u001b[90m String   \u001b[0m\u001b[90m String   \u001b[0m\u001b[90m Float64     \u001b[0m\u001b[90m Float64   \u001b[0m\u001b[90m Float64     \u001b[0m\u001b[90m String        \u001b[0m\n",
       "─────┼────────────────────────────────────────────────────────────────────────\n",
       "   1 │ LGALS3    ITGB4        0.832963     0.7695       0.8609  LGALS3_ITGB4\n",
       "   2 │ CDHR5     CDHR2        0.830117     0.7361       0.9662  CDHR5_CDHR2\n",
       "   3 │ CDHR2     CDHR5        0.830117     0.9662       0.7361  CDHR2_CDHR5\n",
       "   4 │ HLA-E     ITGA6        0.780889     1.1673       0.7086  HLA-E_ITGA6\n",
       "   5 │ HLA-E     PLXNB2       0.779063     1.1673       0.7971  HLA-E_PLXNB2\n",
       "   6 │ COL1A1    ITGA5        0.764293     1.9866       1.872   COL1A1_ITGA5\n",
       "   7 │ DSC2      LSR          0.7638       0.8149       0.7539  DSC2_LSR\n",
       "   8 │ DSC2      EPHA2        0.759718     0.8149       0.8393  DSC2_EPHA2\n",
       "  ⋮  │    ⋮         ⋮           ⋮           ⋮           ⋮             ⋮\n",
       " 534 │ SERPINE1  LRP1         0.205949     1.5213       1.3051  SERPINE1_LRP1\n",
       " 535 │ F11R      TGFBR2       0.2052       0.942        1.4611  F11R_TGFBR2\n",
       " 536 │ APP       SORL1        0.204104     0.8136       0.6524  APP_SORL1\n",
       " 537 │ F11R      ITGAL        0.203744     0.942        1.2148  F11R_ITGAL\n",
       " 538 │ ITGAL     F11R         0.203744     1.2148       0.942   ITGAL_F11R\n",
       " 539 │ AREG      ERBB2        0.201982     1.4834       0.4776  AREG_ERBB2\n",
       " 540 │ LAMB2     ITGB4        0.201282     1.6537       0.8609  LAMB2_ITGB4\n",
       "\u001b[36m                                                              525 rows omitted\u001b[0m"
      ]
     },
     "metadata": {},
     "output_type": "display_data"
    }
   ],
   "source": [
    "df_7 = lr_cc7[\"enriched_LRs\"]\n",
    "df_7.to"
   ]
  },
  {
   "cell_type": "code",
   "execution_count": null,
   "metadata": {},
   "outputs": [],
   "source": [
    "df_7.save"
   ]
  },
  {
   "cell_type": "code",
   "execution_count": null,
   "metadata": {},
   "outputs": [],
   "source": [
    "filter(r -> r.x1 != 0, df_7)"
   ]
  },
  {
   "cell_type": "code",
   "execution_count": 15,
   "metadata": {},
   "outputs": [
    {
     "data": {
      "text/html": [
       "<div><div style = \"float: left;\"><span>20×6 DataFrame</span></div><div style = \"clear: both;\"></div></div><div class = \"data-frame\" style = \"overflow-x: scroll;\"><table class = \"data-frame\" style = \"margin-bottom: 6px;\"><thead><tr class = \"header\"><th class = \"rowNumber\" style = \"font-weight: bold; text-align: right;\">Row</th><th style = \"text-align: left;\">from</th><th style = \"text-align: left;\">to</th><th style = \"text-align: left;\">correlation</th><th style = \"text-align: left;\">ligand_FC</th><th style = \"text-align: left;\">Receptor_FC</th><th style = \"text-align: left;\">pair</th></tr><tr class = \"subheader headerLastRow\"><th class = \"rowNumber\" style = \"font-weight: bold; text-align: right;\"></th><th title = \"String\" style = \"text-align: left;\">String</th><th title = \"String\" style = \"text-align: left;\">String</th><th title = \"Float64\" style = \"text-align: left;\">Float64</th><th title = \"Float64\" style = \"text-align: left;\">Float64</th><th title = \"Float64\" style = \"text-align: left;\">Float64</th><th title = \"String\" style = \"text-align: left;\">String</th></tr></thead><tbody><tr><td class = \"rowNumber\" style = \"font-weight: bold; text-align: right;\">1</td><td style = \"text-align: left;\">CDHR5</td><td style = \"text-align: left;\">CDHR2</td><td style = \"text-align: right;\">0.830117</td><td style = \"text-align: right;\">0.7361</td><td style = \"text-align: right;\">0.9662</td><td style = \"text-align: left;\">CDHR5_CDHR2</td></tr><tr><td class = \"rowNumber\" style = \"font-weight: bold; text-align: right;\">2</td><td style = \"text-align: left;\">CDHR2</td><td style = \"text-align: left;\">CDHR5</td><td style = \"text-align: right;\">0.830117</td><td style = \"text-align: right;\">0.9662</td><td style = \"text-align: right;\">0.7361</td><td style = \"text-align: left;\">CDHR2_CDHR5</td></tr><tr><td class = \"rowNumber\" style = \"font-weight: bold; text-align: right;\">3</td><td style = \"text-align: left;\">DSC2</td><td style = \"text-align: left;\">DSG2</td><td style = \"text-align: right;\">0.722542</td><td style = \"text-align: right;\">0.8149</td><td style = \"text-align: right;\">0.7307</td><td style = \"text-align: left;\">DSC2_DSG2</td></tr><tr><td class = \"rowNumber\" style = \"font-weight: bold; text-align: right;\">4</td><td style = \"text-align: left;\">DSG2</td><td style = \"text-align: left;\">DSC2</td><td style = \"text-align: right;\">0.722542</td><td style = \"text-align: right;\">0.7307</td><td style = \"text-align: right;\">0.8149</td><td style = \"text-align: left;\">DSG2_DSC2</td></tr><tr><td class = \"rowNumber\" style = \"font-weight: bold; text-align: right;\">5</td><td style = \"text-align: left;\">CDH1</td><td style = \"text-align: left;\">PTPRF</td><td style = \"text-align: right;\">0.605276</td><td style = \"text-align: right;\">0.8122</td><td style = \"text-align: right;\">0.7244</td><td style = \"text-align: left;\">CDH1_PTPRF</td></tr><tr><td class = \"rowNumber\" style = \"font-weight: bold; text-align: right;\">6</td><td style = \"text-align: left;\">PTPRF</td><td style = \"text-align: left;\">CDH1</td><td style = \"text-align: right;\">0.605276</td><td style = \"text-align: right;\">0.7244</td><td style = \"text-align: right;\">0.8122</td><td style = \"text-align: left;\">PTPRF_CDH1</td></tr><tr><td class = \"rowNumber\" style = \"font-weight: bold; text-align: right;\">7</td><td style = \"text-align: left;\">F11R</td><td style = \"text-align: left;\">ITGB2</td><td style = \"text-align: right;\">0.55938</td><td style = \"text-align: right;\">0.942</td><td style = \"text-align: right;\">2.1694</td><td style = \"text-align: left;\">F11R_ITGB2</td></tr><tr><td class = \"rowNumber\" style = \"font-weight: bold; text-align: right;\">8</td><td style = \"text-align: left;\">ITGB2</td><td style = \"text-align: left;\">F11R</td><td style = \"text-align: right;\">0.55938</td><td style = \"text-align: right;\">2.1694</td><td style = \"text-align: right;\">0.942</td><td style = \"text-align: left;\">ITGB2_F11R</td></tr><tr><td class = \"rowNumber\" style = \"font-weight: bold; text-align: right;\">9</td><td style = \"text-align: left;\">ITGB2</td><td style = \"text-align: left;\">ICAM1</td><td style = \"text-align: right;\">0.463724</td><td style = \"text-align: right;\">2.1694</td><td style = \"text-align: right;\">1.9715</td><td style = \"text-align: left;\">ITGB2_ICAM1</td></tr><tr><td class = \"rowNumber\" style = \"font-weight: bold; text-align: right;\">10</td><td style = \"text-align: left;\">ICAM1</td><td style = \"text-align: left;\">ITGB2</td><td style = \"text-align: right;\">0.463724</td><td style = \"text-align: right;\">1.9715</td><td style = \"text-align: right;\">2.1694</td><td style = \"text-align: left;\">ICAM1_ITGB2</td></tr><tr><td class = \"rowNumber\" style = \"font-weight: bold; text-align: right;\">11</td><td style = \"text-align: left;\">PTPRC</td><td style = \"text-align: left;\">CD2</td><td style = \"text-align: right;\">0.394723</td><td style = \"text-align: right;\">1.6397</td><td style = \"text-align: right;\">1.6859</td><td style = \"text-align: left;\">PTPRC_CD2</td></tr><tr><td class = \"rowNumber\" style = \"font-weight: bold; text-align: right;\">12</td><td style = \"text-align: left;\">CD2</td><td style = \"text-align: left;\">PTPRC</td><td style = \"text-align: right;\">0.394723</td><td style = \"text-align: right;\">1.6859</td><td style = \"text-align: right;\">1.6397</td><td style = \"text-align: left;\">CD2_PTPRC</td></tr><tr><td class = \"rowNumber\" style = \"font-weight: bold; text-align: right;\">13</td><td style = \"text-align: left;\">JAM3</td><td style = \"text-align: left;\">ITGB2</td><td style = \"text-align: right;\">0.317787</td><td style = \"text-align: right;\">2.1433</td><td style = \"text-align: right;\">2.1694</td><td style = \"text-align: left;\">JAM3_ITGB2</td></tr><tr><td class = \"rowNumber\" style = \"font-weight: bold; text-align: right;\">14</td><td style = \"text-align: left;\">ITGB2</td><td style = \"text-align: left;\">JAM3</td><td style = \"text-align: right;\">0.317787</td><td style = \"text-align: right;\">2.1694</td><td style = \"text-align: right;\">2.1433</td><td style = \"text-align: left;\">ITGB2_JAM3</td></tr><tr><td class = \"rowNumber\" style = \"font-weight: bold; text-align: right;\">15</td><td style = \"text-align: left;\">PVR</td><td style = \"text-align: left;\">CDH1</td><td style = \"text-align: right;\">0.276865</td><td style = \"text-align: right;\">0.7666</td><td style = \"text-align: right;\">0.8122</td><td style = \"text-align: left;\">PVR_CDH1</td></tr><tr><td class = \"rowNumber\" style = \"font-weight: bold; text-align: right;\">16</td><td style = \"text-align: left;\">CDH1</td><td style = \"text-align: left;\">PVR</td><td style = \"text-align: right;\">0.276865</td><td style = \"text-align: right;\">0.8122</td><td style = \"text-align: right;\">0.7666</td><td style = \"text-align: left;\">CDH1_PVR</td></tr><tr><td class = \"rowNumber\" style = \"font-weight: bold; text-align: right;\">17</td><td style = \"text-align: left;\">ICAM2</td><td style = \"text-align: left;\">ITGB2</td><td style = \"text-align: right;\">0.248302</td><td style = \"text-align: right;\">1.8473</td><td style = \"text-align: right;\">2.1694</td><td style = \"text-align: left;\">ICAM2_ITGB2</td></tr><tr><td class = \"rowNumber\" style = \"font-weight: bold; text-align: right;\">18</td><td style = \"text-align: left;\">ITGB2</td><td style = \"text-align: left;\">ICAM2</td><td style = \"text-align: right;\">0.248302</td><td style = \"text-align: right;\">2.1694</td><td style = \"text-align: right;\">1.8473</td><td style = \"text-align: left;\">ITGB2_ICAM2</td></tr><tr><td class = \"rowNumber\" style = \"font-weight: bold; text-align: right;\">19</td><td style = \"text-align: left;\">F11R</td><td style = \"text-align: left;\">ITGAL</td><td style = \"text-align: right;\">0.203744</td><td style = \"text-align: right;\">0.942</td><td style = \"text-align: right;\">1.2148</td><td style = \"text-align: left;\">F11R_ITGAL</td></tr><tr><td class = \"rowNumber\" style = \"font-weight: bold; text-align: right;\">20</td><td style = \"text-align: left;\">ITGAL</td><td style = \"text-align: left;\">F11R</td><td style = \"text-align: right;\">0.203744</td><td style = \"text-align: right;\">1.2148</td><td style = \"text-align: right;\">0.942</td><td style = \"text-align: left;\">ITGAL_F11R</td></tr></tbody></table></div>"
      ],
      "text/latex": [
       "\\begin{tabular}{r|cccccc}\n",
       "\t& from & to & correlation & ligand\\_FC & Receptor\\_FC & pair\\\\\n",
       "\t\\hline\n",
       "\t& String & String & Float64 & Float64 & Float64 & String\\\\\n",
       "\t\\hline\n",
       "\t1 & CDHR5 & CDHR2 & 0.830117 & 0.7361 & 0.9662 & CDHR5\\_CDHR2 \\\\\n",
       "\t2 & CDHR2 & CDHR5 & 0.830117 & 0.9662 & 0.7361 & CDHR2\\_CDHR5 \\\\\n",
       "\t3 & DSC2 & DSG2 & 0.722542 & 0.8149 & 0.7307 & DSC2\\_DSG2 \\\\\n",
       "\t4 & DSG2 & DSC2 & 0.722542 & 0.7307 & 0.8149 & DSG2\\_DSC2 \\\\\n",
       "\t5 & CDH1 & PTPRF & 0.605276 & 0.8122 & 0.7244 & CDH1\\_PTPRF \\\\\n",
       "\t6 & PTPRF & CDH1 & 0.605276 & 0.7244 & 0.8122 & PTPRF\\_CDH1 \\\\\n",
       "\t7 & F11R & ITGB2 & 0.55938 & 0.942 & 2.1694 & F11R\\_ITGB2 \\\\\n",
       "\t8 & ITGB2 & F11R & 0.55938 & 2.1694 & 0.942 & ITGB2\\_F11R \\\\\n",
       "\t9 & ITGB2 & ICAM1 & 0.463724 & 2.1694 & 1.9715 & ITGB2\\_ICAM1 \\\\\n",
       "\t10 & ICAM1 & ITGB2 & 0.463724 & 1.9715 & 2.1694 & ICAM1\\_ITGB2 \\\\\n",
       "\t11 & PTPRC & CD2 & 0.394723 & 1.6397 & 1.6859 & PTPRC\\_CD2 \\\\\n",
       "\t12 & CD2 & PTPRC & 0.394723 & 1.6859 & 1.6397 & CD2\\_PTPRC \\\\\n",
       "\t13 & JAM3 & ITGB2 & 0.317787 & 2.1433 & 2.1694 & JAM3\\_ITGB2 \\\\\n",
       "\t14 & ITGB2 & JAM3 & 0.317787 & 2.1694 & 2.1433 & ITGB2\\_JAM3 \\\\\n",
       "\t15 & PVR & CDH1 & 0.276865 & 0.7666 & 0.8122 & PVR\\_CDH1 \\\\\n",
       "\t16 & CDH1 & PVR & 0.276865 & 0.8122 & 0.7666 & CDH1\\_PVR \\\\\n",
       "\t17 & ICAM2 & ITGB2 & 0.248302 & 1.8473 & 2.1694 & ICAM2\\_ITGB2 \\\\\n",
       "\t18 & ITGB2 & ICAM2 & 0.248302 & 2.1694 & 1.8473 & ITGB2\\_ICAM2 \\\\\n",
       "\t19 & F11R & ITGAL & 0.203744 & 0.942 & 1.2148 & F11R\\_ITGAL \\\\\n",
       "\t20 & ITGAL & F11R & 0.203744 & 1.2148 & 0.942 & ITGAL\\_F11R \\\\\n",
       "\\end{tabular}\n"
      ],
      "text/plain": [
       "\u001b[1m20×6 DataFrame\u001b[0m\n",
       "\u001b[1m Row \u001b[0m│\u001b[1m from   \u001b[0m\u001b[1m to     \u001b[0m\u001b[1m correlation \u001b[0m\u001b[1m ligand_FC \u001b[0m\u001b[1m Receptor_FC \u001b[0m\u001b[1m pair        \u001b[0m\n",
       "     │\u001b[90m String \u001b[0m\u001b[90m String \u001b[0m\u001b[90m Float64     \u001b[0m\u001b[90m Float64   \u001b[0m\u001b[90m Float64     \u001b[0m\u001b[90m String      \u001b[0m\n",
       "─────┼──────────────────────────────────────────────────────────────────\n",
       "   1 │ CDHR5   CDHR2      0.830117     0.7361       0.9662  CDHR5_CDHR2\n",
       "   2 │ CDHR2   CDHR5      0.830117     0.9662       0.7361  CDHR2_CDHR5\n",
       "   3 │ DSC2    DSG2       0.722542     0.8149       0.7307  DSC2_DSG2\n",
       "   4 │ DSG2    DSC2       0.722542     0.7307       0.8149  DSG2_DSC2\n",
       "   5 │ CDH1    PTPRF      0.605276     0.8122       0.7244  CDH1_PTPRF\n",
       "   6 │ PTPRF   CDH1       0.605276     0.7244       0.8122  PTPRF_CDH1\n",
       "   7 │ F11R    ITGB2      0.55938      0.942        2.1694  F11R_ITGB2\n",
       "   8 │ ITGB2   F11R       0.55938      2.1694       0.942   ITGB2_F11R\n",
       "  ⋮  │   ⋮       ⋮          ⋮           ⋮           ⋮            ⋮\n",
       "  14 │ ITGB2   JAM3       0.317787     2.1694       2.1433  ITGB2_JAM3\n",
       "  15 │ PVR     CDH1       0.276865     0.7666       0.8122  PVR_CDH1\n",
       "  16 │ CDH1    PVR        0.276865     0.8122       0.7666  CDH1_PVR\n",
       "  17 │ ICAM2   ITGB2      0.248302     1.8473       2.1694  ICAM2_ITGB2\n",
       "  18 │ ITGB2   ICAM2      0.248302     2.1694       1.8473  ITGB2_ICAM2\n",
       "  19 │ F11R    ITGAL      0.203744     0.942        1.2148  F11R_ITGAL\n",
       "  20 │ ITGAL   F11R       0.203744     1.2148       0.942   ITGAL_F11R\n",
       "\u001b[36m                                                          5 rows omitted\u001b[0m"
      ]
     },
     "metadata": {},
     "output_type": "display_data"
    }
   ],
   "source": [
    "duplicates = find_duplicate_rows(lr_cc7[\"enriched_LRs\"], \"correlation\")"
   ]
  },
  {
   "cell_type": "code",
   "execution_count": 17,
   "metadata": {},
   "outputs": [],
   "source": [
    "r_pairs = [\"LGALS3_ITGB4\", \"CDHR5_CDHR2\", \"HLA-E_ITGA6\", \"HLA-E_PLXNB2\", \"COL1A1_ITGA5\", \"DSC2_LSR\", \"DSC2_EPHA2\", \"GRN_TNFRSF1A\", \"DSG2_EPHA2\", \"DSG2_LRP10\", \"LAMC2_ITGA2\", \"DSG2_DSC2\", \"RPS19_RPSA\", \"TNC_ITGA5\", \"MIF_CD74\", \"DSG2_LSR\", \"CALM1_TNFRSF1A\", \"CDH1_DDR1\", \"ITGB1_ITGA6\", \"PLAU_PLAUR\", \"GRN_SORT1\", \"LAMC2_ITGB4\", \"TNC_ITGA2\", \"CALR_ITGA3\", \"LGALS3_NPTN\", \"ITGB1_CDH17\", \"PSAP_SORT1\", \"PLXNB2_MST1R\", \"CALR_ITGAV\", \"HLA-A_ERBB3\", \"LGALS3_TFRC\", \"MMP9_ITGA5\", \"LAMC2_ITGA6\", \"EFNA2_EPHA2\", \"ADAM9_ITGA6\", \"CCL2_ACKR1\", \"EFNA1_EPHA2\", \"ITGB1_ITGA5\", \"RTN4_EPHA2\", \"ITGB1_CD151\", \"CEACAM1_INSR\", \"ADAM9_ITGAV\", \"CDH1_PTPRF\", \"LGALS3_CLEC7A\", \"EFNB2_EPHA2\", \"HSP90B1_LDLR\", \"ANXA1_CD44\", \"APP_ITGA6\", \"EFNB1_EPHA2\", \"MDK_LRP1\", \"CALR_ITGA5\", \"HSPG2_FLT1\", \"ITGB1_RACK1\", \"DSG2_ITPR3\", \"ITGB1_PLAUR\", \"VEGFA_ITGAV\", \"ADAM9_ITGA3\", \"ITGB1_ITGAV\", \"APOE_SDC1\", \"ITGB1_ITGA3\", \"ITGB1_EPHA2\", \"ITGB1_ENG\", \"ITGB2_F11R\", \"COL1A1_CD36\", \"PSAP_LRP1\", \"CLSTN1_IGF2R\", \"PTPRC_CD44\", \"CALR_LRP1\", \"LAMC2_ITGA3\", \"PLXNB2_MET\", \"CDH1_MET\", \"MDK_SDC4\", \"PECAM1_ITGA5\", \"APP_SDC1\", \"CALR_CD44\", \"DSC2_INSR\", \"ITGB1_FAT1\", \"LAMC3_ITGA6\", \"CLSTN1_TFRC\", \"RTN4_CD44\", \"ADAM9_ITGB5\", \"HLA-E_PLXNA3\", \"APP_TNFRSF14\", \"CLSTN1_LRP1\", \"CDH1_RACK1\", \"MIF_TNFRSF14\", \"ITGB2_PLAUR\", \"LAMC2_CD151\", \"TNC_SDC1\", \"PLAU_CD44\", \"COL1A1_CD44\", \"ICAM1_ITGAX\", \"ANXA1_ACKR3\", \"VEGFA_FLT1\", \"TNC_ITGB6\", \"CALM1_INSR\", \"MDK_SDC1\", \"LGALS3_GPR35\", \"ITGB1_IGF2R\", \"CDH1_SLC1A5\", \"ITGB1_ITGA1\", \"HSPG2_ITGA2\", \"ITGB1_PTK2B\", \"ARF1_INSR\", \"CDH1_NCSTN\", \"GSTP1_CD44\", \"ANXA1_MET\", \"ANXA1_F2R\", \"PTPRC_CXCR4\", \"ITGB1_SDC1\", \"TNC_ITGAX\", \"LAMB1_ITGA6\", \"DSG2_FZD5\", \"ITGB1_CD46\", \"APOE_SDC4\", \"CDH1_ITGB7\", \"ITGB1_CD47\", \"CALR_NCSTN\", \"CALR_LGR4\", \"LAMB1_ITGA1\", \"CEACAM1_PTPN6\", \"APP_F2R\", \"HSPG2_LRP1\", \"ICAM1_IL2RG\", \"CD99_EPHA2\", \"COL1A1_SDC1\", \"HLA-DRA_CD4\", \"LIPH_LRP5\", \"TNC_ITGAV\", \"HSP90B1_LRP1\", \"NECTIN2_TNFRSF12A\", \"CALR_LRP5\", \"DSC2_FZD5\", \"ITGB2_ICAM1\", \"ITGB1_NCSTN\", \"TNFSF13_TNFRSF1A\", \"COL4A1_ITGA1\", \"PTPRF_RACK1\", \"CXCL3_ACKR3\", \"LGALS3_FCGR2A\", \"CLSTN1_CD47\", \"PECAM1_ITGAV\", \"RPS19_CD4\", \"PTPRF_MET\", \"EFNB2_SDC1\", \"ICAM1_CSF2RB\", \"A2M_LRP1\", \"APOE_LRP1\", \"FN1_RPSA\", \"ITGB1_SLC1A5\", \"CALM1_VIPR1\", \"PTPRF_INSR\", \"COL1A1_ITGAV\", \"HSPG2_KDR\", \"CDH1_KDR\", \"BMP2_ENG\", \"VEGFA_PTK2B\", \"MMP9_CD44\", \"ITGB1_ITGA8\", \"CXCL9_CXCR4\", \"COL1A1_ITGA2\", \"CDH1_EGFR\", \"GUCA2A_GUCY2C\", \"APOE_LDLR\", \"PIK3CB_FCGR3A\", \"VWF_ITGB5\", \"CCL5_CDH1\", \"CXCL9_BDKRB2\", \"ARF1_CD44\", \"DSC2_DLG1\", \"LAMC3_ITGAV\", \"TNFSF10_PIK3CB\", \"ITGB1_ITGA2\", \"APOE_SDC3\", \"ARF1_CD4\", \"CXCL9_LPAR2\", \"LRPAP1_SORT1\", \"TGFB1_ACVRL1\", \"TNFSF13_TNFRSF14\", \"SAA1_F2RL1\", \"NID1_NOTCH2\", \"CALR_IL7R\", \"ANXA1_C3AR1\", \"HSP90B1_TNFRSF1B\", \"LGALS3_ITGA2\", \"LAMB1_ITGA3\", \"BMP2_BMPR2\", \"COL1A1_ITGA1\", \"ANXA1_BDKRB2\", \"PTPRF_ERBB2\", \"APP_EPHA2\", \"NID1_NOTCH3\", \"HLA-DMA_CD4\", \"CALM1_RPSA\", \"LRPAP1_LDLR\", \"APP_TNFRSF21\", \"LAMC3_ITGB4\", \"DSG2_EGFR\", \"HSP90B1_EGFR\", \"APP_F2RL1\", \"GSTP1_LRP5\", \"COL1A1_ITGA3\", \"DSG2_CD44\", \"DSG2_INSR\", \"LGALS3_PTPRK\", \"CD99_INSR\", \"EFNB2_INSR\", \"CDH5_TGFBR2\", \"SERPINE1_PLAUR\", \"DSG2_PDGFRA\", \"APP_BDKRB2\", \"ITGA4_CXCR4\", \"PTPRF_PTPRA\", \"GRN_EGFR\", \"LAMB1_ITGB4\", \"F11R_TGFBR1\", \"PTPRC_CD2\", \"ARF1_LRP5\", \"EFNB2_FZD5\", \"CALR_EGFR\", \"APP_ACKR3\", \"HBEGF_CD44\", \"GSTP1_IL7R\", \"SERPING1_LRP1\", \"ITGB1_CSF2RB\", \"CCL5_SDC1\", \"LAMB1_SDC1\", \"TGFB1_ITGAV\", \"CLSTN1_M6PR\", \"AGT_F2R\", \"APOE_LRP5\", \"LRPAP1_LRP1\", \"ITGB2_ITGAX\", \"CEACAM1_EGFR\", \"CXCL10_CXCR4\", \"HLA-F_CD8A\", \"SAA1_F2R\", \"APP_TGFBR2\", \"ITGB1_DAB2\", \"ANXA1_F2RL1\", \"ICAM1_IL2RA\", \"PSEN1_NCSTN\", \"ARF1_PLD2\", \"LAMC3_ITGA3\", \"TGFB1_VDR\", \"ITGB1_ITGAX\", \"CXCL9_C3AR1\", \"COPA_NOTCH1\", \"ADM_PTGER4\", \"PLXNB2_PTPRK\", \"COL18A1_ITGA5\", \"JAG1_CD46\", \"PCDH1_DERL1\", \"PTPRC_MET\", \"APOE_SORL1\", \"SERPINA1_LRP1\", \"AGRN_LRP1\", \"CDH1_ERBB2\", \"WNT5A_SCARB2\", \"ADAM15_ITGA5\", \"HMGB2_ITPR3\", \"SEMA4D_PLXNB2\", \"NRG1_LSR\", \"MDK_SDC3\", \"CCL5_SDC4\", \"APP_CD36\", \"ITGB1_ITGA4\", \"PECAM1_ACKR3\", \"ANXA1_FPR3\", \"EFNB1_FZD5\", \"EFNB1_ERBB2\", \"VEGFA_PDGFRA\", \"MDK_PTPRB\", \"TGFB1_ENG\", \"COPA_SORT1\", \"TIMP1_LRP1\", \"PSAP_ERBB2\", \"CDH1_PKD1\", \"DSG2_SEC63\", \"NID1_ITGAV\", \"NENF_SEC63\", \"COL18A1_FLT1\", \"EFNB1_INSR\", \"PECAM1_SDC4\", \"CALM1_TNFRSF1B\", \"APP_NCSTN\", \"CALR_FAS\", \"PLAU_IGF2R\", \"DSG2_CXCR4\", \"CCL5_CXCR4\", \"SAA1_PTAFR\", \"NAMPT_ANXA6\", \"PIK3CB_ITGB4\", \"ITGB1_DAG1\", \"DSG2_DLG1\", \"LTB_TNFRSF1A\", \"CXCL10_BDKRB2\", \"SERPINA1_SDC2\", \"ADAM17_TNFRSF1A\", \"ARF1_MYLK\", \"ITGB2_ITGAL\", \"COL18A1_ITGB5\", \"A2M_TNFRSF14\", \"SAA1_C3AR1\", \"TGFB1_ITGB1\", \"HBEGF_ERBB3\", \"APP_HRH1\", \"DSC2_SEC63\", \"APOE_SDC2\", \"PIK3CB_FCGR2A\", \"ITGB1_CD36\", \"ITGB1_JAM3\", \"COL18A1_ITGA3\", \"GRN_TNFRSF1B\", \"LGALS3_TGFBR2\", \"APP_GPC1\", \"LAMC3_CD44\", \"SAA1_SELENOS\", \"ITGB1_PDGFRB\", \"FN1_CD44\", \"ITGB2_EGFR\", \"LRPAP1_SORL1\", \"APP_LRP1\", \"PECAM1_SDC1\", \"GMFB_ITPR3\", \"CXCL16_C3AR1\", \"LAMB1_ITGAV\", \"PIK3CB_PDGFRA\", \"TGFB1_F11R\", \"GSTP1_MYLK\", \"ITGA4_RPSA\", \"PDGFA_PDGFRA\", \"COL18A1_ITGAV\", \"CXCL16_LPAR2\", \"ANXA1_EGFR\", \"APP_C5AR1\", \"LAMB1_PTPRF\", \"SECTM1_CD7\", \"PSEN1_DAG1\", \"COPA_EGFR\", \"ITGB2_JAM3\", \"GAS6_AXL\", \"LAMB1_ITGA2\", \"MANF_SEC63\", \"LAMB2_RPSA\", \"COPA_SPHK1\", \"SERPINE2_LRP1\", \"CALR_MYLK\", \"VEGFB_ITGB1\", \"NAMPT_CUL5\", \"PSEN1_NOTCH1\", \"CXCL3_BDKRB2\", \"CCL5_BDKRB2\", \"COPA_NCSTN\", \"ITGA4_CD44\", \"TGFB1_ITGB5\", \"HMGB1_TLR2\", \"CD99_FZD5\", \"CXCL16_ACKR3\", \"LAMB2_ITGA6\", \"HMGB2_CD44\", \"WNT5A_TFRC\", \"GRN_CFTR\", \"LAMB1_SDC2\", \"HMGB2_DSG2\", \"AREG_ERBB3\", \"TGFB1_TGFBR2\", \"ANXA1_PTPRF\", \"CCL28_C3AR1\", \"TGFB1_ITGB6\", \"HSP90B1_ERBB2\", \"ANXA1_CD4\", \"GSTP1_FAS\", \"ADAM17_ITGA5\", \"CALM1_EGFR\", \"AGT_F2RL1\", \"PTPRC_IFNAR1\", \"VEGFA_NRP1\", \"CXCL10_C3AR1\", \"ADM_RAMP3\", \"PLAT_LRP1\", \"CXCL16_CXCR4\", \"NAMPT_IGF1R\", \"ARF1_FAS\", \"CXCL14_CXCR4\", \"PIK3CB_ERBB3\", \"F11R_JAM3\", \"GPNMB_EGFR\", \"CDH5_ACVRL1\", \"ANXA1_FAS\", \"CD320_TGFBR2\", \"DSG2_DAB2\", \"CALM1_MYLK\", \"CDH1_ITGAE\", \"CXCL16_BDKRB2\", \"HSPG2_DAG1\", \"VEGFA_AXL\", \"ICAM2_CD44\", \"CXCL3_C3AR1\", \"PIK3CB_TGFBR2\", \"WNT5A_LDLR\", \"ANXA1_CXCR4\", \"PSEN1_TGFBR1\", \"PTPRC_INSR\", \"VWF_ITGAV\", \"VEGFB_FAT1\", \"VEGFA_EPHB2\", \"EFNA1_TGFBR1\", \"PVR_CDH1\", \"AIMP1_RACK1\", \"COL1A1_DDR1\", \"PTPRC_ERBB2\", \"CXCL12_S1PR1\", \"CALM2_MYLK\", \"COPA_PDGFRB\", \"PSEN1_NOTCH2\", \"APP_C3AR1\", \"COL18A1_KDR\", \"APP_CXCR4\", \"HMGB1_TLR4\", \"CDH1_PTPRM\", \"DSC2_RYK\", \"COPA_CD8A\", \"FBN1_CLSTN1\", \"ADM_CALCRL\", \"AGT_ATP6AP2\", \"PTPRF_EGFR\", \"CSF1_CSF1R\", \"VEGFA_PIK3CB\", \"SAA1_BDKRB2\", \"JAG1_LRP1\", \"CCL5_C3AR1\", \"PIK3CB_IL2RG\", \"CDH1_CFTR\", \"PIK3CB_AXL\", \"APP_EDNRB\", \"ADM_VIPR1\", \"CCL28_C5AR1\", \"HDGF_FAS\", \"AREG_EGFR\", \"NAMPT_INSR\", \"VEGFA_PTPRB\", \"ITGB2_ICAM2\", \"LAMB1_FAS\", \"CXCL9_ACKR3\", \"YARS_RPSA\", \"CLSTN1_PRNP\", \"CXCL16_C5AR1\", \"TNFSF10_TNFRSF10B\", \"ADAM17_TNFRSF1B\", \"EFNA2_TGFBR1\", \"APP_LPAR2\", \"EFNB2_EPHB2\", \"FN1_EGFR\", \"PECAM1_CXCR4\", \"PTPRF_TGFBR2\", \"ADM_GIPR\", \"PLAU_LRP1\", \"EFNB1_SDC2\", \"TNFSF13_SDC2\", \"PDGFA_PDGFRB\", \"TGFB1_SDC2\", \"ITGA4_TFRC\", \"SAA1_ACKR3\", \"EFNA1_EPHB2\", \"NRG1_ERBB3\", \"CALM3_MYLK\", \"ITGB1_ITGA9\", \"ANXA1_C5AR1\", \"THBS1_LRP1\", \"SAA1_CXCR4\", \"OCLN_TGFBR2\", \"AGT_ACKR3\", \"HMGB1_AGTRAP\", \"BMP2_NEO1\", \"APP_IGF1R\", \"PTPRC_EGFR\", \"CDH5_P2RX4\", \"CCL28_CXCR4\", \"ITGB1_IGF1R\", \"F11R_PTPRB\", \"SERPINE1_LRP1\", \"F11R_TGFBR2\", \"APP_SORL1\", \"ITGAL_F11R\", \"AREG_ERBB2\", \"LAMB2_ITGB4\"]\n",
    "j_pairs = lr_cc7[\"enriched_LRs\"].pair;"
   ]
  },
  {
   "cell_type": "code",
   "execution_count": 21,
   "metadata": {},
   "outputs": [],
   "source": [
    "not_in_j = setdiff(r_pairs, j_pairs)\n",
    "in_both = intersect(r_pairs, j_pairs)\n",
    "not_in_j_reversed = map(x -> string(split(x, \"_\")[2], \"_\", split(x, \"_\")[1]), not_in_j);"
   ]
  },
  {
   "cell_type": "code",
   "execution_count": 22,
   "metadata": {},
   "outputs": [
    {
     "data": {
      "text/plain": [
       "43-element Vector{String}:\n",
       " \"COL4A1_ITGB1\"\n",
       " \"LGALS3_ITGB1\"\n",
       " \"HSP90B1_ITGB1\"\n",
       " \"ADAM9_CDH1\"\n",
       " \"HLA-DRA_PTPRC\"\n",
       " \"AREG_ICAM1\"\n",
       " \"HSPG2_ITGB1\"\n",
       " \"ADAM9_ITGB1\"\n",
       " \"PSEN1_CDH1\"\n",
       " \"RTN4_CD99\"\n",
       " ⋮\n",
       " \"NPNT_ITGB1\"\n",
       " \"ANXA1_ITGA4\"\n",
       " \"ADAM17_ITGB1\"\n",
       " \"FBN1_ITGB1\"\n",
       " \"LAMB2_ITGB1\"\n",
       " \"ICAM3_ITGB2\"\n",
       " \"PTPRC_ITGAL\"\n",
       " \"EFNB1_CD99\"\n",
       " \"THBS1_ITGB1\""
      ]
     },
     "metadata": {},
     "output_type": "display_data"
    }
   ],
   "source": [
    "j_unique = setdiff(setdiff(j_pairs, r_pairs), duplicates.pair)"
   ]
  },
  {
   "cell_type": "code",
   "execution_count": 26,
   "metadata": {},
   "outputs": [
    {
     "data": {
      "text/plain": [
       "540-element BitVector:\n",
       " 0\n",
       " 0\n",
       " 0\n",
       " 0\n",
       " 0\n",
       " 0\n",
       " 0\n",
       " 0\n",
       " 0\n",
       " 0\n",
       " ⋮\n",
       " 0\n",
       " 0\n",
       " 0\n",
       " 0\n",
       " 0\n",
       " 0\n",
       " 0\n",
       " 0\n",
       " 0"
      ]
     },
     "metadata": {},
     "output_type": "display_data"
    }
   ],
   "source": [
    "in.(df_7.pair, Ref(j_unique))"
   ]
  },
  {
   "cell_type": "code",
   "execution_count": 29,
   "metadata": {},
   "outputs": [
    {
     "data": {
      "text/html": [
       "<div><div style = \"float: left;\"><span>43×6 DataFrame</span></div><div style = \"float: right;\"><span style = \"font-style: italic;\">18 rows omitted</span></div><div style = \"clear: both;\"></div></div><div class = \"data-frame\" style = \"overflow-x: scroll;\"><table class = \"data-frame\" style = \"margin-bottom: 6px;\"><thead><tr class = \"header\"><th class = \"rowNumber\" style = \"font-weight: bold; text-align: right;\">Row</th><th style = \"text-align: left;\">from</th><th style = \"text-align: left;\">to</th><th style = \"text-align: left;\">correlation</th><th style = \"text-align: left;\">ligand_FC</th><th style = \"text-align: left;\">Receptor_FC</th><th style = \"text-align: left;\">pair</th></tr><tr class = \"subheader headerLastRow\"><th class = \"rowNumber\" style = \"font-weight: bold; text-align: right;\"></th><th title = \"String\" style = \"text-align: left;\">String</th><th title = \"String\" style = \"text-align: left;\">String</th><th title = \"Float64\" style = \"text-align: left;\">Float64</th><th title = \"Float64\" style = \"text-align: left;\">Float64</th><th title = \"Float64\" style = \"text-align: left;\">Float64</th><th title = \"String\" style = \"text-align: left;\">String</th></tr></thead><tbody><tr><td class = \"rowNumber\" style = \"font-weight: bold; text-align: right;\">1</td><td style = \"text-align: left;\">COL4A1</td><td style = \"text-align: left;\">ITGB1</td><td style = \"text-align: right;\">0.681179</td><td style = \"text-align: right;\">2.4032</td><td style = \"text-align: right;\">1.1237</td><td style = \"text-align: left;\">COL4A1_ITGB1</td></tr><tr><td class = \"rowNumber\" style = \"font-weight: bold; text-align: right;\">2</td><td style = \"text-align: left;\">LGALS3</td><td style = \"text-align: left;\">ITGB1</td><td style = \"text-align: right;\">0.677309</td><td style = \"text-align: right;\">0.7695</td><td style = \"text-align: right;\">1.1237</td><td style = \"text-align: left;\">LGALS3_ITGB1</td></tr><tr><td class = \"rowNumber\" style = \"font-weight: bold; text-align: right;\">3</td><td style = \"text-align: left;\">HSP90B1</td><td style = \"text-align: left;\">ITGB1</td><td style = \"text-align: right;\">0.64627</td><td style = \"text-align: right;\">0.9562</td><td style = \"text-align: right;\">1.1237</td><td style = \"text-align: left;\">HSP90B1_ITGB1</td></tr><tr><td class = \"rowNumber\" style = \"font-weight: bold; text-align: right;\">4</td><td style = \"text-align: left;\">ADAM9</td><td style = \"text-align: left;\">CDH1</td><td style = \"text-align: right;\">0.63985</td><td style = \"text-align: right;\">0.9508</td><td style = \"text-align: right;\">0.8122</td><td style = \"text-align: left;\">ADAM9_CDH1</td></tr><tr><td class = \"rowNumber\" style = \"font-weight: bold; text-align: right;\">5</td><td style = \"text-align: left;\">HLA-DRA</td><td style = \"text-align: left;\">PTPRC</td><td style = \"text-align: right;\">0.634468</td><td style = \"text-align: right;\">1.2791</td><td style = \"text-align: right;\">1.6397</td><td style = \"text-align: left;\">HLA-DRA_PTPRC</td></tr><tr><td class = \"rowNumber\" style = \"font-weight: bold; text-align: right;\">6</td><td style = \"text-align: left;\">AREG</td><td style = \"text-align: left;\">ICAM1</td><td style = \"text-align: right;\">0.624456</td><td style = \"text-align: right;\">1.4834</td><td style = \"text-align: right;\">1.9715</td><td style = \"text-align: left;\">AREG_ICAM1</td></tr><tr><td class = \"rowNumber\" style = \"font-weight: bold; text-align: right;\">7</td><td style = \"text-align: left;\">HSPG2</td><td style = \"text-align: left;\">ITGB1</td><td style = \"text-align: right;\">0.62099</td><td style = \"text-align: right;\">1.3576</td><td style = \"text-align: right;\">1.1237</td><td style = \"text-align: left;\">HSPG2_ITGB1</td></tr><tr><td class = \"rowNumber\" style = \"font-weight: bold; text-align: right;\">8</td><td style = \"text-align: left;\">ADAM9</td><td style = \"text-align: left;\">ITGB1</td><td style = \"text-align: right;\">0.60568</td><td style = \"text-align: right;\">0.9508</td><td style = \"text-align: right;\">1.1237</td><td style = \"text-align: left;\">ADAM9_ITGB1</td></tr><tr><td class = \"rowNumber\" style = \"font-weight: bold; text-align: right;\">9</td><td style = \"text-align: left;\">PSEN1</td><td style = \"text-align: left;\">CDH1</td><td style = \"text-align: right;\">0.573752</td><td style = \"text-align: right;\">0.7368</td><td style = \"text-align: right;\">0.8122</td><td style = \"text-align: left;\">PSEN1_CDH1</td></tr><tr><td class = \"rowNumber\" style = \"font-weight: bold; text-align: right;\">10</td><td style = \"text-align: left;\">RTN4</td><td style = \"text-align: left;\">CD99</td><td style = \"text-align: right;\">0.56588</td><td style = \"text-align: right;\">0.8991</td><td style = \"text-align: right;\">0.9915</td><td style = \"text-align: left;\">RTN4_CD99</td></tr><tr><td class = \"rowNumber\" style = \"font-weight: bold; text-align: right;\">11</td><td style = \"text-align: left;\">LAMB1</td><td style = \"text-align: left;\">ITGB1</td><td style = \"text-align: right;\">0.539863</td><td style = \"text-align: right;\">1.1535</td><td style = \"text-align: right;\">1.1237</td><td style = \"text-align: left;\">LAMB1_ITGB1</td></tr><tr><td class = \"rowNumber\" style = \"font-weight: bold; text-align: right;\">12</td><td style = \"text-align: left;\">PSEN1</td><td style = \"text-align: left;\">ITGB1</td><td style = \"text-align: right;\">0.519305</td><td style = \"text-align: right;\">0.7368</td><td style = \"text-align: right;\">1.1237</td><td style = \"text-align: left;\">PSEN1_ITGB1</td></tr><tr><td class = \"rowNumber\" style = \"font-weight: bold; text-align: right;\">13</td><td style = \"text-align: left;\">LAMC2</td><td style = \"text-align: left;\">ITGB1</td><td style = \"text-align: right;\">0.50947</td><td style = \"text-align: right;\">1.1017</td><td style = \"text-align: right;\">1.1237</td><td style = \"text-align: left;\">LAMC2_ITGB1</td></tr><tr><td style = \"text-align: right;\">&vellip;</td><td style = \"text-align: right;\">&vellip;</td><td style = \"text-align: right;\">&vellip;</td><td style = \"text-align: right;\">&vellip;</td><td style = \"text-align: right;\">&vellip;</td><td style = \"text-align: right;\">&vellip;</td><td style = \"text-align: right;\">&vellip;</td></tr><tr><td class = \"rowNumber\" style = \"font-weight: bold; text-align: right;\">32</td><td style = \"text-align: left;\">AGRN</td><td style = \"text-align: left;\">ITGB1</td><td style = \"text-align: right;\">0.352483</td><td style = \"text-align: right;\">0.7952</td><td style = \"text-align: right;\">1.1237</td><td style = \"text-align: left;\">AGRN_ITGB1</td></tr><tr><td class = \"rowNumber\" style = \"font-weight: bold; text-align: right;\">33</td><td style = \"text-align: left;\">MMP9</td><td style = \"text-align: left;\">CDH1</td><td style = \"text-align: right;\">0.349233</td><td style = \"text-align: right;\">2.1697</td><td style = \"text-align: right;\">0.8122</td><td style = \"text-align: left;\">MMP9_CDH1</td></tr><tr><td class = \"rowNumber\" style = \"font-weight: bold; text-align: right;\">34</td><td style = \"text-align: left;\">SEMA7A</td><td style = \"text-align: left;\">ITGB1</td><td style = \"text-align: right;\">0.340886</td><td style = \"text-align: right;\">1.5367</td><td style = \"text-align: right;\">1.1237</td><td style = \"text-align: left;\">SEMA7A_ITGB1</td></tr><tr><td class = \"rowNumber\" style = \"font-weight: bold; text-align: right;\">35</td><td style = \"text-align: left;\">NPNT</td><td style = \"text-align: left;\">ITGB1</td><td style = \"text-align: right;\">0.321677</td><td style = \"text-align: right;\">0.7647</td><td style = \"text-align: right;\">1.1237</td><td style = \"text-align: left;\">NPNT_ITGB1</td></tr><tr><td class = \"rowNumber\" style = \"font-weight: bold; text-align: right;\">36</td><td style = \"text-align: left;\">ANXA1</td><td style = \"text-align: left;\">ITGA4</td><td style = \"text-align: right;\">0.309602</td><td style = \"text-align: right;\">1.3294</td><td style = \"text-align: right;\">1.6808</td><td style = \"text-align: left;\">ANXA1_ITGA4</td></tr><tr><td class = \"rowNumber\" style = \"font-weight: bold; text-align: right;\">37</td><td style = \"text-align: left;\">ADAM17</td><td style = \"text-align: left;\">ITGB1</td><td style = \"text-align: right;\">0.308816</td><td style = \"text-align: right;\">1.0064</td><td style = \"text-align: right;\">1.1237</td><td style = \"text-align: left;\">ADAM17_ITGB1</td></tr><tr><td class = \"rowNumber\" style = \"font-weight: bold; text-align: right;\">38</td><td style = \"text-align: left;\">FBN1</td><td style = \"text-align: left;\">ITGB1</td><td style = \"text-align: right;\">0.308436</td><td style = \"text-align: right;\">2.0041</td><td style = \"text-align: right;\">1.1237</td><td style = \"text-align: left;\">FBN1_ITGB1</td></tr><tr><td class = \"rowNumber\" style = \"font-weight: bold; text-align: right;\">39</td><td style = \"text-align: left;\">LAMB2</td><td style = \"text-align: left;\">ITGB1</td><td style = \"text-align: right;\">0.296145</td><td style = \"text-align: right;\">1.6537</td><td style = \"text-align: right;\">1.1237</td><td style = \"text-align: left;\">LAMB2_ITGB1</td></tr><tr><td class = \"rowNumber\" style = \"font-weight: bold; text-align: right;\">40</td><td style = \"text-align: left;\">ICAM3</td><td style = \"text-align: left;\">ITGB2</td><td style = \"text-align: right;\">0.288333</td><td style = \"text-align: right;\">0.9176</td><td style = \"text-align: right;\">2.1694</td><td style = \"text-align: left;\">ICAM3_ITGB2</td></tr><tr><td class = \"rowNumber\" style = \"font-weight: bold; text-align: right;\">41</td><td style = \"text-align: left;\">PTPRC</td><td style = \"text-align: left;\">ITGAL</td><td style = \"text-align: right;\">0.28596</td><td style = \"text-align: right;\">1.6397</td><td style = \"text-align: right;\">1.2148</td><td style = \"text-align: left;\">PTPRC_ITGAL</td></tr><tr><td class = \"rowNumber\" style = \"font-weight: bold; text-align: right;\">42</td><td style = \"text-align: left;\">EFNB1</td><td style = \"text-align: left;\">CD99</td><td style = \"text-align: right;\">0.253079</td><td style = \"text-align: right;\">0.7063</td><td style = \"text-align: right;\">0.9915</td><td style = \"text-align: left;\">EFNB1_CD99</td></tr><tr><td class = \"rowNumber\" style = \"font-weight: bold; text-align: right;\">43</td><td style = \"text-align: left;\">THBS1</td><td style = \"text-align: left;\">ITGB1</td><td style = \"text-align: right;\">0.219055</td><td style = \"text-align: right;\">1.6376</td><td style = \"text-align: right;\">1.1237</td><td style = \"text-align: left;\">THBS1_ITGB1</td></tr></tbody></table></div>"
      ],
      "text/latex": [
       "\\begin{tabular}{r|cccccc}\n",
       "\t& from & to & correlation & ligand\\_FC & Receptor\\_FC & pair\\\\\n",
       "\t\\hline\n",
       "\t& String & String & Float64 & Float64 & Float64 & String\\\\\n",
       "\t\\hline\n",
       "\t1 & COL4A1 & ITGB1 & 0.681179 & 2.4032 & 1.1237 & COL4A1\\_ITGB1 \\\\\n",
       "\t2 & LGALS3 & ITGB1 & 0.677309 & 0.7695 & 1.1237 & LGALS3\\_ITGB1 \\\\\n",
       "\t3 & HSP90B1 & ITGB1 & 0.64627 & 0.9562 & 1.1237 & HSP90B1\\_ITGB1 \\\\\n",
       "\t4 & ADAM9 & CDH1 & 0.63985 & 0.9508 & 0.8122 & ADAM9\\_CDH1 \\\\\n",
       "\t5 & HLA-DRA & PTPRC & 0.634468 & 1.2791 & 1.6397 & HLA-DRA\\_PTPRC \\\\\n",
       "\t6 & AREG & ICAM1 & 0.624456 & 1.4834 & 1.9715 & AREG\\_ICAM1 \\\\\n",
       "\t7 & HSPG2 & ITGB1 & 0.62099 & 1.3576 & 1.1237 & HSPG2\\_ITGB1 \\\\\n",
       "\t8 & ADAM9 & ITGB1 & 0.60568 & 0.9508 & 1.1237 & ADAM9\\_ITGB1 \\\\\n",
       "\t9 & PSEN1 & CDH1 & 0.573752 & 0.7368 & 0.8122 & PSEN1\\_CDH1 \\\\\n",
       "\t10 & RTN4 & CD99 & 0.56588 & 0.8991 & 0.9915 & RTN4\\_CD99 \\\\\n",
       "\t11 & LAMB1 & ITGB1 & 0.539863 & 1.1535 & 1.1237 & LAMB1\\_ITGB1 \\\\\n",
       "\t12 & PSEN1 & ITGB1 & 0.519305 & 0.7368 & 1.1237 & PSEN1\\_ITGB1 \\\\\n",
       "\t13 & LAMC2 & ITGB1 & 0.50947 & 1.1017 & 1.1237 & LAMC2\\_ITGB1 \\\\\n",
       "\t14 & COL1A1 & ITGB1 & 0.506127 & 1.9866 & 1.1237 & COL1A1\\_ITGB1 \\\\\n",
       "\t15 & COL18A1 & ITGB1 & 0.488393 & 1.6691 & 1.1237 & COL18A1\\_ITGB1 \\\\\n",
       "\t16 & ADAM15 & ITGB1 & 0.48663 & 0.6197 & 1.1237 & ADAM15\\_ITGB1 \\\\\n",
       "\t17 & GSTP1 & ITGA4 & 0.47953 & 0.7098 & 1.6808 & GSTP1\\_ITGA4 \\\\\n",
       "\t18 & TNC & ITGB1 & 0.457699 & 2.8139 & 1.1237 & TNC\\_ITGB1 \\\\\n",
       "\t19 & EFNB2 & CD99 & 0.455969 & 0.6323 & 0.9915 & EFNB2\\_CD99 \\\\\n",
       "\t20 & ADAM15 & CDH1 & 0.443826 & 0.6197 & 0.8122 & ADAM15\\_CDH1 \\\\\n",
       "\t21 & CALR & CD40 & 0.43929 & 0.8723 & 2.0787 & CALR\\_CD40 \\\\\n",
       "\t22 & RPS19 & ITGA4 & 0.437627 & 0.8499 & 1.6808 & RPS19\\_ITGA4 \\\\\n",
       "\t23 & MMP9 & ITGB1 & 0.411987 & 2.1697 & 1.1237 & MMP9\\_ITGB1 \\\\\n",
       "\t24 & RPS19 & ICAM1 & 0.408517 & 0.8499 & 1.9715 & RPS19\\_ICAM1 \\\\\n",
       "\t$\\dots$ & $\\dots$ & $\\dots$ & $\\dots$ & $\\dots$ & $\\dots$ & $\\dots$ \\\\\n",
       "\\end{tabular}\n"
      ],
      "text/plain": [
       "\u001b[1m43×6 DataFrame\u001b[0m\n",
       "\u001b[1m Row \u001b[0m│\u001b[1m from    \u001b[0m\u001b[1m to     \u001b[0m\u001b[1m correlation \u001b[0m\u001b[1m ligand_FC \u001b[0m\u001b[1m Receptor_FC \u001b[0m\u001b[1m pair          \u001b[0m\n",
       "     │\u001b[90m String  \u001b[0m\u001b[90m String \u001b[0m\u001b[90m Float64     \u001b[0m\u001b[90m Float64   \u001b[0m\u001b[90m Float64     \u001b[0m\u001b[90m String        \u001b[0m\n",
       "─────┼─────────────────────────────────────────────────────────────────────\n",
       "   1 │ COL4A1   ITGB1      0.681179     2.4032       1.1237  COL4A1_ITGB1\n",
       "   2 │ LGALS3   ITGB1      0.677309     0.7695       1.1237  LGALS3_ITGB1\n",
       "   3 │ HSP90B1  ITGB1      0.64627      0.9562       1.1237  HSP90B1_ITGB1\n",
       "   4 │ ADAM9    CDH1       0.63985      0.9508       0.8122  ADAM9_CDH1\n",
       "   5 │ HLA-DRA  PTPRC      0.634468     1.2791       1.6397  HLA-DRA_PTPRC\n",
       "   6 │ AREG     ICAM1      0.624456     1.4834       1.9715  AREG_ICAM1\n",
       "   7 │ HSPG2    ITGB1      0.62099      1.3576       1.1237  HSPG2_ITGB1\n",
       "   8 │ ADAM9    ITGB1      0.60568      0.9508       1.1237  ADAM9_ITGB1\n",
       "  ⋮  │    ⋮       ⋮          ⋮           ⋮           ⋮             ⋮\n",
       "  37 │ ADAM17   ITGB1      0.308816     1.0064       1.1237  ADAM17_ITGB1\n",
       "  38 │ FBN1     ITGB1      0.308436     2.0041       1.1237  FBN1_ITGB1\n",
       "  39 │ LAMB2    ITGB1      0.296145     1.6537       1.1237  LAMB2_ITGB1\n",
       "  40 │ ICAM3    ITGB2      0.288333     0.9176       2.1694  ICAM3_ITGB2\n",
       "  41 │ PTPRC    ITGAL      0.28596      1.6397       1.2148  PTPRC_ITGAL\n",
       "  42 │ EFNB1    CD99       0.253079     0.7063       0.9915  EFNB1_CD99\n",
       "  43 │ THBS1    ITGB1      0.219055     1.6376       1.1237  THBS1_ITGB1\n",
       "\u001b[36m                                                            28 rows omitted\u001b[0m"
      ]
     },
     "metadata": {},
     "output_type": "display_data"
    }
   ],
   "source": [
    "df_7 = lr_cc7[\"enriched_LRs\"]\n",
    "df_7[in.(df_7.pair, Ref(j_unique)), :]"
   ]
  }
 ],
 "metadata": {
  "kernelspec": {
   "display_name": "Julia 1.9.3",
   "language": "julia",
   "name": "julia-1.9"
  },
  "language_info": {
   "file_extension": ".jl",
   "mimetype": "application/julia",
   "name": "julia",
   "version": "1.9.3"
  },
  "orig_nbformat": 4
 },
 "nbformat": 4,
 "nbformat_minor": 2
}
