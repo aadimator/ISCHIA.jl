{
 "cells": [
  {
   "cell_type": "markdown",
   "metadata": {},
   "source": [
    "# LR Enrichment Analysis\n",
    "\n",
    "This is the Julia implementation of the LR Enrichment analysis code from ISCHIA. For the moment, I have just ported it over, as it is, but with time, I'll try to make improvements to make it more efficient."
   ]
  },
  {
   "cell_type": "code",
   "execution_count": 1,
   "metadata": {},
   "outputs": [],
   "source": [
    "using Muon\n",
    "using RData\n",
    "using RCall\n",
    "using Random\n",
    "using DataFrames\n",
    "using Statistics\n",
    "using Combinatorics"
   ]
  },
  {
   "cell_type": "code",
   "execution_count": null,
   "metadata": {},
   "outputs": [],
   "source": [
    "mdata = readh5mu(\"../data/mudata.h5mu\")\n",
    "lr_network = load(\"../data/lr_network.rds\")\n",
    "\n",
    "mdata"
   ]
  },
  {
   "cell_type": "code",
   "execution_count": null,
   "metadata": {},
   "outputs": [],
   "source": [
    "gene_names = mdata[\"Spatial\"].var.name\n",
    "mdata[\"Spatial\"].var_names = gene_names\n",
    "\n",
    "# Create LR_Pairs column\n",
    "lr_network[!, :LR_Pairs] = string.(lr_network.from, \"_\", lr_network.to);\n",
    "lr_network = lr_network[:, [:from, :to, :LR_Pairs]]\n",
    "\n",
    "# Filter lr_network based on conditions\n",
    "from_filter = in.(lr_network[:, :from], Ref(gene_names))\n",
    "to_filter = in.(lr_network[:, :to], Ref(gene_names))\n",
    "all_LR_network = lr_network[from_filter .& to_filter, :]\n",
    "\n",
    "# To reduce the computation time for this example, we randomly sample from the whole dataset of LR interactions\n",
    "\n",
    "# all_LR_network = all_LR_network[shuffle(1:size(all_LR_network_exp, 1)), :]\n",
    "all_LR_network = all_LR_network[2000:min(4000, end), :]\n",
    "\n",
    "# Extract unique genes and common genes\n",
    "all_LR_genes = unique(vcat(all_LR_network[:, :from], all_LR_network[:, :to]))\n",
    "all_LR_genes_comm = intersect(all_LR_genes, collect(gene_names));\n",
    "\n",
    "# Create LR.pairs and LR.pairs.AllCombos\n",
    "LR_pairs = all_LR_network[:, :LR_Pairs]\n",
    "all_combos = [join(combo, \"_\") for combo in combinations(all_LR_genes_comm, 2)];"
   ]
  },
  {
   "cell_type": "code",
   "execution_count": 22,
   "metadata": {},
   "outputs": [],
   "source": []
  },
  {
   "cell_type": "code",
   "execution_count": 53,
   "metadata": {},
   "outputs": [
    {
     "data": {
      "text/plain": [
       "new_enriched_LRs (generic function with 1 method)"
      ]
     },
     "metadata": {},
     "output_type": "display_data"
    }
   ],
   "source": [
    "using ISCHIA\n",
    "\n",
    "function new_enriched_LRs(\n",
    "    adata::AnnData, COI::Vector{String}, Condition::Vector{String}, \n",
    "    LR_list::Vector{String}, LR_pairs::Vector{String}, \n",
    "    exp_th::Real, corr_th::Real)\n",
    "\n",
    "    println(\"Preparing L-R presence/absence matrix\")\n",
    "\n",
    "    # Extract the expression matrix from spatial_object\n",
    "    spatial_object_exp = adata.layers[\"counts\"]\n",
    "    spatial_object_exp_norm = adata.X\n",
    "\n",
    "    # Subset the expression matrix for the interested ligands and receptors\n",
    "    spatial_obj_exp_LR_subset_raw = adata[:, in.(adata.var.name, Ref(LR_list))]\n",
    "\n",
    "    # Binarize the expression matrix based on the expression threshold\n",
    "    spatial_obj_exp_LR_subset_raw_binary = spatial_obj_exp_LR_subset_raw.layers[\"counts\"] .> exp_th\n",
    "    spatial_obj_exp_LR_subset_raw.layers[\"binary\"] = spatial_obj_exp_LR_subset_raw_binary\n",
    "\n",
    "    LR_subset_raw_binary_mask_col = vec(sum(spatial_obj_exp_LR_subset_raw_binary, dims=1) .> 0)\n",
    "    LR_subset_raw_binary_mask_row = vec(sum(spatial_obj_exp_LR_subset_raw_binary, dims=2) .> 0)\n",
    "\n",
    "    LR_presence_absence = spatial_obj_exp_LR_subset_raw[LR_subset_raw_binary_mask_row, LR_subset_raw_binary_mask_col]\n",
    "    LR_presence_absence_mat = LR_presence_absence.layers[\"binary\"]\n",
    "\n",
    "    # Filter spots based on COI and Condition\n",
    "    mask = (adata.obs[:, \"CompositionCluster_CC\"] .∈ Ref(COI)) .& (adata.obs[:, \"orig.ident\"] .∈ Ref(Condition))\n",
    "    COI_spots = adata.obs_names[mask]\n",
    "    rest_of_spots = setdiff(adata.obs_names, COI_spots)\n",
    "\n",
    "    println(\"Calculating L-R pairs correlation\")\n",
    "    COI_cors_adata = spatial_obj_exp_LR_subset_raw[mask, :]\n",
    "    COI_cors = cor(Array(COI_cors_adata.layers[\"counts\"]))\n",
    "    COI_cors[isnan.(COI_cors)] .= 0.0\n",
    "\n",
    "    println(\"Preparing for cooccurrence\")\n",
    "    common_spots = intersect(LR_presence_absence.obs_names, COI_spots)\n",
    "    coocur_COI = LR_presence_absence[common_spots, :]\n",
    "    coocur_COI_exp = DataFrame(Matrix(transpose(coocur_COI.layers[\"binary\"])), common_spots)\n",
    "    \n",
    "    println(\"Cooccurrence calculation starts...\")\n",
    "    cooccur_COI_res = calculate_cooccurrence_stats(Matrix(coocur_COI_exp), coocur_COI.var.name; spp_names=true)\n",
    "    println(\"Cooccurrence calculation ended\")\n",
    "\n",
    "    println(\"Summary of cooccurrence results:\")\n",
    "    # display(R\"summary(cooccur_COI_res)\")\n",
    "\n",
    "    println(\"Probability table of cooccurrence results:\")\n",
    "    # display(R\"library(cooccur); prob.table(cooccur_COI_res)\")\n",
    "\n",
    "    cooccur_res_df = cooccur_COI_res[:results]\n",
    "    # Add a 'pair' column to the result DataFrame\n",
    "    cooccur_res_df[!, :pair12] = string.(cooccur_res_df[!, :sp1_name], \"_\", cooccur_res_df[!, :sp2_name])\n",
    "    cooccur_res_df[!, :pair21] = string.(cooccur_res_df[!, :sp2_name], \"_\", cooccur_res_df[!, :sp1_name])\n",
    "\n",
    "    all_cooccur_pairs = Set([cooccur_res_df.pair12; cooccur_res_df.pair21])\n",
    "    common_pairs = intersect(LR_pairs, all_cooccur_pairs)\n",
    "\n",
    "    COI_enriched_LRs = DataFrame(from=String[], to=String[], correlation=Float64[], ligand_FC=Float64[], Receptor_FC=Float64[])\n",
    "    pair_count = 0\n",
    "    for pair in common_pairs\n",
    "        pair_count += 1\n",
    "        println(\"$pair_count / $(length(common_pairs))\")\n",
    "\n",
    "        # Split the LR pair into individual ligand and receptor\n",
    "        LR_pair_words = split(pair, \"_\")\n",
    "        LR_pair_ligand = String(LR_pair_words[1])\n",
    "        LR_pair_Receptor = String(LR_pair_words[2])\n",
    "        \n",
    "        # Mean expression of the ligand in the Cluster of Interest (COI) spots and rest of the spots\n",
    "        ligand_exp_COI_mean = mean(adata[COI_spots, LR_pair_ligand].X)\n",
    "        ligand_exp_otherspots_mean = mean(adata[rest_of_spots, LR_pair_ligand].X)\n",
    "        # Calculate the ligand fold change (FC) by dividing COI mean by rest of the spots mean\n",
    "        ligand_FC = round(ligand_exp_COI_mean / ligand_exp_otherspots_mean, digits=4)\n",
    "        \n",
    "        Receptor_exp_COI_mean = mean(adata[COI_spots, LR_pair_Receptor].X)\n",
    "        Receptor_exp_otherspots_mean = mean(adata[rest_of_spots, LR_pair_Receptor].X)\n",
    "        Receptor_FC = round(Receptor_exp_COI_mean / Receptor_exp_otherspots_mean, digits=4)\n",
    "        \n",
    "        # Retrieve the p-value for the pair from the co-occurrence results DataFrame\n",
    "        pair_p = cooccur_res_df[(cooccur_res_df.pair12 .== pair) .| (cooccur_res_df.pair21 .== pair), :p_gt][1]\n",
    "\n",
    "        # Find the indices of the ligand and receptor in the COI correlation matrix\n",
    "        ligand_index = findfirst(==(LR_pair_ligand), COI_cors_adata.var_names)\n",
    "        receptor_index = findfirst(==(LR_pair_Receptor), COI_cors_adata.var_names)\n",
    "\n",
    "        # Check if the pair is significant (p-value < 0.05) and the correlation is above the threshold\n",
    "        if pair_p < 0.05 && COI_cors[ligand_index, receptor_index] > corr_th\n",
    "            added_row = DataFrame(from=[LR_pair_ligand], to=[LR_pair_Receptor], correlation=[COI_cors[ligand_index, receptor_index]], ligand_FC=[ligand_FC], Receptor_FC=[Receptor_FC])\n",
    "            append!(COI_enriched_LRs, added_row)\n",
    "        end\n",
    "    end\n",
    "\n",
    "    # Sort the enriched LRs by correlation in decreasing order\n",
    "    sort!(COI_enriched_LRs, rev=true, [:correlation])\n",
    "\n",
    "    # Add a 'pair' column to the enriched LRs DataFrame\n",
    "    COI_enriched_LRs[!, :pair] = string.(COI_enriched_LRs[!, :from], \"_\", COI_enriched_LRs[!, :to])\n",
    "\n",
    "    Output_dict = Dict(\"enriched_LRs\" => COI_enriched_LRs, \"cooccurrence_table\" => cooccur_COI_res)\n",
    "    return Output_dict\n",
    "end"
   ]
  },
  {
   "cell_type": "code",
   "execution_count": 54,
   "metadata": {},
   "outputs": [
    {
     "name": "stdout",
     "output_type": "stream",
     "text": [
      "Preparing L-R presence/absence matrix"
     ]
    },
    {
     "name": "stdout",
     "output_type": "stream",
     "text": [
      "\n",
      "Calculating L-R pairs correlation\n",
      "Preparing for cooccurrence\n",
      "Cooccurrence calculation starts...\n",
      "Cooccurrence calculation ended\n",
      "Summary of cooccurrence results:\n",
      "Probability table of cooccurrence results:"
     ]
    },
    {
     "name": "stdout",
     "output_type": "stream",
     "text": [
      "\n",
      "1 / 2\n"
     ]
    },
    {
     "name": "stdout",
     "output_type": "stream",
     "text": [
      "2 / 2"
     ]
    },
    {
     "name": "stdout",
     "output_type": "stream",
     "text": [
      "\n"
     ]
    },
    {
     "data": {
      "text/plain": [
       "Dict{String, Any} with 2 entries:\n",
       "  \"cooccurrence_table\" => Dict{Symbol, Any}(:percent_sig=>21.2766, :pairs=>47, …\n",
       "  \"enriched_LRs\"       => \u001b[1m1×6 DataFrame\u001b[0m\u001b[0m…"
      ]
     },
     "metadata": {},
     "output_type": "display_data"
    }
   ],
   "source": [
    "spatial_object = mdata[\"Spatial\"]\n",
    "COI = [\"CC4\"]\n",
    "Condition = unique(spatial_object.obs[!, \"orig.ident\"])\n",
    "LR_list = all_LR_genes_comm\n",
    "LR_pairs = LR_pairs\n",
    "exp_th = 1\n",
    "corr_th = 0.2\n",
    "\n",
    "out = new_enriched_LRs(spatial_object, COI, Condition, LR_list, LR_pairs, exp_th, corr_th)"
   ]
  },
  {
   "cell_type": "code",
   "execution_count": 56,
   "metadata": {},
   "outputs": [
    {
     "data": {
      "text/plain": [
       "Dict{Symbol, Any} with 15 entries:\n",
       "  :percent_sig          => 21.2766\n",
       "  :pairs                => 47\n",
       "  :pot_pairs            => 32640\n",
       "  :spp_names            => [\"AGRN\", \"TNFRSF14\", \"TNFRSF1B\", \"EPHA2\", \"WNT4\", \"E…\n",
       "  :sites                => [13 13 … 13 13; 13 13 … 13 13; … ; 13 13 … 13 13; 13…\n",
       "  :species              => 256\n",
       "  :true_rand_classifier => 0.1\n",
       "  :negative             => 0\n",
       "  :co_occurrences       => 10\n",
       "  :random               => 27\n",
       "  :unclassifiable       => 10\n",
       "  :results              => \u001b[1m47×13 DataFrame\u001b[0m\u001b[0m…\n",
       "  :positive             => 10\n",
       "  :spp_key              => \u001b[1m256×2 DataFrame\u001b[0m\u001b[0m…\n",
       "  :omitted              => 32593"
      ]
     },
     "metadata": {},
     "output_type": "display_data"
    }
   ],
   "source": [
    "out[\"cooccurrence_table\"]"
   ]
  },
  {
   "cell_type": "code",
   "execution_count": null,
   "metadata": {},
   "outputs": [],
   "source": []
  },
  {
   "cell_type": "code",
   "execution_count": null,
   "metadata": {},
   "outputs": [],
   "source": []
  },
  {
   "cell_type": "code",
   "execution_count": 53,
   "metadata": {},
   "outputs": [
    {
     "data": {
      "text/plain": [
       "enriched_LRs"
      ]
     },
     "metadata": {},
     "output_type": "display_data"
    }
   ],
   "source": [
    "\"\"\"\n",
    "Calculate significant co-occurring Ligand-Receptor pairs.\n",
    "\n",
    "This function calculates co-occurring Ligand-Receptor (LR) pairs that are statistically significant based on expression levels and correlations in a spatial dataset.\n",
    "\n",
    "Parameters:\n",
    "- `adata::AnnData`: The (spatial) anndata dataset containing expression data.\n",
    "- `COI::Vector{String}`: Cluster of Interest, a subset of spots to focus on.\n",
    "- `Condition::Vector{String}`: Condition of interest within the dataset.\n",
    "- `LR_list::Vector{String}`: List of ligands and receptors to consider.\n",
    "- `LR_pairs::Vector{String}`: List of LR pairs to analyze.\n",
    "- `exp_th::Real`: Expression threshold for binarizing the expression matrix.\n",
    "- `corr_th::Real`: Correlation threshold for LR pairs.\n",
    "\n",
    "Returns:\n",
    "A dictionary containing:\n",
    "- `\"enriched_LRs\"`: DataFrame of enriched LR pairs.\n",
    "- `\"cooccurrence_table\"`: Co-occurrence analysis results.\n",
    "\n",
    "\"\"\"\n",
    "function enriched_LRs(\n",
    "    adata::AnnData, COI::Vector{String}, Condition::Vector{String}, \n",
    "    LR_list::Vector{String}, LR_pairs::Vector{String}, \n",
    "    exp_th::Real, corr_th::Real)\n",
    "\n",
    "    println(\"Preparing L-R presence/absence matrix\")\n",
    "\n",
    "    # Extract the expression matrix from spatial_object\n",
    "    spatial_object_exp = adata.layers[\"counts\"]\n",
    "    spatial_object_exp_norm = adata.X\n",
    "\n",
    "    # Subset the expression matrix for the interested ligands and receptors\n",
    "    spatial_obj_exp_LR_subset_raw = adata[:, in.(adata.var.name, Ref(LR_list))]\n",
    "\n",
    "    # Binarize the expression matrix based on the expression threshold\n",
    "    spatial_obj_exp_LR_subset_raw_binary = spatial_obj_exp_LR_subset_raw.layers[\"counts\"] .> exp_th\n",
    "    spatial_obj_exp_LR_subset_raw.layers[\"binary\"] = spatial_obj_exp_LR_subset_raw_binary\n",
    "\n",
    "    LR_subset_raw_binary_mask_col = vec(sum(spatial_obj_exp_LR_subset_raw_binary, dims=1) .> 0)\n",
    "    LR_subset_raw_binary_mask_row = vec(sum(spatial_obj_exp_LR_subset_raw_binary, dims=2) .> 0)\n",
    "\n",
    "    LR_presence_absence = spatial_obj_exp_LR_subset_raw[LR_subset_raw_binary_mask_row, LR_subset_raw_binary_mask_col]\n",
    "    LR_presence_absence_mat = LR_presence_absence.layers[\"binary\"]\n",
    "\n",
    "    # Filter spots based on COI and Condition\n",
    "    mask = (adata.obs[:, \"CompositionCluster_CC\"] .∈ Ref(COI)) .& (adata.obs[:, \"orig.ident\"] .∈ Ref(Condition))\n",
    "    COI_spots = adata.obs_names[mask]\n",
    "    rest_of_spots = setdiff(adata.obs_names, COI_spots)\n",
    "\n",
    "    println(\"Calculating L-R pairs correlation\")\n",
    "    COI_cors_adata = spatial_obj_exp_LR_subset_raw[mask, :]\n",
    "    COI_cors = cor(Array(COI_cors_adata.layers[\"counts\"]))\n",
    "    COI_cors[isnan.(COI_cors)] .= 0.0\n",
    "\n",
    "    println(\"Preparing for cooccurrence\")\n",
    "    common_spots = intersect(LR_presence_absence.obs_names, COI_spots)\n",
    "    coocur_COI = LR_presence_absence[common_spots, :]\n",
    "    coocur_COI_exp = DataFrame(Matrix(transpose(coocur_COI.layers[\"binary\"])), common_spots)\n",
    "    \n",
    "    println(\"Cooccurrence calculation starts...\")\n",
    "    coocur_COI_exp_row_names = coocur_COI.var.name\n",
    "    @rput coocur_COI_exp coocur_COI_exp_row_names\n",
    "    R\"\"\"\n",
    "    row.names(coocur_COI_exp) <- coocur_COI_exp_row_names\n",
    "    cooccur_COI_res = ISCHIA.cooccur(mat=coocur_COI_exp, type=\"spp_site\", thresh=TRUE, spp_names=TRUE)\n",
    "    \"\"\"\n",
    "    @rget cooccur_COI_res\n",
    "    println(\"Cooccurrence calculation ended\")\n",
    "\n",
    "    println(\"Summary of cooccurrence results:\")\n",
    "    display(R\"summary(cooccur_COI_res)\")\n",
    "\n",
    "    println(\"Probability table of cooccurrence results:\")\n",
    "    display(R\"library(cooccur); prob.table(cooccur_COI_res)\")\n",
    "\n",
    "    cooccur_res_df = cooccur_COI_res[:results]\n",
    "    # Add a 'pair' column to the result DataFrame\n",
    "    cooccur_res_df[!, :pair12] = string.(cooccur_res_df[!, :sp1_name], \"_\", cooccur_res_df[!, :sp2_name])\n",
    "    cooccur_res_df[!, :pair21] = string.(cooccur_res_df[!, :sp2_name], \"_\", cooccur_res_df[!, :sp1_name])\n",
    "\n",
    "    all_cooccur_pairs = Set([cooccur_res_df.pair12; cooccur_res_df.pair21])\n",
    "    common_pairs = intersect(LR_pairs, all_cooccur_pairs)\n",
    "\n",
    "    COI_enriched_LRs = DataFrame(from=String[], to=String[], correlation=Float64[], ligand_FC=Float64[], Receptor_FC=Float64[])\n",
    "    pair_count = 0\n",
    "    for pair in common_pairs\n",
    "        pair_count += 1\n",
    "        println(\"$pair_count / $(length(common_pairs))\")\n",
    "\n",
    "        # Split the LR pair into individual ligand and receptor\n",
    "        LR_pair_words = split(pair, \"_\")\n",
    "        LR_pair_ligand = String(LR_pair_words[1])\n",
    "        LR_pair_Receptor = String(LR_pair_words[2])\n",
    "        \n",
    "        # Mean expression of the ligand in the Cluster of Interest (COI) spots and rest of the spots\n",
    "        ligand_exp_COI_mean = mean(adata[COI_spots, LR_pair_ligand].X)\n",
    "        ligand_exp_otherspots_mean = mean(adata[rest_of_spots, LR_pair_ligand].X)\n",
    "        # Calculate the ligand fold change (FC) by dividing COI mean by rest of the spots mean\n",
    "        ligand_FC = round(ligand_exp_COI_mean / ligand_exp_otherspots_mean, digits=4)\n",
    "        \n",
    "        Receptor_exp_COI_mean = mean(adata[COI_spots, LR_pair_Receptor].X)\n",
    "        Receptor_exp_otherspots_mean = mean(adata[rest_of_spots, LR_pair_Receptor].X)\n",
    "        Receptor_FC = round(Receptor_exp_COI_mean / Receptor_exp_otherspots_mean, digits=4)\n",
    "        \n",
    "        # Retrieve the p-value for the pair from the co-occurrence results DataFrame\n",
    "        pair_p = cooccur_res_df[(cooccur_res_df.pair12 .== pair) .| (cooccur_res_df.pair21 .== pair), :p_gt][1]\n",
    "\n",
    "        # Find the indices of the ligand and receptor in the COI correlation matrix\n",
    "        ligand_index = findfirst(==(LR_pair_ligand), COI_cors_adata.var_names)\n",
    "        receptor_index = findfirst(==(LR_pair_Receptor), COI_cors_adata.var_names)\n",
    "\n",
    "        # Check if the pair is significant (p-value < 0.05) and the correlation is above the threshold\n",
    "        if pair_p < 0.05 && COI_cors[ligand_index, receptor_index] > corr_th\n",
    "            added_row = DataFrame(from=[LR_pair_ligand], to=[LR_pair_Receptor], correlation=[COI_cors[ligand_index, receptor_index]], ligand_FC=[ligand_FC], Receptor_FC=[Receptor_FC])\n",
    "            append!(COI_enriched_LRs, added_row)\n",
    "        end\n",
    "    end\n",
    "\n",
    "    # Sort the enriched LRs by correlation in decreasing order\n",
    "    sort!(COI_enriched_LRs, rev=true, [:correlation])\n",
    "\n",
    "    # Add a 'pair' column to the enriched LRs DataFrame\n",
    "    COI_enriched_LRs[!, :pair] = string.(COI_enriched_LRs[!, :from], \"_\", COI_enriched_LRs[!, :to])\n",
    "\n",
    "    Output_dict = Dict(\"enriched_LRs\" => COI_enriched_LRs, \"cooccurrence_table\" => cooccur_COI_res)\n",
    "    return Output_dict\n",
    "end"
   ]
  },
  {
   "cell_type": "code",
   "execution_count": 54,
   "metadata": {},
   "outputs": [
    {
     "data": {
      "text/plain": [
       "0.2"
      ]
     },
     "metadata": {},
     "output_type": "display_data"
    }
   ],
   "source": [
    "spatial_object = mdata[\"Spatial\"]\n",
    "COI = [\"CC4\"]\n",
    "Condition = unique(spatial_object.obs[!, \"orig.ident\"])\n",
    "LR_list = all_LR_genes_comm\n",
    "LR_pairs = LR_pairs\n",
    "exp_th = 1\n",
    "corr_th = 0.2\n",
    "\n",
    "out = enriched_LRs(spatial_object, COI, Condition, LR_list, LR_pairs, exp_th, corr_th)"
   ]
  },
  {
   "cell_type": "code",
   "execution_count": 55,
   "metadata": {},
   "outputs": [
    {
     "name": "stdout",
     "output_type": "stream",
     "text": [
      "Preparing L-R presence/absence matrix\n",
      "Calculating L-R pairs correlation\n",
      "Preparing for cooccurrence\n",
      "Cooccurrence calculation starts...\n"
     ]
    },
    {
     "name": "stdout",
     "output_type": "stream",
     "text": [
      "\r  |                                                                            "
     ]
    },
    {
     "name": "stdout",
     "output_type": "stream",
     "text": [
      "\r  |                                                                      |   0%\r  |                                                                            "
     ]
    },
    {
     "name": "stdout",
     "output_type": "stream",
     "text": [
      "\r  |                                                                      |   1%\r  |                                                                            \r  |=                                                                     |   1%"
     ]
    },
    {
     "data": {
      "text/plain": [
       "RObject{RealSxp}\n",
       "       Species          Sites       Positive       Negative         Random \n",
       "         256.0           13.0           10.0            0.0           27.0 \n",
       "Unclassifiable Non-random (%) \n",
       "          10.0           21.3 \n",
       "attr(,\"class\")\n",
       "[1] \"summary.cooccur\"\n"
      ]
     },
     "metadata": {},
     "output_type": "display_data"
    },
    {
     "data": {
      "text/plain": [
       "RObject{VecSxp}\n",
       "   sp1 sp2 sp1_inc sp2_inc obs_cooccur prob_cooccur exp_cooccur    p_lt    p_gt\n",
       "1   35  54       4       5           3        0.118         1.5 0.99301 0.11888\n",
       "2   35 134       4       4           3        0.095         1.2 0.99860 0.05175\n",
       "3   35 135       4       5           3        0.118         1.5 0.99301 0.11888\n",
       "4   35 168       4       4           2        0.095         1.2 0.94825 0.35385\n",
       "5   35 180       4       4           2        0.095         1.2 0.94825 0.35385\n",
       "6   35 194       4       8           3        0.189         2.5 0.90210 0.48951\n",
       "7   35 229       4       5           4        0.118         1.5 1.00000 0.00699\n",
       "8   54  89       5       3           2        0.089         1.2 0.96503 0.31469\n",
       "9   54 121       5       3           2        0.089         1.2 0.96503 0.31469\n",
       "10  54 134       5       4           3        0.118         1.5 0.99301 0.11888\n",
       "11  54 135       5       5           4        0.148         1.9 0.99922 0.03186\n",
       "12  54 160       5       3           3        0.089         1.2 1.00000 0.03497\n",
       "13  54 168       5       4           3        0.118         1.5 0.99301 0.11888\n",
       "14  54 180       5       4           3        0.118         1.5 0.99301 0.11888\n",
       "15  54 194       5       8           3        0.237         3.1 0.68454 0.75058\n",
       "16  54 229       5       5           4        0.148         1.9 0.99922 0.03186\n",
       "17  54 231       5       3           2        0.089         1.2 0.96503 0.31469\n",
       "18  89 135       3       5           3        0.089         1.2 1.00000 0.03497\n",
       "19  89 194       3       8           2        0.142         1.8 0.80420 0.68531\n",
       "20  89 229       3       5           3        0.089         1.2 1.00000 0.03497\n",
       "21 121 135       3       5           1        0.089         1.2 0.68531 0.80420\n",
       "22 121 194       3       8           3        0.142         1.8 1.00000 0.19580\n",
       "23 121 229       3       5           2        0.089         1.2 0.96503 0.31469\n",
       "24 134 135       4       5           4        0.118         1.5 1.00000 0.00699\n",
       "25 134 168       4       4           1        0.095         1.2 0.64615 0.82378\n",
       "26 134 180       4       4           2        0.095         1.2 0.94825 0.35385\n",
       "27 134 194       4       8           2        0.189         2.5 0.51049 0.88112\n",
       "28 134 229       4       5           3        0.118         1.5 0.99301 0.11888\n",
       "29 135 160       5       3           3        0.089         1.2 1.00000 0.03497\n",
       "30 135 168       5       4           2        0.118         1.5 0.88112 0.51049\n",
       "31 135 180       5       4           3        0.118         1.5 0.99301 0.11888\n",
       "32 135 194       5       8           3        0.237         3.1 0.68454 0.75058\n",
       "33 135 229       5       5           4        0.148         1.9 0.99922 0.03186\n",
       "34 135 231       5       3           1        0.089         1.2 0.68531 0.80420\n",
       "35 156 194       2       8           1        0.095         1.2 0.64103 0.87179\n",
       "36 160 194       3       8           2        0.142         1.8 0.80420 0.68531\n",
       "37 160 229       3       5           3        0.089         1.2 1.00000 0.03497\n",
       "38 168 180       4       4           2        0.095         1.2 0.94825 0.35385\n",
       "39 168 194       4       8           2        0.189         2.5 0.51049 0.88112\n",
       "40 168 229       4       5           3        0.118         1.5 0.99301 0.11888\n",
       "41 180 194       4       8           3        0.189         2.5 0.90210 0.48951\n",
       "42 180 229       4       5           3        0.118         1.5 0.99301 0.11888\n",
       "43 189 194       2       8           2        0.095         1.2 1.00000 0.35897\n",
       "44 194 229       8       5           4        0.237         3.1 0.95649 0.31546\n",
       "45 194 231       8       3           2        0.142         1.8 0.80420 0.68531\n",
       "46 194 239       8       2           1        0.095         1.2 0.64103 0.87179\n",
       "47 229 231       5       3           2        0.089         1.2 0.96503 0.31469\n",
       "   sp1_name sp2_name\n",
       "1     CXCR4     RPSA\n",
       "2     CXCR4    CCL19\n",
       "3     CXCR4    CCL21\n",
       "4     CXCR4      A2M\n",
       "5     CXCR4  HSP90B1\n",
       "6     CXCR4    THBS1\n",
       "7     CXCR4       C3\n",
       "8      RPSA     IL7R\n",
       "9      RPSA SERPINE1\n",
       "10     RPSA    CCL19\n",
       "11     RPSA    CCL21\n",
       "12     RPSA    GSTP1\n",
       "13     RPSA      A2M\n",
       "14     RPSA  HSP90B1\n",
       "15     RPSA    THBS1\n",
       "16     RPSA       C3\n",
       "17     RPSA     CALR\n",
       "18     IL7R    CCL21\n",
       "19     IL7R    THBS1\n",
       "20     IL7R       C3\n",
       "21 SERPINE1    CCL21\n",
       "22 SERPINE1    THBS1\n",
       "23 SERPINE1       C3\n",
       "24    CCL19    CCL21\n",
       "25    CCL19      A2M\n",
       "26    CCL19  HSP90B1\n",
       "27    CCL19    THBS1\n",
       "28    CCL19       C3\n",
       "29    CCL21    GSTP1\n",
       "30    CCL21      A2M\n",
       "31    CCL21  HSP90B1\n",
       "32    CCL21    THBS1\n",
       "33    CCL21       C3\n",
       "34    CCL21     CALR\n",
       "35     SAA1    THBS1\n",
       "36    GSTP1    THBS1\n",
       "37    GSTP1       C3\n",
       "38      A2M  HSP90B1\n",
       "39      A2M    THBS1\n",
       "40      A2M       C3\n",
       "41  HSP90B1    THBS1\n",
       "42  HSP90B1       C3\n",
       "43    CALM1    THBS1\n",
       "44    THBS1       C3\n",
       "45    THBS1     CALR\n",
       "46    THBS1     APOE\n",
       "47       C3     CALR\n"
      ]
     },
     "metadata": {},
     "output_type": "display_data"
    },
    {
     "name": "stdout",
     "output_type": "stream",
     "text": [
      "\r  |                                                                            \r  |                                                                      |   0%\r  |                                                                            \r  |===========================================================           |  85%\r  |                                                                            \r  |============================================================          |  85%\r  |                                                                            \r  |============================================================          |  86%\r  |                                                                            \r  |=============================================================         |  86%\r  |                                                                            \r  |=============================================================         |  87%\r  |                                                                            \r  |=============================================================         |  88%\r  |                                                                            \r  |==============================================================        |  88%\r  |                                                                            \r  |==============================================================        |  89%\r  |                                                                            \r  |===============================================================       |  89%\r  |                                                                            \r  |===============================================================       |  90%\r  |                                                                            \r  |================================================================      |  91%\r  |                                                                            \r  |================================================================      |  92%\r  |                                                                            \r  |=================================================================     |  92%\r  |                                                                            \r  |=================================================================     |  93%\r  |                                                                            \r  |==================================================================    |  94%\r  |                                                                            \r  |==================================================================    |  95%\r  |                                                                            \r  |===================================================================   |  95%\r  |                                                                            \r  |===================================================================   |  96%\r  |                                                                            \r  |====================================================================  |  97%\r  |                                                                            \r  |====================================================================  |  98%\r  |                                                                            \r  |===================================================================== |  98%\r  |                                                                            \r  |===================================================================== |  99%\r  |                                                                            \r  |======================================================================|  99%\r  |                                                                            \r  |======================================================================| 100%\n",
      "Cooccurrence calculation ended\n",
      "Summary of cooccurrence results:\n",
      "Call:\n",
      "ISCHIA.cooccur(mat = coocur_COI_exp, type = \"spp_site\", \n",
      "    thresh = TRUE, spp_names = TRUE)\n",
      "\n",
      "Of 32640 species pair combinations, 32593 pairs (99.86 %) were removed from the analysis because expected co-occurrence was < 1 and 47 pairs were analyzed\n",
      "\n",
      "Cooccurrence Summary:\n",
      "Probability table of cooccurrence results:\n"
     ]
    },
    {
     "name": "stderr",
     "output_type": "stream",
     "text": [
      "┌ Warning: RCall.jl: Warning in prob.table(cooccur_COI_res) :\n",
      "│   The co-occurrence model was run using 'thresh = TRUE.' The probability table may not include all species pairs\n",
      "└ @ RCall C:\\Users\\mraadam\\.julia\\packages\\RCall\\gOwEW\\src\\io.jl:172\n"
     ]
    },
    {
     "name": "stdout",
     "output_type": "stream",
     "text": [
      "1 / 2\n",
      "2 / 2\n"
     ]
    },
    {
     "data": {
      "text/plain": [
       "Dict{String, Any} with 2 entries:\n",
       "  \"cooccurrence_table\" => OrderedDict{Symbol, Any}(:call=>:(var\"ISCHIA.cooccur\"…\n",
       "  \"COI.enriched_LRs\"   => \u001b[1m1×6 DataFrame\u001b[0m\u001b[0m…"
      ]
     },
     "metadata": {},
     "output_type": "display_data"
    }
   ],
   "source": [
    "out = enriched_LRs(spatial_object, COI, Condition, LR_list, LR_pairs, exp_th, corr_th)"
   ]
  },
  {
   "cell_type": "code",
   "execution_count": 45,
   "metadata": {},
   "outputs": [
    {
     "data": {
      "text/html": [
       "<div><div style = \"float: left;\"><span>1×6 DataFrame</span></div><div style = \"clear: both;\"></div></div><div class = \"data-frame\" style = \"overflow-x: scroll;\"><table class = \"data-frame\" style = \"margin-bottom: 6px;\"><thead><tr class = \"header\"><th class = \"rowNumber\" style = \"font-weight: bold; text-align: right;\">Row</th><th style = \"text-align: left;\">from</th><th style = \"text-align: left;\">to</th><th style = \"text-align: left;\">correlation</th><th style = \"text-align: left;\">ligand_FC</th><th style = \"text-align: left;\">Receptor_FC</th><th style = \"text-align: left;\">pair</th></tr><tr class = \"subheader headerLastRow\"><th class = \"rowNumber\" style = \"font-weight: bold; text-align: right;\"></th><th title = \"String\" style = \"text-align: left;\">String</th><th title = \"String\" style = \"text-align: left;\">String</th><th title = \"Float64\" style = \"text-align: left;\">Float64</th><th title = \"Float64\" style = \"text-align: left;\">Float64</th><th title = \"Float64\" style = \"text-align: left;\">Float64</th><th title = \"String\" style = \"text-align: left;\">String</th></tr></thead><tbody><tr><td class = \"rowNumber\" style = \"font-weight: bold; text-align: right;\">1</td><td style = \"text-align: left;\">C3</td><td style = \"text-align: left;\">CXCR4</td><td style = \"text-align: right;\">0.79157</td><td style = \"text-align: right;\">1.3346</td><td style = \"text-align: right;\">3.3869</td><td style = \"text-align: left;\">C3_CXCR4</td></tr></tbody></table></div>"
      ],
      "text/latex": [
       "\\begin{tabular}{r|cccccc}\n",
       "\t& from & to & correlation & ligand\\_FC & Receptor\\_FC & pair\\\\\n",
       "\t\\hline\n",
       "\t& String & String & Float64 & Float64 & Float64 & String\\\\\n",
       "\t\\hline\n",
       "\t1 & C3 & CXCR4 & 0.79157 & 1.3346 & 3.3869 & C3\\_CXCR4 \\\\\n",
       "\\end{tabular}\n"
      ],
      "text/plain": [
       "\u001b[1m1×6 DataFrame\u001b[0m\n",
       "\u001b[1m Row \u001b[0m│\u001b[1m from   \u001b[0m\u001b[1m to     \u001b[0m\u001b[1m correlation \u001b[0m\u001b[1m ligand_FC \u001b[0m\u001b[1m Receptor_FC \u001b[0m\u001b[1m pair     \u001b[0m\n",
       "     │\u001b[90m String \u001b[0m\u001b[90m String \u001b[0m\u001b[90m Float64     \u001b[0m\u001b[90m Float64   \u001b[0m\u001b[90m Float64     \u001b[0m\u001b[90m String   \u001b[0m\n",
       "─────┼───────────────────────────────────────────────────────────────\n",
       "   1 │ C3      CXCR4       0.79157     1.3346       3.3869  C3_CXCR4"
      ]
     },
     "metadata": {},
     "output_type": "display_data"
    }
   ],
   "source": [
    "out[\"COI.enriched_LRs\"]"
   ]
  },
  {
   "cell_type": "code",
   "execution_count": 46,
   "metadata": {},
   "outputs": [
    {
     "data": {
      "text/plain": [
       "AnnData"
      ]
     },
     "metadata": {},
     "output_type": "display_data"
    }
   ],
   "source": [
    "typeof(mdata[\"Spatial\"])"
   ]
  }
 ],
 "metadata": {
  "kernelspec": {
   "display_name": "Julia 1.9.3",
   "language": "julia",
   "name": "julia-1.9"
  },
  "language_info": {
   "file_extension": ".jl",
   "mimetype": "application/julia",
   "name": "julia",
   "version": "1.9.3"
  },
  "orig_nbformat": 4
 },
 "nbformat": 4,
 "nbformat_minor": 2
}
