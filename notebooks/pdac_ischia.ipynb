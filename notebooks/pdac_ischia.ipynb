{
 "cells": [
  {
   "cell_type": "markdown",
   "metadata": {},
   "source": [
    "# Running ISCHIA.jl on Our Data"
   ]
  },
  {
   "cell_type": "code",
   "execution_count": 2,
   "metadata": {},
   "outputs": [],
   "source": [
    "using CSV\n",
    "using Muon\n",
    "using RData\n",
    "using Revise\n",
    "using ISCHIA\n",
    "using DataFrames\n",
    "using Combinatorics"
   ]
  },
  {
   "cell_type": "code",
   "execution_count": 3,
   "metadata": {},
   "outputs": [
    {
     "data": {
      "text/plain": [
       "AnnData object 91496 ✕ 17893"
      ]
     },
     "metadata": {},
     "output_type": "display_data"
    }
   ],
   "source": [
    "datapath = \"../data/pdac_spatial.h5ad\"\n",
    "\n",
    "adata = readh5ad(datapath)\n",
    "lr_network = load(\"../data/lr_network.rds\")\n",
    "\n",
    "adata"
   ]
  },
  {
   "cell_type": "markdown",
   "metadata": {},
   "source": [
    "## Variables"
   ]
  },
  {
   "cell_type": "code",
   "execution_count": 5,
   "metadata": {},
   "outputs": [
    {
     "data": {
      "text/plain": [
       "4-element Vector{String}:\n",
       " \"Liver_Mets\"\n",
       " \"Lymph node\"\n",
       " \"Normal Pancreas\"\n",
       " \"PDAC\""
      ]
     },
     "metadata": {},
     "output_type": "display_data"
    }
   ],
   "source": [
    "unique(adata.obs.Histology)\n",
    "\n",
    "# no normal\n",
    "# corr_th 0.5\n",
    "# CC3 and CC7"
   ]
  },
  {
   "cell_type": "code",
   "execution_count": 44,
   "metadata": {},
   "outputs": [],
   "source": [
    "gene_names = adata.var.name\n",
    "\n",
    "# Create LR_Pairs column\n",
    "lr_network[!, :LR_Pairs] = string.(lr_network.from, \"_\", lr_network.to);\n",
    "lr_network = lr_network[:, [:from, :to, :LR_Pairs]]\n",
    "\n",
    "# Filter lr_network based on conditions\n",
    "from_filter = in.(lr_network[:, :from], Ref(gene_names))\n",
    "to_filter = in.(lr_network[:, :to], Ref(gene_names))\n",
    "all_LR_network = lr_network[from_filter .& to_filter, :];"
   ]
  },
  {
   "cell_type": "code",
   "execution_count": 45,
   "metadata": {},
   "outputs": [],
   "source": [
    "# Extract unique genes and common genes\n",
    "all_LR_genes = unique(vcat(all_LR_network[:, :from], all_LR_network[:, :to]))\n",
    "all_LR_genes_comm = intersect(all_LR_genes, collect(gene_names));\n",
    "\n",
    "# Create LR.pairs and LR.pairs.AllCombos\n",
    "LR_pairs = all_LR_network[:, :LR_Pairs]\n",
    "all_combos = [join(combo, \"_\") for combo in combinations(all_LR_genes_comm, 2)];"
   ]
  },
  {
   "cell_type": "code",
   "execution_count": 46,
   "metadata": {},
   "outputs": [],
   "source": [
    "spatial_object = adata\n",
    "spatial_object.var_names = spatial_object.var.name\n",
    "Condition = unique(spatial_object.obs[!, \"orig.ident\"])\n",
    "LR_list = all_LR_genes_comm\n",
    "LR_pairs = LR_pairs\n",
    "exp_th = 1\n",
    "corr_th = 0.2;"
   ]
  },
  {
   "cell_type": "code",
   "execution_count": 48,
   "metadata": {},
   "outputs": [
    {
     "data": {
      "text/plain": [
       "10-element Vector{String}:\n",
       " \"CC7\"\n",
       " \"CC1\"\n",
       " \"CC9\"\n",
       " \"CC8\"\n",
       " \"CC6\"\n",
       " \"CC4\"\n",
       " \"CC10\"\n",
       " \"CC3\"\n",
       " \"CC2\"\n",
       " \"CC5\""
      ]
     },
     "metadata": {},
     "output_type": "display_data"
    }
   ],
   "source": [
    "unique(spatial_object.obs.cc_ischia_10)"
   ]
  },
  {
   "cell_type": "code",
   "execution_count": null,
   "metadata": {},
   "outputs": [],
   "source": [
    "cc_list = [\"CC1\"]\n",
    "\n",
    "for cc in cc_list\n",
    "    println(\"Running for $cc\")\n",
    "    lr_result = find_enriched_LR_pairs(spatial_object, [cc], Condition, LR_list, LR_pairs, exp_th, corr_th, cc_column=\"cc_ischia_10\");\n",
    "    CSV.write(\"../outputs/$(cc)_lr_enrichment.csv\", unique(lr_result[\"enriched_LRs\"], :correlation))\n",
    "    CSV.write(\"../outputs/$(cc)_cooccurr_mat.csv\", lr_result[\"cooccurrence_table\"].results)\n",
    "end"
   ]
  },
  {
   "cell_type": "code",
   "execution_count": null,
   "metadata": {},
   "outputs": [],
   "source": []
  }
 ],
 "metadata": {
  "kernelspec": {
   "display_name": "Julia 1.9.3",
   "language": "julia",
   "name": "julia-1.9"
  },
  "language_info": {
   "file_extension": ".jl",
   "mimetype": "application/julia",
   "name": "julia",
   "version": "1.9.3"
  },
  "orig_nbformat": 4
 },
 "nbformat": 4,
 "nbformat_minor": 2
}
