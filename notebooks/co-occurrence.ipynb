{
 "cells": [
  {
   "cell_type": "markdown",
   "metadata": {},
   "source": [
    "# Co-occurrence Analysis\n",
    "\n",
    "This code is ported over from ISCHIA, specifically the `ISCHIA.cooccur` function."
   ]
  },
  {
   "cell_type": "code",
   "execution_count": 51,
   "metadata": {},
   "outputs": [],
   "source": [
    "using Muon\n",
    "using RData\n",
    "using Rmath\n",
    "using RCall\n",
    "using Random\n",
    "using DataFrames\n",
    "using Statistics\n",
    "using ProgressMeter\n",
    "using Combinatorics\n",
    "using ISCHIA\n",
    "using Revise"
   ]
  },
  {
   "cell_type": "code",
   "execution_count": 52,
   "metadata": {},
   "outputs": [
    {
     "name": "stdout",
     "output_type": "stream",
     "text": [
      "Preparing L-R presence/absence matrix\n",
      "Calculating L-R pairs correlation\n"
     ]
    },
    {
     "name": "stdout",
     "output_type": "stream",
     "text": [
      "Preparing for cooccurrence\n"
     ]
    }
   ],
   "source": [
    "mdata = readh5mu(\"../data/mudata.h5mu\")\n",
    "lr_network = load(\"../data/lr_network.rds\")\n",
    "\n",
    "gene_names = mdata[\"SCT\"].var.name\n",
    "# mdata[\"SCT\"].var_names = gene_names\n",
    "\n",
    "# Create LR_Pairs column\n",
    "lr_network[!, :LR_Pairs] = string.(lr_network.from, \"_\", lr_network.to);\n",
    "lr_network = lr_network[:, [:from, :to, :LR_Pairs]]\n",
    "\n",
    "# Filter lr_network based on conditions\n",
    "from_filter = in.(lr_network[:, :from], Ref(gene_names))\n",
    "to_filter = in.(lr_network[:, :to], Ref(gene_names))\n",
    "all_LR_network = lr_network[from_filter .& to_filter, :]\n",
    "\n",
    "# To reduce the computation time for this example, we randomly sample from the whole dataset of LR interactions\n",
    "\n",
    "# all_LR_network = all_LR_network[shuffle(1:size(all_LR_network_exp, 1)), :]\n",
    "# all_LR_network = all_LR_network[1501:min(2000, end), :]\n",
    "\n",
    "# Extract unique genes and common genes\n",
    "all_LR_genes = unique(vcat(all_LR_network[:, :from], all_LR_network[:, :to]))\n",
    "all_LR_genes_comm = intersect(all_LR_genes, collect(gene_names));\n",
    "\n",
    "# Create LR.pairs and LR.pairs.AllCombos\n",
    "LR_pairs = all_LR_network[:, :LR_Pairs]\n",
    "all_combos = [join(combo, \"_\") for combo in combinations(all_LR_genes_comm, 2)];\n",
    "\n",
    "adata = mdata[\"Spatial\"]\n",
    "COI = [\"CC4\"]\n",
    "Condition = unique(adata.obs[!, \"orig.ident\"])\n",
    "LR_list = all_LR_genes_comm\n",
    "LR_pairs = LR_pairs\n",
    "exp_th = 1\n",
    "corr_th = 0.2\n",
    "\n",
    "println(\"Preparing L-R presence/absence matrix\")\n",
    "\n",
    "# Subset the expression matrix for the interested ligands and receptors\n",
    "spatial_obj_exp_LR_subset_raw = adata[:, in.(adata.var.name, Ref(LR_list))]\n",
    "\n",
    "# Binarize the expression matrix based on the expression threshold\n",
    "spatial_obj_exp_LR_subset_raw_binary = spatial_obj_exp_LR_subset_raw.layers[\"counts\"] .> exp_th\n",
    "spatial_obj_exp_LR_subset_raw.layers[\"binary\"] = spatial_obj_exp_LR_subset_raw_binary\n",
    "\n",
    "LR_subset_raw_binary_mask_col = vec(sum(spatial_obj_exp_LR_subset_raw_binary, dims=1) .> 0)\n",
    "LR_subset_raw_binary_mask_row = vec(sum(spatial_obj_exp_LR_subset_raw_binary, dims=2) .> 0)\n",
    "\n",
    "LR_presence_absence = spatial_obj_exp_LR_subset_raw[LR_subset_raw_binary_mask_row, LR_subset_raw_binary_mask_col]\n",
    "\n",
    "\n",
    "# Filter spots based on COI and Condition\n",
    "mask = (adata.obs[:, \"CompositionCluster_CC\"] .∈ Ref(COI)) .& (adata.obs[:, \"orig.ident\"] .∈ Ref(Condition))\n",
    "COI_spots = adata.obs_names[mask]\n",
    "rest_of_spots = setdiff(adata.obs_names, COI_spots)\n",
    "\n",
    "println(\"Calculating L-R pairs correlation\")\n",
    "COI_cors_adata = spatial_obj_exp_LR_subset_raw[mask, :]\n",
    "COI_cors = cor(Array(COI_cors_adata.layers[\"counts\"]))\n",
    "COI_cors[isnan.(COI_cors)] .= 0.0\n",
    "\n",
    "println(\"Preparing for cooccurrence\")\n",
    "common_spots = intersect(LR_presence_absence.obs_names, COI_spots)\n",
    "coocur_COI = LR_presence_absence[common_spots, :]\n",
    "coocur_COI_exp = DataFrame(Matrix(transpose(coocur_COI.layers[\"binary\"])), common_spots)\n",
    "\n",
    "describe(coocur_COI_exp);"
   ]
  },
  {
   "cell_type": "code",
   "execution_count": 53,
   "metadata": {},
   "outputs": [
    {
     "name": "stderr",
     "output_type": "stream",
     "text": [
      "\r\u001b[32mCalculate Incidence  37%|████████████                    |  ETA: 0:00:00\u001b[39m\u001b[K"
     ]
    },
    {
     "name": "stderr",
     "output_type": "stream",
     "text": [
      "\r\u001b[32mCalculate Incidence 100%|████████████████████████████████| Time: 0:00:00\u001b[39m\u001b[K\n"
     ]
    },
    {
     "name": "stderr",
     "output_type": "stream",
     "text": [
      "\r\u001b[32mCalculate Co-occurrences   2%|█                          |  ETA: 0:00:07\u001b[39m\u001b[K"
     ]
    },
    {
     "name": "stderr",
     "output_type": "stream",
     "text": [
      "\r\u001b[32mCalculate Co-occurrences  26%|███████                    |  ETA: 0:00:01\u001b[39m\u001b[K"
     ]
    },
    {
     "name": "stderr",
     "output_type": "stream",
     "text": [
      "\r\u001b[32mCalculate Co-occurrences  63%|██████████████████         |  ETA: 0:00:00\u001b[39m\u001b[K"
     ]
    },
    {
     "name": "stderr",
     "output_type": "stream",
     "text": [
      "\r\u001b[32mCalculate Co-occurrences 100%|███████████████████████████| Time: 0:00:00\u001b[39m\u001b[K\n"
     ]
    },
    {
     "data": {
      "text/plain": [
       "CooccurOutput(\u001b[1m532×11 DataFrame\u001b[0m\n",
       "\u001b[1m Row \u001b[0m│\u001b[1m sp1     \u001b[0m\u001b[1m sp2     \u001b[0m\u001b[1m sp1_inc \u001b[0m\u001b[1m sp2_inc \u001b[0m\u001b[1m obs_cooccur \u001b[0m\u001b[1m prob_cooccur \u001b[0m\u001b[1m exp_cooc\u001b[0m ⋯\n",
       "     │\u001b[90m Integer \u001b[0m\u001b[90m Integer \u001b[0m\u001b[90m Integer \u001b[0m\u001b[90m Integer \u001b[0m\u001b[90m Integer     \u001b[0m\u001b[90m Real         \u001b[0m\u001b[90m Real    \u001b[0m ⋯\n",
       "─────┼──────────────────────────────────────────────────────────────────────────\n",
       "   1 │       2       81        1       14            1         0.071           ⋯\n",
       "   2 │       3       81        1       14            1         0.071\n",
       "   3 │       4       81        1       14            1         0.071\n",
       "   4 │       6       81        1       14            1         0.071\n",
       "   5 │      10       81        1       14            1         0.071           ⋯\n",
       "   6 │      17       81        1       14            1         0.071\n",
       "   7 │      49       81        1       14            1         0.071\n",
       "   8 │      64       81        1       14            1         0.071\n",
       "  ⋮  │    ⋮        ⋮        ⋮        ⋮          ⋮            ⋮             ⋮   ⋱\n",
       " 526 │     707      722        3        7            2         0.107           ⋯\n",
       " 527 │     722      727        7        2            2         0.071\n",
       " 528 │     722      752        7        2            2         0.071\n",
       " 529 │     722      761        7        2            1         0.071\n",
       " 530 │     722      771        7        2            2         0.071           ⋯\n",
       " 531 │     722      773        7        2            2         0.071\n",
       " 532 │     722      788        7        4            4         0.143\n",
       "\u001b[36m                                                  5 columns and 517 rows omitted\u001b[0m, 51, 0, 51, 532, 422, 59, [14 14 … 14 14; 14 14 … 14 14; … ; 14 14 … 14 14; 14 14 … 14 14], 799, 9.586466165413533, [\"AGRN\", \"TNFRSF4\", \"TNFRSF14\", \"TNFRSF25\", \"TNFRSF9\", \"CLSTN1\", \"AGTRAP\", \"TNFRSF1B\", \"EPHA2\", \"HSPG2\"  …  \"TRO\", \"EFNB1\", \"DLG3\", \"IL2RG\", \"CXCR3\", \"P2RY10\", \"AMOT\", \"GPC4\", \"L1CAM\", \"PLXNA3\"], \u001b[1m799×2 DataFrame\u001b[0m\n",
       "\u001b[1m Row \u001b[0m│\u001b[1m num   \u001b[0m\u001b[1m spp      \u001b[0m\n",
       "     │\u001b[90m Int64 \u001b[0m\u001b[90m String   \u001b[0m\n",
       "─────┼─────────────────\n",
       "   1 │     1  AGRN\n",
       "   2 │     2  TNFRSF4\n",
       "   3 │     3  TNFRSF14\n",
       "   4 │     4  TNFRSF25\n",
       "   5 │     5  TNFRSF9\n",
       "   6 │     6  CLSTN1\n",
       "   7 │     7  AGTRAP\n",
       "   8 │     8  TNFRSF1B\n",
       "  ⋮  │   ⋮       ⋮\n",
       " 793 │   793  IL2RG\n",
       " 794 │   794  CXCR3\n",
       " 795 │   795  P2RY10\n",
       " 796 │   796  AMOT\n",
       " 797 │   797  GPC4\n",
       " 798 │   798  L1CAM\n",
       " 799 │   799  PLXNA3\n",
       "\u001b[36m       784 rows omitted\u001b[0m, 318269, 318801, 0.1)"
      ]
     },
     "metadata": {},
     "output_type": "display_data"
    }
   ],
   "source": [
    "cooccur_COI_res = calculate_cooccurrence_stats_refactored(Matrix(coocur_COI_exp), coocur_COI.var.name; spp_names=true)"
   ]
  },
  {
   "cell_type": "code",
   "execution_count": 46,
   "metadata": {},
   "outputs": [
    {
     "data": {
      "text/plain": [
       "summarize_cooccur"
      ]
     },
     "metadata": {},
     "output_type": "display_data"
    }
   ],
   "source": []
  },
  {
   "cell_type": "code",
   "execution_count": 47,
   "metadata": {},
   "outputs": [
    {
     "name": "stdout",
     "output_type": "stream",
     "text": [
      "Of 318801 species pair combinations, 318269 pairs (99.83%) were removed from the analysis because expected co-occurrence was < 1 and\n",
      "532 pairs were analyzed\n",
      "\n",
      "Cooccurrence Summary:\n",
      "\n",
      "Species => 799\n",
      "Non-random (%) => 9.6\n",
      "Sites => 14\n",
      "Negative => 0\n",
      "Random => 422\n",
      "Positive => 51\n",
      "Unclassifiable => 59\n"
     ]
    }
   ],
   "source": [
    "summarize_cooccur(cooccur_COI_res);"
   ]
  },
  {
   "cell_type": "code",
   "execution_count": null,
   "metadata": {},
   "outputs": [],
   "source": []
  },
  {
   "cell_type": "code",
   "execution_count": 4,
   "metadata": {},
   "outputs": [
    {
     "data": {
      "text/plain": [
       "799-element Vector{String}:\n",
       " \"AGRN\"\n",
       " \"TNFRSF4\"\n",
       " \"TNFRSF14\"\n",
       " \"TNFRSF25\"\n",
       " \"TNFRSF9\"\n",
       " \"CLSTN1\"\n",
       " \"AGTRAP\"\n",
       " \"TNFRSF1B\"\n",
       " \"EPHA2\"\n",
       " \"HSPG2\"\n",
       " ⋮\n",
       " \"EFNB1\"\n",
       " \"DLG3\"\n",
       " \"IL2RG\"\n",
       " \"CXCR3\"\n",
       " \"P2RY10\"\n",
       " \"AMOT\"\n",
       " \"GPC4\"\n",
       " \"L1CAM\"\n",
       " \"PLXNA3\""
      ]
     },
     "metadata": {},
     "output_type": "display_data"
    }
   ],
   "source": [
    "cooccur_COI_res.spp_names"
   ]
  },
  {
   "cell_type": "code",
   "execution_count": 14,
   "metadata": {},
   "outputs": [
    {
     "data": {
      "text/html": [
       "<div><div style = \"float: left;\"><span>799×2 DataFrame</span></div><div style = \"float: right;\"><span style = \"font-style: italic;\">774 rows omitted</span></div><div style = \"clear: both;\"></div></div><div class = \"data-frame\" style = \"overflow-x: scroll;\"><table class = \"data-frame\" style = \"margin-bottom: 6px;\"><thead><tr class = \"header\"><th class = \"rowNumber\" style = \"font-weight: bold; text-align: right;\">Row</th><th style = \"text-align: left;\">num</th><th style = \"text-align: left;\">spp</th></tr><tr class = \"subheader headerLastRow\"><th class = \"rowNumber\" style = \"font-weight: bold; text-align: right;\"></th><th title = \"Int64\" style = \"text-align: left;\">Int64</th><th title = \"String\" style = \"text-align: left;\">String</th></tr></thead><tbody><tr><td class = \"rowNumber\" style = \"font-weight: bold; text-align: right;\">1</td><td style = \"text-align: right;\">1</td><td style = \"text-align: left;\">AGRN</td></tr><tr><td class = \"rowNumber\" style = \"font-weight: bold; text-align: right;\">2</td><td style = \"text-align: right;\">2</td><td style = \"text-align: left;\">TNFRSF4</td></tr><tr><td class = \"rowNumber\" style = \"font-weight: bold; text-align: right;\">3</td><td style = \"text-align: right;\">3</td><td style = \"text-align: left;\">TNFRSF14</td></tr><tr><td class = \"rowNumber\" style = \"font-weight: bold; text-align: right;\">4</td><td style = \"text-align: right;\">4</td><td style = \"text-align: left;\">TNFRSF25</td></tr><tr><td class = \"rowNumber\" style = \"font-weight: bold; text-align: right;\">5</td><td style = \"text-align: right;\">5</td><td style = \"text-align: left;\">TNFRSF9</td></tr><tr><td class = \"rowNumber\" style = \"font-weight: bold; text-align: right;\">6</td><td style = \"text-align: right;\">6</td><td style = \"text-align: left;\">CLSTN1</td></tr><tr><td class = \"rowNumber\" style = \"font-weight: bold; text-align: right;\">7</td><td style = \"text-align: right;\">7</td><td style = \"text-align: left;\">AGTRAP</td></tr><tr><td class = \"rowNumber\" style = \"font-weight: bold; text-align: right;\">8</td><td style = \"text-align: right;\">8</td><td style = \"text-align: left;\">TNFRSF1B</td></tr><tr><td class = \"rowNumber\" style = \"font-weight: bold; text-align: right;\">9</td><td style = \"text-align: right;\">9</td><td style = \"text-align: left;\">EPHA2</td></tr><tr><td class = \"rowNumber\" style = \"font-weight: bold; text-align: right;\">10</td><td style = \"text-align: right;\">10</td><td style = \"text-align: left;\">HSPG2</td></tr><tr><td class = \"rowNumber\" style = \"font-weight: bold; text-align: right;\">11</td><td style = \"text-align: right;\">11</td><td style = \"text-align: left;\">WNT4</td></tr><tr><td class = \"rowNumber\" style = \"font-weight: bold; text-align: right;\">12</td><td style = \"text-align: right;\">12</td><td style = \"text-align: left;\">EPHB2</td></tr><tr><td class = \"rowNumber\" style = \"font-weight: bold; text-align: right;\">13</td><td style = \"text-align: right;\">13</td><td style = \"text-align: left;\">IL22RA1</td></tr><tr><td style = \"text-align: right;\">&vellip;</td><td style = \"text-align: right;\">&vellip;</td><td style = \"text-align: right;\">&vellip;</td></tr><tr><td class = \"rowNumber\" style = \"font-weight: bold; text-align: right;\">788</td><td style = \"text-align: right;\">788</td><td style = \"text-align: left;\">TIMP1</td></tr><tr><td class = \"rowNumber\" style = \"font-weight: bold; text-align: right;\">789</td><td style = \"text-align: right;\">789</td><td style = \"text-align: left;\">EBP</td></tr><tr><td class = \"rowNumber\" style = \"font-weight: bold; text-align: right;\">790</td><td style = \"text-align: right;\">790</td><td style = \"text-align: left;\">TRO</td></tr><tr><td class = \"rowNumber\" style = \"font-weight: bold; text-align: right;\">791</td><td style = \"text-align: right;\">791</td><td style = \"text-align: left;\">EFNB1</td></tr><tr><td class = \"rowNumber\" style = \"font-weight: bold; text-align: right;\">792</td><td style = \"text-align: right;\">792</td><td style = \"text-align: left;\">DLG3</td></tr><tr><td class = \"rowNumber\" style = \"font-weight: bold; text-align: right;\">793</td><td style = \"text-align: right;\">793</td><td style = \"text-align: left;\">IL2RG</td></tr><tr><td class = \"rowNumber\" style = \"font-weight: bold; text-align: right;\">794</td><td style = \"text-align: right;\">794</td><td style = \"text-align: left;\">CXCR3</td></tr><tr><td class = \"rowNumber\" style = \"font-weight: bold; text-align: right;\">795</td><td style = \"text-align: right;\">795</td><td style = \"text-align: left;\">P2RY10</td></tr><tr><td class = \"rowNumber\" style = \"font-weight: bold; text-align: right;\">796</td><td style = \"text-align: right;\">796</td><td style = \"text-align: left;\">AMOT</td></tr><tr><td class = \"rowNumber\" style = \"font-weight: bold; text-align: right;\">797</td><td style = \"text-align: right;\">797</td><td style = \"text-align: left;\">GPC4</td></tr><tr><td class = \"rowNumber\" style = \"font-weight: bold; text-align: right;\">798</td><td style = \"text-align: right;\">798</td><td style = \"text-align: left;\">L1CAM</td></tr><tr><td class = \"rowNumber\" style = \"font-weight: bold; text-align: right;\">799</td><td style = \"text-align: right;\">799</td><td style = \"text-align: left;\">PLXNA3</td></tr></tbody></table></div>"
      ],
      "text/latex": [
       "\\begin{tabular}{r|cc}\n",
       "\t& num & spp\\\\\n",
       "\t\\hline\n",
       "\t& Int64 & String\\\\\n",
       "\t\\hline\n",
       "\t1 & 1 & AGRN \\\\\n",
       "\t2 & 2 & TNFRSF4 \\\\\n",
       "\t3 & 3 & TNFRSF14 \\\\\n",
       "\t4 & 4 & TNFRSF25 \\\\\n",
       "\t5 & 5 & TNFRSF9 \\\\\n",
       "\t6 & 6 & CLSTN1 \\\\\n",
       "\t7 & 7 & AGTRAP \\\\\n",
       "\t8 & 8 & TNFRSF1B \\\\\n",
       "\t9 & 9 & EPHA2 \\\\\n",
       "\t10 & 10 & HSPG2 \\\\\n",
       "\t11 & 11 & WNT4 \\\\\n",
       "\t12 & 12 & EPHB2 \\\\\n",
       "\t13 & 13 & IL22RA1 \\\\\n",
       "\t14 & 14 & PTAFR \\\\\n",
       "\t15 & 15 & SDC3 \\\\\n",
       "\t16 & 16 & TXLNA \\\\\n",
       "\t17 & 17 & YARS \\\\\n",
       "\t18 & 18 & CSF3R \\\\\n",
       "\t19 & 19 & RSPO1 \\\\\n",
       "\t20 & 20 & EPHA10 \\\\\n",
       "\t21 & 21 & BMP8A \\\\\n",
       "\t22 & 22 & BMP8B \\\\\n",
       "\t23 & 23 & EDN2 \\\\\n",
       "\t24 & 24 & GUCA2B \\\\\n",
       "\t$\\dots$ & $\\dots$ & $\\dots$ \\\\\n",
       "\\end{tabular}\n"
      ],
      "text/plain": [
       "\u001b[1m799×2 DataFrame\u001b[0m\n",
       "\u001b[1m Row \u001b[0m│\u001b[1m num   \u001b[0m\u001b[1m spp      \u001b[0m\n",
       "     │\u001b[90m Int64 \u001b[0m\u001b[90m String   \u001b[0m\n",
       "─────┼─────────────────\n",
       "   1 │     1  AGRN\n",
       "   2 │     2  TNFRSF4\n",
       "   3 │     3  TNFRSF14\n",
       "   4 │     4  TNFRSF25\n",
       "   5 │     5  TNFRSF9\n",
       "   6 │     6  CLSTN1\n",
       "   7 │     7  AGTRAP\n",
       "   8 │     8  TNFRSF1B\n",
       "  ⋮  │   ⋮       ⋮\n",
       " 793 │   793  IL2RG\n",
       " 794 │   794  CXCR3\n",
       " 795 │   795  P2RY10\n",
       " 796 │   796  AMOT\n",
       " 797 │   797  GPC4\n",
       " 798 │   798  L1CAM\n",
       " 799 │   799  PLXNA3\n",
       "\u001b[36m       784 rows omitted\u001b[0m"
      ]
     },
     "metadata": {},
     "output_type": "display_data"
    }
   ],
   "source": [
    "c.spp_key = cooccur_COI_res[:spp_key]"
   ]
  },
  {
   "cell_type": "code",
   "execution_count": 16,
   "metadata": {},
   "outputs": [
    {
     "data": {
      "text/plain": [
       "799-element Vector{Int64}:\n",
       "   1\n",
       "   2\n",
       "   3\n",
       "   4\n",
       "   5\n",
       "   6\n",
       "   7\n",
       "   8\n",
       "   9\n",
       "  10\n",
       "   ⋮\n",
       " 791\n",
       " 792\n",
       " 793\n",
       " 794\n",
       " 795\n",
       " 796\n",
       " 797\n",
       " 798\n",
       " 799"
      ]
     },
     "metadata": {},
     "output_type": "display_data"
    }
   ],
   "source": [
    "c.spp_names = c.spp_key.num"
   ]
  },
  {
   "cell_type": "code",
   "execution_count": null,
   "metadata": {},
   "outputs": [],
   "source": []
  },
  {
   "cell_type": "code",
   "execution_count": 54,
   "metadata": {},
   "outputs": [
    {
     "data": {
      "text/plain": [
       "Dict{Symbol, Any} with 15 entries:\n",
       "  :percent_sig          => 9.58647\n",
       "  :pairs                => 532\n",
       "  :pot_pairs            => 318801\n",
       "  :spp_names            => [\"AGRN\", \"TNFRSF4\", \"TNFRSF14\", \"TNFRSF25\", \"TNFRSF9…\n",
       "  :sites                => [14 14 … 14 14; 14 14 … 14 14; … ; 14 14 … 14 14; 14…\n",
       "  :species              => 799\n",
       "  :true_rand_classifier => 0.1\n",
       "  :negative             => 0\n",
       "  :co_occurrences       => 51\n",
       "  :random               => 422\n",
       "  :unclassifiable       => 59\n",
       "  :results              => \u001b[1m532×11 DataFrame\u001b[0m\u001b[0m…\n",
       "  :positive             => 51\n",
       "  :spp_key              => \u001b[1m799×2 DataFrame\u001b[0m\u001b[0m…\n",
       "  :omitted              => 318269"
      ]
     },
     "metadata": {},
     "output_type": "display_data"
    }
   ],
   "source": [
    "cooccur_COI_res"
   ]
  },
  {
   "cell_type": "code",
   "execution_count": 16,
   "metadata": {},
   "outputs": [
    {
     "data": {
      "text/plain": [
       "Base.OneTo(532)"
      ]
     },
     "metadata": {},
     "output_type": "display_data"
    }
   ],
   "source": [
    "axes(cooccur_COI_res.results, 1)"
   ]
  },
  {
   "cell_type": "code",
   "execution_count": 17,
   "metadata": {},
   "outputs": [
    {
     "data": {
      "text/plain": [
       "532"
      ]
     },
     "metadata": {},
     "output_type": "display_data"
    }
   ],
   "source": [
    "size(cooccur_COI_res.results, 1)"
   ]
  },
  {
   "cell_type": "code",
   "execution_count": 29,
   "metadata": {},
   "outputs": [
    {
     "data": {
      "text/plain": [
       "true"
      ]
     },
     "metadata": {},
     "output_type": "display_data"
    }
   ],
   "source": [
    "cooccurr = cooccur_COI_res\n",
    "ptab = cooccurr[:results]\n",
    "\"sp1_name\" in names(ptab)"
   ]
  },
  {
   "cell_type": "code",
   "execution_count": 30,
   "metadata": {},
   "outputs": [
    {
     "data": {
      "text/plain": [
       "532-element Vector{String}:\n",
       " \"PIGR\"\n",
       " \"PIGR\"\n",
       " \"PIGR\"\n",
       " \"PIGR\"\n",
       " \"PIGR\"\n",
       " \"PIGR\"\n",
       " \"PIGR\"\n",
       " \"PIGR\"\n",
       " \"PIGR\"\n",
       " \"CD46\"\n",
       " ⋮\n",
       " \"RPS19\"\n",
       " \"TIMP1\"\n",
       " \"RPS19\"\n",
       " \"APOE\"\n",
       " \"RRBP1\"\n",
       " \"TNFRSF6B\"\n",
       " \"COL18A1\"\n",
       " \"MIF\"\n",
       " \"TIMP1\""
      ]
     },
     "metadata": {},
     "output_type": "display_data"
    }
   ],
   "source": [
    "if \"sp1_name\" in names(ptab)\n",
    "    sp1 = string.(ptab.sp1_name)\n",
    "    sp2 = string.(ptab.sp2_name)\n",
    "else\n",
    "    sp1 = ptab.sp1\n",
    "    sp2 = ptab.sp2\n",
    "end"
   ]
  },
  {
   "cell_type": "code",
   "execution_count": 34,
   "metadata": {},
   "outputs": [
    {
     "data": {
      "text/plain": [
       "532"
      ]
     },
     "metadata": {},
     "output_type": "display_data"
    }
   ],
   "source": [
    "length(sp2)"
   ]
  },
  {
   "cell_type": "code",
   "execution_count": 36,
   "metadata": {},
   "outputs": [],
   "source": [
    "standardized = true\n",
    "if standardized\n",
    "    Nmat = cooccurr[:sites]\n",
    "    rawtab = cooccurr[:results]\n",
    "    rawsp1 = rawtab.sp1\n",
    "    rawsp2 = rawtab.sp2\n",
    "    rawobs = ptab.obs_cooccur\n",
    "    rawexp = ptab.exp_cooccur\n",
    "\n",
    "    effs = DataFrame(sp1 = Any[], sp2 = Any[], effects = Any[])\n",
    "    \n",
    "    for i in 1:length(sp1)\n",
    "        eff = (rawobs[i] - rawexp[i]) / Nmat[rawsp1[i], rawsp2[i]]\n",
    "        push!(effs, [sp1[i], sp2[i], eff])\n",
    "    end\n",
    "    \n",
    "else\n",
    "    effs = DataFrame(sp1=sp1, sp2=sp2, effects=ptab.obs_cooccur - ptab.exp_cooccur)\n",
    "end"
   ]
  },
  {
   "cell_type": "code",
   "execution_count": null,
   "metadata": {},
   "outputs": [],
   "source": []
  },
  {
   "cell_type": "code",
   "execution_count": 52,
   "metadata": {},
   "outputs": [
    {
     "data": {
      "text/plain": [
       "effect_sizes"
      ]
     },
     "metadata": {},
     "output_type": "display_data"
    }
   ],
   "source": [
    "\"\"\"\n",
    "    effect_sizes(cooccur; standardized=true)\n",
    "\n",
    "Calculate effect sizes for co-occurrence analysis results.\n",
    "\n",
    "# Arguments\n",
    "- `cooccur`: A co-occurrence analysis object.\n",
    "- `standardized`: A boolean indicating whether to calculate standardized effect sizes.\n",
    "\n",
    "# Returns\n",
    "Effect sizes as a data frame.\n",
    "\n",
    "# Example\n",
    "```julia\n",
    "effect_sizes(cooccur_object)\n",
    "\"\"\"\n",
    "function effect_sizes(cooccur; standardized=true)\n",
    "    cooccur_results = cooccur[:results]\n",
    "    if \"sp1_name\" in names(cooccur_results)\n",
    "        species1 = string.(cooccur_results.sp1_name)\n",
    "        species2 = string.(cooccur_results.sp2_name)\n",
    "    else\n",
    "        species1 = cooccurrence_results.sp1\n",
    "        species2 = cooccurrence_results.sp2\n",
    "    end\n",
    "\n",
    "    if standardized\n",
    "        site_matrix = cooccur[:sites]\n",
    "        raw_species1 = cooccur_results.sp1\n",
    "        raw_species2 = cooccur_results.sp2\n",
    "        raw_observed = cooccur_results.obs_cooccur\n",
    "        raw_expected = cooccur_results.exp_cooccur\n",
    "\n",
    "        effect_sizes_df = DataFrame(\n",
    "            species1=String[],\n",
    "            species2=String[],\n",
    "            effects=Float64[]\n",
    "        )\n",
    "\n",
    "        for i in 1:length(species1)\n",
    "            effect = (raw_observed[i] - raw_expected[i]) / site_matrix[raw_species1[i], raw_species2[i]]\n",
    "            push!(effect_sizes_df, [species1[i], species2[i], effect])\n",
    "        end\n",
    "\n",
    "    else\n",
    "        effect_sizes_df = DataFrame(\n",
    "            species1=species1,\n",
    "            species2=species2,\n",
    "            effects=cooccur_results.obs_cooccur - cooccur_results.exp_cooccur\n",
    "        )\n",
    "    end\n",
    "\n",
    "    return effect_sizes_df\n",
    "end"
   ]
  },
  {
   "cell_type": "code",
   "execution_count": 53,
   "metadata": {},
   "outputs": [
    {
     "data": {
      "text/html": [
       "<div><div style = \"float: left;\"><span>532×3 DataFrame</span></div><div style = \"float: right;\"><span style = \"font-style: italic;\">507 rows omitted</span></div><div style = \"clear: both;\"></div></div><div class = \"data-frame\" style = \"overflow-x: scroll;\"><table class = \"data-frame\" style = \"margin-bottom: 6px;\"><thead><tr class = \"header\"><th class = \"rowNumber\" style = \"font-weight: bold; text-align: right;\">Row</th><th style = \"text-align: left;\">species1</th><th style = \"text-align: left;\">species2</th><th style = \"text-align: left;\">effects</th></tr><tr class = \"subheader headerLastRow\"><th class = \"rowNumber\" style = \"font-weight: bold; text-align: right;\"></th><th title = \"String\" style = \"text-align: left;\">String</th><th title = \"String\" style = \"text-align: left;\">String</th><th title = \"Float64\" style = \"text-align: left;\">Float64</th></tr></thead><tbody><tr><td class = \"rowNumber\" style = \"font-weight: bold; text-align: right;\">1</td><td style = \"text-align: left;\">TNFRSF4</td><td style = \"text-align: left;\">PIGR</td><td style = \"text-align: right;\">0.0</td></tr><tr><td class = \"rowNumber\" style = \"font-weight: bold; text-align: right;\">2</td><td style = \"text-align: left;\">TNFRSF14</td><td style = \"text-align: left;\">PIGR</td><td style = \"text-align: right;\">0.0</td></tr><tr><td class = \"rowNumber\" style = \"font-weight: bold; text-align: right;\">3</td><td style = \"text-align: left;\">TNFRSF25</td><td style = \"text-align: left;\">PIGR</td><td style = \"text-align: right;\">0.0</td></tr><tr><td class = \"rowNumber\" style = \"font-weight: bold; text-align: right;\">4</td><td style = \"text-align: left;\">CLSTN1</td><td style = \"text-align: left;\">PIGR</td><td style = \"text-align: right;\">0.0</td></tr><tr><td class = \"rowNumber\" style = \"font-weight: bold; text-align: right;\">5</td><td style = \"text-align: left;\">HSPG2</td><td style = \"text-align: left;\">PIGR</td><td style = \"text-align: right;\">0.0</td></tr><tr><td class = \"rowNumber\" style = \"font-weight: bold; text-align: right;\">6</td><td style = \"text-align: left;\">YARS</td><td style = \"text-align: left;\">PIGR</td><td style = \"text-align: right;\">0.0</td></tr><tr><td class = \"rowNumber\" style = \"font-weight: bold; text-align: right;\">7</td><td style = \"text-align: left;\">ADAM15</td><td style = \"text-align: left;\">PIGR</td><td style = \"text-align: right;\">0.0</td></tr><tr><td class = \"rowNumber\" style = \"font-weight: bold; text-align: right;\">8</td><td style = \"text-align: left;\">CD247</td><td style = \"text-align: left;\">PIGR</td><td style = \"text-align: right;\">0.0</td></tr><tr><td class = \"rowNumber\" style = \"font-weight: bold; text-align: right;\">9</td><td style = \"text-align: left;\">PTPRC</td><td style = \"text-align: left;\">PIGR</td><td style = \"text-align: right;\">0.0</td></tr><tr><td class = \"rowNumber\" style = \"font-weight: bold; text-align: right;\">10</td><td style = \"text-align: left;\">PIGR</td><td style = \"text-align: left;\">CD46</td><td style = \"text-align: right;\">0.0</td></tr><tr><td class = \"rowNumber\" style = \"font-weight: bold; text-align: right;\">11</td><td style = \"text-align: left;\">PIGR</td><td style = \"text-align: left;\">NENF</td><td style = \"text-align: right;\">0.0</td></tr><tr><td class = \"rowNumber\" style = \"font-weight: bold; text-align: right;\">12</td><td style = \"text-align: left;\">PIGR</td><td style = \"text-align: left;\">ARF1</td><td style = \"text-align: right;\">0.0</td></tr><tr><td class = \"rowNumber\" style = \"font-weight: bold; text-align: right;\">13</td><td style = \"text-align: left;\">PIGR</td><td style = \"text-align: left;\">NID1</td><td style = \"text-align: right;\">0.0</td></tr><tr><td style = \"text-align: right;\">&vellip;</td><td style = \"text-align: right;\">&vellip;</td><td style = \"text-align: right;\">&vellip;</td><td style = \"text-align: right;\">&vellip;</td></tr><tr><td class = \"rowNumber\" style = \"font-weight: bold; text-align: right;\">521</td><td style = \"text-align: left;\">THBS1</td><td style = \"text-align: left;\">TIMP1</td><td style = \"text-align: right;\">0.05</td></tr><tr><td class = \"rowNumber\" style = \"font-weight: bold; text-align: right;\">522</td><td style = \"text-align: left;\">PKD1</td><td style = \"text-align: left;\">RPS19</td><td style = \"text-align: right;\">0.0714286</td></tr><tr><td class = \"rowNumber\" style = \"font-weight: bold; text-align: right;\">523</td><td style = \"text-align: left;\">C3</td><td style = \"text-align: left;\">CALR</td><td style = \"text-align: right;\">0.0642857</td></tr><tr><td class = \"rowNumber\" style = \"font-weight: bold; text-align: right;\">524</td><td style = \"text-align: left;\">C3</td><td style = \"text-align: left;\">RPS19</td><td style = \"text-align: right;\">0.178571</td></tr><tr><td class = \"rowNumber\" style = \"font-weight: bold; text-align: right;\">525</td><td style = \"text-align: left;\">C3</td><td style = \"text-align: left;\">TIMP1</td><td style = \"text-align: right;\">0.185714</td></tr><tr><td class = \"rowNumber\" style = \"font-weight: bold; text-align: right;\">526</td><td style = \"text-align: left;\">CALR</td><td style = \"text-align: left;\">RPS19</td><td style = \"text-align: right;\">0.0357143</td></tr><tr><td class = \"rowNumber\" style = \"font-weight: bold; text-align: right;\">527</td><td style = \"text-align: left;\">RPS19</td><td style = \"text-align: left;\">APOE</td><td style = \"text-align: right;\">0.0714286</td></tr><tr><td class = \"rowNumber\" style = \"font-weight: bold; text-align: right;\">528</td><td style = \"text-align: left;\">RPS19</td><td style = \"text-align: left;\">RRBP1</td><td style = \"text-align: right;\">0.0714286</td></tr><tr><td class = \"rowNumber\" style = \"font-weight: bold; text-align: right;\">529</td><td style = \"text-align: left;\">RPS19</td><td style = \"text-align: left;\">TNFRSF6B</td><td style = \"text-align: right;\">0.0</td></tr><tr><td class = \"rowNumber\" style = \"font-weight: bold; text-align: right;\">530</td><td style = \"text-align: left;\">RPS19</td><td style = \"text-align: left;\">COL18A1</td><td style = \"text-align: right;\">0.0714286</td></tr><tr><td class = \"rowNumber\" style = \"font-weight: bold; text-align: right;\">531</td><td style = \"text-align: left;\">RPS19</td><td style = \"text-align: left;\">MIF</td><td style = \"text-align: right;\">0.0714286</td></tr><tr><td class = \"rowNumber\" style = \"font-weight: bold; text-align: right;\">532</td><td style = \"text-align: left;\">RPS19</td><td style = \"text-align: left;\">TIMP1</td><td style = \"text-align: right;\">0.142857</td></tr></tbody></table></div>"
      ],
      "text/latex": [
       "\\begin{tabular}{r|ccc}\n",
       "\t& species1 & species2 & effects\\\\\n",
       "\t\\hline\n",
       "\t& String & String & Float64\\\\\n",
       "\t\\hline\n",
       "\t1 & TNFRSF4 & PIGR & 0.0 \\\\\n",
       "\t2 & TNFRSF14 & PIGR & 0.0 \\\\\n",
       "\t3 & TNFRSF25 & PIGR & 0.0 \\\\\n",
       "\t4 & CLSTN1 & PIGR & 0.0 \\\\\n",
       "\t5 & HSPG2 & PIGR & 0.0 \\\\\n",
       "\t6 & YARS & PIGR & 0.0 \\\\\n",
       "\t7 & ADAM15 & PIGR & 0.0 \\\\\n",
       "\t8 & CD247 & PIGR & 0.0 \\\\\n",
       "\t9 & PTPRC & PIGR & 0.0 \\\\\n",
       "\t10 & PIGR & CD46 & 0.0 \\\\\n",
       "\t11 & PIGR & NENF & 0.0 \\\\\n",
       "\t12 & PIGR & ARF1 & 0.0 \\\\\n",
       "\t13 & PIGR & NID1 & 0.0 \\\\\n",
       "\t14 & PIGR & ADAM17 & 0.0 \\\\\n",
       "\t15 & PIGR & CALM2 & 0.0 \\\\\n",
       "\t16 & PIGR & RTN4 & 0.0 \\\\\n",
       "\t17 & PIGR & EFEMP1 & 0.0 \\\\\n",
       "\t18 & PIGR & TGFA & 0.0 \\\\\n",
       "\t19 & PIGR & CXCR4 & 0.0 \\\\\n",
       "\t20 & PIGR & ITGA6 & 0.0 \\\\\n",
       "\t21 & PIGR & ITGA4 & 0.0 \\\\\n",
       "\t22 & PIGR & SLC40A1 & 0.0 \\\\\n",
       "\t23 & PIGR & FN1 & 0.0 \\\\\n",
       "\t24 & PIGR & ITPR1 & 0.0 \\\\\n",
       "\t$\\dots$ & $\\dots$ & $\\dots$ & $\\dots$ \\\\\n",
       "\\end{tabular}\n"
      ],
      "text/plain": [
       "\u001b[1m532×3 DataFrame\u001b[0m\n",
       "\u001b[1m Row \u001b[0m│\u001b[1m species1 \u001b[0m\u001b[1m species2 \u001b[0m\u001b[1m effects   \u001b[0m\n",
       "     │\u001b[90m String   \u001b[0m\u001b[90m String   \u001b[0m\u001b[90m Float64   \u001b[0m\n",
       "─────┼───────────────────────────────\n",
       "   1 │ TNFRSF4   PIGR      0.0\n",
       "   2 │ TNFRSF14  PIGR      0.0\n",
       "   3 │ TNFRSF25  PIGR      0.0\n",
       "   4 │ CLSTN1    PIGR      0.0\n",
       "   5 │ HSPG2     PIGR      0.0\n",
       "   6 │ YARS      PIGR      0.0\n",
       "   7 │ ADAM15    PIGR      0.0\n",
       "   8 │ CD247     PIGR      0.0\n",
       "  ⋮  │    ⋮         ⋮          ⋮\n",
       " 526 │ CALR      RPS19     0.0357143\n",
       " 527 │ RPS19     APOE      0.0714286\n",
       " 528 │ RPS19     RRBP1     0.0714286\n",
       " 529 │ RPS19     TNFRSF6B  0.0\n",
       " 530 │ RPS19     COL18A1   0.0714286\n",
       " 531 │ RPS19     MIF       0.0714286\n",
       " 532 │ RPS19     TIMP1     0.142857\n",
       "\u001b[36m                     517 rows omitted\u001b[0m"
      ]
     },
     "metadata": {},
     "output_type": "display_data"
    }
   ],
   "source": [
    "effect_sizes(cooccur_COI_res; standardized=true)"
   ]
  },
  {
   "cell_type": "code",
   "execution_count": null,
   "metadata": {},
   "outputs": [],
   "source": []
  },
  {
   "cell_type": "code",
   "execution_count": null,
   "metadata": {},
   "outputs": [],
   "source": []
  },
  {
   "cell_type": "code",
   "execution_count": null,
   "metadata": {},
   "outputs": [],
   "source": []
  },
  {
   "cell_type": "markdown",
   "metadata": {},
   "source": [
    "## Co-occurrence Workbench"
   ]
  },
  {
   "cell_type": "code",
   "execution_count": 3,
   "metadata": {},
   "outputs": [
    {
     "data": {
      "text/plain": [
       "calculate_cooccurrence_matrix"
      ]
     },
     "metadata": {},
     "output_type": "display_data"
    }
   ],
   "source": [
    "\"\"\"\n",
    "Calculate the co-occurrence matrix N from a binary species-site matrix.\n",
    "\n",
    "This function creates a species by species matrix of potential co-occurring sites (N) from a binary species by site matrix, where 1 represents potential occupancy, and 0 indicates species absence.\n",
    "\n",
    "# Arguments\n",
    "- `mat::Matrix{Int}`: A binary species by site matrix.\n",
    "\n",
    "# Returns\n",
    "A species by species matrix where the upper triangle contains N for each species pair.\n",
    "\n",
    "# Examples\n",
    "```julia\n",
    "# Define a binary species by site matrix\n",
    "# species_matrix = rand(Bool, num_species, num_sites)\n",
    "\n",
    "# Calculate the co-occurrence matrix N\n",
    "# cooccurrence_matrix = create_N_matrix(species_matrix)\n",
    "\n",
    "\"\"\"\n",
    "function calculate_cooccurrence_matrix(mat::Matrix{Int})\n",
    "    num_species = size(mat, 1)\n",
    "    cooccurrence_matrix = zeros(Int, num_species, num_species)\n",
    "    \n",
    "    for i in 1:num_species\n",
    "        for j in (i + 1):num_species\n",
    "            cooccurrence_matrix[i, j] = sum(mat[i, :] .* mat[j, :])\n",
    "            cooccurrence_matrix[j, i] = cooccurrence_matrix[i, j]\n",
    "        end\n",
    "    end\n",
    "    \n",
    "    return cooccurrence_matrix    \n",
    "end\n",
    "\n",
    "# finches = load(\"../data/finches.rda\")[\"finches\"]\n",
    "# N_matrix = rand(Bool, nrow(finches), ncol(finches))\n",
    "# create_N_matrix(N_matrix)"
   ]
  },
  {
   "cell_type": "code",
   "execution_count": 4,
   "metadata": {},
   "outputs": [
    {
     "data": {
      "text/plain": [
       "calculate_conditional_probability"
      ]
     },
     "metadata": {},
     "output_type": "display_data"
    }
   ],
   "source": [
    "\"\"\"\n",
    "    calculate_conditional_probability(max_successes, successes, min_successes, total_trials)\n",
    "\n",
    "Calculate the conditional probability using binomial coefficients.\n",
    "\n",
    "# Arguments\n",
    "- `successes::Int`: The number of successful trials.\n",
    "- `min_successes::Int`: The minimum number of successful trials.\n",
    "- `max_successes::Int`: The maximum number of successful trials.\n",
    "- `total_trials::Int`: The total number of trials.\n",
    "\n",
    "# Returns\n",
    "The calculated conditional probability as a floating-point number.\n",
    "\"\"\"\n",
    "function calculate_conditional_probability(\n",
    "    successes::Int, min_successes::Int, max_successes::Int, total_trials::Int\n",
    "    )::Real\n",
    "\n",
    "    # Calculate the numerator using binomial coefficients\n",
    "    numerator = binomial(max_successes, successes) * binomial(total_trials - max_successes, min_successes - successes)\n",
    "    \n",
    "    # Calculate the denominator using binomial coefficients\n",
    "    denominator = binomial(total_trials, min_successes)\n",
    "    \n",
    "    # Calculate and return the conditional probability\n",
    "    return numerator / denominator\n",
    "end\n",
    "\n",
    "# calculate_conditional_probability(4, 10, 20, 50)\n",
    "# Verified"
   ]
  },
  {
   "cell_type": "code",
   "execution_count": 5,
   "metadata": {},
   "outputs": [
    {
     "data": {
      "text/plain": [
       "ISCHIA_cooccur (generic function with 1 method)"
      ]
     },
     "metadata": {},
     "output_type": "display_data"
    }
   ],
   "source": [
    "function ISCHIA_cooccur(mat, row_names; type=\"spp_site\", thresh=true, spp_names=false,\n",
    "    true_rand_classifier=0.1, prob=\"hyper\", site_mask=nothing,\n",
    "    only_effects=false, eff_standard=true, eff_matrix=false)\n",
    "\n",
    "    if type == \"spp_site\"\n",
    "        spp_site_mat = mat\n",
    "    elseif type == \"site_spp\"\n",
    "        spp_site_mat = transpose(mat)\n",
    "    else\n",
    "        error(\"Invalid 'type' parameter\")\n",
    "    end\n",
    "\n",
    "    if spp_names\n",
    "        spp_key = DataFrame(num=1:nrow(spp_site_mat), spp=row_names)\n",
    "    end\n",
    "\n",
    "    if !isnothing(site_mask)\n",
    "        if size(site_mask) == size(spp_site_mat)\n",
    "            N_matrix = calculate_cooccurrence_matrix(site_mask)\n",
    "        else\n",
    "            error(\"Incorrect dimensions for 'site_mask', aborting.\")\n",
    "        end\n",
    "    else\n",
    "        site_mask = ones(Int, size(spp_site_mat))\n",
    "        N_matrix = size(spp_site_mat, 2) * ones(Int, (size(spp_site_mat, 1), size(spp_site_mat, 1)))\n",
    "    end\n",
    "\n",
    "    tsites = size(spp_site_mat, 2)\n",
    "    nspp = size(spp_site_mat, 1)\n",
    "    spp_pairs = binomial(nspp, 2)\n",
    "\n",
    "    incidence = zeros(Int, size(N_matrix))\n",
    "    prob_occur = zeros(size(N_matrix))\n",
    "    \n",
    "    obs_cooccur = zeros(Int, spp_pairs, 3)\n",
    "    prob_cooccur = zeros(spp_pairs, 3)\n",
    "    exp_cooccur = zeros(spp_pairs, 3)\n",
    "\n",
    "    mat_matrix = Matrix(mat)\n",
    "    @showprogress \"Calculate Incidence\" for spp in 1:nspp\n",
    "        if spp < nspp\n",
    "            for spp_next in (spp + 1):nspp\n",
    "                incidence[spp, spp_next] = sum(site_mask[spp, :] .* site_mask[spp_next, :] .* mat_matrix[spp, :])\n",
    "                incidence[spp_next, spp] = sum(site_mask[spp, :] .* site_mask[spp_next, :] .* mat_matrix[spp_next, :])\n",
    "            end\n",
    "        end\n",
    "    end\n",
    "\n",
    "    prob_occur .= incidence ./ N_matrix;\n",
    "\n",
    "    row = 0\n",
    "    @showprogress \"Calculate Co-occurrences\" for spp in 1:nspp\n",
    "        if spp < nspp\n",
    "            for spp_next in (spp + 1):nspp\n",
    "                pairs = sum(mat_matrix[spp, site_mask[spp, :] .* site_mask[spp_next, :] .== 1] .== 1 .&\n",
    "                    mat_matrix[spp_next, site_mask[spp, :] .* site_mask[spp_next, :] .== 1] .== 1)\n",
    "                row += 1\n",
    "                obs_cooccur[row, 1] = spp\n",
    "                obs_cooccur[row, 2] = spp_next\n",
    "                obs_cooccur[row, 3] = pairs\n",
    "                prob_cooccur[row, 1] = spp\n",
    "                prob_cooccur[row, 2] = spp_next\n",
    "                prob_cooccur[row, 3] = prob_occur[spp, spp_next] * prob_occur[spp_next, spp]\n",
    "                exp_cooccur[row, 1] = spp\n",
    "                exp_cooccur[row, 2] = spp_next\n",
    "                exp_cooccur[row, 3] = prob_cooccur[row, 3] * N_matrix[spp, spp_next]\n",
    "            end\n",
    "        end\n",
    "    end\n",
    "\n",
    "    if thresh\n",
    "        n_pairs = size(prob_cooccur, 1)\n",
    "        mask = exp_cooccur[:, 3] .>= 1\n",
    "        prob_cooccur = prob_cooccur[mask, :]\n",
    "        obs_cooccur = obs_cooccur[mask, :]\n",
    "        exp_cooccur = exp_cooccur[mask, :]\n",
    "        n_omitted = n_pairs - size(prob_cooccur, 1)\n",
    "    end\n",
    "\n",
    "    output = DataFrame(sp1=Integer[], sp2=Integer[], sp1_inc=Integer[], sp2_inc=Integer[], \n",
    "        obs_cooccur=Integer[], prob_cooccur=Real[], exp_cooccur=Real[], p_lt=Real[], p_gt=Real[])\n",
    "\n",
    "    @showprogress \"Main Comp\" for row in 1:size(obs_cooccur, 1)\n",
    "        sp1 = obs_cooccur[row, 1]\n",
    "        sp2 = obs_cooccur[row, 2]\n",
    "        sp1_inc = convert(Integer, incidence[sp1, sp2])\n",
    "        sp2_inc = convert(Integer, incidence[sp2, sp1])\n",
    "        max_inc = max(sp1_inc, sp2_inc)\n",
    "        min_inc = min(sp1_inc, sp2_inc)\n",
    "        nsite = N_matrix[sp1, sp2]\n",
    "        psite = nsite + 1\n",
    "        prob_share_site = zeros(Float64, psite)\n",
    "        \n",
    "        if prob == \"hyper\"\n",
    "            if !only_effects\n",
    "                all_probs = phyper.(0:min_inc, min_inc, nsite - min_inc, max_inc)\n",
    "                prob_share_site[1] = all_probs[1]\n",
    "                for j in 2:length(all_probs)\n",
    "                    prob_share_site[j] = all_probs[j] - all_probs[j - 1]\n",
    "                end\n",
    "            else\n",
    "                for j in 0:nsite\n",
    "                    if (sp1_inc + sp2_inc) <= (nsite + j)\n",
    "                        if j <= min_inc\n",
    "                            prob_share_site[j + 1] = 1\n",
    "                        end\n",
    "                    end\n",
    "                end\n",
    "            end\n",
    "        end\n",
    "    \n",
    "        if prob == \"comb\"\n",
    "            if !only_effects\n",
    "                for j in 0:nsite\n",
    "                    if (sp1_inc + sp2_inc) <= (nsite + j)\n",
    "                        if j <= min_inc\n",
    "                            prob_share_site[j + 1] = calculate_conditional_probability(j, min_inc, max_inc, nsite)\n",
    "                        end\n",
    "                    end\n",
    "                end\n",
    "            else\n",
    "                for j in 0:nsite\n",
    "                    if (sp1_inc + sp2_inc) <= (nsite + j)\n",
    "                        if j <= min_inc\n",
    "                            prob_share_site[j + 1] = 1\n",
    "                        end\n",
    "                    end\n",
    "                end\n",
    "            end\n",
    "        end\n",
    "    \n",
    "        p_lt = 0.0\n",
    "        p_gt = 0.0\n",
    "        for j in 0:nsite\n",
    "            if j <= obs_cooccur[row, 3]\n",
    "                p_lt += prob_share_site[j + 1]\n",
    "            end\n",
    "            if j >= obs_cooccur[row, 3]\n",
    "                p_gt += prob_share_site[j + 1]\n",
    "            end\n",
    "            if j == obs_cooccur[row, 3]\n",
    "                p_exactly_obs = prob_share_site[j + 1]\n",
    "            end\n",
    "        end\n",
    "        \n",
    "        p_lt = round(p_lt, digits=5)\n",
    "        p_gt = round(p_gt, digits=5)\n",
    "        p_exactly_obs = round(p_exactly_obs, digits=5)\n",
    "        prob_cooccur[row, 3] = round(prob_cooccur[row, 3], digits=3)\n",
    "        exp_cooccur[row, 3] = round(exp_cooccur[row, 3], digits=1)\n",
    "        \n",
    "        push!(output, [sp1, sp2, sp1_inc, sp2_inc, obs_cooccur[row, 3],\n",
    "                        prob_cooccur[row, 3], exp_cooccur[row, 3], p_lt, p_gt])\n",
    "    end\n",
    "\n",
    "    if spp_names\n",
    "        sp1_name = leftjoin(DataFrame(order = 1:length(output.sp1), sp1 = output.sp1), spp_key, on = :sp1 => :num, makeunique = true)\n",
    "        sp2_name = leftjoin(DataFrame(order = 1:length(output.sp2), sp2 = output.sp2), spp_key, on = :sp2 => :num, makeunique = true)\n",
    "        \n",
    "        output.sp1_name = sp1_name[sortperm(sp1_name.order), \"spp\"]\n",
    "        output.sp2_name = sp2_name[sortperm(sp2_name.order), \"spp\"]\n",
    "    end\n",
    "\n",
    "    true_rand = count(x -> (x.p_gt >= 0.05 && x.p_lt >= 0.05 && abs(x.obs_cooccur - x.exp_cooccur) <= (tsites * true_rand_classifier)), eachrow(output))\n",
    "\n",
    "    output_dict = Dict(:results => output,\n",
    "                       :positive => count(x -> x.p_gt < 0.05, eachrow(output)),\n",
    "                       :negative => count(x -> x.p_lt < 0.05, eachrow(output)),\n",
    "                       :co_occurrences => count(x -> x.p_gt < 0.05 || x.p_lt < 0.05, eachrow(output)),\n",
    "                       :pairs => size(output, 1),\n",
    "                       :random => true_rand,\n",
    "                       :unclassifiable => size(output, 1) - (true_rand + count(x -> x.p_gt < 0.05, eachrow(output)) + count(x -> x.p_lt < 0.05, eachrow(output))),\n",
    "                       :sites => N_matrix,\n",
    "                       :species => nspp,\n",
    "                       :percent_sig => count(x -> x.p_gt < 0.05 || x.p_lt < 0.05, eachrow(output)) / size(output, 1) * 100,\n",
    "                       :true_rand_classifier => true_rand_classifier)\n",
    "\n",
    "    if spp_names\n",
    "        output_dict[:spp_key] = spp_key\n",
    "        output_dict[:spp_names] = row_names\n",
    "    else\n",
    "        output_dict[:spp_names] = 1:size(spp_site_mat, 1)\n",
    "    end\n",
    "\n",
    "    if thresh\n",
    "        output_dict[:omitted] = n_omitted\n",
    "        output_dict[:pot_pairs] = n_pairs\n",
    "    end\n",
    "\n",
    "    return output_dict\n",
    "    # if !only_effects\n",
    "    #     return output_dict\n",
    "    # else\n",
    "    #     return effect_sizes(output_dict, standardized=eff_standard, matrix=eff_matrix)\n",
    "    # end\n",
    "end"
   ]
  },
  {
   "cell_type": "code",
   "execution_count": 6,
   "metadata": {},
   "outputs": [
    {
     "name": "stderr",
     "output_type": "stream",
     "text": [
      "\r\u001b[32mCalculate Co-occurrences   1%|█                          |  ETA: 0:00:17\u001b[39m\u001b[K"
     ]
    },
    {
     "name": "stderr",
     "output_type": "stream",
     "text": [
      "\r\u001b[32mCalculate Co-occurrences 100%|███████████████████████████| Time: 0:00:00\u001b[39m\u001b[K\n"
     ]
    },
    {
     "data": {
      "text/plain": [
       "Dict{Symbol, Any} with 15 entries:\n",
       "  :percent_sig          => 25.0\n",
       "  :pairs                => 36\n",
       "  :pot_pairs            => 15576\n",
       "  :spp_names            => [\"AGRN\", \"TNFRSF14\", \"TNFRSF1B\", \"EPHB2\", \"PTCH2\", \"…\n",
       "  :sites                => [13 13 … 13 13; 13 13 … 13 13; … ; 13 13 … 13 13; 13…\n",
       "  :species              => 177\n",
       "  :true_rand_classifier => 0.1\n",
       "  :negative             => 0\n",
       "  :co_occurrences       => 9\n",
       "  :random               => 20\n",
       "  :unclassifiable       => 7\n",
       "  :results              => \u001b[1m36×11 DataFrame\u001b[0m\u001b[0m…\n",
       "  :positive             => 9\n",
       "  :spp_key              => \u001b[1m177×2 DataFrame\u001b[0m\u001b[0m…\n",
       "  :omitted              => 15540"
      ]
     },
     "metadata": {},
     "output_type": "display_data"
    }
   ],
   "source": [
    "output = ISCHIA_cooccur(coocur_COI_exp, coocur_COI.var.name; spp_names=true)"
   ]
  },
  {
   "cell_type": "code",
   "execution_count": 32,
   "metadata": {},
   "outputs": [
    {
     "data": {
      "text/html": [
       "<div><div style = \"float: left;\"><span>36×11 DataFrame</span></div><div style = \"float: right;\"><span style = \"font-style: italic;\">11 rows omitted</span></div><div style = \"clear: both;\"></div></div><div class = \"data-frame\" style = \"overflow-x: scroll;\"><table class = \"data-frame\" style = \"margin-bottom: 6px;\"><thead><tr class = \"header\"><th class = \"rowNumber\" style = \"font-weight: bold; text-align: right;\">Row</th><th style = \"text-align: left;\">sp1</th><th style = \"text-align: left;\">sp2</th><th style = \"text-align: left;\">sp1_inc</th><th style = \"text-align: left;\">sp2_inc</th><th style = \"text-align: left;\">obs_cooccur</th><th style = \"text-align: left;\">prob_cooccur</th><th style = \"text-align: left;\">exp_cooccur</th><th style = \"text-align: left;\">p_lt</th><th style = \"text-align: left;\">p_gt</th><th style = \"text-align: left;\">sp1_name</th><th style = \"text-align: left;\">sp2_name</th></tr><tr class = \"subheader headerLastRow\"><th class = \"rowNumber\" style = \"font-weight: bold; text-align: right;\"></th><th title = \"Integer\" style = \"text-align: left;\">Integer</th><th title = \"Integer\" style = \"text-align: left;\">Integer</th><th title = \"Integer\" style = \"text-align: left;\">Integer</th><th title = \"Integer\" style = \"text-align: left;\">Integer</th><th title = \"Integer\" style = \"text-align: left;\">Integer</th><th title = \"Real\" style = \"text-align: left;\">Real</th><th title = \"Real\" style = \"text-align: left;\">Real</th><th title = \"Real\" style = \"text-align: left;\">Real</th><th title = \"Real\" style = \"text-align: left;\">Real</th><th title = \"Union{Missing, String}\" style = \"text-align: left;\">String?</th><th title = \"Union{Missing, String}\" style = \"text-align: left;\">String?</th></tr></thead><tbody><tr><td class = \"rowNumber\" style = \"font-weight: bold; text-align: right;\">1</td><td style = \"text-align: right;\">23</td><td style = \"text-align: right;\">36</td><td style = \"text-align: right;\">4</td><td style = \"text-align: right;\">5</td><td style = \"text-align: right;\">3</td><td style = \"text-align: right;\">0.118</td><td style = \"text-align: right;\">1.5</td><td style = \"text-align: right;\">0.99301</td><td style = \"text-align: right;\">0.11888</td><td style = \"text-align: left;\">CXCR4</td><td style = \"text-align: left;\">RPSA</td></tr><tr><td class = \"rowNumber\" style = \"font-weight: bold; text-align: right;\">2</td><td style = \"text-align: right;\">23</td><td style = \"text-align: right;\">85</td><td style = \"text-align: right;\">4</td><td style = \"text-align: right;\">5</td><td style = \"text-align: right;\">3</td><td style = \"text-align: right;\">0.118</td><td style = \"text-align: right;\">1.5</td><td style = \"text-align: right;\">0.99301</td><td style = \"text-align: right;\">0.11888</td><td style = \"text-align: left;\">CXCR4</td><td style = \"text-align: left;\">CCL21</td></tr><tr><td class = \"rowNumber\" style = \"font-weight: bold; text-align: right;\">3</td><td style = \"text-align: right;\">23</td><td style = \"text-align: right;\">108</td><td style = \"text-align: right;\">4</td><td style = \"text-align: right;\">4</td><td style = \"text-align: right;\">2</td><td style = \"text-align: right;\">0.095</td><td style = \"text-align: right;\">1.2</td><td style = \"text-align: right;\">0.94825</td><td style = \"text-align: right;\">0.35385</td><td style = \"text-align: left;\">CXCR4</td><td style = \"text-align: left;\">A2M</td></tr><tr><td class = \"rowNumber\" style = \"font-weight: bold; text-align: right;\">4</td><td style = \"text-align: right;\">23</td><td style = \"text-align: right;\">117</td><td style = \"text-align: right;\">4</td><td style = \"text-align: right;\">4</td><td style = \"text-align: right;\">2</td><td style = \"text-align: right;\">0.095</td><td style = \"text-align: right;\">1.2</td><td style = \"text-align: right;\">0.94825</td><td style = \"text-align: right;\">0.35385</td><td style = \"text-align: left;\">CXCR4</td><td style = \"text-align: left;\">HSP90B1</td></tr><tr><td class = \"rowNumber\" style = \"font-weight: bold; text-align: right;\">5</td><td style = \"text-align: right;\">23</td><td style = \"text-align: right;\">129</td><td style = \"text-align: right;\">4</td><td style = \"text-align: right;\">8</td><td style = \"text-align: right;\">3</td><td style = \"text-align: right;\">0.189</td><td style = \"text-align: right;\">2.5</td><td style = \"text-align: right;\">0.9021</td><td style = \"text-align: right;\">0.48951</td><td style = \"text-align: left;\">CXCR4</td><td style = \"text-align: left;\">THBS1</td></tr><tr><td class = \"rowNumber\" style = \"font-weight: bold; text-align: right;\">6</td><td style = \"text-align: right;\">23</td><td style = \"text-align: right;\">156</td><td style = \"text-align: right;\">4</td><td style = \"text-align: right;\">5</td><td style = \"text-align: right;\">4</td><td style = \"text-align: right;\">0.118</td><td style = \"text-align: right;\">1.5</td><td style = \"text-align: right;\">1.0</td><td style = \"text-align: right;\">0.00699</td><td style = \"text-align: left;\">CXCR4</td><td style = \"text-align: left;\">C3</td></tr><tr><td class = \"rowNumber\" style = \"font-weight: bold; text-align: right;\">7</td><td style = \"text-align: right;\">36</td><td style = \"text-align: right;\">60</td><td style = \"text-align: right;\">5</td><td style = \"text-align: right;\">3</td><td style = \"text-align: right;\">2</td><td style = \"text-align: right;\">0.089</td><td style = \"text-align: right;\">1.2</td><td style = \"text-align: right;\">0.96503</td><td style = \"text-align: right;\">0.31469</td><td style = \"text-align: left;\">RPSA</td><td style = \"text-align: left;\">IL7R</td></tr><tr><td class = \"rowNumber\" style = \"font-weight: bold; text-align: right;\">8</td><td style = \"text-align: right;\">36</td><td style = \"text-align: right;\">85</td><td style = \"text-align: right;\">5</td><td style = \"text-align: right;\">5</td><td style = \"text-align: right;\">4</td><td style = \"text-align: right;\">0.148</td><td style = \"text-align: right;\">1.9</td><td style = \"text-align: right;\">0.99922</td><td style = \"text-align: right;\">0.03186</td><td style = \"text-align: left;\">RPSA</td><td style = \"text-align: left;\">CCL21</td></tr><tr><td class = \"rowNumber\" style = \"font-weight: bold; text-align: right;\">9</td><td style = \"text-align: right;\">36</td><td style = \"text-align: right;\">103</td><td style = \"text-align: right;\">5</td><td style = \"text-align: right;\">3</td><td style = \"text-align: right;\">3</td><td style = \"text-align: right;\">0.089</td><td style = \"text-align: right;\">1.2</td><td style = \"text-align: right;\">1.0</td><td style = \"text-align: right;\">0.03497</td><td style = \"text-align: left;\">RPSA</td><td style = \"text-align: left;\">GSTP1</td></tr><tr><td class = \"rowNumber\" style = \"font-weight: bold; text-align: right;\">10</td><td style = \"text-align: right;\">36</td><td style = \"text-align: right;\">108</td><td style = \"text-align: right;\">5</td><td style = \"text-align: right;\">4</td><td style = \"text-align: right;\">3</td><td style = \"text-align: right;\">0.118</td><td style = \"text-align: right;\">1.5</td><td style = \"text-align: right;\">0.99301</td><td style = \"text-align: right;\">0.11888</td><td style = \"text-align: left;\">RPSA</td><td style = \"text-align: left;\">A2M</td></tr><tr><td class = \"rowNumber\" style = \"font-weight: bold; text-align: right;\">11</td><td style = \"text-align: right;\">36</td><td style = \"text-align: right;\">117</td><td style = \"text-align: right;\">5</td><td style = \"text-align: right;\">4</td><td style = \"text-align: right;\">3</td><td style = \"text-align: right;\">0.118</td><td style = \"text-align: right;\">1.5</td><td style = \"text-align: right;\">0.99301</td><td style = \"text-align: right;\">0.11888</td><td style = \"text-align: left;\">RPSA</td><td style = \"text-align: left;\">HSP90B1</td></tr><tr><td class = \"rowNumber\" style = \"font-weight: bold; text-align: right;\">12</td><td style = \"text-align: right;\">36</td><td style = \"text-align: right;\">129</td><td style = \"text-align: right;\">5</td><td style = \"text-align: right;\">8</td><td style = \"text-align: right;\">3</td><td style = \"text-align: right;\">0.237</td><td style = \"text-align: right;\">3.1</td><td style = \"text-align: right;\">0.68454</td><td style = \"text-align: right;\">0.75058</td><td style = \"text-align: left;\">RPSA</td><td style = \"text-align: left;\">THBS1</td></tr><tr><td class = \"rowNumber\" style = \"font-weight: bold; text-align: right;\">13</td><td style = \"text-align: right;\">36</td><td style = \"text-align: right;\">156</td><td style = \"text-align: right;\">5</td><td style = \"text-align: right;\">5</td><td style = \"text-align: right;\">4</td><td style = \"text-align: right;\">0.148</td><td style = \"text-align: right;\">1.9</td><td style = \"text-align: right;\">0.99922</td><td style = \"text-align: right;\">0.03186</td><td style = \"text-align: left;\">RPSA</td><td style = \"text-align: left;\">C3</td></tr><tr><td style = \"text-align: right;\">&vellip;</td><td style = \"text-align: right;\">&vellip;</td><td style = \"text-align: right;\">&vellip;</td><td style = \"text-align: right;\">&vellip;</td><td style = \"text-align: right;\">&vellip;</td><td style = \"text-align: right;\">&vellip;</td><td style = \"text-align: right;\">&vellip;</td><td style = \"text-align: right;\">&vellip;</td><td style = \"text-align: right;\">&vellip;</td><td style = \"text-align: right;\">&vellip;</td><td style = \"text-align: right;\">&vellip;</td><td style = \"text-align: right;\">&vellip;</td></tr><tr><td class = \"rowNumber\" style = \"font-weight: bold; text-align: right;\">25</td><td style = \"text-align: right;\">103</td><td style = \"text-align: right;\">129</td><td style = \"text-align: right;\">3</td><td style = \"text-align: right;\">8</td><td style = \"text-align: right;\">2</td><td style = \"text-align: right;\">0.142</td><td style = \"text-align: right;\">1.8</td><td style = \"text-align: right;\">0.8042</td><td style = \"text-align: right;\">0.68531</td><td style = \"text-align: left;\">GSTP1</td><td style = \"text-align: left;\">THBS1</td></tr><tr><td class = \"rowNumber\" style = \"font-weight: bold; text-align: right;\">26</td><td style = \"text-align: right;\">103</td><td style = \"text-align: right;\">156</td><td style = \"text-align: right;\">3</td><td style = \"text-align: right;\">5</td><td style = \"text-align: right;\">3</td><td style = \"text-align: right;\">0.089</td><td style = \"text-align: right;\">1.2</td><td style = \"text-align: right;\">1.0</td><td style = \"text-align: right;\">0.03497</td><td style = \"text-align: left;\">GSTP1</td><td style = \"text-align: left;\">C3</td></tr><tr><td class = \"rowNumber\" style = \"font-weight: bold; text-align: right;\">27</td><td style = \"text-align: right;\">108</td><td style = \"text-align: right;\">117</td><td style = \"text-align: right;\">4</td><td style = \"text-align: right;\">4</td><td style = \"text-align: right;\">2</td><td style = \"text-align: right;\">0.095</td><td style = \"text-align: right;\">1.2</td><td style = \"text-align: right;\">0.94825</td><td style = \"text-align: right;\">0.35385</td><td style = \"text-align: left;\">A2M</td><td style = \"text-align: left;\">HSP90B1</td></tr><tr><td class = \"rowNumber\" style = \"font-weight: bold; text-align: right;\">28</td><td style = \"text-align: right;\">108</td><td style = \"text-align: right;\">129</td><td style = \"text-align: right;\">4</td><td style = \"text-align: right;\">8</td><td style = \"text-align: right;\">2</td><td style = \"text-align: right;\">0.189</td><td style = \"text-align: right;\">2.5</td><td style = \"text-align: right;\">0.51049</td><td style = \"text-align: right;\">0.88112</td><td style = \"text-align: left;\">A2M</td><td style = \"text-align: left;\">THBS1</td></tr><tr><td class = \"rowNumber\" style = \"font-weight: bold; text-align: right;\">29</td><td style = \"text-align: right;\">108</td><td style = \"text-align: right;\">156</td><td style = \"text-align: right;\">4</td><td style = \"text-align: right;\">5</td><td style = \"text-align: right;\">3</td><td style = \"text-align: right;\">0.118</td><td style = \"text-align: right;\">1.5</td><td style = \"text-align: right;\">0.99301</td><td style = \"text-align: right;\">0.11888</td><td style = \"text-align: left;\">A2M</td><td style = \"text-align: left;\">C3</td></tr><tr><td class = \"rowNumber\" style = \"font-weight: bold; text-align: right;\">30</td><td style = \"text-align: right;\">117</td><td style = \"text-align: right;\">129</td><td style = \"text-align: right;\">4</td><td style = \"text-align: right;\">8</td><td style = \"text-align: right;\">3</td><td style = \"text-align: right;\">0.189</td><td style = \"text-align: right;\">2.5</td><td style = \"text-align: right;\">0.9021</td><td style = \"text-align: right;\">0.48951</td><td style = \"text-align: left;\">HSP90B1</td><td style = \"text-align: left;\">THBS1</td></tr><tr><td class = \"rowNumber\" style = \"font-weight: bold; text-align: right;\">31</td><td style = \"text-align: right;\">117</td><td style = \"text-align: right;\">156</td><td style = \"text-align: right;\">4</td><td style = \"text-align: right;\">5</td><td style = \"text-align: right;\">3</td><td style = \"text-align: right;\">0.118</td><td style = \"text-align: right;\">1.5</td><td style = \"text-align: right;\">0.99301</td><td style = \"text-align: right;\">0.11888</td><td style = \"text-align: left;\">HSP90B1</td><td style = \"text-align: left;\">C3</td></tr><tr><td class = \"rowNumber\" style = \"font-weight: bold; text-align: right;\">32</td><td style = \"text-align: right;\">125</td><td style = \"text-align: right;\">129</td><td style = \"text-align: right;\">2</td><td style = \"text-align: right;\">8</td><td style = \"text-align: right;\">2</td><td style = \"text-align: right;\">0.095</td><td style = \"text-align: right;\">1.2</td><td style = \"text-align: right;\">1.0</td><td style = \"text-align: right;\">0.35897</td><td style = \"text-align: left;\">CALM1</td><td style = \"text-align: left;\">THBS1</td></tr><tr><td class = \"rowNumber\" style = \"font-weight: bold; text-align: right;\">33</td><td style = \"text-align: right;\">129</td><td style = \"text-align: right;\">156</td><td style = \"text-align: right;\">8</td><td style = \"text-align: right;\">5</td><td style = \"text-align: right;\">4</td><td style = \"text-align: right;\">0.237</td><td style = \"text-align: right;\">3.1</td><td style = \"text-align: right;\">0.95649</td><td style = \"text-align: right;\">0.31546</td><td style = \"text-align: left;\">THBS1</td><td style = \"text-align: left;\">C3</td></tr><tr><td class = \"rowNumber\" style = \"font-weight: bold; text-align: right;\">34</td><td style = \"text-align: right;\">129</td><td style = \"text-align: right;\">157</td><td style = \"text-align: right;\">8</td><td style = \"text-align: right;\">3</td><td style = \"text-align: right;\">2</td><td style = \"text-align: right;\">0.142</td><td style = \"text-align: right;\">1.8</td><td style = \"text-align: right;\">0.8042</td><td style = \"text-align: right;\">0.68531</td><td style = \"text-align: left;\">THBS1</td><td style = \"text-align: left;\">CALR</td></tr><tr><td class = \"rowNumber\" style = \"font-weight: bold; text-align: right;\">35</td><td style = \"text-align: right;\">129</td><td style = \"text-align: right;\">164</td><td style = \"text-align: right;\">8</td><td style = \"text-align: right;\">2</td><td style = \"text-align: right;\">1</td><td style = \"text-align: right;\">0.095</td><td style = \"text-align: right;\">1.2</td><td style = \"text-align: right;\">0.64103</td><td style = \"text-align: right;\">0.87179</td><td style = \"text-align: left;\">THBS1</td><td style = \"text-align: left;\">APOE</td></tr><tr><td class = \"rowNumber\" style = \"font-weight: bold; text-align: right;\">36</td><td style = \"text-align: right;\">156</td><td style = \"text-align: right;\">157</td><td style = \"text-align: right;\">5</td><td style = \"text-align: right;\">3</td><td style = \"text-align: right;\">2</td><td style = \"text-align: right;\">0.089</td><td style = \"text-align: right;\">1.2</td><td style = \"text-align: right;\">0.96503</td><td style = \"text-align: right;\">0.31469</td><td style = \"text-align: left;\">C3</td><td style = \"text-align: left;\">CALR</td></tr></tbody></table></div>"
      ],
      "text/latex": [
       "\\begin{tabular}{r|ccccccccc}\n",
       "\t& sp1 & sp2 & sp1\\_inc & sp2\\_inc & obs\\_cooccur & prob\\_cooccur & exp\\_cooccur & p\\_lt & \\\\\n",
       "\t\\hline\n",
       "\t& Integer & Integer & Integer & Integer & Integer & Real & Real & Real & \\\\\n",
       "\t\\hline\n",
       "\t1 & 23 & 36 & 4 & 5 & 3 & 0.118 & 1.5 & 0.99301 & $\\dots$ \\\\\n",
       "\t2 & 23 & 85 & 4 & 5 & 3 & 0.118 & 1.5 & 0.99301 & $\\dots$ \\\\\n",
       "\t3 & 23 & 108 & 4 & 4 & 2 & 0.095 & 1.2 & 0.94825 & $\\dots$ \\\\\n",
       "\t4 & 23 & 117 & 4 & 4 & 2 & 0.095 & 1.2 & 0.94825 & $\\dots$ \\\\\n",
       "\t5 & 23 & 129 & 4 & 8 & 3 & 0.189 & 2.5 & 0.9021 & $\\dots$ \\\\\n",
       "\t6 & 23 & 156 & 4 & 5 & 4 & 0.118 & 1.5 & 1.0 & $\\dots$ \\\\\n",
       "\t7 & 36 & 60 & 5 & 3 & 2 & 0.089 & 1.2 & 0.96503 & $\\dots$ \\\\\n",
       "\t8 & 36 & 85 & 5 & 5 & 4 & 0.148 & 1.9 & 0.99922 & $\\dots$ \\\\\n",
       "\t9 & 36 & 103 & 5 & 3 & 3 & 0.089 & 1.2 & 1.0 & $\\dots$ \\\\\n",
       "\t10 & 36 & 108 & 5 & 4 & 3 & 0.118 & 1.5 & 0.99301 & $\\dots$ \\\\\n",
       "\t11 & 36 & 117 & 5 & 4 & 3 & 0.118 & 1.5 & 0.99301 & $\\dots$ \\\\\n",
       "\t12 & 36 & 129 & 5 & 8 & 3 & 0.237 & 3.1 & 0.68454 & $\\dots$ \\\\\n",
       "\t13 & 36 & 156 & 5 & 5 & 4 & 0.148 & 1.9 & 0.99922 & $\\dots$ \\\\\n",
       "\t14 & 36 & 157 & 5 & 3 & 2 & 0.089 & 1.2 & 0.96503 & $\\dots$ \\\\\n",
       "\t15 & 60 & 85 & 3 & 5 & 3 & 0.089 & 1.2 & 1.0 & $\\dots$ \\\\\n",
       "\t16 & 60 & 129 & 3 & 8 & 2 & 0.142 & 1.8 & 0.8042 & $\\dots$ \\\\\n",
       "\t17 & 60 & 156 & 3 & 5 & 3 & 0.089 & 1.2 & 1.0 & $\\dots$ \\\\\n",
       "\t18 & 85 & 103 & 5 & 3 & 3 & 0.089 & 1.2 & 1.0 & $\\dots$ \\\\\n",
       "\t19 & 85 & 108 & 5 & 4 & 2 & 0.118 & 1.5 & 0.88112 & $\\dots$ \\\\\n",
       "\t20 & 85 & 117 & 5 & 4 & 3 & 0.118 & 1.5 & 0.99301 & $\\dots$ \\\\\n",
       "\t21 & 85 & 129 & 5 & 8 & 3 & 0.237 & 3.1 & 0.68454 & $\\dots$ \\\\\n",
       "\t22 & 85 & 156 & 5 & 5 & 4 & 0.148 & 1.9 & 0.99922 & $\\dots$ \\\\\n",
       "\t23 & 85 & 157 & 5 & 3 & 1 & 0.089 & 1.2 & 0.68531 & $\\dots$ \\\\\n",
       "\t24 & 99 & 129 & 2 & 8 & 1 & 0.095 & 1.2 & 0.64103 & $\\dots$ \\\\\n",
       "\t$\\dots$ & $\\dots$ & $\\dots$ & $\\dots$ & $\\dots$ & $\\dots$ & $\\dots$ & $\\dots$ & $\\dots$ &  \\\\\n",
       "\\end{tabular}\n"
      ],
      "text/plain": [
       "\u001b[1m36×11 DataFrame\u001b[0m\n",
       "\u001b[1m Row \u001b[0m│\u001b[1m sp1     \u001b[0m\u001b[1m sp2     \u001b[0m\u001b[1m sp1_inc \u001b[0m\u001b[1m sp2_inc \u001b[0m\u001b[1m obs_cooccur \u001b[0m\u001b[1m prob_cooccur \u001b[0m\u001b[1m exp_cooc\u001b[0m ⋯\n",
       "     │\u001b[90m Integer \u001b[0m\u001b[90m Integer \u001b[0m\u001b[90m Integer \u001b[0m\u001b[90m Integer \u001b[0m\u001b[90m Integer     \u001b[0m\u001b[90m Real         \u001b[0m\u001b[90m Real    \u001b[0m ⋯\n",
       "─────┼──────────────────────────────────────────────────────────────────────────\n",
       "   1 │      23       36        4        5            3         0.118           ⋯\n",
       "   2 │      23       85        4        5            3         0.118\n",
       "   3 │      23      108        4        4            2         0.095\n",
       "   4 │      23      117        4        4            2         0.095\n",
       "   5 │      23      129        4        8            3         0.189           ⋯\n",
       "   6 │      23      156        4        5            4         0.118\n",
       "   7 │      36       60        5        3            2         0.089\n",
       "   8 │      36       85        5        5            4         0.148\n",
       "  ⋮  │    ⋮        ⋮        ⋮        ⋮          ⋮            ⋮             ⋮   ⋱\n",
       "  30 │     117      129        4        8            3         0.189           ⋯\n",
       "  31 │     117      156        4        5            3         0.118\n",
       "  32 │     125      129        2        8            2         0.095\n",
       "  33 │     129      156        8        5            4         0.237\n",
       "  34 │     129      157        8        3            2         0.142           ⋯\n",
       "  35 │     129      164        8        2            1         0.095\n",
       "  36 │     156      157        5        3            2         0.089\n",
       "\u001b[36m                                                   5 columns and 21 rows omitted\u001b[0m"
      ]
     },
     "metadata": {},
     "output_type": "display_data"
    }
   ],
   "source": [
    "output[:results]"
   ]
  },
  {
   "cell_type": "code",
   "execution_count": null,
   "metadata": {},
   "outputs": [],
   "source": [
    "\"\"\"\n",
    "Calculate the co-occurrence matrix N from a binary species-site matrix.\n",
    "\n",
    "This function creates a species by species matrix of potential co-occurring sites (N) from a binary species by site matrix, where 1 represents potential occupancy, and 0 indicates species absence.\n",
    "\n",
    "# Arguments\n",
    "- `mat::Matrix{Int}`: A binary species by site matrix.\n",
    "- `row_names::Vector{String}`: Names of species corresponding to rows in the matrix.\n",
    "- `type::String`: Type of analysis (\"spp_site\" or \"site_spp\").\n",
    "- `thresh::Bool`: Apply a threshold to exclude low co-occurrence pairs.\n",
    "- `spp_names::Bool`: Include species names in the output.\n",
    "- `true_rand_classifier::Float64`: Classifier for identifying truly random pairs.\n",
    "- `prob::String`: Probability calculation method (\"hyper\" or \"comb\").\n",
    "- `site_mask::Matrix{Int}`: Binary site mask.\n",
    "- `only_effects::Bool`: Calculate effect sizes if true.\n",
    "- `eff_standard::Bool`: Use standardized effect sizes.\n",
    "- `eff_matrix::Bool`: Output effect sizes as a matrix.\n",
    "\n",
    "# Returns\n",
    "A dictionary with various co-occurrence statistics and options.\n",
    "\n",
    "\"\"\"\n",
    "function calculate_cooccurrence_stats(\n",
    "    mat::Matrix{Bool},\n",
    "    row_names::Vector{String},\n",
    "    type::String = \"spp_site\",\n",
    "    thresh::Bool = true,\n",
    "    spp_names::Bool = false,\n",
    "    true_rand_classifier::Float64 = 0.1,\n",
    "    prob::String = \"hyper\",\n",
    "    site_mask::Union{Nothing, Matrix{Int}} = nothing,\n",
    "    only_effects::Bool = false,\n",
    "    eff_standard::Bool = true,\n",
    "    eff_matrix::Bool = false\n",
    ")\n",
    "    # Initialize variables and matrices\n",
    "    spp_site_mat = get_species_site_matrix(mat, type)\n",
    "    spp_key = spp_names ? DataFrame(num=1:nrow(spp_site_mat), spp=row_names) : nothing\n",
    "    site_mask, N_matrix = create_site_mask_and_N_matrix(site_mask, spp_site_mat)\n",
    "    \n",
    "    nspp = size(spp_site_mat, 1)\n",
    "    spp_pairs = binomial(nspp, 2)\n",
    "    \n",
    "    incidence = calculate_incidence_matrix(mat, site_mask)\n",
    "    prob_occur = calculate_probability_matrix(incidence, N_matrix)\n",
    "    \n",
    "    obs_cooccur, prob_cooccur, exp_cooccur = calculate_cooccurrence_data(mat, site_mask, spp_pairs, prob_occur)\n",
    "    \n",
    "    if thresh\n",
    "        obs_cooccur, prob_cooccur, exp_cooccur, n_omitted = apply_threshold(obs_cooccur, prob_cooccur, exp_cooccur)\n",
    "    end\n",
    "    \n",
    "    output = create_output_dataframe(obs_cooccur, prob_cooccur, exp_cooccur, spp_names, spp_key)\n",
    "    \n",
    "    true_rand = count_true_random_pairs(output, nspp, spp_pairs, true_rand_classifier)\n",
    "    \n",
    "    output_dict = create_output_dict(output, spp_names, row_names, thresh, n_omitted, spp_site_mat, nspp, true_rand_classifier)\n",
    "    \n",
    "    if only_effects\n",
    "        output_dict = calculate_effect_sizes(output_dict, eff_standard, eff_matrix)\n",
    "    end\n",
    "\n",
    "    return output_dict\n",
    "end\n",
    "\n",
    "# Define the remaining functions here...\n",
    "\n",
    "# Example of usage:\n",
    "# result = calculate_cooccurrence_stats(mat, row_names)"
   ]
  }
 ],
 "metadata": {
  "kernelspec": {
   "display_name": "Julia 1.9.3",
   "language": "julia",
   "name": "julia-1.9"
  },
  "language_info": {
   "file_extension": ".jl",
   "mimetype": "application/julia",
   "name": "julia",
   "version": "1.9.3"
  },
  "orig_nbformat": 4
 },
 "nbformat": 4,
 "nbformat_minor": 2
}
